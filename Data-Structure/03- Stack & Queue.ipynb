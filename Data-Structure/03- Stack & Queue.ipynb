{
 "cells": [
  {
   "cell_type": "markdown",
   "id": "great-necklace",
   "metadata": {},
   "source": [
    "# 03-Stack & Queue"
   ]
  },
  {
   "cell_type": "markdown",
   "id": "median-buffalo",
   "metadata": {},
   "source": [
    "<a id='Table_of_Contents'></a>\n",
    "## Table of Contents:\n",
    "\n",
    "* [Table of Contents](#Table_of_Contents)\n",
    "* [Stack](#Stack)\n",
    "    - [Stack vs. Array](#Stack_vs_Array)\n",
    "* [Queue](#Queue)\n",
    "* [Stack & Queue in python](#Stack_Queue)-\n",
    "    - [the ```list``` Built-in](#the_list_Built-in)\n",
    "    - [the ```collections.deque``` Class](#the_collections_Class)\n",
    "* [Python List Size & Capacity](#Python_List_Size_Capacity)"
   ]
  },
  {
   "cell_type": "markdown",
   "id": "banned-macro",
   "metadata": {},
   "source": [
    "<a id='Stack'></a>\n",
    "## Stack"
   ]
  },
  {
   "cell_type": "markdown",
   "id": "liked-aspect",
   "metadata": {},
   "source": [
    "A stack uses LIFO (last-in first-out) ordering. As in the stack of dinner plates, the most recent item added to the stack is the first item to be removed.\n",
    "\n",
    "It uses the following operations:\n",
    "\n",
    "- ```pop()```: Remove the top item from the stack.\n",
    "- ```push()```: Add an item to the top of the stack.\n",
    "- ```peek()```: Return the top of the stack.\n",
    "- ```isEmpty()```: Return true if and only if the stack is empty."
   ]
  },
  {
   "cell_type": "markdown",
   "id": "nonprofit-coast",
   "metadata": {},
   "source": [
    "The ```list``` in python is the closest object to stack!\n",
    "\n",
    "**In fact**: all data types in python are handled by ```list```"
   ]
  },
  {
   "cell_type": "code",
   "execution_count": 1,
   "id": "retained-pharmacy",
   "metadata": {},
   "outputs": [],
   "source": [
    "x = []"
   ]
  },
  {
   "cell_type": "markdown",
   "id": "medieval-silly",
   "metadata": {},
   "source": [
    "```push()``` in python is performed by ```append()```:"
   ]
  },
  {
   "cell_type": "code",
   "execution_count": 2,
   "id": "hollow-lecture",
   "metadata": {},
   "outputs": [],
   "source": [
    "x.append(1)"
   ]
  },
  {
   "cell_type": "code",
   "execution_count": 3,
   "id": "separated-browser",
   "metadata": {},
   "outputs": [],
   "source": [
    "x.append(2)"
   ]
  },
  {
   "cell_type": "code",
   "execution_count": 4,
   "id": "contemporary-parking",
   "metadata": {},
   "outputs": [
    {
     "data": {
      "text/plain": [
       "[1, 2]"
      ]
     },
     "execution_count": 4,
     "metadata": {},
     "output_type": "execute_result"
    }
   ],
   "source": [
    "x"
   ]
  },
  {
   "cell_type": "code",
   "execution_count": 5,
   "id": "interracial-belle",
   "metadata": {},
   "outputs": [
    {
     "data": {
      "text/plain": [
       "2"
      ]
     },
     "execution_count": 5,
     "metadata": {},
     "output_type": "execute_result"
    }
   ],
   "source": [
    "x.pop()"
   ]
  },
  {
   "cell_type": "code",
   "execution_count": 6,
   "id": "massive-interview",
   "metadata": {},
   "outputs": [
    {
     "data": {
      "text/plain": [
       "[1]"
      ]
     },
     "execution_count": 6,
     "metadata": {},
     "output_type": "execute_result"
    }
   ],
   "source": [
    "x"
   ]
  },
  {
   "cell_type": "code",
   "execution_count": 7,
   "id": "dedicated-movement",
   "metadata": {},
   "outputs": [],
   "source": [
    "x = [1, 2, 3, 4, 5]"
   ]
  },
  {
   "cell_type": "markdown",
   "id": "entire-defeat",
   "metadata": {},
   "source": [
    "deleting the *last* element of a ```list```:"
   ]
  },
  {
   "cell_type": "code",
   "execution_count": 8,
   "id": "aquatic-track",
   "metadata": {},
   "outputs": [
    {
     "data": {
      "text/plain": [
       "5"
      ]
     },
     "execution_count": 8,
     "metadata": {},
     "output_type": "execute_result"
    }
   ],
   "source": [
    "x.pop()"
   ]
  },
  {
   "cell_type": "code",
   "execution_count": 9,
   "id": "civil-minority",
   "metadata": {},
   "outputs": [
    {
     "data": {
      "text/plain": [
       "[1, 2, 3, 4]"
      ]
     },
     "execution_count": 9,
     "metadata": {},
     "output_type": "execute_result"
    }
   ],
   "source": [
    "x"
   ]
  },
  {
   "cell_type": "markdown",
   "id": "existing-nickel",
   "metadata": {},
   "source": [
    "deleting the *first* element of a ```list```:"
   ]
  },
  {
   "cell_type": "code",
   "execution_count": 10,
   "id": "according-minnesota",
   "metadata": {},
   "outputs": [],
   "source": [
    "del x[0]"
   ]
  },
  {
   "cell_type": "code",
   "execution_count": 11,
   "id": "flexible-librarian",
   "metadata": {},
   "outputs": [
    {
     "data": {
      "text/plain": [
       "[2, 3, 4]"
      ]
     },
     "execution_count": 11,
     "metadata": {},
     "output_type": "execute_result"
    }
   ],
   "source": [
    "x"
   ]
  },
  {
   "cell_type": "markdown",
   "id": "sufficient-shower",
   "metadata": {},
   "source": [
    "Compared to ```pop()``` the `del x[]` operation is heavier! consider the worst case scenario of deleting a middle element! the whole new vector of x should be shifted. remember that deletion in list is O(n)."
   ]
  },
  {
   "cell_type": "code",
   "execution_count": null,
   "id": "important-breakfast",
   "metadata": {},
   "outputs": [],
   "source": []
  },
  {
   "cell_type": "markdown",
   "id": "premier-livestock",
   "metadata": {},
   "source": [
    "<a id='Stack_vs_Array'></a>\n",
    "### Stacks vs. Array"
   ]
  },
  {
   "cell_type": "markdown",
   "id": "opposed-layout",
   "metadata": {},
   "source": [
    "- An array is a contiguous block of memory. A stack is a first-in-last-out data structure with access only to the top of the data. In stack we lose the ability of constant-time access to the ith item. However, it allows constant time add and removes as it doesn't require shifting elements around.\n",
    "- Since many languages do not provide facility for stack, it is backed by either arrays or linked list.\n",
    "- In arrays, the values can be added or deleted on any side, but in stack the other side is sealed."
   ]
  },
  {
   "cell_type": "markdown",
   "id": "clean-chambers",
   "metadata": {},
   "source": [
    "![stack](./images/stack.jpg)"
   ]
  },
  {
   "cell_type": "markdown",
   "id": "closing-glenn",
   "metadata": {},
   "source": [
    "<a id='Queue'></a>\n",
    "## Queue"
   ]
  },
  {
   "cell_type": "markdown",
   "id": "involved-advertising",
   "metadata": {},
   "source": [
    "A queue implements FIFO (first-in first-out) ordering.\n",
    "\n",
    "It uses the following operations:\n",
    "\n",
    "- ```add(item)```: Add an item to the end of the list.\n",
    "- ```remove()```: Remove the first item in the list.\n",
    "- ```peek()```: Return the top of the queue.\n",
    "- ```isEmpty()```:Return true if and only if the queue is empty.\n",
    "\n",
    "A queue can be implemented with a ***linked list***. In fact, they are essentially the same thing as long as items are added and removed from opposite sides."
   ]
  },
  {
   "cell_type": "markdown",
   "id": "automated-character",
   "metadata": {},
   "source": [
    "| Data Structure | Time Complexity | | | | Space Complexity |\n",
    "| :- | :- | :- | :- | :- | :- |\n",
    "| | Access | Search | Insertion | Deletion |\n",
    "| Stack | O(n) | O(n) | O(1) | O(1) \n",
    "| Queue | O(n) | O(n) | O(1) | O(1) "
   ]
  },
  {
   "cell_type": "markdown",
   "id": "ignored-instruction",
   "metadata": {},
   "source": [
    "<a id='Stack_Queue'></a>\n",
    "## Stack & Queue in python"
   ]
  },
  {
   "cell_type": "markdown",
   "id": "random-lobby",
   "metadata": {},
   "source": [
    "<a id='the_list_Built-in'></a>\n",
    "### the ```list``` Built-in "
   ]
  },
  {
   "cell_type": "markdown",
   "id": "curious-lender",
   "metadata": {},
   "source": [
    "Python’s built-in list type makes a decent stack data structure as it supports push and pop operations in amortized O(1) time.\n",
    "\n",
    "Python’s lists are implemented as dynamic arrays internally which means they occasional need to resize the storage space for elements stored in them when elements are added or removed. The list over-allocates its backing storage so that not every push or pop requires resizing and you get an amortized O(1) time complexity for these operations.\n",
    "\n",
    "The downside is that this makes their performance less consistent than the stable O(1) inserts and deletes provided by a linked list based implementation. On the other hand lists do provide fast O(1) time random access to elements on the stack which can be an added benefit.\n",
    "\n",
    "Here’s an important performance **caveat** when using lists as stacks:\n",
    "\n",
    "To get the amortized O(1) performance for inserts and deletes new items must be added to the end of the list with the append() method and removed again from the end using pop(). Stacks based on Python lists grow to the right and shrink to the left.\n",
    "\n",
    "Adding and removing from the front is much slower and takes O(n) time, as the existing elements must be shifted around to make room for the new element."
   ]
  },
  {
   "cell_type": "markdown",
   "id": "exterior-motion",
   "metadata": {},
   "source": [
    "<a id='the_collections_Class'></a>\n",
    "### the ```collections.deque``` Class"
   ]
  },
  {
   "cell_type": "markdown",
   "id": "seventh-silver",
   "metadata": {},
   "source": [
    "The deque class implements a double-ended queue that supports adding and removing elements from either end in O(1) time (non-amortized).\n",
    "\n",
    "Because deques support adding and removing elements from either end equally well, they can serve both as queues and as stacks.\n",
    "\n",
    "Python’s deque objects are implemented as ***doubly-linked lists*** which gives them excellent and consistent performance for inserting and deleting elements, but poor O(n) performance for randomly accessing elements in the middle of the stack."
   ]
  },
  {
   "cell_type": "markdown",
   "id": "fossil-flour",
   "metadata": {},
   "source": [
    "**Note**:\n",
    "\n",
    "normally, we don't have ```Queue``` in python, but a double-ended queue can be imported deom ```collections``` library"
   ]
  },
  {
   "cell_type": "code",
   "execution_count": 12,
   "id": "visible-dutch",
   "metadata": {},
   "outputs": [],
   "source": [
    "from collections import deque"
   ]
  },
  {
   "cell_type": "code",
   "execution_count": 13,
   "id": "amended-milan",
   "metadata": {},
   "outputs": [],
   "source": [
    "x = deque([1, 2, 3, 4]) "
   ]
  },
  {
   "cell_type": "code",
   "execution_count": 14,
   "id": "first-monthly",
   "metadata": {},
   "outputs": [
    {
     "data": {
      "text/plain": [
       "['__add__',\n",
       " '__bool__',\n",
       " '__class__',\n",
       " '__contains__',\n",
       " '__copy__',\n",
       " '__delattr__',\n",
       " '__delitem__',\n",
       " '__dir__',\n",
       " '__doc__',\n",
       " '__eq__',\n",
       " '__format__',\n",
       " '__ge__',\n",
       " '__getattribute__',\n",
       " '__getitem__',\n",
       " '__gt__',\n",
       " '__hash__',\n",
       " '__iadd__',\n",
       " '__imul__',\n",
       " '__init__',\n",
       " '__init_subclass__',\n",
       " '__iter__',\n",
       " '__le__',\n",
       " '__len__',\n",
       " '__lt__',\n",
       " '__mul__',\n",
       " '__ne__',\n",
       " '__new__',\n",
       " '__reduce__',\n",
       " '__reduce_ex__',\n",
       " '__repr__',\n",
       " '__reversed__',\n",
       " '__rmul__',\n",
       " '__setattr__',\n",
       " '__setitem__',\n",
       " '__sizeof__',\n",
       " '__str__',\n",
       " '__subclasshook__',\n",
       " 'append',\n",
       " 'appendleft',\n",
       " 'clear',\n",
       " 'copy',\n",
       " 'count',\n",
       " 'extend',\n",
       " 'extendleft',\n",
       " 'index',\n",
       " 'insert',\n",
       " 'maxlen',\n",
       " 'pop',\n",
       " 'popleft',\n",
       " 'remove',\n",
       " 'reverse',\n",
       " 'rotate']"
      ]
     },
     "execution_count": 14,
     "metadata": {},
     "output_type": "execute_result"
    }
   ],
   "source": [
    "dir(x)"
   ]
  },
  {
   "cell_type": "code",
   "execution_count": 15,
   "id": "matched-blast",
   "metadata": {},
   "outputs": [
    {
     "data": {
      "text/plain": [
       "1"
      ]
     },
     "execution_count": 15,
     "metadata": {},
     "output_type": "execute_result"
    }
   ],
   "source": [
    "x.popleft()"
   ]
  },
  {
   "cell_type": "code",
   "execution_count": 16,
   "id": "piano-monitoring",
   "metadata": {},
   "outputs": [
    {
     "data": {
      "text/plain": [
       "deque([2, 3, 4])"
      ]
     },
     "execution_count": 16,
     "metadata": {},
     "output_type": "execute_result"
    }
   ],
   "source": [
    "x"
   ]
  },
  {
   "cell_type": "code",
   "execution_count": 17,
   "id": "exotic-morgan",
   "metadata": {},
   "outputs": [],
   "source": [
    "x.appendleft(0)"
   ]
  },
  {
   "cell_type": "code",
   "execution_count": 18,
   "id": "pressed-action",
   "metadata": {},
   "outputs": [
    {
     "data": {
      "text/plain": [
       "deque([0, 2, 3, 4])"
      ]
     },
     "execution_count": 18,
     "metadata": {},
     "output_type": "execute_result"
    }
   ],
   "source": [
    "x"
   ]
  },
  {
   "cell_type": "markdown",
   "id": "fabulous-insertion",
   "metadata": {},
   "source": [
    "we don't have ```appendleft()``` operator in ```list```. Here, in double-ended queue this operator is not heavy!"
   ]
  },
  {
   "cell_type": "markdown",
   "id": "related-beginning",
   "metadata": {},
   "source": [
    "we can left append in list in the following way:"
   ]
  },
  {
   "cell_type": "code",
   "execution_count": 19,
   "id": "sublime-lodge",
   "metadata": {},
   "outputs": [],
   "source": [
    "x = [1, 2, 3]"
   ]
  },
  {
   "cell_type": "code",
   "execution_count": 20,
   "id": "polished-brass",
   "metadata": {},
   "outputs": [],
   "source": [
    "x = [0] + x"
   ]
  },
  {
   "cell_type": "code",
   "execution_count": 21,
   "id": "informed-benefit",
   "metadata": {},
   "outputs": [
    {
     "data": {
      "text/plain": [
       "[0, 1, 2, 3]"
      ]
     },
     "execution_count": 21,
     "metadata": {},
     "output_type": "execute_result"
    }
   ],
   "source": [
    "x"
   ]
  },
  {
   "cell_type": "markdown",
   "id": "posted-detective",
   "metadata": {},
   "source": [
    "But this is a heavy(slow) operation since two lists `[0]` & `[1, 2, 3 ]` will be added to form a third list! "
   ]
  },
  {
   "cell_type": "markdown",
   "id": "occupational-desperate",
   "metadata": {},
   "source": []
  },
  {
   "cell_type": "code",
   "execution_count": 22,
   "id": "related-ranch",
   "metadata": {},
   "outputs": [],
   "source": [
    "SIZE = 1000000\n",
    "# Declaring deque\n",
    "queue = deque(list(range(SIZE)))\n",
    "mylist = list(range(SIZE))"
   ]
  },
  {
   "cell_type": "code",
   "execution_count": 23,
   "id": "buried-terrorist",
   "metadata": {},
   "outputs": [
    {
     "name": "stdout",
     "output_type": "stream",
     "text": [
      "219 ns ± 59.4 ns per loop (mean ± std. dev. of 7 runs, 1000000 loops each)\n"
     ]
    }
   ],
   "source": [
    "%timeit mylist[0]"
   ]
  },
  {
   "cell_type": "code",
   "execution_count": 24,
   "id": "returning-blond",
   "metadata": {},
   "outputs": [
    {
     "name": "stdout",
     "output_type": "stream",
     "text": [
      "234 ns ± 70 ns per loop (mean ± std. dev. of 7 runs, 1000000 loops each)\n"
     ]
    }
   ],
   "source": [
    "%timeit queue[0]"
   ]
  },
  {
   "cell_type": "code",
   "execution_count": null,
   "id": "enormous-beginning",
   "metadata": {},
   "outputs": [],
   "source": []
  },
  {
   "cell_type": "markdown",
   "id": "stuffed-metadata",
   "metadata": {},
   "source": [
    "<a id='Python_List_Size_Capacity'></a>\n",
    "## Python List Size & Capacity"
   ]
  },
  {
   "cell_type": "code",
   "execution_count": 25,
   "id": "vocal-powder",
   "metadata": {},
   "outputs": [],
   "source": [
    "import sys"
   ]
  },
  {
   "cell_type": "markdown",
   "id": "significant-documentation",
   "metadata": {},
   "source": [
    "in python, you can check the number of bites that each data structure take using ```sys.getsizeof()``` "
   ]
  },
  {
   "cell_type": "code",
   "execution_count": 26,
   "id": "crazy-sense",
   "metadata": {},
   "outputs": [
    {
     "data": {
      "text/plain": [
       "28"
      ]
     },
     "execution_count": 26,
     "metadata": {},
     "output_type": "execute_result"
    }
   ],
   "source": [
    "sys.getsizeof(10)"
   ]
  },
  {
   "cell_type": "code",
   "execution_count": 27,
   "id": "lesbian-sunrise",
   "metadata": {},
   "outputs": [
    {
     "data": {
      "text/plain": [
       "24"
      ]
     },
     "execution_count": 27,
     "metadata": {},
     "output_type": "execute_result"
    }
   ],
   "source": [
    "sys.getsizeof(10.0)"
   ]
  },
  {
   "cell_type": "code",
   "execution_count": 28,
   "id": "academic-toolbox",
   "metadata": {},
   "outputs": [
    {
     "data": {
      "text/plain": [
       "49"
      ]
     },
     "execution_count": 28,
     "metadata": {},
     "output_type": "execute_result"
    }
   ],
   "source": [
    "sys.getsizeof(\"\")"
   ]
  },
  {
   "cell_type": "code",
   "execution_count": 29,
   "id": "wrapped-tuning",
   "metadata": {},
   "outputs": [
    {
     "data": {
      "text/plain": [
       "72"
      ]
     },
     "execution_count": 29,
     "metadata": {},
     "output_type": "execute_result"
    }
   ],
   "source": [
    "sys.getsizeof([])"
   ]
  },
  {
   "cell_type": "code",
   "execution_count": 30,
   "id": "proper-climb",
   "metadata": {},
   "outputs": [
    {
     "data": {
      "text/plain": [
       "(56, 56)"
      ]
     },
     "execution_count": 30,
     "metadata": {},
     "output_type": "execute_result"
    }
   ],
   "source": [
    "sys.getsizeof(()), sys.getsizeof(tuple([]))"
   ]
  },
  {
   "cell_type": "markdown",
   "id": "aging-coverage",
   "metadata": {},
   "source": [
    "when *hash* comes into the scene, the sizes are get much bigger:"
   ]
  },
  {
   "cell_type": "code",
   "execution_count": 31,
   "id": "first-quantum",
   "metadata": {},
   "outputs": [
    {
     "data": {
      "text/plain": [
       "248"
      ]
     },
     "execution_count": 31,
     "metadata": {},
     "output_type": "execute_result"
    }
   ],
   "source": [
    "sys.getsizeof({})"
   ]
  },
  {
   "cell_type": "code",
   "execution_count": 32,
   "id": "given-realtor",
   "metadata": {},
   "outputs": [
    {
     "data": {
      "text/plain": [
       "232"
      ]
     },
     "execution_count": 32,
     "metadata": {},
     "output_type": "execute_result"
    }
   ],
   "source": [
    "sys.getsizeof(set())"
   ]
  },
  {
   "cell_type": "markdown",
   "id": "sealed-healing",
   "metadata": {},
   "source": [
    "Now:"
   ]
  },
  {
   "cell_type": "code",
   "execution_count": 33,
   "id": "competent-ozone",
   "metadata": {},
   "outputs": [
    {
     "data": {
      "text/plain": [
       "28"
      ]
     },
     "execution_count": 33,
     "metadata": {},
     "output_type": "execute_result"
    }
   ],
   "source": [
    "sys.getsizeof(1)"
   ]
  },
  {
   "cell_type": "code",
   "execution_count": 34,
   "id": "fiscal-resistance",
   "metadata": {},
   "outputs": [
    {
     "data": {
      "text/plain": [
       "72"
      ]
     },
     "execution_count": 34,
     "metadata": {},
     "output_type": "execute_result"
    }
   ],
   "source": [
    "x = []\n",
    "sys.getsizeof(x)"
   ]
  },
  {
   "cell_type": "code",
   "execution_count": 35,
   "id": "central-freedom",
   "metadata": {},
   "outputs": [
    {
     "data": {
      "text/plain": [
       "([1], 104)"
      ]
     },
     "execution_count": 35,
     "metadata": {},
     "output_type": "execute_result"
    }
   ],
   "source": [
    "x.append(1)\n",
    "x, sys.getsizeof(x)"
   ]
  },
  {
   "cell_type": "code",
   "execution_count": 36,
   "id": "intellectual-boxing",
   "metadata": {},
   "outputs": [
    {
     "data": {
      "text/plain": [
       "80"
      ]
     },
     "execution_count": 36,
     "metadata": {},
     "output_type": "execute_result"
    }
   ],
   "source": [
    "sys.getsizeof([1])"
   ]
  },
  {
   "cell_type": "code",
   "execution_count": 37,
   "id": "pending-factory",
   "metadata": {},
   "outputs": [
    {
     "data": {
      "text/plain": [
       "(80, 88, 96)"
      ]
     },
     "execution_count": 37,
     "metadata": {},
     "output_type": "execute_result"
    }
   ],
   "source": [
    "sys.getsizeof([1]), sys.getsizeof([1, 2]), sys.getsizeof([1, 2, 3])"
   ]
  },
  {
   "cell_type": "code",
   "execution_count": 38,
   "id": "fossil-queen",
   "metadata": {},
   "outputs": [
    {
     "data": {
      "text/plain": [
       "80"
      ]
     },
     "execution_count": 38,
     "metadata": {},
     "output_type": "execute_result"
    }
   ],
   "source": [
    "sys.getsizeof([{}])"
   ]
  },
  {
   "cell_type": "code",
   "execution_count": 39,
   "id": "federal-sudan",
   "metadata": {},
   "outputs": [
    {
     "data": {
      "text/plain": [
       "80"
      ]
     },
     "execution_count": 39,
     "metadata": {},
     "output_type": "execute_result"
    }
   ],
   "source": [
    "sys.getsizeof([list(range(10000))])"
   ]
  },
  {
   "cell_type": "code",
   "execution_count": 40,
   "id": "cultural-employer",
   "metadata": {},
   "outputs": [
    {
     "data": {
      "text/plain": [
       "90120"
      ]
     },
     "execution_count": 40,
     "metadata": {},
     "output_type": "execute_result"
    }
   ],
   "source": [
    "sys.getsizeof(list(range(10000)))"
   ]
  },
  {
   "cell_type": "markdown",
   "id": "upper-fruit",
   "metadata": {},
   "source": []
  },
  {
   "cell_type": "code",
   "execution_count": 41,
   "id": "imperial-beaver",
   "metadata": {},
   "outputs": [
    {
     "name": "stdout",
     "output_type": "stream",
     "text": [
      "size of an empty list : 72\n"
     ]
    }
   ],
   "source": [
    "l = []\n",
    "size = sys.getsizeof(l)\n",
    "print(\"size of an empty list :\", size)"
   ]
  },
  {
   "cell_type": "code",
   "execution_count": 42,
   "id": "funded-seeking",
   "metadata": {},
   "outputs": [],
   "source": [
    "# append four element in the list\n",
    "l.append(1)\n",
    "l.append(2)\n",
    "l.append(3)\n",
    "l.append(4)"
   ]
  },
  {
   "cell_type": "code",
   "execution_count": 43,
   "id": "automated-richardson",
   "metadata": {},
   "outputs": [
    {
     "data": {
      "text/plain": [
       "104"
      ]
     },
     "execution_count": 43,
     "metadata": {},
     "output_type": "execute_result"
    }
   ],
   "source": [
    "sys.getsizeof(l)"
   ]
  },
  {
   "cell_type": "code",
   "execution_count": 44,
   "id": "breathing-airport",
   "metadata": {},
   "outputs": [
    {
     "name": "stdout",
     "output_type": "stream",
     "text": [
      "Now total size of a list : 104\n"
     ]
    }
   ],
   "source": [
    "# calculate total size of the list after appending four elements\n",
    "print(\"Now total size of a list :\", sys.getsizeof(l))"
   ]
  },
  {
   "cell_type": "code",
   "execution_count": 45,
   "id": "mediterranean-advocate",
   "metadata": {},
   "outputs": [
    {
     "name": "stdout",
     "output_type": "stream",
     "text": [
      "Size of each element : 8.0\n"
     ]
    }
   ],
   "source": [
    "print(\"Size of each element :\", (sys.getsizeof(l) - size) / 4)"
   ]
  },
  {
   "cell_type": "code",
   "execution_count": 46,
   "id": "veterinary-responsibility",
   "metadata": {},
   "outputs": [
    {
     "data": {
      "text/plain": [
       "4"
      ]
     },
     "execution_count": 46,
     "metadata": {},
     "output_type": "execute_result"
    }
   ],
   "source": [
    "# calculate capacity of the list after appending four element\n",
    "c = (sys.getsizeof(l) - size) // 8\n",
    "c"
   ]
  },
  {
   "cell_type": "code",
   "execution_count": 47,
   "id": "disturbed-logistics",
   "metadata": {},
   "outputs": [],
   "source": [
    "def get_capacity(mylist):\n",
    "    \n",
    "    return (sys.getsizeof(mylist) - size) // 8"
   ]
  },
  {
   "cell_type": "code",
   "execution_count": 48,
   "id": "ordered-impact",
   "metadata": {},
   "outputs": [
    {
     "name": "stdout",
     "output_type": "stream",
     "text": [
      "Size        Capacity\n",
      "--------------------\n",
      "0           0\n",
      "1           4\n",
      "2           4\n",
      "3           4\n",
      "4           4\n",
      "5           8\n",
      "6           8\n",
      "7           8\n",
      "8           8\n",
      "9          16\n",
      "10          16\n",
      "11          16\n",
      "12          16\n",
      "13          16\n",
      "14          16\n",
      "15          16\n",
      "16          16\n",
      "17          25\n",
      "18          25\n",
      "19          25\n",
      "20          25\n",
      "21          25\n",
      "22          25\n",
      "23          25\n",
      "24          25\n",
      "25          25\n",
      "26          35\n",
      "27          35\n",
      "28          35\n",
      "29          35\n",
      "30          35\n",
      "31          35\n",
      "32          35\n",
      "33          35\n",
      "34          35\n",
      "35          35\n",
      "36          46\n",
      "37          46\n",
      "38          46\n",
      "39          46\n",
      "40          46\n",
      "41          46\n",
      "42          46\n",
      "43          46\n",
      "44          46\n",
      "45          46\n",
      "46          46\n",
      "47          58\n",
      "48          58\n",
      "49          58\n",
      "50          58\n",
      "51          58\n",
      "52          58\n",
      "53          58\n",
      "54          58\n",
      "55          58\n",
      "56          58\n",
      "57          58\n",
      "58          58\n",
      "59          72\n",
      "60          72\n",
      "61          72\n",
      "62          72\n",
      "63          72\n"
     ]
    }
   ],
   "source": [
    "mylist = []\n",
    "\n",
    "print(\"Size        Capacity\")\n",
    "print(\"-\"*20)\n",
    "for _ in range(64):\n",
    "    print(f\"{len(mylist)}        {get_capacity(mylist):4}\")\n",
    "    mylist.append(1)"
   ]
  },
  {
   "cell_type": "code",
   "execution_count": 49,
   "id": "aquatic-shirt",
   "metadata": {},
   "outputs": [
    {
     "name": "stdout",
     "output_type": "stream",
     "text": [
      "Size        Capacity\n",
      "--------------------\n",
      "64          72\n",
      "63          72\n",
      "62          72\n",
      "61          72\n",
      "60          72\n",
      "59          72\n",
      "58          72\n",
      "57          72\n",
      "56          72\n",
      "55          72\n",
      "54          72\n",
      "53          72\n",
      "52          72\n",
      "51          72\n",
      "50          72\n",
      "49          72\n",
      "48          72\n",
      "47          72\n",
      "46          72\n",
      "45          72\n",
      "44          72\n",
      "43          72\n",
      "42          72\n",
      "41          72\n",
      "40          72\n",
      "39          72\n",
      "38          72\n",
      "37          72\n",
      "36          72\n",
      "35          45\n",
      "34          45\n",
      "33          45\n",
      "32          45\n",
      "31          45\n",
      "30          45\n",
      "29          45\n",
      "28          45\n",
      "27          45\n",
      "26          45\n",
      "25          45\n",
      "24          45\n",
      "23          45\n",
      "22          45\n",
      "21          29\n",
      "20          29\n",
      "19          29\n",
      "18          29\n",
      "17          29\n",
      "16          29\n",
      "15          29\n",
      "14          29\n",
      "13          20\n",
      "12          20\n",
      "11          20\n",
      "10          20\n",
      "9          16\n",
      "8          16\n",
      "7          10\n",
      "6          10\n",
      "5          10\n",
      "4           7\n",
      "3           7\n",
      "2           5\n",
      "1           4\n"
     ]
    }
   ],
   "source": [
    "print(\"Size        Capacity\")\n",
    "print(\"-\"*20)\n",
    "for _ in range(64):\n",
    "    print(f\"{len(mylist)}        {get_capacity(mylist):4}\")\n",
    "    mylist.pop()"
   ]
  },
  {
   "cell_type": "code",
   "execution_count": 50,
   "id": "assumed-recommendation",
   "metadata": {
    "scrolled": true
   },
   "outputs": [
    {
     "name": "stdout",
     "output_type": "stream",
     "text": [
      "Size        Capacity          Additional Capacity\n",
      "--------------------\n",
      "0           0                    0\n",
      "1           4                    4\n",
      "2           4                    0\n",
      "3           4                    0\n",
      "4           4                    0\n",
      "5           8                    4\n",
      "6           8                    0\n",
      "7           8                    0\n",
      "8           8                    0\n",
      "9          16                    8\n",
      "10          16                    0\n",
      "11          16                    0\n",
      "12          16                    0\n",
      "13          16                    0\n",
      "14          16                    0\n",
      "15          16                    0\n",
      "16          16                    0\n",
      "17          25                    9\n",
      "18          25                    0\n",
      "19          25                    0\n",
      "20          25                    0\n",
      "21          25                    0\n",
      "22          25                    0\n",
      "23          25                    0\n",
      "24          25                    0\n",
      "25          25                    0\n",
      "26          35                   10\n",
      "27          35                    0\n",
      "28          35                    0\n",
      "29          35                    0\n",
      "30          35                    0\n",
      "31          35                    0\n",
      "32          35                    0\n",
      "33          35                    0\n",
      "34          35                    0\n",
      "35          35                    0\n",
      "36          46                   11\n",
      "37          46                    0\n",
      "38          46                    0\n",
      "39          46                    0\n",
      "40          46                    0\n",
      "41          46                    0\n",
      "42          46                    0\n",
      "43          46                    0\n",
      "44          46                    0\n",
      "45          46                    0\n",
      "46          46                    0\n",
      "47          58                   12\n",
      "48          58                    0\n",
      "49          58                    0\n",
      "50          58                    0\n",
      "51          58                    0\n",
      "52          58                    0\n",
      "53          58                    0\n",
      "54          58                    0\n",
      "55          58                    0\n",
      "56          58                    0\n",
      "57          58                    0\n",
      "58          58                    0\n",
      "59          72                   14\n",
      "60          72                    0\n",
      "61          72                    0\n",
      "62          72                    0\n",
      "63          72                    0\n"
     ]
    }
   ],
   "source": [
    "mylist = []\n",
    "old_capacity = get_capacity(mylist)\n",
    "\n",
    "print(\"Size        Capacity          Additional Capacity\")\n",
    "print(\"-\"*20)\n",
    "for _ in range(64):\n",
    "    print(f\"{len(mylist)}        {get_capacity(mylist):4}                 {get_capacity(mylist)-old_capacity:4}\")\n",
    "    old_capacity = get_capacity(mylist)\n",
    "    mylist.append(1)"
   ]
  },
  {
   "cell_type": "code",
   "execution_count": 51,
   "id": "australian-apparatus",
   "metadata": {},
   "outputs": [
    {
     "name": "stdout",
     "output_type": "stream",
     "text": [
      "initial-size       additional capacity\n",
      "----------------------------------------\n",
      "     0           [4, 0, 0, 0, 4, 0, 0, 0, 8, 0, 0, 0, 0, 0, 0, 0]\n",
      "     1           [4, 0, 0, 0, 4, 0, 0, 0, 8, 0, 0, 0, 0, 0, 0, 0]\n",
      "     2           [4, 0, 0, 0, 4, 0, 0, 0, 8, 0, 0, 0, 0, 0, 0, 0]\n",
      "     3           [4, 0, 0, 0, 5, 0, 0, 0, 0, 8, 0, 0, 0, 0, 0, 0]\n",
      "     4           [4, 0, 0, 0, 8, 0, 0, 0, 0, 0, 0, 0, 9, 0, 0, 0]\n",
      "     5           [4, 0, 0, 0, 8, 0, 0, 0, 0, 0, 0, 0, 9, 0, 0, 0]\n",
      "     6           [4, 0, 0, 0, 8, 0, 0, 0, 0, 0, 0, 0, 9, 0, 0, 0]\n",
      "     7           [5, 0, 0, 0, 0, 8, 0, 0, 0, 0, 0, 0, 0, 9, 0, 0]\n",
      "     8           [8, 0, 0, 0, 0, 0, 0, 0, 9, 0, 0, 0, 0, 0, 0, 0]\n",
      "     9           [8, 0, 0, 0, 0, 0, 0, 0, 9, 0, 0, 0, 0, 0, 0, 0]\n",
      "     10           [8, 0, 0, 0, 0, 0, 0, 0, 9, 0, 0, 0, 0, 0, 0, 0]\n",
      "     11           [8, 0, 0, 0, 0, 0, 0, 0, 9, 0, 0, 0, 0, 0, 0, 0]\n",
      "     12           [8, 0, 0, 0, 0, 0, 0, 0, 9, 0, 0, 0, 0, 0, 0, 0]\n",
      "     13           [8, 0, 0, 0, 0, 0, 0, 0, 9, 0, 0, 0, 0, 0, 0, 0]\n",
      "     14           [8, 0, 0, 0, 0, 0, 0, 0, 9, 0, 0, 0, 0, 0, 0, 0]\n",
      "     15           [9, 0, 0, 0, 0, 0, 0, 0, 0, 10, 0, 0, 0, 0, 0, 0]\n",
      "     16           [9, 0, 0, 0, 0, 0, 0, 0, 0, 10, 0, 0, 0, 0, 0, 0]\n",
      "     17           [9, 0, 0, 0, 0, 0, 0, 0, 0, 10, 0, 0, 0, 0, 0, 0]\n",
      "     18           [9, 0, 0, 0, 0, 0, 0, 0, 0, 10, 0, 0, 0, 0, 0, 0]\n",
      "     19           [9, 0, 0, 0, 0, 0, 0, 0, 0, 10, 0, 0, 0, 0, 0, 0]\n",
      "     20           [9, 0, 0, 0, 0, 0, 0, 0, 0, 10, 0, 0, 0, 0, 0, 0]\n",
      "     21           [9, 0, 0, 0, 0, 0, 0, 0, 0, 10, 0, 0, 0, 0, 0, 0]\n",
      "     22           [9, 0, 0, 0, 0, 0, 0, 0, 0, 11, 0, 0, 0, 0, 0, 0]\n",
      "     23           [10, 0, 0, 0, 0, 0, 0, 0, 0, 0, 11, 0, 0, 0, 0, 0]\n",
      "     24           [10, 0, 0, 0, 0, 0, 0, 0, 0, 0, 11, 0, 0, 0, 0, 0]\n",
      "     25           [10, 0, 0, 0, 0, 0, 0, 0, 0, 0, 11, 0, 0, 0, 0, 0]\n",
      "     26           [10, 0, 0, 0, 0, 0, 0, 0, 0, 0, 11, 0, 0, 0, 0, 0]\n",
      "     27           [10, 0, 0, 0, 0, 0, 0, 0, 0, 0, 11, 0, 0, 0, 0, 0]\n",
      "     28           [10, 0, 0, 0, 0, 0, 0, 0, 0, 0, 11, 0, 0, 0, 0, 0]\n",
      "     29           [10, 0, 0, 0, 0, 0, 0, 0, 0, 0, 12, 0, 0, 0, 0, 0]\n",
      "     30           [10, 0, 0, 0, 0, 0, 0, 0, 0, 0, 12, 0, 0, 0, 0, 0]\n",
      "     31           [11, 0, 0, 0, 0, 0, 0, 0, 0, 0, 0, 12, 0, 0, 0, 0]\n"
     ]
    }
   ],
   "source": [
    "print(\"initial-size       additional capacity\")\n",
    "print(\"-\"*40)\n",
    "for i in range(32):\n",
    "    mylist = []\n",
    "    capacity_evolution = []\n",
    "    for j in range(i):\n",
    "        mylist = mylist + [j]\n",
    "    initial_len = len(mylist)\n",
    "    for k in range(16): \n",
    "        capacity_old = get_capacity(mylist)\n",
    "        mylist.append(1)\n",
    "        capacity_evolution.append(get_capacity(mylist)-capacity_old)\n",
    "    print(\"    \",initial_len,\"         \",capacity_evolution)"
   ]
  },
  {
   "cell_type": "markdown",
   "id": "preliminary-policy",
   "metadata": {},
   "source": [
    "Some good examples:"
   ]
  },
  {
   "cell_type": "code",
   "execution_count": 92,
   "id": "widespread-tours",
   "metadata": {},
   "outputs": [
    {
     "data": {
      "text/plain": [
       "3"
      ]
     },
     "execution_count": 92,
     "metadata": {},
     "output_type": "execute_result"
    }
   ],
   "source": [
    "x = [1, 2, 3]\n",
    "initial_capacity = get_capacity(x)\n",
    "initial_capacity"
   ]
  },
  {
   "cell_type": "code",
   "execution_count": 93,
   "id": "macro-marks",
   "metadata": {},
   "outputs": [
    {
     "data": {
      "text/plain": [
       "4"
      ]
     },
     "execution_count": 93,
     "metadata": {},
     "output_type": "execute_result"
    }
   ],
   "source": [
    "x.append(1)\n",
    "get_capacity(x) - initial_capacity"
   ]
  },
  {
   "cell_type": "code",
   "execution_count": 95,
   "id": "middle-processor",
   "metadata": {},
   "outputs": [
    {
     "data": {
      "text/plain": [
       "(6, 9, 9)"
      ]
     },
     "execution_count": 95,
     "metadata": {},
     "output_type": "execute_result"
    }
   ],
   "source": [
    "x1 = [0,1,2,3,4,5]\n",
    "x2 = list(range(6))\n",
    "x3 = list([0,1,2,3,4,5])\n",
    "get_capacity(x1), get_capacity(x2), get_capacity(x3) "
   ]
  },
  {
   "cell_type": "code",
   "execution_count": 96,
   "id": "numeric-shade",
   "metadata": {},
   "outputs": [
    {
     "data": {
      "text/plain": [
       "(10, 9, 9)"
      ]
     },
     "execution_count": 96,
     "metadata": {},
     "output_type": "execute_result"
    }
   ],
   "source": [
    "x1.append(1), x2.append(1), x3.append(1)\n",
    "get_capacity(x1), get_capacity(x2), get_capacity(x3) "
   ]
  },
  {
   "cell_type": "markdown",
   "id": "surprising-embassy",
   "metadata": {},
   "source": [
    "Another one:"
   ]
  },
  {
   "cell_type": "code",
   "execution_count": 97,
   "id": "miniature-future",
   "metadata": {},
   "outputs": [],
   "source": [
    "n = 100\n",
    "y1, y2 = [], [1]\n",
    "y3 = list(range(n))\n",
    "y4 = list([1] * n)"
   ]
  },
  {
   "cell_type": "code",
   "execution_count": 98,
   "id": "racial-essence",
   "metadata": {},
   "outputs": [],
   "source": [
    "y1.append(1)\n",
    "for i in range(n-1):\n",
    "    y1.append(1)\n",
    "    y2.append(1)"
   ]
  },
  {
   "cell_type": "code",
   "execution_count": 58,
   "id": "postal-engineering",
   "metadata": {},
   "outputs": [
    {
     "data": {
      "text/plain": [
       "(106, 108, 118, 118)"
      ]
     },
     "execution_count": 58,
     "metadata": {},
     "output_type": "execute_result"
    }
   ],
   "source": [
    "get_capacity(y1), get_capacity(y2), get_capacity(y3), get_capacity(y4)"
   ]
  },
  {
   "cell_type": "code",
   "execution_count": 59,
   "id": "annoying-regression",
   "metadata": {},
   "outputs": [
    {
     "data": {
      "text/plain": [
       "100"
      ]
     },
     "execution_count": 59,
     "metadata": {},
     "output_type": "execute_result"
    }
   ],
   "source": [
    "y5 = []\n",
    "for _ in range(n):\n",
    "    y5 = y5 + [1]\n",
    "get_capacity(y5)"
   ]
  },
  {
   "cell_type": "code",
   "execution_count": 60,
   "id": "contained-springfield",
   "metadata": {},
   "outputs": [
    {
     "data": {
      "text/plain": [
       "100"
      ]
     },
     "execution_count": 60,
     "metadata": {},
     "output_type": "execute_result"
    }
   ],
   "source": [
    "y6 = [1] * n # same as y5\n",
    "get_capacity(y6)"
   ]
  },
  {
   "cell_type": "code",
   "execution_count": 61,
   "id": "designed-symposium",
   "metadata": {},
   "outputs": [
    {
     "data": {
      "text/plain": [
       "118"
      ]
     },
     "execution_count": 61,
     "metadata": {},
     "output_type": "execute_result"
    }
   ],
   "source": [
    "y7 = []\n",
    "for i in range(1,n):\n",
    "    y7 = y7 + [i-1]\n",
    "y7.append(1)\n",
    "get_capacity(y7)"
   ]
  },
  {
   "cell_type": "code",
   "execution_count": 62,
   "id": "veterinary-chuck",
   "metadata": {},
   "outputs": [
    {
     "data": {
      "text/plain": [
       "100"
      ]
     },
     "execution_count": 62,
     "metadata": {},
     "output_type": "execute_result"
    }
   ],
   "source": [
    "y8 = y1[:]\n",
    "get_capacity(y8)"
   ]
  },
  {
   "cell_type": "markdown",
   "id": "amino-invitation",
   "metadata": {},
   "source": [
    "__Conclusion__:\n",
    "\n",
    "- ```list``` function `(y3,y4) <==> y7`\n",
    "- `y1, y2, y5, y6` are different from `(y3,y4)`\n",
    "- `y5 == y6`"
   ]
  },
  {
   "cell_type": "markdown",
   "id": "separate-monitoring",
   "metadata": {},
   "source": [
    "Another one:"
   ]
  },
  {
   "cell_type": "code",
   "execution_count": 63,
   "id": "removable-entity",
   "metadata": {},
   "outputs": [
    {
     "name": "stdout",
     "output_type": "stream",
     "text": [
      "size of []: 72 \n",
      "size of [].append(1): 104 \n",
      "size of [1]: 88\n"
     ]
    }
   ],
   "source": [
    "z0, z1 = [], []\n",
    "z1.append(1)\n",
    "z2 = [1,1]\n",
    "print(\"size of []:\",sys.getsizeof(z0), \"\\nsize of [].append(1):\",sys.getsizeof(z1), \"\\nsize of [1]:\",sys.getsizeof(z2))"
   ]
  },
  {
   "cell_type": "markdown",
   "id": "twelve-paraguay",
   "metadata": {},
   "source": []
  },
  {
   "cell_type": "markdown",
   "id": "adult-printing",
   "metadata": {},
   "source": [
    "##### How to reserve a space for list?"
   ]
  },
  {
   "cell_type": "code",
   "execution_count": 64,
   "id": "sought-whole",
   "metadata": {},
   "outputs": [],
   "source": [
    "length = 100\n",
    "\n",
    "y,z = [], []\n",
    "\n",
    "for _ in range(length):\n",
    "    y = y + [1]\n",
    "    z.append(1)\n",
    "\n",
    "x = list(range(length))"
   ]
  },
  {
   "cell_type": "code",
   "execution_count": 65,
   "id": "prerequisite-reputation",
   "metadata": {},
   "outputs": [
    {
     "data": {
      "text/plain": [
       "(1016, 118)"
      ]
     },
     "execution_count": 65,
     "metadata": {},
     "output_type": "execute_result"
    }
   ],
   "source": [
    "sys.getsizeof(x), get_capacity(x)"
   ]
  },
  {
   "cell_type": "code",
   "execution_count": 66,
   "id": "minus-penetration",
   "metadata": {},
   "outputs": [
    {
     "data": {
      "text/plain": [
       "(872, 100)"
      ]
     },
     "execution_count": 66,
     "metadata": {},
     "output_type": "execute_result"
    }
   ],
   "source": [
    "sys.getsizeof(y), get_capacity(y)"
   ]
  },
  {
   "cell_type": "code",
   "execution_count": 67,
   "id": "boxed-munich",
   "metadata": {},
   "outputs": [
    {
     "data": {
      "text/plain": [
       "(920, 106)"
      ]
     },
     "execution_count": 67,
     "metadata": {},
     "output_type": "execute_result"
    }
   ],
   "source": [
    "sys.getsizeof(z), get_capacity(z)"
   ]
  },
  {
   "cell_type": "markdown",
   "id": "endangered-gasoline",
   "metadata": {},
   "source": [
    "The space required by methods:\n",
    "`x > y > z`"
   ]
  },
  {
   "cell_type": "markdown",
   "id": "every-canada",
   "metadata": {},
   "source": [
    "The followings are equal:"
   ]
  },
  {
   "cell_type": "code",
   "execution_count": 68,
   "id": "british-longitude",
   "metadata": {},
   "outputs": [],
   "source": [
    "N = 10000"
   ]
  },
  {
   "cell_type": "code",
   "execution_count": 69,
   "id": "legitimate-frost",
   "metadata": {},
   "outputs": [
    {
     "data": {
      "text/plain": [
       "11256"
      ]
     },
     "execution_count": 69,
     "metadata": {},
     "output_type": "execute_result"
    }
   ],
   "source": [
    "get_capacity(list(range(N)))"
   ]
  },
  {
   "cell_type": "code",
   "execution_count": 70,
   "id": "vocational-documentation",
   "metadata": {},
   "outputs": [
    {
     "data": {
      "text/plain": [
       "11256"
      ]
     },
     "execution_count": 70,
     "metadata": {},
     "output_type": "execute_result"
    }
   ],
   "source": [
    "u = []\n",
    "for i in range(1,N):\n",
    "    u = u + [i-1]\n",
    "u.append(1)\n",
    "get_capacity(u)"
   ]
  },
  {
   "cell_type": "markdown",
   "id": "synthetic-fiction",
   "metadata": {},
   "source": [
    "And also the followings are equal:"
   ]
  },
  {
   "cell_type": "code",
   "execution_count": 71,
   "id": "academic-accent",
   "metadata": {},
   "outputs": [
    {
     "data": {
      "text/plain": [
       "10945"
      ]
     },
     "execution_count": 71,
     "metadata": {},
     "output_type": "execute_result"
    }
   ],
   "source": [
    "get_capacity([i for i in range(N)])"
   ]
  },
  {
   "cell_type": "code",
   "execution_count": 72,
   "id": "obvious-honor",
   "metadata": {},
   "outputs": [
    {
     "data": {
      "text/plain": [
       "10945"
      ]
     },
     "execution_count": 72,
     "metadata": {},
     "output_type": "execute_result"
    }
   ],
   "source": [
    "w = []\n",
    "for i in range(0,N):\n",
    "    w.append(i)\n",
    "\n",
    "get_capacity(w)"
   ]
  },
  {
   "cell_type": "markdown",
   "id": "ordinary-editing",
   "metadata": {},
   "source": []
  },
  {
   "cell_type": "code",
   "execution_count": 73,
   "id": "official-departure",
   "metadata": {},
   "outputs": [],
   "source": [
    "import random"
   ]
  },
  {
   "cell_type": "code",
   "execution_count": 74,
   "id": "occupational-summer",
   "metadata": {},
   "outputs": [],
   "source": [
    "from time import clock"
   ]
  },
  {
   "cell_type": "code",
   "execution_count": 75,
   "id": "provincial-photography",
   "metadata": {},
   "outputs": [],
   "source": [
    "N = 10000000"
   ]
  },
  {
   "cell_type": "code",
   "execution_count": 76,
   "id": "native-vinyl",
   "metadata": {},
   "outputs": [
    {
     "name": "stderr",
     "output_type": "stream",
     "text": [
      "/home/mgh/anaconda3/envs/py37/lib/python3.7/site-packages/ipykernel_launcher.py:1: DeprecationWarning: time.clock has been deprecated in Python 3.3 and will be removed from Python 3.8: use time.perf_counter or time.process_time instead\n",
      "  \"\"\"Entry point for launching an IPython kernel.\n",
      "/home/mgh/anaconda3/envs/py37/lib/python3.7/site-packages/ipykernel_launcher.py:7: DeprecationWarning: time.clock has been deprecated in Python 3.3 and will be removed from Python 3.8: use time.perf_counter or time.process_time instead\n",
      "  import sys\n"
     ]
    },
    {
     "data": {
      "text/plain": [
       "8.890625"
      ]
     },
     "execution_count": 76,
     "metadata": {},
     "output_type": "execute_result"
    }
   ],
   "source": [
    "t1 = clock()\n",
    "\n",
    "x = []\n",
    "for i in range(N):\n",
    "    x.append(random.random())\n",
    "\n",
    "t2 = clock()\n",
    "\n",
    "t2 - t1"
   ]
  },
  {
   "cell_type": "code",
   "execution_count": 77,
   "id": "departmental-thesis",
   "metadata": {},
   "outputs": [
    {
     "name": "stderr",
     "output_type": "stream",
     "text": [
      "/home/mgh/anaconda3/envs/py37/lib/python3.7/site-packages/ipykernel_launcher.py:1: DeprecationWarning: time.clock has been deprecated in Python 3.3 and will be removed from Python 3.8: use time.perf_counter or time.process_time instead\n",
      "  \"\"\"Entry point for launching an IPython kernel.\n",
      "/home/mgh/anaconda3/envs/py37/lib/python3.7/site-packages/ipykernel_launcher.py:7: DeprecationWarning: time.clock has been deprecated in Python 3.3 and will be removed from Python 3.8: use time.perf_counter or time.process_time instead\n",
      "  import sys\n"
     ]
    },
    {
     "data": {
      "text/plain": [
       "4.15625"
      ]
     },
     "execution_count": 77,
     "metadata": {},
     "output_type": "execute_result"
    }
   ],
   "source": [
    "t1 = clock()\n",
    "\n",
    "x = list(range(N))\n",
    "for i in range(N):\n",
    "    x[i] = random.random()\n",
    "\n",
    "t2 = clock()\n",
    "\n",
    "t2 - t1"
   ]
  },
  {
   "cell_type": "markdown",
   "id": "turned-advance",
   "metadata": {},
   "source": [
    "##### A better way of reserving:\n",
    "\n",
    "The core idea:"
   ]
  },
  {
   "cell_type": "code",
   "execution_count": 78,
   "id": "limited-favor",
   "metadata": {},
   "outputs": [
    {
     "data": {
      "text/plain": [
       "28"
      ]
     },
     "execution_count": 78,
     "metadata": {},
     "output_type": "execute_result"
    }
   ],
   "source": [
    "sys.getsizeof(1)"
   ]
  },
  {
   "cell_type": "code",
   "execution_count": 79,
   "id": "catholic-voluntary",
   "metadata": {},
   "outputs": [
    {
     "data": {
      "text/plain": [
       "16"
      ]
     },
     "execution_count": 79,
     "metadata": {},
     "output_type": "execute_result"
    }
   ],
   "source": [
    "sys.getsizeof(None)"
   ]
  },
  {
   "cell_type": "code",
   "execution_count": 80,
   "id": "lesbian-scanner",
   "metadata": {},
   "outputs": [],
   "source": [
    "m = 10000"
   ]
  },
  {
   "cell_type": "code",
   "execution_count": 81,
   "id": "danish-happening",
   "metadata": {},
   "outputs": [],
   "source": [
    "x = list(range(m))"
   ]
  },
  {
   "cell_type": "code",
   "execution_count": 82,
   "id": "derived-printing",
   "metadata": {},
   "outputs": [
    {
     "data": {
      "text/plain": [
       "90120"
      ]
     },
     "execution_count": 82,
     "metadata": {},
     "output_type": "execute_result"
    }
   ],
   "source": [
    "sys.getsizeof(x)"
   ]
  },
  {
   "cell_type": "markdown",
   "id": "democratic-steel",
   "metadata": {},
   "source": [
    "So we can use:"
   ]
  },
  {
   "cell_type": "code",
   "execution_count": 83,
   "id": "magnetic-flexibility",
   "metadata": {},
   "outputs": [],
   "source": [
    "x = [None for i in range(m)]"
   ]
  },
  {
   "cell_type": "code",
   "execution_count": 84,
   "id": "pursuant-cedar",
   "metadata": {},
   "outputs": [
    {
     "data": {
      "text/plain": [
       "87632"
      ]
     },
     "execution_count": 84,
     "metadata": {},
     "output_type": "execute_result"
    }
   ],
   "source": [
    "sys.getsizeof(x)"
   ]
  },
  {
   "cell_type": "code",
   "execution_count": 85,
   "id": "transparent-muslim",
   "metadata": {},
   "outputs": [],
   "source": [
    "x = [i for i in range(m)]"
   ]
  },
  {
   "cell_type": "code",
   "execution_count": 86,
   "id": "printable-contributor",
   "metadata": {},
   "outputs": [
    {
     "data": {
      "text/plain": [
       "87632"
      ]
     },
     "execution_count": 86,
     "metadata": {},
     "output_type": "execute_result"
    }
   ],
   "source": [
    "sys.getsizeof(x)"
   ]
  },
  {
   "cell_type": "markdown",
   "id": "pregnant-decimal",
   "metadata": {},
   "source": [
    "So this is the best way to reserve:"
   ]
  },
  {
   "cell_type": "code",
   "execution_count": 87,
   "id": "marked-nepal",
   "metadata": {},
   "outputs": [],
   "source": [
    "x = [None] * m"
   ]
  },
  {
   "cell_type": "code",
   "execution_count": 88,
   "id": "missing-puzzle",
   "metadata": {},
   "outputs": [
    {
     "data": {
      "text/plain": [
       "80072"
      ]
     },
     "execution_count": 88,
     "metadata": {},
     "output_type": "execute_result"
    }
   ],
   "source": [
    "sys.getsizeof(x)"
   ]
  },
  {
   "cell_type": "markdown",
   "id": "iraqi-saying",
   "metadata": {},
   "source": []
  },
  {
   "cell_type": "markdown",
   "id": "cubic-benchmark",
   "metadata": {},
   "source": [
    "The capacity of ```set```:"
   ]
  },
  {
   "cell_type": "code",
   "execution_count": 89,
   "id": "proof-harris",
   "metadata": {},
   "outputs": [],
   "source": [
    "x = set()"
   ]
  },
  {
   "cell_type": "code",
   "execution_count": 90,
   "id": "naughty-usage",
   "metadata": {},
   "outputs": [
    {
     "data": {
      "text/plain": [
       "232"
      ]
     },
     "execution_count": 90,
     "metadata": {},
     "output_type": "execute_result"
    }
   ],
   "source": [
    "sys.getsizeof(x)"
   ]
  },
  {
   "cell_type": "code",
   "execution_count": 91,
   "id": "established-tulsa",
   "metadata": {},
   "outputs": [
    {
     "name": "stdout",
     "output_type": "stream",
     "text": [
      "232-232-232-232-744-744-744-744-744-744-744-744-744-744-744-744-744-744-2280-2280-"
     ]
    }
   ],
   "source": [
    "for i in range (20):\n",
    "    x.add(i)\n",
    "    print(sys.getsizeof(x), end=\"-\")"
   ]
  },
  {
   "cell_type": "markdown",
   "id": "alpha-structure",
   "metadata": {},
   "source": [
    "In set, hash is used! that's the reason behind above big sizes!"
   ]
  },
  {
   "cell_type": "code",
   "execution_count": null,
   "id": "configured-command",
   "metadata": {},
   "outputs": [],
   "source": []
  }
 ],
 "metadata": {
  "kernelspec": {
   "display_name": "Python 3",
   "language": "python",
   "name": "python3"
  },
  "language_info": {
   "codemirror_mode": {
    "name": "ipython",
    "version": 3
   },
   "file_extension": ".py",
   "mimetype": "text/x-python",
   "name": "python",
   "nbconvert_exporter": "python",
   "pygments_lexer": "ipython3",
   "version": "3.7.9"
  }
 },
 "nbformat": 4,
 "nbformat_minor": 5
}
