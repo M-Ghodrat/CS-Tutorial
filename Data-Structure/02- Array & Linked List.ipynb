{
 "cells": [
  {
   "cell_type": "markdown",
   "id": "rocky-taiwan",
   "metadata": {},
   "source": [
    "# 02-Array & Linked List"
   ]
  },
  {
   "cell_type": "markdown",
   "id": "competitive-philosophy",
   "metadata": {},
   "source": [
    "<a id='Table_of_Contents'></a>\n",
    "## Table of Contents:\n",
    "\n",
    "* [Table of Contents](#Table_of_Contents)\n",
    "* [Array](#Array)\n",
    "* [Linked List](#Linked_List)\n",
    "* [Array vs. Linked List](#Array_vs_Linked_List)"
   ]
  },
  {
   "cell_type": "markdown",
   "id": "endless-graham",
   "metadata": {},
   "source": [
    "<a id='Array'></a>\n",
    "## Array"
   ]
  },
  {
   "cell_type": "markdown",
   "id": "fantastic-automation",
   "metadata": {},
   "source": [
    "An array is defined as a set of a definite number of homogeneous elements or data items. It means an array can contain one type of data only, either all integers, all floating-point numbers, or all characters.\n",
    "\n",
    "Declaration of an array is as follows:\n",
    "\n",
    "C:\n",
    "\n",
    "```C\n",
    "int a [10];\n",
    "```\n",
    "\n",
    "Python:\n",
    "\n",
    "```python\n",
    "mylist = []\n",
    "```\n",
    "\n",
    "The individual elements of an array can be accessed by describing the name of the array, followed by index or subscript (determining the location of the element in the array) inside the square brackets.\n",
    "\n",
    "For example, to retrieve 5th element of the array, we need to write a statement ```a[4]```."
   ]
  },
  {
   "cell_type": "markdown",
   "id": "continent-allowance",
   "metadata": {},
   "source": [
    "![array](./images/array.png)"
   ]
  },
  {
   "cell_type": "markdown",
   "id": "consecutive-university",
   "metadata": {},
   "source": [
    "<a id='Linked_List'></a>\n",
    "## Linked List"
   ]
  },
  {
   "cell_type": "markdown",
   "id": "hearing-authority",
   "metadata": {},
   "source": [
    "Linked list is a particular list of some data elements linked to one other. In this every element point to the next element which represents the logical ordering. Each element is called a node, which has two parts\n",
    "\n",
    "**INFO** part which stores the information and **POINTER** which points to the next element. As you know for storing address, we have a unique data structures in C called pointers. Hence the second field of the list must be a pointer type."
   ]
  },
  {
   "cell_type": "markdown",
   "id": "nonprofit-aerospace",
   "metadata": {},
   "source": [
    "![singly_linked_list](./images/singly_linked_list.png)"
   ]
  },
  {
   "cell_type": "markdown",
   "id": "alert-response",
   "metadata": {},
   "source": [
    "![doubly_linked_list](./images/doubly_linked_list.png)"
   ]
  },
  {
   "cell_type": "markdown",
   "id": "changing-crack",
   "metadata": {},
   "source": [
    "<a id='Array_vs_Linked_List'></a>\n",
    "## Array vs. Linked List"
   ]
  },
  {
   "cell_type": "markdown",
   "id": "sweet-effects",
   "metadata": {},
   "source": [
    "| Basis for Comparison | Array | Linked List |\n",
    "| :- | :- | :- |\n",
    "| **Basic** | It is a consistent set of a fixed number of data items. | It is an ordered set comprising a variable number of data items.\n",
    "| **Size** | Specified during declaration. | No need to specify; grow and shrink during execution.\n",
    "| **Storage** | Allocation | Element location is allocated during compile time. Element position is assigned during run time.\n",
    "| **Order of the elements** | Stored consecutively | Stored randomly\n",
    "| **Accessing the elements** | Direct or randomly accessed, i.e., Specify the array index or subscript. **O(1)** | Sequentially accessed, i.e., Traverse starting from the first node in the list by the pointer. **O(n)**\n",
    "| **Insertion and deletion of element** | Slow relatively as shifting is required. **O(n)** | Easier, fast and efficient. **O(1)**\n",
    "| **Searching** | Binary search and Linear search | Linear search\n",
    "| **Memory required** | Less | More\n",
    "| **Memory Utilization** | Ineffective | Efficient"
   ]
  },
  {
   "cell_type": "code",
   "execution_count": 1,
   "id": "smaller-dakota",
   "metadata": {},
   "outputs": [],
   "source": [
    "x = list(range(100000))"
   ]
  },
  {
   "cell_type": "code",
   "execution_count": 2,
   "id": "altered-chamber",
   "metadata": {},
   "outputs": [
    {
     "name": "stdout",
     "output_type": "stream",
     "text": [
      "28.2 ns ± 1.62 ns per loop (mean ± std. dev. of 7 runs, 10000000 loops each)\n"
     ]
    }
   ],
   "source": [
    "timeit x[10000]"
   ]
  },
  {
   "cell_type": "code",
   "execution_count": 3,
   "id": "pediatric-religious",
   "metadata": {},
   "outputs": [
    {
     "name": "stdout",
     "output_type": "stream",
     "text": [
      "26.7 ns ± 0.702 ns per loop (mean ± std. dev. of 7 runs, 10000000 loops each)\n"
     ]
    }
   ],
   "source": [
    "timeit x[0]"
   ]
  },
  {
   "cell_type": "markdown",
   "id": "unknown-extreme",
   "metadata": {},
   "source": [
    "#### List (Array)"
   ]
  },
  {
   "cell_type": "markdown",
   "id": "aboriginal-motorcycle",
   "metadata": {},
   "source": [
    "- **Access** is **O(1)**\n",
    "- **Insertion** is **O(n)** since the computer will make a new array in RAM and delete the old one\n",
    "- **Deletion** is **O(n)** for the same reason as insertion. (consider the worst case when a middle element is deleted!)\n",
    "- **Search** is **O(Log n)** (due to binary search)"
   ]
  },
  {
   "cell_type": "markdown",
   "id": "moved-buffalo",
   "metadata": {},
   "source": [
    "#### Linked List"
   ]
  },
  {
   "cell_type": "markdown",
   "id": "specific-bracelet",
   "metadata": {},
   "source": [
    "- **Access** is **O(n)**.\n",
    "- **Insertion** is **O(1)** \n",
    "- **Deletion** is **O(1)**\n",
    "- **Search** is **O(n)** (binary algorithm won't work here)"
   ]
  },
  {
   "cell_type": "code",
   "execution_count": null,
   "id": "corresponding-encoding",
   "metadata": {},
   "outputs": [],
   "source": []
  }
 ],
 "metadata": {
  "kernelspec": {
   "display_name": "Python 3",
   "language": "python",
   "name": "python3"
  },
  "language_info": {
   "codemirror_mode": {
    "name": "ipython",
    "version": 3
   },
   "file_extension": ".py",
   "mimetype": "text/x-python",
   "name": "python",
   "nbconvert_exporter": "python",
   "pygments_lexer": "ipython3",
   "version": "3.7.9"
  }
 },
 "nbformat": 4,
 "nbformat_minor": 5
}
