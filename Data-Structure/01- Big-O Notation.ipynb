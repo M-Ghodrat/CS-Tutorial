{
 "cells": [
  {
   "cell_type": "markdown",
   "id": "signal-reference",
   "metadata": {},
   "source": [
    "# 01-Big-O"
   ]
  },
  {
   "cell_type": "markdown",
   "id": "constitutional-adaptation",
   "metadata": {},
   "source": [
    "<a id='Table_of_Contents'></a>\n",
    "## Table of Contents:\n",
    "\n",
    "* [Table of Contents](#Table_of_Contents)\n",
    "* [Time Complexity](#Time_Complexity)\n",
    "    - [File Transfer Program](#File_Transfer_Program)\n",
    "    - [Common Big-Os](#Common_Big-Os)\n",
    "    - [Examples](#Examples)\n",
    "* [Space Complexity](#Space_Complexity)"
   ]
  },
  {
   "cell_type": "markdown",
   "id": "legislative-commons",
   "metadata": {},
   "source": [
    "<a id='Time_Complexity'></a>\n",
    "## Time Complexity"
   ]
  },
  {
   "cell_type": "markdown",
   "id": "institutional-benjamin",
   "metadata": {},
   "source": [
    "<a id='File_Transfer_Program'></a>\n",
    "### File Transfer Program"
   ]
  },
  {
   "cell_type": "markdown",
   "id": "stuck-small",
   "metadata": {},
   "source": [
    "**How to transfer a file?**\n",
    "\n",
    "1. plane: O(1)\n",
    "2. email: O(s)"
   ]
  },
  {
   "cell_type": "markdown",
   "id": "civil-supplement",
   "metadata": {},
   "source": [
    "<a id='Common_Big-Os'></a>\n",
    "### Common Big-Os\n",
    "\n",
    "- O(1)\n",
    "- O(Log N)\n",
    "- O(N)\n",
    "- O(N Log N)\n",
    "- O(N^2)\n",
    "- O(2^N)"
   ]
  },
  {
   "cell_type": "markdown",
   "id": "harmful-handbook",
   "metadata": {},
   "source": [
    "<a id='Examples'></a>\n",
    "### Examples"
   ]
  },
  {
   "cell_type": "markdown",
   "id": "local-patient",
   "metadata": {},
   "source": [
    "```python\n",
    "for i in range(n):\n",
    "    for j in range(n):\n",
    "        # O(1) operation here\n",
    "```\n",
    "        \n",
    "```\n",
    "--> O(n^2)\n",
    "```"
   ]
  },
  {
   "cell_type": "markdown",
   "id": "collective-royal",
   "metadata": {},
   "source": [
    "```python\n",
    "for i in range(n):\n",
    "    for j in range(m):\n",
    "        # O(1) operation here\n",
    "```\n",
    "\n",
    "```\n",
    "--> O(n*m)\n",
    "```"
   ]
  },
  {
   "cell_type": "markdown",
   "id": "grave-disease",
   "metadata": {},
   "source": [
    "##### Linear Search: O(n)"
   ]
  },
  {
   "cell_type": "markdown",
   "id": "warming-combining",
   "metadata": {},
   "source": [
    "```python\n",
    "for item in mylist:\n",
    "    if item == \"target\":\n",
    "        print(\"found it\")\n",
    "```"
   ]
  },
  {
   "cell_type": "markdown",
   "id": "three-sleep",
   "metadata": {},
   "source": [
    "##### Binary Search: O(log n)"
   ]
  },
  {
   "cell_type": "markdown",
   "id": "better-sound",
   "metadata": {},
   "source": [
    "before search, we sort the items. Since the sorting is only performed one time, it does not change the O notation."
   ]
  },
  {
   "cell_type": "markdown",
   "id": "valuable-broadcasting",
   "metadata": {},
   "source": [
    "In Binary search algorithm, we first divide our list into 2 sections, and repeat this procedure. Thus, if our list has n items, after x-time search, where 2^x = n, we got the solution. Thus, the number of searches x would be log n."
   ]
  },
  {
   "cell_type": "markdown",
   "id": "confident-exploration",
   "metadata": {},
   "source": [
    "![binary1](./images/binary-list.png)"
   ]
  },
  {
   "cell_type": "markdown",
   "id": "painted-bubble",
   "metadata": {},
   "source": [
    "![binary2](./images/binary-graph.png)"
   ]
  },
  {
   "cell_type": "markdown",
   "id": "historical-helena",
   "metadata": {},
   "source": [
    "<a id='Space_Complexity'></a>\n",
    "## Space Complexity"
   ]
  },
  {
   "cell_type": "code",
   "execution_count": null,
   "id": "chronic-cologne",
   "metadata": {},
   "outputs": [],
   "source": []
  },
  {
   "cell_type": "code",
   "execution_count": null,
   "id": "knowing-representation",
   "metadata": {},
   "outputs": [],
   "source": []
  }
 ],
 "metadata": {
  "kernelspec": {
   "display_name": "Python 3",
   "language": "python",
   "name": "python3"
  },
  "language_info": {
   "codemirror_mode": {
    "name": "ipython",
    "version": 3
   },
   "file_extension": ".py",
   "mimetype": "text/x-python",
   "name": "python",
   "nbconvert_exporter": "python",
   "pygments_lexer": "ipython3",
   "version": "3.7.9"
  }
 },
 "nbformat": 4,
 "nbformat_minor": 5
}
