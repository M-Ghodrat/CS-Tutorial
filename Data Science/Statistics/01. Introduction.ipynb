{
 "cells": [
  {
   "cell_type": "markdown",
   "id": "signal-bookmark",
   "metadata": {},
   "source": [
    "# Introduction\n",
    "\n",
    "Reference: STATISTICS (Eleventh Edition) by Robert S. Witte"
   ]
  },
  {
   "cell_type": "markdown",
   "id": "generic-preview",
   "metadata": {},
   "source": [
    "## What is Statistics?\n",
    "Statistics is the discipline that concerns the collection, organization, analysis, interpretation, and presentation of data."
   ]
  },
  {
   "cell_type": "markdown",
   "id": "earned-brooklyn",
   "metadata": {},
   "source": [
    "### Descriptive Statistics\n",
    "Statistics exists because of the prevalence of variability in the real world. In its simplest form, known as descriptive statistics, statistics provides us with tools—tables, graphs, averages, ranges, correlations—for organizing and summarizing the inevitable variability in collections of actual observations or scores\n",
    "\n",
    "Examples:\n",
    "1. A graph showing the annual change in global temperature during the last 30 years\n",
    "2. A report that describes the average difference in grade point average (GPA) between college students who regularly drink alcoholic beverages and those who don’t."
   ]
  },
  {
   "cell_type": "markdown",
   "id": "available-specification",
   "metadata": {},
   "source": [
    "### Inferential Statistics\n",
    "Statistics also provides tools—a variety of tests and estimates—for generalizing beyond collections of actual observations. This more advanced area is known as inferential statistics. Tools from inferential statistics permit us to use a relatively small collection of actual observations\n",
    "\n",
    "Examples:\n",
    "1. A researcher’s hypothesis that, on average, meditators report fewer headaches than do nonmeditators\n",
    "2. An assertion about the relationship between job satisfaction and overall happiness."
   ]
  },
  {
   "cell_type": "markdown",
   "id": "remarkable-buddy",
   "metadata": {},
   "source": [
    "## Population vs. Sample\n",
    "Inferential statistics is concerned with generalizing beyond sets of actual observations, that is, with generalizing from a sample to a population. In statistics, a population refers to any complete collection of observations or potential observations, whereas a sample refers to any smaller collection of actual observations drawn from a population.\n",
    "\n",
    "<img src=\"./images/sample-population.png\" alt=\"sample-population\" width=500 align=\"left\" />"
   ]
  },
  {
   "cell_type": "markdown",
   "id": "packed-savannah",
   "metadata": {},
   "source": [
    "### Surveys (Random Sampling) vs. Experiments (Random Assignment)\n",
    "\n",
    "**Random sampling (Survey)** is a procedure designed to ensure that each potential observation in the population has an equal chance of being selected in a survey.\n",
    "\n",
    "Estimating the average anxiety score for all college students probably would not generate much interest. Instead, we might be interested in determining whether relaxation training causes, on average, a reduction in anxiety scores between two groups of otherwise similar college students.\n",
    "\n",
    "College students in the relaxation experiment probably are not a random sample from any intact population of interest, but rather a convenience sample consisting of volunteers from a limited pool of students fulfilling a course requirement. Accordingly, our focus shifts from random sampling to the random assignment of volunteers to the two groups.\n",
    "\n",
    "**Random assignment (Experiment)** is procedure designed to ensure that each person has an equal chance of being assigned to any group in an experiment.\n",
    "\n",
    "<img src=\"./images/assignment-survey.png\" alt=\"assignment-survey\" width=500 align=\"left\" />"
   ]
  },
  {
   "cell_type": "markdown",
   "id": "filled-brighton",
   "metadata": {},
   "source": [
    "Indicate whether each of the following terms is associated primarily with a survey (S) or an experiment (E).\n",
    "\n",
    "- random assignment\n",
    "- representative\n",
    "- generalization to the population\n",
    "- control group\n",
    "- real difference\n",
    "- random selection\n",
    "- convenience sample\n",
    "- volunteers"
   ]
  },
  {
   "cell_type": "markdown",
   "id": "working-favor",
   "metadata": {},
   "source": [
    "## Three Types of Data\n",
    "\n",
    "The precise form of a statistical analysis often depends on whether data are **qualitative**, **ranked**, or **quantitative**.\n",
    "\n",
    "- **Qualitative data** consist of words (Yes or No), letters (Y or N), or numerical codes (0 or 1) that represent a class or category.\n",
    "- **Ranked data** consist of numbers (1st, 2nd, . . . 40th place) that represent relative standing within a group.\n",
    "- **Quantitative data** consist of numbers (weights of 238, 170, . . . 185 lbs) that represent an amount or a count."
   ]
  },
  {
   "cell_type": "markdown",
   "id": "incorrect-recipe",
   "metadata": {},
   "source": [
    "Indicate whether each of the following terms is qualitative, ranked, or quantitative.\n",
    "\n",
    "- ethnic group\n",
    "- age\n",
    "- family size\n",
    "- academic major\n",
    "- sexual preference\n",
    "- IQ score\n",
    "- net worth (dollars)\n",
    "- third-place finish\n",
    "- gender\n",
    "- temperature"
   ]
  },
  {
   "cell_type": "markdown",
   "id": "coupled-rings",
   "metadata": {},
   "source": [
    "## Levels of Measurement\n",
    "\n",
    "The level of measurement specifies the extent to which a number (or word or letter) actually represents some attribute and, therefore, has implications for the appropriateness of various arithmetic operations and statistical procedures.\n",
    "\n",
    "For our purposes, there are three levels of measurement—**nominal**, **ordinal**, and **interval/ratio**—and these levels are paired with **qualitative**, **ranked**, and **quantitative** data, respectively."
   ]
  },
  {
   "cell_type": "markdown",
   "id": "deadly-scotland",
   "metadata": {},
   "source": [
    "### Qualitative Data and Nominal Measurement\n",
    "\n",
    "If people are classified as either male or female (or coded as 1 or 2), the data are qualitative and measurement is nominal. The single property of nominal measurement is **classification**—that is, sorting observations into different classes or categories.\n",
    "\n",
    "A distinctive feature of nominal measurement is its bare-bones representation of any attribute. For instance, a student is either male or female. Even with the introduction of arbitrary numerical codes, such as 1 for male and 2 for female, it would never be appropriate to claim that, because female is 2 and male is 1, females have twice as much gender as males. Similarly, **calculating an average with these numbers would be meaningless**."
   ]
  },
  {
   "cell_type": "markdown",
   "id": "disciplinary-mexico",
   "metadata": {},
   "source": [
    "### Ranked Data and Ordinal Measurement\n",
    "\n",
    "When any single number indicates only relative standing, such as first, second, or tenth place in a horse race or in a class of graduating seniors, the data are ranked and the level of measurement is ordinal. The distinctive property of ordinal measurement is **order**.\n",
    "\n",
    "Since ordinal measurement fails to reflect the actual distance between adjacent ranks, **simple arithmetic operations with ranks are inappropriate**. For example, it’s inappropriate to conclude that the arithmetic mean of ranks 1 and 3 equals rank 2, since this assumes that the actual distance between ranks 1 and 2 equals the distance between ranks 2 and 3."
   ]
  },
  {
   "cell_type": "markdown",
   "id": "forty-venice",
   "metadata": {},
   "source": [
    "### Quantitative Data and Interval/Ratio Measurement\n",
    "\n",
    "The distinctive properties of interval/ratio measurement are **equal intervals** and a **true zero**.\n",
    "\n",
    "**Equal intervals** imply that hefting a 10-lb weight while on the bathroom scale always registers your actual weight plus 10 lbs.\n",
    "\n",
    "A **true zero** signifies that the bathroom scale registers 0 when not in use—that is,\n",
    "when weight is completely absent."
   ]
  },
  {
   "cell_type": "markdown",
   "id": "smooth-infection",
   "metadata": {},
   "source": [
    "### Measurement of Nonphysical Characteristics\n",
    "\n",
    "In the absence of a true zero, it would be inappropriate to claim that an IQ score of 140 represents twice as much intellectual aptitude as an IQ score of 70.\n",
    "\n",
    "Other interpretations are possible. One possibility is to treat IQ scores as attaining only ordinal measurement—that is, for example, a score of 140 represents more intellectual aptitude than a score of 130—without specifying the actual size of this difference."
   ]
  },
  {
   "cell_type": "markdown",
   "id": "valuable-joint",
   "metadata": {},
   "source": [
    "### Summary\n",
    "\n",
    "<img src=\"./images/data-types.png\" alt=\"data-types\" width=500 align=\"left\" />"
   ]
  },
  {
   "cell_type": "markdown",
   "id": "brief-bhutan",
   "metadata": {},
   "source": [
    "## Types of Variables\n",
    "\n",
    "A variable is a characteristic or property that can take on different values."
   ]
  },
  {
   "cell_type": "markdown",
   "id": "cooked-mileage",
   "metadata": {},
   "source": [
    "### Discrete and Continuous Variables\n",
    "\n",
    "- A **discrete variable** consists of isolated numbers separated by gaps.\n",
    "- A **continuous variable** consists of numbers whose values, at least in theory, have no restrictions."
   ]
  },
  {
   "cell_type": "markdown",
   "id": "adjacent-henry",
   "metadata": {},
   "source": [
    "### Independent and Dependent Variables\n",
    "\n",
    "- In an experiment, an **independent variable** is the treatment manipulated by the investigator.\n",
    "- When a variable is believed to have been **influenced by the independent variable**, it is called a **dependent variable**. \n",
    "\n",
    "Unlike the independent variable, the dependent variable isn’t manipulated by the investigator. Instead, it represents an outcome: the data produced by the experiment."
   ]
  },
  {
   "cell_type": "markdown",
   "id": "lucky-jenny",
   "metadata": {},
   "source": [
    "With just a little practice, you should be able to identify these two types of variables. In an experiment, what is being manipulated by the investigator at the outset and, therefore, qualifies as the independent variable? What is measured, counted, or recorded by the investigator at the completion of the study and, therefore, qualifies as the dependent variable? Once these two variables have been identified, they can be used to describe the problem posed by the study; that is, does the independent variable cause a change in the dependent variable?"
   ]
  },
  {
   "cell_type": "markdown",
   "id": "immediate-village",
   "metadata": {},
   "source": [
    "<img src=\"./images/obs-experiment.png\" alt=\"observation-experiment\" width=500 align=\"left\" />"
   ]
  }
 ],
 "metadata": {
  "kernelspec": {
   "display_name": "Python 3",
   "language": "python",
   "name": "python3"
  },
  "language_info": {
   "codemirror_mode": {
    "name": "ipython",
    "version": 3
   },
   "file_extension": ".py",
   "mimetype": "text/x-python",
   "name": "python",
   "nbconvert_exporter": "python",
   "pygments_lexer": "ipython3",
   "version": "3.7.9"
  }
 },
 "nbformat": 4,
 "nbformat_minor": 5
}
