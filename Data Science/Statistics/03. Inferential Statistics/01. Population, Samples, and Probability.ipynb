{
 "cells": [
  {
   "cell_type": "markdown",
   "id": "humanitarian-input",
   "metadata": {},
   "source": [
    "# Population, Samples, and Probability"
   ]
  },
  {
   "cell_type": "markdown",
   "id": "detected-situation",
   "metadata": {},
   "source": [
    "- **Population:** Any complete set of observations (or potential observations) may be characterized as a population.\n",
    "- **Sample:** Any subset of observations from a population may be characterized as a sample."
   ]
  },
  {
   "cell_type": "markdown",
   "id": "front-tuesday",
   "metadata": {},
   "source": [
    "**Random Sampling:** Random sampling occurs if, at each stage of sampling, the selection process guarantees that all potential observations in the population have an equal chance of being included in the sample."
   ]
  },
  {
   "cell_type": "markdown",
   "id": "optimum-hollow",
   "metadata": {},
   "source": [
    "**Probability:** Probability refers to the proportion or fraction of times that a particular event is likely to occur"
   ]
  },
  {
   "cell_type": "markdown",
   "id": "flying-norway",
   "metadata": {},
   "source": [
    "## Probabilities of Complex Events\n",
    "\n",
    "Often you can find the probabilities of more complex events by using two rules-the addition and multiplication rules."
   ]
  },
  {
   "cell_type": "markdown",
   "id": "working-hundred",
   "metadata": {},
   "source": [
    "### 1. Addition Rule\n",
    "\n",
    "_What’s the probability that a randomly selected man will be at least 73 inches tall?_ That’s the same as asking, _What’s the probability that a man will stand 73 inches tall or taller?_"
   ]
  },
  {
   "cell_type": "markdown",
   "id": "above-rubber",
   "metadata": {},
   "source": [
    "To answer this type of question, which involves a cluster of simple events connected by the word or, merely add the respective probabilities.\n",
    "\n",
    "`Pr(X >= 73) = Pr(73) + Pr(74) + Pr(75) + Pr(76 or taller) = .05 + .03 + .02 + .02 = .12`"
   ]
  },
  {
   "cell_type": "markdown",
   "id": "superior-chapter",
   "metadata": {},
   "source": [
    "#### Mutually Exclusive Events\n",
    "\n",
    "The addition of probabilities, as just stated, works only when none of the events can occur together. This is true in the present case because, for instance, a single man can’t stand both 73 and 74 inches tall.\n",
    "\n",
    "By the same token, a single person’s blood type can’t be both O and B (or any other type); nor can a single person’s birth month be both January and February (or any other month). Whenever events can’t occur together—that is, more technically, when there are **mutually exclusive events**.\n",
    "\n",
    "the probability that any one of these several events will occur is given by the addition rule. Therefore, whenever you must find the probability for two or more sets of mutually exclusive events connected by the word or, use the addition rule."
   ]
  },
  {
   "cell_type": "markdown",
   "id": "significant-executive",
   "metadata": {},
   "source": [
    "**Addition Rule for Mutually Exclusive Events**\n",
    "\n",
    "`Pr(A or B) = Pr(A) + Pr(B)`"
   ]
  },
  {
   "cell_type": "markdown",
   "id": "republican-january",
   "metadata": {},
   "source": [
    "#### When Events Aren’t Mutually Exclusive\n",
    "\n",
    "When events aren’t mutually exclusive because they can occur together, the addition rule must be adjusted for the overlap between outcomes."
   ]
  },
  {
   "cell_type": "markdown",
   "id": "understanding-medication",
   "metadata": {},
   "source": [
    "For example, assume that students in your class are seniors with probability `0.20`, psychology majors with probability `0.70`, and both seniors and psychology majors with probability `0.10`. To determine the probability that a student is either a senior or a psychology major, add the first two probabilities (`0.20 + 0.70 = 0.90`), but then subtract the third probability (`0.90 − 0.10 = 0.80`)"
   ]
  },
  {
   "cell_type": "markdown",
   "id": "designed-client",
   "metadata": {},
   "source": [
    "> **Quiz:** Assuming that people are equally likely to be born during any one of the months, what is the probability of Jack being born during\n",
    ">\n",
    ">- (a) June?\n",
    ">- (b) any month other than June?\n",
    ">- (c) either May or June?"
   ]
  },
  {
   "cell_type": "markdown",
   "id": "cross-magnet",
   "metadata": {},
   "source": [
    "### 2. Multiplication Rule\n",
    "\n",
    "Given a probability of `0.12` that a randomly selected man will be at least 73 inches tall, _what is the probability that two randomly selected men will be at least 73 inches tall?_ That is the same as asking, _What is the probability that the first man will stand at least 73 inches tall and that the second man will stand at least 73 inches tall?_"
   ]
  },
  {
   "cell_type": "markdown",
   "id": "endless-revision",
   "metadata": {},
   "source": [
    "To answer this type of question, which involves clusters of simple events connected by the word and, merely multiply the respective probabilities. The probability that both men will stand at least 73 inches tall equals the product of the probabilities.\n",
    "\n",
    "`Pr(X_1 >= 73 and X_2 >= 73) = [Pr(X_1) >= 73][Pr(X_2) >= 73] = (0.12)(0.12) = 0.0144`"
   ]
  },
  {
   "cell_type": "markdown",
   "id": "prescribed-concept",
   "metadata": {},
   "source": [
    "> **Note:** The probability of two events occurring together (.0144) is smaller than the probability of either event occurring alone (.12). If you think about it, this should make sense. The combined occurrence of two events is less likely than the solitary occurrence of just one of the two events."
   ]
  },
  {
   "cell_type": "markdown",
   "id": "normal-norman",
   "metadata": {},
   "source": [
    "#### Independent Events\n",
    "\n",
    "The multiplication of probabilities, as discussed, works only because the occurrence of one event has no effect on the probability of the other event."
   ]
  },
  {
   "cell_type": "markdown",
   "id": "injured-workshop",
   "metadata": {},
   "source": [
    "This is true in the present case because, when randomly selecting from the population of American men, the initial appearance of a man at least 73 inches tall has no effect, practically speaking, on the probability that the next man also will be at least 73 inches tall. By the same token, the birth of a girl in a family has no effect on the probability of .50 that the next family addition also will be a girl, and the winning lottery number for this week has no effect on the probability that a particular lottery number will be a winner for the next week. Whenever one event has no effect on the other—that is, more technically, when there are **independent events**—the probability of the combined or joint occurrence of both events is given by the multiplication rule."
   ]
  },
  {
   "cell_type": "markdown",
   "id": "bizarre-liver",
   "metadata": {},
   "source": [
    "Whenever you must find the probability for two or more sets of independent events connected by the word and, use the **multiplication rule**. The multiplication rule tells us to multiply together the separate probabilities of several independent events in order to find the probability that these events will occur together. Stated generally, for the independent events A and B, the multiplication rule reads:"
   ]
  },
  {
   "cell_type": "markdown",
   "id": "sharp-certification",
   "metadata": {},
   "source": [
    "**Multiplication Rule for Independent Event**\n",
    "\n",
    "`Pr(A and B) = [Pr(A)][Pr(B)]`"
   ]
  },
  {
   "cell_type": "markdown",
   "id": "surface-cleaning",
   "metadata": {},
   "source": [
    "> **Quiz:** Assuming that people are equally likely to be born during any of the\n",
    "months, and also assuming (possibly over the objections of astrology fans) that the birthdays\n",
    "of married couples are independent, what’s the probability of\n",
    ">\n",
    ">- (a) the husband being born during January and the wife being born during February?\n",
    ">- (b) both husband and wife being born during December?\n",
    ">- (c) both husband and wife being born during the spring (April or May)? (Hint: First, find the probability of just one person being born during April or May.)"
   ]
  },
  {
   "cell_type": "markdown",
   "id": "periodic-revision",
   "metadata": {},
   "source": [
    "#### Dependent Events\n",
    "\n",
    "When the occurrence of one event affects the probability of the other event, these events are dependent. Although the heights of randomly selected pairs of men are independent, the heights of brothers are dependent. Knowing, for instance, that one person is relatively tall increases the probability that his brother also will be relatively tall."
   ]
  },
  {
   "cell_type": "markdown",
   "id": "stylish-french",
   "metadata": {},
   "source": [
    "#### Conditional Probabilities\n",
    "\n",
    "Before multiplying to obtain the probability that two dependent events occur together, the probability of the second event must be adjusted to reflect its dependency on the prior occurrence of the first event. This new probability is the **conditional probability** of the second event, given the first event."
   ]
  },
  {
   "cell_type": "markdown",
   "id": "personalized-pixel",
   "metadata": {},
   "source": [
    "Examples of conditional probabilities are the probability that you will earn a grade of A in a course, given that you have already gotten an A on the midterm, or the probability that you’ll graduate from college, given that you’ve already completed the first two years."
   ]
  },
  {
   "cell_type": "markdown",
   "id": "unauthorized-sacrifice",
   "metadata": {},
   "source": [
    "> **Quiz:** Among 100 couples who had undergone marital counseling, 60 couples described their relationships as improved, and among this latter group, 45 couples had children. The remaining couples described their relationships as unimproved, and among this group, 5 couples had children.\n",
    ">\n",
    ">- (a) What is the probability of randomly selecting a couple who described their relationship as\n",
    "improved?\n",
    ">- (b) What is the probability of randomly selecting a couple with children?\n",
    ">- (c) What is the conditional probability of randomly selecting a couple with children, given that\n",
    "their relationship was described as improved?\n",
    ">- (d) What is the conditional probability of randomly selecting a couple without children, given\n",
    "that their relationship was described as not improved?\n",
    ">- (e) What is the conditional probability of an improved relationship, given that a couple has\n",
    "children?"
   ]
  },
  {
   "cell_type": "markdown",
   "id": "worth-engineer",
   "metadata": {},
   "source": [
    "> **Note:** Don’t confuse **independent and dependent outcomes** with **independent and dependent variables**. Independent and dependent outcomes refer to whether or not the occurrence of one outcome affects the probability that the other outcome will occur and dictates the precise form of the multiplication rule. On the other hand, as described in Chapter 1, independent and dependent variables refer to the manipulated and measured variables in experiments. Usually, the context— whether calculating the probabilities of complex outcomes or describing the essential features of an experiment—will make the meanings of these terms clear."
   ]
  },
  {
   "cell_type": "code",
   "execution_count": null,
   "id": "banned-jacksonville",
   "metadata": {},
   "outputs": [],
   "source": []
  }
 ],
 "metadata": {
  "kernelspec": {
   "display_name": "Python 3",
   "language": "python",
   "name": "python3"
  },
  "language_info": {
   "codemirror_mode": {
    "name": "ipython",
    "version": 3
   },
   "file_extension": ".py",
   "mimetype": "text/x-python",
   "name": "python",
   "nbconvert_exporter": "python",
   "pygments_lexer": "ipython3",
   "version": "3.7.9"
  }
 },
 "nbformat": 4,
 "nbformat_minor": 5
}
