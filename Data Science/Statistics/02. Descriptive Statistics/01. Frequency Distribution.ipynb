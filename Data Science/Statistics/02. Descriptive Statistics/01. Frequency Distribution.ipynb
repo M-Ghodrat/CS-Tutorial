{
 "cells": [
  {
   "cell_type": "code",
   "execution_count": 6,
   "id": "sapphire-survival",
   "metadata": {},
   "outputs": [],
   "source": [
    "import seaborn as sns\n",
    "import numpy as np\n",
    "import matplotlib.pyplot as plt"
   ]
  },
  {
   "cell_type": "markdown",
   "id": "interpreted-potential",
   "metadata": {},
   "source": [
    "# Frequency Distribution"
   ]
  },
  {
   "cell_type": "markdown",
   "id": "rough-yellow",
   "metadata": {},
   "source": [
    "## Frequency Distribution for Quantitative Data"
   ]
  },
  {
   "cell_type": "markdown",
   "id": "bound-measure",
   "metadata": {},
   "source": [
    "**A frequency distribution is a collection of observations produced by sorting observations into classes and showing their frequency (f) of occurrence in each class.**"
   ]
  },
  {
   "cell_type": "markdown",
   "id": "demonstrated-evolution",
   "metadata": {},
   "source": [
    "When observations are sorted into classes of single values the result is referred to as a frequency distribution for **ungrouped data**. For example:"
   ]
  },
  {
   "cell_type": "code",
   "execution_count": 2,
   "id": "silent-continent",
   "metadata": {},
   "outputs": [],
   "source": [
    "data = [\n",
    "    3, 7, 2, 7, 8,\n",
    "    3, 1, 4, 10, 3,\n",
    "    2, 5, 3, 5, 8,\n",
    "    9, 7, 6, 3, 7,\n",
    "    8, 9, 7, 3, 6\n",
    "]"
   ]
  },
  {
   "cell_type": "code",
   "execution_count": 13,
   "id": "desperate-transformation",
   "metadata": {},
   "outputs": [
    {
     "data": {
      "text/plain": [
       "<seaborn.axisgrid.FacetGrid at 0x7f38c7ff2e50>"
      ]
     },
     "execution_count": 13,
     "metadata": {},
     "output_type": "execute_result"
    },
    {
     "data": {
      "image/png": "[encoded data removed]",
      "text/plain": [
       "<Figure size 360x360 with 1 Axes>"
      ]
     },
     "metadata": {
      "needs_background": "light"
     },
     "output_type": "display_data"
    }
   ],
   "source": [
    "sns.displot(data)"
   ]
  },
  {
   "cell_type": "markdown",
   "id": "funded-coaching",
   "metadata": {},
   "source": [
    "When observations are sorted into classes of more than one value, the result is referred to as a frequency distribution for grouped data. For example:"
   ]
  },
  {
   "cell_type": "code",
   "execution_count": 4,
   "id": "strong-french",
   "metadata": {},
   "outputs": [],
   "source": [
    "weight_data = {\n",
    "    '240-249': 1,\n",
    "    '230-239': 0,\n",
    "    '220-229': 3,\n",
    "    '210-219': 0,\n",
    "    '200-209': 2,\n",
    "    '190-199': 4,\n",
    "    '180-189': 3,\n",
    "    '170-179': 7,\n",
    "    '160-169': 12,\n",
    "    '150-159': 17,\n",
    "    '140-149': 1,\n",
    "    '130-139': 3,\n",
    "}"
   ]
  },
  {
   "cell_type": "code",
   "execution_count": 16,
   "id": "expanded-refund",
   "metadata": {},
   "outputs": [
    {
     "data": {
      "text/plain": [
       "<AxesSubplot:>"
      ]
     },
     "execution_count": 16,
     "metadata": {},
     "output_type": "execute_result"
    },
    {
     "data": {
      "image/png": "[encoded data removed]",
      "text/plain": [
       "<Figure size 432x288 with 1 Axes>"
      ]
     },
     "metadata": {
      "needs_background": "light"
     },
     "output_type": "display_data"
    }
   ],
   "source": [
    "sns.barplot(y=list(weight_data.keys()), x=list(weight_data.values()))"
   ]
  },
  {
   "cell_type": "markdown",
   "id": "rubber-evidence",
   "metadata": {},
   "source": [
    "Guidelines for frequency distributions:\n",
    "\n",
    "**Essential:**\n",
    "\n",
    "1. Each observation should be included in one, and only one, class.\n",
    "\n",
    "Example: 130–139, 140–149, 150–159, etc. It would be incorrect to use 130–140, 140–150, 150–160, etc., in which, because the boundaries of classes overlap, an observation of 140 (or 150) could be assigned to either of two classes.\n",
    "\n",
    "2. List all classes, even those with zero frequencies.\n",
    "\n",
    "Example: Listed in Table 2.2 is the class 210–219 and its frequency of zero. It would be incorrect to skip this class because of its zero frequency.\n",
    "\n",
    "3. All classes should have equal intervals.\n",
    "Example: 130–139, 140–149, 150–159, etc. It would be incorrect to use 130–139, 140–159, etc., in which the second class interval (140–159) is twice as wide as the first class interval (130–139).\n",
    "\n",
    "**Optional**\n",
    "\n",
    "4. All classes should have both an upper boundary and a lower\n",
    "boundary.\n",
    "Example: 240–249. Less preferred would be 240–above, in which no maximum value can be assigned to observations in this class. (Nevertheless, this type of open-ended class is employed as a space-saving device when many different tables must be listed, as in the Statistical Abstract of the United States. An open-ended class appears in the table “Two Age Distributions” in Review Question 2.17 at the end of this chapter.)\n",
    "\n",
    "5. Select the class interval from convenient numbers, such as 1, 2, 3, . . . 10, particularly 5 and 10 or multiples of 5 and 10.\n",
    "\n",
    "Example: 130–139, 140–149, in which the class interval of 10 is a convenient number. Less preferred would be 130–142, 143–155, etc., in which the class interval of 13 is not a convenient number.\n",
    "\n",
    "6. The lower boundary of each class interval should be a multiple of the class interval.\n",
    "\n",
    "Example: 130–139, 140–149, in which the lower boundaries of 130, 140, are multiples of 10, the class interval. Less preferred would be 135–144, 145–154, etc., in which the lower boundaries of 135 and 145 are not multiples of 10, the class interval.\n",
    "\n",
    "7. Aim for a total of approximately 10 classes.\n",
    "\n",
    "Example: The distribution in Table 2.2 uses 12 classes. Less preferred would be the distributions in Tables 2.3 and 2.4. The distribution in Table 2.3 has too many classes (24), whereas the distribution in Table 2.4 has too few classes (3)."
   ]
  },
  {
   "cell_type": "markdown",
   "id": "further-punishment",
   "metadata": {},
   "source": [
    "### Outliers\n",
    "\n",
    "Be prepared to deal occasionally with the appearance of one or more very extreme scores, or outliers. A GPA of 0.06, an IQ of 170, summer wages of $62,000—each requires special attention because of its potential impact on a summary of the data."
   ]
  },
  {
   "cell_type": "markdown",
   "id": "numeric-illustration",
   "metadata": {},
   "source": [
    "#### Check for Accuracy\n",
    "\n",
    "Whenever you encounter an outrageously extreme value, such as a GPA of 0.06, attempt to verify its accuracy. For instance, was a respectable GPA of 3.06 recorded erroneously as 0.06? If the outlier survives an accuracy check, it should be treated as a legitimate score."
   ]
  },
  {
   "cell_type": "markdown",
   "id": "cosmetic-mills",
   "metadata": {},
   "source": [
    "#### Might Exclude from Summaries\n",
    "You might choose to segregate (but not to suppress!) an outlier from any summary of the data. For example, you might relegate it to a footnote instead of using excessively wide class intervals in order to include it in a frequency distribution. Or you might use various numerical summaries, such as the median and interquartile range, to be discussed in Chapters 3 and 4, that ignore extreme scores, including outliers."
   ]
  },
  {
   "cell_type": "markdown",
   "id": "proof-indonesia",
   "metadata": {},
   "source": [
    "#### Might Enhance Understanding\n",
    "\n",
    "Insofar as a valid outlier can be viewed as the product of special circumstances, it might help you to understand the data. For example, you might understand better why crime rates differ among communities by studying the special circumstances that produce a community with an extremely low (or high) crime rate, or why learning rates differ among third graders by studying a third grader who learns very rapidly (or very slowly)."
   ]
  },
  {
   "cell_type": "markdown",
   "id": "posted-sweden",
   "metadata": {},
   "source": [
    "### Relative Frequency Distributions"
   ]
  },
  {
   "cell_type": "markdown",
   "id": "indonesian-values",
   "metadata": {},
   "source": [
    "Relative frequency distributions show the frequency of each class as a part or\n",
    "fraction of the total frequency for the entire distribution."
   ]
  },
  {
   "cell_type": "code",
   "execution_count": 17,
   "id": "documentary-uniform",
   "metadata": {},
   "outputs": [],
   "source": [
    "weight_data = {\n",
    "    '240-249': 0.02,\n",
    "    '230-239': 0.00,\n",
    "    '220-229': 0.06,\n",
    "    '210-219': 0.00,\n",
    "    '200-209': 0.04,\n",
    "    '190-199': 0.08,\n",
    "    '180-189': 0.06,\n",
    "    '170-179': 0.13,\n",
    "    '160-169': 0.23,\n",
    "    '150-159': 0.32,\n",
    "    '140-149': 0.02,\n",
    "    '130-139': 0.04,\n",
    "}"
   ]
  },
  {
   "cell_type": "code",
   "execution_count": 18,
   "id": "foreign-advocate",
   "metadata": {},
   "outputs": [
    {
     "data": {
      "text/plain": [
       "1.0"
      ]
     },
     "execution_count": 18,
     "metadata": {},
     "output_type": "execute_result"
    }
   ],
   "source": [
    "sum(weight_data.values())"
   ]
  },
  {
   "cell_type": "code",
   "execution_count": 19,
   "id": "nominated-addiction",
   "metadata": {},
   "outputs": [
    {
     "data": {
      "text/plain": [
       "<AxesSubplot:>"
      ]
     },
     "execution_count": 19,
     "metadata": {},
     "output_type": "execute_result"
    },
    {
     "data": {
      "image/png": "[encoded data removed]",
      "text/plain": [
       "<Figure size 432x288 with 1 Axes>"
      ]
     },
     "metadata": {
      "needs_background": "light"
     },
     "output_type": "display_data"
    }
   ],
   "source": [
    "sns.barplot(y=list(weight_data.keys()), x=list(weight_data.values()))"
   ]
  },
  {
   "cell_type": "markdown",
   "id": "local-chuck",
   "metadata": {},
   "source": [
    "### Cumulative Frequency Distribution"
   ]
  },
  {
   "cell_type": "markdown",
   "id": "viral-handbook",
   "metadata": {},
   "source": [
    "This type of distribution can be used effectively with sets of scores, such as test scores for intellectual or academic aptitude, **when relative standing within the distribution assumes primary importance**. Under these circumstances, cumulative frequencies are usually converted, in turn, to cumulative percentages. Cumulative percentages are often referred to as percentile ranks."
   ]
  },
  {
   "cell_type": "code",
   "execution_count": 2,
   "id": "prepared-account",
   "metadata": {},
   "outputs": [],
   "source": [
    "weight_data = {\n",
    "    '240-249': 100,\n",
    "    '230-239': 98,\n",
    "    '220-229': 98,\n",
    "    '210-219': 92,\n",
    "    '200-209': 92,\n",
    "    '190-199': 89,\n",
    "    '180-189': 81,\n",
    "    '170-179': 75,\n",
    "    '160-169': 62,\n",
    "    '150-159': 40,\n",
    "    '140-149': 8,\n",
    "    '130-139': 6,\n",
    "}"
   ]
  },
  {
   "cell_type": "code",
   "execution_count": 7,
   "id": "fatal-trinity",
   "metadata": {},
   "outputs": [
    {
     "data": {
      "image/png": "[encoded data removed]",
      "text/plain": [
       "<Figure size 432x288 with 1 Axes>"
      ]
     },
     "metadata": {
      "needs_background": "light"
     },
     "output_type": "display_data"
    }
   ],
   "source": [
    "y = list(weight_data.values())\n",
    "y.reverse()\n",
    "\n",
    "x = list(weight_data.keys())\n",
    "x.reverse()\n",
    "\n",
    "g = sns.lineplot(y=y, x=x)\n",
    "plt.xticks(rotation=45);"
   ]
  },
  {
   "cell_type": "markdown",
   "id": "nutritional-nickname",
   "metadata": {},
   "source": [
    "**Percentile Ranks**\n",
    "\n",
    "When used to describe the relative position of any score within its parent distribution, cumulative percentages are referred to as percentile ranks. The percentile rank of a score indicates the percentage of scores in the entire distribution with similar or smaller values than that score. Thus a weight has a percentile rank of 80 if equal or lighter weights constitute 80 percent of the entire distribution."
   ]
  },
  {
   "cell_type": "markdown",
   "id": "public-kennedy",
   "metadata": {},
   "source": [
    "**Approximate Percentile Ranks (from Grouped Data)**\n",
    "\n",
    "The assignment of exact percentile ranks requires that cumulative percentages be obtained from frequency distributions for ungrouped data. If we have access only to a frequency distribution for grouped data, as in Table 2.6, cumulative percentages can be used to assign approximate percentile ranks. In Table 2.6, for example, any weight in the class 170–179 could be assigned an approximate percentile rank of 75, since 75 is the cumulative percent for this class."
   ]
  },
  {
   "cell_type": "markdown",
   "id": "behind-swedish",
   "metadata": {},
   "source": [
    "## Frequency Distributions for Qualitative (Nominal) Data"
   ]
  },
  {
   "cell_type": "markdown",
   "id": "assumed-negotiation",
   "metadata": {},
   "source": [
    "When, among a set of observations, any single observation is a word, letter, or numerical code, the data are qualitative. Frequency distributions for qualitative data are easy to construct. Simply determine the frequency with which observations occupy each class, and report these frequencies"
   ]
  },
  {
   "cell_type": "code",
   "execution_count": 4,
   "id": "technological-dylan",
   "metadata": {},
   "outputs": [],
   "source": [
    "data = {\n",
    "    \"General\": 311,\n",
    "    \"Colonel\": 13_156,\n",
    "    \"Major\": 16_108,\n",
    "    \"Captain\": 29_169,\n",
    "    \"Lieutenant\": 20_083,\n",
    "}"
   ]
  },
  {
   "cell_type": "code",
   "execution_count": 8,
   "id": "streaming-racing",
   "metadata": {},
   "outputs": [
    {
     "data": {
      "image/png": "[encoded data removed]",
      "text/plain": [
       "<Figure size 432x288 with 1 Axes>"
      ]
     },
     "metadata": {
      "needs_background": "light"
     },
     "output_type": "display_data"
    }
   ],
   "source": [
    "y = list(data.values())\n",
    "         \n",
    "x = list(data.keys())\n",
    "\n",
    "g = sns.barplot(y=y, x=x)\n",
    "plt.xticks(rotation=45);"
   ]
  },
  {
   "cell_type": "code",
   "execution_count": 52,
   "id": "effective-dietary",
   "metadata": {},
   "outputs": [
    {
     "data": {
      "image/png": "[encoded data removed]",
      "text/plain": [
       "<Figure size 432x288 with 1 Axes>"
      ]
     },
     "metadata": {
      "needs_background": "light"
     },
     "output_type": "display_data"
    }
   ],
   "source": [
    "y = list(data.values())\n",
    "         \n",
    "x = list(data.keys())\n",
    "\n",
    "g = sns.lineplot(y=np.cumsum(y), x=x)\n",
    "plt.xticks(rotation=45);"
   ]
  },
  {
   "cell_type": "markdown",
   "id": "speaking-reminder",
   "metadata": {},
   "source": [
    "## Typical Shapes"
   ]
  },
  {
   "cell_type": "markdown",
   "id": "daily-employer",
   "metadata": {},
   "source": [
    "Whether expressed as a histogram, a frequency polygon, or a stem and leaf display, an important characteristic of a frequency distribution is its shape."
   ]
  },
  {
   "cell_type": "markdown",
   "id": "tested-support",
   "metadata": {},
   "source": [
    "<img src=\"../images/typical_shapes.png\" alt=\"typical shapes\" width=600 align=\"left\" />"
   ]
  },
  {
   "cell_type": "markdown",
   "id": "considered-grain",
   "metadata": {},
   "source": [
    "### Normal\n",
    "\n",
    "Any distribution that approximates the normal shape can be analyzed, as we will see later in other sections, with the aid of the well-documented normal curve. The familiar bell-shaped silhouette of the normal curve can be superimposed on many frequency distributions, including those for   interrupted gestation periods of human fetuses, scores on standardized tests, and even the popping times of individual kernels in a batch of popcorn."
   ]
  },
  {
   "cell_type": "markdown",
   "id": "disciplinary-philadelphia",
   "metadata": {},
   "source": [
    "## Bimodal\n",
    "\n",
    "Any distribution that approximates the bimodal shape reflect the coexistence of two different types of observations in the same distribution. For instance, the distribution of the ages of residents in a neighborhood consisting largely of either new parents or their infants has a bimodal shape."
   ]
  },
  {
   "cell_type": "markdown",
   "id": "centered-cedar",
   "metadata": {},
   "source": [
    "### Positively/Negatively Skewed\n",
    "\n",
    "The two remaining shapes are lopsided.\n",
    "\n",
    "A lopsided distribution caused by a few extreme observations in the positive direction (to the right of the majority of observations) is a positively skewed distribution. The distribution of incomes among U.S. families has a pronounced positive skew, with most family incomes under $200,000 and relatively few family incomes spanning a wide range of values above\n",
    "\n",
    "A lopsided distribution caused by a few extreme observations in the negative direction (to the left of the majority of observations) is a negatively\n",
    "skewed distribution. The distribution of ages at retirement among U.S. job holders has a pronounced negative skew, with most retirement ages at 60 years or older and relatively few retirement ages spanning the wide range of ages younger than 60.\n",
    "\n",
    "#### Positively or Negatively Skewed?\n",
    "\n",
    "Some people have difficulty with this terminology, probably because an entire distribution is labeled on the basis of the relative location, in the positive or negative direction, of a few extreme observations, rather than on the basis of the location of the majority of observations. To make this distinction, always force yourself to focus on the relative locations of the few extreme observations."
   ]
  }
 ],
 "metadata": {
  "kernelspec": {
   "display_name": "Python 3",
   "language": "python",
   "name": "python3"
  },
  "language_info": {
   "codemirror_mode": {
    "name": "ipython",
    "version": 3
   },
   "file_extension": ".py",
   "mimetype": "text/x-python",
   "name": "python",
   "nbconvert_exporter": "python",
   "pygments_lexer": "ipython3",
   "version": "3.7.9"
  }
 },
 "nbformat": 4,
 "nbformat_minor": 5
}
