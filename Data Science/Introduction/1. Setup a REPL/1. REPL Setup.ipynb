{
 "cells": [
  {
   "cell_type": "markdown",
   "id": "continuing-cable",
   "metadata": {},
   "source": [
    "# REPL Setup"
   ]
  },
  {
   "cell_type": "markdown",
   "id": "certified-tragedy",
   "metadata": {},
   "source": [
    "A read–eval–print loop (REPL), also termed an interactive toplevel or language shell, is a simple interactive computer programming environment that takes single user inputs, executes them, and returns the result to the user; a program written in a REPL environment is executed piecewise. "
   ]
  },
  {
   "cell_type": "markdown",
   "id": "informative-decimal",
   "metadata": {},
   "source": [
    "Below are a list of REPLs that you can optionally install to make working in data science more developer-friendly."
   ]
  },
  {
   "cell_type": "markdown",
   "id": "hollywood-cliff",
   "metadata": {},
   "source": [
    "## IPython\n",
    "\n",
    "[IPython](https://ipython.org/install.html) is an upgraded Python [read-eval-print loop (REPL)](https://en.wikipedia.org/wiki/Read%E2%80%93eval%E2%80%93print_loop) that makes editing code in a live interpreter session more straightforward and prettier. Here’s what an IPython REPL session looks like:\n",
    "\n",
    "```bash\n",
    "In [1]: import numpy as np\n",
    "\n",
    "In [2]: digits = np.array([\n",
    "   ...:     [1, 2, 3],\n",
    "   ...:     [4, 5, 6],\n",
    "   ...:     [6, 7, 9],\n",
    "   ...: ])\n",
    "\n",
    "In [3]: digits\n",
    "Out[3]:\n",
    "array([[1, 2, 3],\n",
    "       [4, 5, 6],\n",
    "       [6, 7, 9]])\n",
    "```"
   ]
  },
  {
   "cell_type": "markdown",
   "id": "opened-glossary",
   "metadata": {},
   "source": [
    "It has several differences from a basic Python REPL, including its line numbers, use of colors, and quality of array visualizations. There are also a lot of user-experience bonuses that make it more pleasant to enter, re-enter, and edit code."
   ]
  },
  {
   "cell_type": "markdown",
   "id": "parallel-messaging",
   "metadata": {},
   "source": [
    "You can install IPython as a standalone:\n",
    "\n",
    "```bash\n",
    "$ pip install ipython\n",
    "```"
   ]
  },
  {
   "cell_type": "markdown",
   "id": "numerical-target",
   "metadata": {},
   "source": [
    "Alternatively, if you wait and install any of the subsequent tools, then they’ll include a copy of IPython."
   ]
  },
  {
   "cell_type": "markdown",
   "id": "clear-hypothesis",
   "metadata": {},
   "source": [
    "## Notebook\n",
    "\n",
    "A slightly more featureful alternative to a REPL is a **notebook**. Notebooks are a slightly different style of writing Python than standard scripts, though. Instead of a traditional Python file, they give you a series of mini-scripts called **cells** that you can run and re-run in whatever order you want, all in the same Python memory session."
   ]
  },
  {
   "cell_type": "markdown",
   "id": "prescribed-headset",
   "metadata": {},
   "source": [
    "One neat thing about notebooks is that you can include graphs and render Markdown paragraphs between cells, so they’re really nice for writing up data analyses right inside the code!"
   ]
  },
  {
   "cell_type": "markdown",
   "id": "valuable-tenant",
   "metadata": {},
   "source": [
    "Here’s what it looks like:\n",
    "\n",
    "<img src=\"../images/notebook.png\" alt=\"notebook\" width=400 align=\"left\" />"
   ]
  },
  {
   "cell_type": "markdown",
   "id": "every-bouquet",
   "metadata": {},
   "source": [
    "The most popular notebook offering is probably the [Jupyter Notebook](https://realpython.com/jupyter-notebook-introduction/), but [nteract](https://nteract.io/)\n",
    "is another option that wraps the Jupyter functionality and attempts to make it a bit more approachable and powerful."
   ]
  },
  {
   "cell_type": "markdown",
   "id": "motivated-excerpt",
   "metadata": {},
   "source": [
    "However, if you’re looking at Jupyter Notebook and thinking that it needs more IDE-like qualities, then [JupyterLab](https://jupyterlab.readthedocs.io/en/stable/) is another option. You can customize text editors, notebooks, terminals, and custom components, all in a browser-based interface. It will likely be more comfortable for people coming from [MatLab](https://realpython.com/matlab-vs-python/). It’s the youngest of the offerings, but its 1.0 release was back in 2019, so it should be stable and full featured."
   ]
  },
  {
   "cell_type": "markdown",
   "id": "affecting-biology",
   "metadata": {},
   "source": [
    "This is what the interface looks like:\n",
    "\n",
    "<img src=\"../images/jupyterlab.png\" alt=\"jupyterlab\" width=400 align=\"left\" />"
   ]
  },
  {
   "cell_type": "markdown",
   "id": "bright-treasurer",
   "metadata": {},
   "source": [
    "Whichever option you choose, once you have it installed, you’ll be ready to run your first lines of data science codes."
   ]
  }
 ],
 "metadata": {
  "kernelspec": {
   "display_name": "Python 3",
   "language": "python",
   "name": "python3"
  },
  "language_info": {
   "codemirror_mode": {
    "name": "ipython",
    "version": 3
   },
   "file_extension": ".py",
   "mimetype": "text/x-python",
   "name": "python",
   "nbconvert_exporter": "python",
   "pygments_lexer": "ipython3",
   "version": "3.7.9"
  }
 },
 "nbformat": 4,
 "nbformat_minor": 5
}
