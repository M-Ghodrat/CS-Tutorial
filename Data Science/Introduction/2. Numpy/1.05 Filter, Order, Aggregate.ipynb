{
 "cells": [
  {
   "cell_type": "markdown",
   "id": "victorian-emerald",
   "metadata": {},
   "source": [
    "# Data Science Operations: Filter, Order, Aggregate\n",
    "\n",
    "That wraps up a section that was heavy in theory but a little light on practical, real-world examples. In this section, you’ll work through some examples of real, useful data science operations: filtering, sorting, and aggregating data."
   ]
  },
  {
   "cell_type": "markdown",
   "id": "failing-microwave",
   "metadata": {},
   "source": [
    "## Indexing\n",
    "\n",
    "Indexing uses many of the same idioms that normal Python code uses. You can use positive or negative indices to index from the front or back of the array. You can use a colon (`:`) to specify “the rest” or “all,” and you can even use two colons to skip elements as with regular Python lists."
   ]
  },
  {
   "cell_type": "markdown",
   "id": "coordinate-color",
   "metadata": {},
   "source": [
    "Here’s the difference: NumPy arrays use commas between axes, so you can index multiple axes in one set of square brackets. An example is the easiest way to show this off. It’s time to confirm [Dürer’s magic square](https://en.wikipedia.org/wiki/Magic_square#Albrecht_D%C3%BCrer's_magic_square)!"
   ]
  },
  {
   "cell_type": "markdown",
   "id": "generic-freeware",
   "metadata": {},
   "source": [
    "The number square below has some amazing properties. If you add up any of the rows, columns, or diagonals, then you’ll get the same number, 34. That’s also what you’ll get if you add up each of the four quadrants, the center four squares, the four corner squares, or the four corner squares of any of the contained 3 × 3 grids. You’re going to prove it!"
   ]
  },
  {
   "cell_type": "markdown",
   "id": "median-possibility",
   "metadata": {},
   "source": [
    "> **Fun fact**: In the bottom row, the numbers 15 and 14 are in the middle, representing the year that Dürer created this square. The numbers 1 and 4 are also in that row, representing the first and fourth letters of the alphabet, A and D, which are the initials of the square’s creator, Albrecht Dürer!"
   ]
  },
  {
   "cell_type": "code",
   "execution_count": 187,
   "id": "consecutive-harmony",
   "metadata": {},
   "outputs": [],
   "source": [
    "import numpy as np\n",
    "\n",
    "square = np.array([\n",
    "    [16, 3, 2, 13],\n",
    "    [5, 10, 11, 8],\n",
    "    [9, 6, 7, 12],\n",
    "    [4, 15, 14, 1]\n",
    "])"
   ]
  },
  {
   "cell_type": "code",
   "execution_count": 191,
   "id": "bulgarian-template",
   "metadata": {},
   "outputs": [],
   "source": [
    "mylist = [\n",
    "    [16, 3, 2, 13],\n",
    "    [5, 10, 11, 8],\n",
    "    [9, 6, 7, 12],\n",
    "    [4, 15, 14, 1]\n",
    "]"
   ]
  },
  {
   "cell_type": "code",
   "execution_count": 188,
   "id": "broke-exception",
   "metadata": {},
   "outputs": [
    {
     "data": {
      "text/plain": [
       "(4, 4)"
      ]
     },
     "execution_count": 188,
     "metadata": {},
     "output_type": "execute_result"
    }
   ],
   "source": [
    "square.shape"
   ]
  },
  {
   "cell_type": "code",
   "execution_count": 201,
   "id": "confident-sweet",
   "metadata": {},
   "outputs": [
    {
     "data": {
      "text/plain": [
       "array([16,  5,  9,  4])"
      ]
     },
     "execution_count": 201,
     "metadata": {},
     "output_type": "execute_result"
    }
   ],
   "source": [
    "square[:, 0]"
   ]
  },
  {
   "cell_type": "code",
   "execution_count": 202,
   "id": "usual-departure",
   "metadata": {},
   "outputs": [],
   "source": [
    "for i in range(4):\n",
    "    assert square[:, i].sum() == 34\n",
    "    assert square[i, :].sum() == 34"
   ]
  },
  {
   "cell_type": "code",
   "execution_count": 203,
   "id": "loose-mechanism",
   "metadata": {},
   "outputs": [],
   "source": [
    "assert square[:2, :2].sum() == 34"
   ]
  },
  {
   "cell_type": "code",
   "execution_count": 204,
   "id": "positive-corner",
   "metadata": {},
   "outputs": [],
   "source": [
    "assert square[2:, :2].sum() == 34"
   ]
  },
  {
   "cell_type": "code",
   "execution_count": 205,
   "id": "laughing-authorization",
   "metadata": {},
   "outputs": [],
   "source": [
    "assert square[:2, 2:].sum() == 34"
   ]
  },
  {
   "cell_type": "code",
   "execution_count": 206,
   "id": "regulated-essex",
   "metadata": {},
   "outputs": [],
   "source": [
    "assert square[2:, 2:].sum() == 34"
   ]
  },
  {
   "cell_type": "markdown",
   "id": "muslim-muslim",
   "metadata": {},
   "source": [
    "Inside the for loop, you verify that all the rows and all the columns add up to 34. After that, using selective indexing, you verify that each of the quadrants also adds up to 34."
   ]
  },
  {
   "cell_type": "markdown",
   "id": "secure-garlic",
   "metadata": {},
   "source": [
    "One last thing to note is that you’re able to take the sum of any array to add up all of its elements globally with `square.sum()`. This method can also take an axis argument to do an axis-wise summing instead."
   ]
  },
  {
   "cell_type": "code",
   "execution_count": 23,
   "id": "hollywood-favorite",
   "metadata": {},
   "outputs": [
    {
     "data": {
      "text/plain": [
       "136"
      ]
     },
     "execution_count": 23,
     "metadata": {},
     "output_type": "execute_result"
    }
   ],
   "source": [
    "square.sum()"
   ]
  },
  {
   "cell_type": "markdown",
   "id": "starting-veteran",
   "metadata": {},
   "source": [
    "## Masking and Filtering\n",
    "\n",
    "Index-based selection is great, but what if you want to filter your data based on more complicated nonuniform or nonsequential criteria? This is where the concept of a **mask** comes into play."
   ]
  },
  {
   "cell_type": "markdown",
   "id": "toxic-soundtrack",
   "metadata": {},
   "source": [
    "A mask is an array that has the exact same shape as your data, but instead of your values, it holds Boolean values: either `True` or `False`. You can use this mask array to index into your data array in nonlinear and complex ways. It will return all of the elements where the Boolean array has a True value."
   ]
  },
  {
   "cell_type": "markdown",
   "id": "invalid-latin",
   "metadata": {},
   "source": [
    "Here’s an example showing the process, first in slow motion and then how it’s typically done, all in one line:"
   ]
  },
  {
   "cell_type": "code",
   "execution_count": 227,
   "id": "stopped-fireplace",
   "metadata": {},
   "outputs": [
    {
     "data": {
      "text/plain": [
       "array([[ 5,  6,  8, 10, 12, 14],\n",
       "       [16, 18, 20, 22, 24, 26],\n",
       "       [28, 30, 32, 34, 36, 38],\n",
       "       [40, 42, 44, 46, 48, 50]])"
      ]
     },
     "execution_count": 227,
     "metadata": {},
     "output_type": "execute_result"
    }
   ],
   "source": [
    "# slow motion mode\n",
    "import numpy as np\n",
    "\n",
    "numbers = np.linspace(5, 50, 24, dtype=int).reshape(4, -1)\n",
    "\n",
    "numbers"
   ]
  },
  {
   "cell_type": "code",
   "execution_count": 250,
   "id": "pediatric-montreal",
   "metadata": {},
   "outputs": [],
   "source": [
    "mask = numbers % 4 == 0"
   ]
  },
  {
   "cell_type": "code",
   "execution_count": 25,
   "id": "incoming-robertson",
   "metadata": {},
   "outputs": [
    {
     "data": {
      "text/plain": [
       "array([[False, False,  True, False,  True, False],\n",
       "       [ True, False,  True, False,  True, False],\n",
       "       [ True, False,  True, False,  True, False],\n",
       "       [ True, False,  True, False,  True, False]])"
      ]
     },
     "execution_count": 25,
     "metadata": {},
     "output_type": "execute_result"
    }
   ],
   "source": [
    "mask = numbers % 4 == 0\n",
    "\n",
    "mask"
   ]
  },
  {
   "cell_type": "code",
   "execution_count": 236,
   "id": "preceding-lesbian",
   "metadata": {},
   "outputs": [
    {
     "data": {
      "text/plain": [
       "array([ 8, 12, 16, 20, 24, 28, 32, 36, 40, 44, 48])"
      ]
     },
     "execution_count": 236,
     "metadata": {},
     "output_type": "execute_result"
    }
   ],
   "source": [
    "numbers[mask]"
   ]
  },
  {
   "cell_type": "code",
   "execution_count": 241,
   "id": "korean-quarter",
   "metadata": {},
   "outputs": [
    {
     "data": {
      "text/plain": [
       "array([ 8, 12, 16, 20, 24, 28, 32, 36, 40, 44, 48])"
      ]
     },
     "execution_count": 241,
     "metadata": {},
     "output_type": "execute_result"
    }
   ],
   "source": [
    "# how it's typically done\n",
    "by_four = numbers[numbers % 4 == 0]\n",
    "\n",
    "by_four"
   ]
  },
  {
   "cell_type": "markdown",
   "id": "saving-sugar",
   "metadata": {},
   "source": [
    "You’ll see an explanation of the new array creation tricks in input 2 in a moment, but for now, focus on the meat of the example. These are the important parts:\n",
    "\n",
    "- **`mask = numbers % 4 == 0`** creates the mask by performing a **vectorized Boolean computation**, taking each element and checking to see if it divides evenly by four. This returns a mask array of the same shape with the element-wise results of the computation.\n",
    "- **`numbers[mask]`** uses this mask to index into the original numbers array. This causes the array to lose its original shape, reducing it to one dimension, but you still get the data you’re looking for.\n",
    "- **`by_four = numbers[numbers % 4 == 0]`** provides a more traditional, idiomatic masked selection that you might see in the wild, with an anonymous filtering array created inline, inside the selection brackets. This syntax is similar to usage in the R programming language."
   ]
  },
  {
   "cell_type": "markdown",
   "id": "double-champagne",
   "metadata": {},
   "source": [
    "Coming back to `numbers = np.linspace(5, 50, 24, dtype=int).reshape(4, -1)`, you encounter three new concepts:\n",
    "\n",
    "- Using [`np.linspace()`](https://realpython.com/np-linspace-numpy/) to generate an evenly spaced array\n",
    "- Setting the `dtype` of an output\n",
    "- Reshaping an array with `-1`"
   ]
  },
  {
   "cell_type": "markdown",
   "id": "native-briefs",
   "metadata": {},
   "source": [
    "[`np.linspace()`](https://numpy.org/doc/stable/reference/generated/numpy.linspace.html) generates n numbers evenly distributed between a minimum and a maximum, which is useful for evenly distributed sampling in scientific plotting"
   ]
  },
  {
   "cell_type": "markdown",
   "id": "daily-permission",
   "metadata": {},
   "source": [
    "Because of the particular calculation in this example, it makes life easier to have integers in the `numbers` array. But because the space between 5 and 50 doesn’t divide evenly by 24, the resulting numbers would be floating-point numbers. You specify a `dtype` of `int` to force the function to round down and give you whole integers. You’ll see a more detailed discussion of data types later on."
   ]
  },
  {
   "cell_type": "markdown",
   "id": "automated-spain",
   "metadata": {},
   "source": [
    "Finally, `array.reshape()` can take `-1` as one of its dimension sizes. That signifies that NumPy should just figure out how big that particular axis needs to be based on the size of the other axes. In this case, with 24 values and a size of `4` in axis 0, axis 1 ends up with a size of `6`."
   ]
  },
  {
   "cell_type": "markdown",
   "id": "timely-ethics",
   "metadata": {},
   "source": [
    "Here’s one more example to show off the power of masked filtering. The [normal distribution](https://en.wikipedia.org/wiki/Normal_distribution) is a probability distribution in which roughly 95.45% of values occur within two standard deviations of the mean."
   ]
  },
  {
   "cell_type": "markdown",
   "id": "diagnostic-elephant",
   "metadata": {},
   "source": [
    "You can verify that with a little help from NumPy’s random module for generating random values:"
   ]
  },
  {
   "cell_type": "code",
   "execution_count": 28,
   "id": "professional-compression",
   "metadata": {},
   "outputs": [
    {
     "data": {
      "text/plain": [
       "array([ 0.2354462 ,  0.8596593 ,  1.95996126,  1.21886792, -1.057614  ])"
      ]
     },
     "execution_count": 28,
     "metadata": {},
     "output_type": "execute_result"
    }
   ],
   "source": [
    "import numpy as np\n",
    "\n",
    "from numpy.random import default_rng\n",
    "\n",
    "rng = default_rng()\n",
    "\n",
    "values = rng.standard_normal(10000)\n",
    "\n",
    "values[:5]"
   ]
  },
  {
   "cell_type": "code",
   "execution_count": 29,
   "id": "quality-principle",
   "metadata": {},
   "outputs": [
    {
     "data": {
      "text/plain": [
       "1.0075881741494412"
      ]
     },
     "execution_count": 29,
     "metadata": {},
     "output_type": "execute_result"
    }
   ],
   "source": [
    "std = values.std()\n",
    "\n",
    "std"
   ]
  },
  {
   "cell_type": "code",
   "execution_count": 30,
   "id": "variable-video",
   "metadata": {},
   "outputs": [
    {
     "data": {
      "text/plain": [
       "9537"
      ]
     },
     "execution_count": 30,
     "metadata": {},
     "output_type": "execute_result"
    }
   ],
   "source": [
    "filtered = values[(values > -2 * std) & (values < 2 * std)]\n",
    "\n",
    "filtered.size"
   ]
  },
  {
   "cell_type": "code",
   "execution_count": 31,
   "id": "relative-promotion",
   "metadata": {},
   "outputs": [
    {
     "data": {
      "text/plain": [
       "10000"
      ]
     },
     "execution_count": 31,
     "metadata": {},
     "output_type": "execute_result"
    }
   ],
   "source": [
    "values.size"
   ]
  },
  {
   "cell_type": "code",
   "execution_count": 32,
   "id": "according-immunology",
   "metadata": {},
   "outputs": [
    {
     "data": {
      "text/plain": [
       "0.9537"
      ]
     },
     "execution_count": 32,
     "metadata": {},
     "output_type": "execute_result"
    }
   ],
   "source": [
    "filtered.size / values.size"
   ]
  },
  {
   "cell_type": "markdown",
   "id": "employed-mistake",
   "metadata": {},
   "source": [
    "Here you use a potentially strange-looking syntax to combine filter conditions: a **binary & operator**. Why would that be the case? It’s because NumPy designates `&` and `|` as the vectorized, element-wise operators to combine Booleans. If you try to do `A` and `B`, then you’ll get a warning about how the truth value for an array is weird, because the and is operating on the truth value of the whole array, not element by element."
   ]
  },
  {
   "cell_type": "markdown",
   "id": "vanilla-branch",
   "metadata": {},
   "source": [
    "## Transposing, Sorting, and Concatenating\n",
    "\n",
    "Other manipulations, while not quite as common as indexing or filtering, can also be very handy depending on the situation you’re in. You’ll see a few examples in this section."
   ]
  },
  {
   "cell_type": "markdown",
   "id": "outdoor-payroll",
   "metadata": {},
   "source": [
    "Here’s **transposing** an array:"
   ]
  },
  {
   "cell_type": "code",
   "execution_count": 267,
   "id": "handed-northwest",
   "metadata": {},
   "outputs": [],
   "source": [
    "import numpy as np\n",
    "\n",
    "a = np.array([\n",
    "    [1, 2],\n",
    "    [3, 4],\n",
    "    [5, 6],\n",
    "])"
   ]
  },
  {
   "cell_type": "code",
   "execution_count": 272,
   "id": "applied-syndicate",
   "metadata": {},
   "outputs": [
    {
     "data": {
      "text/plain": [
       "array([[1, 3, 5],\n",
       "       [2, 4, 6]])"
      ]
     },
     "execution_count": 272,
     "metadata": {},
     "output_type": "execute_result"
    }
   ],
   "source": [
    "a.T"
   ]
  },
  {
   "cell_type": "code",
   "execution_count": 273,
   "id": "auburn-orleans",
   "metadata": {},
   "outputs": [
    {
     "data": {
      "text/plain": [
       "array([[1, 3, 5],\n",
       "       [2, 4, 6]])"
      ]
     },
     "execution_count": 273,
     "metadata": {},
     "output_type": "execute_result"
    }
   ],
   "source": [
    "a.transpose()"
   ]
  },
  {
   "cell_type": "markdown",
   "id": "comprehensive-wireless",
   "metadata": {},
   "source": [
    "When you calculate the transpose of an array, the row and column indices of every element are switched. Item `[0, 2]`, for example, becomes item `[2, 0]`. You can also use `a.T` as an alias for `a.transpose()`."
   ]
  },
  {
   "cell_type": "markdown",
   "id": "forty-mustang",
   "metadata": {},
   "source": [
    "The following code block shows sorting, but you’ll also see a more powerful sorting technique in the coming section on structured data:"
   ]
  },
  {
   "cell_type": "code",
   "execution_count": 275,
   "id": "unable-basket",
   "metadata": {},
   "outputs": [
    {
     "data": {
      "text/plain": [
       "array([[1, 4, 7],\n",
       "       [5, 6, 8],\n",
       "       [1, 2, 3]])"
      ]
     },
     "execution_count": 275,
     "metadata": {},
     "output_type": "execute_result"
    }
   ],
   "source": [
    "import numpy as np\n",
    "\n",
    "data = np.array([\n",
    "    [7, 1, 4],\n",
    "    [8, 6, 5],\n",
    "    [1, 2, 3]\n",
    "])\n",
    "\n",
    "np.sort(data)"
   ]
  },
  {
   "cell_type": "code",
   "execution_count": 276,
   "id": "rolled-while",
   "metadata": {},
   "outputs": [
    {
     "data": {
      "text/plain": [
       "array([1, 1, 2, 3, 4, 5, 6, 7, 8])"
      ]
     },
     "execution_count": 276,
     "metadata": {},
     "output_type": "execute_result"
    }
   ],
   "source": [
    "np.sort(data, axis=None)"
   ]
  },
  {
   "cell_type": "code",
   "execution_count": 277,
   "id": "connected-blocking",
   "metadata": {},
   "outputs": [
    {
     "data": {
      "text/plain": [
       "array([[1, 1, 3],\n",
       "       [7, 2, 4],\n",
       "       [8, 6, 5]])"
      ]
     },
     "execution_count": 277,
     "metadata": {},
     "output_type": "execute_result"
    }
   ],
   "source": [
    "np.sort(data, axis=0)"
   ]
  },
  {
   "cell_type": "markdown",
   "id": "continent-clarity",
   "metadata": {},
   "source": [
    "Omitting the `axis` argument automatically selects the last and innermost dimension, which is the rows in this example. Using `None` flattens the array and performs a global sort. Otherwise, you can specify which axis you want. In output of `np.sort(data, axis=0)`, each column of the array still has all of its elements but they have been sorted low-to-high inside that column."
   ]
  },
  {
   "cell_type": "markdown",
   "id": "worldwide-lebanon",
   "metadata": {},
   "source": [
    "Finally, here’s an example of **concatenation**. While there’s a `np.concatenate()` function, there are also a number of helper functions that are sometimes easier to read."
   ]
  },
  {
   "cell_type": "markdown",
   "id": "distinguished-peoples",
   "metadata": {},
   "source": [
    "Here are some examples:"
   ]
  },
  {
   "cell_type": "code",
   "execution_count": 279,
   "id": "connected-radical",
   "metadata": {},
   "outputs": [],
   "source": [
    "import numpy as np\n",
    "\n",
    "a = np.array([\n",
    "    [4, 8],\n",
    "    [6, 1]\n",
    "])\n",
    "\n",
    "b = np.array([\n",
    "    [3, 5],\n",
    "    [7, 2],\n",
    "])\n"
   ]
  },
  {
   "cell_type": "code",
   "execution_count": 281,
   "id": "structural-allen",
   "metadata": {},
   "outputs": [
    {
     "data": {
      "text/plain": [
       "array([[4, 8],\n",
       "       [6, 1]])"
      ]
     },
     "execution_count": 281,
     "metadata": {},
     "output_type": "execute_result"
    }
   ],
   "source": [
    "a"
   ]
  },
  {
   "cell_type": "code",
   "execution_count": 282,
   "id": "alien-price",
   "metadata": {},
   "outputs": [
    {
     "data": {
      "text/plain": [
       "array([[3, 5],\n",
       "       [7, 2]])"
      ]
     },
     "execution_count": 282,
     "metadata": {},
     "output_type": "execute_result"
    }
   ],
   "source": [
    "b"
   ]
  },
  {
   "cell_type": "code",
   "execution_count": 283,
   "id": "advisory-anthropology",
   "metadata": {},
   "outputs": [
    {
     "data": {
      "text/plain": [
       "array([[4, 8, 3, 5],\n",
       "       [6, 1, 7, 2]])"
      ]
     },
     "execution_count": 283,
     "metadata": {},
     "output_type": "execute_result"
    }
   ],
   "source": [
    "np.hstack((a, b))"
   ]
  },
  {
   "cell_type": "code",
   "execution_count": 284,
   "id": "rubber-battlefield",
   "metadata": {},
   "outputs": [
    {
     "data": {
      "text/plain": [
       "array([[3, 5],\n",
       "       [7, 2],\n",
       "       [4, 8],\n",
       "       [6, 1]])"
      ]
     },
     "execution_count": 284,
     "metadata": {},
     "output_type": "execute_result"
    }
   ],
   "source": [
    "np.vstack((b, a))"
   ]
  },
  {
   "cell_type": "code",
   "execution_count": 285,
   "id": "center-stadium",
   "metadata": {},
   "outputs": [
    {
     "data": {
      "text/plain": [
       "array([[4, 8],\n",
       "       [6, 1],\n",
       "       [3, 5],\n",
       "       [7, 2]])"
      ]
     },
     "execution_count": 285,
     "metadata": {},
     "output_type": "execute_result"
    }
   ],
   "source": [
    "np.concatenate((a, b))"
   ]
  },
  {
   "cell_type": "code",
   "execution_count": 286,
   "id": "interstate-premises",
   "metadata": {},
   "outputs": [
    {
     "data": {
      "text/plain": [
       "array([[4, 8],\n",
       "       [6, 1],\n",
       "       [3, 5],\n",
       "       [7, 2]])"
      ]
     },
     "execution_count": 286,
     "metadata": {},
     "output_type": "execute_result"
    }
   ],
   "source": [
    "np.concatenate((a, b), axis=0)"
   ]
  },
  {
   "cell_type": "code",
   "execution_count": 287,
   "id": "invalid-billy",
   "metadata": {},
   "outputs": [
    {
     "data": {
      "text/plain": [
       "array([[4, 8, 3, 5],\n",
       "       [6, 1, 7, 2]])"
      ]
     },
     "execution_count": 287,
     "metadata": {},
     "output_type": "execute_result"
    }
   ],
   "source": [
    "np.concatenate((a, b), axis=1)"
   ]
  },
  {
   "cell_type": "code",
   "execution_count": 288,
   "id": "stretch-gender",
   "metadata": {},
   "outputs": [
    {
     "data": {
      "text/plain": [
       "array([4, 8, 6, 1, 3, 5, 7, 2])"
      ]
     },
     "execution_count": 288,
     "metadata": {},
     "output_type": "execute_result"
    }
   ],
   "source": [
    "np.concatenate((a, b), axis=None)"
   ]
  },
  {
   "cell_type": "markdown",
   "id": "ambient-georgia",
   "metadata": {},
   "source": [
    "`np.hstack((a, b))` and `np.vstack((b, a))` show the slightly more intuitive functions `hstack()` and `vstack()`. `np.concatenate((a, b))` and `np.concatenate((a, b), axis=None)` show the more generic `concatenate()`, first without an `axis` argument and then with `axis=None`. This flattening behavior is similar in form to what you just saw with `sort()`."
   ]
  },
  {
   "cell_type": "markdown",
   "id": "postal-evanescence",
   "metadata": {},
   "source": [
    "One important stumbling block to note is that all these functions take a tuple of arrays as their first argument rather than a variable number of arguments as you might expect. You can tell because there’s an extra pair of parentheses."
   ]
  },
  {
   "cell_type": "markdown",
   "id": "straight-shell",
   "metadata": {},
   "source": [
    "## Aggregating\n",
    "\n",
    "Your last stop on this tour of functionality before diving into some more advanced topics and examples is **aggregation**. You’ve already seen quite a few aggregating methods, including `.sum()`, `.max()`, `.mean()`, and `.std()`. You can reference NumPy’s larger library of [functions](https://numpy.org/doc/stable/reference/routines.html) to see more. Many of the mathematical, financial, and statistical functions use aggregation to help you reduce the number of dimensions in your data."
   ]
  }
 ],
 "metadata": {
  "kernelspec": {
   "display_name": "Python 3",
   "language": "python",
   "name": "python3"
  },
  "language_info": {
   "codemirror_mode": {
    "name": "ipython",
    "version": 3
   },
   "file_extension": ".py",
   "mimetype": "text/x-python",
   "name": "python",
   "nbconvert_exporter": "python",
   "pygments_lexer": "ipython3",
   "version": "3.7.9"
  },
  "nteract": {
   "version": "nteract-on-jupyter@2.1.3"
  }
 },
 "nbformat": 4,
 "nbformat_minor": 5
}
