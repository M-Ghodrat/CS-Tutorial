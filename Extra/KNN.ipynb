{
 "cells": [
  {
   "cell_type": "markdown",
   "id": "simple-english",
   "metadata": {},
   "source": [
    "# KNN"
   ]
  },
  {
   "cell_type": "markdown",
   "id": "immune-northwest",
   "metadata": {},
   "source": [
    "#### Features:\n",
    "\n",
    "- Not good when we do't have enough memory (e.g., big data)\n",
    "- Fast in training\n",
    "- Slow in prediction"
   ]
  },
  {
   "cell_type": "markdown",
   "id": "pending-cycling",
   "metadata": {},
   "source": [
    "Two kind of errors:\n",
    "\n",
    "- **Bias:** Error with respect to true relationship\n",
    "- **Variance (Over fitting):** How consistence our model on different darasets"
   ]
  },
  {
   "cell_type": "markdown",
   "id": "hired-disney",
   "metadata": {},
   "source": [
    "### Confusion Matrix"
   ]
  },
  {
   "cell_type": "markdown",
   "id": "passing-candle",
   "metadata": {},
   "source": [
    "#### Evaluation:\n",
    "\n",
    "- Accuracy\n",
    "- percision\n",
    "- recall"
   ]
  },
  {
   "cell_type": "markdown",
   "id": "level-tribe",
   "metadata": {},
   "source": [
    "### F-score"
   ]
  },
  {
   "cell_type": "markdown",
   "id": "conscious-addition",
   "metadata": {},
   "source": []
  },
  {
   "cell_type": "code",
   "execution_count": null,
   "id": "emotional-measure",
   "metadata": {},
   "outputs": [],
   "source": []
  },
  {
   "cell_type": "code",
   "execution_count": null,
   "id": "accredited-compression",
   "metadata": {},
   "outputs": [],
   "source": []
  }
 ],
 "metadata": {
  "kernelspec": {
   "display_name": "Python 3",
   "language": "python",
   "name": "python3"
  },
  "language_info": {
   "codemirror_mode": {
    "name": "ipython",
    "version": 3
   },
   "file_extension": ".py",
   "mimetype": "text/x-python",
   "name": "python",
   "nbconvert_exporter": "python",
   "pygments_lexer": "ipython3",
   "version": "3.7.9"
  }
 },
 "nbformat": 4,
 "nbformat_minor": 5
}
