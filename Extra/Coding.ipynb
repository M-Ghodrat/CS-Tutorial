{
 "cells": [
  {
   "cell_type": "code",
   "execution_count": 2,
   "id": "077af2c9",
   "metadata": {},
   "outputs": [
    {
     "data": {
      "text/plain": [
       "'she--is--my--friend'"
      ]
     },
     "execution_count": 2,
     "metadata": {},
     "output_type": "execute_result"
    }
   ],
   "source": [
    "\"--\".join([\"she\", 'is', \"my\", 'friend'])"
   ]
  },
  {
   "cell_type": "code",
   "execution_count": 3,
   "id": "f7837f83",
   "metadata": {},
   "outputs": [
    {
     "data": {
      "text/plain": [
       "'she\\\\t\\\\tis\\\\t\\\\tmy\\\\t\\\\tfriend'"
      ]
     },
     "execution_count": 3,
     "metadata": {},
     "output_type": "execute_result"
    }
   ],
   "source": [
    "r\"\\t\\t\".join([\"she\", 'is', \"my\", 'friend'])"
   ]
  },
  {
   "cell_type": "code",
   "execution_count": 4,
   "id": "01e6ad6c",
   "metadata": {},
   "outputs": [
    {
     "name": "stdout",
     "output_type": "stream",
     "text": [
      "sara\n",
      "Mohsen\n",
      "Mohsen\n"
     ]
    }
   ],
   "source": [
    "str_1 = \"Mohsen\"\n",
    "str_2 = str_1\n",
    "str_3 = str_1[:]\n",
    "str_1 = \"sara\"\n",
    "print(str_1)\n",
    "print(str_2)\n",
    "print(str_3)\n",
    "#string pass value hastesh, immutable hastesh"
   ]
  },
  {
   "cell_type": "code",
   "execution_count": null,
   "id": "4ea066a3",
   "metadata": {},
   "outputs": [],
   "source": [
    "def foo(x, y, z):\n",
    "  print(x+y+z)\n",
    "\n",
    "foo(1,2,x=3) \n",
    "#positional and keyword argument. first positional then keyword argument"
   ]
  },
  {
   "cell_type": "code",
   "execution_count": null,
   "id": "ef4fcde4",
   "metadata": {},
   "outputs": [],
   "source": [
    "def foo(x, y=3, z=1):\n",
    "  print(x+y+z)\n",
    "\n",
    "foo(x=3) "
   ]
  },
  {
   "cell_type": "code",
   "execution_count": null,
   "id": "121ddc38",
   "metadata": {},
   "outputs": [],
   "source": [
    "def foo(x, y=4, z=None):\n",
    "  if z:\n",
    "    print(x+y+z)\n",
    "  else: \n",
    "    print(x+y)\n",
    "\n",
    "foo(1) "
   ]
  },
  {
   "cell_type": "code",
   "execution_count": null,
   "id": "08a371e1",
   "metadata": {},
   "outputs": [],
   "source": [
    "def foo(x, y=4, z=None):\n",
    "  \n",
    "  w = x+y\n",
    "  if z:\n",
    "    w = x+y+z\n",
    "  print(w)\n",
    "    \n",
    "\n",
    "foo(1) "
   ]
  },
  {
   "cell_type": "code",
   "execution_count": 5,
   "id": "5715a6f5",
   "metadata": {},
   "outputs": [
    {
     "name": "stdout",
     "output_type": "stream",
     "text": [
      "(1, 3, 4)\n",
      "{'z': [1, 3, 4]}\n"
     ]
    }
   ],
   "source": [
    "#positional argument\n",
    "def foo(x, y=4, *z):\n",
    "  print(z)\n",
    "    \n",
    "\n",
    "foo(1,3, *[1, 3, 4]) \n",
    "\n",
    "#keyword argument\n",
    "def foo2(x, y=4, **z):\n",
    "  print(z)\n",
    "\n",
    "foo2(1,3, z=[1, 3, 4])"
   ]
  },
  {
   "cell_type": "code",
   "execution_count": 8,
   "id": "6b245b42",
   "metadata": {},
   "outputs": [
    {
     "name": "stdout",
     "output_type": "stream",
     "text": [
      "{'a': 1, 'b': 2, 'c': [3, 4]}\n",
      "{'a': 1, 'b': 2, 'c': [3, 4]}\n",
      "11\n",
      "11\n",
      "11\n",
      "11\n",
      "11\n",
      "(2, 3)\n",
      "(2, 3)\n",
      "(2, 3)\n",
      "1\n",
      "2\n"
     ]
    }
   ],
   "source": [
    "def foo2(x, y=4, **z):\n",
    "  print(z)\n",
    "\n",
    "d = {'a':1, 'b':2, 'c':[3,4]}\n",
    "\n",
    "foo2(1,3, **d)\n",
    "foo2(1,3, a=1, b=2, c=[3,4])\n",
    "\n",
    "def foo3(x, y):\n",
    "  print(x+y)\n",
    "\n",
    "foo3(**{'x':1,'y':10})\n",
    "foo3(x=1, y=10)\n",
    "\n",
    "\n",
    "def foo(x,y, *z):\n",
    "  print(z)\n",
    "\n",
    "foo3(1,10)\n",
    "foo3(*(1,10))\n",
    "foo3(*[1,10])\n",
    "\n",
    "foo(1, 2, *(2,3))\n",
    "foo(1, 2, *[2,3])\n",
    "foo(1,2, 2,3)\n",
    "\n",
    "q,e = [1,2]\n",
    "print(q)\n",
    "print(e)\n",
    "\n",
    "# * and ** unpacks\n",
    "\n",
    "# in functions"
   ]
  },
  {
   "cell_type": "code",
   "execution_count": 2,
   "id": "0cc0660a",
   "metadata": {},
   "outputs": [
    {
     "data": {
      "text/plain": [
       "'/home/sarah/CS-Tutorial/Extra'"
      ]
     },
     "execution_count": 2,
     "metadata": {},
     "output_type": "execute_result"
    }
   ],
   "source": [
    "pwd #present work directory"
   ]
  },
  {
   "cell_type": "code",
   "execution_count": 3,
   "id": "5d72d359",
   "metadata": {},
   "outputs": [
    {
     "name": "stdout",
     "output_type": "stream",
     "text": [
      "10\n",
      "108\n",
      "well\n",
      "Hi\n",
      "Hi2\n",
      "Hi2\n",
      "goodbye!\n"
     ]
    }
   ],
   "source": [
    "class Student():\n",
    "  def __init__(self, name, id):\n",
    "    self.name = name\n",
    "    self.id = id\n",
    "# function is for objects of the class (self,)\n",
    "  def age(self, age):\n",
    "    return age * 3\n",
    "\n",
    "  def greeting(selfff):\n",
    "    print('goodbye!')\n",
    "\n",
    "# no need to use self anymore\n",
    "  @staticmethod\n",
    "  def mood(mood):\n",
    "    return mood\n",
    "\n",
    "# the function is for the class\n",
    "  def foo():\n",
    "    print('Hi')\n",
    "\n",
    "# method for object and class\n",
    "  @classmethod\n",
    "  def foo2(cls):\n",
    "    print('Hi2')\n",
    "\n",
    "  \n",
    "student1 = Student(name='mohsen', id=10)\n",
    "print(student1.id)\n",
    "\n",
    "# student1.age = 36\n",
    "# print(student1.age)\n",
    "\n",
    "print(student1.age(36))\n",
    "print(student1.mood('well'))\n",
    "\n",
    "Student.foo()\n",
    "student1.foo2()\n",
    "Student.foo2()\n",
    "\n",
    "student1.greeting()\n"
   ]
  },
  {
   "cell_type": "code",
   "execution_count": 1,
   "id": "7f4a4614",
   "metadata": {},
   "outputs": [
    {
     "name": "stdout",
     "output_type": "stream",
     "text": [
      "Hi\n",
      "<__main__.Tweet object at 0x7f90206a3690>\n"
     ]
    }
   ],
   "source": [
    "class Tweet:\n",
    "    \n",
    "    def __init__(self):\n",
    "        self.help = 'No'\n",
    "    \n",
    "    def print_tweet(self):\n",
    "        self.sara = 'sara'\n",
    "        print('Hi')\n",
    "        print(self)\n",
    "    \n",
    "    def print_bye(self):\n",
    "        print('bye')\n",
    "        print(self)\n",
    "\n",
    "t1 = Tweet()\n",
    "t1.print_tweet()\n",
    "\n"
   ]
  },
  {
   "cell_type": "code",
   "execution_count": 2,
   "id": "f04096b7",
   "metadata": {},
   "outputs": [
    {
     "name": "stdout",
     "output_type": "stream",
     "text": [
      "Hi\n",
      "<__main__.Tweet object at 0x7f90206eadd0>\n",
      "Hi\n",
      "<__main__.Tweet object at 0x7f90206a3690>\n",
      "Hi\n",
      "<__main__.Tweet object at 0x7f90206eadd0>\n"
     ]
    }
   ],
   "source": [
    "class Tweet:\n",
    "    \n",
    "    def __init__(self):\n",
    "        self.help = 'No'\n",
    "    \n",
    "    def print_tweet(self):\n",
    "        self.sara = 'sara'\n",
    "        print('Hi')\n",
    "        print(self)\n",
    "    \n",
    "    def print_bye(self):\n",
    "        print('bye')\n",
    "        print(self)\n",
    "\n",
    "t1 = Tweet()\n",
    "\n",
    "#Syntactic Sugare\n",
    "t1.print_tweet()\n",
    "Tweet().print_tweet()\n",
    "\n",
    "# Original one\n",
    "Tweet.print_tweet(t1)\n"
   ]
  },
  {
   "cell_type": "code",
   "execution_count": 3,
   "id": "d0ce56ed",
   "metadata": {},
   "outputs": [
    {
     "name": "stdout",
     "output_type": "stream",
     "text": [
      "Hi\n",
      "<function foo at 0x7f90206b3680>\n",
      "sara\n"
     ]
    },
    {
     "ename": "AttributeError",
     "evalue": "'function' object has no attribute 'print_bye'",
     "output_type": "error",
     "traceback": [
      "\u001b[0;31m---------------------------------------------------------------------------\u001b[0m",
      "\u001b[0;31mAttributeError\u001b[0m                            Traceback (most recent call last)",
      "\u001b[0;32m<ipython-input-3-e944d49605fd>\u001b[0m in \u001b[0;36m<module>\u001b[0;34m\u001b[0m\n\u001b[1;32m     31\u001b[0m \u001b[0mprint\u001b[0m\u001b[0;34m(\u001b[0m\u001b[0mfoo\u001b[0m\u001b[0;34m.\u001b[0m\u001b[0msara\u001b[0m\u001b[0;34m)\u001b[0m\u001b[0;34m\u001b[0m\u001b[0;34m\u001b[0m\u001b[0m\n\u001b[1;32m     32\u001b[0m \u001b[0;34m\u001b[0m\u001b[0m\n\u001b[0;32m---> 33\u001b[0;31m \u001b[0mfoo\u001b[0m\u001b[0;34m.\u001b[0m\u001b[0mprint_bye\u001b[0m\u001b[0;34m(\u001b[0m\u001b[0;34m)\u001b[0m\u001b[0;34m\u001b[0m\u001b[0;34m\u001b[0m\u001b[0m\n\u001b[0m\u001b[1;32m     34\u001b[0m \u001b[0mprint\u001b[0m\u001b[0;34m(\u001b[0m\u001b[0mdir\u001b[0m\u001b[0;34m(\u001b[0m\u001b[0mfoo\u001b[0m\u001b[0;34m)\u001b[0m\u001b[0;34m)\u001b[0m\u001b[0;34m\u001b[0m\u001b[0;34m\u001b[0m\u001b[0m\n\u001b[1;32m     35\u001b[0m \u001b[0;34m\u001b[0m\u001b[0m\n",
      "\u001b[0;31mAttributeError\u001b[0m: 'function' object has no attribute 'print_bye'"
     ]
    }
   ],
   "source": [
    "class Tweet:\n",
    "    \n",
    "    def __init__(self):\n",
    "        self.help = 'No'\n",
    "    \n",
    "    def print_tweet(self):\n",
    "        self.sara = 'sara'\n",
    "        print('Hi')\n",
    "        print(self)\n",
    "    \n",
    "    def print_bye(self):\n",
    "        print('bye')\n",
    "        print(self)\n",
    "\n",
    "t1 = Tweet()\n",
    "\n",
    "#Syntactic Sugar\n",
    "# t1.print_tweet()\n",
    "# Tweet().print_tweet()\n",
    "\n",
    "# Original one\n",
    "# Tweet.print_tweet(t1)\n",
    "\n",
    "def foo():\n",
    "  pass\n",
    "\n",
    "# you can uuse any kind of object as an input argument of a method. When using an object of a different class, we should use the original one. Would not be able to use the syntactic sugur\n",
    "Tweet.print_tweet(foo)\n",
    "\n",
    "# Now fuction foo has an attribute of sara\n",
    "print(foo.sara)\n",
    "\n",
    "foo.print_bye()\n",
    "print(dir(foo))\n",
    "\n"
   ]
  },
  {
   "cell_type": "code",
   "execution_count": 4,
   "id": "8e6b3745",
   "metadata": {},
   "outputs": [
    {
     "name": "stdout",
     "output_type": "stream",
     "text": [
      "0\n",
      "1\n",
      "2\n",
      "3\n",
      "4\n",
      "4\n",
      "4\n"
     ]
    }
   ],
   "source": [
    "class Student:\n",
    "    count = 0\n",
    "    def __init__(self):\n",
    "        Student.count += 1   \n",
    "\n",
    "print(Student.count)\n",
    "print(Student().count)\n",
    "print(Student().count)\n",
    "print(Student().count)\n",
    "print(Student().count)\n",
    "print(Student.count)\n",
    "print(Student.count)\n",
    "\n",
    "# __ dunder method(double under) used to customize classes in python. if not defined, will use the default one."
   ]
  },
  {
   "cell_type": "code",
   "execution_count": 6,
   "id": "a0731919",
   "metadata": {},
   "outputs": [
    {
     "name": "stdout",
     "output_type": "stream",
     "text": [
      "Mohsen is 36 years old\n"
     ]
    }
   ],
   "source": [
    "class Student:\n",
    "    \n",
    "    def __init__(self, name, age):\n",
    "        self.name = name\n",
    "        self.age = age   \n",
    "    \n",
    "    # dunder method str (string representation) when the object is called will call str method. \n",
    "    #if not defined will only show that st1 is an object\n",
    "    # for __str__ a string should be returned\n",
    "    \n",
    "    def __str__(self):\n",
    "      return f\"{self.name} is {self.age} years old\"\n",
    "\n",
    "st1 = Student(\"Mohsen\", 36)\n",
    "print(st1)"
   ]
  },
  {
   "cell_type": "code",
   "execution_count": 7,
   "id": "ec515a95",
   "metadata": {},
   "outputs": [
    {
     "name": "stdout",
     "output_type": "stream",
     "text": [
      "hi\n",
      "ffff\n"
     ]
    }
   ],
   "source": [
    "class Student:\n",
    "    \n",
    "    def __init__(self, name, age):\n",
    "        self.name = name\n",
    "        self.age = age   \n",
    "    \n",
    "  # __str__ should have a return\n",
    "    def __str__(self):\n",
    "      print(\"hi\")\n",
    "      return \"ffff\"\n",
    "\n",
    "st1 = Student(\"Mohsen\", 36)\n",
    "print(st1)"
   ]
  },
  {
   "cell_type": "code",
   "execution_count": 8,
   "id": "2914bb29",
   "metadata": {},
   "outputs": [
    {
     "name": "stdout",
     "output_type": "stream",
     "text": [
      "hi\n",
      "ffff\n",
      "['__class__', '__delattr__', '__dict__', '__dir__', '__doc__', '__eq__', '__format__', '__ge__', '__getattribute__', '__gt__', '__hash__', '__init__', '__init_subclass__', '__le__', '__lt__', '__module__', '__ne__', '__new__', '__reduce__', '__reduce_ex__', '__repr__', '__setattr__', '__sizeof__', '__str__', '__subclasshook__', '__weakref__', 'age', 'name']\n"
     ]
    }
   ],
   "source": [
    "class Student:\n",
    "    \n",
    "    def __init__(self, name, age):\n",
    "        self.name = name\n",
    "        self.age = age   \n",
    "    \n",
    "    \n",
    "    def __str__(self):\n",
    "      print(\"hi\")\n",
    "      return \"ffff\"\n",
    "\n",
    "st1 = Student(\"Mohsen\", 36)\n",
    "print(st1)\n",
    "\n",
    "print(dir(st1))\n",
    "\n",
    "# when you define a class, certain dunder methods are already \n",
    "# defined for the class, if define it in the classs, will \n",
    "# overwrite it. "
   ]
  },
  {
   "cell_type": "code",
   "execution_count": null,
   "id": "a34ed0ee",
   "metadata": {},
   "outputs": [],
   "source": []
  }
 ],
 "metadata": {
  "kernelspec": {
   "display_name": "Python 3",
   "language": "python",
   "name": "python3"
  },
  "language_info": {
   "codemirror_mode": {
    "name": "ipython",
    "version": 3
   },
   "file_extension": ".py",
   "mimetype": "text/x-python",
   "name": "python",
   "nbconvert_exporter": "python",
   "pygments_lexer": "ipython3",
   "version": "3.7.10"
  }
 },
 "nbformat": 4,
 "nbformat_minor": 5
}
