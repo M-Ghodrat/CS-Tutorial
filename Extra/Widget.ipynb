{
 "cells": [
  {
   "cell_type": "code",
   "execution_count": 1,
   "id": "216c9ff1",
   "metadata": {},
   "outputs": [],
   "source": [
    "import numpy as np\n",
    "import matplotlib.pyplot as plt\n",
    "import ipywidgets as widgets\n",
    "from ipywidgets import interactive, interact\n",
    "from IPython.display import display"
   ]
  },
  {
   "cell_type": "code",
   "execution_count": 2,
   "id": "7d89d000",
   "metadata": {},
   "outputs": [
    {
     "data": {
      "application/vnd.jupyter.widget-view+json": {
       "model_id": "7f752849607d474aa9f9122a94f628fe",
       "version_major": 2,
       "version_minor": 0
      },
      "text/plain": [
       "IntSlider(value=7, continuous_update=False, description='Test:', max=10)"
      ]
     },
     "metadata": {},
     "output_type": "display_data"
    }
   ],
   "source": [
    "widget1 = widgets.IntSlider(\n",
    "    value=7,\n",
    "    min=0,\n",
    "    max=10,\n",
    "    step=1,\n",
    "    description='Test:',\n",
    "    disabled=False,\n",
    "    continuous_update=False,\n",
    "    orientation='horizontal',\n",
    "    readout=True,\n",
    "    readout_format='d'\n",
    ") \n",
    "\n",
    "widget1"
   ]
  },
  {
   "cell_type": "code",
   "execution_count": 3,
   "id": "9c8410c8",
   "metadata": {},
   "outputs": [
    {
     "data": {
      "text/plain": [
       "7"
      ]
     },
     "execution_count": 3,
     "metadata": {},
     "output_type": "execute_result"
    }
   ],
   "source": [
    "widget1.value"
   ]
  },
  {
   "cell_type": "code",
   "execution_count": 4,
   "id": "278369f5",
   "metadata": {},
   "outputs": [
    {
     "data": {
      "application/vnd.jupyter.widget-view+json": {
       "model_id": "d26f8064f8d44cd5ba1b2ae2e53dab0e",
       "version_major": 2,
       "version_minor": 0
      },
      "text/plain": [
       "FloatSlider(value=1.0, continuous_update=False, description='Test:', max=1.0, orientation='vertical', readout_…"
      ]
     },
     "metadata": {},
     "output_type": "display_data"
    }
   ],
   "source": [
    "widget2 = widgets.FloatSlider(\n",
    "    value=7,\n",
    "    min=0,\n",
    "    max=1,\n",
    "    step=0.01,\n",
    "    description='Test:',\n",
    "    disabled=False,\n",
    "    continuous_update=False,\n",
    "    orientation='vertical',\n",
    "    readout=True,\n",
    "    readout_format='0.2f'\n",
    ") \n",
    "\n",
    "widget2"
   ]
  },
  {
   "cell_type": "code",
   "execution_count": 5,
   "id": "6ca21421",
   "metadata": {},
   "outputs": [
    {
     "data": {
      "text/plain": [
       "1.0"
      ]
     },
     "execution_count": 5,
     "metadata": {},
     "output_type": "execute_result"
    }
   ],
   "source": [
    "widget2.value"
   ]
  },
  {
   "cell_type": "code",
   "execution_count": 6,
   "id": "c15cc9f2",
   "metadata": {},
   "outputs": [
    {
     "data": {
      "application/vnd.jupyter.widget-view+json": {
       "model_id": "3dd7ef5c31e4484ca25a1ba635d0f2fe",
       "version_major": 2,
       "version_minor": 0
      },
      "text/plain": [
       "FloatLogSlider(value=10.0, description='Log Slider', max=10.0, min=-10.0, step=0.2)"
      ]
     },
     "metadata": {},
     "output_type": "display_data"
    }
   ],
   "source": [
    "widget3 = widgets.FloatLogSlider(\n",
    "    value=10,\n",
    "    base=10,\n",
    "    min=-10, # max exponent of base\n",
    "    max=10, # min exponent of base\n",
    "    step=0.2, # exponent step\n",
    "    description='Log Slider'\n",
    ")\n",
    "\n",
    "widget3"
   ]
  },
  {
   "cell_type": "code",
   "execution_count": 7,
   "id": "41a29ee7",
   "metadata": {},
   "outputs": [
    {
     "data": {
      "application/vnd.jupyter.widget-view+json": {
       "model_id": "f71126c09b7b4f4c9b7f1611f7ed4575",
       "version_major": 2,
       "version_minor": 0
      },
      "text/plain": [
       "IntRangeSlider(value=(5, 7), continuous_update=False, description='Test:', max=10)"
      ]
     },
     "metadata": {},
     "output_type": "display_data"
    }
   ],
   "source": [
    "widget4 = widgets.IntRangeSlider(\n",
    "    value=[5, 7],\n",
    "    min=0,\n",
    "    max=10,\n",
    "    step=1,\n",
    "    description='Test:',\n",
    "    disabled=False,\n",
    "    continuous_update=False,\n",
    "    orientation='horizontal',\n",
    "    readout=True,\n",
    "    readout_format='d',\n",
    ")\n",
    "\n",
    "widget4"
   ]
  },
  {
   "cell_type": "code",
   "execution_count": 8,
   "id": "b76b9002",
   "metadata": {},
   "outputs": [
    {
     "data": {
      "application/vnd.jupyter.widget-view+json": {
       "model_id": "cbab8d6dbfbc4538b79ded54ff034aa0",
       "version_major": 2,
       "version_minor": 0
      },
      "text/plain": [
       "FloatRangeSlider(value=(5.0, 7.5), continuous_update=False, description='Test:', max=10.0, readout_format='.1f…"
      ]
     },
     "metadata": {},
     "output_type": "display_data"
    }
   ],
   "source": [
    "widget5 = widgets.FloatRangeSlider(\n",
    "    value=[5, 7.5],\n",
    "    min=0,\n",
    "    max=10.0,\n",
    "    step=0.1,\n",
    "    description='Test:',\n",
    "    disabled=False,\n",
    "    continuous_update=False,\n",
    "    orientation='horizontal',\n",
    "    readout=True,\n",
    "    readout_format='.1f',\n",
    ")\n",
    "\n",
    "widget5"
   ]
  },
  {
   "cell_type": "code",
   "execution_count": 9,
   "id": "98e59061",
   "metadata": {},
   "outputs": [
    {
     "data": {
      "application/vnd.jupyter.widget-view+json": {
       "model_id": "1cba313f9cfc42daabcd63256c89bc73",
       "version_major": 2,
       "version_minor": 0
      },
      "text/plain": [
       "IntProgress(value=1, description='Loading:', max=10, style=ProgressStyle(bar_color='maroon'))"
      ]
     },
     "metadata": {},
     "output_type": "display_data"
    }
   ],
   "source": [
    "widget6 = widgets.IntProgress(\n",
    "    value=1,\n",
    "    min=0,\n",
    "    max=10,\n",
    "    description='Loading:',\n",
    "    bar_style='', # 'success', 'info', 'warning', 'danger' or ''\n",
    "    style={'bar_color': 'maroon'},\n",
    "    orientation='horizontal'\n",
    ")\n",
    "\n",
    "widget6"
   ]
  },
  {
   "cell_type": "code",
   "execution_count": 10,
   "id": "0ed1a485",
   "metadata": {},
   "outputs": [
    {
     "data": {
      "application/vnd.jupyter.widget-view+json": {
       "model_id": "b95adf19604f4baaa7b648699a2ee1db",
       "version_major": 2,
       "version_minor": 0
      },
      "text/plain": [
       "IntProgress(value=9, description='Loading:', max=10, style=ProgressStyle(bar_color='maroon'))"
      ]
     },
     "metadata": {},
     "output_type": "display_data"
    }
   ],
   "source": [
    "from IPython.display import clear_output\n",
    "import time\n",
    "\n",
    "def foo(percent):\n",
    "    widget6 = widgets.IntProgress(\n",
    "    value=percent,\n",
    "    min=0,\n",
    "    max=10,\n",
    "    description='Loading:',\n",
    "    bar_style='', # 'success', 'info', 'warning', 'danger' or ''\n",
    "    style={'bar_color': 'maroon'},\n",
    "    orientation='horizontal')\n",
    "    return display(widget6)\n",
    "\n",
    "\n",
    "for i in range(10):\n",
    "    foo(i)\n",
    "    time.sleep(1)\n",
    "    clear_output(wait = True)\n",
    "\n",
    "    \n",
    "\n"
   ]
  },
  {
   "cell_type": "code",
   "execution_count": 11,
   "id": "772960d3",
   "metadata": {},
   "outputs": [
    {
     "name": "stdout",
     "output_type": "stream",
     "text": [
      "again sara is the best\n"
     ]
    }
   ],
   "source": [
    "print(\" to khuuubiii\")\n",
    "print(\"Sara is the best\")\n",
    "# clear_output(wait = True)\n",
    "clear_output(wait = False)\n",
    "time.sleep(2)\n",
    "print(\"again sara is the best\")"
   ]
  },
  {
   "cell_type": "code",
   "execution_count": 12,
   "id": "f751a46f",
   "metadata": {},
   "outputs": [
    {
     "data": {
      "application/vnd.jupyter.widget-view+json": {
       "model_id": "4aa32a0b3df043e39f9af0b1a2a7d844",
       "version_major": 2,
       "version_minor": 0
      },
      "text/plain": [
       "BoundedIntText(value=7, description='Text:', max=10)"
      ]
     },
     "metadata": {},
     "output_type": "display_data"
    }
   ],
   "source": [
    "widget7 = widgets.BoundedIntText(\n",
    "    value=7,\n",
    "    min=0,\n",
    "    max=10,\n",
    "    step=1,\n",
    "    description='Text:',\n",
    "    disabled=False\n",
    ")\n",
    "\n",
    "widget7"
   ]
  },
  {
   "cell_type": "code",
   "execution_count": 13,
   "id": "e547abd2",
   "metadata": {},
   "outputs": [
    {
     "data": {
      "text/plain": [
       "7"
      ]
     },
     "execution_count": 13,
     "metadata": {},
     "output_type": "execute_result"
    }
   ],
   "source": [
    "widget7.value"
   ]
  },
  {
   "cell_type": "code",
   "execution_count": 14,
   "id": "770e8bc5",
   "metadata": {},
   "outputs": [
    {
     "data": {
      "application/vnd.jupyter.widget-view+json": {
       "model_id": "ece3a86160c84fe18cbbce58574b0710",
       "version_major": 2,
       "version_minor": 0
      },
      "text/plain": [
       "IntText(value=7, description='Any:')"
      ]
     },
     "metadata": {},
     "output_type": "display_data"
    }
   ],
   "source": [
    "widget8 = widgets.IntText(\n",
    "    value=7,\n",
    "    description='Any:',\n",
    "    disabled=False\n",
    ")\n",
    "\n",
    "widget8"
   ]
  },
  {
   "cell_type": "code",
   "execution_count": 15,
   "id": "930ce3f8",
   "metadata": {},
   "outputs": [
    {
     "data": {
      "application/vnd.jupyter.widget-view+json": {
       "model_id": "2a9b2608a911474d842a435c078da775",
       "version_major": 2,
       "version_minor": 0
      },
      "text/plain": [
       "ToggleButton(value=False, description='Click me', icon='star', tooltip='Description')"
      ]
     },
     "metadata": {},
     "output_type": "display_data"
    }
   ],
   "source": [
    "widget9 = widgets.ToggleButton(\n",
    "    value=False,\n",
    "    description='Click me',\n",
    "    disabled=False,\n",
    "    button_style='', # 'success', 'info', 'warning', 'danger' or ''\n",
    "    tooltip='Description',\n",
    "    icon='star' # (FontAwesome names without the `fa-` prefix)\n",
    ")\n",
    "\n",
    "widget9"
   ]
  },
  {
   "cell_type": "code",
   "execution_count": 16,
   "id": "f8e0ba0e",
   "metadata": {},
   "outputs": [
    {
     "data": {
      "application/vnd.jupyter.widget-view+json": {
       "model_id": "94bee122b47e4625bb454fb6290ed741",
       "version_major": 2,
       "version_minor": 0
      },
      "text/plain": [
       "Checkbox(value=False, description='Check me', indent=False)"
      ]
     },
     "metadata": {},
     "output_type": "display_data"
    }
   ],
   "source": [
    "widget10 = widgets.Checkbox(\n",
    "    value=False,\n",
    "    description='Check me',\n",
    "    disabled=False,\n",
    "    indent=False\n",
    ")\n",
    "\n",
    "widget10"
   ]
  },
  {
   "cell_type": "code",
   "execution_count": 17,
   "id": "6762f691",
   "metadata": {},
   "outputs": [
    {
     "data": {
      "application/vnd.jupyter.widget-view+json": {
       "model_id": "b45bcb928a9c49eea206dc54d9174b06",
       "version_major": 2,
       "version_minor": 0
      },
      "text/plain": [
       "Label(value='whatever')"
      ]
     },
     "metadata": {},
     "output_type": "display_data"
    }
   ],
   "source": [
    "widgets.Label(value='whatever')"
   ]
  },
  {
   "cell_type": "code",
   "execution_count": 18,
   "id": "25131d62",
   "metadata": {},
   "outputs": [
    {
     "data": {
      "application/vnd.jupyter.widget-view+json": {
       "model_id": "e2e345179f8b4e1fa5c705f46917739e",
       "version_major": 2,
       "version_minor": 0
      },
      "text/plain": [
       "Tab(children=(VBox(children=(HBox(children=(HBox(children=(Label(value='whatever'),)),)), HBox(children=(Check…"
      ]
     },
     "metadata": {},
     "output_type": "display_data"
    }
   ],
   "source": [
    "from ipywidgets import Layout, Box, HBox, VBox, interact, Output\n",
    "\n",
    "\n",
    "widget11 = [widget10, widget10, widget9]\n",
    "\n",
    "widget12 = [HBox(children=[widgets.Label(value='whatever')])]\n",
    "\n",
    "tab1 = VBox(children=[HBox(children=widget12),HBox(children= widget11),HBox(children=widget12),HBox(children= widget11)])\n",
    "tab = widgets.Tab(children=[tab1, tab1])\n",
    "\n",
    "\n",
    "tab.set_title(0, 'Lower Frame')\n",
    "tab.set_title(1, 'Upper Frame')\n",
    "# tab1\n",
    "tab"
   ]
  },
  {
   "cell_type": "code",
   "execution_count": 19,
   "id": "2ab3b1e7",
   "metadata": {},
   "outputs": [
    {
     "data": {
      "application/vnd.jupyter.widget-view+json": {
       "model_id": "474f43367ff04451b2a8bb75b970fa31",
       "version_major": 2,
       "version_minor": 0
      },
      "text/plain": [
       "Dropdown(description='Number:', index=1, options=('1', '2', '3'), value='2')"
      ]
     },
     "metadata": {},
     "output_type": "display_data"
    }
   ],
   "source": [
    "widget13 = widgets.Dropdown(\n",
    "    options=['1', '2', '3'],\n",
    "    value='2',\n",
    "    description='Number:',\n",
    "    disabled=False,\n",
    ")\n",
    "\n",
    "widget13"
   ]
  },
  {
   "cell_type": "code",
   "execution_count": 20,
   "id": "e94b7c47",
   "metadata": {},
   "outputs": [
    {
     "data": {
      "text/plain": [
       "2.0"
      ]
     },
     "execution_count": 20,
     "metadata": {},
     "output_type": "execute_result"
    }
   ],
   "source": [
    "float(widget13.value)"
   ]
  },
  {
   "cell_type": "code",
   "execution_count": 21,
   "id": "3e21b7c9",
   "metadata": {},
   "outputs": [
    {
     "data": {
      "application/vnd.jupyter.widget-view+json": {
       "model_id": "84fb332a96f846a49397073fdc34899a",
       "version_major": 2,
       "version_minor": 0
      },
      "text/plain": [
       "RadioButtons(description='Pizza topping:', options=('pepperoni', 'pineapple', 'anchovies'), value='pepperoni')"
      ]
     },
     "metadata": {},
     "output_type": "display_data"
    }
   ],
   "source": [
    "widget14 = widgets.RadioButtons(\n",
    "    options=['pepperoni', 'pineapple', 'anchovies'],\n",
    "#    value='pineapple', # Defaults to 'pineapple'\n",
    "#    layout={'width': 'max-content'}, # If the items' names are long\n",
    "    description='Pizza topping:',\n",
    "    disabled=False\n",
    ")\n",
    "\n",
    "widget14"
   ]
  },
  {
   "cell_type": "code",
   "execution_count": 22,
   "id": "434e765d",
   "metadata": {},
   "outputs": [
    {
     "data": {
      "application/vnd.jupyter.widget-view+json": {
       "model_id": "474f43367ff04451b2a8bb75b970fa31",
       "version_major": 2,
       "version_minor": 0
      },
      "text/plain": [
       "Dropdown(description='Number:', index=1, options=('1', '2', '3'), value='2')"
      ]
     },
     "metadata": {},
     "output_type": "display_data"
    }
   ],
   "source": [
    "if widget14.value == 'pepperoni':\n",
    "    widget13.options = ['1', '2', '3']\n",
    "elif widget14.value == 'pineapple':\n",
    "    widget13.options = [\"A\", \"B\", \"C\", 'D']\n",
    "else:\n",
    "    widget13.options = [\"l\", \"f\", \"g\", 't']\n",
    "\n",
    "\n",
    "widget13"
   ]
  },
  {
   "cell_type": "code",
   "execution_count": 23,
   "id": "d3323e1b",
   "metadata": {},
   "outputs": [
    {
     "data": {
      "application/vnd.jupyter.widget-view+json": {
       "model_id": "0af6082de5184f35a47b9191bbfdc1e3",
       "version_major": 2,
       "version_minor": 0
      },
      "text/plain": [
       "Select(description='OS:', index=2, options=('Linux', 'Windows', 'macOS'), value='macOS')"
      ]
     },
     "metadata": {},
     "output_type": "display_data"
    }
   ],
   "source": [
    "widget15 = widgets.Select(\n",
    "    options=['Linux', 'Windows', 'macOS'],\n",
    "    value='macOS',\n",
    "    # rows=10,\n",
    "    description='OS:',\n",
    "    disabled=False\n",
    ")\n",
    "\n",
    "widget15"
   ]
  },
  {
   "cell_type": "code",
   "execution_count": 24,
   "id": "d499032e",
   "metadata": {},
   "outputs": [
    {
     "data": {
      "application/vnd.jupyter.widget-view+json": {
       "model_id": "472fdcfa03e74c5ab04f18cb1bf830df",
       "version_major": 2,
       "version_minor": 0
      },
      "text/plain": [
       "ToggleButtons(description='Speed:', options=('Slow', 'Regular', 'Fast'), tooltips=('Description of slow', 'Des…"
      ]
     },
     "metadata": {},
     "output_type": "display_data"
    }
   ],
   "source": [
    "widget16 = widgets.ToggleButtons(\n",
    "    options=['Slow', 'Regular', 'Fast'],\n",
    "    description='Speed:',\n",
    "    disabled=False,\n",
    "    button_style='', # 'success', 'info', 'warning', 'danger' or ''\n",
    "    tooltips=['Description of slow', 'Description of regular', 'Description of fast'],\n",
    "#     icons=['check'] * 3\n",
    ")\n",
    "\n",
    "widget16"
   ]
  },
  {
   "cell_type": "code",
   "execution_count": 25,
   "id": "82515df2",
   "metadata": {},
   "outputs": [
    {
     "data": {
      "application/vnd.jupyter.widget-view+json": {
       "model_id": "abd9f74211344216b85abeb62756fdc5",
       "version_major": 2,
       "version_minor": 0
      },
      "text/plain": [
       "SelectMultiple(description='Fruits', index=(1,), options=('Apples', 'Oranges', 'Pears'), value=('Oranges',))"
      ]
     },
     "metadata": {},
     "output_type": "display_data"
    }
   ],
   "source": [
    "widget17 = widgets.SelectMultiple(\n",
    "    options=['Apples', 'Oranges', 'Pears'],\n",
    "    value=['Oranges'],\n",
    "    #rows=10,\n",
    "    description='Fruits',\n",
    "    disabled=False\n",
    ")\n",
    "\n",
    "widget17"
   ]
  },
  {
   "cell_type": "code",
   "execution_count": 26,
   "id": "e81c4cde",
   "metadata": {},
   "outputs": [
    {
     "data": {
      "text/plain": [
       "('Oranges',)"
      ]
     },
     "execution_count": 26,
     "metadata": {},
     "output_type": "execute_result"
    }
   ],
   "source": [
    "widget17.value"
   ]
  },
  {
   "cell_type": "code",
   "execution_count": 27,
   "id": "cd165e28",
   "metadata": {},
   "outputs": [
    {
     "data": {
      "application/vnd.jupyter.widget-view+json": {
       "model_id": "fc78b9022ccb40a2a05d63a9a85bb34b",
       "version_major": 2,
       "version_minor": 0
      },
      "text/plain": [
       "Text(value='Hello World', description='String:', placeholder='Type something')"
      ]
     },
     "metadata": {},
     "output_type": "display_data"
    }
   ],
   "source": [
    "widget18 = widgets.Text(\n",
    "    value='Hello World',\n",
    "    placeholder='Type something',\n",
    "    description='String:',\n",
    "    disabled=False\n",
    ")\n",
    "\n",
    "widget18"
   ]
  },
  {
   "cell_type": "code",
   "execution_count": 28,
   "id": "9ea993d1",
   "metadata": {},
   "outputs": [
    {
     "data": {
      "text/plain": [
       "'Hello World'"
      ]
     },
     "execution_count": 28,
     "metadata": {},
     "output_type": "execute_result"
    }
   ],
   "source": [
    "widget18.value"
   ]
  },
  {
   "cell_type": "code",
   "execution_count": 29,
   "id": "c734efde",
   "metadata": {},
   "outputs": [
    {
     "data": {
      "application/vnd.jupyter.widget-view+json": {
       "model_id": "ef3ef705f48e4555a8de2c2f33823bed",
       "version_major": 2,
       "version_minor": 0
      },
      "text/plain": [
       "Password(description='Password:', placeholder='Enter password')"
      ]
     },
     "metadata": {},
     "output_type": "display_data"
    }
   ],
   "source": [
    "widget19 = widgets.Password(\n",
    "    value='password',\n",
    "    placeholder='Enter password',\n",
    "    description='Password:',\n",
    "    disabled=False\n",
    ")\n",
    "\n",
    "\n",
    "widget19"
   ]
  },
  {
   "cell_type": "code",
   "execution_count": 30,
   "id": "2d35c856",
   "metadata": {},
   "outputs": [
    {
     "data": {
      "text/plain": [
       "'password'"
      ]
     },
     "execution_count": 30,
     "metadata": {},
     "output_type": "execute_result"
    }
   ],
   "source": [
    "widget19.value"
   ]
  },
  {
   "cell_type": "code",
   "execution_count": 31,
   "id": "7e420943",
   "metadata": {},
   "outputs": [
    {
     "data": {
      "application/vnd.jupyter.widget-view+json": {
       "model_id": "0735aa26fe7041988d521cf11ae888fe",
       "version_major": 2,
       "version_minor": 0
      },
      "text/plain": [
       "ColorPicker(value='blue', description='Pick a color')"
      ]
     },
     "metadata": {},
     "output_type": "display_data"
    }
   ],
   "source": [
    "widget20 = widgets.ColorPicker(\n",
    "    concise=False,\n",
    "    description='Pick a color',\n",
    "    value='blue',\n",
    "    disabled=False\n",
    ")\n",
    "\n",
    "widget20"
   ]
  },
  {
   "cell_type": "code",
   "execution_count": 32,
   "id": "e0900f53",
   "metadata": {},
   "outputs": [
    {
     "data": {
      "text/plain": [
       "'blue'"
      ]
     },
     "execution_count": 32,
     "metadata": {},
     "output_type": "execute_result"
    }
   ],
   "source": [
    "widget20.value"
   ]
  },
  {
   "cell_type": "code",
   "execution_count": 33,
   "id": "b9ebaeba",
   "metadata": {},
   "outputs": [
    {
     "data": {
      "application/vnd.jupyter.widget-view+json": {
       "model_id": "b51af295172641ef88907c0c9401288d",
       "version_major": 2,
       "version_minor": 0
      },
      "text/plain": [
       "FileUpload(value={}, description='Upload')"
      ]
     },
     "metadata": {},
     "output_type": "display_data"
    }
   ],
   "source": [
    "widget21 = widgets.FileUpload(\n",
    "    accept='',  # Accepted file extension e.g. '.txt', '.pdf', 'image/*', 'image/*,.pdf'\n",
    "    multiple=False  # True to accept multiple files upload else False\n",
    ")\n",
    "widget21"
   ]
  },
  {
   "cell_type": "code",
   "execution_count": 34,
   "id": "16d0b51b",
   "metadata": {},
   "outputs": [
    {
     "data": {
      "text/plain": [
       "{}"
      ]
     },
     "execution_count": 34,
     "metadata": {},
     "output_type": "execute_result"
    }
   ],
   "source": [
    "widget21.value"
   ]
  },
  {
   "cell_type": "code",
   "execution_count": 35,
   "id": "1fcb58fe",
   "metadata": {},
   "outputs": [
    {
     "ename": "KeyError",
     "evalue": "'data.csv'",
     "output_type": "error",
     "traceback": [
      "\u001b[0;31m---------------------------------------------------------------------------\u001b[0m",
      "\u001b[0;31mKeyError\u001b[0m                                  Traceback (most recent call last)",
      "\u001b[0;32m<ipython-input-35-07a9c812d535>\u001b[0m in \u001b[0;36m<module>\u001b[0;34m\u001b[0m\n\u001b[0;32m----> 1\u001b[0;31m \u001b[0mprint\u001b[0m\u001b[0;34m(\u001b[0m\u001b[0mwidget21\u001b[0m\u001b[0;34m.\u001b[0m\u001b[0mvalue\u001b[0m\u001b[0;34m[\u001b[0m\u001b[0;34m\"data.csv\"\u001b[0m\u001b[0;34m]\u001b[0m\u001b[0;34m[\u001b[0m\u001b[0;34m\"content\"\u001b[0m\u001b[0;34m]\u001b[0m\u001b[0;34m.\u001b[0m\u001b[0mdecode\u001b[0m\u001b[0;34m(\u001b[0m\u001b[0;34m'UTF-8'\u001b[0m\u001b[0;34m)\u001b[0m\u001b[0;34m)\u001b[0m\u001b[0;34m\u001b[0m\u001b[0;34m\u001b[0m\u001b[0m\n\u001b[0m",
      "\u001b[0;31mKeyError\u001b[0m: 'data.csv'"
     ]
    }
   ],
   "source": [
    "print(widget21.value[\"data.csv\"][\"content\"].decode('UTF-8'))"
   ]
  },
  {
   "cell_type": "code",
   "execution_count": null,
   "id": "0e26dd63",
   "metadata": {},
   "outputs": [],
   "source": [
    "print(',calories,duration\\nday1,1000,30\\nday2,1200,45\\nday3,800,20\\n')"
   ]
  },
  {
   "cell_type": "code",
   "execution_count": null,
   "id": "22e19472",
   "metadata": {},
   "outputs": [],
   "source": [
    "print(b'\\xE2\\x82\\xAC'.decode(\"UTF-8\"))"
   ]
  },
  {
   "cell_type": "code",
   "execution_count": null,
   "id": "290946e8",
   "metadata": {},
   "outputs": [],
   "source": [
    "widget22 = widgets.Text(\n",
    "    value='Hello World',\n",
    "    placeholder='Type something',\n",
    "    description='String:',\n",
    "    disabled=False\n",
    ")\n",
    "\n",
    "def foo(widget22_):\n",
    "    print(widget22.value)\n",
    "\n",
    "Out = widgets.interactive_output(foo, {'widget22_':widget22})\n",
    "\n",
    "display(Out, widget22)"
   ]
  },
  {
   "cell_type": "code",
   "execution_count": null,
   "id": "2299f8ce",
   "metadata": {},
   "outputs": [],
   "source": [
    "widget1 = widgets.RadioButtons(\n",
    "    options=['pepperoni', 'pineapple', 'anchovies'],\n",
    "#    value='pineapple', # Defaults to 'pineapple'\n",
    "#    layout={'width': 'max-content'}, # If the items' names are long\n",
    "    description='Pizza topping:',\n",
    "    disabled=False\n",
    ")\n",
    "\n",
    "def foo(widget1_):\n",
    "    \n",
    "    widget2 = widgets.Dropdown(\n",
    "    options=['1', '2', '3'],\n",
    "    value='2',\n",
    "    description='Number:',\n",
    "    disabled=False,)\n",
    "\n",
    "    if widget1.value == 'pepperoni':\n",
    "        widget2.options = ['1', '2', '3']\n",
    "    elif widget1.value == 'pineapple':\n",
    "        widget2.options = [\"A\", \"B\", \"C\", 'D']\n",
    "    else:\n",
    "        widget2.options = [\"l\", \"f\", \"g\", 't']\n",
    "    \n",
    "    display(widget2)\n",
    "\n",
    "Out = widgets.interactive_output(foo, {'widget1_':widget1})\n",
    "display(Out,widget1)\n"
   ]
  },
  {
   "cell_type": "code",
   "execution_count": null,
   "id": "7c6bbf82",
   "metadata": {},
   "outputs": [],
   "source": [
    "widget1 = widgets.RadioButtons(\n",
    "    options=['pepperoni', 'pineapple', 'anchovies'],\n",
    "#    value='pineapple', # Defaults to 'pineapple'\n",
    "#    layout={'width': 'max-content'}, # If the items' names are long\n",
    "    description='Pizza topping:',\n",
    "    disabled=False\n",
    ")\n",
    "\n",
    "widget2 = widgets.Dropdown(\n",
    "    options=['1', '2', '3'],\n",
    "    value='2',\n",
    "    description='Number:',\n",
    "    disabled=False,\n",
    ")\n",
    "\n",
    "def foo(**kargs): #foo(widget1_, widget2_)\n",
    "\n",
    "    if widget1.value == 'pepperoni':\n",
    "        widget2.options = ['1', '2', '3']\n",
    "    elif widget1.value == 'pineapple':\n",
    "        widget2.options = [\"A\", \"B\", \"C\", 'D']\n",
    "    else:\n",
    "        widget2.options = [\"l\", \"f\", \"g\", 't']\n",
    "    \n",
    "#     display(widget2)\n",
    "\n",
    "Out = widgets.interactive_output(foo, {'widget1_':widget1, 'widget2_':widget2})\n",
    "display(Out,widget1, widget2)"
   ]
  },
  {
   "cell_type": "code",
   "execution_count": null,
   "id": "5c50d9eb",
   "metadata": {},
   "outputs": [],
   "source": [
    "def foo(x,y):\n",
    "    print(x,y)\n",
    "    \n",
    "foo(**{'x': 5, 'y': 'baghali'})"
   ]
  },
  {
   "cell_type": "code",
   "execution_count": null,
   "id": "f99f56b7",
   "metadata": {},
   "outputs": [],
   "source": [
    "foo(x = 5, y = 'baghali')"
   ]
  },
  {
   "cell_type": "code",
   "execution_count": null,
   "id": "d984f8dd",
   "metadata": {},
   "outputs": [],
   "source": [
    "foo(5, 'baghali')"
   ]
  },
  {
   "cell_type": "code",
   "execution_count": null,
   "id": "5b27fdb1",
   "metadata": {},
   "outputs": [],
   "source": [
    "button = widgets.Button(description='Reset')\n",
    "out_reset = Output()\n",
    "\n",
    "def reset(b):\n",
    "    with out_reset:\n",
    "        print(\"Helooooo\")\n",
    "        widget22.value = \"harchi\"\n",
    "\n",
    "button.on_click(reset)\n",
    "\n",
    "display(button, out_reset)\n"
   ]
  },
  {
   "cell_type": "code",
   "execution_count": null,
   "id": "b4990bc5",
   "metadata": {},
   "outputs": [],
   "source": [
    "widget22"
   ]
  },
  {
   "cell_type": "code",
   "execution_count": null,
   "id": "b97cdee8",
   "metadata": {},
   "outputs": [],
   "source": []
  },
  {
   "cell_type": "code",
   "execution_count": null,
   "id": "e198b8fd",
   "metadata": {},
   "outputs": [],
   "source": []
  }
 ],
 "metadata": {
  "kernelspec": {
   "display_name": "Python 3",
   "language": "python",
   "name": "python3"
  },
  "language_info": {
   "codemirror_mode": {
    "name": "ipython",
    "version": 3
   },
   "file_extension": ".py",
   "mimetype": "text/x-python",
   "name": "python",
   "nbconvert_exporter": "python",
   "pygments_lexer": "ipython3",
   "version": "3.7.10"
  }
 },
 "nbformat": 4,
 "nbformat_minor": 5
}
