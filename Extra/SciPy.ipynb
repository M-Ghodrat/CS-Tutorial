{
 "cells": [
  {
   "cell_type": "markdown",
   "id": "jewish-globe",
   "metadata": {},
   "source": [
    "# SciPy:\n",
    "\n",
    "SciPy(Scientific Python) is a scientific computation library that uses NumPy underneath.\n",
    "\n",
    "It provides more utility functions for ***optimization***, ***stats*** and ***signal processing***."
   ]
  },
  {
   "cell_type": "markdown",
   "id": "standing-beginning",
   "metadata": {},
   "source": [
    "## Installation"
   ]
  },
  {
   "cell_type": "code",
   "execution_count": 3,
   "id": "moving-craps",
   "metadata": {},
   "outputs": [],
   "source": [
    "# pip install scipy"
   ]
  },
  {
   "cell_type": "markdown",
   "id": "secret-fitting",
   "metadata": {},
   "source": [
    "Once SciPy is installed, import the SciPy module(s) you want to use in your applications by adding:"
   ]
  },
  {
   "cell_type": "code",
   "execution_count": 4,
   "id": "royal-roulette",
   "metadata": {},
   "outputs": [],
   "source": [
    "# from scipy import <module>"
   ]
  },
  {
   "cell_type": "markdown",
   "id": "subsequent-senegal",
   "metadata": {},
   "source": [
    "## SciPy Version"
   ]
  },
  {
   "cell_type": "code",
   "execution_count": 5,
   "id": "continent-ethnic",
   "metadata": {},
   "outputs": [
    {
     "name": "stdout",
     "output_type": "stream",
     "text": [
      "1.6.0\n"
     ]
    }
   ],
   "source": [
    "import scipy\n",
    "\n",
    "print(scipy.__version__)"
   ]
  },
  {
   "cell_type": "markdown",
   "id": "ignored-marketing",
   "metadata": {},
   "source": [
    "## Constants in SciPy"
   ]
  },
  {
   "cell_type": "code",
   "execution_count": 8,
   "id": "portable-analysis",
   "metadata": {},
   "outputs": [],
   "source": [
    "from scipy import constants"
   ]
  },
  {
   "cell_type": "code",
   "execution_count": 10,
   "id": "incredible-freight",
   "metadata": {},
   "outputs": [
    {
     "name": "stdout",
     "output_type": "stream",
     "text": [
      "3.141592653589793\n"
     ]
    }
   ],
   "source": [
    "print(constants.pi)"
   ]
  },
  {
   "cell_type": "markdown",
   "id": "manufactured-tuner",
   "metadata": {},
   "source": [
    "### List all constants:"
   ]
  },
  {
   "cell_type": "code",
   "execution_count": 11,
   "id": "dutch-detection",
   "metadata": {},
   "outputs": [
    {
     "data": {
      "text/plain": [
       "['Avogadro',\n",
       " 'Boltzmann',\n",
       " 'Btu',\n",
       " 'Btu_IT',\n",
       " 'Btu_th',\n",
       " 'ConstantWarning',\n",
       " 'G',\n",
       " 'Julian_year',\n",
       " 'N_A',\n",
       " 'Planck',\n",
       " 'R',\n",
       " 'Rydberg',\n",
       " 'Stefan_Boltzmann',\n",
       " 'Wien',\n",
       " '__all__',\n",
       " '__builtins__',\n",
       " '__cached__',\n",
       " '__doc__',\n",
       " '__file__',\n",
       " '__loader__',\n",
       " '__name__',\n",
       " '__package__',\n",
       " '__path__',\n",
       " '__spec__',\n",
       " '_obsolete_constants',\n",
       " 'acre',\n",
       " 'alpha',\n",
       " 'angstrom',\n",
       " 'arcmin',\n",
       " 'arcminute',\n",
       " 'arcsec',\n",
       " 'arcsecond',\n",
       " 'astronomical_unit',\n",
       " 'atm',\n",
       " 'atmosphere',\n",
       " 'atomic_mass',\n",
       " 'atto',\n",
       " 'au',\n",
       " 'bar',\n",
       " 'barrel',\n",
       " 'bbl',\n",
       " 'blob',\n",
       " 'c',\n",
       " 'calorie',\n",
       " 'calorie_IT',\n",
       " 'calorie_th',\n",
       " 'carat',\n",
       " 'centi',\n",
       " 'codata',\n",
       " 'constants',\n",
       " 'convert_temperature',\n",
       " 'day',\n",
       " 'deci',\n",
       " 'degree',\n",
       " 'degree_Fahrenheit',\n",
       " 'deka',\n",
       " 'dyn',\n",
       " 'dyne',\n",
       " 'e',\n",
       " 'eV',\n",
       " 'electron_mass',\n",
       " 'electron_volt',\n",
       " 'elementary_charge',\n",
       " 'epsilon_0',\n",
       " 'erg',\n",
       " 'exa',\n",
       " 'exbi',\n",
       " 'femto',\n",
       " 'fermi',\n",
       " 'find',\n",
       " 'fine_structure',\n",
       " 'fluid_ounce',\n",
       " 'fluid_ounce_US',\n",
       " 'fluid_ounce_imp',\n",
       " 'foot',\n",
       " 'g',\n",
       " 'gallon',\n",
       " 'gallon_US',\n",
       " 'gallon_imp',\n",
       " 'gas_constant',\n",
       " 'gibi',\n",
       " 'giga',\n",
       " 'golden',\n",
       " 'golden_ratio',\n",
       " 'grain',\n",
       " 'gram',\n",
       " 'gravitational_constant',\n",
       " 'h',\n",
       " 'hbar',\n",
       " 'hectare',\n",
       " 'hecto',\n",
       " 'horsepower',\n",
       " 'hour',\n",
       " 'hp',\n",
       " 'inch',\n",
       " 'k',\n",
       " 'kgf',\n",
       " 'kibi',\n",
       " 'kilo',\n",
       " 'kilogram_force',\n",
       " 'kmh',\n",
       " 'knot',\n",
       " 'lambda2nu',\n",
       " 'lb',\n",
       " 'lbf',\n",
       " 'light_year',\n",
       " 'liter',\n",
       " 'litre',\n",
       " 'long_ton',\n",
       " 'm_e',\n",
       " 'm_n',\n",
       " 'm_p',\n",
       " 'm_u',\n",
       " 'mach',\n",
       " 'mebi',\n",
       " 'mega',\n",
       " 'metric_ton',\n",
       " 'micro',\n",
       " 'micron',\n",
       " 'mil',\n",
       " 'mile',\n",
       " 'milli',\n",
       " 'minute',\n",
       " 'mmHg',\n",
       " 'mph',\n",
       " 'mu_0',\n",
       " 'nano',\n",
       " 'nautical_mile',\n",
       " 'neutron_mass',\n",
       " 'nu2lambda',\n",
       " 'ounce',\n",
       " 'oz',\n",
       " 'parsec',\n",
       " 'pebi',\n",
       " 'peta',\n",
       " 'physical_constants',\n",
       " 'pi',\n",
       " 'pico',\n",
       " 'point',\n",
       " 'pound',\n",
       " 'pound_force',\n",
       " 'precision',\n",
       " 'proton_mass',\n",
       " 'psi',\n",
       " 'pt',\n",
       " 'short_ton',\n",
       " 'sigma',\n",
       " 'slinch',\n",
       " 'slug',\n",
       " 'speed_of_light',\n",
       " 'speed_of_sound',\n",
       " 'stone',\n",
       " 'survey_foot',\n",
       " 'survey_mile',\n",
       " 'tebi',\n",
       " 'tera',\n",
       " 'test',\n",
       " 'ton_TNT',\n",
       " 'torr',\n",
       " 'troy_ounce',\n",
       " 'troy_pound',\n",
       " 'u',\n",
       " 'unit',\n",
       " 'value',\n",
       " 'week',\n",
       " 'yard',\n",
       " 'year',\n",
       " 'yobi',\n",
       " 'yotta',\n",
       " 'zebi',\n",
       " 'zepto',\n",
       " 'zero_Celsius',\n",
       " 'zetta']"
      ]
     },
     "execution_count": 11,
     "metadata": {},
     "output_type": "execute_result"
    }
   ],
   "source": [
    "dir(constants)"
   ]
  },
  {
   "cell_type": "markdown",
   "id": "sealed-forty",
   "metadata": {},
   "source": [
    "Examples:"
   ]
  },
  {
   "cell_type": "code",
   "execution_count": 30,
   "id": "legitimate-theater",
   "metadata": {},
   "outputs": [
    {
     "name": "stdout",
     "output_type": "stream",
     "text": [
      "0.001\n",
      "1024\n",
      "0.028349523124999998\n",
      "0.017453292519943295\n",
      "604800.0\n",
      "0.30479999999999996\n",
      "101325.0\n",
      "10000.0\n",
      "0.0037854117839999997\n",
      "340.5\n",
      "0.5555555555555556\n",
      "4.184\n",
      "745.6998715822701\n",
      "4.4482216152605\n"
     ]
    }
   ],
   "source": [
    "print(constants.milli) # Metric (SI) Prefixes (meter)\n",
    "print(constants.kibi) # Binary Prefixes (bytes)\n",
    "print(constants.oz) # Mass (kg)\n",
    "print(constants.degree) # Angle (radian)\n",
    "print(constants.week) # Time (seconds)\n",
    "print(constants.foot) # Length (meter)\n",
    "print(constants.atm) # Pressure (pascals)\n",
    "print(constants.hectare) # Area (square meters)\n",
    "print(constants.gallon) # Volume (cubic meters)\n",
    "print(constants.speed_of_sound) # Speed (meters per seconds)\n",
    "print(constants.degree_Fahrenheit) # Temperature (Kelvin)\n",
    "print(constants.calorie) # Energy (joules)\n",
    "print(constants.hp) # Power (watts)\n",
    "print(constants.lbf) # Force (newton)\n"
   ]
  },
  {
   "cell_type": "markdown",
   "id": "original-dakota",
   "metadata": {},
   "source": [
    "## SciPy Optimizers\n",
    "\n",
    "`scipy.optimize`\n",
    "\n",
    "Optimizers are a set of procedures defined in SciPy that either find the minimum value of a function, or the root of an equation.\n",
    "\n",
    "**Why not Numpy**?\n",
    "NumPy is capable of finding roots for polynomials and linear equations, but it can not find roots for non linear equations, like this one:\n",
    "`x + cos(x)`"
   ]
  },
  {
   "cell_type": "markdown",
   "id": "southeast-observation",
   "metadata": {},
   "source": [
    "### Roots of an Equation\n",
    "\n",
    "For that you can use SciPy's `optimze.root` function:\n",
    "\n",
    "`root(function, initial_guess)`"
   ]
  },
  {
   "cell_type": "code",
   "execution_count": 43,
   "id": "interstate-perth",
   "metadata": {},
   "outputs": [
    {
     "name": "stdout",
     "output_type": "stream",
     "text": [
      "[-0.73908513]\n"
     ]
    }
   ],
   "source": [
    "from scipy.optimize import root\n",
    "from math import cos\n",
    "\n",
    "def eqn(x):\n",
    "    return x + cos(x)\n",
    "\n",
    "myroot = root(eqn, 0)\n",
    "print(myroot.x)"
   ]
  },
  {
   "cell_type": "code",
   "execution_count": 40,
   "id": "material-annex",
   "metadata": {},
   "outputs": [
    {
     "data": {
      "text/plain": [
       "['fjac', 'fun', 'message', 'nfev', 'qtf', 'r', 'status', 'success', 'x']"
      ]
     },
     "execution_count": 40,
     "metadata": {},
     "output_type": "execute_result"
    }
   ],
   "source": [
    "dir(myroot)"
   ]
  },
  {
   "cell_type": "markdown",
   "id": "applicable-desire",
   "metadata": {},
   "source": [
    "### Minimizing a Function\n",
    "\n",
    "We can use scipy.optimize.minimize() function to minimize the function:\n",
    "\n",
    "`minimize(function, initial_guess, method, callback, options)`"
   ]
  },
  {
   "cell_type": "code",
   "execution_count": 49,
   "id": "signal-batch",
   "metadata": {},
   "outputs": [
    {
     "name": "stdout",
     "output_type": "stream",
     "text": [
      "[-0.50000001]\n"
     ]
    }
   ],
   "source": [
    "from scipy.optimize import minimize\n",
    "\n",
    "def eqn(x):\n",
    "    return x**2 + x + 2\n",
    "\n",
    "mymin = minimize(eqn, 0, method='BFGS')\n",
    "print(mymin.x)"
   ]
  },
  {
   "cell_type": "code",
   "execution_count": 48,
   "id": "exceptional-deficit",
   "metadata": {},
   "outputs": [
    {
     "data": {
      "text/plain": [
       "['fun',\n",
       " 'hess_inv',\n",
       " 'jac',\n",
       " 'message',\n",
       " 'nfev',\n",
       " 'nit',\n",
       " 'njev',\n",
       " 'status',\n",
       " 'success',\n",
       " 'x']"
      ]
     },
     "execution_count": 48,
     "metadata": {},
     "output_type": "execute_result"
    }
   ],
   "source": [
    "dir(mymin)"
   ]
  },
  {
   "cell_type": "markdown",
   "id": "altered-sixth",
   "metadata": {},
   "source": [
    "## SciPy Sparse Data\n",
    "\n",
    "Sparse data is data that has mostly unused elements (elements that don't carry any information ).\n",
    "\n",
    "It can be an array like this one:\n",
    "\n",
    "`[1, 0, 2, 0, 0, 3, 0, 0, 0, 0, 0, 0]`\n",
    "\n",
    "- **Sparse Data:** is a data set where most of the item values are zero.\n",
    "- **Dense Array:** is the opposite of a sparse array: most of the values are not zero."
   ]
  },
  {
   "cell_type": "markdown",
   "id": "mexican-player",
   "metadata": {},
   "source": [
    "SciPy has a module, `scipy.sparse` that provides functions to deal with sparse data.\n",
    "\n",
    "There are primarily two types of sparse matrices that we use:\n",
    "\n",
    "- CSC - Compressed Sparse Column. For efficient arithmetic, fast column slicing.\n",
    "- CSR - Compressed Sparse Row. For fast row slicing, faster matrix vector products"
   ]
  },
  {
   "cell_type": "markdown",
   "id": "thousand-assumption",
   "metadata": {},
   "source": [
    "### CSR Matrix\n",
    "\n",
    "We can create CSR matrix by passing an arrray into function `scipy.sparse.csr_matrix()`"
   ]
  },
  {
   "cell_type": "code",
   "execution_count": 50,
   "id": "chinese-indicator",
   "metadata": {},
   "outputs": [
    {
     "name": "stdout",
     "output_type": "stream",
     "text": [
      "  (0, 5)\t1\n",
      "  (0, 6)\t1\n",
      "  (0, 8)\t2\n"
     ]
    }
   ],
   "source": [
    "import numpy as np\n",
    "from scipy.sparse import csr_matrix\n",
    "\n",
    "arr = np.array([0, 0, 0, 0, 0, 1, 1, 0, 2])\n",
    "\n",
    "print(csr_matrix(arr))"
   ]
  },
  {
   "cell_type": "markdown",
   "id": "industrial-editor",
   "metadata": {},
   "source": [
    "#### Sparse Matrix Methods\n",
    "\n",
    "**Viewing stored data** (not the zero items) with the `data` property:"
   ]
  },
  {
   "cell_type": "code",
   "execution_count": 84,
   "id": "raising-fiber",
   "metadata": {},
   "outputs": [
    {
     "name": "stdout",
     "output_type": "stream",
     "text": [
      "[8 1 2]\n"
     ]
    }
   ],
   "source": [
    "arr = np.array([[0, 0, 0], [0, 0, 8], [1, 0, 2]])\n",
    "\n",
    "print(csr_matrix(arr).data)"
   ]
  },
  {
   "cell_type": "markdown",
   "id": "stupid-result",
   "metadata": {},
   "source": [
    "**Counting nonzeros** with the `count_nonzero()` method:"
   ]
  },
  {
   "cell_type": "code",
   "execution_count": 61,
   "id": "german-adolescent",
   "metadata": {},
   "outputs": [
    {
     "name": "stdout",
     "output_type": "stream",
     "text": [
      "3\n"
     ]
    }
   ],
   "source": [
    "import numpy as np\n",
    "from scipy.sparse import csr_matrix\n",
    "\n",
    "arr = np.array([[0, 0, 0], [0, 0, 1], [1, 0, 2]])\n",
    "\n",
    "print(csr_matrix(arr).count_nonzero())"
   ]
  },
  {
   "cell_type": "markdown",
   "id": "environmental-handling",
   "metadata": {},
   "source": [
    "**Removing zero-entries** from the matrix with the `eliminate_zeros()` method:"
   ]
  },
  {
   "cell_type": "code",
   "execution_count": 85,
   "id": "conventional-frequency",
   "metadata": {},
   "outputs": [
    {
     "name": "stdout",
     "output_type": "stream",
     "text": [
      "  (1, 2)\t1\n",
      "  (2, 0)\t1\n",
      "  (2, 2)\t2\n"
     ]
    }
   ],
   "source": [
    "arr = np.array([[0, 0, 0], [0, 0, 1], [1, 0, 2]])\n",
    "\n",
    "mat = csr_matrix(arr)\n",
    "mat.eliminate_zeros()\n",
    "\n",
    "print(mat)"
   ]
  },
  {
   "cell_type": "markdown",
   "id": "proprietary-tournament",
   "metadata": {},
   "source": [
    "**Eliminating duplicate entries** with the `sum_duplicates()` method:"
   ]
  },
  {
   "cell_type": "code",
   "execution_count": 86,
   "id": "sitting-shakespeare",
   "metadata": {},
   "outputs": [
    {
     "name": "stdout",
     "output_type": "stream",
     "text": [
      "  (1, 2)\t1\n",
      "  (2, 0)\t1\n",
      "  (2, 2)\t2\n"
     ]
    }
   ],
   "source": [
    "arr = np.array([[0, 0, 0], [0, 0, 1], [1, 0, 2]])\n",
    "\n",
    "mat = csr_matrix(arr)\n",
    "mat.sum_duplicates()\n",
    "\n",
    "print(mat)"
   ]
  },
  {
   "cell_type": "markdown",
   "id": "driving-address",
   "metadata": {},
   "source": [
    "Converting from csr to csc with the `tocsc()` method:"
   ]
  },
  {
   "cell_type": "code",
   "execution_count": 87,
   "id": "sophisticated-winter",
   "metadata": {},
   "outputs": [
    {
     "name": "stdout",
     "output_type": "stream",
     "text": [
      "  (2, 0)\t1\n",
      "  (1, 2)\t1\n",
      "  (2, 2)\t2\n"
     ]
    }
   ],
   "source": [
    "arr = np.array([[0, 0, 0], [0, 0, 1], [1, 0, 2]])\n",
    "\n",
    "newarr = csr_matrix(arr).tocsc()\n",
    "\n",
    "print(newarr)"
   ]
  },
  {
   "cell_type": "markdown",
   "id": "acute-printing",
   "metadata": {},
   "source": [
    "## SciPy Graphs\n",
    "\n",
    "SciPy provides us with the module `scipy.sparse.csgraph` for working with such data structures."
   ]
  },
  {
   "cell_type": "markdown",
   "id": "everyday-volunteer",
   "metadata": {},
   "source": [
    "### Adjacency Matrix\n",
    "Adjacency matrix is a nxn matrix where n is the number of elements in a graph.\n",
    "\n",
    "And the values represents the connection between the elements."
   ]
  },
  {
   "cell_type": "markdown",
   "id": "opposite-indicator",
   "metadata": {},
   "source": [
    "### Connected Components\n",
    "\n",
    "Find all of the connected components with the `connected_components()` method."
   ]
  },
  {
   "cell_type": "markdown",
   "id": "national-marine",
   "metadata": {},
   "source": [
    "**One component:**\n",
    "\n",
    "![1-component](./images/1-component.png)"
   ]
  },
  {
   "cell_type": "code",
   "execution_count": 88,
   "id": "smoking-mechanism",
   "metadata": {},
   "outputs": [
    {
     "name": "stdout",
     "output_type": "stream",
     "text": [
      "(1, array([0, 0, 0], dtype=int32))\n"
     ]
    }
   ],
   "source": [
    "from scipy.sparse.csgraph import connected_components\n",
    "\n",
    "arr = np.array([\n",
    "    [0, 1, 2],\n",
    "    [1, 0, 0],\n",
    "    [2, 0, 0]\n",
    "])\n",
    "\n",
    "newarr = csr_matrix(arr)\n",
    "\n",
    "print(connected_components(newarr))"
   ]
  },
  {
   "cell_type": "markdown",
   "id": "exempt-diary",
   "metadata": {},
   "source": [
    "**Two components:**\n",
    "\n",
    "![2-components](./images/2-components.png)"
   ]
  },
  {
   "cell_type": "code",
   "execution_count": 82,
   "id": "impossible-yield",
   "metadata": {},
   "outputs": [
    {
     "name": "stdout",
     "output_type": "stream",
     "text": [
      "(2, array([0, 0, 0, 1, 1, 1, 1], dtype=int32))\n"
     ]
    }
   ],
   "source": [
    "arr = np.array([[0, 1, 1, 0, 0, 0, 0],\n",
    "       [1, 0, 1, 0, 0, 0, 0],\n",
    "       [1, 1, 0, 0, 0, 0, 0],\n",
    "       [0, 0, 0, 0, 1, 0, 1],\n",
    "       [0, 0, 0, 1, 0, 1, 0],\n",
    "       [0, 0, 0, 0, 1, 0, 1],\n",
    "       [0, 0, 0, 1, 0, 1, 0]])\n",
    "\n",
    "newarr = csr_matrix(arr)\n",
    "\n",
    "print(connected_components(newarr))"
   ]
  },
  {
   "cell_type": "markdown",
   "id": "wrong-cursor",
   "metadata": {},
   "source": [
    "### Dijkstra\n",
    "\n",
    "Use the `dijkstra` method to find the shortest path in a graph from one element to another.\n",
    "\n",
    "It takes following arguments:\n",
    "\n",
    "- **return_predecessors:** boolean (True to return whole path of traversal otherwise False).\n",
    "- **indices:** index of the element to return all paths from that element only.\n",
    "- **limit:** max weight of path."
   ]
  },
  {
   "cell_type": "code",
   "execution_count": 90,
   "id": "remarkable-motor",
   "metadata": {},
   "outputs": [
    {
     "name": "stdout",
     "output_type": "stream",
     "text": [
      "(array([1., 0., 3.]), array([    1, -9999,     0], dtype=int32))\n"
     ]
    }
   ],
   "source": [
    "from scipy.sparse.csgraph import dijkstra\n",
    "\n",
    "arr = np.array([\n",
    "  [0, 1, 2],\n",
    "  [1, 0, 0],\n",
    "  [2, 0, 0]\n",
    "])\n",
    "\n",
    "newarr = csr_matrix(arr)\n",
    "\n",
    "print(dijkstra(newarr, return_predecessors=True, indices=1))"
   ]
  },
  {
   "cell_type": "markdown",
   "id": "declared-heather",
   "metadata": {},
   "source": [
    "### Floyd Warshall\n",
    "\n",
    "Use the `floyd_warshall()` method to find shortest path between all pairs of elements."
   ]
  },
  {
   "cell_type": "code",
   "execution_count": 91,
   "id": "arabic-section",
   "metadata": {},
   "outputs": [
    {
     "name": "stdout",
     "output_type": "stream",
     "text": [
      "(array([[0., 1., 2.],\n",
      "       [1., 0., 3.],\n",
      "       [2., 3., 0.]]), array([[-9999,     0,     0],\n",
      "       [    1, -9999,     0],\n",
      "       [    2,     0, -9999]], dtype=int32))\n"
     ]
    }
   ],
   "source": [
    "from scipy.sparse.csgraph import floyd_warshall\n",
    "\n",
    "arr = np.array([\n",
    "  [0, 1, 2],\n",
    "  [1, 0, 0],\n",
    "  [2, 0, 0]\n",
    "])\n",
    "\n",
    "newarr = csr_matrix(arr)\n",
    "\n",
    "print(floyd_warshall(newarr, return_predecessors=True))"
   ]
  },
  {
   "cell_type": "markdown",
   "id": "north-english",
   "metadata": {},
   "source": [
    "### Bellman Ford\n",
    "\n",
    "The `bellman_ford()` method can also find the shortest path between all pairs of elements, _but_ this method can handle negative weights as well."
   ]
  },
  {
   "cell_type": "code",
   "execution_count": 92,
   "id": "pharmaceutical-school",
   "metadata": {},
   "outputs": [
    {
     "name": "stdout",
     "output_type": "stream",
     "text": [
      "(array([ 0., -1.,  2.]), array([-9999,     0,     0], dtype=int32))\n"
     ]
    }
   ],
   "source": [
    "from scipy.sparse.csgraph import bellman_ford\n",
    "\n",
    "arr = np.array([\n",
    "  [0, -1, 2],\n",
    "  [1, 0, 0],\n",
    "  [2, 0, 0]\n",
    "])\n",
    "\n",
    "newarr = csr_matrix(arr)\n",
    "\n",
    "print(bellman_ford(newarr, return_predecessors=True, indices=0))"
   ]
  },
  {
   "cell_type": "markdown",
   "id": "impaired-portrait",
   "metadata": {},
   "source": [
    "### Depth First Order\n",
    "\n",
    "The `depth_first_order()` method returns a depth first traversal from a node.\n",
    "\n",
    "This function takes following arguments:\n",
    "\n",
    "1. the graph.\n",
    "2. the starting element to traverse graph from."
   ]
  },
  {
   "cell_type": "code",
   "execution_count": 94,
   "id": "convenient-dressing",
   "metadata": {},
   "outputs": [
    {
     "name": "stdout",
     "output_type": "stream",
     "text": [
      "(array([1, 0, 3, 2], dtype=int32), array([    1, -9999,     1,     0], dtype=int32))\n"
     ]
    }
   ],
   "source": [
    "from scipy.sparse.csgraph import depth_first_order\n",
    "\n",
    "arr = np.array([\n",
    "  [0, 1, 0, 1],\n",
    "  [1, 1, 1, 1],\n",
    "  [2, 1, 1, 0],\n",
    "  [0, 1, 0, 1]\n",
    "])\n",
    "\n",
    "newarr = csr_matrix(arr)\n",
    "\n",
    "print(depth_first_order(newarr, 1))"
   ]
  },
  {
   "cell_type": "markdown",
   "id": "psychological-julian",
   "metadata": {},
   "source": [
    "### Breadth First Order\n",
    "\n",
    "The `breadth_first_order()` method returns a breadth first traversal from a node.\n",
    "\n",
    "This function takes following arguments:\n",
    "\n",
    "1. the graph.\n",
    "2. the starting element to traverse graph from."
   ]
  },
  {
   "cell_type": "code",
   "execution_count": 95,
   "id": "polished-surfing",
   "metadata": {},
   "outputs": [
    {
     "name": "stdout",
     "output_type": "stream",
     "text": [
      "(array([1, 0, 2, 3], dtype=int32), array([    1, -9999,     1,     1], dtype=int32))\n"
     ]
    }
   ],
   "source": [
    "from scipy.sparse.csgraph import breadth_first_order\n",
    "\n",
    "arr = np.array([\n",
    "  [0, 1, 0, 1],\n",
    "  [1, 1, 1, 1],\n",
    "  [2, 1, 1, 0],\n",
    "  [0, 1, 0, 1]\n",
    "])\n",
    "\n",
    "newarr = csr_matrix(arr)\n",
    "\n",
    "print(breadth_first_order(newarr, 1))"
   ]
  },
  {
   "cell_type": "markdown",
   "id": "technological-logging",
   "metadata": {},
   "source": [
    "## SciPy Spatial Data\n",
    "\n",
    "Spatial data refers to data that is represented in a geometric space.\n",
    "\n",
    "SciPy provides us with the module `scipy.spatial`, which has functions for working with spatial data."
   ]
  },
  {
   "cell_type": "markdown",
   "id": "unusual-sheriff",
   "metadata": {},
   "source": [
    "### Triangulation\n",
    "\n",
    "A Triangulation of a polygon is to divide the polygon into multiple triangles with which we can compute an area of the polygon.\n",
    "\n",
    "A Triangulation with points means creating surface composed triangles in which all of the given points are on at least one vertex of any triangle in the surface.\n",
    "\n",
    "One method to generate these triangulations through points is the `Delaunay()` Triangulation."
   ]
  },
  {
   "cell_type": "code",
   "execution_count": 96,
   "id": "after-factor",
   "metadata": {},
   "outputs": [
    {
     "data": {
      "image/png": "[encoded data removed]",
      "text/plain": [
       "<Figure size 432x288 with 1 Axes>"
      ]
     },
     "metadata": {
      "needs_background": "light"
     },
     "output_type": "display_data"
    }
   ],
   "source": [
    "from scipy.spatial import Delaunay\n",
    "import matplotlib.pyplot as plt\n",
    "\n",
    "points = np.array([\n",
    "  [2, 4],\n",
    "  [3, 4],\n",
    "  [3, 0],\n",
    "  [2, 2],\n",
    "  [4, 1]\n",
    "])\n",
    "\n",
    "simplices = Delaunay(points).simplices\n",
    "\n",
    "plt.triplot(points[:, 0], points[:, 1], simplices)\n",
    "plt.scatter(points[:, 0], points[:, 1], color='r')\n",
    "\n",
    "plt.show()"
   ]
  },
  {
   "cell_type": "markdown",
   "id": "arranged-income",
   "metadata": {},
   "source": [
    "### Convex Hull\n",
    "\n",
    "A convex hull is the smallest polygon that covers all of the given points.\n",
    "\n",
    "Use the `ConvexHull()` method to create a Convex Hull."
   ]
  },
  {
   "cell_type": "code",
   "execution_count": 97,
   "id": "heated-header",
   "metadata": {},
   "outputs": [
    {
     "data": {
      "image/png": "[encoded data removed]",
      "text/plain": [
       "<Figure size 432x288 with 1 Axes>"
      ]
     },
     "metadata": {
      "needs_background": "light"
     },
     "output_type": "display_data"
    }
   ],
   "source": [
    "from scipy.spatial import ConvexHull\n",
    "\n",
    "points = np.array([\n",
    "  [2, 4],\n",
    "  [3, 4],\n",
    "  [3, 0],\n",
    "  [2, 2],\n",
    "  [4, 1],\n",
    "  [1, 2],\n",
    "  [5, 0],\n",
    "  [3, 1],\n",
    "  [1, 2],\n",
    "  [0, 2]\n",
    "])\n",
    "\n",
    "hull = ConvexHull(points)\n",
    "hull_points = hull.simplices\n",
    "\n",
    "plt.scatter(points[:,0], points[:,1])\n",
    "for simplex in hull_points:\n",
    "  plt.plot(points[simplex,0], points[simplex,1], 'k-')\n",
    "\n",
    "plt.show()"
   ]
  },
  {
   "cell_type": "markdown",
   "id": "documented-secondary",
   "metadata": {},
   "source": [
    "### KDTrees\n",
    "\n",
    "KDTrees are a datastructure optimized for nearest neighbor queries.\n",
    "\n",
    "E.g. in a set of points using KDTrees we can efficiently ask which points are nearest to a certain given point.\n",
    "\n",
    "The `KDTree()` method returns a KDTree object.\n",
    "\n",
    "The `query()` method returns the distance to the nearest neighbor and the location of the neighbors."
   ]
  },
  {
   "cell_type": "code",
   "execution_count": 108,
   "id": "elementary-antibody",
   "metadata": {},
   "outputs": [
    {
     "name": "stdout",
     "output_type": "stream",
     "text": [
      "(2.0, 0)\n"
     ]
    },
    {
     "data": {
      "text/plain": [
       "<matplotlib.collections.PathCollection at 0x7f40ec295e90>"
      ]
     },
     "execution_count": 108,
     "metadata": {},
     "output_type": "execute_result"
    },
    {
     "data": {
      "image/png": "[encoded data removed]",
      "text/plain": [
       "<Figure size 432x288 with 1 Axes>"
      ]
     },
     "metadata": {
      "needs_background": "light"
     },
     "output_type": "display_data"
    }
   ],
   "source": [
    "from scipy.spatial import KDTree\n",
    "\n",
    "points = [(1, -1), (2, 3), (-2, 3), (2, -3)]\n",
    "\n",
    "kdtree = KDTree(points)\n",
    "\n",
    "res = kdtree.query((1, 1))\n",
    "\n",
    "print(res)\n",
    "\n",
    "plt.scatter(np.array(points)[:, 0], np.array(points)[:, 1], color='r')\n",
    "plt.scatter(np.array([1]), np.array([1]), color='b')"
   ]
  },
  {
   "cell_type": "markdown",
   "id": "overall-comment",
   "metadata": {},
   "source": [
    "### Distance Matrix\n",
    "\n",
    "There are many Distance Metrics used to find various types of distances between two points in data science, Euclidean distsance, cosine distsance etc."
   ]
  },
  {
   "cell_type": "markdown",
   "id": "fallen-workstation",
   "metadata": {},
   "source": [
    "#### Euclidean Distance"
   ]
  },
  {
   "cell_type": "code",
   "execution_count": 121,
   "id": "documentary-bahrain",
   "metadata": {},
   "outputs": [
    {
     "name": "stdout",
     "output_type": "stream",
     "text": [
      "9.219544457292887\n"
     ]
    }
   ],
   "source": [
    "from scipy.spatial.distance import euclidean\n",
    "\n",
    "p1 = (1, 0)\n",
    "p2 = (10, 2)\n",
    "\n",
    "res = euclidean(p1, p2)\n",
    "\n",
    "print(res)"
   ]
  },
  {
   "cell_type": "markdown",
   "id": "bridal-helen",
   "metadata": {},
   "source": [
    "#### Cityblock Distance (Manhattan Distance)\n",
    "\n",
    "The distance computed using 4 degrees of movement.\n",
    "\n",
    "E.g. we can only move: up, down, right, or left, not diagonally."
   ]
  },
  {
   "cell_type": "code",
   "execution_count": 122,
   "id": "accepting-visit",
   "metadata": {},
   "outputs": [
    {
     "name": "stdout",
     "output_type": "stream",
     "text": [
      "11\n"
     ]
    }
   ],
   "source": [
    "from scipy.spatial.distance import cityblock\n",
    "\n",
    "p1 = (1, 0)\n",
    "p2 = (10, 2)\n",
    "\n",
    "res = cityblock(p1, p2)\n",
    "\n",
    "print(res)"
   ]
  },
  {
   "cell_type": "markdown",
   "id": "liquid-finger",
   "metadata": {},
   "source": [
    "#### Cosine Distance\n",
    "\n",
    "The value of cosine angle between the two points A and B."
   ]
  },
  {
   "cell_type": "code",
   "execution_count": 123,
   "id": "dense-seeking",
   "metadata": {},
   "outputs": [
    {
     "name": "stdout",
     "output_type": "stream",
     "text": [
      "0.019419324309079777\n"
     ]
    }
   ],
   "source": [
    "from scipy.spatial.distance import cosine\n",
    "\n",
    "p1 = (1, 0)\n",
    "p2 = (10, 2)\n",
    "\n",
    "res = cosine(p1, p2)\n",
    "\n",
    "print(res)"
   ]
  },
  {
   "cell_type": "markdown",
   "id": "adapted-somerset",
   "metadata": {},
   "source": [
    "#### Hamming Distance\n",
    "\n",
    "The proportion of bits where two bits are difference.\n",
    "\n",
    "It's a way to measure distance for binary sequences."
   ]
  },
  {
   "cell_type": "code",
   "execution_count": 124,
   "id": "assured-intersection",
   "metadata": {},
   "outputs": [
    {
     "name": "stdout",
     "output_type": "stream",
     "text": [
      "0.6666666666666666\n"
     ]
    }
   ],
   "source": [
    "from scipy.spatial.distance import hamming\n",
    "\n",
    "p1 = (True, False, True)\n",
    "p2 = (False, True, True)\n",
    "\n",
    "res = hamming(p1, p2)\n",
    "\n",
    "print(res)"
   ]
  },
  {
   "cell_type": "markdown",
   "id": "eight-appointment",
   "metadata": {},
   "source": [
    "## SciPy Matlab Arrays\n",
    "\n",
    "We know that NumPy provides us with methods to persist the data in readable formats for Python. But SciPy provides us with *interoperability* with Matlab as well.\n",
    "\n",
    "SciPy provides us with the module `scipy.io`, which has functions for working with Matlab arrays."
   ]
  },
  {
   "cell_type": "markdown",
   "id": "invisible-latitude",
   "metadata": {},
   "source": [
    "### Exporting Data in Matlab Format\n",
    "\n",
    "The `savemat()` function allows us to export data in Matlab format.\n",
    "\n",
    "The method takes the following parameters:\n",
    "\n",
    "1. **filename** - the file name for saving data.\n",
    "2. **mdict** - a dictionary containing the data.\n",
    "3. **do_compression** - a boolean value that specifies wheter to compress the reult or not. Default False."
   ]
  },
  {
   "cell_type": "code",
   "execution_count": 125,
   "id": "prescription-match",
   "metadata": {},
   "outputs": [],
   "source": [
    "from scipy import io\n",
    "\n",
    "arr = np.arange(10)\n",
    "\n",
    "io.savemat('arr.mat', {\"vec\": arr})"
   ]
  },
  {
   "cell_type": "markdown",
   "id": "finnish-enterprise",
   "metadata": {},
   "source": [
    "### Import Data from Matlab Format\n",
    "\n",
    "The `loadmat()` function allows us to import data from a Matlab file."
   ]
  },
  {
   "cell_type": "code",
   "execution_count": 126,
   "id": "incorrect-emperor",
   "metadata": {},
   "outputs": [
    {
     "name": "stdout",
     "output_type": "stream",
     "text": [
      "{'__header__': b'MATLAB 5.0 MAT-file Platform: posix, Created on: Thu Feb 25 19:30:52 2021', '__version__': '1.0', '__globals__': [], 'vec': array([[0, 1, 2, 3, 4, 5, 6, 7, 8, 9]])}\n"
     ]
    }
   ],
   "source": [
    "arr = np.array([0, 1, 2, 3, 4, 5, 6, 7, 8, 9,])\n",
    "\n",
    "# Export:\n",
    "io.savemat('arr.mat', {\"vec\": arr})\n",
    "\n",
    "# Import:\n",
    "mydata = io.loadmat('arr.mat')\n",
    "\n",
    "print(mydata)"
   ]
  },
  {
   "cell_type": "markdown",
   "id": "deluxe-distribution",
   "metadata": {},
   "source": [
    " to display *only* the array from the matlab data, use the variable name \"vec\":"
   ]
  },
  {
   "cell_type": "code",
   "execution_count": 127,
   "id": "psychological-sequence",
   "metadata": {},
   "outputs": [
    {
     "name": "stdout",
     "output_type": "stream",
     "text": [
      "[[0 1 2 3 4 5 6 7 8 9]]\n"
     ]
    }
   ],
   "source": [
    "print(mydata['vec'])"
   ]
  },
  {
   "cell_type": "markdown",
   "id": "sustained-congress",
   "metadata": {},
   "source": [
    "In order to resolve the issue of *1-D increase* above, we can pass an additional argument `squeeze_me=True`:"
   ]
  },
  {
   "cell_type": "code",
   "execution_count": 128,
   "id": "outstanding-focus",
   "metadata": {},
   "outputs": [
    {
     "name": "stdout",
     "output_type": "stream",
     "text": [
      "[0 1 2 3 4 5 6 7 8 9]\n"
     ]
    }
   ],
   "source": [
    "# Import:\n",
    "mydata = io.loadmat('arr.mat', squeeze_me=True)\n",
    "\n",
    "print(mydata['vec'])"
   ]
  },
  {
   "cell_type": "markdown",
   "id": "revised-virus",
   "metadata": {},
   "source": [
    "## SciPy Interpolation\n",
    "\n",
    "SciPy provides us with a module called `scipy.interpolate` which has many functions to deal with interpolation."
   ]
  },
  {
   "cell_type": "markdown",
   "id": "several-dress",
   "metadata": {},
   "source": [
    "### 1D Interpolation\n",
    "\n",
    "The function `interp1d()` is used to interpolate a distribution with 1 variable."
   ]
  },
  {
   "cell_type": "code",
   "execution_count": 129,
   "id": "accepted-armenia",
   "metadata": {},
   "outputs": [
    {
     "name": "stdout",
     "output_type": "stream",
     "text": [
      "[5.2 5.4 5.6 5.8 6.  6.2 6.4 6.6 6.8]\n"
     ]
    }
   ],
   "source": [
    "from scipy.interpolate import interp1d\n",
    "\n",
    "xs = np.arange(10)\n",
    "ys = 2*xs + 1\n",
    "\n",
    "interp_func = interp1d(xs, ys)\n",
    "\n",
    "newarr = interp_func(np.arange(2.1, 3, 0.1))\n",
    "\n",
    "print(newarr)"
   ]
  },
  {
   "cell_type": "markdown",
   "id": "wooden-occasion",
   "metadata": {},
   "source": [
    "### Spline Interpolation\n",
    "\n",
    "In 1D interpolation the points are fitted for a *single curve* whereas in Spline interpolation the points are fitted against a *piecewise function* defined with polynomials called splines.\n",
    "\n",
    "`UnivariateSpline()`"
   ]
  },
  {
   "cell_type": "code",
   "execution_count": 131,
   "id": "employed-pointer",
   "metadata": {},
   "outputs": [
    {
     "name": "stdout",
     "output_type": "stream",
     "text": [
      "[5.62826474 6.03987348 6.47131994 6.92265019 7.3939103  7.88514634\n",
      " 8.39640439 8.92773053 9.47917082]\n"
     ]
    }
   ],
   "source": [
    "from scipy.interpolate import UnivariateSpline\n",
    "\n",
    "xs = np.arange(10)\n",
    "ys = xs**2 + np.sin(xs) + 1\n",
    "\n",
    "interp_func = UnivariateSpline(xs, ys)\n",
    "\n",
    "newarr = interp_func(np.arange(2.1, 3, 0.1))\n",
    "\n",
    "print(newarr)"
   ]
  },
  {
   "cell_type": "markdown",
   "id": "genetic-assault",
   "metadata": {},
   "source": [
    "### Interpolation with Radial Basis Function\n",
    "\n",
    "Radial basis function is a function that is defined corresponding to a fixed reference point.\n",
    "\n",
    "`Rbf()`"
   ]
  },
  {
   "cell_type": "code",
   "execution_count": 132,
   "id": "annual-story",
   "metadata": {},
   "outputs": [
    {
     "name": "stdout",
     "output_type": "stream",
     "text": [
      "[6.25748981 6.62190817 7.00310702 7.40121814 7.8161443  8.24773402\n",
      " 8.69590519 9.16070828 9.64233874]\n"
     ]
    }
   ],
   "source": [
    "from scipy.interpolate import Rbf\n",
    "\n",
    "xs = np.arange(10)\n",
    "ys = xs**2 + np.sin(xs) + 1\n",
    "\n",
    "interp_func = Rbf(xs, ys)\n",
    "\n",
    "newarr = interp_func(np.arange(2.1, 3, 0.1))\n",
    "\n",
    "print(newarr)"
   ]
  },
  {
   "cell_type": "markdown",
   "id": "artistic-martin",
   "metadata": {},
   "source": [
    "## SciPy Statistical Significance Tests\n",
    "\n",
    "In statistics, statistical significance means that the result that was produced has a reason behind it, it was not produced randomly, or by chance.\n",
    "\n",
    "SciPy provides us with a module called `scipy.stats`, which has functions for performing statistical significance tests.\n",
    "\n",
    "- **Hypothesis in Statistics**: Hypothesis is an assumption about a parameter in population.\n",
    "- **Null Hypothesis**: It assumes that the observation is not stastically significant.\n",
    "- **Alternate Hypothesis**: It assumes that the observations are due to some reason."
   ]
  },
  {
   "cell_type": "markdown",
   "id": "round-contemporary",
   "metadata": {},
   "source": [
    "### One tailed test\n",
    "\n",
    "When our hypothesis is testing for one side of the value only, it is called *\"one tailed test\"*.\n",
    "\n",
    "**Example:**\n",
    "\n",
    "For the null hypothesis:\n",
    "\n",
    "\"the mean is equal to k\", we can have alternate hypothesis:\n",
    "\n",
    "\"the mean is less than k\", or:\n",
    "\n",
    "\"the mean is greater than k\"\n",
    "\n",
    "### Two tailed test\n",
    "\n",
    "When our hypothesis is testing for both side of the values.\n",
    "\n",
    "**Example:**\n",
    "\n",
    "For the null hypothesis:\n",
    "\n",
    "\"the mean is equal to k\", we can have alternate hypothesis:\n",
    "\n",
    "\"the mean is not equal to k\"\n",
    "\n",
    "In this case the mean is less than, or greater than k, and both sides are to be checked.\n",
    "\n",
    "### Alpha value\n",
    "\n",
    "Alpha value is the level of significance.\n",
    "\n",
    "Example:\n",
    "\n",
    "How close to extremes the data must be for null hypothesis to be rejected.\n",
    "\n",
    "It is usually taken as `0.01`, `0.05`, or `0.1`.\n",
    "\n",
    "### P value\n",
    "\n",
    "P value tells how close to extreme the data actually is.\n",
    "\n",
    "P value and alpha values are compared to establish the statistical significance.\n",
    "\n",
    "If `p value <= alpha` we reject the null hypothesis and say that the data is statistically significant. otherwise we accept the null hypothesis.\n",
    "\n",
    "### T-Test\n",
    "\n",
    "T-tests are used to determine if there is significant deference between means of two variables. and lets us know if they belong to the same distribution.\n",
    "\n",
    "It is a two tailed test.\n",
    "\n",
    "The function `ttest_ind()` takes two samples of same size and produces a tuple of t-statistic and p-value."
   ]
  },
  {
   "cell_type": "code",
   "execution_count": 1,
   "id": "interested-relevance",
   "metadata": {},
   "outputs": [
    {
     "name": "stdout",
     "output_type": "stream",
     "text": [
      "Ttest_indResult(statistic=1.0981242462814673, pvalue=0.2734838104362843)\n"
     ]
    }
   ],
   "source": [
    "import numpy as np\n",
    "from scipy.stats import ttest_ind\n",
    "\n",
    "v1 = np.random.normal(size=100)\n",
    "v2 = np.random.normal(size=100)\n",
    "\n",
    "res = ttest_ind(v1, v2)\n",
    "\n",
    "print(res)"
   ]
  },
  {
   "cell_type": "markdown",
   "id": "shared-judge",
   "metadata": {},
   "source": [
    "If you want to return only the p-value, use the `pvalue` property:"
   ]
  },
  {
   "cell_type": "code",
   "execution_count": 2,
   "id": "israeli-arrest",
   "metadata": {},
   "outputs": [
    {
     "name": "stdout",
     "output_type": "stream",
     "text": [
      "0.2734838104362843\n"
     ]
    }
   ],
   "source": [
    "res = ttest_ind(v1, v2).pvalue\n",
    "\n",
    "print(res)"
   ]
  },
  {
   "cell_type": "markdown",
   "id": "partial-bidder",
   "metadata": {},
   "source": [
    "### KS-Test\n",
    "\n",
    "KS test is used to check if given values follow a distribution.\n",
    "\n",
    "The function takes the value to be tested, and the CDF as two parameters.\n",
    "\n",
    "> A **CDF** can be either a string or a callable function that returns the probability.\n",
    "\n",
    "It can be used as a one tailed or two tailed test.\n",
    "\n",
    "By default it is two tailed. We can pass parameter alternative as a string of one of two-sided, less, or greater."
   ]
  },
  {
   "cell_type": "code",
   "execution_count": 3,
   "id": "placed-authorization",
   "metadata": {},
   "outputs": [
    {
     "name": "stdout",
     "output_type": "stream",
     "text": [
      "KstestResult(statistic=0.07858118322752722, pvalue=0.5411182959118954)\n"
     ]
    }
   ],
   "source": [
    "import numpy as np\n",
    "from scipy.stats import kstest\n",
    "\n",
    "v = np.random.normal(size=100)\n",
    "\n",
    "res = kstest(v, 'norm')\n",
    "\n",
    "print(res)"
   ]
  },
  {
   "cell_type": "markdown",
   "id": "respected-shelter",
   "metadata": {},
   "source": [
    "### Statistical Description of Data\n",
    "\n",
    "In order to see a summary of values in an array, we can use the `describe()` function.\n",
    "\n",
    "It returns the following description:\n",
    "\n",
    "1. number of observations (nobs)\n",
    "2. minimum and maximum values = minmax\n",
    "3. mean\n",
    "4. variance\n",
    "5. skewness\n",
    "6. kurtosis"
   ]
  },
  {
   "cell_type": "code",
   "execution_count": 4,
   "id": "marked-jesus",
   "metadata": {},
   "outputs": [
    {
     "name": "stdout",
     "output_type": "stream",
     "text": [
      "DescribeResult(nobs=100, minmax=(-3.172913496996059, 2.7980128822249433), mean=0.06858915856025292, variance=1.4114542006635193, skewness=-0.3817864973888463, kurtosis=-0.10012451504977271)\n"
     ]
    }
   ],
   "source": [
    "import numpy as np\n",
    "from scipy.stats import describe\n",
    "\n",
    "v = np.random.normal(size=100)\n",
    "res = describe(v)\n",
    "\n",
    "print(res)"
   ]
  },
  {
   "cell_type": "markdown",
   "id": "forty-foster",
   "metadata": {},
   "source": [
    "### Normality Tests (Skewness and Kurtosis)\n",
    "\n",
    "Normality tests are based on the skewness and kurtosis.\n",
    "\n",
    "The `normaltest()` function returns p value for the null hypothesis:\n",
    "\n",
    "\"x comes from a normal distribution\".\n",
    "\n",
    "#### Skewness:\n",
    "\n",
    "A measure of symmetry in data.\n",
    "\n",
    "For normal distributions it is 0.\n",
    "\n",
    "If it is negative, it means the data is skewed left.\n",
    "\n",
    "If it is positive it means the data is skewed right.\n",
    "\n",
    "#### Kurtosis:\n",
    "\n",
    "A measure of whether the data is heavy or lightly tailed to a normal distribution.\n",
    "\n",
    "Positive kurtosis means heavy tailed.\n",
    "\n",
    "Negative kurtosis means lightly tailed."
   ]
  },
  {
   "cell_type": "code",
   "execution_count": 5,
   "id": "young-witch",
   "metadata": {},
   "outputs": [
    {
     "name": "stdout",
     "output_type": "stream",
     "text": [
      "-0.069198247872147\n",
      "0.39852476995941544\n"
     ]
    }
   ],
   "source": [
    "import numpy as np\n",
    "from scipy.stats import skew, kurtosis\n",
    "\n",
    "v = np.random.normal(size=100)\n",
    "\n",
    "print(skew(v))\n",
    "print(kurtosis(v))"
   ]
  },
  {
   "cell_type": "code",
   "execution_count": 7,
   "id": "overall-rebel",
   "metadata": {},
   "outputs": [
    {
     "name": "stdout",
     "output_type": "stream",
     "text": [
      "NormaltestResult(statistic=0.3380087324076539, pvalue=0.8445052160960782)\n"
     ]
    }
   ],
   "source": [
    "import numpy as np\n",
    "from scipy.stats import normaltest\n",
    "\n",
    "v = np.random.normal(size=100)\n",
    "\n",
    "print(normaltest(v))"
   ]
  },
  {
   "cell_type": "code",
   "execution_count": null,
   "id": "extra-geneva",
   "metadata": {},
   "outputs": [],
   "source": []
  }
 ],
 "metadata": {
  "kernelspec": {
   "display_name": "Python 3",
   "language": "python",
   "name": "python3"
  },
  "language_info": {
   "codemirror_mode": {
    "name": "ipython",
    "version": 3
   },
   "file_extension": ".py",
   "mimetype": "text/x-python",
   "name": "python",
   "nbconvert_exporter": "python",
   "pygments_lexer": "ipython3",
   "version": "3.7.7"
  }
 },
 "nbformat": 4,
 "nbformat_minor": 5
}
