{
 "cells": [
  {
   "cell_type": "markdown",
   "id": "recent-damage",
   "metadata": {},
   "source": [
    "# Introduction to Machine Learning"
   ]
  },
  {
   "cell_type": "markdown",
   "id": "searching-greensboro",
   "metadata": {},
   "source": [
    "## Data Types\n",
    "\n",
    "We can split the data types into three main categories:\n",
    "\n",
    "- **Numerical:** data are numbers, and can be split into two numerical categories:\n",
    "    - *Discrete Data*: numbers that are limited to integers. ***Example***: The number of cars passing by.\n",
    "    - *Continuous Data*: numbers that are of infinite value. ***Example***: The price of an item, or the size of an item.\n",
    "- **Categorical:** data are values that cannot be measured up against each other. ***Example***: a color value, or any yes/no values.\n",
    "- **Ordinal:** data are like categorical data, but can be measured up against each other. ***Example***: school grades where A is better than B and so on."
   ]
  },
  {
   "cell_type": "markdown",
   "id": "certain-buyer",
   "metadata": {},
   "source": [
    "## Mean, Median, and Mode\n",
    "\n",
    "- **Mean** - The average value\n",
    "- **Median** - The mid point value\n",
    "- **Mode** - The most common value"
   ]
  },
  {
   "cell_type": "code",
   "execution_count": 8,
   "id": "banned-receiver",
   "metadata": {},
   "outputs": [
    {
     "name": "stdout",
     "output_type": "stream",
     "text": [
      "89.76923076923077\n",
      "87.0\n",
      "ModeResult(mode=array([86]), count=array([3]))\n"
     ]
    }
   ],
   "source": [
    "import numpy as np\n",
    "import scipy\n",
    "from scipy import stats\n",
    "\n",
    "speed = [99,86,87,88,111,86,103,87,94,78,77,85,86]\n",
    "print(np.mean(speed)) \n",
    "print(np.median(speed)) \n",
    "print(stats.mode(speed))\n",
    "\n",
    "#if there is NaN in speed, np.median will return NaN. To calculate median (while ignoring NaNs): np.median(speed[~np.isnan(speed)])"
   ]
  },
  {
   "cell_type": "code",
   "execution_count": 9,
   "id": "viral-roads",
   "metadata": {},
   "outputs": [
    {
     "data": {
      "text/plain": [
       "[99, 86, 87, 1000, 88, 111, 1000, 86, 103, 87, 1000, 94, 78, 77, 85, 86, 1000]"
      ]
     },
     "execution_count": 9,
     "metadata": {},
     "output_type": "execute_result"
    }
   ],
   "source": [
    "speed = [99,86,87,np.nan,88,111,np.nan,86,103,87,np.nan,94,78,77,85,86,np.nan]\n",
    "speed_0 = ~np.isnan(speed)\n",
    "speed_1 = list(map(lambda x: x if x not in [np.nan] else 1000, speed))\n",
    "speed_1"
   ]
  },
  {
   "cell_type": "code",
   "execution_count": 10,
   "id": "sought-identity",
   "metadata": {},
   "outputs": [
    {
     "data": {
      "text/plain": [
       "(False, True)"
      ]
     },
     "execution_count": 10,
     "metadata": {},
     "output_type": "execute_result"
    }
   ],
   "source": [
    "np.nan == np.nan, np.nan in [np.nan]"
   ]
  },
  {
   "cell_type": "code",
   "execution_count": 13,
   "id": "retired-watson",
   "metadata": {},
   "outputs": [
    {
     "name": "stdout",
     "output_type": "stream",
     "text": [
      "[99, 86, 87, 1000, 88, 111, 1000, 86, 103, 87, 1000, 94, 78, 77, 85, 86, 1000]\n"
     ]
    }
   ],
   "source": [
    "replacements = {np.nan: 1000,}\n",
    "\n",
    "speed_2 = [replacements.get(x, x) for x in speed]\n",
    "\n",
    "print(speed_2)"
   ]
  },
  {
   "cell_type": "markdown",
   "id": "actual-pittsburgh",
   "metadata": {},
   "source": [
    "## Standard Deviation"
   ]
  },
  {
   "cell_type": "code",
   "execution_count": 2,
   "id": "honey-louisiana",
   "metadata": {},
   "outputs": [
    {
     "data": {
      "text/plain": [
       "9.258292301032677"
      ]
     },
     "execution_count": 2,
     "metadata": {},
     "output_type": "execute_result"
    }
   ],
   "source": [
    "np.std(speed)"
   ]
  },
  {
   "cell_type": "markdown",
   "id": "broken-raleigh",
   "metadata": {},
   "source": [
    "## Variance\n",
    "\n",
    "*standar deviation = square root of the variance*"
   ]
  },
  {
   "cell_type": "code",
   "execution_count": 3,
   "id": "capable-april",
   "metadata": {},
   "outputs": [
    {
     "data": {
      "text/plain": [
       "85.71597633136093"
      ]
     },
     "execution_count": 3,
     "metadata": {},
     "output_type": "execute_result"
    }
   ],
   "source": [
    "np.var(speed)"
   ]
  },
  {
   "cell_type": "markdown",
   "id": "cardiac-republican",
   "metadata": {},
   "source": [
    "## Percentiles\n",
    "\n",
    "Percentiles are used in statistics to give you a number that describes the value that a given percent of the values are lower than."
   ]
  },
  {
   "cell_type": "code",
   "execution_count": 4,
   "id": "royal-russian",
   "metadata": {},
   "outputs": [],
   "source": [
    "ages = [5,31,43,48,50,41,7,11,15,39,80,82,32,2,8,6,25,36,27,61,31]"
   ]
  },
  {
   "cell_type": "code",
   "execution_count": 5,
   "id": "included-panama",
   "metadata": {},
   "outputs": [
    {
     "data": {
      "text/plain": [
       "43.0"
      ]
     },
     "execution_count": 5,
     "metadata": {},
     "output_type": "execute_result"
    }
   ],
   "source": [
    "np.percentile(ages, 75)"
   ]
  },
  {
   "cell_type": "markdown",
   "id": "polyphonic-management",
   "metadata": {},
   "source": [
    "**Meaning:** 75% of the people are 43 or younger"
   ]
  },
  {
   "cell_type": "markdown",
   "id": "settled-firewall",
   "metadata": {},
   "source": [
    "## Data Distribution\n",
    "\n",
    "Create an array containing 250 random floats between 0 and 5:"
   ]
  },
  {
   "cell_type": "code",
   "execution_count": 6,
   "id": "centered-advertiser",
   "metadata": {},
   "outputs": [],
   "source": [
    "x1 = np.random.uniform(0.0, 5.0, 250)\n",
    "x2 = np.random.normal(0.0, 5.0, 250)"
   ]
  },
  {
   "cell_type": "markdown",
   "id": "durable-polish",
   "metadata": {},
   "source": [
    "## Histogram"
   ]
  },
  {
   "cell_type": "code",
   "execution_count": 7,
   "id": "medium-drama",
   "metadata": {},
   "outputs": [],
   "source": [
    "import matplotlib.pyplot as plt"
   ]
  },
  {
   "cell_type": "code",
   "execution_count": 8,
   "id": "wired-cheat",
   "metadata": {},
   "outputs": [
    {
     "data": {
      "image/png": "[encoded data removed]",
      "text/plain": [
       "<Figure size 432x288 with 1 Axes>"
      ]
     },
     "metadata": {
      "needs_background": "light"
     },
     "output_type": "display_data"
    }
   ],
   "source": [
    "plt.hist(x1, 25)\n",
    "plt.show()"
   ]
  },
  {
   "cell_type": "code",
   "execution_count": 9,
   "id": "million-malaysia",
   "metadata": {},
   "outputs": [
    {
     "data": {
      "image/png": "[encoded data removed]",
      "text/plain": [
       "<Figure size 432x288 with 1 Axes>"
      ]
     },
     "metadata": {
      "needs_background": "light"
     },
     "output_type": "display_data"
    }
   ],
   "source": [
    "plt.hist(x2, 25)\n",
    "plt.show()"
   ]
  },
  {
   "cell_type": "markdown",
   "id": "dangerous-collaboration",
   "metadata": {},
   "source": [
    "### Big Data Distribution"
   ]
  },
  {
   "cell_type": "code",
   "execution_count": 10,
   "id": "piano-reason",
   "metadata": {},
   "outputs": [],
   "source": [
    "x3 = np.random.uniform(0.0, 5.0, 100000)\n",
    "x4 = np.random.normal(0.0, 5.0, 100000)"
   ]
  },
  {
   "cell_type": "code",
   "execution_count": 11,
   "id": "floating-christian",
   "metadata": {},
   "outputs": [
    {
     "data": {
      "image/png": "[encoded data removed]",
      "text/plain": [
       "<Figure size 432x288 with 1 Axes>"
      ]
     },
     "metadata": {
      "needs_background": "light"
     },
     "output_type": "display_data"
    }
   ],
   "source": [
    "plt.hist(x3, 25)\n",
    "plt.show()"
   ]
  },
  {
   "cell_type": "code",
   "execution_count": 12,
   "id": "ambient-surface",
   "metadata": {},
   "outputs": [
    {
     "data": {
      "image/png": "[encoded data removed]",
      "text/plain": [
       "<Figure size 432x288 with 1 Axes>"
      ]
     },
     "metadata": {
      "needs_background": "light"
     },
     "output_type": "display_data"
    }
   ],
   "source": [
    "plt.hist(x4, 25)\n",
    "plt.show()"
   ]
  },
  {
   "cell_type": "markdown",
   "id": "accredited-military",
   "metadata": {},
   "source": [
    "## Scatter Plot"
   ]
  },
  {
   "cell_type": "code",
   "execution_count": 13,
   "id": "solved-metro",
   "metadata": {},
   "outputs": [],
   "source": [
    "x = [5,7,8,7,2,17,2,9,4,11,12,9,6]\n",
    "y = [99,86,87,88,111,86,103,87,94,78,77,85,86]"
   ]
  },
  {
   "cell_type": "code",
   "execution_count": 14,
   "id": "removable-crossing",
   "metadata": {},
   "outputs": [
    {
     "data": {
      "text/plain": [
       "<matplotlib.collections.PathCollection at 0x7fbeca439b50>"
      ]
     },
     "execution_count": 14,
     "metadata": {},
     "output_type": "execute_result"
    },
    {
     "data": {
      "image/png": "[encoded data removed]",
      "text/plain": [
       "<Figure size 432x288 with 1 Axes>"
      ]
     },
     "metadata": {
      "needs_background": "light"
     },
     "output_type": "display_data"
    }
   ],
   "source": [
    "plt.scatter(x, y)"
   ]
  },
  {
   "cell_type": "markdown",
   "id": "failing-publicity",
   "metadata": {},
   "source": [
    "### Random Data Distributions"
   ]
  },
  {
   "cell_type": "code",
   "execution_count": 15,
   "id": "affecting-december",
   "metadata": {},
   "outputs": [],
   "source": [
    "x1 = np.random.normal(5.0, 1.0, 1000)\n",
    "y1 = np.random.normal(10.0, 2.0, 1000)"
   ]
  },
  {
   "cell_type": "code",
   "execution_count": 16,
   "id": "union-longitude",
   "metadata": {},
   "outputs": [
    {
     "data": {
      "text/plain": [
       "<matplotlib.collections.PathCollection at 0x7fbed285a2d0>"
      ]
     },
     "execution_count": 16,
     "metadata": {},
     "output_type": "execute_result"
    },
    {
     "data": {
      "image/png": "[encoded data removed]",
      "text/plain": [
       "<Figure size 432x288 with 1 Axes>"
      ]
     },
     "metadata": {
      "needs_background": "light"
     },
     "output_type": "display_data"
    }
   ],
   "source": [
    "plt.scatter(x1, y1)"
   ]
  },
  {
   "cell_type": "code",
   "execution_count": 17,
   "id": "athletic-haiti",
   "metadata": {},
   "outputs": [],
   "source": [
    "x2 = np.random.uniform(5.0, 1.0, 1000)\n",
    "y2 = np.random.uniform(10.0, 2.0, 1000)"
   ]
  },
  {
   "cell_type": "code",
   "execution_count": 18,
   "id": "japanese-praise",
   "metadata": {},
   "outputs": [
    {
     "data": {
      "text/plain": [
       "<matplotlib.collections.PathCollection at 0x7fbeca30fa10>"
      ]
     },
     "execution_count": 18,
     "metadata": {},
     "output_type": "execute_result"
    },
    {
     "data": {
      "image/png": "[encoded data removed]",
      "text/plain": [
       "<Figure size 432x288 with 1 Axes>"
      ]
     },
     "metadata": {
      "needs_background": "light"
     },
     "output_type": "display_data"
    }
   ],
   "source": [
    "plt.scatter(x2, y2)"
   ]
  },
  {
   "cell_type": "markdown",
   "id": "prescription-grammar",
   "metadata": {},
   "source": [
    "## Linear Regression"
   ]
  },
  {
   "cell_type": "code",
   "execution_count": 19,
   "id": "opened-shipping",
   "metadata": {},
   "outputs": [],
   "source": [
    "x = [5,7,8,7,2,17,2,9,4,11,12,9,6]\n",
    "y = [99,86,87,88,111,86,103,87,94,78,77,85,86]"
   ]
  },
  {
   "cell_type": "code",
   "execution_count": 20,
   "id": "appropriate-ultimate",
   "metadata": {},
   "outputs": [
    {
     "data": {
      "text/plain": [
       "(-1.7512877115526118,\n",
       " 103.10596026490066,\n",
       " -0.758591524376155,\n",
       " 0.0026468739224561064,\n",
       " 0.453536157607742)"
      ]
     },
     "execution_count": 20,
     "metadata": {},
     "output_type": "execute_result"
    }
   ],
   "source": [
    "slope, intercept, r, p, stderr = stats.linregress(x, y)\n",
    "slope, intercept, r, p, stderr"
   ]
  },
  {
   "cell_type": "code",
   "execution_count": 21,
   "id": "forced-sleeping",
   "metadata": {},
   "outputs": [],
   "source": [
    "def func(x):\n",
    "    return intercept + slope * x\n",
    "\n",
    "model = list(map(func, x))\n",
    "model = [*map(func, x)]\n",
    "model = [func(x) for x in x]"
   ]
  },
  {
   "cell_type": "code",
   "execution_count": 22,
   "id": "equal-january",
   "metadata": {},
   "outputs": [
    {
     "data": {
      "image/png": "[encoded data removed]",
      "text/plain": [
       "<Figure size 432x288 with 1 Axes>"
      ]
     },
     "metadata": {
      "needs_background": "light"
     },
     "output_type": "display_data"
    }
   ],
   "source": [
    "plt.plot(x, model)\n",
    "plt.scatter(x, y)\n",
    "plt.show()"
   ]
  },
  {
   "cell_type": "markdown",
   "id": "removable-webcam",
   "metadata": {},
   "source": [
    "### Another Method:"
   ]
  },
  {
   "cell_type": "code",
   "execution_count": 23,
   "id": "complicated-blend",
   "metadata": {},
   "outputs": [],
   "source": [
    "mymodel = np.poly1d(np.polyfit(x, y, 1))"
   ]
  },
  {
   "cell_type": "code",
   "execution_count": 24,
   "id": "residential-receiver",
   "metadata": {},
   "outputs": [],
   "source": [
    "myline = np.linspace(1, 17, 100)"
   ]
  },
  {
   "cell_type": "code",
   "execution_count": 25,
   "id": "fifth-blowing",
   "metadata": {},
   "outputs": [
    {
     "data": {
      "image/png": "[encoded data removed]",
      "text/plain": [
       "<Figure size 432x288 with 1 Axes>"
      ]
     },
     "metadata": {
      "needs_background": "light"
     },
     "output_type": "display_data"
    }
   ],
   "source": [
    "plt.plot(myline, mymodel(myline))\n",
    "plt.scatter(x, y)\n",
    "plt.show()"
   ]
  },
  {
   "cell_type": "markdown",
   "id": "collected-seller",
   "metadata": {},
   "source": [
    "### Another Method (`sklearn`)"
   ]
  },
  {
   "cell_type": "code",
   "execution_count": 26,
   "id": "general-liquid",
   "metadata": {},
   "outputs": [
    {
     "data": {
      "text/plain": [
       "LinearRegression(copy_X=True, fit_intercept=True, n_jobs=None, normalize=False)"
      ]
     },
     "execution_count": 26,
     "metadata": {},
     "output_type": "execute_result"
    }
   ],
   "source": [
    "from sklearn import linear_model\n",
    "\n",
    "regr = linear_model.LinearRegression()\n",
    "regr.fit(np.array(x).reshape(-1, 1), np.array(y))"
   ]
  },
  {
   "cell_type": "code",
   "execution_count": 27,
   "id": "standard-hotel",
   "metadata": {},
   "outputs": [
    {
     "data": {
      "text/plain": [
       "array([85.59308315])"
      ]
     },
     "execution_count": 27,
     "metadata": {},
     "output_type": "execute_result"
    }
   ],
   "source": [
    "regr.predict(np.array(10).reshape(-1, 1))"
   ]
  },
  {
   "cell_type": "code",
   "execution_count": 28,
   "id": "premier-physiology",
   "metadata": {},
   "outputs": [
    {
     "name": "stdout",
     "output_type": "stream",
     "text": [
      "103.10596026490066\n"
     ]
    }
   ],
   "source": [
    "print(regr.intercept_)"
   ]
  },
  {
   "cell_type": "code",
   "execution_count": 29,
   "id": "hearing-pharmacology",
   "metadata": {},
   "outputs": [
    {
     "name": "stdout",
     "output_type": "stream",
     "text": [
      "[-1.75128771]\n"
     ]
    }
   ],
   "source": [
    "print(regr.coef_)"
   ]
  },
  {
   "cell_type": "markdown",
   "id": "baking-answer",
   "metadata": {},
   "source": [
    "## R for Relationship\n",
    "\n",
    "It is important to know how the relationship between the values of the x-axis and the values of the y-axis is, if there are no relationship the linear regression can not be used to predict anything.\n",
    "\n",
    "This relationship - the coefficient of correlation - is called r.\n",
    "\n",
    "The r value ranges from -1 to 1, where 0 means no relationship, and 1 (and -1) means 100% related."
   ]
  },
  {
   "cell_type": "code",
   "execution_count": 30,
   "id": "bibliographic-cement",
   "metadata": {},
   "outputs": [
    {
     "name": "stdout",
     "output_type": "stream",
     "text": [
      "-0.758591524376155\n"
     ]
    }
   ],
   "source": [
    "print(r)"
   ]
  },
  {
   "cell_type": "markdown",
   "id": "passing-lodge",
   "metadata": {},
   "source": [
    "**Note:** The result -0.76 shows that there is a relationship, not perfect, but it indicates that we could use linear regression in future predictions."
   ]
  },
  {
   "cell_type": "markdown",
   "id": "regulation-public",
   "metadata": {},
   "source": [
    "## Predict Future Values"
   ]
  },
  {
   "cell_type": "code",
   "execution_count": 31,
   "id": "timely-investing",
   "metadata": {},
   "outputs": [
    {
     "data": {
      "text/plain": [
       "85.59308314937454"
      ]
     },
     "execution_count": 31,
     "metadata": {},
     "output_type": "execute_result"
    }
   ],
   "source": [
    "speed = func(10)\n",
    "speed"
   ]
  },
  {
   "cell_type": "code",
   "execution_count": 32,
   "id": "partial-selection",
   "metadata": {},
   "outputs": [
    {
     "data": {
      "image/png": "[encoded data removed]",
      "text/plain": [
       "<Figure size 432x288 with 1 Axes>"
      ]
     },
     "metadata": {
      "needs_background": "light"
     },
     "output_type": "display_data"
    }
   ],
   "source": [
    "plt.scatter(10, speed, color='red')\n",
    "plt.plot(x, model)\n",
    "plt.scatter(x, y)\n",
    "plt.show()"
   ]
  },
  {
   "cell_type": "markdown",
   "id": "careful-tobago",
   "metadata": {},
   "source": [
    "### Bad Fit?"
   ]
  },
  {
   "cell_type": "code",
   "execution_count": 33,
   "id": "sorted-reverse",
   "metadata": {},
   "outputs": [],
   "source": [
    "x = [89,43,36,36,95,10,66,34,38,20,26,29,48,64,6,5,36,66,72,40]\n",
    "y = [21,46,3,35,67,95,53,72,58,10,26,34,90,33,38,20,56,2,47,15]"
   ]
  },
  {
   "cell_type": "code",
   "execution_count": 34,
   "id": "champion-yorkshire",
   "metadata": {},
   "outputs": [],
   "source": [
    "slope, intercept, r, p, stderr = stats.linregress(x, y)"
   ]
  },
  {
   "cell_type": "code",
   "execution_count": 35,
   "id": "selected-advertiser",
   "metadata": {},
   "outputs": [],
   "source": [
    "def func(x):\n",
    "    return intercept + slope * x\n",
    "\n",
    "model = list(map(func, x)) # convert map to list\n",
    "model = [func(x) for x in x]"
   ]
  },
  {
   "cell_type": "code",
   "execution_count": 36,
   "id": "little-venezuela",
   "metadata": {},
   "outputs": [
    {
     "data": {
      "image/png": "[encoded data removed]",
      "text/plain": [
       "<Figure size 432x288 with 1 Axes>"
      ]
     },
     "metadata": {
      "needs_background": "light"
     },
     "output_type": "display_data"
    }
   ],
   "source": [
    "plt.plot(x, model)\n",
    "plt.scatter(x, y)\n",
    "plt.show()"
   ]
  },
  {
   "cell_type": "markdown",
   "id": "conventional-press",
   "metadata": {},
   "source": [
    "Let's look at the `r` value:"
   ]
  },
  {
   "cell_type": "code",
   "execution_count": 37,
   "id": "rocky-badge",
   "metadata": {},
   "outputs": [
    {
     "name": "stdout",
     "output_type": "stream",
     "text": [
      "0.01331814154297491\n"
     ]
    }
   ],
   "source": [
    "print(r)"
   ]
  },
  {
   "cell_type": "markdown",
   "id": "honey-gibson",
   "metadata": {},
   "source": [
    "## Polynomial Regression"
   ]
  },
  {
   "cell_type": "code",
   "execution_count": 38,
   "id": "limiting-treatment",
   "metadata": {},
   "outputs": [],
   "source": [
    "x = [1,2,3,5,6,7,8,9,10,12,13,14,15,16,18,19,21,22]\n",
    "y = [100,90,80,60,60,55,60,65,70,70,75,76,78,79,90,99,99,100]"
   ]
  },
  {
   "cell_type": "code",
   "execution_count": 39,
   "id": "digital-latitude",
   "metadata": {},
   "outputs": [
    {
     "data": {
      "image/png": "[encoded data removed]",
      "text/plain": [
       "<Figure size 432x288 with 1 Axes>"
      ]
     },
     "metadata": {
      "needs_background": "light"
     },
     "output_type": "display_data"
    }
   ],
   "source": [
    "plt.scatter(x, y)\n",
    "plt.show()"
   ]
  },
  {
   "cell_type": "code",
   "execution_count": 40,
   "id": "cutting-ethiopia",
   "metadata": {},
   "outputs": [],
   "source": [
    "mymodel = np.poly1d(np.polyfit(x, y, 3))"
   ]
  },
  {
   "cell_type": "code",
   "execution_count": 41,
   "id": "passing-tower",
   "metadata": {},
   "outputs": [],
   "source": [
    "myline = np.linspace(1, 22, 100)"
   ]
  },
  {
   "cell_type": "code",
   "execution_count": 42,
   "id": "choice-douglas",
   "metadata": {},
   "outputs": [
    {
     "data": {
      "image/png": "[encoded data removed]",
      "text/plain": [
       "<Figure size 432x288 with 1 Axes>"
      ]
     },
     "metadata": {
      "needs_background": "light"
     },
     "output_type": "display_data"
    }
   ],
   "source": [
    "plt.plot(myline, mymodel(myline))\n",
    "plt.scatter(x, y)\n",
    "plt.show()"
   ]
  },
  {
   "cell_type": "markdown",
   "id": "after-needle",
   "metadata": {},
   "source": [
    "## R-Squared\n",
    "\n",
    "It is important to know how well the relationship between the values of the x- and y-axis is, if there are no relationship the polynomial regression can not be used to predict anything.\n",
    "\n",
    "The relationship is measured with a value called the r-squared.\n",
    "\n",
    "The r-squared value ranges from 0 to 1, where 0 means no relationship, and 1 means 100% related."
   ]
  },
  {
   "cell_type": "code",
   "execution_count": 43,
   "id": "frequent-dancing",
   "metadata": {},
   "outputs": [],
   "source": [
    "from sklearn.metrics import r2_score"
   ]
  },
  {
   "cell_type": "code",
   "execution_count": 44,
   "id": "friendly-worcester",
   "metadata": {},
   "outputs": [],
   "source": [
    "x = [1,2,3,5,6,7,8,9,10,12,13,14,15,16,18,19,21,22]\n",
    "y = [100,90,80,60,60,55,60,65,70,70,75,76,78,79,90,99,99,100]"
   ]
  },
  {
   "cell_type": "code",
   "execution_count": 45,
   "id": "passing-boulder",
   "metadata": {},
   "outputs": [],
   "source": [
    "mymodel = np.poly1d(np.polyfit(x, y, 3))"
   ]
  },
  {
   "cell_type": "code",
   "execution_count": 46,
   "id": "european-messaging",
   "metadata": {},
   "outputs": [
    {
     "name": "stdout",
     "output_type": "stream",
     "text": [
      "0.9432150416451026\n"
     ]
    }
   ],
   "source": [
    "print(r2_score(y, mymodel(x)))"
   ]
  },
  {
   "cell_type": "markdown",
   "id": "athletic-slovak",
   "metadata": {},
   "source": [
    "## Predict Future Values"
   ]
  },
  {
   "cell_type": "code",
   "execution_count": 47,
   "id": "parliamentary-snake",
   "metadata": {},
   "outputs": [
    {
     "data": {
      "text/plain": [
       "88.87331269697978"
      ]
     },
     "execution_count": 47,
     "metadata": {},
     "output_type": "execute_result"
    }
   ],
   "source": [
    "speed = mymodel(17)\n",
    "speed"
   ]
  },
  {
   "cell_type": "code",
   "execution_count": 48,
   "id": "loved-field",
   "metadata": {},
   "outputs": [
    {
     "data": {
      "image/png": "[encoded data removed]",
      "text/plain": [
       "<Figure size 432x288 with 1 Axes>"
      ]
     },
     "metadata": {
      "needs_background": "light"
     },
     "output_type": "display_data"
    }
   ],
   "source": [
    "plt.scatter(17, speed, color='red')\n",
    "plt.plot(myline, mymodel(myline))\n",
    "plt.scatter(x, y)\n",
    "plt.show()"
   ]
  },
  {
   "cell_type": "markdown",
   "id": "experimental-cornwall",
   "metadata": {},
   "source": [
    "### Bad Fit?"
   ]
  },
  {
   "cell_type": "code",
   "execution_count": 49,
   "id": "demographic-making",
   "metadata": {},
   "outputs": [],
   "source": [
    "x = [89,43,36,36,95,10,66,34,38,20,26,29,48,64,6,5,36,66,72,40]\n",
    "y = [21,46,3,35,67,95,53,72,58,10,26,34,90,33,38,20,56,2,47,15]"
   ]
  },
  {
   "cell_type": "code",
   "execution_count": 50,
   "id": "brazilian-slovakia",
   "metadata": {},
   "outputs": [],
   "source": [
    "mymodel = np.poly1d(np.polyfit(x, y, 3))"
   ]
  },
  {
   "cell_type": "code",
   "execution_count": 51,
   "id": "touched-reflection",
   "metadata": {},
   "outputs": [],
   "source": [
    "myline = np.linspace(2, 95, 100)"
   ]
  },
  {
   "cell_type": "code",
   "execution_count": 52,
   "id": "composed-controversy",
   "metadata": {},
   "outputs": [
    {
     "data": {
      "image/png": "[encoded data removed]",
      "text/plain": [
       "<Figure size 432x288 with 1 Axes>"
      ]
     },
     "metadata": {
      "needs_background": "light"
     },
     "output_type": "display_data"
    }
   ],
   "source": [
    "plt.scatter(x, y)\n",
    "plt.plot(myline, mymodel(myline))\n",
    "plt.show()"
   ]
  },
  {
   "cell_type": "code",
   "execution_count": 53,
   "id": "limited-table",
   "metadata": {},
   "outputs": [
    {
     "name": "stdout",
     "output_type": "stream",
     "text": [
      "0.009952707566680652\n"
     ]
    }
   ],
   "source": [
    "print(r2_score(y, mymodel(x)))"
   ]
  },
  {
   "cell_type": "markdown",
   "id": "existing-antigua",
   "metadata": {},
   "source": [
    "## Multiple Regression\n",
    "\n",
    "Multiple regression is like linear regression, but with more than one independent value, meaning that we try to predict a value based on **two** or **more** variables."
   ]
  },
  {
   "cell_type": "code",
   "execution_count": 54,
   "id": "perceived-angola",
   "metadata": {},
   "outputs": [],
   "source": [
    "import pandas as pd\n",
    "df = pd.read_csv(\"cars.csv\")"
   ]
  },
  {
   "cell_type": "code",
   "execution_count": 55,
   "id": "christian-actress",
   "metadata": {},
   "outputs": [
    {
     "data": {
      "text/html": [
       "<div>\n",
       "<style scoped>\n",
       "    .dataframe tbody tr th:only-of-type {\n",
       "        vertical-align: middle;\n",
       "    }\n",
       "\n",
       "    .dataframe tbody tr th {\n",
       "        vertical-align: top;\n",
       "    }\n",
       "\n",
       "    .dataframe thead th {\n",
       "        text-align: right;\n",
       "    }\n",
       "</style>\n",
       "<table border=\"1\" class=\"dataframe\">\n",
       "  <thead>\n",
       "    <tr style=\"text-align: right;\">\n",
       "      <th></th>\n",
       "      <th>Car</th>\n",
       "      <th>Model</th>\n",
       "      <th>Volume</th>\n",
       "      <th>Weight</th>\n",
       "      <th>CO2</th>\n",
       "    </tr>\n",
       "  </thead>\n",
       "  <tbody>\n",
       "    <tr>\n",
       "      <th>0</th>\n",
       "      <td>Toyoty</td>\n",
       "      <td>Aygo</td>\n",
       "      <td>1000</td>\n",
       "      <td>790</td>\n",
       "      <td>99</td>\n",
       "    </tr>\n",
       "    <tr>\n",
       "      <th>1</th>\n",
       "      <td>Mitsubishi</td>\n",
       "      <td>Space Star</td>\n",
       "      <td>1200</td>\n",
       "      <td>1160</td>\n",
       "      <td>95</td>\n",
       "    </tr>\n",
       "    <tr>\n",
       "      <th>2</th>\n",
       "      <td>Skoda</td>\n",
       "      <td>Citigo</td>\n",
       "      <td>1000</td>\n",
       "      <td>929</td>\n",
       "      <td>95</td>\n",
       "    </tr>\n",
       "    <tr>\n",
       "      <th>3</th>\n",
       "      <td>Fiat</td>\n",
       "      <td>500</td>\n",
       "      <td>900</td>\n",
       "      <td>865</td>\n",
       "      <td>90</td>\n",
       "    </tr>\n",
       "    <tr>\n",
       "      <th>4</th>\n",
       "      <td>Mini</td>\n",
       "      <td>Cooper</td>\n",
       "      <td>1500</td>\n",
       "      <td>1140</td>\n",
       "      <td>105</td>\n",
       "    </tr>\n",
       "  </tbody>\n",
       "</table>\n",
       "</div>"
      ],
      "text/plain": [
       "          Car       Model  Volume  Weight  CO2\n",
       "0      Toyoty        Aygo    1000     790   99\n",
       "1  Mitsubishi  Space Star    1200    1160   95\n",
       "2       Skoda      Citigo    1000     929   95\n",
       "3        Fiat         500     900     865   90\n",
       "4        Mini      Cooper    1500    1140  105"
      ]
     },
     "execution_count": 55,
     "metadata": {},
     "output_type": "execute_result"
    }
   ],
   "source": [
    "df.head(5)"
   ]
  },
  {
   "cell_type": "code",
   "execution_count": 56,
   "id": "latter-portugal",
   "metadata": {},
   "outputs": [
    {
     "data": {
      "text/html": [
       "<div>\n",
       "<style scoped>\n",
       "    .dataframe tbody tr th:only-of-type {\n",
       "        vertical-align: middle;\n",
       "    }\n",
       "\n",
       "    .dataframe tbody tr th {\n",
       "        vertical-align: top;\n",
       "    }\n",
       "\n",
       "    .dataframe thead th {\n",
       "        text-align: right;\n",
       "    }\n",
       "</style>\n",
       "<table border=\"1\" class=\"dataframe\">\n",
       "  <thead>\n",
       "    <tr style=\"text-align: right;\">\n",
       "      <th></th>\n",
       "      <th>Volume</th>\n",
       "      <th>Weight</th>\n",
       "      <th>CO2</th>\n",
       "    </tr>\n",
       "  </thead>\n",
       "  <tbody>\n",
       "    <tr>\n",
       "      <th>count</th>\n",
       "      <td>36.000000</td>\n",
       "      <td>36.000000</td>\n",
       "      <td>36.000000</td>\n",
       "    </tr>\n",
       "    <tr>\n",
       "      <th>mean</th>\n",
       "      <td>1611.111111</td>\n",
       "      <td>1292.277778</td>\n",
       "      <td>102.027778</td>\n",
       "    </tr>\n",
       "    <tr>\n",
       "      <th>std</th>\n",
       "      <td>388.975047</td>\n",
       "      <td>242.123889</td>\n",
       "      <td>7.454571</td>\n",
       "    </tr>\n",
       "    <tr>\n",
       "      <th>min</th>\n",
       "      <td>900.000000</td>\n",
       "      <td>790.000000</td>\n",
       "      <td>90.000000</td>\n",
       "    </tr>\n",
       "    <tr>\n",
       "      <th>25%</th>\n",
       "      <td>1475.000000</td>\n",
       "      <td>1117.250000</td>\n",
       "      <td>97.750000</td>\n",
       "    </tr>\n",
       "    <tr>\n",
       "      <th>50%</th>\n",
       "      <td>1600.000000</td>\n",
       "      <td>1329.000000</td>\n",
       "      <td>99.000000</td>\n",
       "    </tr>\n",
       "    <tr>\n",
       "      <th>75%</th>\n",
       "      <td>2000.000000</td>\n",
       "      <td>1418.250000</td>\n",
       "      <td>105.000000</td>\n",
       "    </tr>\n",
       "    <tr>\n",
       "      <th>max</th>\n",
       "      <td>2500.000000</td>\n",
       "      <td>1746.000000</td>\n",
       "      <td>120.000000</td>\n",
       "    </tr>\n",
       "  </tbody>\n",
       "</table>\n",
       "</div>"
      ],
      "text/plain": [
       "            Volume       Weight         CO2\n",
       "count    36.000000    36.000000   36.000000\n",
       "mean   1611.111111  1292.277778  102.027778\n",
       "std     388.975047   242.123889    7.454571\n",
       "min     900.000000   790.000000   90.000000\n",
       "25%    1475.000000  1117.250000   97.750000\n",
       "50%    1600.000000  1329.000000   99.000000\n",
       "75%    2000.000000  1418.250000  105.000000\n",
       "max    2500.000000  1746.000000  120.000000"
      ]
     },
     "execution_count": 56,
     "metadata": {},
     "output_type": "execute_result"
    }
   ],
   "source": [
    "df.describe()"
   ]
  },
  {
   "cell_type": "code",
   "execution_count": 57,
   "id": "automotive-kidney",
   "metadata": {},
   "outputs": [
    {
     "data": {
      "text/html": [
       "<div>\n",
       "<style scoped>\n",
       "    .dataframe tbody tr th:only-of-type {\n",
       "        vertical-align: middle;\n",
       "    }\n",
       "\n",
       "    .dataframe tbody tr th {\n",
       "        vertical-align: top;\n",
       "    }\n",
       "\n",
       "    .dataframe thead th {\n",
       "        text-align: right;\n",
       "    }\n",
       "</style>\n",
       "<table border=\"1\" class=\"dataframe\">\n",
       "  <thead>\n",
       "    <tr style=\"text-align: right;\">\n",
       "      <th></th>\n",
       "      <th>Weight</th>\n",
       "      <th>Volume</th>\n",
       "    </tr>\n",
       "  </thead>\n",
       "  <tbody>\n",
       "    <tr>\n",
       "      <th>0</th>\n",
       "      <td>790</td>\n",
       "      <td>1000</td>\n",
       "    </tr>\n",
       "    <tr>\n",
       "      <th>1</th>\n",
       "      <td>1160</td>\n",
       "      <td>1200</td>\n",
       "    </tr>\n",
       "    <tr>\n",
       "      <th>2</th>\n",
       "      <td>929</td>\n",
       "      <td>1000</td>\n",
       "    </tr>\n",
       "    <tr>\n",
       "      <th>3</th>\n",
       "      <td>865</td>\n",
       "      <td>900</td>\n",
       "    </tr>\n",
       "    <tr>\n",
       "      <th>4</th>\n",
       "      <td>1140</td>\n",
       "      <td>1500</td>\n",
       "    </tr>\n",
       "  </tbody>\n",
       "</table>\n",
       "</div>"
      ],
      "text/plain": [
       "   Weight  Volume\n",
       "0     790    1000\n",
       "1    1160    1200\n",
       "2     929    1000\n",
       "3     865     900\n",
       "4    1140    1500"
      ]
     },
     "execution_count": 57,
     "metadata": {},
     "output_type": "execute_result"
    }
   ],
   "source": [
    "X = df[['Weight', 'Volume']]\n",
    "X.head(5)"
   ]
  },
  {
   "cell_type": "code",
   "execution_count": 58,
   "id": "dietary-academy",
   "metadata": {},
   "outputs": [
    {
     "data": {
      "text/plain": [
       "0     99\n",
       "1     95\n",
       "2     95\n",
       "3     90\n",
       "4    105\n",
       "Name: CO2, dtype: int64"
      ]
     },
     "execution_count": 58,
     "metadata": {},
     "output_type": "execute_result"
    }
   ],
   "source": [
    "y = df['CO2']\n",
    "y.head(5)"
   ]
  },
  {
   "cell_type": "code",
   "execution_count": 59,
   "id": "antique-newfoundland",
   "metadata": {},
   "outputs": [],
   "source": [
    "from sklearn import linear_model"
   ]
  },
  {
   "cell_type": "code",
   "execution_count": 60,
   "id": "modern-transcript",
   "metadata": {},
   "outputs": [],
   "source": [
    "regr = linear_model.LinearRegression()"
   ]
  },
  {
   "cell_type": "code",
   "execution_count": 61,
   "id": "engaged-belle",
   "metadata": {},
   "outputs": [
    {
     "data": {
      "text/plain": [
       "LinearRegression(copy_X=True, fit_intercept=True, n_jobs=None, normalize=False)"
      ]
     },
     "execution_count": 61,
     "metadata": {},
     "output_type": "execute_result"
    }
   ],
   "source": [
    "regr.fit(X, y)"
   ]
  },
  {
   "cell_type": "code",
   "execution_count": 62,
   "id": "recreational-court",
   "metadata": {},
   "outputs": [
    {
     "data": {
      "text/plain": [
       "array([107.2087328])"
      ]
     },
     "execution_count": 62,
     "metadata": {},
     "output_type": "execute_result"
    }
   ],
   "source": [
    "predictedCO2 = regr.predict([[2300, 1300]])\n",
    "predictedCO2"
   ]
  },
  {
   "cell_type": "markdown",
   "id": "widespread-marina",
   "metadata": {},
   "source": [
    "### Coefficient"
   ]
  },
  {
   "cell_type": "code",
   "execution_count": 63,
   "id": "sized-garage",
   "metadata": {},
   "outputs": [
    {
     "name": "stdout",
     "output_type": "stream",
     "text": [
      "[0.00755095 0.00780526]\n"
     ]
    }
   ],
   "source": [
    "print(regr.coef_)"
   ]
  },
  {
   "cell_type": "markdown",
   "id": "architectural-explorer",
   "metadata": {},
   "source": [
    "### Data Train and Prediction"
   ]
  },
  {
   "cell_type": "code",
   "execution_count": 64,
   "id": "forward-vocabulary",
   "metadata": {},
   "outputs": [],
   "source": [
    "from sklearn.model_selection import train_test_split\n",
    "X_train, X_test, y_train, y_test = train_test_split(X, y, test_size=0.2, random_state=0)"
   ]
  },
  {
   "cell_type": "code",
   "execution_count": 65,
   "id": "incoming-andrew",
   "metadata": {},
   "outputs": [],
   "source": [
    "regr = linear_model.LinearRegression()"
   ]
  },
  {
   "cell_type": "code",
   "execution_count": 66,
   "id": "mounted-seller",
   "metadata": {},
   "outputs": [
    {
     "data": {
      "text/plain": [
       "LinearRegression(copy_X=True, fit_intercept=True, n_jobs=None, normalize=False)"
      ]
     },
     "execution_count": 66,
     "metadata": {},
     "output_type": "execute_result"
    }
   ],
   "source": [
    "regr.fit(X_train, y_train)"
   ]
  },
  {
   "cell_type": "code",
   "execution_count": 67,
   "id": "ordinary-bouquet",
   "metadata": {},
   "outputs": [],
   "source": [
    "y_pred = regr.predict(X_test)"
   ]
  },
  {
   "cell_type": "code",
   "execution_count": 68,
   "id": "opened-abraham",
   "metadata": {},
   "outputs": [
    {
     "data": {
      "text/html": [
       "<div>\n",
       "<style scoped>\n",
       "    .dataframe tbody tr th:only-of-type {\n",
       "        vertical-align: middle;\n",
       "    }\n",
       "\n",
       "    .dataframe tbody tr th {\n",
       "        vertical-align: top;\n",
       "    }\n",
       "\n",
       "    .dataframe thead th {\n",
       "        text-align: right;\n",
       "    }\n",
       "</style>\n",
       "<table border=\"1\" class=\"dataframe\">\n",
       "  <thead>\n",
       "    <tr style=\"text-align: right;\">\n",
       "      <th></th>\n",
       "      <th>Actual</th>\n",
       "      <th>Predicted</th>\n",
       "    </tr>\n",
       "  </thead>\n",
       "  <tbody>\n",
       "    <tr>\n",
       "      <th>31</th>\n",
       "      <td>117</td>\n",
       "      <td>108.549002</td>\n",
       "    </tr>\n",
       "    <tr>\n",
       "      <th>20</th>\n",
       "      <td>94</td>\n",
       "      <td>104.318040</td>\n",
       "    </tr>\n",
       "    <tr>\n",
       "      <th>16</th>\n",
       "      <td>99</td>\n",
       "      <td>102.721611</td>\n",
       "    </tr>\n",
       "    <tr>\n",
       "      <th>30</th>\n",
       "      <td>115</td>\n",
       "      <td>108.283675</td>\n",
       "    </tr>\n",
       "    <tr>\n",
       "      <th>22</th>\n",
       "      <td>99</td>\n",
       "      <td>106.534163</td>\n",
       "    </tr>\n",
       "    <tr>\n",
       "      <th>15</th>\n",
       "      <td>97</td>\n",
       "      <td>102.466474</td>\n",
       "    </tr>\n",
       "    <tr>\n",
       "      <th>10</th>\n",
       "      <td>99</td>\n",
       "      <td>96.102551</td>\n",
       "    </tr>\n",
       "    <tr>\n",
       "      <th>2</th>\n",
       "      <td>95</td>\n",
       "      <td>94.968269</td>\n",
       "    </tr>\n",
       "  </tbody>\n",
       "</table>\n",
       "</div>"
      ],
      "text/plain": [
       "    Actual   Predicted\n",
       "31     117  108.549002\n",
       "20      94  104.318040\n",
       "16      99  102.721611\n",
       "30     115  108.283675\n",
       "22      99  106.534163\n",
       "15      97  102.466474\n",
       "10      99   96.102551\n",
       "2       95   94.968269"
      ]
     },
     "execution_count": 68,
     "metadata": {},
     "output_type": "execute_result"
    }
   ],
   "source": [
    "df = pd.DataFrame({\"Actual\": y_test, \"Predicted\": y_pred})\n",
    "df"
   ]
  },
  {
   "cell_type": "markdown",
   "id": "signal-audience",
   "metadata": {},
   "source": [
    "## Scale\n",
    "\n",
    "### Scale Features\n",
    "\n",
    "When your data has different values, and even different measurement units, it can be difficult to compare them. What is kilograms compared to meters? Or altitude compared to time?\n",
    "\n",
    "The answer to this problem is scaling. We can scale data into new values that are easier to compare.\n",
    "\n",
    "Formula: $$\\frac{\\text{original value} - \\text{mean}}{\\text{standard deviation}}$$"
   ]
  },
  {
   "cell_type": "code",
   "execution_count": 69,
   "id": "therapeutic-wheat",
   "metadata": {},
   "outputs": [],
   "source": [
    "from sklearn.preprocessing import StandardScaler"
   ]
  },
  {
   "cell_type": "code",
   "execution_count": 70,
   "id": "aerial-february",
   "metadata": {},
   "outputs": [],
   "source": [
    "scale = StandardScaler()"
   ]
  },
  {
   "cell_type": "code",
   "execution_count": 71,
   "id": "broadband-construction",
   "metadata": {},
   "outputs": [
    {
     "data": {
      "text/plain": [
       "array([[-2.10389253, -1.59336644],\n",
       "       [-0.55407235, -1.07190106],\n",
       "       [-1.52166278, -1.59336644],\n",
       "       [-1.78973979, -1.85409913],\n",
       "       [-0.63784641, -0.28970299],\n",
       "       [-1.52166278, -1.59336644],\n",
       "       [-0.76769621, -0.55043568],\n",
       "       [ 0.3046118 , -0.28970299],\n",
       "       [-0.7551301 , -0.28970299],\n",
       "       [-0.59595938, -0.0289703 ],\n",
       "       [-1.30803892, -1.33263375],\n",
       "       [-1.26615189, -0.81116837],\n",
       "       [-0.7551301 , -1.59336644],\n",
       "       [-0.16871166, -0.0289703 ],\n",
       "       [ 0.14125238, -0.0289703 ],\n",
       "       [ 0.15800719, -0.0289703 ],\n",
       "       [ 0.3046118 , -0.0289703 ],\n",
       "       [-0.05142797,  1.53542584],\n",
       "       [-0.72580918, -0.0289703 ],\n",
       "       [ 0.14962979,  1.01396046],\n",
       "       [ 1.2219378 , -0.0289703 ],\n",
       "       [ 0.5685001 ,  1.01396046],\n",
       "       [ 0.3046118 ,  1.27469315],\n",
       "       [ 0.51404696, -0.0289703 ],\n",
       "       [ 0.51404696,  1.01396046],\n",
       "       [ 0.72348212, -0.28970299],\n",
       "       [ 0.8281997 ,  1.01396046],\n",
       "       [ 1.81254495,  1.01396046],\n",
       "       [ 0.96642691, -0.0289703 ],\n",
       "       [ 1.72877089,  1.01396046],\n",
       "       [ 1.30990057,  1.27469315],\n",
       "       [ 1.90050772,  1.01396046],\n",
       "       [-0.23991961, -0.0289703 ],\n",
       "       [ 0.40932938, -0.0289703 ],\n",
       "       [ 0.47215993, -0.0289703 ],\n",
       "       [ 0.4302729 ,  2.31762392]])"
      ]
     },
     "execution_count": 71,
     "metadata": {},
     "output_type": "execute_result"
    }
   ],
   "source": [
    "df = pd.read_csv(\"cars.csv\")\n",
    "X = df[['Weight', 'Volume']] \n",
    "scaledX = scale.fit_transform(X)\n",
    "scaledX"
   ]
  },
  {
   "cell_type": "markdown",
   "id": "civic-assistant",
   "metadata": {},
   "source": [
    "### Prediction\n",
    "\n",
    "When the data set is scaled, you will have to use the scale when you predict values:"
   ]
  },
  {
   "cell_type": "code",
   "execution_count": 72,
   "id": "competitive-economy",
   "metadata": {},
   "outputs": [],
   "source": [
    "y = df['CO2']"
   ]
  },
  {
   "cell_type": "code",
   "execution_count": 73,
   "id": "interpreted-feedback",
   "metadata": {},
   "outputs": [],
   "source": [
    "regr = linear_model.LinearRegression()"
   ]
  },
  {
   "cell_type": "code",
   "execution_count": 74,
   "id": "attached-order",
   "metadata": {},
   "outputs": [
    {
     "data": {
      "text/plain": [
       "LinearRegression(copy_X=True, fit_intercept=True, n_jobs=None, normalize=False)"
      ]
     },
     "execution_count": 74,
     "metadata": {},
     "output_type": "execute_result"
    }
   ],
   "source": [
    "regr.fit(scaledX, y)"
   ]
  },
  {
   "cell_type": "code",
   "execution_count": 75,
   "id": "patient-cargo",
   "metadata": {},
   "outputs": [],
   "source": [
    "scaled = scale.transform([[2300, 1.3]])"
   ]
  },
  {
   "cell_type": "code",
   "execution_count": 76,
   "id": "compound-semiconductor",
   "metadata": {},
   "outputs": [
    {
     "data": {
      "text/plain": [
       "array([97.07204485])"
      ]
     },
     "execution_count": 76,
     "metadata": {},
     "output_type": "execute_result"
    }
   ],
   "source": [
    "predictedCO2 = regr.predict([scaled[0]])\n",
    "predictedCO2"
   ]
  },
  {
   "cell_type": "markdown",
   "id": "metropolitan-accent",
   "metadata": {},
   "source": [
    "## Train/Test"
   ]
  },
  {
   "cell_type": "markdown",
   "id": "boolean-lesbian",
   "metadata": {},
   "source": [
    "First, to generate *same* random numbers, we use `np.random.seed(number)`, which needs to be called every time!\n",
    "\n",
    "Example:"
   ]
  },
  {
   "cell_type": "code",
   "execution_count": 77,
   "id": "balanced-ozone",
   "metadata": {},
   "outputs": [
    {
     "name": "stdout",
     "output_type": "stream",
     "text": [
      "11.764052345967665\n",
      "11.764052345967665\n",
      "11.764052345967665\n"
     ]
    }
   ],
   "source": [
    "np.random.seed(0)\n",
    "rnd = np.random.normal(10) \n",
    "print(rnd)\n",
    "np.random.seed(0)\n",
    "print(np.random.normal(10))\n",
    "np.random.seed(0)\n",
    "print(np.random.normal(10))"
   ]
  },
  {
   "cell_type": "markdown",
   "id": "northern-agenda",
   "metadata": {},
   "source": [
    "Generate random numbers:"
   ]
  },
  {
   "cell_type": "code",
   "execution_count": 78,
   "id": "representative-speed",
   "metadata": {},
   "outputs": [],
   "source": [
    "np.random.seed(2)\n",
    "x = np.random.normal(3, 1, 100)\n",
    "y = np.random.normal(150, 40, 100) / x"
   ]
  },
  {
   "cell_type": "code",
   "execution_count": 79,
   "id": "blank-landscape",
   "metadata": {},
   "outputs": [
    {
     "data": {
      "image/png": "[encoded data removed]",
      "text/plain": [
       "<Figure size 432x288 with 1 Axes>"
      ]
     },
     "metadata": {
      "needs_background": "light"
     },
     "output_type": "display_data"
    }
   ],
   "source": [
    "plt.scatter(x, y)\n",
    "plt.show()"
   ]
  },
  {
   "cell_type": "markdown",
   "id": "wired-genius",
   "metadata": {},
   "source": [
    "### Split Into Train/Test\n",
    "\n",
    "The training set should be a random selection of **80%** of the original data.\n",
    "\n",
    "The testing set should be the remaining **20%**."
   ]
  },
  {
   "cell_type": "code",
   "execution_count": 80,
   "id": "external-departure",
   "metadata": {},
   "outputs": [],
   "source": [
    "x_train = x[:80]\n",
    "y_train = y[:80]\n",
    "x_test = x[80:]\n",
    "y_test = y[80:]"
   ]
  },
  {
   "cell_type": "markdown",
   "id": "sunrise-debut",
   "metadata": {},
   "source": [
    "### Display the Training & Testing Set"
   ]
  },
  {
   "cell_type": "code",
   "execution_count": 81,
   "id": "european-producer",
   "metadata": {},
   "outputs": [
    {
     "data": {
      "text/plain": [
       "<matplotlib.collections.PathCollection at 0x7fbeca20b2d0>"
      ]
     },
     "execution_count": 81,
     "metadata": {},
     "output_type": "execute_result"
    },
    {
     "data": {
      "image/png": "[encoded data removed]",
      "text/plain": [
       "<Figure size 432x288 with 1 Axes>"
      ]
     },
     "metadata": {
      "needs_background": "light"
     },
     "output_type": "display_data"
    }
   ],
   "source": [
    "plt.scatter(x_train, y_train)\n",
    "plt.scatter(x_test, y_test, color='red')"
   ]
  },
  {
   "cell_type": "markdown",
   "id": "connected-senate",
   "metadata": {},
   "source": [
    "### Fit the Data Set"
   ]
  },
  {
   "cell_type": "code",
   "execution_count": 82,
   "id": "actual-importance",
   "metadata": {},
   "outputs": [],
   "source": [
    "mymodel = np.poly1d(np.polyfit(x_train, y_train, 4))"
   ]
  },
  {
   "cell_type": "code",
   "execution_count": 83,
   "id": "premium-enemy",
   "metadata": {},
   "outputs": [],
   "source": [
    "myline = np.linspace(0, 6, 100)"
   ]
  },
  {
   "cell_type": "code",
   "execution_count": 84,
   "id": "caring-afghanistan",
   "metadata": {},
   "outputs": [
    {
     "data": {
      "image/png": "[encoded data removed]",
      "text/plain": [
       "<Figure size 432x288 with 1 Axes>"
      ]
     },
     "metadata": {
      "needs_background": "light"
     },
     "output_type": "display_data"
    }
   ],
   "source": [
    "plt.scatter(x_train, y_train)\n",
    "plt.plot(myline, mymodel(myline))\n",
    "plt.show()"
   ]
  },
  {
   "cell_type": "markdown",
   "id": "median-field",
   "metadata": {},
   "source": [
    "### R2 (or R-squared)"
   ]
  },
  {
   "cell_type": "code",
   "execution_count": 85,
   "id": "banner-illness",
   "metadata": {},
   "outputs": [
    {
     "data": {
      "text/plain": [
       "0.7988645544629795"
      ]
     },
     "execution_count": 85,
     "metadata": {},
     "output_type": "execute_result"
    }
   ],
   "source": [
    "r2 = r2_score(y_train, mymodel(x_train))\n",
    "r2"
   ]
  },
  {
   "cell_type": "markdown",
   "id": "dressed-mexico",
   "metadata": {},
   "source": [
    "### Bring in the Testing Set"
   ]
  },
  {
   "cell_type": "code",
   "execution_count": 86,
   "id": "fantastic-variable",
   "metadata": {},
   "outputs": [
    {
     "data": {
      "text/plain": [
       "0.8086921460343666"
      ]
     },
     "execution_count": 86,
     "metadata": {},
     "output_type": "execute_result"
    }
   ],
   "source": [
    "r2 = r2_score(y_test, mymodel(x_test))\n",
    "r2"
   ]
  },
  {
   "cell_type": "markdown",
   "id": "miniature-hunter",
   "metadata": {},
   "source": [
    "### Predict Values"
   ]
  },
  {
   "cell_type": "code",
   "execution_count": 87,
   "id": "authentic-mattress",
   "metadata": {},
   "outputs": [
    {
     "name": "stdout",
     "output_type": "stream",
     "text": [
      "22.879625918120155\n"
     ]
    }
   ],
   "source": [
    "print(mymodel(5))"
   ]
  },
  {
   "cell_type": "code",
   "execution_count": 88,
   "id": "correct-sleep",
   "metadata": {},
   "outputs": [
    {
     "data": {
      "image/png": "[encoded data removed]",
      "text/plain": [
       "<Figure size 432x288 with 1 Axes>"
      ]
     },
     "metadata": {
      "needs_background": "light"
     },
     "output_type": "display_data"
    }
   ],
   "source": [
    "plt.scatter(5, mymodel(5), color='red')\n",
    "plt.scatter(x_train, y_train)\n",
    "plt.plot(myline, mymodel(myline))\n",
    "plt.show()"
   ]
  },
  {
   "cell_type": "code",
   "execution_count": 89,
   "id": "designing-championship",
   "metadata": {},
   "outputs": [
    {
     "data": {
      "text/html": [
       "<div>\n",
       "<style scoped>\n",
       "    .dataframe tbody tr th:only-of-type {\n",
       "        vertical-align: middle;\n",
       "    }\n",
       "\n",
       "    .dataframe tbody tr th {\n",
       "        vertical-align: top;\n",
       "    }\n",
       "\n",
       "    .dataframe thead th {\n",
       "        text-align: right;\n",
       "    }\n",
       "</style>\n",
       "<table border=\"1\" class=\"dataframe\">\n",
       "  <thead>\n",
       "    <tr style=\"text-align: right;\">\n",
       "      <th></th>\n",
       "      <th>Actual</th>\n",
       "      <th>Predicted</th>\n",
       "    </tr>\n",
       "  </thead>\n",
       "  <tbody>\n",
       "    <tr>\n",
       "      <th>0</th>\n",
       "      <td>72.378731</td>\n",
       "      <td>59.838956</td>\n",
       "    </tr>\n",
       "    <tr>\n",
       "      <th>1</th>\n",
       "      <td>55.462642</td>\n",
       "      <td>59.150219</td>\n",
       "    </tr>\n",
       "    <tr>\n",
       "      <th>2</th>\n",
       "      <td>34.468267</td>\n",
       "      <td>40.088454</td>\n",
       "    </tr>\n",
       "    <tr>\n",
       "      <th>3</th>\n",
       "      <td>40.152137</td>\n",
       "      <td>26.027590</td>\n",
       "    </tr>\n",
       "    <tr>\n",
       "      <th>4</th>\n",
       "      <td>70.558835</td>\n",
       "      <td>60.577817</td>\n",
       "    </tr>\n",
       "    <tr>\n",
       "      <th>5</th>\n",
       "      <td>108.466050</td>\n",
       "      <td>81.513699</td>\n",
       "    </tr>\n",
       "    <tr>\n",
       "      <th>6</th>\n",
       "      <td>21.035144</td>\n",
       "      <td>22.673472</td>\n",
       "    </tr>\n",
       "    <tr>\n",
       "      <th>7</th>\n",
       "      <td>32.357276</td>\n",
       "      <td>26.959744</td>\n",
       "    </tr>\n",
       "    <tr>\n",
       "      <th>8</th>\n",
       "      <td>64.761891</td>\n",
       "      <td>60.724262</td>\n",
       "    </tr>\n",
       "    <tr>\n",
       "      <th>9</th>\n",
       "      <td>52.191774</td>\n",
       "      <td>53.221850</td>\n",
       "    </tr>\n",
       "    <tr>\n",
       "      <th>10</th>\n",
       "      <td>55.718135</td>\n",
       "      <td>52.560803</td>\n",
       "    </tr>\n",
       "    <tr>\n",
       "      <th>11</th>\n",
       "      <td>50.566709</td>\n",
       "      <td>47.994544</td>\n",
       "    </tr>\n",
       "    <tr>\n",
       "      <th>12</th>\n",
       "      <td>32.653080</td>\n",
       "      <td>55.916655</td>\n",
       "    </tr>\n",
       "    <tr>\n",
       "      <th>13</th>\n",
       "      <td>27.617779</td>\n",
       "      <td>21.695941</td>\n",
       "    </tr>\n",
       "    <tr>\n",
       "      <th>14</th>\n",
       "      <td>80.142304</td>\n",
       "      <td>115.908197</td>\n",
       "    </tr>\n",
       "    <tr>\n",
       "      <th>15</th>\n",
       "      <td>54.983604</td>\n",
       "      <td>32.776230</td>\n",
       "    </tr>\n",
       "    <tr>\n",
       "      <th>16</th>\n",
       "      <td>46.507231</td>\n",
       "      <td>52.591236</td>\n",
       "    </tr>\n",
       "    <tr>\n",
       "      <th>17</th>\n",
       "      <td>61.852295</td>\n",
       "      <td>59.968740</td>\n",
       "    </tr>\n",
       "    <tr>\n",
       "      <th>18</th>\n",
       "      <td>45.841552</td>\n",
       "      <td>28.365634</td>\n",
       "    </tr>\n",
       "    <tr>\n",
       "      <th>19</th>\n",
       "      <td>208.471310</td>\n",
       "      <td>252.099555</td>\n",
       "    </tr>\n",
       "  </tbody>\n",
       "</table>\n",
       "</div>"
      ],
      "text/plain": [
       "        Actual   Predicted\n",
       "0    72.378731   59.838956\n",
       "1    55.462642   59.150219\n",
       "2    34.468267   40.088454\n",
       "3    40.152137   26.027590\n",
       "4    70.558835   60.577817\n",
       "5   108.466050   81.513699\n",
       "6    21.035144   22.673472\n",
       "7    32.357276   26.959744\n",
       "8    64.761891   60.724262\n",
       "9    52.191774   53.221850\n",
       "10   55.718135   52.560803\n",
       "11   50.566709   47.994544\n",
       "12   32.653080   55.916655\n",
       "13   27.617779   21.695941\n",
       "14   80.142304  115.908197\n",
       "15   54.983604   32.776230\n",
       "16   46.507231   52.591236\n",
       "17   61.852295   59.968740\n",
       "18   45.841552   28.365634\n",
       "19  208.471310  252.099555"
      ]
     },
     "execution_count": 89,
     "metadata": {},
     "output_type": "execute_result"
    }
   ],
   "source": [
    "y_pred = [*map(mymodel, x_test)] # to convert map to list\n",
    "# y_pred = list(map(mymodel, x_test))\n",
    "df = pd.DataFrame({\"Actual\": y_test, \"Predicted\": y_pred})\n",
    "df"
   ]
  },
  {
   "cell_type": "code",
   "execution_count": 90,
   "id": "assisted-situation",
   "metadata": {},
   "outputs": [
    {
     "data": {
      "text/plain": [
       "<matplotlib.collections.PathCollection at 0x7fbebe4ccfd0>"
      ]
     },
     "execution_count": 90,
     "metadata": {},
     "output_type": "execute_result"
    },
    {
     "data": {
      "image/png": "[encoded data removed]",
      "text/plain": [
       "<Figure size 432x288 with 1 Axes>"
      ]
     },
     "metadata": {
      "needs_background": "light"
     },
     "output_type": "display_data"
    }
   ],
   "source": [
    "plt.scatter(x_test, y_test)\n",
    "plt.scatter(x_test, np.array(y_pred), color='red')"
   ]
  },
  {
   "cell_type": "markdown",
   "id": "nonprofit-proposal",
   "metadata": {},
   "source": [
    "## Decision Tree\n",
    "\n",
    "![decision-tree](./images/decision-tree.png)\n",
    "\n",
    "\n",
    "In the example, a person will try to decide if he/she should go to a comedy show or not."
   ]
  },
  {
   "cell_type": "code",
   "execution_count": 91,
   "id": "physical-working",
   "metadata": {},
   "outputs": [
    {
     "data": {
      "text/html": [
       "<div>\n",
       "<style scoped>\n",
       "    .dataframe tbody tr th:only-of-type {\n",
       "        vertical-align: middle;\n",
       "    }\n",
       "\n",
       "    .dataframe tbody tr th {\n",
       "        vertical-align: top;\n",
       "    }\n",
       "\n",
       "    .dataframe thead th {\n",
       "        text-align: right;\n",
       "    }\n",
       "</style>\n",
       "<table border=\"1\" class=\"dataframe\">\n",
       "  <thead>\n",
       "    <tr style=\"text-align: right;\">\n",
       "      <th></th>\n",
       "      <th>Age</th>\n",
       "      <th>Experience</th>\n",
       "      <th>Rank</th>\n",
       "      <th>Nationality</th>\n",
       "      <th>Go</th>\n",
       "    </tr>\n",
       "  </thead>\n",
       "  <tbody>\n",
       "    <tr>\n",
       "      <th>0</th>\n",
       "      <td>36</td>\n",
       "      <td>10</td>\n",
       "      <td>9</td>\n",
       "      <td>UK</td>\n",
       "      <td>NO</td>\n",
       "    </tr>\n",
       "    <tr>\n",
       "      <th>1</th>\n",
       "      <td>42</td>\n",
       "      <td>12</td>\n",
       "      <td>4</td>\n",
       "      <td>USA</td>\n",
       "      <td>NO</td>\n",
       "    </tr>\n",
       "    <tr>\n",
       "      <th>2</th>\n",
       "      <td>23</td>\n",
       "      <td>4</td>\n",
       "      <td>6</td>\n",
       "      <td>N</td>\n",
       "      <td>NO</td>\n",
       "    </tr>\n",
       "    <tr>\n",
       "      <th>3</th>\n",
       "      <td>52</td>\n",
       "      <td>4</td>\n",
       "      <td>4</td>\n",
       "      <td>USA</td>\n",
       "      <td>NO</td>\n",
       "    </tr>\n",
       "    <tr>\n",
       "      <th>4</th>\n",
       "      <td>43</td>\n",
       "      <td>21</td>\n",
       "      <td>8</td>\n",
       "      <td>USA</td>\n",
       "      <td>YES</td>\n",
       "    </tr>\n",
       "    <tr>\n",
       "      <th>5</th>\n",
       "      <td>44</td>\n",
       "      <td>14</td>\n",
       "      <td>5</td>\n",
       "      <td>UK</td>\n",
       "      <td>NO</td>\n",
       "    </tr>\n",
       "    <tr>\n",
       "      <th>6</th>\n",
       "      <td>66</td>\n",
       "      <td>3</td>\n",
       "      <td>7</td>\n",
       "      <td>N</td>\n",
       "      <td>YES</td>\n",
       "    </tr>\n",
       "    <tr>\n",
       "      <th>7</th>\n",
       "      <td>35</td>\n",
       "      <td>14</td>\n",
       "      <td>9</td>\n",
       "      <td>UK</td>\n",
       "      <td>YES</td>\n",
       "    </tr>\n",
       "    <tr>\n",
       "      <th>8</th>\n",
       "      <td>52</td>\n",
       "      <td>13</td>\n",
       "      <td>7</td>\n",
       "      <td>N</td>\n",
       "      <td>YES</td>\n",
       "    </tr>\n",
       "    <tr>\n",
       "      <th>9</th>\n",
       "      <td>35</td>\n",
       "      <td>5</td>\n",
       "      <td>9</td>\n",
       "      <td>N</td>\n",
       "      <td>YES</td>\n",
       "    </tr>\n",
       "    <tr>\n",
       "      <th>10</th>\n",
       "      <td>24</td>\n",
       "      <td>3</td>\n",
       "      <td>5</td>\n",
       "      <td>USA</td>\n",
       "      <td>NO</td>\n",
       "    </tr>\n",
       "    <tr>\n",
       "      <th>11</th>\n",
       "      <td>18</td>\n",
       "      <td>3</td>\n",
       "      <td>7</td>\n",
       "      <td>UK</td>\n",
       "      <td>YES</td>\n",
       "    </tr>\n",
       "    <tr>\n",
       "      <th>12</th>\n",
       "      <td>45</td>\n",
       "      <td>9</td>\n",
       "      <td>9</td>\n",
       "      <td>UK</td>\n",
       "      <td>YES</td>\n",
       "    </tr>\n",
       "  </tbody>\n",
       "</table>\n",
       "</div>"
      ],
      "text/plain": [
       "    Age  Experience  Rank Nationality   Go\n",
       "0    36          10     9          UK   NO\n",
       "1    42          12     4         USA   NO\n",
       "2    23           4     6           N   NO\n",
       "3    52           4     4         USA   NO\n",
       "4    43          21     8         USA  YES\n",
       "5    44          14     5          UK   NO\n",
       "6    66           3     7           N  YES\n",
       "7    35          14     9          UK  YES\n",
       "8    52          13     7           N  YES\n",
       "9    35           5     9           N  YES\n",
       "10   24           3     5         USA   NO\n",
       "11   18           3     7          UK  YES\n",
       "12   45           9     9          UK  YES"
      ]
     },
     "execution_count": 91,
     "metadata": {},
     "output_type": "execute_result"
    }
   ],
   "source": [
    "df = pd.read_csv(\"shows.csv\")\n",
    "df"
   ]
  },
  {
   "cell_type": "markdown",
   "id": "electoral-influence",
   "metadata": {},
   "source": [
    "To make a decision tree, all data **has to** be numerical.\n",
    "\n",
    "We have to convert the non numerical columns 'Nationality' and 'Go' into numerical values.\n",
    "\n",
    "Pandas has a map() method that takes a dictionary with information on how to convert the values.\n",
    "\n",
    "`{'UK': 0, 'USA': 1, 'N': 2}`\n",
    "\n",
    "Means convert the values 'UK' to 0, 'USA' to 1, and 'N' to 2."
   ]
  },
  {
   "cell_type": "code",
   "execution_count": 92,
   "id": "referenced-florida",
   "metadata": {},
   "outputs": [],
   "source": [
    "d = {'UK': 0, 'USA': 1, 'N': 2}\n",
    "df['Nationality'] = df['Nationality'].map(d)"
   ]
  },
  {
   "cell_type": "code",
   "execution_count": 93,
   "id": "steady-advice",
   "metadata": {},
   "outputs": [],
   "source": [
    "d = {'YES': 1, 'NO': 0}\n",
    "df['Go'] = df['Go'].map(d)"
   ]
  },
  {
   "cell_type": "code",
   "execution_count": 94,
   "id": "labeled-procurement",
   "metadata": {},
   "outputs": [
    {
     "data": {
      "text/html": [
       "<div>\n",
       "<style scoped>\n",
       "    .dataframe tbody tr th:only-of-type {\n",
       "        vertical-align: middle;\n",
       "    }\n",
       "\n",
       "    .dataframe tbody tr th {\n",
       "        vertical-align: top;\n",
       "    }\n",
       "\n",
       "    .dataframe thead th {\n",
       "        text-align: right;\n",
       "    }\n",
       "</style>\n",
       "<table border=\"1\" class=\"dataframe\">\n",
       "  <thead>\n",
       "    <tr style=\"text-align: right;\">\n",
       "      <th></th>\n",
       "      <th>Age</th>\n",
       "      <th>Experience</th>\n",
       "      <th>Rank</th>\n",
       "      <th>Nationality</th>\n",
       "      <th>Go</th>\n",
       "    </tr>\n",
       "  </thead>\n",
       "  <tbody>\n",
       "    <tr>\n",
       "      <th>0</th>\n",
       "      <td>36</td>\n",
       "      <td>10</td>\n",
       "      <td>9</td>\n",
       "      <td>0</td>\n",
       "      <td>0</td>\n",
       "    </tr>\n",
       "    <tr>\n",
       "      <th>1</th>\n",
       "      <td>42</td>\n",
       "      <td>12</td>\n",
       "      <td>4</td>\n",
       "      <td>1</td>\n",
       "      <td>0</td>\n",
       "    </tr>\n",
       "    <tr>\n",
       "      <th>2</th>\n",
       "      <td>23</td>\n",
       "      <td>4</td>\n",
       "      <td>6</td>\n",
       "      <td>2</td>\n",
       "      <td>0</td>\n",
       "    </tr>\n",
       "    <tr>\n",
       "      <th>3</th>\n",
       "      <td>52</td>\n",
       "      <td>4</td>\n",
       "      <td>4</td>\n",
       "      <td>1</td>\n",
       "      <td>0</td>\n",
       "    </tr>\n",
       "    <tr>\n",
       "      <th>4</th>\n",
       "      <td>43</td>\n",
       "      <td>21</td>\n",
       "      <td>8</td>\n",
       "      <td>1</td>\n",
       "      <td>1</td>\n",
       "    </tr>\n",
       "    <tr>\n",
       "      <th>5</th>\n",
       "      <td>44</td>\n",
       "      <td>14</td>\n",
       "      <td>5</td>\n",
       "      <td>0</td>\n",
       "      <td>0</td>\n",
       "    </tr>\n",
       "    <tr>\n",
       "      <th>6</th>\n",
       "      <td>66</td>\n",
       "      <td>3</td>\n",
       "      <td>7</td>\n",
       "      <td>2</td>\n",
       "      <td>1</td>\n",
       "    </tr>\n",
       "    <tr>\n",
       "      <th>7</th>\n",
       "      <td>35</td>\n",
       "      <td>14</td>\n",
       "      <td>9</td>\n",
       "      <td>0</td>\n",
       "      <td>1</td>\n",
       "    </tr>\n",
       "    <tr>\n",
       "      <th>8</th>\n",
       "      <td>52</td>\n",
       "      <td>13</td>\n",
       "      <td>7</td>\n",
       "      <td>2</td>\n",
       "      <td>1</td>\n",
       "    </tr>\n",
       "    <tr>\n",
       "      <th>9</th>\n",
       "      <td>35</td>\n",
       "      <td>5</td>\n",
       "      <td>9</td>\n",
       "      <td>2</td>\n",
       "      <td>1</td>\n",
       "    </tr>\n",
       "    <tr>\n",
       "      <th>10</th>\n",
       "      <td>24</td>\n",
       "      <td>3</td>\n",
       "      <td>5</td>\n",
       "      <td>1</td>\n",
       "      <td>0</td>\n",
       "    </tr>\n",
       "    <tr>\n",
       "      <th>11</th>\n",
       "      <td>18</td>\n",
       "      <td>3</td>\n",
       "      <td>7</td>\n",
       "      <td>0</td>\n",
       "      <td>1</td>\n",
       "    </tr>\n",
       "    <tr>\n",
       "      <th>12</th>\n",
       "      <td>45</td>\n",
       "      <td>9</td>\n",
       "      <td>9</td>\n",
       "      <td>0</td>\n",
       "      <td>1</td>\n",
       "    </tr>\n",
       "  </tbody>\n",
       "</table>\n",
       "</div>"
      ],
      "text/plain": [
       "    Age  Experience  Rank  Nationality  Go\n",
       "0    36          10     9            0   0\n",
       "1    42          12     4            1   0\n",
       "2    23           4     6            2   0\n",
       "3    52           4     4            1   0\n",
       "4    43          21     8            1   1\n",
       "5    44          14     5            0   0\n",
       "6    66           3     7            2   1\n",
       "7    35          14     9            0   1\n",
       "8    52          13     7            2   1\n",
       "9    35           5     9            2   1\n",
       "10   24           3     5            1   0\n",
       "11   18           3     7            0   1\n",
       "12   45           9     9            0   1"
      ]
     },
     "execution_count": 94,
     "metadata": {},
     "output_type": "execute_result"
    }
   ],
   "source": [
    "df"
   ]
  },
  {
   "cell_type": "code",
   "execution_count": 95,
   "id": "heavy-vintage",
   "metadata": {},
   "outputs": [],
   "source": [
    "features = ['Age', 'Experience', 'Rank', 'Nationality']"
   ]
  },
  {
   "cell_type": "code",
   "execution_count": 96,
   "id": "desperate-criticism",
   "metadata": {},
   "outputs": [],
   "source": [
    "X = df[features]\n",
    "y = df['Go']"
   ]
  },
  {
   "cell_type": "markdown",
   "id": "welcome-machine",
   "metadata": {},
   "source": [
    "### Create a Decision Tree, save it as an image, and show the image:"
   ]
  },
  {
   "cell_type": "code",
   "execution_count": 97,
   "id": "becoming-wisconsin",
   "metadata": {},
   "outputs": [],
   "source": [
    "from sklearn.tree import DecisionTreeClassifier\n",
    "from sklearn import tree\n",
    "import pydotplus"
   ]
  },
  {
   "cell_type": "code",
   "execution_count": 98,
   "id": "indoor-admission",
   "metadata": {},
   "outputs": [],
   "source": [
    "dtree = DecisionTreeClassifier()"
   ]
  },
  {
   "cell_type": "code",
   "execution_count": 99,
   "id": "technical-dynamics",
   "metadata": {},
   "outputs": [],
   "source": [
    "dtree = dtree.fit(X, y)"
   ]
  },
  {
   "cell_type": "code",
   "execution_count": 100,
   "id": "collect-cannon",
   "metadata": {},
   "outputs": [],
   "source": [
    "# pip install graphviz\n",
    "# conda install graphviz\n",
    "data = tree.export_graphviz(dtree, out_file=None, feature_names=features)"
   ]
  },
  {
   "cell_type": "code",
   "execution_count": 101,
   "id": "collective-protein",
   "metadata": {},
   "outputs": [],
   "source": [
    "graph = pydotplus.graph_from_dot_data(data)"
   ]
  },
  {
   "cell_type": "code",
   "execution_count": 108,
   "id": "presidential-nursing",
   "metadata": {},
   "outputs": [
    {
     "data": {
      "text/plain": [
       "True"
      ]
     },
     "execution_count": 108,
     "metadata": {},
     "output_type": "execute_result"
    }
   ],
   "source": [
    "graph.write_png('./images/mydecisiontree.png')"
   ]
  },
  {
   "cell_type": "code",
   "execution_count": 109,
   "id": "existing-history",
   "metadata": {},
   "outputs": [],
   "source": [
    "import matplotlib.pyplot as plt\n",
    "import matplotlib.image as pltimg"
   ]
  },
  {
   "cell_type": "code",
   "execution_count": 110,
   "id": "representative-coach",
   "metadata": {},
   "outputs": [
    {
     "data": {
      "image/png": "[encoded data removed]",
      "text/plain": [
       "<Figure size 432x288 with 1 Axes>"
      ]
     },
     "metadata": {
      "needs_background": "light"
     },
     "output_type": "display_data"
    }
   ],
   "source": [
    "img=pltimg.imread('./images/mydecisiontree.png')\n",
    "imgplot = plt.imshow(img)\n",
    "plt.show()"
   ]
  },
  {
   "cell_type": "markdown",
   "id": "muslim-indianapolis",
   "metadata": {},
   "source": [
    "### Predict Values"
   ]
  },
  {
   "cell_type": "markdown",
   "id": "according-youth",
   "metadata": {},
   "source": [
    "**Example:** Should I go see a show starring a 40 years old American comedian, with 10 years of experience, and a comedy ranking of 7?"
   ]
  },
  {
   "cell_type": "code",
   "execution_count": 111,
   "id": "thermal-australia",
   "metadata": {},
   "outputs": [
    {
     "name": "stdout",
     "output_type": "stream",
     "text": [
      "[1]\n"
     ]
    }
   ],
   "source": [
    "print(dtree.predict([[40, 10, 7, 1]]))"
   ]
  },
  {
   "cell_type": "markdown",
   "id": "material-edgar",
   "metadata": {},
   "source": [
    "What would the answer be if the comedy rank was 6?"
   ]
  },
  {
   "cell_type": "code",
   "execution_count": 113,
   "id": "superb-blanket",
   "metadata": {},
   "outputs": [
    {
     "name": "stdout",
     "output_type": "stream",
     "text": [
      "[0]\n"
     ]
    }
   ],
   "source": [
    "print(dtree.predict([[40, 10, 6, 1]]))"
   ]
  },
  {
   "cell_type": "code",
   "execution_count": null,
   "id": "descending-wildlife",
   "metadata": {},
   "outputs": [],
   "source": []
  }
 ],
 "metadata": {
  "kernelspec": {
   "display_name": "Python 3",
   "language": "python",
   "name": "python3"
  },
  "language_info": {
   "codemirror_mode": {
    "name": "ipython",
    "version": 3
   },
   "file_extension": ".py",
   "mimetype": "text/x-python",
   "name": "python",
   "nbconvert_exporter": "python",
   "pygments_lexer": "ipython3",
   "version": "3.7.7"
  }
 },
 "nbformat": 4,
 "nbformat_minor": 5
}
