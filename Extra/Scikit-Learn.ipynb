{
 "cells": [
  {
   "cell_type": "markdown",
   "id": "proved-start",
   "metadata": {},
   "source": [
    "# Scikit-Learn:"
   ]
  },
  {
   "cell_type": "markdown",
   "id": "verified-vietnamese",
   "metadata": {},
   "source": [
    "Hello World!"
   ]
  },
  {
   "cell_type": "code",
   "execution_count": 4,
   "id": "gorgeous-present",
   "metadata": {},
   "outputs": [],
   "source": [
    "import pandas as pd\n",
    "from sklearn.metrics.pairwise import cosine_similarity\n",
    "from sklearn.feature_extraction.text import CountVectorizer"
   ]
  },
  {
   "cell_type": "code",
   "execution_count": 41,
   "id": "another-genius",
   "metadata": {},
   "outputs": [],
   "source": [
    "myData = {'Film':['F1', 'F2', 'F3', 'F4', 'F5', 'F6', 'F7', 'F8', 'F9', 'F10'], \n",
    "          'Actor':['A1', 'A2', 'A3', 'A1', 'A5', 'A2', 'A7', 'A1', 'A1', 'A10'],\n",
    "          'Year':['Y1 Y2 Y3', 'Y5 Y2', 'Y1 Y3', 'Y4', 'Y5', 'Y7 Y6', 'Y7 Y1 Y2', 'Y8', 'Y9 Y3 Y2', 'Y1 Y10'],\n",
    "          'Director':['D1', 'D2', 'D3', 'D4', 'D5', 'D6', 'D7', 'D8', 'D9', 'D10'],\n",
    "          'Genre':['G1', 'G2', 'G3', 'G4', 'G5', 'G6', 'G7', 'G8', 'G9', 'G10']}"
   ]
  },
  {
   "cell_type": "code",
   "execution_count": 42,
   "id": "thick-plant",
   "metadata": {},
   "outputs": [
    {
     "data": {
      "text/html": [
       "<div>\n",
       "<style scoped>\n",
       "    .dataframe tbody tr th:only-of-type {\n",
       "        vertical-align: middle;\n",
       "    }\n",
       "\n",
       "    .dataframe tbody tr th {\n",
       "        vertical-align: top;\n",
       "    }\n",
       "\n",
       "    .dataframe thead th {\n",
       "        text-align: right;\n",
       "    }\n",
       "</style>\n",
       "<table border=\"1\" class=\"dataframe\">\n",
       "  <thead>\n",
       "    <tr style=\"text-align: right;\">\n",
       "      <th></th>\n",
       "      <th>Film</th>\n",
       "      <th>Actor</th>\n",
       "      <th>Year</th>\n",
       "      <th>Director</th>\n",
       "      <th>Genre</th>\n",
       "    </tr>\n",
       "  </thead>\n",
       "  <tbody>\n",
       "    <tr>\n",
       "      <th>0</th>\n",
       "      <td>F1</td>\n",
       "      <td>A1</td>\n",
       "      <td>Y1 Y2 Y3</td>\n",
       "      <td>D1</td>\n",
       "      <td>G1</td>\n",
       "    </tr>\n",
       "    <tr>\n",
       "      <th>1</th>\n",
       "      <td>F2</td>\n",
       "      <td>A2</td>\n",
       "      <td>Y5 Y2</td>\n",
       "      <td>D2</td>\n",
       "      <td>G2</td>\n",
       "    </tr>\n",
       "    <tr>\n",
       "      <th>2</th>\n",
       "      <td>F3</td>\n",
       "      <td>A3</td>\n",
       "      <td>Y1 Y3</td>\n",
       "      <td>D3</td>\n",
       "      <td>G3</td>\n",
       "    </tr>\n",
       "    <tr>\n",
       "      <th>3</th>\n",
       "      <td>F4</td>\n",
       "      <td>A1</td>\n",
       "      <td>Y4</td>\n",
       "      <td>D4</td>\n",
       "      <td>G4</td>\n",
       "    </tr>\n",
       "    <tr>\n",
       "      <th>4</th>\n",
       "      <td>F5</td>\n",
       "      <td>A5</td>\n",
       "      <td>Y5</td>\n",
       "      <td>D5</td>\n",
       "      <td>G5</td>\n",
       "    </tr>\n",
       "    <tr>\n",
       "      <th>5</th>\n",
       "      <td>F6</td>\n",
       "      <td>A2</td>\n",
       "      <td>Y7 Y6</td>\n",
       "      <td>D6</td>\n",
       "      <td>G6</td>\n",
       "    </tr>\n",
       "    <tr>\n",
       "      <th>6</th>\n",
       "      <td>F7</td>\n",
       "      <td>A7</td>\n",
       "      <td>Y7 Y1 Y2</td>\n",
       "      <td>D7</td>\n",
       "      <td>G7</td>\n",
       "    </tr>\n",
       "    <tr>\n",
       "      <th>7</th>\n",
       "      <td>F8</td>\n",
       "      <td>A1</td>\n",
       "      <td>Y8</td>\n",
       "      <td>D8</td>\n",
       "      <td>G8</td>\n",
       "    </tr>\n",
       "    <tr>\n",
       "      <th>8</th>\n",
       "      <td>F9</td>\n",
       "      <td>A1</td>\n",
       "      <td>Y9 Y3 Y2</td>\n",
       "      <td>D9</td>\n",
       "      <td>G9</td>\n",
       "    </tr>\n",
       "    <tr>\n",
       "      <th>9</th>\n",
       "      <td>F10</td>\n",
       "      <td>A10</td>\n",
       "      <td>Y1 Y10</td>\n",
       "      <td>D10</td>\n",
       "      <td>G10</td>\n",
       "    </tr>\n",
       "  </tbody>\n",
       "</table>\n",
       "</div>"
      ],
      "text/plain": [
       "  Film Actor      Year Director Genre\n",
       "0   F1    A1  Y1 Y2 Y3       D1    G1\n",
       "1   F2    A2     Y5 Y2       D2    G2\n",
       "2   F3    A3     Y1 Y3       D3    G3\n",
       "3   F4    A1        Y4       D4    G4\n",
       "4   F5    A5        Y5       D5    G5\n",
       "5   F6    A2     Y7 Y6       D6    G6\n",
       "6   F7    A7  Y7 Y1 Y2       D7    G7\n",
       "7   F8    A1        Y8       D8    G8\n",
       "8   F9    A1  Y9 Y3 Y2       D9    G9\n",
       "9  F10   A10    Y1 Y10      D10   G10"
      ]
     },
     "execution_count": 42,
     "metadata": {},
     "output_type": "execute_result"
    }
   ],
   "source": [
    "df = pd.DataFrame(myData)\n",
    "df"
   ]
  },
  {
   "cell_type": "code",
   "execution_count": 43,
   "id": "existing-walter",
   "metadata": {},
   "outputs": [],
   "source": [
    "cm = CountVectorizer().fit_transform(df['Year'])"
   ]
  },
  {
   "cell_type": "code",
   "execution_count": 44,
   "id": "shared-affair",
   "metadata": {},
   "outputs": [
    {
     "name": "stdout",
     "output_type": "stream",
     "text": [
      "[[1.         0.40824829 0.81649658 0.         0.         0.\n",
      "  0.66666667 0.         0.66666667 0.40824829]\n",
      " [0.40824829 1.         0.         0.         0.70710678 0.\n",
      "  0.40824829 0.         0.40824829 0.        ]\n",
      " [0.81649658 0.         1.         0.         0.         0.\n",
      "  0.40824829 0.         0.40824829 0.5       ]\n",
      " [0.         0.         0.         1.         0.         0.\n",
      "  0.         0.         0.         0.        ]\n",
      " [0.         0.70710678 0.         0.         1.         0.\n",
      "  0.         0.         0.         0.        ]\n",
      " [0.         0.         0.         0.         0.         1.\n",
      "  0.40824829 0.         0.         0.        ]\n",
      " [0.66666667 0.40824829 0.40824829 0.         0.         0.40824829\n",
      "  1.         0.         0.33333333 0.40824829]\n",
      " [0.         0.         0.         0.         0.         0.\n",
      "  0.         1.         0.         0.        ]\n",
      " [0.66666667 0.40824829 0.40824829 0.         0.         0.\n",
      "  0.33333333 0.         1.         0.        ]\n",
      " [0.40824829 0.         0.5        0.         0.         0.\n",
      "  0.40824829 0.         0.         1.        ]]\n"
     ]
    }
   ],
   "source": [
    "cn = cosine_similarity(cm)\n",
    "print(cn)"
   ]
  },
  {
   "cell_type": "code",
   "execution_count": null,
   "id": "nearby-content",
   "metadata": {},
   "outputs": [],
   "source": []
  }
 ],
 "metadata": {
  "kernelspec": {
   "display_name": "Python 3",
   "language": "python",
   "name": "python3"
  },
  "language_info": {
   "codemirror_mode": {
    "name": "ipython",
    "version": 3
   },
   "file_extension": ".py",
   "mimetype": "text/x-python",
   "name": "python",
   "nbconvert_exporter": "python",
   "pygments_lexer": "ipython3",
   "version": "3.7.9"
  }
 },
 "nbformat": 4,
 "nbformat_minor": 5
}
