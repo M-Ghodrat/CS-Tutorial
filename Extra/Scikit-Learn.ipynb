{
 "cells": [
  {
   "cell_type": "markdown",
   "id": "proved-start",
   "metadata": {},
   "source": [
    "# Scikit-Learn:"
   ]
  },
  {
   "cell_type": "markdown",
   "id": "verified-vietnamese",
   "metadata": {},
   "source": [
    "Hello World!"
   ]
  },
  {
   "cell_type": "code",
   "execution_count": null,
   "id": "gorgeous-present",
   "metadata": {},
   "outputs": [],
   "source": []
  }
 ],
 "metadata": {
  "kernelspec": {
   "display_name": "Python 3",
   "language": "python",
   "name": "python3"
  },
  "language_info": {
   "codemirror_mode": {
    "name": "ipython",
    "version": 3
   },
   "file_extension": ".py",
   "mimetype": "text/x-python",
   "name": "python",
   "nbconvert_exporter": "python",
   "pygments_lexer": "ipython3",
   "version": "3.7.9"
  }
 },
 "nbformat": 4,
 "nbformat_minor": 5
}
