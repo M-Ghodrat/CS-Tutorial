{
 "cells": [
  {
   "cell_type": "markdown",
   "id": "allied-spider",
   "metadata": {},
   "source": [
    "# File Extensions\n",
    "In linux, file extensions don't matter. Linux doesn't determine file type. Using the file extension but instead it reads a piece of code inserted at the top of every file and that piece of code is known as a header and it serves as a kind of label for Linux to read and when Linux reads that label it knows the file type.\n",
    "\n",
    "In linux, `file` command will tell us basically what type of file we are dealing with.\n",
    "\n",
    "```bash\n",
    "$user@computer-name:~$ file image.png\n",
    "image.PNG: PNG image data, 1913 x 1086, 8-bit/color RGBA, non-interlaced\n",
    "\n",
    "$user@computer-name:~$ file document.txt\n",
    "document.txt: UTF-8 Unicode text\n",
    "\n",
    "$user@computer-name:~$ file document.txt\n",
    "document.txt: UTF-8 Unicode text\n",
    "\n",
    "$user@computer-name:~$ file myfolder\n",
    "myfolder: directory\n",
    "```\n",
    "\n",
    "So changing just the name of the file won't make a difference because that file header won't have changed.\n",
    "\n",
    "Although the operating system will know what file format the actual file is by reading the header, The extra programs that are installed on top of the operating system such as this PDA viewer are trying to open the files that might require a certain formats or the file extensions in order to work.\n",
    "\n",
    "The important distinction to make there the programs that are installed on top of the operating system such as PDF viewers and the fact that they might need the file to have a specific file extension in order to open them but the operating system itself does not care.\n",
    "\n",
    "## Summary\n",
    "- Use the `file` command to know what type of file you are dealing with.\n",
    "- You can name files whatever you want in linux (even `.blahblah`).\n",
    "- Try not to confuse third party softwares."
   ]
  },
  {
   "cell_type": "code",
   "execution_count": null,
   "id": "czech-situation",
   "metadata": {},
   "outputs": [],
   "source": []
  }
 ],
 "metadata": {
  "kernelspec": {
   "display_name": "Python 3",
   "language": "python",
   "name": "python3"
  },
  "language_info": {
   "codemirror_mode": {
    "name": "ipython",
    "version": 3
   },
   "file_extension": ".py",
   "mimetype": "text/x-python",
   "name": "python",
   "nbconvert_exporter": "python",
   "pygments_lexer": "ipython3",
   "version": "3.7.9"
  }
 },
 "nbformat": 4,
 "nbformat_minor": 5
}
