{
 "cells": [
  {
   "cell_type": "markdown",
   "id": "recovered-diploma",
   "metadata": {},
   "source": [
    "# Copying, Moving, Renaming\n",
    "\n",
    "## Copy\n",
    "The `cp` command which handles all the copying of files and folders in Linux with `cp source_file dest` for files and `cp source_dir dest_dir` for directories.\n",
    "\n",
    "```bash\n",
    "$user@computer-name:~$ cp file1.txt /home/user/file_1_copy.txt\n",
    "$user@computer-name:~$ cp -r dir_1 dir_1_copy\n",
    "```\n",
    "\n",
    "## Rename\n",
    "```bash\n",
    "$user@computer-name:~$ mv file1.txt file_renamed.txt\n",
    "```\n",
    "\n",
    "## Move\n",
    "```bash\n",
    "$user@computer-name:~$ mv file1.txt dest\n",
    "```\n",
    "\n",
    "For directories, add `-r` option:\n",
    "```bash\n",
    "$user@computer-name:~$ mv -r dir dir_renamed\n",
    "$user@computer-name:~$ mv -r dir dest/dir\n",
    "```\n",
    "\n",
    "You can use wildcards:\n",
    "Move everything in `dir` to desktop:\n",
    "```bash\n",
    "$user@computer-name:~$ mv -r dir/* /home/user/Desktop\n",
    "```\n",
    "\n",
    "## Summary\n",
    "- `cp <what you want to copy> <Destination>`\n",
    "- `mv <what you want to move> <Destination>`\n",
    "- `mv <what you want to rename> <New Name + Location>`\n",
    "- **Create** using `touch` and `mkdir` commands.\n",
    "- **Delete** using the `rm` and `rmdir` commands.\n",
    "- **Copy** using the `cp` command.\n",
    "- **Move** and Rename using the `mv` command."
   ]
  },
  {
   "cell_type": "code",
   "execution_count": null,
   "id": "passive-glossary",
   "metadata": {},
   "outputs": [],
   "source": []
  }
 ],
 "metadata": {
  "kernelspec": {
   "display_name": "Python 3",
   "language": "python",
   "name": "python3"
  },
  "language_info": {
   "codemirror_mode": {
    "name": "ipython",
    "version": 3
   },
   "file_extension": ".py",
   "mimetype": "text/x-python",
   "name": "python",
   "nbconvert_exporter": "python",
   "pygments_lexer": "ipython3",
   "version": "3.7.9"
  }
 },
 "nbformat": 4,
 "nbformat_minor": 5
}
