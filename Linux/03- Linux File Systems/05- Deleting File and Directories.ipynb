{
 "cells": [
  {
   "cell_type": "markdown",
   "id": "loose-procurement",
   "metadata": {},
   "source": [
    "# Deleting File and Directories\n",
    "\n",
    "The way to actually delete or remove that file is using something called the `rm` command.\n",
    "\n",
    "## Delete Files\n",
    "```bash\n",
    "$user@computer-name:~$ rm file1.txt\n",
    "$user@computer-name:~$ rm file2.txt file2.txt /home/user/file3.txt\n",
    "$user@computer-name:~$ rm file*.txt     # deletes with wildcard\n",
    "$user@computer-name:~$ rm *[2,3]*       # deletes everything\n",
    "$user@computer-name:~$ rm *.png         # deletes all .png files\n",
    "$user@computer-name:~$ rm *             # deletes everything\n",
    "```\n",
    "\n",
    "## Delete Directories\n",
    "To delete directories, you have to add `-r` option:\n",
    "```bash\n",
    "$user@computer-name:~$ rm dir1\n",
    "rm: cannot remove 'dir/': Is a directory\n",
    "$user@computer-name:~$ rm -r dir1\n",
    "```\n",
    "\n",
    "```bash\n",
    "$user@computer-name:~$ touch delme/deleteme{1,2,3}/file{1,2,3}\n",
    "$user@computer-name:~$ rm -r delme\n",
    "```\n",
    "\n",
    "**Note:** To ask shell to prompt before every removal, add `-i` option.\n",
    "```bash\n",
    "$user@computer-name:~$ touch delme/deleteme{1,2,3}/file{1,2,3}\n",
    "$user@computer-name:~$ rm -ri delme\n",
    "rm: descend into directory 'delme'?\n",
    "rm: descend into directory 'delme/deleteme1'?\n",
    "rm: remove directory 'delme/deleteme1/file1'?\n",
    "...\n",
    "```\n",
    "\n",
    "Fortunately there's another command that specialized for only removing directories that are empty now because this command only removes empty directories. This means that you can tell it to delete everything. It will only delete the folders that are actually empty. Which means you'll never delete a file accidentally.\n",
    "\n",
    "```bash\n",
    "$user@computer-name:~$ rmdir delme\n",
    "rmdir: failed to remove 'delme': Directory not empty\n",
    "```\n",
    "\n",
    "To remove everything inside `delme` that is empty directory:\n",
    "```bash\n",
    "$user@computer-name:~$ rmdir delme/*\n",
    "rmdir: failed to remove 'delme': Directory not empty\n",
    "```\n",
    "\n",
    "## Summary\n",
    "- The `rm` command needs `-r` option to delete folders (Be careful!).\n",
    "- The `i` option will allow the `rm` command to be **interactive** when deleting.\n",
    "- The `rmdir` command will only delete folders that are empty."
   ]
  },
  {
   "cell_type": "code",
   "execution_count": null,
   "id": "duplicate-milwaukee",
   "metadata": {},
   "outputs": [],
   "source": []
  }
 ],
 "metadata": {
  "kernelspec": {
   "display_name": "Python 3",
   "language": "python",
   "name": "python3"
  },
  "language_info": {
   "codemirror_mode": {
    "name": "ipython",
    "version": 3
   },
   "file_extension": ".py",
   "mimetype": "text/x-python",
   "name": "python",
   "nbconvert_exporter": "python",
   "pygments_lexer": "ipython3",
   "version": "3.7.9"
  }
 },
 "nbformat": 4,
 "nbformat_minor": 5
}
