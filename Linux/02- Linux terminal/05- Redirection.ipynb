{
 "cells": [
  {
   "cell_type": "markdown",
   "id": "effective-wrestling",
   "metadata": {},
   "source": [
    "# Redirection\n",
    "- You will be able to **redirect the standard data streams**.\n",
    "\n",
    "But by the end, you'll be able to redirect standard input standard output and standard error to your heart's content and you'll feel much more like a computer genius already.\n",
    "\n",
    "## Examples\n",
    "- `cat`:  `cat` needs standard input in order to run but because standard input is by default connected to the keyboard cat just sits there and waits for us to enter something on the keyboard.\n",
    "- `cat 1> output.txt`: Every data stream not only has a name like standard outputs and imports on that, but it also has a number associated with it.\n",
    "    - Standard Input is number zero.\n",
    "    - Standard output is number one.\n",
    "    - Standard error is number two.\n",
    "\n",
    "Here, we are redirecting or changing the destination of standard output because standard output is number one.\n",
    "\n",
    "- `cat -k bla 2> error.txt`: Redirect standard error data stream to error.txt\n",
    "- `cat 0< input.txt 1> output.txt 2> error.txt`\n",
    "\n",
    "**Notes:**\n",
    "    - You don't actually even need to put the number 1 in `cat 1> output.txt` (default for output: 1).\n",
    "    - You don't actually even need to put the number 0 in `cat 0< input.txt`> (default for input: 0).\n",
    "    - Use two arrows to write to a file again using redirection without truncating it (`cat 1>> output.txt`)\n",
    "\n",
    "## Summary\n",
    "- Standard input, standard output, and standard error are data streams.\n",
    "- Using redirection you can control where those streams **flow**.\n",
    "    - Standard Input: 0\n",
    "    - Standard Output: 1\n",
    "    - Standard Error: 2\n",
    "- `>` will overwrite a file before writing it.\n",
    "- `>>` will append to what's already there.\n",
    "\n",
    "**Read More**:\n",
    "- [Redirections](https://www.gnu.org/software/bash/manual/html_node/Redirections.html)\n",
    "- [BashGuide/InputAndOutput](http://mywiki.wooledge.org/BashGuide/InputAndOutput?#Redirection)"
   ]
  },
  {
   "cell_type": "code",
   "execution_count": null,
   "id": "annual-coral",
   "metadata": {},
   "outputs": [],
   "source": []
  }
 ],
 "metadata": {
  "kernelspec": {
   "display_name": "Python 3",
   "language": "python",
   "name": "python3"
  },
  "language_info": {
   "codemirror_mode": {
    "name": "ipython",
    "version": 3
   },
   "file_extension": ".py",
   "mimetype": "text/x-python",
   "name": "python",
   "nbconvert_exporter": "python",
   "pygments_lexer": "ipython3",
   "version": "3.7.9"
  }
 },
 "nbformat": 4,
 "nbformat_minor": 5
}
