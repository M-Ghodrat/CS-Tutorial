{
 "cells": [
  {
   "cell_type": "markdown",
   "id": "divine-apple",
   "metadata": {},
   "source": [
    "# Linux Manual\n",
    "\n",
    "Like we saw each of the Linux commands is implemented slightly differently and they behave slightly differently.\n",
    "\n",
    "So other than memorizing a jillion different implementations of things how can we actually know how to use each of the Linux commands properly. Well the answer is to use the manual pages known as **man pages** for sure.\n",
    "\n",
    "## Manual Structure\n",
    "\n",
    "Manual is broken up into eight sections and each of these sections deals with a specific type of thing.\n",
    "\n",
    "|Section|Contains|Description|Example|\n",
    "|:--|:--|:--|:--|\n",
    "|1|User Commands|commands that can just be run from the shell by any regular user. You don't need any particular administration privileges or any root privileges to be able to run these|`date`, `cal`|\n",
    "|2|System Calls|this contains programming functions that can be used within an application that you write to make calls to the Linux kernel which is a very low level part of the operating system||\n",
    "|3|C Library Functions|hese are libraries for the C programming language and these are functions and libraries that provide interfaces to specific things on your computer such as graphical user interfaces or other libraries that you might want to use if you're writing some C code that you want to have access to your computer with||\n",
    "|4|Devices and Special Files|This is about how the different device is on your computer are managed. So things such as CD drives or things such as random number generators or things such as U.S. ports and stuff like that.||\n",
    "|5|File Formats and Conventions|It's about all the different formats and the conventions of specific files and on your computer. So you know formats for word documents or formats where PDA documents a format for specific configuration files.||\n",
    "|6|Games|Any games that are installed on your computer they have their own section and different commands.||\n",
    "|7|Miscellaneous|More miscellaneous stuff more Uncategorized stuff. So it's usually stuff like protocols or file systems and information about those.||\n",
    "|8|System Administration|All the commands that can actually that actually require root privileges and administration privileges to be run on your computers this is things like changing passwords. This is things like you know really editing important stuff on your computer setting up automation and things like that.||\n",
    "\n",
    "\n",
    "**Note:** Section 1 Section 5 and section 8 are what you will likely use most often.\n",
    "\n",
    "## Search Manual\n",
    "\n",
    "You would have to use the `man` command that a `man` command is short for the word manual. And it's the command that deals with everything to do with the manual basically: `man -k search_term`\n",
    "- `man -k which`\n",
    "- `man -k ls`\n",
    "- ...\n",
    "\n",
    "To see the manual for a command: `man command`:\n",
    "- `man which`\n",
    "- `man ls`\n",
    "- ...\n",
    "\n",
    "Example of a man page: `man which`\n",
    "\n",
    "```\n",
    "WHICH(1)                    General Commands Manual                   WHICH(1)                                                                                  NAME                                                                                   which - locate a command                                                                                                                                 SYNOPSIS                                                                               which [-a] filename ...                                                                                                                                  DESCRIPTION                                                                            which returns the pathnames of the files (or links) which would be exe‐         cuted in the current environment, had its arguments been given as  com‐         mands  in a strictly POSIX-conformant shell.  It does this by searching         the PATH for executable files matching the names of the  arguments.  It         does not canonicalize path names.                                                                                                                        OPTIONS                                                                                -a     print all matching pathnames of each argument  \n",
    "EXIT STATUS                                                                            \n",
    "0      if all specified commands are found and executable                                                                                                       1      if  one  or  more  specified commands is nonexistent or not executable                                                                                                                                                  2      if an invalid option is specified  \n",
    "```\n",
    "\n",
    "**Note**: in manual pages:\n",
    "- Anything inside `<>` is **mandatory**.\n",
    "- Anything inside `[]` is **optional**\n",
    "    - For example:\n",
    "        - in `which [-a] <something>`, `-a` is optional but `something` is mandatory.\n",
    "        - in `ls [OPTION]... [FILE]...` everything is optional and only ls is mandatory.\n",
    "\n",
    "- `|` inside `[]` means `or` which means you have to pick one of them not both. For example in `[-a | -f]` using `-af` is invalid\n",
    "\n",
    "## "
   ]
  },
  {
   "cell_type": "code",
   "execution_count": null,
   "id": "analyzed-arcade",
   "metadata": {},
   "outputs": [],
   "source": []
  }
 ],
 "metadata": {
  "kernelspec": {
   "display_name": "Python 3",
   "language": "python",
   "name": "python3"
  },
  "language_info": {
   "codemirror_mode": {
    "name": "ipython",
    "version": 3
   },
   "file_extension": ".py",
   "mimetype": "text/x-python",
   "name": "python",
   "nbconvert_exporter": "python",
   "pygments_lexer": "ipython3",
   "version": "3.7.9"
  }
 },
 "nbformat": 4,
 "nbformat_minor": 5
}
