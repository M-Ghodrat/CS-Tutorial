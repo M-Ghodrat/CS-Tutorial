{
 "cells": [
  {
   "cell_type": "markdown",
   "id": "structural-gentleman",
   "metadata": {},
   "source": [
    "# Command Input & Output\n",
    "\n",
    "The ways **data** flows **into** and **out** of a **command**.\n",
    "\n",
    "Be ready to connect commands.\n",
    "\n",
    "![command-in-out](../images/command_in_out.png)\n",
    "\n",
    "Standard output is something called a standard data stream just like a stream of water data stream start somewhere and they end somewhere. **So where does standard output lead?**\n",
    "\n",
    "Well **by default** standard output will lead to your terminal. So that's why when we type commands the output of the command appears on the screen.\n",
    "\n",
    "The amazing thing about output data streams is that you can **redirect** where they go using a process imaginative imaginatively called redirection.\n",
    "\n",
    "Similarly, standard input is a data stream and is by default connected to the keyboard. So it can be redirected as well.\n",
    "\n",
    "That makes them so powerful you can simply pass the standard output stream from one command to the standard input stream of another then pass the standard output stream of that second command to the standard input stream of the third command and so on and so on until you build up a very powerful pipeline connecting outputs to inputs in this way is known as **piping** together commands and it's an incredibly important concept in Linux as it's what makes working with the command line so powerful and effective.\n",
    "\n",
    "\n",
    "## Summary\n",
    "- There are two ways to get data into commands and two ways to get data out.\n",
    "    1. Command line arguments\n",
    "    3. Standard Input\n",
    "    2. Standard Output\n",
    "    4. Standard Error\n",
    "- Standard Input, Standard Output, and Standard Error are Standard Data Streams.\n",
    "- Data streams can be redirected from their default locations to wherever you wish.\n",
    "- You can redirect the standard output of one command to the standard input of another in a process know as **piping**."
   ]
  },
  {
   "cell_type": "code",
   "execution_count": null,
   "id": "transsexual-collective",
   "metadata": {},
   "outputs": [],
   "source": []
  }
 ],
 "metadata": {
  "kernelspec": {
   "display_name": "Python 3",
   "language": "python",
   "name": "python3"
  },
  "language_info": {
   "codemirror_mode": {
    "name": "ipython",
    "version": 3
   },
   "file_extension": ".py",
   "mimetype": "text/x-python",
   "name": "python",
   "nbconvert_exporter": "python",
   "pygments_lexer": "ipython3",
   "version": "3.7.9"
  }
 },
 "nbformat": 4,
 "nbformat_minor": 5
}
