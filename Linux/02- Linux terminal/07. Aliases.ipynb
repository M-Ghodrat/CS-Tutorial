{
 "cells": [
  {
   "cell_type": "markdown",
   "id": "distributed-sterling",
   "metadata": {},
   "source": [
    "# Aliases\n",
    "\n",
    "Linux users often need to use one command over and over again. Typing or copying the same command again and again reduces your productivity and distracts you from what you are actually doing.\n",
    "\n",
    "You can save yourself some time by creating **aliases** for your most used commands. **Aliases** are like custom shortcuts used to represent a command (or set of commands) executed with or without custom options. Chances are you are already using aliases on your Linux system.\n",
    "\n",
    "## List Currently Defined Aliases in Linux\n",
    "You can see a list of defined aliases on your profile by simply executing `alias` command.\n",
    "\n",
    "![alias](../images/alias.png =500x)\n",
    "\n",
    "## How to Create Aliases in Linux\n",
    "\n",
    "Creating aliases is relatively easy and quick process. You can create two types of aliases – temporary ones and permanent. We will review both types.\n",
    "\n",
    "### Creating Temporary Aliases\n",
    "What you need to do is type the word alias then use the name you wish to use to execute a command followed by \"=\" sign and quote the command you wish to alias.\n",
    "\n",
    "`alias shortName=\"your custom command here\"`\n",
    "\n",
    "For example:\n",
    "`alias ls=\"ls -l\"`\n",
    "\n",
    "### Creating Permanent Aliases\n",
    "\n",
    "To keep aliases between sessions, you can save them in your user’s shell configuration profile file. This can be:\n",
    "\n",
    "```\n",
    "Bash – ~/.bashrc\n",
    "ZSH – ~/.zshrc\n",
    "Fish – ~/.config/fish/config.fish\n",
    "```\n",
    "\n",
    "The syntax you should use is practically the same as creating a temporary alias. The only difference comes from the fact that you will be saving it in a file this time. So for example, in bash, you can open `.bashrc` file with your favorite editor like this:\n",
    "\n",
    "`code ~/.bashrc`\n",
    "\n",
    "Find a place in the file, where you want to keep the aliases. For example, you can add them in the end of the file. For organizations purposes you can leave a comment before your aliases something like this:\n",
    "\n",
    "```\n",
    "# my custom aliases\n",
    "alias home=\"ssh -i ~/.ssh/mykep.pem tecmint@192.168.0.100\"\n",
    "alias ll=\"ls -alF\"\n",
    "```\n",
    "\n",
    "**Note:** If you are using [zsh](https://linuxhint.com/install_zsh_shell_ubuntu_1804/), then you should open `~/.zshrc` file.\n",
    "\n",
    "\n",
    "## Summary\n",
    "\n",
    "- An alias is a custom nickname for a command or pipeline.\n",
    "- aliases are accessible when you restart your terminal."
   ]
  },
  {
   "cell_type": "code",
   "execution_count": null,
   "id": "prostate-nightmare",
   "metadata": {},
   "outputs": [],
   "source": []
  }
 ],
 "metadata": {
  "kernelspec": {
   "display_name": "Python 3",
   "language": "python",
   "name": "python3"
  },
  "language_info": {
   "codemirror_mode": {
    "name": "ipython",
    "version": 3
   },
   "file_extension": ".py",
   "mimetype": "text/x-python",
   "name": "python",
   "nbconvert_exporter": "python",
   "pygments_lexer": "ipython3",
   "version": "3.7.9"
  }
 },
 "nbformat": 4,
 "nbformat_minor": 5
}
