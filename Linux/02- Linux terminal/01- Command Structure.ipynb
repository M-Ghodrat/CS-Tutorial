{
 "cells": [
  {
   "cell_type": "markdown",
   "id": "advised-nightmare",
   "metadata": {},
   "source": [
    "# Command Structure\n",
    "\n",
    "By the end: Commands will begin to look like a langauge not random gibberish.\n",
    "\n",
    "Right now each command has its own unique behavior. You can actually look up using something called the manual pages which I'll show you how to do later.\n",
    "\n",
    "But the general command structure goes like this.\n",
    "1. you type out the command name. So it would be like `date` or `echo`.\n",
    "2. Then you give the comments of options to customize its behavior.\n",
    "3. Then you give the command some inputs to actually operate on.\n",
    "\n",
    "--> `command_name -options inputs`\n",
    "\n",
    "## Command Name\n",
    "\n",
    "Now the first thing you type is the command name. Now that lets the shell know what program you actually want to run. And once the Shell knows what program you want to run it knows the name of the program you want to run the show will then search for that program on something called your Shell's path which is just a list of folders that contain these programs.\n",
    "\n",
    "Now you can actually see your Shell's path by typing `echo $PATH`. So what the shell will do is it'll start at the very left of the path and it will look inside that folder for a command called `echo`. If it's not found, it will do the same on the next folder and so on and so forth.\n",
    "\n",
    "**Note**: If two programs with the same name are in different folders of `$PATH`, the one in the far left folder will always run.\n",
    "\n",
    "\n",
    "Now you can actually see which folder the command is stored in by using the `which` command:\n",
    "- `which cal` --> `/usr/bin/cal`\n",
    "- `which date` --> `/usr/bin/date`\n",
    "\n",
    "Now you can customize the way that commands work by giving them different **options** and different **inputs**.\n",
    "\n",
    "## Inputs\n",
    "It's important to note that not all commands actually require inputs. Some inputs are optional. For example the date command doesn't strictly require an input.\n",
    "\n",
    "**Note**: Because commands **operate** on the input the input is sometimes called an **operand**.\n",
    "\n",
    "So for example if we take the cow command I could just type cow OK and press enter and I would get this month's calendar. But to customize the behavior I can give it one or more inputs: `cal 2021`, `cal 12 2017`\n",
    "\n",
    "## Options\n",
    "\n",
    "That's common for commands to be preceded by dashes and hyphens and things: `cal -y`, `date -u` (UTC time)\n",
    "\n",
    "So sometimes options actually have long form names proceded by `--`: `date --universal`\n",
    "\n",
    "**Note:** The long form commands can make commands easier to read but they're not available for all options. It really depends upon the command that you're using.\n",
    "\n",
    "Now the only other thing to know is that sometimes options can have their own inputs. For example there is an option that will allow us to see a certain amount of months after a time:\n",
    "- `cal -A 1 12 2017` --> 1 month after (`-A`) December (12) 2017\n",
    "- `cal -B 1 12 2017` --> 1 month before (`-B`) December (12) 2017\n",
    "- `cal -A 1 -B 1 12 2017` --> 1 month after (`-A`) and before (`-B`) December (12) 2017\n",
    "\n",
    "## Summary\n",
    "- Command: `command_name -options inputs`\n",
    "- Command name must be on the shell's **search path** (`$PATH`).\n",
    "- Commands operate on inputs.\n",
    "- Options modify command's behaviour"
   ]
  },
  {
   "cell_type": "code",
   "execution_count": null,
   "id": "optical-module",
   "metadata": {},
   "outputs": [],
   "source": []
  }
 ],
 "metadata": {
  "kernelspec": {
   "display_name": "Python 3",
   "language": "python",
   "name": "python3"
  },
  "language_info": {
   "codemirror_mode": {
    "name": "ipython",
    "version": 3
   },
   "file_extension": ".py",
   "mimetype": "text/x-python",
   "name": "python",
   "nbconvert_exporter": "python",
   "pygments_lexer": "ipython3",
   "version": "3.7.9"
  }
 },
 "nbformat": 4,
 "nbformat_minor": 5
}
