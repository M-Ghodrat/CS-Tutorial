{
 "cells": [
  {
   "cell_type": "markdown",
   "metadata": {},
   "source": [
    "# 04-Hash\n",
    "\n",
    "<a id='Table_of_Contents'></a>\n",
    "## Table of Contents:\n",
    "\n",
    "* [Table of Contents](#Table_of_Contents)\n",
    "* [Hash Function](#Hash_Function)\n",
    "    - [Important properties](#Important_properties)\n",
    "    - [How Hash Table Works](#How_Hash_Table_Works)\n",
    "    - [Hashing Algorithm](#Hashing_Algorithm)\n",
    "    - [Collisions](#Collisions)\n",
    "    - [Open Addressing](#Open_Addressing)\n",
    "    - [Closed Addressing](#Closed_Addressing)\n",
    "    - [Objective of Hash Function](#Objective_of_Hash_Function)\n",
    "    - [Summary](#Summary)\n",
    "* [Cryptographic Hash Function](#Cryptographic_Hash_Function)"
   ]
  },
  {
   "cell_type": "markdown",
   "metadata": {},
   "source": [
    "Hashing is a digital signature, originally designed to check if data was modified.\n",
    "\n",
    "Example: [Anaconda installation file](https://www.digitalocean.com/community/tutorials/how-to-install-the-anaconda-python-distribution-on-ubuntu-20-04)\n",
    "\n",
    "Look at SHA256"
   ]
  },
  {
   "cell_type": "markdown",
   "metadata": {},
   "source": [
    "Hash is used either for:\n",
    "- security\n",
    "- efficiency"
   ]
  },
  {
   "cell_type": "code",
   "execution_count": 1,
   "metadata": {},
   "outputs": [
    {
     "data": {
      "text/plain": [
       "(0, 1, 3, -6935262762371908755)"
      ]
     },
     "execution_count": 1,
     "metadata": {},
     "output_type": "execute_result"
    }
   ],
   "source": [
    "# hash is function\n",
    "# this one is used for efficiency, not security\n",
    "hash(0), hash(1), hash(3), hash(\"this\")"
   ]
  },
  {
   "cell_type": "markdown",
   "metadata": {},
   "source": [
    "<a id='Hash_Function'></a>\n",
    "## Hash Function"
   ]
  },
  {
   "cell_type": "markdown",
   "metadata": {},
   "source": [
    "A hash function is any function that can be used to map data of arbitrary size to fixed-size values. The values returned by a hash function are called **hash values**, **hash codes**, **digests**, or simply **hashes**. The values are usually used to index a fixed-size table called a hash table. Use of a hash function to index a hash table is called hashing or scatter storage addressing.\n",
    "\n",
    "Hash functions and their associated hash tables are used in data storage and retrieval applications to access data in a small and nearly constant time per retrieval, and require an amount of storage space only fractionally greater than the total space required for the data or records themselves. Hashing is a computationally and storage space efficient form of data access which avoids the non-linear access time of ordered and unordered lists and structured trees."
   ]
  },
  {
   "cell_type": "markdown",
   "metadata": {},
   "source": [
    "<a id='Important properties'></a>\n",
    "### Important properties\n",
    "\n",
    "- Each hash is unique but always repeatable The word 'cat' will hash to something that no other word hashes too, but it will always hash to the same thing.\n",
    "- The function is 'one way'. If you are given the value of what 'cat' hashes too but you didn't know what made it, you would never be able to find out that 'cat' was the original word.\n",
    "\n",
    "There are many different hash functions such as SHA-1 and SHA-2."
   ]
  },
  {
   "cell_type": "markdown",
   "metadata": {},
   "source": [
    "<a id='How_Hash_Table_Works'></a>\n",
    "### How Hash Table Works"
   ]
  },
  {
   "cell_type": "markdown",
   "metadata": {},
   "source": [
    "Consider a list of items:\n",
    "\n",
    "```python \n",
    "mylist = [\"apple\", \"banana\", \"pear\", \"orange\", \"mango\"]\n",
    "```\n",
    "\n",
    "To find an item in the list, one solution is **brute force** such as linear search which would take a very long time for a very big array.\n",
    "\n",
    "But what if you know the index number of that element? You can look up the value very quick. The look up time is in face independent of the array size or the value position in the array.\n",
    "\n",
    "But how can you know which index contains the value?\n",
    "\n",
    "**Answer**: Each index can be calculated using the value itself so that the index number is in some way related to the data.\n",
    "\n",
    "**Example**\n",
    "\n",
    "```python\n",
    "array = [_0_, _1_, _2_, _3_, _4_, _5_, _6_, _7_, _8_, _9_, _10_]\n",
    "```\n",
    "\n",
    "We add ASCII codes of input and divide this by the array size and we'll take the remainder of that calculation.\n",
    "\n",
    "| **Element** | **Letter(ASCII)** | **Letter(ASCII)** | **Letter(ASCII)** | **Sum** | **Reminder** |\n",
    "| :- | :-: | :-: | :-: | :-: | :-: |\n",
    "| Mia | M(77) | i(105) | a(97) | 279 | 4\n",
    "\n",
    "```python\n",
    "array = [_0_, _1_, _2_, _3_, Mia, _5_, _6_, _7_, _8_, _9_, _10_]\n",
    "```\n",
    "\n",
    "| **Element** | **Letter(ASCII)** | **Letter(ASCII)** | **Letter(ASCII)** | **Sum** | **Reminder** |\n",
    "| :- | :-: | :-: | :-: | :-: | :-: |\n",
    "| Mia | M(77) | i(105) | a(97) | 279 | 4\n",
    "| Tim | T(84) | i(105) | m(109) | 298 | 1\n",
    "\n",
    "```python\n",
    "[_0_, _Tim_, _2_, _3_, Mia, _5_, _6_, _7_, _8_, _9_, _10_]\n",
    "```\n",
    "\n",
    "| **Element** | **Letter(ASCII)** | **Letter(ASCII)** | **Letter(ASCII)** | **Sum** | **Reminder** |\n",
    "| :- | :-: | :-: | :-: | :-: | :-: |\n",
    "| Mia | M(77) | i(105) | a(97) | 279 | 4\n",
    "| Tim | T(84) | i(105) | m(109) | 298 | 1\n",
    "| Bea | B(66) | e(101) | a(97) | 264 | 0\n",
    "| Zoe | Z(90) | o(111) | e(101) | 302 | 5\n",
    "| Jan | J(74) | a(97) | n(110) | 281 | 6\n",
    "| Ada | A(65) | d(100) | a(97) | 262 | 9\n",
    "| Leo | L(76) | e(101) | o(111) | 288 | 2\n",
    "| Sam | S(83) | a(97) | m(109) | 289 | 3\n",
    "| Lou | L(76) | o(111) | u(117) | 304 | 7\n",
    "| Max | M(77) | a(97) | x(120) | 294 | 8\n",
    "\n",
    "```python\n",
    "[Bea, Tim, Leo, Sam, Mia, Zoe, Jan, Lou, Max, Ada, Ted]\n",
    "```"
   ]
  },
  {
   "cell_type": "code",
   "execution_count": 2,
   "metadata": {},
   "outputs": [
    {
     "data": {
      "text/plain": [
       "66"
      ]
     },
     "execution_count": 2,
     "metadata": {},
     "output_type": "execute_result"
    }
   ],
   "source": [
    "ord('B')"
   ]
  },
  {
   "cell_type": "code",
   "execution_count": 3,
   "metadata": {},
   "outputs": [
    {
     "name": "stdout",
     "output_type": "stream",
     "text": [
      "Mia --> 4\n",
      "Tim --> 1\n",
      "Bea --> 0\n",
      "Zoe --> 5\n",
      "Jan --> 6\n",
      "Ada --> 9\n",
      "Leo --> 2\n",
      "Sam --> 3\n",
      "Lou --> 7\n",
      "Max --> 8\n",
      "Ted --> 10\n"
     ]
    }
   ],
   "source": [
    "def calc_hash(name):\n",
    "    \n",
    "    ascii_sum = sum([ord(char) for char in name])\n",
    "    \n",
    "    return ascii_sum\n",
    "\n",
    "names = [\"Mia\", \"Tim\", \"Bea\", \"Zoe\", \"Jan\", \"Ada\", \"Leo\", \"Sam\", \"Lou\", \"Max\", \"Ted\"]\n",
    "\n",
    "for name in names:\n",
    "    print(name, '-->', (calc_hash(name) % len(names)))\n"
   ]
  },
  {
   "cell_type": "markdown",
   "metadata": {},
   "source": [
    "Let's retrieve an item: **Ada**\n",
    "\n",
    "index = 262 Mod 11 = 9 --> **Fast Array Look up**\n",
    "\n",
    "Rather than finding individual items of data, hash tables are often used to store key value pairs.\n",
    "\n",
    "For example, **Ada** would be the **key** (which would be used to calcualte the index) and her **date of birth**, the corresponding value. By populating the value with an object, you can store as much related data as you like for each key.\n",
    "\n",
    "**Hash table of key value pairs is sometimes referred to as a hash map.** A hashing algorithm also known as hash function is the calculation applied to a key which may be a very large number or a very long string to transform it into a relatively small index number that corresponds to a position in the hash table."
   ]
  },
  {
   "cell_type": "markdown",
   "metadata": {},
   "source": [
    "<a id='Hashing_Algorithm'></a>\n",
    "### Hashing Algorithm\n",
    "\n",
    "- Calcualtion applied to a key to transform it into an address.\n",
    "- For numeric keys, divide the key by the number of available addresses, n, and take the remainder.\n",
    "- For alphanumeric keys, divide the sum of ASCII codes in a key by the number of available addresses, n, and take the remainder.\n",
    "\n",
    "Folding method divides key into equal parts then adds the part together.\n",
    "\n",
    "- The telephone number 01452 8345654, becomes 01 + 45 + 28 + 34 + 56 + 54 = 218\n",
    "- Depending on size of table, may then divide by some constant and take remainder."
   ]
  },
  {
   "cell_type": "markdown",
   "metadata": {},
   "source": [
    "<a id='Collisions'></a>\n",
    "### Collisions\n",
    "\n",
    "You've seen how to load up a hash table with data that very conveniently didn't cause any problems. Needless to say, that was unrealistic. Sometimes if you apply a hash function to 2 different keys, it generates the same index number for both. This is known as collision.\n",
    "\n",
    "Let's try the previous example but this time with a different set of data:\n",
    "\n",
    "```python\n",
    "[\"Mia\", \"Tim\", \"Bea\", \"Zoe\", \"Sue\", \"Len\", \"Moe\", \"Lou\", \"Rae\", \"Max\", \"Tod\"]\n",
    "```"
   ]
  },
  {
   "cell_type": "code",
   "execution_count": 4,
   "metadata": {},
   "outputs": [
    {
     "name": "stdout",
     "output_type": "stream",
     "text": [
      "Mia --->  4\n",
      "Tim --->  1\n",
      "Bea --->  0\n",
      "Zoe --->  5\n",
      "Sue --->  4\n",
      "Len --->  1\n",
      "Moe --->  3\n",
      "Lou --->  7\n",
      "Rae --->  5\n",
      "Max --->  8\n",
      "Tod --->  9\n"
     ]
    }
   ],
   "source": [
    "names = [\"Mia\", \"Tim\", \"Bea\", \"Zoe\", \"Sue\", \"Len\", \"Moe\", \"Lou\", \"Rae\", \"Max\", \"Tod\"]\n",
    "\n",
    "for name in names:\n",
    "    print(name, '---> ', (calc_hash(name) % len(names)))"
   ]
  },
  {
   "cell_type": "markdown",
   "metadata": {},
   "source": [
    "<a id='Open_Addressing'></a>\n",
    "### Open Addressing\n",
    "\n",
    "1. ```python\n",
    "[_0_, _1_, _2_, _3_, \"Mia\", _5_, _6_, _7_, _8_, _9_, _10_]\n",
    "```\n",
    "2. ```python\n",
    "[_0_, \"Tim\", _2_, _3_, \"Mia\", _5_, _6_, _7_, _8_, _9_, _10_]\n",
    "```\n",
    "3. ```python\n",
    "[\"Bea\", \"Tim\", _2_, _3_, \"Mia\", _5_, _6_, _7_, _8_, _9_, _10_]\n",
    "```\n",
    "4. ```python\n",
    "[\"Bea\", \"Tim\", _2_, _3_, \"Mia\", \"Zoe\", _6_, _7_, _8_, _9_, _10_]\n",
    "```\n",
    "5. ```python\n",
    "[\"Bea\", \"Tim\", _2_, _3_, \"Mia\", \"Zoe\", \"Sue\", _7_, _8_, _9_, _10_] #Collision\n",
    "```\n",
    "6. ```python\n",
    "[\"Bea\", \"Tim\", \"Len\", _3_, \"Mia\", \"Zoe\", \"Sue\", _7_, _8_, _9_, _10_] #Collision\n",
    "```\n",
    "7. ```python\n",
    "[\"Bea\", \"Tim\", \"Len\", \"Moe\", \"Mia\", \"Zoe\", \"Sue\", _7_, _8_, _9_, _10_]\n",
    "```\n",
    "8. ```python\n",
    "[\"Bea\", \"Tim\", \"Len\", \"Moe\", \"Mia\", \"Zoe\", \"Sue\", \"Lou\", _8_, _9_, _10_] #Collision\n",
    "```\n",
    "9. ```python\n",
    "[\"Bea\", \"Tim\", \"Len\", \"Moe\", \"Mia\", \"Zoe\", \"Sue\", \"Lou\", \"Rae\", _9_, _10_] #Collision\n",
    "```\n",
    "10. ```python\n",
    "[\"Bea\", \"Tim\", \"Len\", \"Moe\", \"Mia\", \"Zoe\", \"Sue\", \"Lou\", \"Rae\", \"Max\", _10_] #Collision\n",
    "```\n",
    "11. ```python\n",
    "[\"Bea\", \"Tim\", \"Len\", \"Moe\", \"Mia\", \"Zoe\", \"Sue\", \"Lou\", \"Rae\", \"Max\", \"Tod\"] #Collision\n",
    "```\n",
    "\n",
    "Resolving a colllision by placing an item somewhere other than it's calculated address is called **Open Addressing** because every location is open to any item. Open addressing can use a variety of techniques to decide where to place an item that doesn't go where it should.\n",
    "\n",
    "This particular open addressing techniques used above is called linear probing. If the calculated address is occupied, then a liner search is used to find the next available slot. If it goes to the end of the array and still does not find an empty space, it may cycle around to the beginning of the array and continue searching from there.\n",
    "\n",
    "**With the presence of collision, finding an item may need linear probing too, that is linear search.**\n",
    "\n",
    "One way to avoid collision is to make the array addresses biger that the total amount of data you're expecting, perhaps such that only 70% of the hash table is ever occupied.\n",
    "\n",
    "$\\text{Load Factor} = \\frac{\\text{Total number of items stored}}{\\text{Size of the array}}$\n",
    "\n",
    "**Note**: If the hash table is implemented as a resizable dynamic data structure, it could be made to increase in size automatically when the load factor reaches a certain threshold."
   ]
  },
  {
   "cell_type": "markdown",
   "metadata": {},
   "source": [
    "#### Collision Resolution\n",
    "\n",
    "- Linear probing\n",
    "- Plus 3 rehash\n",
    "- Quadratic probing (failed attempts)^2\n",
    "- Double rehashing"
   ]
  },
  {
   "cell_type": "markdown",
   "metadata": {},
   "source": [
    "<a id='Closed_Addressing'></a>\n",
    "###  Closed Addressing\n",
    "\n",
    "Another way to deal with collisions is known as chaining sometimes referred to as **closed addressing**.\n",
    "\n",
    "What we have here for \"Tim\" is a pointer to the first node of a linked list.\n",
    "\n",
    "![closed](./images/closed_addressing.png)\n",
    "\n",
    "To search this hash table you can calculate the index as before to locate the correct element, then use a standard linked list traversal to find what you are looking for."
   ]
  },
  {
   "cell_type": "markdown",
   "metadata": {},
   "source": [
    "<a id='Objective_of_Hash_Function'></a>\n",
    "### Objective of Hash Function\n",
    "\n",
    "If you know all the keys in advance, it's theoretically possible to come up with a perfect hash function. One that will produce a unique index for each and every data item. More often than not, you need a more flexible hash table.\n",
    "\n",
    "So when choosing a hash function, there are some objectives to bear in mind:\n",
    "\n",
    "- Minimize collisions\n",
    "- Uniform distribution of hash values\n",
    "- Easy to calculate\n",
    "- Resolve any collisions"
   ]
  },
  {
   "cell_type": "markdown",
   "metadata": {},
   "source": [
    "<a id='Summary'></a>\n",
    "### Summary\n",
    "\n",
    "- Hash tables are used to index large amounts of data.\n",
    "- Address of each key calculated using the key itself.\n",
    "- Collisions are resolved with open or closed addressing.\n",
    "- Hashing is widely used in database indexing, compilers, caching, password authentication, and more.\n",
    "- Insertion, deletion, and retrieval occur in constant time.\n",
    "\n",
    "**Read More**: [Steps of converting a string to Hash](https://www.metamorphosite.com/one-way-hash-encryption-sha1-data-software)"
   ]
  },
  {
   "cell_type": "markdown",
   "metadata": {},
   "source": [
    "<a id='Cryptographic_Hash_Function'></a>\n",
    "## Cryptographic Hash Function"
   ]
  },
  {
   "cell_type": "markdown",
   "metadata": {},
   "source": [
    "A cryptographic hash function is an algorithm that takes an arbitrary amount of data input—a credential—and produces a fixed-size output of enciphered text called a hash value, or just “hash.” That enciphered text can then be stored instead of the password itself, and later used to verify the user.\n",
    "\n",
    "- Python Library: [hashlib](https://docs.python.org/3/library/hashlib.html)\n",
    "- [Online **Sha256** hash calculator](https://emn178.github.io/online-tools/sha256.html)"
   ]
  },
  {
   "cell_type": "code",
   "execution_count": 1,
   "metadata": {},
   "outputs": [],
   "source": [
    "import hashlib"
   ]
  },
  {
   "cell_type": "code",
   "execution_count": 2,
   "metadata": {},
   "outputs": [
    {
     "data": {
      "text/plain": [
       "'8d969eef6ecad3c29a3a629280e686cf0c3f5d5a86aff3ca12020c923adc6c92'"
      ]
     },
     "execution_count": 2,
     "metadata": {},
     "output_type": "execute_result"
    }
   ],
   "source": [
    "hashlib.sha256(b\"123456\").hexdigest()"
   ]
  },
  {
   "cell_type": "markdown",
   "metadata": {},
   "source": [
    "Certain properties of cryptographic hash functions impact the security of password storage.\n",
    "\n",
    "- **Non-reversibility**, or one-way function. A good hash should make it very hard to reconstruct the original password from the output or hash.\n",
    "- **Diffusion**, or avalanche effect. A change in just one bit of the original password should result in change to half the bits of its hash. In other words, when a password is changed slightly, the output of enciphered text should change significantly and unpredictably.\n",
    "- **Determinism**. A given password must always generate the same hash value or enciphered text.\n",
    "- **Collision resistance**. It should be hard to find two different passwords that hash to the same enciphered text. Non-predictable. The hash value should not be predictable from the password.\n",
    "\n",
    "[Read More](https://en.wikipedia.org/wiki/Secure_Hash_Algorithms)"
   ]
  },
  {
   "cell_type": "code",
   "execution_count": null,
   "metadata": {},
   "outputs": [],
   "source": []
  }
 ],
 "metadata": {
  "kernelspec": {
   "display_name": "Python 3",
   "language": "python",
   "name": "python3"
  },
  "language_info": {
   "codemirror_mode": {
    "name": "ipython",
    "version": 3
   },
   "file_extension": ".py",
   "mimetype": "text/x-python",
   "name": "python",
   "nbconvert_exporter": "python",
   "pygments_lexer": "ipython3",
   "version": "3.8.2"
  }
 },
 "nbformat": 4,
 "nbformat_minor": 5
}
