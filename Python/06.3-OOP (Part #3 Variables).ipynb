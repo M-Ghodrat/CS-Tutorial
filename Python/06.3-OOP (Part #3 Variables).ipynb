{
 "cells": [
  {
   "cell_type": "markdown",
   "id": "sought-craft",
   "metadata": {},
   "source": [
    "# 06.3 OOP (Part #3: Variables)\n",
    "\n",
    "A class in python is defined as below:\n",
    "\n",
    "```python\n",
    "class NameOfClass():\n",
    "    # class object attribute\n",
    "    # same for any instance of a class\n",
    "    class_var = [] #\n",
    "\n",
    "    def __init__(self, param1, param2):\n",
    "        self.param1 = param1\n",
    "        self.param2 = param2\n",
    "\n",
    "        flag = True\n",
    "\n",
    "    def some_method(self):\n",
    "        local_var = 3\n",
    "        # perfome some action\n",
    "        pass\n",
    "```\n",
    "\n",
    "## Variables Scope\n",
    "\n",
    "There are 3 types of variables here:\n",
    "\n",
    "- Class variables, [`class_var`] (**shared among all objects**)\n",
    "- Object variables [`self.param1`, `self.param2`]\n",
    "- Local variables [`flag` and `local_var`]\n",
    "\n",
    "**Notes:**\n",
    "\n",
    "- Attributes/Variables in the class are accessible through the instance.\n",
    "- Instance attributes are also accessible by the instance.\n",
    "- When we use the syntax object.attribute, we're asking Python to look up the attribute:\n",
    "    - First in the instance\n",
    "    - Then in the class\n",
    "- Method calls through the instance follow this lookup.\n",
    "\n",
    "## Variables Access\n",
    "\n",
    "Variables can also be categorized in these categories:\n",
    "\n",
    "- Public\n",
    "- Private\n",
    "- Protected\n",
    "\n",
    "\n",
    "### Public Variable"
   ]
  },
  {
   "cell_type": "code",
   "execution_count": 2,
   "id": "antique-community",
   "metadata": {},
   "outputs": [],
   "source": [
    "class employee:\n",
    "    def __init__(self, name, sal):\n",
    "        self.name = name\n",
    "        self.salary = sal"
   ]
  },
  {
   "cell_type": "markdown",
   "id": "frequent-complement",
   "metadata": {},
   "source": [
    "### Protected Variable"
   ]
  },
  {
   "cell_type": "code",
   "execution_count": 3,
   "id": "collective-fireplace",
   "metadata": {},
   "outputs": [],
   "source": [
    "class employee:\n",
    "    def __init__(self, name, sal):\n",
    "        self._name = name  # protected attribute\n",
    "        self._salary = sal # protected attribute"
   ]
  },
  {
   "cell_type": "markdown",
   "id": "latin-wrong",
   "metadata": {},
   "source": [
    "In fact, this doesn't prevent instance variables from accessing or modifyingthe instance. You can still perform the following operations:"
   ]
  },
  {
   "cell_type": "code",
   "execution_count": 5,
   "id": "reduced-qatar",
   "metadata": {},
   "outputs": [],
   "source": [
    "e1 = employee(\"Swati\", 10000)"
   ]
  },
  {
   "cell_type": "code",
   "execution_count": 6,
   "id": "desperate-laser",
   "metadata": {},
   "outputs": [
    {
     "data": {
      "text/plain": [
       "10000"
      ]
     },
     "execution_count": 6,
     "metadata": {},
     "output_type": "execute_result"
    }
   ],
   "source": [
    "e1._salary"
   ]
  },
  {
   "cell_type": "code",
   "execution_count": 8,
   "id": "third-germany",
   "metadata": {},
   "outputs": [],
   "source": [
    "e1._salary = 20000"
   ]
  },
  {
   "cell_type": "code",
   "execution_count": 9,
   "id": "postal-coalition",
   "metadata": {},
   "outputs": [
    {
     "data": {
      "text/plain": [
       "20000"
      ]
     },
     "execution_count": 9,
     "metadata": {},
     "output_type": "execute_result"
    }
   ],
   "source": [
    "e1._salary"
   ]
  },
  {
   "cell_type": "markdown",
   "id": "protected-appeal",
   "metadata": {},
   "source": [
    "### Private Variable\n",
    "\n",
    "A double underscore __ prefixed to a variable makes it private. It gives a strong suggestion not to touch it from outside the class. Any attempt to do so will result in an AttributeError.\n",
    "\n",
    "Double underscore will mangle the attribute names of a class to avoid conflicts of attribute names between classes"
   ]
  },
  {
   "cell_type": "code",
   "execution_count": 10,
   "id": "equal-monkey",
   "metadata": {},
   "outputs": [],
   "source": [
    "class Employee:\n",
    "    def __init__(self, name, sal):\n",
    "        self.__name = name\n",
    "        self.__salary = sal"
   ]
  },
  {
   "cell_type": "code",
   "execution_count": 12,
   "id": "contemporary-texture",
   "metadata": {},
   "outputs": [],
   "source": [
    "e1 = Employee(\"Bill\",10000)"
   ]
  },
  {
   "cell_type": "code",
   "execution_count": 13,
   "id": "continuous-spanking",
   "metadata": {},
   "outputs": [
    {
     "ename": "AttributeError",
     "evalue": "'Employee' object has no attribute '__salary'",
     "output_type": "error",
     "traceback": [
      "\u001b[0;31m---------------------------------------------------------------------------\u001b[0m",
      "\u001b[0;31mAttributeError\u001b[0m                            Traceback (most recent call last)",
      "\u001b[0;32m<ipython-input-13-f90054552aba>\u001b[0m in \u001b[0;36m<module>\u001b[0;34m\u001b[0m\n\u001b[0;32m----> 1\u001b[0;31m \u001b[0me1\u001b[0m\u001b[0;34m.\u001b[0m\u001b[0m__salary\u001b[0m\u001b[0;34m\u001b[0m\u001b[0;34m\u001b[0m\u001b[0m\n\u001b[0m",
      "\u001b[0;31mAttributeError\u001b[0m: 'Employee' object has no attribute '__salary'"
     ]
    }
   ],
   "source": [
    "e1.__salary"
   ]
  },
  {
   "cell_type": "markdown",
   "id": "tight-defeat",
   "metadata": {},
   "source": [
    "Every member with double underscore will be changed to `_object._class__variable`. If so required, it can still be accessed from outside the class, but the practice should be refrained."
   ]
  },
  {
   "cell_type": "code",
   "execution_count": 15,
   "id": "found-moses",
   "metadata": {},
   "outputs": [],
   "source": [
    "e1 = Employee(\"Bill\",10000)"
   ]
  },
  {
   "cell_type": "code",
   "execution_count": 16,
   "id": "ranging-sheriff",
   "metadata": {},
   "outputs": [
    {
     "data": {
      "text/plain": [
       "10000"
      ]
     },
     "execution_count": 16,
     "metadata": {},
     "output_type": "execute_result"
    }
   ],
   "source": [
    "e1._Employee__salary"
   ]
  },
  {
   "cell_type": "code",
   "execution_count": 17,
   "id": "exciting-colon",
   "metadata": {},
   "outputs": [],
   "source": [
    "e1._Employee__salary = 20000"
   ]
  },
  {
   "cell_type": "code",
   "execution_count": 18,
   "id": "awful-animal",
   "metadata": {},
   "outputs": [
    {
     "data": {
      "text/plain": [
       "20000"
      ]
     },
     "execution_count": 18,
     "metadata": {},
     "output_type": "execute_result"
    }
   ],
   "source": [
    "e1._Employee__salary"
   ]
  },
  {
   "cell_type": "markdown",
   "id": "noble-harris",
   "metadata": {},
   "source": [
    "**Note:** __ Double leading and Double trailing underscores __\n",
    "\n",
    "There’s another case of double leading and trailing underscores. We follow this while using special variables or methods (called “magic method”) such as **len**, **init**. These methods provide special syntactic features to the names. For example, **file** indicates the location of the Python file, **eq** is executed when a == b expression is executed"
   ]
  },
  {
   "cell_type": "code",
   "execution_count": null,
   "id": "intellectual-coverage",
   "metadata": {},
   "outputs": [],
   "source": []
  }
 ],
 "metadata": {
  "kernelspec": {
   "display_name": "Python 3",
   "language": "python",
   "name": "python3"
  },
  "language_info": {
   "codemirror_mode": {
    "name": "ipython",
    "version": 3
   },
   "file_extension": ".py",
   "mimetype": "text/x-python",
   "name": "python",
   "nbconvert_exporter": "python",
   "pygments_lexer": "ipython3",
   "version": "3.7.9"
  }
 },
 "nbformat": 4,
 "nbformat_minor": 5
}
