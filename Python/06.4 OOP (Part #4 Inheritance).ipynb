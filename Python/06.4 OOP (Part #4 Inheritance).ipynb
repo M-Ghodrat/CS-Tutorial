{
 "cells": [
  {
   "cell_type": "markdown",
   "id": "beautiful-apple",
   "metadata": {},
   "source": [
    "# 07.4 OOP (Part #4: Inheritance)\n",
    "\n",
    "**Inheritance** models what is called a **relationship**. This means that when you have a **Derived** or **Child** class that inherits from a **Base** or **Parent** class, you created a relationship where **Derived** or **Child** is a specialized version of **Base** or **Parent**, meaning one class takes on the attributes and methods of another.\n",
    "\n",
    "Child classes can override or extend the attributes and methods of parent classes. In other words, child classes inherit all of the parent’s attributes and methods but can also specify attributes and methods that are unique to themselves.\n",
    "\n",
    "**Note:** In an inheritance relationship:\n",
    "\n",
    "- Classes that inherit from another are called derived classes, subclasses, or subtypes.\n",
    "- Classes from which other classes are derived are called base classes or super classes.\n",
    "- A derived class is said to derive, inherit, or extend a base class."
   ]
  },
  {
   "cell_type": "markdown",
   "id": "accredited-watts",
   "metadata": {},
   "source": [
    "## Analogy\n",
    "\n",
    "Although the analogy isn’t perfect, you can think of object inheritance sort of like genetic inheritance.\n",
    "\n",
    "You may have inherited your hair color from your mother. It’s an attribute you were born with. Let’s say you decide to color your hair purple. Assuming your mother doesn’t have purple hair, you’ve just **overridden** the hair color attribute that you inherited from your mom.\n",
    "\n",
    "You also inherit, in a sense, your language from your parents. If your parents speak English, then you’ll also speak English. Now imagine you decide to learn a second language, like German. In this case you’ve **extended** your attributes because you’ve added an attribute that your parents don’t have."
   ]
  },
  {
   "cell_type": "markdown",
   "id": "liked-commerce",
   "metadata": {},
   "source": [
    "## Inheritance in Python\n",
    "\n",
    "Inheritance is a required feature of every object oriented programming language. This means that Python supports inheritance, and as you’ll see later, it’s one of the few languages that supports multiple inheritance.\n",
    "\n",
    "![shape](#shape)\n"
   ]
  },
  {
   "cell_type": "code",
   "execution_count": 18,
   "id": "sweet-royalty",
   "metadata": {},
   "outputs": [],
   "source": [
    "class Shape:\n",
    "    shape_id = 0\n",
    "    \n",
    "    def __init__(self, color='Black'):\n",
    "        print(\"Shape constructor called!\")\n",
    "        self.color = color\n",
    "        \n",
    "    def __str__(self, ):\n",
    "        return f\"Shape is {self.color}\""
   ]
  },
  {
   "cell_type": "code",
   "execution_count": 3,
   "id": "metropolitan-friend",
   "metadata": {},
   "outputs": [],
   "source": [
    "class Rectangle(Shape):\n",
    "    def __init__(self, width, height, color='Black'):\n",
    "        # You can also type `super(Rectangle, self)`\n",
    "        super().__init__(color)\n",
    "\n",
    "        print(\"Rectangle constructor called!\")\n",
    "        self.width = width\n",
    "        self.height = height\n",
    "        \n",
    "    def area(self,):\n",
    "        return self.width * self.height\n",
    "    \n",
    "    def perimeter(self,):\n",
    "        return 2 * self.width + 2 * self.height \n",
    "    \n",
    "    def __str__(self,):\n",
    "        return f\"Rectangle is {self.color}\""
   ]
  },
  {
   "cell_type": "markdown",
   "id": "adverse-offset",
   "metadata": {},
   "source": [
    "Class Rectangle is **overriding** `__init__` method and **extending** Shape class by adding area and perimeter methods."
   ]
  },
  {
   "cell_type": "code",
   "execution_count": 4,
   "id": "native-restoration",
   "metadata": {},
   "outputs": [
    {
     "name": "stdout",
     "output_type": "stream",
     "text": [
      "Shape constructor called!\n",
      "Shape is Black\n"
     ]
    }
   ],
   "source": [
    "shape = Shape()\n",
    "print(shape)"
   ]
  },
  {
   "cell_type": "code",
   "execution_count": 6,
   "id": "sealed-christmas",
   "metadata": {},
   "outputs": [
    {
     "name": "stdout",
     "output_type": "stream",
     "text": [
      "Shape constructor called!\n",
      "Rectangle constructor called!\n",
      "Rectangle is Blue\n"
     ]
    }
   ],
   "source": [
    "r = Rectangle(3, 5, \"Blue\")\n",
    "print(r)"
   ]
  },
  {
   "cell_type": "code",
   "execution_count": 7,
   "id": "becoming-rider",
   "metadata": {},
   "outputs": [
    {
     "data": {
      "text/plain": [
       "(15, 16)"
      ]
     },
     "execution_count": 7,
     "metadata": {},
     "output_type": "execute_result"
    }
   ],
   "source": [
    "r.area(), r.perimeter()"
   ]
  },
  {
   "cell_type": "markdown",
   "id": "inside-railway",
   "metadata": {},
   "source": [
    "### What is `super()`?\n",
    "\n",
    "You can access the parent class from inside a method of a child class by using `super()`.\n",
    "\n",
    "`super()` alone returns a temporary object of the superclass that then allows you to call that superclass’s methods."
   ]
  },
  {
   "cell_type": "code",
   "execution_count": 8,
   "id": "supported-norman",
   "metadata": {},
   "outputs": [
    {
     "name": "stdout",
     "output_type": "stream",
     "text": [
      "Shape constructor called!\n"
     ]
    }
   ],
   "source": [
    "super(Rectangle, r).__init__()"
   ]
  },
  {
   "cell_type": "markdown",
   "id": "synthetic-tutorial",
   "metadata": {},
   "source": [
    "The `super(Rectangle, self)` call is equivalent to the parameterless `super()` call inside the class. The first parameter refers to the subclass Rectangle, while the second parameter refers to a Rectangel object which, in this case, is `self`."
   ]
  },
  {
   "cell_type": "markdown",
   "id": "corrected-blend",
   "metadata": {},
   "source": [
    "### Nested Inheritance\n",
    "\n",
    "You now have overriden `__str__` and extended area and perimeter functionalities.\n",
    "\n",
    "Let's create Square class inheriting from `Rectangle`.\n",
    "\n",
    "![shape](#shape)"
   ]
  },
  {
   "cell_type": "code",
   "execution_count": 9,
   "id": "applicable-newport",
   "metadata": {},
   "outputs": [],
   "source": [
    "class Square(Rectangle):\n",
    "    def __init__(self, width, color='Black'):\n",
    "        super().__init__(width, width, color)"
   ]
  },
  {
   "cell_type": "code",
   "execution_count": 10,
   "id": "domestic-recommendation",
   "metadata": {},
   "outputs": [
    {
     "name": "stdout",
     "output_type": "stream",
     "text": [
      "Shape constructor called!\n",
      "Rectangle constructor called!\n",
      "Rectangle is Red\n"
     ]
    }
   ],
   "source": [
    "s = Square(5, \"Red\")\n",
    "print(s)"
   ]
  },
  {
   "cell_type": "markdown",
   "id": "prerequisite-imagination",
   "metadata": {},
   "source": [
    "You can also create another class (for example `Circle`) inheriting from `Shape`.\n",
    "\n",
    "Now Shape class has two child classes (`Circle` and `Rectangle`)\n",
    "\n",
    "![shape](#shape)"
   ]
  },
  {
   "cell_type": "code",
   "execution_count": 11,
   "id": "surface-rabbit",
   "metadata": {},
   "outputs": [],
   "source": [
    "class Circle(Shape):\n",
    "    def __init__(self, r, color='Black'):\n",
    "        super().__init__(color)\n",
    "        self.r = r\n",
    "        \n",
    "    def area(self,):\n",
    "        return 3.14 * self.r * self.r\n",
    "    \n",
    "    def perimeter(self,):\n",
    "        return 2 * 3.14 * self.r"
   ]
  },
  {
   "cell_type": "code",
   "execution_count": 12,
   "id": "velvet-pipeline",
   "metadata": {},
   "outputs": [
    {
     "name": "stdout",
     "output_type": "stream",
     "text": [
      "Shape constructor called!\n",
      "Shape is Black\n"
     ]
    }
   ],
   "source": [
    "c = Circle(3)\n",
    "print(c)"
   ]
  },
  {
   "cell_type": "code",
   "execution_count": 14,
   "id": "lined-finland",
   "metadata": {},
   "outputs": [
    {
     "data": {
      "text/plain": [
       "(28.259999999999998, 18.84)"
      ]
     },
     "execution_count": 14,
     "metadata": {},
     "output_type": "execute_result"
    }
   ],
   "source": [
    "c.area(), c.perimeter()"
   ]
  },
  {
   "cell_type": "code",
   "execution_count": null,
   "id": "fantastic-budapest",
   "metadata": {},
   "outputs": [],
   "source": []
  },
  {
   "cell_type": "markdown",
   "id": "focal-syntax",
   "metadata": {},
   "source": [
    "### `issubclass() & isinstance()`\n",
    "Two built-in functions `isinstance()` and `issubclass()` are used to check inheritances. Function `isinstance()` returns True if the object is an instance of the class or other classes derived from it. Each and every class in Python inherits from the base class object.\n",
    "\n",
    "```python\n",
    "issubclass(derived, base)       # returns True\n",
    "issubclass(base, drived)        # returns False\n",
    "\n",
    "isinstance(object, derived)     # returns True\n",
    "isinstance(object, base)        # returns True\n",
    "```"
   ]
  },
  {
   "cell_type": "code",
   "execution_count": 15,
   "id": "measured-denver",
   "metadata": {},
   "outputs": [
    {
     "data": {
      "text/plain": [
       "(True, True)"
      ]
     },
     "execution_count": 15,
     "metadata": {},
     "output_type": "execute_result"
    }
   ],
   "source": [
    "isinstance(s, Square), isinstance(s, Rectangle)"
   ]
  },
  {
   "cell_type": "code",
   "execution_count": 16,
   "id": "appointed-latter",
   "metadata": {},
   "outputs": [
    {
     "data": {
      "text/plain": [
       "(True, False)"
      ]
     },
     "execution_count": 16,
     "metadata": {},
     "output_type": "execute_result"
    }
   ],
   "source": [
    "isinstance(r, Rectangle), isinstance(r, Square)"
   ]
  },
  {
   "cell_type": "code",
   "execution_count": 18,
   "id": "established-bandwidth",
   "metadata": {},
   "outputs": [
    {
     "data": {
      "text/plain": [
       "(True, True, False)"
      ]
     },
     "execution_count": 18,
     "metadata": {},
     "output_type": "execute_result"
    }
   ],
   "source": [
    "issubclass(Square, Rectangle), issubclass(Rectangle, Shape), issubclass(Rectangle, Square)"
   ]
  },
  {
   "cell_type": "markdown",
   "id": "missing-pacific",
   "metadata": {},
   "source": [
    "**Note:** Every class that you create in Python will implicitly derive from object (except `exceptions`)\n",
    "\n",
    "You can define any class inheriting from object:\n",
    "\n",
    "```python\n",
    "class myclass(object):\n",
    "    pass\n",
    "```"
   ]
  },
  {
   "cell_type": "code",
   "execution_count": 19,
   "id": "liked-electricity",
   "metadata": {},
   "outputs": [
    {
     "data": {
      "text/plain": [
       "True"
      ]
     },
     "execution_count": 19,
     "metadata": {},
     "output_type": "execute_result"
    }
   ],
   "source": [
    "issubclass(Rectangle, object)"
   ]
  },
  {
   "cell_type": "code",
   "execution_count": 20,
   "id": "lesser-panel",
   "metadata": {},
   "outputs": [
    {
     "data": {
      "text/plain": [
       "True"
      ]
     },
     "execution_count": 20,
     "metadata": {},
     "output_type": "execute_result"
    }
   ],
   "source": [
    "issubclass(Shape, object)"
   ]
  },
  {
   "cell_type": "markdown",
   "id": "restricted-economics",
   "metadata": {},
   "source": [
    "## Exceptions Inheritance (Exceptions are an Exception)\n",
    "\n",
    "\n",
    "Every class that you create in Python will implicitly derive from object. The exception to this rule are classes used to indicate errors by raising an exception."
   ]
  },
  {
   "cell_type": "code",
   "execution_count": 21,
   "id": "previous-flight",
   "metadata": {},
   "outputs": [
    {
     "ename": "TypeError",
     "evalue": "exceptions must derive from BaseException",
     "output_type": "error",
     "traceback": [
      "\u001b[0;31m---------------------------------------------------------------------------\u001b[0m",
      "\u001b[0;31mTypeError\u001b[0m                                 Traceback (most recent call last)",
      "\u001b[0;32m<ipython-input-21-27957d5a1b1b>\u001b[0m in \u001b[0;36m<module>\u001b[0;34m\u001b[0m\n\u001b[1;32m      2\u001b[0m     \u001b[0;32mpass\u001b[0m\u001b[0;34m\u001b[0m\u001b[0;34m\u001b[0m\u001b[0m\n\u001b[1;32m      3\u001b[0m \u001b[0;34m\u001b[0m\u001b[0m\n\u001b[0;32m----> 4\u001b[0;31m \u001b[0;32mraise\u001b[0m \u001b[0mMyError\u001b[0m\u001b[0;34m(\u001b[0m\u001b[0;34m)\u001b[0m\u001b[0;34m\u001b[0m\u001b[0;34m\u001b[0m\u001b[0m\n\u001b[0m",
      "\u001b[0;31mTypeError\u001b[0m: exceptions must derive from BaseException"
     ]
    }
   ],
   "source": [
    "class MyError:\n",
    "    pass\n",
    "\n",
    "raise MyError()"
   ]
  },
  {
   "cell_type": "markdown",
   "id": "canadian-ecuador",
   "metadata": {},
   "source": [
    "You created a new class to indicate a type of error. Then you tried to use it to raise an exception. An exception is raised but the output states that the exception is of type `TypeError` not `MyError` and that all exceptions must derive from `BaseException`.\n",
    "\n",
    "BaseException is a base class provided for all error types. To create a new error type, you must derive your class from `BaseException` or one of its derived classes. The convention in Python is to derive your custom error types from `Exception`, which in turn derives from `BaseException`."
   ]
  },
  {
   "cell_type": "code",
   "execution_count": 22,
   "id": "acceptable-analyst",
   "metadata": {},
   "outputs": [
    {
     "ename": "MyError",
     "evalue": "",
     "output_type": "error",
     "traceback": [
      "\u001b[0;31m---------------------------------------------------------------------------\u001b[0m",
      "\u001b[0;31mMyError\u001b[0m                                   Traceback (most recent call last)",
      "\u001b[0;32m<ipython-input-22-ea4de7be0979>\u001b[0m in \u001b[0;36m<module>\u001b[0;34m\u001b[0m\n\u001b[1;32m      2\u001b[0m     \u001b[0;32mpass\u001b[0m\u001b[0;34m\u001b[0m\u001b[0;34m\u001b[0m\u001b[0m\n\u001b[1;32m      3\u001b[0m \u001b[0;34m\u001b[0m\u001b[0m\n\u001b[0;32m----> 4\u001b[0;31m \u001b[0;32mraise\u001b[0m \u001b[0mMyError\u001b[0m\u001b[0;34m(\u001b[0m\u001b[0;34m)\u001b[0m\u001b[0;34m\u001b[0m\u001b[0;34m\u001b[0m\u001b[0m\n\u001b[0m",
      "\u001b[0;31mMyError\u001b[0m: "
     ]
    }
   ],
   "source": [
    "class MyError(Exception):\n",
    "    pass\n",
    "\n",
    "raise MyError()"
   ]
  },
  {
   "cell_type": "markdown",
   "id": "young-healing",
   "metadata": {},
   "source": [
    "As you can see, when you raise MyError, the output correctly states the type of error raised"
   ]
  },
  {
   "cell_type": "markdown",
   "id": "minor-shakespeare",
   "metadata": {},
   "source": [
    "## Abstract Base Classes\n",
    "\n",
    "The Shape class in the example above is what is called an `abstract` base class. Abstract base classes exist to be inherited, but never instantiated. Python provides the abc module to define abstract base classes.\n",
    "\n",
    "You can use leading underscores in your class name to communicate that objects of that class should not be created. Underscores provide a friendly way to prevent misuse of your code, but they don’t prevent eager users from creating instances of that class.\n",
    "\n",
    "The abc module in the Python standard library provides functionality to prevent creating objects from abstract base classes. You can modify the implementation of the Shape class to ensure that it can’t be instantiated:"
   ]
  },
  {
   "cell_type": "code",
   "execution_count": 23,
   "id": "owned-engineer",
   "metadata": {},
   "outputs": [],
   "source": [
    "from abc import ABC, abstractmethod\n",
    "\n",
    "class Shape(ABC):\n",
    "    shape_id = 0\n",
    "    \n",
    "    def __init__(self, color='Black'):\n",
    "        print(\"Shape constructor called!\")\n",
    "        self.color = color\n",
    "        \n",
    "    def __str__(self, ):\n",
    "        return f\"Shape is {self.color}\"\n",
    "    \n",
    "    @abstractmethod\n",
    "    def area(self):\n",
    "        pass\n",
    "    \n",
    "    @abstractmethod\n",
    "    def perimeter(self):\n",
    "        pass"
   ]
  },
  {
   "cell_type": "markdown",
   "id": "wrong-suspect",
   "metadata": {},
   "source": [
    "You derive Shape from ABC, making it an abstract base class. Then, you decorate the `.area()` and `.perimeter()` methods with the `@abstractmethod` decorator (Decorators will be discussed later in another section).\n",
    "\n",
    "This change has two nice side-effects:\n",
    "\n",
    "1. You’re telling users of the module that objects of type Shape can’t be created.\n",
    "2. You’re telling other developers working on the other modules that if they derive from Shape, then they must override the `.area()` and `.perimeter()` abstract methods.\n",
    "\n",
    "You can see that objects of type Shape can’t be created:"
   ]
  },
  {
   "cell_type": "code",
   "execution_count": 24,
   "id": "continued-packing",
   "metadata": {},
   "outputs": [
    {
     "ename": "TypeError",
     "evalue": "Can't instantiate abstract class Shape with abstract methods area, perimeter",
     "output_type": "error",
     "traceback": [
      "\u001b[0;31m---------------------------------------------------------------------------\u001b[0m",
      "\u001b[0;31mTypeError\u001b[0m                                 Traceback (most recent call last)",
      "\u001b[0;32m<ipython-input-24-935910247ce1>\u001b[0m in \u001b[0;36m<module>\u001b[0;34m\u001b[0m\n\u001b[0;32m----> 1\u001b[0;31m \u001b[0mshape\u001b[0m \u001b[0;34m=\u001b[0m \u001b[0mShape\u001b[0m\u001b[0;34m(\u001b[0m\u001b[0;34m)\u001b[0m\u001b[0;34m\u001b[0m\u001b[0;34m\u001b[0m\u001b[0m\n\u001b[0m",
      "\u001b[0;31mTypeError\u001b[0m: Can't instantiate abstract class Shape with abstract methods area, perimeter"
     ]
    }
   ],
   "source": [
    "shape = Shape()"
   ]
  },
  {
   "cell_type": "markdown",
   "id": "stopped-oxide",
   "metadata": {},
   "source": [
    "The output shows that the class cannot be instantiated because it contains `.area()` and `.perimeter` abstract methods. Derived classes must override the method to allow creating objects of their type."
   ]
  },
  {
   "cell_type": "code",
   "execution_count": null,
   "id": "thorough-integration",
   "metadata": {},
   "outputs": [],
   "source": []
  }
 ],
 "metadata": {
  "kernelspec": {
   "display_name": "Python 3",
   "language": "python",
   "name": "python3"
  },
  "language_info": {
   "codemirror_mode": {
    "name": "ipython",
    "version": 3
   },
   "file_extension": ".py",
   "mimetype": "text/x-python",
   "name": "python",
   "nbconvert_exporter": "python",
   "pygments_lexer": "ipython3",
   "version": "3.7.9"
  }
 },
 "nbformat": 4,
 "nbformat_minor": 5
}
