{
 "cells": [
  {
   "cell_type": "code",
   "execution_count": 16,
   "id": "happy-webcam",
   "metadata": {},
   "outputs": [],
   "source": [
    "class  Point:\n",
    "    def __init__(self, x, y):\n",
    "        self.x = x\n",
    "        self.y = y\n",
    "        self.dist = x ** 2 + y ** 2"
   ]
  },
  {
   "cell_type": "code",
   "execution_count": 17,
   "id": "opening-academy",
   "metadata": {},
   "outputs": [
    {
     "data": {
      "text/plain": [
       "<__main__.Point at 0x7fb19f69ba90>"
      ]
     },
     "execution_count": 17,
     "metadata": {},
     "output_type": "execute_result"
    }
   ],
   "source": [
    "Point(1,2)"
   ]
  },
  {
   "cell_type": "code",
   "execution_count": 18,
   "id": "supported-louisiana",
   "metadata": {},
   "outputs": [],
   "source": [
    "def myfunc(point_list):\n",
    "    dist_list = []\n",
    "    for i in range(len(point_list)):\n",
    "        dist_list.append(point_list[i].dist)\n"
   ]
  },
  {
   "cell_type": "code",
   "execution_count": null,
   "id": "northern-microwave",
   "metadata": {},
   "outputs": [],
   "source": []
  }
 ],
 "metadata": {
  "kernelspec": {
   "display_name": "Python 3",
   "language": "python",
   "name": "python3"
  },
  "language_info": {
   "codemirror_mode": {
    "name": "ipython",
    "version": 3
   },
   "file_extension": ".py",
   "mimetype": "text/x-python",
   "name": "python",
   "nbconvert_exporter": "python",
   "pygments_lexer": "ipython3",
   "version": "3.7.9"
  }
 },
 "nbformat": 4,
 "nbformat_minor": 5
}
