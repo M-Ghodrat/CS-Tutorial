{
 "cells": [
  {
   "cell_type": "markdown",
   "id": "chronic-orientation",
   "metadata": {},
   "source": [
    "### Decode Nazis Messages\n",
    "\n",
    "German Nazis are using a system (Enigma) to encode their messages through transmission. We know that the system shifts every character with a constant number and all chracters are ASCII. For example with a `shift = 2`: \"abcde\" is encrypted to \"cdefg\"\n",
    "\n",
    "We also know that Germans put the phrase \"Heil Hitler\" in every encrypted message.\n",
    "\n",
    "1. Write a function that can decode a German message provided a constant shift. Write the decoded message in a `decoded.txt` file.\n",
    "2. What is the time and space complexity of decode function? what about your final code?"
   ]
  },
  {
   "cell_type": "code",
   "execution_count": 1,
   "id": "mature-continuity",
   "metadata": {},
   "outputs": [
    {
     "name": "stdout",
     "output_type": "stream",
     "text": [
      "Overwriting myfile.txt\n"
     ]
    }
   ],
   "source": [
    "%%writefile myfile.txt\n",
    "Pmqt(Pq|tmz4\u0012\u0012Qn(\u0001w}(izm(zmilqvo(|pq{(um{{iom4(q|(umiv{(|pi|(\u0001w}(pi~m(kziksml(w}z(kwlm({}kkm{{n}tt\u0001)\u0012\u0012[qvkmzmt\u00014\u00125(Vi\u0002q{"
   ]
  },
  {
   "cell_type": "code",
   "execution_count": 2,
   "id": "buried-relation",
   "metadata": {},
   "outputs": [],
   "source": [
    "with open(\"./myfile.txt\") as f:\n",
    "    content = f.readline()"
   ]
  },
  {
   "cell_type": "code",
   "execution_count": 3,
   "id": "opposed-replacement",
   "metadata": {},
   "outputs": [
    {
     "name": "stdout",
     "output_type": "stream",
     "text": [
      "Correct shift: 120 \n",
      "\n",
      "Heil Hitler,\n",
      "\n",
      "If you are reading this message, it means that you have cracked our code successfully!\n",
      "\n",
      "Sincerely,\n",
      "- Nazis\u0002\n"
     ]
    }
   ],
   "source": [
    "def decode(message, shift):\n",
    "    decode_message = ''\n",
    "    for word in message:\n",
    "        for char in word:\n",
    "            char_new = chr(int((ord(char) + shift) % 128) )\n",
    "            decode_message += char_new\n",
    "    return decode_message\n",
    "\n",
    "message = content\n",
    "\n",
    "for shift in range(128):\n",
    "    if \"Heil Hitler\" in decode(message, shift):\n",
    "        correct_shift = shift\n",
    "\n",
    "print('Correct shift:', correct_shift,'\\n')\n",
    "print(decode(message, correct_shift))"
   ]
  },
  {
   "cell_type": "markdown",
   "id": "cardiovascular-ending",
   "metadata": {},
   "source": [
    "Some useful commands:"
   ]
  },
  {
   "cell_type": "code",
   "execution_count": 12,
   "id": "postal-surge",
   "metadata": {},
   "outputs": [
    {
     "data": {
      "text/plain": [
       "['Pmqt(Pq|tmz4\\x12\\x12Qn(\\x01w}(izm(zmilqvo(|pq{(um{{iom4(q|(umiv{(|pi|(\\x01w}(pi~m(kziksml(w}z(kwlm({}kkm{{n}tt\\x01)\\x12\\x12[qvkmzmt\\x014\\x125(Vi\\x02q{']"
      ]
     },
     "execution_count": 12,
     "metadata": {},
     "output_type": "execute_result"
    }
   ],
   "source": [
    "message.split()"
   ]
  },
  {
   "cell_type": "code",
   "execution_count": 41,
   "id": "subjective-wellington",
   "metadata": {},
   "outputs": [
    {
     "data": {
      "text/plain": [
       "97"
      ]
     },
     "execution_count": 41,
     "metadata": {},
     "output_type": "execute_result"
    }
   ],
   "source": [
    "ord('a')"
   ]
  },
  {
   "cell_type": "code",
   "execution_count": 42,
   "id": "metropolitan-entrance",
   "metadata": {},
   "outputs": [
    {
     "data": {
      "text/plain": [
       "122"
      ]
     },
     "execution_count": 42,
     "metadata": {},
     "output_type": "execute_result"
    }
   ],
   "source": [
    "ord('z')"
   ]
  },
  {
   "cell_type": "code",
   "execution_count": 43,
   "id": "sealed-egyptian",
   "metadata": {},
   "outputs": [
    {
     "data": {
      "text/plain": [
       "65"
      ]
     },
     "execution_count": 43,
     "metadata": {},
     "output_type": "execute_result"
    }
   ],
   "source": [
    "ord('A')"
   ]
  },
  {
   "cell_type": "code",
   "execution_count": 239,
   "id": "infrared-hypothesis",
   "metadata": {},
   "outputs": [
    {
     "data": {
      "text/plain": [
       "90"
      ]
     },
     "execution_count": 239,
     "metadata": {},
     "output_type": "execute_result"
    }
   ],
   "source": [
    "ord('Z')"
   ]
  },
  {
   "cell_type": "code",
   "execution_count": 243,
   "id": "scientific-escape",
   "metadata": {},
   "outputs": [
    {
     "data": {
      "text/plain": [
       "94"
      ]
     },
     "execution_count": 243,
     "metadata": {},
     "output_type": "execute_result"
    }
   ],
   "source": [
    "shift = 100\n",
    "(ord('z') + shift) % 128"
   ]
  },
  {
   "cell_type": "code",
   "execution_count": 236,
   "id": "growing-daniel",
   "metadata": {},
   "outputs": [
    {
     "data": {
      "text/plain": [
       "'ali reza'"
      ]
     },
     "execution_count": 236,
     "metadata": {},
     "output_type": "execute_result"
    }
   ],
   "source": [
    "\" \".join(['ali', 'reza'])"
   ]
  },
  {
   "cell_type": "code",
   "execution_count": 237,
   "id": "norman-birth",
   "metadata": {},
   "outputs": [
    {
     "data": {
      "text/plain": [
       "['My', 'name', 'is', 'Mohsen']"
      ]
     },
     "execution_count": 237,
     "metadata": {},
     "output_type": "execute_result"
    }
   ],
   "source": [
    "text = 'My name is Mohsen'\n",
    "text.split()"
   ]
  },
  {
   "cell_type": "code",
   "execution_count": 238,
   "id": "bizarre-collector",
   "metadata": {},
   "outputs": [
    {
     "data": {
      "text/plain": [
       "'My name is Mohsen'"
      ]
     },
     "execution_count": 238,
     "metadata": {},
     "output_type": "execute_result"
    }
   ],
   "source": [
    "text = '     My name is Mohsen      '\n",
    "text.strip()"
   ]
  },
  {
   "cell_type": "code",
   "execution_count": null,
   "id": "adjusted-crash",
   "metadata": {},
   "outputs": [],
   "source": []
  },
  {
   "cell_type": "code",
   "execution_count": null,
   "id": "critical-perfume",
   "metadata": {},
   "outputs": [],
   "source": []
  }
 ],
 "metadata": {
  "kernelspec": {
   "display_name": "Python 3",
   "language": "python",
   "name": "python3"
  },
  "language_info": {
   "codemirror_mode": {
    "name": "ipython",
    "version": 3
   },
   "file_extension": ".py",
   "mimetype": "text/x-python",
   "name": "python",
   "nbconvert_exporter": "python",
   "pygments_lexer": "ipython3",
   "version": "3.7.9"
  }
 },
 "nbformat": 4,
 "nbformat_minor": 5
}
