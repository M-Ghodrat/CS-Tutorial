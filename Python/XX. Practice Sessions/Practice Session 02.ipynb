{
 "cells": [
  {
   "cell_type": "markdown",
   "metadata": {},
   "source": [
    "# Practice Session 02"
   ]
  },
  {
   "cell_type": "markdown",
   "metadata": {},
   "source": [
    "### 1. ```print``` output?\n",
    "\n",
    "```python\n",
    ">>> x, y = [1, 2, 3], ['1', '2', '3']\n",
    "\n",
    ">>> print(x*3, y*3)\n",
    "```"
   ]
  },
  {
   "cell_type": "code",
   "execution_count": null,
   "metadata": {},
   "outputs": [],
   "source": []
  },
  {
   "cell_type": "markdown",
   "metadata": {},
   "source": [
    "### 2. Type of ```*args``` and ```**kwargs```?"
   ]
  },
  {
   "cell_type": "markdown",
   "metadata": {},
   "source": [
    "```python \n",
    "def func(a, b, c, ..., *args, **kwargs):\n",
    "```"
   ]
  },
  {
   "cell_type": "code",
   "execution_count": null,
   "metadata": {},
   "outputs": [],
   "source": []
  },
  {
   "cell_type": "markdown",
   "metadata": {},
   "source": [
    "### 3. Define a tuple with length = 1"
   ]
  },
  {
   "cell_type": "code",
   "execution_count": null,
   "metadata": {},
   "outputs": [],
   "source": []
  },
  {
   "cell_type": "markdown",
   "metadata": {},
   "source": [
    "### 4. What is the output where indicated with # ?"
   ]
  },
  {
   "cell_type": "markdown",
   "metadata": {},
   "source": [
    "```python\n",
    ">>> x = ['1', '2', '3']\n",
    "\n",
    ">>> y = ''.join(x) # ?\n",
    "\n",
    ">>> x = ['1', '2', 3]\n",
    "\n",
    ">>> y = ''.join(x) # ?\n",
    "\n",
    ">>> y.find(\"1\")\n",
    "\n",
    ">>> '1' in x # ?\n",
    "\n",
    ">>> '1' in y # ?\n",
    "\n",
    ">>> type(x) # ?\n",
    "\n",
    ">>> type(y) # ?\n",
    "\n",
    ">>> z = x\n",
    "\n",
    ">>> z *= 2\n",
    "\n",
    ">>> x[0] = 0\n",
    "\n",
    ">>> x # ?\n",
    "\n",
    ">>> z # ?\n",
    "\n",
    ">>> s1 = 'Ali'\n",
    "\n",
    ">>> L1 = list(s1) # ?\n",
    "```"
   ]
  },
  {
   "cell_type": "code",
   "execution_count": null,
   "metadata": {},
   "outputs": [],
   "source": []
  },
  {
   "cell_type": "markdown",
   "metadata": {},
   "source": [
    "### 5. Write down the variable value in each line:"
   ]
  },
  {
   "cell_type": "markdown",
   "metadata": {},
   "source": [
    "```python\n",
    ">>> x = [i + 1 for i in range(10)]\n",
    "\n",
    ">>> y = [i * 2 for i in x if i > 5]\n",
    "\n",
    ">>> z = [(i, i + 1) for i in range(-2, 2) if i % 2 == 0]\n",
    "```"
   ]
  },
  {
   "cell_type": "code",
   "execution_count": null,
   "metadata": {},
   "outputs": [],
   "source": []
  },
  {
   "cell_type": "markdown",
   "metadata": {},
   "source": [
    "```python\n",
    ">>> A0 = dict(zip(('a','b','c','d','e'), (1,2,3,4,5)))\n",
    "\n",
    ">>> A1 = range(10)\n",
    "\n",
    ">>> A2 = [i for i in A1 if i in A0]\n",
    "\n",
    ">>> A3 = sorted([A0[s] for s in A0])\n",
    "\n",
    ">>> A4 = [i for i in A1 if i in A3]\n",
    "\n",
    ">>> A5 = {i:i*i for i in A1}\n",
    "\n",
    ">>> A6 = [[i,i*i] for i in A1]\n",
    "```"
   ]
  },
  {
   "cell_type": "code",
   "execution_count": null,
   "metadata": {},
   "outputs": [],
   "source": []
  },
  {
   "cell_type": "markdown",
   "metadata": {},
   "source": [
    "### 6. Let x = [1, 2, 3, 4], y = [2, 2, 3, 4]. How do you produce z = [1, 4, 9, 16] with list comprehension?"
   ]
  },
  {
   "cell_type": "markdown",
   "metadata": {},
   "source": [
    "```python\n",
    ">>> x = [1, 2, 3, 4]\n",
    "\n",
    ">>> y = [1, 2, 3, 4]\n",
    "```"
   ]
  },
  {
   "cell_type": "code",
   "execution_count": null,
   "metadata": {},
   "outputs": [],
   "source": []
  },
  {
   "cell_type": "markdown",
   "metadata": {},
   "source": [
    "### 7. ```print``` output?"
   ]
  },
  {
   "cell_type": "markdown",
   "metadata": {},
   "source": [
    "```python\n",
    ">>> x = ['foo', [1, 2, 3], 10.4]\n",
    "\n",
    ">>> y = x[:]\n",
    "\n",
    ">>> y[0] = 'fooooooo'\n",
    "\n",
    ">>> y[1][0] = 4\n",
    "\n",
    ">>> print(x, y, end = '*')\n",
    "```"
   ]
  },
  {
   "cell_type": "code",
   "execution_count": null,
   "metadata": {},
   "outputs": [],
   "source": []
  },
  {
   "cell_type": "markdown",
   "metadata": {},
   "source": [
    "### 8. Output where indicated with # ?"
   ]
  },
  {
   "cell_type": "markdown",
   "metadata": {},
   "source": [
    "```python\n",
    "def f(*args, **kwargs):\n",
    "    print(args, kwargs)\n",
    "\n",
    ">>> l = [1, 2, 3]\n",
    "\n",
    ">>> t = (4, 5, 6)\n",
    "\n",
    ">>> d = {'a':7, 'b':8, 'c':9}\n",
    "```"
   ]
  },
  {
   "cell_type": "code",
   "execution_count": null,
   "metadata": {},
   "outputs": [],
   "source": []
  },
  {
   "cell_type": "markdown",
   "metadata": {},
   "source": [
    "```python\n",
    ">>> f() # ?\n",
    "\n",
    ">>> f(1, 2, 3) # ?\n",
    "\n",
    ">>> f(1, 2, 3, \"groovy\") # ?\n",
    "\n",
    ">>> f(a=1, b=2, c=3) # ?\n",
    "```"
   ]
  },
  {
   "cell_type": "code",
   "execution_count": null,
   "metadata": {},
   "outputs": [],
   "source": []
  },
  {
   "cell_type": "markdown",
   "metadata": {},
   "source": [
    "```python\n",
    ">>> f(a=1, b=2, c=3, zzz=\"hi\") # ?\n",
    "\n",
    ">>> f(1, 2, 3, a=1, b=2, c=3) # ?\n",
    "\n",
    ">>> f(*l, **d) # ?\n",
    "\n",
    ">>> f(*t, **d) # ?\n",
    "\n",
    ">>> f(1, 2, *t) # ?\n",
    "\n",
    ">>> f(q=\"winning\", **d)  # ?\n",
    "\n",
    ">>> f(1, 2, *t, q=\"winning\", **d) # ?\n",
    "```"
   ]
  },
  {
   "cell_type": "code",
   "execution_count": null,
   "metadata": {},
   "outputs": [],
   "source": []
  },
  {
   "cell_type": "markdown",
   "metadata": {},
   "source": [
    "### 9. Output where indicated with # ?"
   ]
  },
  {
   "cell_type": "markdown",
   "metadata": {},
   "source": [
    "```python\n",
    "def f2(arg1, arg2, *args, **kwargs):\n",
    "    print(arg1, arg2, args, kwargs)\n",
    "\n",
    ">>> f2(1, 2, 3) # ?\n",
    "\n",
    ">>> f2(1, 2, 3, \"groovy\") # ?\n",
    "\n",
    ">>> f2(arg1=1, arg2=2, c=3) # ?\n",
    "\n",
    ">>> f2(arg1=1, arg2=2, c=3, zzz=\"hi\") # ?\n",
    "\n",
    ">>> f2(1, 2, 3, a=1, b=2, c=3) # ?\n",
    "\n",
    ">>> f2(*l, **d) # ?\n",
    "\n",
    ">>> f2(*t, **d) # ?\n",
    "\n",
    ">>> f2(1, 2, *t) # ?\n",
    "\n",
    ">>> f2(1, 1, q=\"winning\", **d) # ?\n",
    "\n",
    ">>> f2(1, 2, *t, q=\"winning\", **d) # ?\n",
    "```"
   ]
  },
  {
   "cell_type": "code",
   "execution_count": null,
   "metadata": {},
   "outputs": [],
   "source": []
  },
  {
   "cell_type": "code",
   "execution_count": null,
   "metadata": {},
   "outputs": [],
   "source": []
  }
 ],
 "metadata": {
  "kernelspec": {
   "display_name": "Python 3",
   "language": "python",
   "name": "python3"
  },
  "language_info": {
   "codemirror_mode": {
    "name": "ipython",
    "version": 3
   },
   "file_extension": ".py",
   "mimetype": "text/x-python",
   "name": "python",
   "nbconvert_exporter": "python",
   "pygments_lexer": "ipython3",
   "version": "3.7.9"
  }
 },
 "nbformat": 4,
 "nbformat_minor": 4
}
