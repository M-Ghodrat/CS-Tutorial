{
 "cells": [
  {
   "cell_type": "markdown",
   "id": "better-browse",
   "metadata": {},
   "source": [
    "# Error Handling (Exceptions)\n",
    "\n",
    "A Python program terminates as soon as it encounters an error. In Python, an error can be a syntax error or an exception.\n",
    "\n",
    "In this section, you will see what an exception is and how it differs from a syntax error. After that, you will learn about raising exceptions and making assertions. Then, you’ll finish with a demonstration of the try and except block."
   ]
  },
  {
   "cell_type": "code",
   "execution_count": 4,
   "id": "standing-snake",
   "metadata": {},
   "outputs": [
    {
     "data": {
      "text/plain": [
       "BaseException"
      ]
     },
     "execution_count": 4,
     "metadata": {},
     "output_type": "execute_result"
    }
   ],
   "source": [
    "BaseException"
   ]
  },
  {
   "cell_type": "markdown",
   "id": "prime-enough",
   "metadata": {},
   "source": [
    "## Exception versus Syntax Errors\n",
    "\n",
    "Syntax errors occur when the parser detects an incorrect statement. Observe the following example:"
   ]
  },
  {
   "cell_type": "code",
   "execution_count": 1,
   "id": "amateur-ballet",
   "metadata": {},
   "outputs": [
    {
     "ename": "SyntaxError",
     "evalue": "invalid syntax (<ipython-input-1-d4da984b8e95>, line 2)",
     "output_type": "error",
     "traceback": [
      "\u001b[0;36m  File \u001b[0;32m\"<ipython-input-1-d4da984b8e95>\"\u001b[0;36m, line \u001b[0;32m2\u001b[0m\n\u001b[0;31m    print(0 /0))\u001b[0m\n\u001b[0m               ^\u001b[0m\n\u001b[0;31mSyntaxError\u001b[0m\u001b[0;31m:\u001b[0m invalid syntax\n"
     ]
    }
   ],
   "source": [
    "# Syntax Error\n",
    "print(0 /0))"
   ]
  },
  {
   "cell_type": "markdown",
   "id": "invisible-resistance",
   "metadata": {},
   "source": [
    "The arrow indicates where the parser ran into the syntax error. In this example, there was one bracket too many. Remove it and run your code again:"
   ]
  },
  {
   "cell_type": "code",
   "execution_count": 2,
   "id": "contrary-response",
   "metadata": {},
   "outputs": [
    {
     "ename": "ZeroDivisionError",
     "evalue": "division by zero",
     "output_type": "error",
     "traceback": [
      "\u001b[0;31m---------------------------------------------------------------------------\u001b[0m",
      "\u001b[0;31mZeroDivisionError\u001b[0m                         Traceback (most recent call last)",
      "\u001b[0;32m<ipython-input-2-b2c252322228>\u001b[0m in \u001b[0;36m<module>\u001b[0;34m\u001b[0m\n\u001b[1;32m      1\u001b[0m \u001b[0;31m# Exception\u001b[0m\u001b[0;34m\u001b[0m\u001b[0;34m\u001b[0m\u001b[0;34m\u001b[0m\u001b[0m\n\u001b[0;32m----> 2\u001b[0;31m \u001b[0mprint\u001b[0m\u001b[0;34m(\u001b[0m\u001b[0;36m0\u001b[0m \u001b[0;34m/\u001b[0m \u001b[0;36m0\u001b[0m\u001b[0;34m)\u001b[0m\u001b[0;34m\u001b[0m\u001b[0;34m\u001b[0m\u001b[0m\n\u001b[0m",
      "\u001b[0;31mZeroDivisionError\u001b[0m: division by zero"
     ]
    }
   ],
   "source": [
    "# Exception\n",
    "print(0 / 0)"
   ]
  },
  {
   "cell_type": "markdown",
   "id": "injured-reminder",
   "metadata": {},
   "source": [
    "The arrow indicates where the parser ran into the syntax error. In this example, there was one bracket too many. Remove it and run your code again:\n",
    "\n",
    "Instead of showing the message exception `error`, Python details what type of exception error was encountered. In this case, it was a `ZeroDivisionError`. Python comes with various built-in exceptions as well as the possibility to create self-defined exceptions."
   ]
  },
  {
   "cell_type": "markdown",
   "id": "composed-vegetation",
   "metadata": {},
   "source": [
    "## Raising an Exception"
   ]
  },
  {
   "cell_type": "markdown",
   "id": "circular-policy",
   "metadata": {},
   "source": [
    "We can use raise to throw an exception if a condition occurs. The statement can be complemented with a custom exception.\n",
    "\n",
    "If you want to throw an error when a certain condition occurs using raise, you could go about it like this\n",
    "\n",
    "**Note:** Raise is not like a print! program is terminated!"
   ]
  },
  {
   "cell_type": "code",
   "execution_count": 3,
   "id": "historic-shanghai",
   "metadata": {},
   "outputs": [
    {
     "ename": "Exception",
     "evalue": "x should not exceed 5. The value of x was: 10",
     "output_type": "error",
     "traceback": [
      "\u001b[0;31m---------------------------------------------------------------------------\u001b[0m",
      "\u001b[0;31mException\u001b[0m                                 Traceback (most recent call last)",
      "\u001b[0;32m<ipython-input-3-82806696ba8a>\u001b[0m in \u001b[0;36m<module>\u001b[0;34m\u001b[0m\n\u001b[1;32m      1\u001b[0m \u001b[0mx\u001b[0m \u001b[0;34m=\u001b[0m \u001b[0;36m10\u001b[0m\u001b[0;34m\u001b[0m\u001b[0;34m\u001b[0m\u001b[0m\n\u001b[1;32m      2\u001b[0m \u001b[0;32mif\u001b[0m \u001b[0mx\u001b[0m \u001b[0;34m>\u001b[0m \u001b[0;36m5\u001b[0m\u001b[0;34m:\u001b[0m\u001b[0;34m\u001b[0m\u001b[0;34m\u001b[0m\u001b[0m\n\u001b[0;32m----> 3\u001b[0;31m     \u001b[0;32mraise\u001b[0m \u001b[0mException\u001b[0m\u001b[0;34m(\u001b[0m\u001b[0;34mf'x should not exceed 5. The value of x was: {x}'\u001b[0m\u001b[0;34m)\u001b[0m\u001b[0;34m\u001b[0m\u001b[0;34m\u001b[0m\u001b[0m\n\u001b[0m\u001b[1;32m      4\u001b[0m \u001b[0;34m\u001b[0m\u001b[0m\n\u001b[1;32m      5\u001b[0m \u001b[0mprint\u001b[0m\u001b[0;34m(\u001b[0m\u001b[0;34m'Program is continued'\u001b[0m\u001b[0;34m)\u001b[0m\u001b[0;34m\u001b[0m\u001b[0;34m\u001b[0m\u001b[0m\n",
      "\u001b[0;31mException\u001b[0m: x should not exceed 5. The value of x was: 10"
     ]
    }
   ],
   "source": [
    "x = 10\n",
    "if x > 5:\n",
    "    raise Exception(f'x should not exceed 5. The value of x was: {x}')\n",
    "    \n",
    "print('Program is continued')"
   ]
  },
  {
   "cell_type": "markdown",
   "id": "grand-fossil",
   "metadata": {},
   "source": [
    "The program comes to a halt and displays our exception to screen, offering clues about what went wrong."
   ]
  },
  {
   "cell_type": "markdown",
   "id": "durable-granny",
   "metadata": {},
   "source": [
    "### The `AssertionError` Exception\n",
    "Instead of waiting for a program to crash midway, you can also start by making an assertion in Python. We `assert` that a certain condition is met. If this condition turns out to be `True`, then that is excellent! The program can continue. If the condition turns out to be False, you can have the program throw an `AssertionError` exception."
   ]
  },
  {
   "cell_type": "code",
   "execution_count": 5,
   "id": "conscious-flight",
   "metadata": {},
   "outputs": [
    {
     "ename": "AssertionError",
     "evalue": "",
     "output_type": "error",
     "traceback": [
      "\u001b[0;31m---------------------------------------------------------------------------\u001b[0m",
      "\u001b[0;31mAssertionError\u001b[0m                            Traceback (most recent call last)",
      "\u001b[0;32m<ipython-input-5-58fdb3d2105e>\u001b[0m in \u001b[0;36m<module>\u001b[0;34m\u001b[0m\n\u001b[1;32m      1\u001b[0m \u001b[0;31m# assert implies of boolean objects (True, False)\u001b[0m\u001b[0;34m\u001b[0m\u001b[0;34m\u001b[0m\u001b[0;34m\u001b[0m\u001b[0m\n\u001b[0;32m----> 2\u001b[0;31m \u001b[0;32massert\u001b[0m \u001b[0;36m0\u001b[0m\u001b[0;34m\u001b[0m\u001b[0;34m\u001b[0m\u001b[0m\n\u001b[0m",
      "\u001b[0;31mAssertionError\u001b[0m: "
     ]
    }
   ],
   "source": [
    "# assert implies of boolean objects (True, False)\n",
    "assert 0"
   ]
  },
  {
   "cell_type": "code",
   "execution_count": 6,
   "id": "cleared-amateur",
   "metadata": {},
   "outputs": [],
   "source": [
    "assert 1"
   ]
  },
  {
   "cell_type": "code",
   "execution_count": 8,
   "id": "revised-gambling",
   "metadata": {},
   "outputs": [
    {
     "ename": "AssertionError",
     "evalue": "mylsit at position 3 is not 3",
     "output_type": "error",
     "traceback": [
      "\u001b[0;31m---------------------------------------------------------------------------\u001b[0m",
      "\u001b[0;31mAssertionError\u001b[0m                            Traceback (most recent call last)",
      "\u001b[0;32m<ipython-input-8-509fcd579735>\u001b[0m in \u001b[0;36m<module>\u001b[0;34m\u001b[0m\n\u001b[1;32m      1\u001b[0m \u001b[0mmylist\u001b[0m \u001b[0;34m=\u001b[0m \u001b[0;34m[\u001b[0m\u001b[0;36m1\u001b[0m\u001b[0;34m,\u001b[0m \u001b[0;36m2\u001b[0m\u001b[0;34m,\u001b[0m \u001b[0;36m3\u001b[0m\u001b[0;34m,\u001b[0m \u001b[0;36m4\u001b[0m\u001b[0;34m,\u001b[0m \u001b[0;36m5\u001b[0m\u001b[0;34m]\u001b[0m\u001b[0;34m\u001b[0m\u001b[0;34m\u001b[0m\u001b[0m\n\u001b[0;32m----> 2\u001b[0;31m \u001b[0;32massert\u001b[0m \u001b[0mmylist\u001b[0m\u001b[0;34m[\u001b[0m\u001b[0;36m3\u001b[0m\u001b[0;34m]\u001b[0m \u001b[0;34m==\u001b[0m \u001b[0;36m3\u001b[0m\u001b[0;34m,\u001b[0m \u001b[0;34m\"mylsit at position 3 is not 3\"\u001b[0m\u001b[0;34m\u001b[0m\u001b[0;34m\u001b[0m\u001b[0m\n\u001b[0m\u001b[1;32m      3\u001b[0m \u001b[0mprint\u001b[0m\u001b[0;34m(\u001b[0m\u001b[0;34m\"here\"\u001b[0m\u001b[0;34m)\u001b[0m\u001b[0;34m\u001b[0m\u001b[0;34m\u001b[0m\u001b[0m\n",
      "\u001b[0;31mAssertionError\u001b[0m: mylsit at position 3 is not 3"
     ]
    }
   ],
   "source": [
    "mylist = [1, 2, 3, 4, 5]\n",
    "assert mylist[3] == 3, \"mylsit at position 3 is not 3\"\n",
    "print(\"here\")"
   ]
  },
  {
   "cell_type": "markdown",
   "id": "inside-harvey",
   "metadata": {},
   "source": [
    "Have a look at the following example, where it is asserted that the code will be executed on a Linux system:"
   ]
  },
  {
   "cell_type": "code",
   "execution_count": 9,
   "id": "engaging-collapse",
   "metadata": {},
   "outputs": [
    {
     "data": {
      "text/plain": [
       "'linux'"
      ]
     },
     "execution_count": 9,
     "metadata": {},
     "output_type": "execute_result"
    }
   ],
   "source": [
    "import sys\n",
    "sys.platform"
   ]
  },
  {
   "cell_type": "code",
   "execution_count": 19,
   "id": "working-vision",
   "metadata": {},
   "outputs": [
    {
     "name": "stdout",
     "output_type": "stream",
     "text": [
      "continue\n"
     ]
    }
   ],
   "source": [
    "assert 'linux' == sys.platform, \"This code runs on Linux only\"\n",
    "print('continue')"
   ]
  },
  {
   "cell_type": "code",
   "execution_count": 18,
   "id": "interesting-township",
   "metadata": {},
   "outputs": [
    {
     "ename": "AssertionError",
     "evalue": "This code runs on Linux only",
     "output_type": "error",
     "traceback": [
      "\u001b[0;31m---------------------------------------------------------------------------\u001b[0m",
      "\u001b[0;31mAssertionError\u001b[0m                            Traceback (most recent call last)",
      "\u001b[0;32m<ipython-input-18-7d64a39d6be0>\u001b[0m in \u001b[0;36m<module>\u001b[0;34m\u001b[0m\n\u001b[0;32m----> 1\u001b[0;31m \u001b[0;32massert\u001b[0m \u001b[0;34m'windows'\u001b[0m \u001b[0;34m==\u001b[0m \u001b[0msys\u001b[0m\u001b[0;34m.\u001b[0m\u001b[0mplatform\u001b[0m\u001b[0;34m,\u001b[0m \u001b[0;34m\"This code runs on Linux only\"\u001b[0m\u001b[0;34m\u001b[0m\u001b[0;34m\u001b[0m\u001b[0m\n\u001b[0m\u001b[1;32m      2\u001b[0m \u001b[0mprint\u001b[0m\u001b[0;34m(\u001b[0m\u001b[0;34m'continue'\u001b[0m\u001b[0;34m)\u001b[0m\u001b[0;34m\u001b[0m\u001b[0;34m\u001b[0m\u001b[0m\n",
      "\u001b[0;31mAssertionError\u001b[0m: This code runs on Linux only"
     ]
    }
   ],
   "source": [
    "assert 'windows' == sys.platform, \"This code runs on Linux only\"\n",
    "print('continue')"
   ]
  },
  {
   "cell_type": "markdown",
   "id": "driven-patient",
   "metadata": {},
   "source": [
    "If you run this code on a Linux machine, the assertion passes. If you were to run this code on a Windows machine, the outcome of the assertion would be `False` and the result would be the following:\n",
    "\n",
    "``` python\n",
    "Traceback (most recent call last):\n",
    "  File \"<input>\", line 2, in <module>\n",
    "AssertionError: This code runs on Linux only.\n",
    "```\n",
    "\n",
    "In this example, throwing an AssertionError exception is the last thing that the program will do. The program will come to halt and will not continue. What if that is not what you want?"
   ]
  },
  {
   "cell_type": "markdown",
   "id": "excess-sudan",
   "metadata": {},
   "source": [
    "### The `try` and `except` Block: Handling Exceptions\n",
    "\n",
    "We can catch the error without terminating the program\n",
    "\n",
    "**bare except:**"
   ]
  },
  {
   "cell_type": "code",
   "execution_count": 22,
   "id": "british-reaction",
   "metadata": {},
   "outputs": [
    {
     "name": "stdout",
     "output_type": "stream",
     "text": [
      "file not found\n",
      "continue\n"
     ]
    }
   ],
   "source": [
    "try:\n",
    "    with open(\"./sdsdadsadasda.txt\") as f:\n",
    "        pass\n",
    "except:\n",
    "    print(\"file not found\")\n",
    "    \n",
    "print(\"continue\")"
   ]
  },
  {
   "cell_type": "markdown",
   "id": "identified-strap",
   "metadata": {},
   "source": [
    "Catch dofferent errors, but act differently according to each case:"
   ]
  },
  {
   "cell_type": "code",
   "execution_count": 25,
   "id": "simplified-greece",
   "metadata": {},
   "outputs": [],
   "source": [
    "def linux_intersection():\n",
    "    assert('linux' in sys.platform), \"Function can only run on Linux system\"    \n",
    "    print(\"Doing something\")"
   ]
  },
  {
   "cell_type": "code",
   "execution_count": 26,
   "id": "critical-bradford",
   "metadata": {},
   "outputs": [
    {
     "name": "stdout",
     "output_type": "stream",
     "text": [
      "Doing something\n"
     ]
    }
   ],
   "source": [
    "try:\n",
    "    linux_intersection()\n",
    "except:\n",
    "    print('Linux function was not executed')"
   ]
  },
  {
   "cell_type": "markdown",
   "id": "protective-vegetation",
   "metadata": {},
   "source": [
    "# The `except` Clause with "
   ]
  },
  {
   "cell_type": "code",
   "execution_count": null,
   "id": "opened-resident",
   "metadata": {},
   "outputs": [],
   "source": []
  }
 ],
 "metadata": {
  "kernelspec": {
   "display_name": "Python 3",
   "language": "python",
   "name": "python3"
  },
  "language_info": {
   "codemirror_mode": {
    "name": "ipython",
    "version": 3
   },
   "file_extension": ".py",
   "mimetype": "text/x-python",
   "name": "python",
   "nbconvert_exporter": "python",
   "pygments_lexer": "ipython3",
   "version": "3.7.9"
  }
 },
 "nbformat": 4,
 "nbformat_minor": 5
}
