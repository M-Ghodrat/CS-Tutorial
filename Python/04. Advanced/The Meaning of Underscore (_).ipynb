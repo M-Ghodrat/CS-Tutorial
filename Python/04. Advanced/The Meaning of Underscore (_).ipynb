{
 "cells": [
  {
   "cell_type": "markdown",
   "id": "individual-january",
   "metadata": {},
   "source": [
    "# The Meaning of Underscore (`_`)\n",
    "\n",
    "- `_var` \n",
    "- `var_`\n",
    "- `__var`\n",
    "-`__var__`\n",
    "- `_`"
   ]
  },
  {
   "cell_type": "markdown",
   "id": "pretty-nebraska",
   "metadata": {},
   "source": [
    "## 1. Single Leading Underscore: `_var`"
   ]
  },
  {
   "cell_type": "code",
   "execution_count": 1,
   "id": "colored-cruise",
   "metadata": {},
   "outputs": [],
   "source": [
    "class Test:\n",
    "    def __init__(self):\n",
    "        self.foo = 11\n",
    "        self._bar = 23 # defined only for the inside of this class"
   ]
  },
  {
   "cell_type": "code",
   "execution_count": 5,
   "id": "numeric-tracker",
   "metadata": {},
   "outputs": [
    {
     "data": {
      "text/plain": [
       "(11, 23)"
      ]
     },
     "execution_count": 5,
     "metadata": {},
     "output_type": "execute_result"
    }
   ],
   "source": [
    "test = Test()\n",
    "test.foo, test._bar"
   ]
  },
  {
   "cell_type": "code",
   "execution_count": null,
   "id": "handled-words",
   "metadata": {},
   "outputs": [],
   "source": []
  },
  {
   "cell_type": "markdown",
   "id": "working-convergence",
   "metadata": {},
   "source": [
    "## 2. Single Trailing Underscore: `var_`"
   ]
  },
  {
   "cell_type": "code",
   "execution_count": 8,
   "id": "parallel-healing",
   "metadata": {},
   "outputs": [
    {
     "ename": "SyntaxError",
     "evalue": "invalid syntax (<ipython-input-8-0bd9258ad867>, line 1)",
     "output_type": "error",
     "traceback": [
      "\u001b[0;36m  File \u001b[0;32m\"<ipython-input-8-0bd9258ad867>\"\u001b[0;36m, line \u001b[0;32m1\u001b[0m\n\u001b[0;31m    class = 3\u001b[0m\n\u001b[0m          ^\u001b[0m\n\u001b[0;31mSyntaxError\u001b[0m\u001b[0;31m:\u001b[0m invalid syntax\n"
     ]
    }
   ],
   "source": [
    "class = 3 # syntax error"
   ]
  },
  {
   "cell_type": "code",
   "execution_count": 12,
   "id": "three-trace",
   "metadata": {},
   "outputs": [],
   "source": [
    "str = 3 #overwriting"
   ]
  },
  {
   "cell_type": "code",
   "execution_count": null,
   "id": "major-boulder",
   "metadata": {},
   "outputs": [],
   "source": []
  },
  {
   "cell_type": "code",
   "execution_count": 6,
   "id": "affected-writer",
   "metadata": {},
   "outputs": [
    {
     "ename": "SyntaxError",
     "evalue": "invalid syntax (<ipython-input-6-88a174f47223>, line 1)",
     "output_type": "error",
     "traceback": [
      "\u001b[0;36m  File \u001b[0;32m\"<ipython-input-6-88a174f47223>\"\u001b[0;36m, line \u001b[0;32m1\u001b[0m\n\u001b[0;31m    def make_object(name, class):\u001b[0m\n\u001b[0m                              ^\u001b[0m\n\u001b[0;31mSyntaxError\u001b[0m\u001b[0;31m:\u001b[0m invalid syntax\n"
     ]
    }
   ],
   "source": [
    "def make_object(name, class):\n",
    "    pass"
   ]
  },
  {
   "cell_type": "code",
   "execution_count": 13,
   "id": "british-fifth",
   "metadata": {},
   "outputs": [],
   "source": [
    "def make_object(name, class_):\n",
    "    pass"
   ]
  },
  {
   "cell_type": "markdown",
   "id": "bound-harrison",
   "metadata": {},
   "source": [
    "## 3. Double Leadling Underscore: `__var`"
   ]
  },
  {
   "cell_type": "code",
   "execution_count": 24,
   "id": "terminal-tonight",
   "metadata": {},
   "outputs": [],
   "source": [
    "class Test:\n",
    "    def __init__(self):\n",
    "        self.num = 3\n",
    "        self._name = \"Ali\"\n",
    "        self.__notouch = \"no touch\"\n",
    "    \n",
    "    def add(self):\n",
    "        return self.__notouch # inside class, the name is self.__notouch"
   ]
  },
  {
   "cell_type": "code",
   "execution_count": 25,
   "id": "hearing-tuner",
   "metadata": {},
   "outputs": [],
   "source": [
    "t = Test()"
   ]
  },
  {
   "cell_type": "code",
   "execution_count": 26,
   "id": "adjacent-arnold",
   "metadata": {},
   "outputs": [],
   "source": [
    "t.num = 4"
   ]
  },
  {
   "cell_type": "code",
   "execution_count": 27,
   "id": "earned-perspective",
   "metadata": {},
   "outputs": [],
   "source": [
    "t._name = \"Hasan\""
   ]
  },
  {
   "cell_type": "code",
   "execution_count": 28,
   "id": "greater-oliver",
   "metadata": {},
   "outputs": [],
   "source": [
    "t.__notouch = \"touch\""
   ]
  },
  {
   "cell_type": "code",
   "execution_count": 29,
   "id": "going-excerpt",
   "metadata": {},
   "outputs": [
    {
     "data": {
      "text/plain": [
       "'touch'"
      ]
     },
     "execution_count": 29,
     "metadata": {},
     "output_type": "execute_result"
    }
   ],
   "source": [
    "t.__notouch"
   ]
  },
  {
   "cell_type": "markdown",
   "id": "metric-accuracy",
   "metadata": {},
   "source": [
    "outside the class the name is not `self.__notouch`:"
   ]
  },
  {
   "cell_type": "code",
   "execution_count": 31,
   "id": "continued-client",
   "metadata": {},
   "outputs": [
    {
     "data": {
      "text/plain": [
       "'no touch'"
      ]
     },
     "execution_count": 31,
     "metadata": {},
     "output_type": "execute_result"
    }
   ],
   "source": [
    "t._Test__notouch # this avoid override"
   ]
  },
  {
   "cell_type": "markdown",
   "id": "cooperative-withdrawal",
   "metadata": {},
   "source": [
    "## 4. Double Leadling and Trailing Underscore: `__var__`"
   ]
  },
  {
   "cell_type": "code",
   "execution_count": 37,
   "id": "active-possession",
   "metadata": {},
   "outputs": [],
   "source": [
    "class PrefixPostfixTest:\n",
    "    def __init__(self):\n",
    "        self.__bam__ = 42 # mangling does not occur here"
   ]
  },
  {
   "cell_type": "code",
   "execution_count": 38,
   "id": "dress-gabriel",
   "metadata": {},
   "outputs": [
    {
     "data": {
      "text/plain": [
       "42"
      ]
     },
     "execution_count": 38,
     "metadata": {},
     "output_type": "execute_result"
    }
   ],
   "source": [
    "PrefixPostfixTest().__bam__"
   ]
  },
  {
   "cell_type": "markdown",
   "id": "thick-adolescent",
   "metadata": {},
   "source": [
    "## 5. Single Underscore: `_`"
   ]
  },
  {
   "cell_type": "code",
   "execution_count": 40,
   "id": "technical-knock",
   "metadata": {},
   "outputs": [],
   "source": [
    "_ = 3 # _ can be a variable name"
   ]
  },
  {
   "cell_type": "code",
   "execution_count": 41,
   "id": "earned-collaboration",
   "metadata": {},
   "outputs": [
    {
     "data": {
      "text/plain": [
       "3"
      ]
     },
     "execution_count": 41,
     "metadata": {},
     "output_type": "execute_result"
    }
   ],
   "source": [
    "_"
   ]
  },
  {
   "cell_type": "code",
   "execution_count": 42,
   "id": "random-anime",
   "metadata": {},
   "outputs": [
    {
     "name": "stdout",
     "output_type": "stream",
     "text": [
      "Hello World\n",
      "Hello World\n",
      "Hello World\n",
      "Hello World\n",
      "Hello World\n"
     ]
    }
   ],
   "source": [
    "for _ in range(5):\n",
    "    print(\"Hello World\")"
   ]
  },
  {
   "cell_type": "code",
   "execution_count": 47,
   "id": "recreational-branch",
   "metadata": {},
   "outputs": [],
   "source": [
    "# unpacking\n",
    "car = (\"red\", \"auto\", 12, 3812.4)\n",
    "color, _, _, mileage = car"
   ]
  },
  {
   "cell_type": "code",
   "execution_count": 48,
   "id": "urban-federal",
   "metadata": {},
   "outputs": [
    {
     "data": {
      "text/plain": [
       "('red', 3812.4)"
      ]
     },
     "execution_count": 48,
     "metadata": {},
     "output_type": "execute_result"
    }
   ],
   "source": [
    "color, mileage"
   ]
  },
  {
   "cell_type": "code",
   "execution_count": 50,
   "id": "accredited-therapy",
   "metadata": {},
   "outputs": [
    {
     "data": {
      "text/plain": [
       "12"
      ]
     },
     "execution_count": 50,
     "metadata": {},
     "output_type": "execute_result"
    }
   ],
   "source": [
    "_"
   ]
  },
  {
   "cell_type": "markdown",
   "id": "closing-toner",
   "metadata": {},
   "source": [
    "## 6. "
   ]
  },
  {
   "cell_type": "code",
   "execution_count": 51,
   "id": "ignored-renewal",
   "metadata": {},
   "outputs": [
    {
     "data": {
      "text/plain": [
       "3000000000"
      ]
     },
     "execution_count": 51,
     "metadata": {},
     "output_type": "execute_result"
    }
   ],
   "source": [
    "3000_000_000"
   ]
  },
  {
   "cell_type": "markdown",
   "id": "sharp-museum",
   "metadata": {},
   "source": [
    "### Summary"
   ]
  },
  {
   "cell_type": "code",
   "execution_count": null,
   "id": "atomic-contest",
   "metadata": {},
   "outputs": [],
   "source": []
  }
 ],
 "metadata": {
  "kernelspec": {
   "display_name": "Python 3",
   "language": "python",
   "name": "python3"
  },
  "language_info": {
   "codemirror_mode": {
    "name": "ipython",
    "version": 3
   },
   "file_extension": ".py",
   "mimetype": "text/x-python",
   "name": "python",
   "nbconvert_exporter": "python",
   "pygments_lexer": "ipython3",
   "version": "3.7.9"
  }
 },
 "nbformat": 4,
 "nbformat_minor": 5
}
