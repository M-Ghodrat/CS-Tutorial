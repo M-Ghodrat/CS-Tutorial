{
 "cells": [
  {
   "cell_type": "markdown",
   "id": "individual-january",
   "metadata": {},
   "source": [
    "# 08 The Meaning of Underscore (`_`)\n",
    "\n",
    "Single and double underscores have a meaning in Python variable and method names. Some of that meaning is merely by convention and intended as a hint to the programmer—and some of it is enforced by the Python interpreter.\n",
    "\n",
    "- Single Leading Underscore: `_var` \n",
    "- Single Trailing Underscore: `var_`\n",
    "- Double Leading Underscore: `__var`\n",
    "- Double Leading and Trailing Underscore: `__var__`\n",
    "- Single Underscore: `_`"
   ]
  },
  {
   "cell_type": "markdown",
   "id": "pretty-nebraska",
   "metadata": {},
   "source": [
    "## 1. Single Leading Underscore: `_var`\n",
    "\n",
    "When it comes to variable and method names, the single underscore prefix has a meaning by convention only. It’s a hint to the programmer—and it means what the Python community agrees it should mean, but it does not affect the behavior of your programs.\n",
    "\n",
    "The underscore prefix is meant as a hint to another programmer that a variable or method starting with a single underscore is intended for internal use. This convention is [defined in PEP 8](https://pep8.org/#descriptive-naming-styles).\n",
    "\n",
    "This isn’t enforced by Python. Python does not have strong distinctions between “private” and “public” variables like Java does. It’s like someone put up a tiny underscore warning sign that says:\n",
    "\n",
    "*Hey, this isn’t really meant to be a part of the public interface of this class. Best to leave it alone.*"
   ]
  },
  {
   "cell_type": "code",
   "execution_count": 1,
   "id": "colored-cruise",
   "metadata": {},
   "outputs": [],
   "source": [
    "class Test:\n",
    "    def __init__(self):\n",
    "        self.foo = 11\n",
    "        self._bar = 23 # defined only for the inside of this class\n",
    "        \n",
    "    def integrate(self):\n",
    "        # we use self.derivative() here\n",
    "        pass\n",
    "    \n",
    "    def _derivative(self): #_var can be used for methods too\n",
    "        pass"
   ]
  },
  {
   "cell_type": "code",
   "execution_count": 5,
   "id": "numeric-tracker",
   "metadata": {},
   "outputs": [
    {
     "data": {
      "text/plain": [
       "(11, 23)"
      ]
     },
     "execution_count": 5,
     "metadata": {},
     "output_type": "execute_result"
    }
   ],
   "source": [
    "test = Test()\n",
    "test.foo, test._bar"
   ]
  },
  {
   "cell_type": "markdown",
   "id": "completed-graph",
   "metadata": {},
   "source": [
    "The single underscore prefix in Python is merely an agreed upon convention—at least when it comes to variable and method names.\n",
    "\n",
    "However, **leading underscores do impact how names get imported from modules**. Imagine you had the following code in a module called my_module:\n",
    "\n",
    "> `# This is my_module.py:`\n",
    "> ```python\n",
    "def external_func():\n",
    "    return 23\n",
    "python    \n",
    "def external_func():\n",
    "    return 42 ```\n",
    "\n",
    "Now if you use a wildcard import to import all names from the module, Python will not import names with a leading underscore (unless the module defines an `__all__` list that overrides this behavior):\n",
    "\n",
    "> ```python\n",
    ">>> from my_module import *\n",
    ">>> external_func()\n",
    "23\n",
    ">>> _internal_func()\n",
    "NameError: \"name '_internal_func' is not defined\" ```\n",
    "\n",
    "**Note:** wildcard imports should be avoided as they make it unclear which names are present in the namespace. It’s better to stick to regular imports for the sake of clarity.\n",
    "\n",
    "Unlike wildcard imports, regular imports are not affected by the leading single underscore naming convention:\n",
    "\n",
    "> ```python \n",
    ">>> import my_module\n",
    ">>> my_module.external_func()\n",
    "23\n",
    ">>> my_module._internal_func()\n",
    "42```\n",
    "\n",
    "If you stick to the PEP 8 recommendation that wildcard imports should be avoided, then really all you need to remember is this:\n",
    "\n",
    "> *Single underscores are a Python naming convention indicating a name is meant for internal use. It is generally not enforced by the Python interpreter and meant as a hint to the programmer only.*"
   ]
  },
  {
   "cell_type": "markdown",
   "id": "working-convergence",
   "metadata": {},
   "source": [
    "## 2. Single Trailing Underscore: `var_`\n",
    "\n",
    "Sometimes the most fitting name for a variable is already taken by a keyword. Therefore names like `class` or `def` cannot be used as variable names in Python. In this case you can append a single underscore to break the naming conflict:"
   ]
  },
  {
   "cell_type": "code",
   "execution_count": 8,
   "id": "parallel-healing",
   "metadata": {},
   "outputs": [
    {
     "ename": "SyntaxError",
     "evalue": "invalid syntax (<ipython-input-8-0bd9258ad867>, line 1)",
     "output_type": "error",
     "traceback": [
      "\u001b[0;36m  File \u001b[0;32m\"<ipython-input-8-0bd9258ad867>\"\u001b[0;36m, line \u001b[0;32m1\u001b[0m\n\u001b[0;31m    class = 3\u001b[0m\n\u001b[0m          ^\u001b[0m\n\u001b[0;31mSyntaxError\u001b[0m\u001b[0;31m:\u001b[0m invalid syntax\n"
     ]
    }
   ],
   "source": [
    "class = 3 # syntax error"
   ]
  },
  {
   "cell_type": "code",
   "execution_count": 12,
   "id": "three-trace",
   "metadata": {},
   "outputs": [],
   "source": [
    "str = 3 #overwriting"
   ]
  },
  {
   "cell_type": "code",
   "execution_count": 6,
   "id": "affected-writer",
   "metadata": {},
   "outputs": [
    {
     "ename": "SyntaxError",
     "evalue": "invalid syntax (<ipython-input-6-88a174f47223>, line 1)",
     "output_type": "error",
     "traceback": [
      "\u001b[0;36m  File \u001b[0;32m\"<ipython-input-6-88a174f47223>\"\u001b[0;36m, line \u001b[0;32m1\u001b[0m\n\u001b[0;31m    def make_object(name, class):\u001b[0m\n\u001b[0m                              ^\u001b[0m\n\u001b[0;31mSyntaxError\u001b[0m\u001b[0;31m:\u001b[0m invalid syntax\n"
     ]
    }
   ],
   "source": [
    "def make_object(name, class):\n",
    "    pass"
   ]
  },
  {
   "cell_type": "code",
   "execution_count": 13,
   "id": "british-fifth",
   "metadata": {},
   "outputs": [],
   "source": [
    "def make_object(name, class_):\n",
    "    pass"
   ]
  },
  {
   "cell_type": "markdown",
   "id": "piano-provider",
   "metadata": {},
   "source": [
    "In summary, a single trailing underscore (postfix) is used by convention to avoid naming conflicts with Python keywords. This convention is [explained in PEP 8](https://pep8.org/#descriptive-naming-styles)."
   ]
  },
  {
   "cell_type": "markdown",
   "id": "bound-harrison",
   "metadata": {},
   "source": [
    "## 3. Double Leadling Underscore: `__var`\n",
    "\n",
    "The naming patterns covered so far received their meaning from agreed upon conventions only. With Python class attributes (variables and methods) that start with double underscores, things are a little different.\n",
    "\n",
    "A double underscore prefix causes the Python interpreter to rewrite the attribute name in order to avoid naming conflicts in subclasses. This is also called name *mangling* —the interpreter changes the name of the variable in a way that makes it harder to create collisions when the class is extended later."
   ]
  },
  {
   "cell_type": "code",
   "execution_count": 38,
   "id": "terminal-tonight",
   "metadata": {},
   "outputs": [],
   "source": [
    "class Test:\n",
    "    def __init__(self):\n",
    "        self.foo = 3\n",
    "        self._bar = \"Ali\"\n",
    "        self.__baz = \"no touch\"\n",
    "    \n",
    "    def add(self):\n",
    "        return self.__baz # inside class, the name is self.__notouch"
   ]
  },
  {
   "cell_type": "markdown",
   "id": "aware-improvement",
   "metadata": {},
   "source": [
    "Let’s take a look at the attributes on this object using the built-in dir() function:"
   ]
  },
  {
   "cell_type": "code",
   "execution_count": 39,
   "id": "hearing-tuner",
   "metadata": {},
   "outputs": [
    {
     "data": {
      "text/plain": [
       "['_Test__baz',\n",
       " '__class__',\n",
       " '__delattr__',\n",
       " '__dict__',\n",
       " '__dir__',\n",
       " '__doc__',\n",
       " '__eq__',\n",
       " '__format__',\n",
       " '__ge__',\n",
       " '__getattribute__',\n",
       " '__gt__',\n",
       " '__hash__',\n",
       " '__init__',\n",
       " '__init_subclass__',\n",
       " '__le__',\n",
       " '__lt__',\n",
       " '__module__',\n",
       " '__ne__',\n",
       " '__new__',\n",
       " '__reduce__',\n",
       " '__reduce_ex__',\n",
       " '__repr__',\n",
       " '__setattr__',\n",
       " '__sizeof__',\n",
       " '__str__',\n",
       " '__subclasshook__',\n",
       " '__weakref__',\n",
       " '_bar',\n",
       " 'add',\n",
       " 'foo']"
      ]
     },
     "execution_count": 39,
     "metadata": {},
     "output_type": "execute_result"
    }
   ],
   "source": [
    "t = Test()\n",
    "dir(t)"
   ]
  },
  {
   "cell_type": "code",
   "execution_count": 40,
   "id": "infinite-solomon",
   "metadata": {},
   "outputs": [
    {
     "ename": "AttributeError",
     "evalue": "'Test' object has no attribute '__baz'",
     "output_type": "error",
     "traceback": [
      "\u001b[0;31m---------------------------------------------------------------------------\u001b[0m",
      "\u001b[0;31mAttributeError\u001b[0m                            Traceback (most recent call last)",
      "\u001b[0;32m<ipython-input-40-ead6810a10a9>\u001b[0m in \u001b[0;36m<module>\u001b[0;34m\u001b[0m\n\u001b[0;32m----> 1\u001b[0;31m \u001b[0mt\u001b[0m\u001b[0;34m.\u001b[0m\u001b[0m__baz\u001b[0m\u001b[0;34m\u001b[0m\u001b[0;34m\u001b[0m\u001b[0m\n\u001b[0m",
      "\u001b[0;31mAttributeError\u001b[0m: 'Test' object has no attribute '__baz'"
     ]
    }
   ],
   "source": [
    "t.__baz"
   ]
  },
  {
   "cell_type": "code",
   "execution_count": 32,
   "id": "adjacent-arnold",
   "metadata": {},
   "outputs": [],
   "source": [
    "t.foo = 4"
   ]
  },
  {
   "cell_type": "code",
   "execution_count": 33,
   "id": "earned-perspective",
   "metadata": {},
   "outputs": [],
   "source": [
    "t._bar = \"Hasan\""
   ]
  },
  {
   "cell_type": "code",
   "execution_count": 34,
   "id": "greater-oliver",
   "metadata": {},
   "outputs": [],
   "source": [
    "t.__baz = \"touch\""
   ]
  },
  {
   "cell_type": "code",
   "execution_count": 36,
   "id": "going-excerpt",
   "metadata": {},
   "outputs": [
    {
     "data": {
      "text/plain": [
       "'touch'"
      ]
     },
     "execution_count": 36,
     "metadata": {},
     "output_type": "execute_result"
    }
   ],
   "source": [
    "t.__baz"
   ]
  },
  {
   "cell_type": "markdown",
   "id": "metric-accuracy",
   "metadata": {},
   "source": [
    "outside the class the name is not `self.__baz`:"
   ]
  },
  {
   "cell_type": "code",
   "execution_count": 13,
   "id": "continued-client",
   "metadata": {},
   "outputs": [
    {
     "data": {
      "text/plain": [
       "'no touch'"
      ]
     },
     "execution_count": 13,
     "metadata": {},
     "output_type": "execute_result"
    }
   ],
   "source": [
    "t._Test__baz # this avoid override"
   ]
  },
  {
   "cell_type": "markdown",
   "id": "minimal-elimination",
   "metadata": {},
   "source": [
    "This gives us a list with the object’s attributes. Let’s take this list and look for our original variable names `foo`, `_bar`, and `__baz`:\n",
    "\n",
    "- The `self.foo` variable appears unmodified as `foo` in the attribute list.\n",
    "- `self._bar` behaves the same way—it shows up on the class as `_bar`. Like I said before, the leading underscore is just a convention in this case. A hint for the programmer.\n",
    "- However with `self.__baz`, things look a little different. When you search for `__baz` in that list you’ll see that there is no variable with that name.\n",
    "\n",
    "If you look closely you’ll see there’s an attribute called ‍`_Test__baz` on this object. This is the name *mangling* that the Python interpreter applies. It does this to protect the variable from getting overridden in subclasses.\n",
    "\n",
    "Let’s create another class that **extends** the Test class and attempts to override its existing attributes added in the constructor:"
   ]
  },
  {
   "cell_type": "code",
   "execution_count": 15,
   "id": "champion-legislation",
   "metadata": {},
   "outputs": [],
   "source": [
    "class ExtendedTest(Test):\n",
    "    def __init__(self):\n",
    "        super().__init__()\n",
    "        self.foo = 'overridden'\n",
    "        self._bar = 'overridden'\n",
    "        self.__baz = 'overridden'"
   ]
  },
  {
   "cell_type": "code",
   "execution_count": 16,
   "id": "subjective-failing",
   "metadata": {},
   "outputs": [
    {
     "data": {
      "text/plain": [
       "('overridden', 'overridden')"
      ]
     },
     "execution_count": 16,
     "metadata": {},
     "output_type": "execute_result"
    }
   ],
   "source": [
    "t2 = ExtendedTest()\n",
    "t2.foo, t2._bar"
   ]
  },
  {
   "cell_type": "code",
   "execution_count": 17,
   "id": "resistant-karen",
   "metadata": {},
   "outputs": [
    {
     "ename": "AttributeError",
     "evalue": "'ExtendedTest' object has no attribute '__baz'",
     "output_type": "error",
     "traceback": [
      "\u001b[0;31m---------------------------------------------------------------------------\u001b[0m",
      "\u001b[0;31mAttributeError\u001b[0m                            Traceback (most recent call last)",
      "\u001b[0;32m<ipython-input-17-ce8e845954f0>\u001b[0m in \u001b[0;36m<module>\u001b[0;34m\u001b[0m\n\u001b[0;32m----> 1\u001b[0;31m \u001b[0mt2\u001b[0m\u001b[0;34m.\u001b[0m\u001b[0m__baz\u001b[0m\u001b[0;34m\u001b[0m\u001b[0;34m\u001b[0m\u001b[0m\n\u001b[0m",
      "\u001b[0;31mAttributeError\u001b[0m: 'ExtendedTest' object has no attribute '__baz'"
     ]
    }
   ],
   "source": [
    "t2.__baz"
   ]
  },
  {
   "cell_type": "code",
   "execution_count": 18,
   "id": "handled-requirement",
   "metadata": {},
   "outputs": [
    {
     "data": {
      "text/plain": [
       "'overridden'"
      ]
     },
     "execution_count": 18,
     "metadata": {},
     "output_type": "execute_result"
    }
   ],
   "source": [
    "t2._ExtendedTest__baz"
   ]
  },
  {
   "cell_type": "code",
   "execution_count": 19,
   "id": "stretch-people",
   "metadata": {},
   "outputs": [
    {
     "data": {
      "text/plain": [
       "'no touch'"
      ]
     },
     "execution_count": 19,
     "metadata": {},
     "output_type": "execute_result"
    }
   ],
   "source": [
    "t2._Test__baz"
   ]
  },
  {
   "cell_type": "markdown",
   "id": "endangered-spirit",
   "metadata": {},
   "source": [
    "Double underscore name mangling is fully transparent to the programmer. Take a look at the following example that will confirm this:"
   ]
  },
  {
   "cell_type": "code",
   "execution_count": 20,
   "id": "damaged-procedure",
   "metadata": {},
   "outputs": [],
   "source": [
    "class ManglingTest:\n",
    "    def __init__(self):\n",
    "        self.__mangled = 'hello'\n",
    "\n",
    "    def get_mangled(self):\n",
    "        return self.__mangled"
   ]
  },
  {
   "cell_type": "code",
   "execution_count": 21,
   "id": "excess-athens",
   "metadata": {},
   "outputs": [
    {
     "data": {
      "text/plain": [
       "'hello'"
      ]
     },
     "execution_count": 21,
     "metadata": {},
     "output_type": "execute_result"
    }
   ],
   "source": [
    "ManglingTest().get_mangled()"
   ]
  },
  {
   "cell_type": "code",
   "execution_count": 22,
   "id": "suitable-scheme",
   "metadata": {},
   "outputs": [
    {
     "ename": "AttributeError",
     "evalue": "'ManglingTest' object has no attribute '__mangled'",
     "output_type": "error",
     "traceback": [
      "\u001b[0;31m---------------------------------------------------------------------------\u001b[0m",
      "\u001b[0;31mAttributeError\u001b[0m                            Traceback (most recent call last)",
      "\u001b[0;32m<ipython-input-22-14d8b1db7c4f>\u001b[0m in \u001b[0;36m<module>\u001b[0;34m\u001b[0m\n\u001b[0;32m----> 1\u001b[0;31m \u001b[0mManglingTest\u001b[0m\u001b[0;34m(\u001b[0m\u001b[0;34m)\u001b[0m\u001b[0;34m.\u001b[0m\u001b[0m__mangled\u001b[0m\u001b[0;34m\u001b[0m\u001b[0;34m\u001b[0m\u001b[0m\n\u001b[0m",
      "\u001b[0;31mAttributeError\u001b[0m: 'ManglingTest' object has no attribute '__mangled'"
     ]
    }
   ],
   "source": [
    "ManglingTest().__mangled"
   ]
  },
  {
   "cell_type": "markdown",
   "id": "ethical-north",
   "metadata": {},
   "source": [
    "**Does name mangling also apply to method names?** It sure does—name mangling affects all names that start with two underscore characters (“dunders”) in a class context:"
   ]
  },
  {
   "cell_type": "code",
   "execution_count": 23,
   "id": "heard-cosmetic",
   "metadata": {},
   "outputs": [],
   "source": [
    "class MangledMethod:\n",
    "    def __method(self):\n",
    "        return 42\n",
    "\n",
    "    def call_it(self):\n",
    "        return self.__method()"
   ]
  },
  {
   "cell_type": "code",
   "execution_count": 24,
   "id": "black-safety",
   "metadata": {},
   "outputs": [
    {
     "ename": "AttributeError",
     "evalue": "'MangledMethod' object has no attribute '__method'",
     "output_type": "error",
     "traceback": [
      "\u001b[0;31m---------------------------------------------------------------------------\u001b[0m",
      "\u001b[0;31mAttributeError\u001b[0m                            Traceback (most recent call last)",
      "\u001b[0;32m<ipython-input-24-3a27f66f344d>\u001b[0m in \u001b[0;36m<module>\u001b[0;34m\u001b[0m\n\u001b[0;32m----> 1\u001b[0;31m \u001b[0mMangledMethod\u001b[0m\u001b[0;34m(\u001b[0m\u001b[0;34m)\u001b[0m\u001b[0;34m.\u001b[0m\u001b[0m__method\u001b[0m\u001b[0;34m(\u001b[0m\u001b[0;34m)\u001b[0m\u001b[0;34m\u001b[0m\u001b[0;34m\u001b[0m\u001b[0m\n\u001b[0m",
      "\u001b[0;31mAttributeError\u001b[0m: 'MangledMethod' object has no attribute '__method'"
     ]
    }
   ],
   "source": [
    "MangledMethod().__method()"
   ]
  },
  {
   "cell_type": "code",
   "execution_count": 25,
   "id": "packed-testimony",
   "metadata": {},
   "outputs": [
    {
     "data": {
      "text/plain": [
       "42"
      ]
     },
     "execution_count": 25,
     "metadata": {},
     "output_type": "execute_result"
    }
   ],
   "source": [
    "MangledMethod().call_it()"
   ]
  },
  {
   "cell_type": "markdown",
   "id": "cooperative-withdrawal",
   "metadata": {},
   "source": [
    "## 4. Double Leadling and Trailing Underscore: `__var__`\n",
    "\n",
    "Perhaps surprisingly, name mangling is not applied if a name starts and ends with double underscores. Variables surrounded by a double underscore prefix and postfix are left unscathed by the Python interpeter:"
   ]
  },
  {
   "cell_type": "code",
   "execution_count": 27,
   "id": "active-possession",
   "metadata": {},
   "outputs": [],
   "source": [
    "class PrefixPostfixTest:\n",
    "    def __init__(self):\n",
    "        self.__bam__ = 42 # mangling does not occur here"
   ]
  },
  {
   "cell_type": "code",
   "execution_count": 28,
   "id": "dress-gabriel",
   "metadata": {},
   "outputs": [
    {
     "data": {
      "text/plain": [
       "42"
      ]
     },
     "execution_count": 28,
     "metadata": {},
     "output_type": "execute_result"
    }
   ],
   "source": [
    "PrefixPostfixTest().__bam__"
   ]
  },
  {
   "cell_type": "markdown",
   "id": "miniature-apparatus",
   "metadata": {},
   "source": [
    "However, names that have both leading and trailing double underscores are reserved for special use in the language. This rule covers things like `__init__` for object constructors, or `__call__` to make an object callable."
   ]
  },
  {
   "cell_type": "markdown",
   "id": "thick-adolescent",
   "metadata": {},
   "source": [
    "## 5. Single Underscore: `_`\n",
    "\n",
    "Per convention, a single standalone underscore is sometimes used as a name to indicate that a variable is temporary or insignificant.\n",
    "\n",
    "For example, in the following loop we don’t need access to the running index and we can use _ to indicate that it is just a temporary value:"
   ]
  },
  {
   "cell_type": "code",
   "execution_count": 40,
   "id": "technical-knock",
   "metadata": {},
   "outputs": [],
   "source": [
    "_ = 3 # _ can be a variable name"
   ]
  },
  {
   "cell_type": "code",
   "execution_count": 41,
   "id": "earned-collaboration",
   "metadata": {},
   "outputs": [
    {
     "data": {
      "text/plain": [
       "3"
      ]
     },
     "execution_count": 41,
     "metadata": {},
     "output_type": "execute_result"
    }
   ],
   "source": [
    "_"
   ]
  },
  {
   "cell_type": "code",
   "execution_count": 29,
   "id": "random-anime",
   "metadata": {},
   "outputs": [
    {
     "name": "stdout",
     "output_type": "stream",
     "text": [
      "Hello World\n",
      "Hello World\n",
      "Hello World\n",
      "Hello World\n",
      "Hello World\n"
     ]
    }
   ],
   "source": [
    "for _ in range(5):\n",
    "    print(\"Hello World\")"
   ]
  },
  {
   "cell_type": "markdown",
   "id": "economic-bolivia",
   "metadata": {},
   "source": [
    "You can also use single underscores in unpacking expressions as a “don’t care” variable to ignore particular values. Again, this meaning is “per convention” only and there’s no special behavior triggered in the Python interpreter. The single underscore is simply a valid variable name that’s sometimes used for this purpose.\n",
    "\n",
    "In the following code example I’m unpacking a car tuple into separate variables but I’m only interested in the values for color and mileage. However, in order for the unpacking expression to succeed I need to assign all values contained in the tuple to variables. That’s where _ is useful as a placeholder variable:"
   ]
  },
  {
   "cell_type": "code",
   "execution_count": 47,
   "id": "recreational-branch",
   "metadata": {},
   "outputs": [],
   "source": [
    "# unpacking\n",
    "car = (\"red\", \"auto\", 12, 3812.4)\n",
    "color, _, _, mileage = car"
   ]
  },
  {
   "cell_type": "code",
   "execution_count": 48,
   "id": "urban-federal",
   "metadata": {},
   "outputs": [
    {
     "data": {
      "text/plain": [
       "('red', 3812.4)"
      ]
     },
     "execution_count": 48,
     "metadata": {},
     "output_type": "execute_result"
    }
   ],
   "source": [
    "color, mileage"
   ]
  },
  {
   "cell_type": "code",
   "execution_count": 50,
   "id": "accredited-therapy",
   "metadata": {},
   "outputs": [
    {
     "data": {
      "text/plain": [
       "12"
      ]
     },
     "execution_count": 50,
     "metadata": {},
     "output_type": "execute_result"
    }
   ],
   "source": [
    "_"
   ]
  },
  {
   "cell_type": "markdown",
   "id": "closing-toner",
   "metadata": {},
   "source": [
    "## 6. "
   ]
  },
  {
   "cell_type": "code",
   "execution_count": 51,
   "id": "ignored-renewal",
   "metadata": {},
   "outputs": [
    {
     "data": {
      "text/plain": [
       "3000000000"
      ]
     },
     "execution_count": 51,
     "metadata": {},
     "output_type": "execute_result"
    }
   ],
   "source": [
    "3000_000_000"
   ]
  },
  {
   "cell_type": "markdown",
   "id": "sharp-museum",
   "metadata": {},
   "source": [
    "### Summary"
   ]
  },
  {
   "cell_type": "markdown",
   "id": "grand-affect",
   "metadata": {},
   "source": [
    "| Pattern | Example | Meaning |\n",
    "| :- | :- | :- |\n",
    "| Single Leading Underscore | `_var` | Naming convention indicating a name is meant for internal use. Generally not enforced by the Python interpreter (except in wildcard imports) and meant as a hint to the programmer only.|\n",
    "| Single Trailing Underscore | `var_` | Used by convention to avoid naming conflicts with Python keywords.|\n",
    "| Double Leading Underscore | `__var` | Triggers name mangling when used in a class context. Enforced by the Python interpreter.|\n",
    "| Double Leading and Trailing Underscore | `__var__` | Indicates special methods defined by the Python language. Avoid this naming scheme for your own attributes.|\n",
    "| Single Underscore | `_` |Sometimes used as a name for temporary or insignificant variables (“don’t care”). Also: The result of the last expression in a Python REPL.|\n",
    "\n",
    "[Reference](https://dbader.org/blog/meaning-of-underscores-in-python)"
   ]
  },
  {
   "cell_type": "code",
   "execution_count": null,
   "id": "foreign-wrestling",
   "metadata": {},
   "outputs": [],
   "source": []
  }
 ],
 "metadata": {
  "kernelspec": {
   "display_name": "Python 3",
   "language": "python",
   "name": "python3"
  },
  "language_info": {
   "codemirror_mode": {
    "name": "ipython",
    "version": 3
   },
   "file_extension": ".py",
   "mimetype": "text/x-python",
   "name": "python",
   "nbconvert_exporter": "python",
   "pygments_lexer": "ipython3",
   "version": "3.7.9"
  }
 },
 "nbformat": 4,
 "nbformat_minor": 5
}
