{
 "cells": [
  {
   "cell_type": "markdown",
   "id": "eleven-finish",
   "metadata": {},
   "source": [
    "# Decorators\n",
    "\n",
    "1. Inner Functions\n",
    "2. Returning Functions from Functions\n",
    "3. Simple Decorators\n",
    "4. Syntactic Sugar\n",
    "5. Reusing Decorators\n",
    "6. Decorating Functions with Arguments\n",
    "7. Returning Values From Decorated Functions\n",
    "8. Who Are You, Really?\n",
    "9. A Few Real World Examples\n",
    "\n",
    "By definition, a decorator is a function that takes another function and extends the behavior of the latter function without explicitly modifying it.\n",
    "\n",
    "This sounds confusing, but it’s really not, especially after you’ve seen a few examples of how decorators work.\n",
    "\n",
    "In Python, functions are [first-class objects](https://dbader.org/blog/python-first-class-functions). This means that functions can be passed around and used as arguments, just like any other object (string, int, float, list, and so on). Consider the following three functions:"
   ]
  },
  {
   "cell_type": "code",
   "execution_count": 1,
   "id": "smart-kruger",
   "metadata": {},
   "outputs": [],
   "source": [
    "def say_hello(name):\n",
    "    return f\"Hello {name}\"\n",
    "\n",
    "def be_awesome(name):\n",
    "    return f\"Yo {name}, together we are the awesomest!\"\n",
    "\n",
    "def greet_bob(greeter_func):\n",
    "    return greeter_func(\"Bob\")"
   ]
  },
  {
   "cell_type": "markdown",
   "id": "spanish-murder",
   "metadata": {},
   "source": [
    "Here, `say_hello()` and `be_awesome()` are regular functions that expect a name given as a string. The `greet_bob()` function however, expects a function as its argument. We can, for instance, pass it the `say_hello()` or the `be_awesome()` function:"
   ]
  },
  {
   "cell_type": "code",
   "execution_count": 2,
   "id": "divided-upper",
   "metadata": {},
   "outputs": [
    {
     "data": {
      "text/plain": [
       "'Hello Bob'"
      ]
     },
     "execution_count": 2,
     "metadata": {},
     "output_type": "execute_result"
    }
   ],
   "source": [
    "greet_bob(say_hello)"
   ]
  },
  {
   "cell_type": "code",
   "execution_count": 3,
   "id": "still-fourth",
   "metadata": {},
   "outputs": [
    {
     "data": {
      "text/plain": [
       "'Yo Bob, together we are the awesomest!'"
      ]
     },
     "execution_count": 3,
     "metadata": {},
     "output_type": "execute_result"
    }
   ],
   "source": [
    "greet_bob(be_awesome)"
   ]
  },
  {
   "cell_type": "markdown",
   "id": "convertible-position",
   "metadata": {},
   "source": [
    "## Inner Functions\n",
    "\n",
    "It’s possible to define functions inside other functions. Such functions are called [inner functions](https://realpython.com/inner-functions-what-are-they-good-for/). Here’s an example of a function with two inner functions:"
   ]
  },
  {
   "cell_type": "code",
   "execution_count": 5,
   "id": "organic-field",
   "metadata": {},
   "outputs": [
    {
     "name": "stdout",
     "output_type": "stream",
     "text": [
      "Printing from the parent() function\n",
      "Printing from the second_child() function\n",
      "Printing from the first_child() function\n"
     ]
    }
   ],
   "source": [
    "print(\"Printing from the parent() function\")\n",
    "\n",
    "def first_child():\n",
    "    print(\"Printing from the first_child() function\")\n",
    "\n",
    "def second_child():\n",
    "    print(\"Printing from the second_child() function\")\n",
    "\n",
    "second_child()\n",
    "first_child()"
   ]
  },
  {
   "cell_type": "markdown",
   "id": "shared-dressing",
   "metadata": {},
   "source": [
    "Note that the order in which the inner functions are defined does not matter. Like with any other functions, the printing only happens when the inner functions are executed.\n",
    "\n",
    "Furthermore, the inner functions are not defined until the parent function is called. They are locally scoped to `parent()`: they only exist inside the `parent()` function as local variables. Try calling `first_child()`. You should get an error:"
   ]
  },
  {
   "cell_type": "code",
   "execution_count": 6,
   "id": "ceramic-option",
   "metadata": {},
   "outputs": [
    {
     "name": "stdout",
     "output_type": "stream",
     "text": [
      "Printing from the first_child() function\n"
     ]
    }
   ],
   "source": [
    "first_child()"
   ]
  },
  {
   "cell_type": "markdown",
   "id": "discrete-winner",
   "metadata": {},
   "source": [
    "Whenever you call `parent()`, the inner functions `first_child()` and `second_child()` are also called. But because of their local scope, they aren’t available outside of the `parent()` function."
   ]
  },
  {
   "cell_type": "markdown",
   "id": "buried-location",
   "metadata": {},
   "source": [
    "## Returning Functions From Functions\n",
    "\n",
    "Python also allows you to use functions as return values. The following example returns one of the inner functions from the outer `parent()` function:"
   ]
  },
  {
   "cell_type": "code",
   "execution_count": 7,
   "id": "pointed-corpus",
   "metadata": {},
   "outputs": [],
   "source": [
    "def parent(num):\n",
    "    def first_child():\n",
    "        return \"Hi, I am Emma\"\n",
    "\n",
    "    def second_child():\n",
    "        return \"Call me Liam\"\n",
    "\n",
    "    if num == 1:\n",
    "        return first_child\n",
    "    else:\n",
    "        return second_child"
   ]
  },
  {
   "cell_type": "markdown",
   "id": "floating-february",
   "metadata": {},
   "source": [
    "Note that you are returning `first_child` without the parentheses. Recall that this means that you are returning a reference to the function `first_child`."
   ]
  },
  {
   "cell_type": "markdown",
   "id": "emerging-pioneer",
   "metadata": {},
   "source": [
    "## Simple Decorators"
   ]
  },
  {
   "cell_type": "markdown",
   "id": "educational-screw",
   "metadata": {},
   "source": [
    "Now that you’ve seen that functions are just like any other object in Python, you’re ready to move on and see the magical beast that is the Python decorator. Let’s start with an example:"
   ]
  },
  {
   "cell_type": "code",
   "execution_count": 22,
   "id": "intended-swaziland",
   "metadata": {},
   "outputs": [
    {
     "name": "stdout",
     "output_type": "stream",
     "text": [
      "this is done before calling function\n",
      "Hi! today is sunny!\n",
      "this is done after calling function\n"
     ]
    },
    {
     "ename": "NameError",
     "evalue": "name 'wrapper' is not defined",
     "output_type": "error",
     "traceback": [
      "\u001b[0;31m---------------------------------------------------------------------------\u001b[0m",
      "\u001b[0;31mNameError\u001b[0m                                 Traceback (most recent call last)",
      "\u001b[0;32m<ipython-input-22-e55c5ffe9289>\u001b[0m in \u001b[0;36m<module>\u001b[0;34m\u001b[0m\n\u001b[1;32m     15\u001b[0m \u001b[0;34m\u001b[0m\u001b[0m\n\u001b[1;32m     16\u001b[0m \u001b[0;31m# here, wrapper is not defined\u001b[0m\u001b[0;34m\u001b[0m\u001b[0;34m\u001b[0m\u001b[0;34m\u001b[0m\u001b[0m\n\u001b[0;32m---> 17\u001b[0;31m \u001b[0mwrapper\u001b[0m\u001b[0;34m(\u001b[0m\u001b[0;34m)\u001b[0m\u001b[0;34m\u001b[0m\u001b[0;34m\u001b[0m\u001b[0m\n\u001b[0m",
      "\u001b[0;31mNameError\u001b[0m: name 'wrapper' is not defined"
     ]
    }
   ],
   "source": [
    "def my_decorator(func):\n",
    "    def wrapper():\n",
    "        print('this is done before calling function')\n",
    "        func()\n",
    "        print('this is done after calling function')\n",
    "        \n",
    "    return wrapper\n",
    "\n",
    "def say_weather():\n",
    "    print(\"Hi! today is sunny!\")\n",
    "    \n",
    "# as the output of my_decoration function, function wrapper is well defined since we call it through calling my_decorator\n",
    "say_weather = my_decorator(say_weather)\n",
    "say_weather()\n",
    "\n",
    "# here, wrapper is not defined\n",
    "wrapper()"
   ]
  },
  {
   "cell_type": "code",
   "execution_count": 9,
   "id": "special-robinson",
   "metadata": {},
   "outputs": [],
   "source": [
    "def my_decorator(func):\n",
    "    def wrapper():\n",
    "        print(\"Something is happening before the function is called.\")\n",
    "        func()\n",
    "        print(\"Something is happening after the function is called.\")\n",
    "    return wrapper\n",
    "\n",
    "def say_whee():\n",
    "    print(\"Whee!\")"
   ]
  },
  {
   "cell_type": "code",
   "execution_count": 10,
   "id": "connected-speaking",
   "metadata": {},
   "outputs": [],
   "source": [
    "say_whee = my_decorator(say_whee)"
   ]
  },
  {
   "cell_type": "code",
   "execution_count": 11,
   "id": "searching-isolation",
   "metadata": {},
   "outputs": [
    {
     "name": "stdout",
     "output_type": "stream",
     "text": [
      "Something is happening before the function is called.\n",
      "Whee!\n",
      "Something is happening after the function is called.\n"
     ]
    }
   ],
   "source": [
    "say_whee()"
   ]
  },
  {
   "cell_type": "markdown",
   "id": "commercial-usage",
   "metadata": {},
   "source": [
    "The so-called decoration happens at the following line:\n",
    "\n",
    "> say_whee = my_decorator(say_whee)\n",
    "\n",
    "In effect, the name say_whee now points to the `wrapper()` inner function. Remember that you return wrapper as a function when you call `my_decorator(say_whee)`:"
   ]
  },
  {
   "cell_type": "code",
   "execution_count": 12,
   "id": "metric-dallas",
   "metadata": {},
   "outputs": [
    {
     "name": "stdout",
     "output_type": "stream",
     "text": [
      "Something is happening before the function is called.\n",
      "Whee!\n",
      "Something is happening after the function is called.\n"
     ]
    }
   ],
   "source": [
    "say_whee()"
   ]
  },
  {
   "cell_type": "markdown",
   "id": "ahead-creation",
   "metadata": {},
   "source": [
    "However, `wrapper()` has a reference to the original `say_whee()` as func, and calls that function between the two calls to `print()`.\n",
    "\n",
    "Put simply: **decorators wrap a function, modifying its behavior.**\n",
    "\n",
    "Before moving on, let’s have a look at a second example. Because `wrapper()` is a regular Python function, the way a decorator modifies a function can change dynamically. So as not to disturb your neighbors, the following example will only run the decorated code during the day:"
   ]
  },
  {
   "cell_type": "code",
   "execution_count": 13,
   "id": "motivated-allen",
   "metadata": {},
   "outputs": [],
   "source": [
    "from datetime import datetime\n",
    "\n",
    "def my_decorator(func):\n",
    "    def wrapper():\n",
    "        if datetime.now().hour > 22:\n",
    "            func()\n",
    "\n",
    "    return wrapper\n",
    "\n",
    "def say_hello():\n",
    "    print(\"hi\")"
   ]
  },
  {
   "cell_type": "code",
   "execution_count": 14,
   "id": "imported-benefit",
   "metadata": {},
   "outputs": [],
   "source": [
    "from datetime import datetime\n",
    "\n",
    "def not_during_the_night(func):\n",
    "    def wrapper():\n",
    "        if 7 <= datetime.now().hour < 22:\n",
    "            func()\n",
    "        else:\n",
    "            pass  # Hush, the neighbors are asleep\n",
    "    return wrapper\n",
    "\n",
    "def say_whee():\n",
    "    print(\"Whee!\")"
   ]
  },
  {
   "cell_type": "code",
   "execution_count": 15,
   "id": "involved-universal",
   "metadata": {},
   "outputs": [],
   "source": [
    "say_whee = not_during_the_night(say_whee)"
   ]
  },
  {
   "cell_type": "markdown",
   "id": "educational-algorithm",
   "metadata": {},
   "source": [
    "If you try to call `say_whee()` after bedtime, nothing will happen:"
   ]
  },
  {
   "cell_type": "markdown",
   "id": "electronic-father",
   "metadata": {},
   "source": [
    "## Syntactic Sugar!\n",
    "\n",
    "The way you decorated `say_whee()` above is a little clunky. First of all, you end up typing the name `say_whee` three times. In addition, the decoration gets a bit hidden away below the definition of the function.\n",
    "\n",
    "Instead, Python allows you to use decorators in a simpler way with the @ symbol, sometimes called the pie syntax (Barry Warsaw named this the 'pie-decorator' syntax, in honor of the Pie-thon Parrot shootout which occurred around the same time as the decorator syntax, and because the @ looks a little like a pie.)\n",
    "\n",
    "The following example does the exact same thing as the first decorator example:"
   ]
  },
  {
   "cell_type": "code",
   "execution_count": 16,
   "id": "reported-groove",
   "metadata": {},
   "outputs": [],
   "source": [
    "def my_decorator(func):\n",
    "    def wrapper():\n",
    "        print(\"Something is happening before the function is called.\")\n",
    "        func()\n",
    "        print(\"Something is happening after the function is called.\")\n",
    "        \n",
    "    return wrapper\n",
    "\n",
    "@my_decorator\n",
    "def say_whee():\n",
    "    \"\"\"\n",
    "    This function returns some stuff!\n",
    "    \"\"\"\n",
    "    print(\"Whee!\")"
   ]
  },
  {
   "cell_type": "markdown",
   "id": "yellow-school",
   "metadata": {},
   "source": [
    "So, `@my_decorator` is just an easier way of saying `say_whee = my_decorator(say_whee)`. It’s how you apply a decorator to a function."
   ]
  },
  {
   "cell_type": "markdown",
   "id": "inner-sleep",
   "metadata": {},
   "source": [
    "## Reusing Decorators\n",
    "\n",
    "Recall that a decorator is just a regular Python function. All the usual tools for easy reusability are available. Let’s move the decorator to its own module that can be used in many other functions.\n",
    "\n",
    "Create a file called `decorators.py` with the following content:"
   ]
  },
  {
   "cell_type": "code",
   "execution_count": null,
   "id": "annoying-passport",
   "metadata": {},
   "outputs": [],
   "source": [
    "def do_twice(func):\n",
    "    def wrapper_do_twice():\n",
    "        func()\n",
    "        func()\n",
    "    return wrapper_do_twice"
   ]
  },
  {
   "cell_type": "markdown",
   "id": "governmental-diesel",
   "metadata": {},
   "source": [
    "**Note:** You can name your inner function whatever you want, and a generic name like `wrapper()` is usually okay. You’ll see a lot of decorators in this article. To keep them apart, we’ll name the inner function with the same name as the decorator but with a wrapper_ prefix.\n",
    "\n",
    "You can now use this new decorator in other files by doing a regular import:\n",
    "\n",
    "```python\n",
    "from decorators import do_twice\n",
    "\n",
    "@do_twice\n",
    "def say_whee():\n",
    "    print(\"Whee!\")\n",
    "```\n",
    "\n",
    "When you run this example, you should see that the original `say_whee()` is executed twice:"
   ]
  },
  {
   "cell_type": "code",
   "execution_count": 17,
   "id": "completed-manitoba",
   "metadata": {},
   "outputs": [
    {
     "ename": "NameError",
     "evalue": "name 'do_twice' is not defined",
     "output_type": "error",
     "traceback": [
      "\u001b[0;31m---------------------------------------------------------------------------\u001b[0m",
      "\u001b[0;31mNameError\u001b[0m                                 Traceback (most recent call last)",
      "\u001b[0;32m<ipython-input-17-ce8751bc7ed2>\u001b[0m in \u001b[0;36m<module>\u001b[0;34m\u001b[0m\n\u001b[0;32m----> 1\u001b[0;31m \u001b[0;34m@\u001b[0m\u001b[0mdo_twice\u001b[0m\u001b[0;34m\u001b[0m\u001b[0;34m\u001b[0m\u001b[0m\n\u001b[0m\u001b[1;32m      2\u001b[0m \u001b[0;32mdef\u001b[0m \u001b[0msay_whee\u001b[0m\u001b[0;34m(\u001b[0m\u001b[0;34m)\u001b[0m\u001b[0;34m:\u001b[0m\u001b[0;34m\u001b[0m\u001b[0;34m\u001b[0m\u001b[0m\n\u001b[1;32m      3\u001b[0m     \u001b[0mprint\u001b[0m\u001b[0;34m(\u001b[0m\u001b[0;34m\"Whee!\"\u001b[0m\u001b[0;34m)\u001b[0m\u001b[0;34m\u001b[0m\u001b[0;34m\u001b[0m\u001b[0m\n",
      "\u001b[0;31mNameError\u001b[0m: name 'do_twice' is not defined"
     ]
    }
   ],
   "source": [
    "@do_twice\n",
    "def say_whee():\n",
    "    print(\"Whee!\")"
   ]
  },
  {
   "cell_type": "code",
   "execution_count": null,
   "id": "unique-mistress",
   "metadata": {},
   "outputs": [],
   "source": [
    "say_whee()"
   ]
  },
  {
   "cell_type": "markdown",
   "id": "deluxe-gibraltar",
   "metadata": {},
   "source": [
    "## Decorating Functions with Arguments\n",
    "\n",
    "Say that you have a function that accepts some arguments. Can you still decorate it? Let’s try:"
   ]
  },
  {
   "cell_type": "code",
   "execution_count": null,
   "id": "intelligent-johns",
   "metadata": {},
   "outputs": [],
   "source": [
    "@do_twice\n",
    "def greet(name):\n",
    "    print(f\"Hello {name}\")"
   ]
  },
  {
   "cell_type": "markdown",
   "id": "quantitative-holocaust",
   "metadata": {},
   "source": [
    "Unfortunately, running this code raises an error:"
   ]
  },
  {
   "cell_type": "code",
   "execution_count": null,
   "id": "early-pricing",
   "metadata": {},
   "outputs": [],
   "source": [
    "greet(\"Ali\")"
   ]
  },
  {
   "cell_type": "markdown",
   "id": "raised-commission",
   "metadata": {},
   "source": [
    "The problem is that the inner function `wrapper_do_twice()` does not take any arguments, but name=\"World\" was passed to it. You could fix this by letting `wrapper_do_twice()` accept one argument, but then it would not work for the `say_whee()` function you created earlier.\n",
    "\n",
    "The solution is to use `*args` and `**kwargs` in the inner wrapper function. Then it will accept an arbitrary number of positional and keyword arguments. Rewrite `decorators.py` as follows:"
   ]
  },
  {
   "cell_type": "code",
   "execution_count": null,
   "id": "fourth-visiting",
   "metadata": {},
   "outputs": [],
   "source": [
    "def do_twice(func):\n",
    "    def wrapper_do_twice(*args, **kwargs):\n",
    "        func(*args, **kwargs)\n",
    "        func(*args, **kwargs)\n",
    "        \n",
    "    return wrapper_do_twice"
   ]
  },
  {
   "cell_type": "code",
   "execution_count": null,
   "id": "treated-canyon",
   "metadata": {},
   "outputs": [],
   "source": [
    "def do_twice(func):\n",
    "    def wrapper_do_twice(*args, **kwargs):\n",
    "        func(*args, **kwargs)\n",
    "        func(*args, **kwargs)\n",
    "    return wrapper_do_twice\n",
    "\n",
    "@do_twice\n",
    "def greet(name):\n",
    "    print(f\"Hello {name}\")\n",
    "    \n",
    "@do_twice\n",
    "def greet(name):\n",
    "    print(f\"Hello {name}\")"
   ]
  },
  {
   "cell_type": "markdown",
   "id": "stuffed-protocol",
   "metadata": {},
   "source": [
    "The `wrapper_do_twice()` inner function now accepts any number of arguments and passes them on to the function it decorates. Now both your `say_whee()` and `greet()` examples works:"
   ]
  },
  {
   "cell_type": "code",
   "execution_count": null,
   "id": "synthetic-amplifier",
   "metadata": {},
   "outputs": [],
   "source": [
    "say_whee()"
   ]
  },
  {
   "cell_type": "code",
   "execution_count": null,
   "id": "eight-literature",
   "metadata": {},
   "outputs": [],
   "source": [
    "greet(\"Ali\")"
   ]
  },
  {
   "cell_type": "markdown",
   "id": "celtic-major",
   "metadata": {},
   "source": [
    "## Returning Values From Decorated Functions\n",
    "What happens to the return value of decorated functions? Well, that’s up to the decorator to decide. Let’s say you decorate a simple function as follows:"
   ]
  },
  {
   "cell_type": "code",
   "execution_count": null,
   "id": "cleared-stomach",
   "metadata": {},
   "outputs": [],
   "source": [
    "@do_twice\n",
    "def return_greeting(name):\n",
    "    print(\"Creating greeting\")\n",
    "    return f\"Hi {name}\""
   ]
  },
  {
   "cell_type": "code",
   "execution_count": null,
   "id": "conservative-intent",
   "metadata": {},
   "outputs": [],
   "source": [
    "output = return_greeting(\"Ali\")\n",
    "print(output)"
   ]
  },
  {
   "cell_type": "markdown",
   "id": "friendly-blackberry",
   "metadata": {},
   "source": [
    "Oops, your decorator ate the return value from the function.\n",
    "\n",
    "Because the `do_twice_wrapper()` doesn’t explicitly return a value, the call `return_greeting(\"Ali\")` ended up returning None.\n",
    "\n",
    "To fix this, you need to make sure the wrapper function returns the return value of the decorated function. Change your `decorators.py` file:"
   ]
  },
  {
   "cell_type": "code",
   "execution_count": null,
   "id": "welcome-desperate",
   "metadata": {},
   "outputs": [],
   "source": [
    "def do_twice(func):\n",
    "    def wrapper_do_twice(*args, **kwargs):\n",
    "        func(*args, **kwargs)\n",
    "        output = func(*args, **kwargs)\n",
    "        return output\n",
    "    return wrapper_do_twice\n",
    "\n",
    "@do_twice\n",
    "def return_greeting(name):\n",
    "    print(\"Creating greeting\")\n",
    "    return f\"Hi {name}\""
   ]
  },
  {
   "cell_type": "markdown",
   "id": "empirical-shopper",
   "metadata": {},
   "source": [
    "The return value from the last execution of the function is returned:"
   ]
  },
  {
   "cell_type": "code",
   "execution_count": null,
   "id": "fifth-harmony",
   "metadata": {},
   "outputs": [],
   "source": [
    "output = return_greeting(\"Ali\")\n",
    "print(output)"
   ]
  },
  {
   "cell_type": "markdown",
   "id": "caroline-belief",
   "metadata": {},
   "source": [
    "## Who Are You, Really?\n",
    "\n",
    "A great convenience when working with Python, especially in the interactive shell, is its powerful introspection ability. Introspection is the ability of an object to know about its own attributes at runtime. For instance, a function knows its own name and documentation:"
   ]
  },
  {
   "cell_type": "code",
   "execution_count": 18,
   "id": "sealed-jackson",
   "metadata": {},
   "outputs": [
    {
     "data": {
      "text/plain": [
       "<function print>"
      ]
     },
     "execution_count": 18,
     "metadata": {},
     "output_type": "execute_result"
    }
   ],
   "source": [
    "print"
   ]
  },
  {
   "cell_type": "code",
   "execution_count": 19,
   "id": "supported-complaint",
   "metadata": {},
   "outputs": [
    {
     "data": {
      "text/plain": [
       "'print'"
      ]
     },
     "execution_count": 19,
     "metadata": {},
     "output_type": "execute_result"
    }
   ],
   "source": [
    "print.__name__"
   ]
  },
  {
   "cell_type": "code",
   "execution_count": 20,
   "id": "starting-amendment",
   "metadata": {},
   "outputs": [
    {
     "name": "stdout",
     "output_type": "stream",
     "text": [
      "Help on built-in function print in module builtins:\n",
      "\n",
      "print(...)\n",
      "    print(value, ..., sep=' ', end='\\n', file=sys.stdout, flush=False)\n",
      "    \n",
      "    Prints the values to a stream, or to sys.stdout by default.\n",
      "    Optional keyword arguments:\n",
      "    file:  a file-like object (stream); defaults to the current sys.stdout.\n",
      "    sep:   string inserted between values, default a space.\n",
      "    end:   string appended after the last value, default a newline.\n",
      "    flush: whether to forcibly flush the stream.\n",
      "\n"
     ]
    }
   ],
   "source": [
    "help(print)"
   ]
  },
  {
   "cell_type": "markdown",
   "id": "breathing-hello",
   "metadata": {},
   "source": [
    "The introspection works for functions you define yourself as well:"
   ]
  },
  {
   "cell_type": "code",
   "execution_count": null,
   "id": "quick-integrity",
   "metadata": {},
   "outputs": [],
   "source": [
    "say_whee"
   ]
  },
  {
   "cell_type": "code",
   "execution_count": null,
   "id": "connected-hearing",
   "metadata": {},
   "outputs": [],
   "source": [
    "say_whee.__name__"
   ]
  },
  {
   "cell_type": "code",
   "execution_count": null,
   "id": "confident-attention",
   "metadata": {},
   "outputs": [],
   "source": [
    "help(say_whee)"
   ]
  },
  {
   "cell_type": "markdown",
   "id": "champion-daniel",
   "metadata": {},
   "source": [
    "`wrapper_do_twice()`\n",
    "\n",
    "However, after being decorated, `say_whee()` has gotten very confused about its identity. It now reports being the `wrapper_do_twice()` inner function inside the `do_twice()` decorator. Although technically true, this is not very useful information.\n",
    "\n",
    "To fix this, decorators should use the `@functools.wraps` decorator, which will preserve information about the original function. Update decorators.py again:"
   ]
  },
  {
   "cell_type": "code",
   "execution_count": null,
   "id": "atomic-depression",
   "metadata": {},
   "outputs": [],
   "source": [
    "import functools\n",
    "\n",
    "def do_twice(func):\n",
    "    @functools.wraps(func)\n",
    "    def wrapper_do_twice(*args, **kwargs):\n",
    "        func(*args, **kwargs)\n",
    "        return func(*args, **kwargs)\n",
    "    return wrapper_do_twice\n",
    "\n",
    "@do_twice\n",
    "def say_whee():\n",
    "    \"\"\"\n",
    "    This function says whee!\n",
    "    \"\"\"\n",
    "    print(\"Whee!\")"
   ]
  },
  {
   "cell_type": "markdown",
   "id": "afraid-allowance",
   "metadata": {},
   "source": [
    "You do not need to change anything about the decorated `say_whee()` function:"
   ]
  },
  {
   "cell_type": "code",
   "execution_count": null,
   "id": "dated-listening",
   "metadata": {},
   "outputs": [],
   "source": [
    "say_whee"
   ]
  },
  {
   "cell_type": "code",
   "execution_count": null,
   "id": "attached-montana",
   "metadata": {},
   "outputs": [],
   "source": [
    "say_whee.__name__"
   ]
  },
  {
   "cell_type": "code",
   "execution_count": null,
   "id": "attached-school",
   "metadata": {},
   "outputs": [],
   "source": [
    "help(say_whee)"
   ]
  },
  {
   "cell_type": "markdown",
   "id": "distinct-street",
   "metadata": {},
   "source": [
    "Much better! Now `say_whee()` is still itself after decoration."
   ]
  },
  {
   "cell_type": "markdown",
   "id": "opposite-yahoo",
   "metadata": {},
   "source": [
    "## A Few Real World Examples\n",
    "\n",
    "Let’s look at a few more useful examples of decorators. You’ll notice that they’ll mainly follow the same pattern that you’ve learned so far:"
   ]
  },
  {
   "cell_type": "code",
   "execution_count": null,
   "id": "infinite-studio",
   "metadata": {},
   "outputs": [],
   "source": [
    "import functools\n",
    "\n",
    "def decorator(func):\n",
    "    @functools.wraps(func)\n",
    "    def wrapper_decorator(*args, **kwargs):\n",
    "        # Do something before\n",
    "        value = func(*args, **kwargs)\n",
    "        # Do something after\n",
    "        return value\n",
    "    return wrapper_decorator"
   ]
  },
  {
   "cell_type": "markdown",
   "id": "sporting-scotland",
   "metadata": {},
   "source": [
    "This formula is a good boilerplate template for building more complex decorators."
   ]
  },
  {
   "cell_type": "markdown",
   "id": "weighted-passport",
   "metadata": {},
   "source": [
    "## Timing Functions\n",
    "\n",
    "Let’s start by creating a `@timer` decorator. It will measure the time a function takes to execute and print the duration to the console. Here’s the code:"
   ]
  },
  {
   "cell_type": "code",
   "execution_count": null,
   "id": "honest-taxation",
   "metadata": {},
   "outputs": [],
   "source": [
    "import functools\n",
    "import time\n",
    "\n",
    "def timer(func):\n",
    "    \"\"\"Print the runtime of the decorated function\"\"\"\n",
    "    @functools.wraps(func)\n",
    "    def wrapper_timer(*args, **kwargs):\n",
    "        start_time = time.perf_counter()    # 1\n",
    "        value = func(*args, **kwargs)\n",
    "        end_time = time.perf_counter()      # 2\n",
    "        run_time = end_time - start_time    # 3\n",
    "        print(f\"Finished {func.__name__!r} in {run_time:.4f} secs\")\n",
    "        return value\n",
    "    return wrapper_timer\n",
    "\n",
    "@timer\n",
    "def waste_some_time(num_times):\n",
    "    for _ in range(num_times):\n",
    "        sum([i**2 for i in range(10000)])"
   ]
  },
  {
   "cell_type": "markdown",
   "id": "presidential-spirituality",
   "metadata": {},
   "source": [
    "This decorator works by storing the time just before the function starts running (at the line marked # 1) and just after the function finishes (at # 2). The time the function takes is then the difference between the two (at # 3). We use the `time.perf_counter()` function, which does a good job of measuring time intervals. Here are some examples of timings:\n",
    "\n",
    "**Note:** The `@timer` decorator is great if you just want to get an idea about the runtime of your functions. If you want to do more precise measurements of code, you should instead consider the `timeit` module in the standard library. It temporarily disables garbage collection and runs multiple trials to strip out noise from quick function calls."
   ]
  },
  {
   "cell_type": "markdown",
   "id": "historic-mixture",
   "metadata": {},
   "source": [
    "## Debugging Code\n",
    "\n",
    "The following `@debug` decorator will print the arguments a function is called with as well as its return value every time the function is called:"
   ]
  },
  {
   "cell_type": "code",
   "execution_count": null,
   "id": "hollywood-round",
   "metadata": {},
   "outputs": [],
   "source": [
    "def debug(func):\n",
    "    \"\"\"Print the function signature and return value\"\"\"\n",
    "    @functools.wraps(func)\n",
    "    def wrapper_debug(*args, **kwargs):\n",
    "        args_repr = [repr(a) for a in args]                      # 1\n",
    "        kwargs_repr = [f\"{k}={v!r}\" for k, v in kwargs.items()]  # 2\n",
    "        signature = \", \".join(args_repr + kwargs_repr)           # 3\n",
    "        print(f\"Calling {func.__name__}({signature})\")\n",
    "        value = func(*args, **kwargs)\n",
    "        print(f\"{func.__name__!r} returned {value!r}\")           # 4\n",
    "        return value\n",
    "    return wrapper_debug"
   ]
  },
  {
   "cell_type": "markdown",
   "id": "scheduled-eleven",
   "metadata": {},
   "source": [
    "The signature is created by joining the string representations of all the arguments. The numbers in the following list correspond to the numbered comments in the code:\n",
    "\n",
    "- Create a list of the positional arguments. Use `repr()` to get a nice string representing each argument.\n",
    "- Create a list of the keyword arguments. The f-string formats each argument as `key=value` where the `!r` specifier means that `repr()` is used to represent the value.\n",
    "- The lists of positional and keyword arguments is joined together to one signature string with each argument separated by a comma.\n",
    "- The return value is printed after the function is executed.\n",
    "\n",
    "Let’s see how the decorator works in practice by applying it to a simple function with one position and one keyword argument:"
   ]
  },
  {
   "cell_type": "code",
   "execution_count": null,
   "id": "refined-johns",
   "metadata": {},
   "outputs": [],
   "source": [
    "@debug\n",
    "def make_greeting(name, age=None):\n",
    "    if age is None:\n",
    "        return f\"Howdy {name}!\"\n",
    "    else:\n",
    "        return f\"Whoa {name}! {age} already, you are growing up!\"\n"
   ]
  },
  {
   "cell_type": "markdown",
   "id": "convinced-litigation",
   "metadata": {},
   "source": [
    "Note how the `@debug` decorator prints the signature and return value of the `make_greeting()` function:"
   ]
  },
  {
   "cell_type": "code",
   "execution_count": null,
   "id": "vietnamese-seattle",
   "metadata": {},
   "outputs": [],
   "source": [
    "make_greeting(\"Ali\")"
   ]
  },
  {
   "cell_type": "code",
   "execution_count": null,
   "id": "desperate-gnome",
   "metadata": {},
   "outputs": [],
   "source": [
    "make_greeting(\"Ali\", age=28)"
   ]
  },
  {
   "cell_type": "markdown",
   "id": "after-recognition",
   "metadata": {},
   "source": [
    "This example might not seem immediately useful since the `@debug` decorator just repeats what you just wrote. It’s more powerful when applied to small convenience functions that you don’t call directly yourself.\n",
    "\n",
    "The following example calculates an approximation to the mathematical constant e:"
   ]
  },
  {
   "cell_type": "code",
   "execution_count": null,
   "id": "tender-birthday",
   "metadata": {},
   "outputs": [],
   "source": [
    "import math\n",
    "\n",
    "# Apply a decorator to a standard library function\n",
    "math.factorial = debug(math.factorial)\n",
    "\n",
    "def approximate_e(terms=18):\n",
    "    return sum(1 / math.factorial(n) for n in range(terms))"
   ]
  },
  {
   "cell_type": "markdown",
   "id": "sound-airport",
   "metadata": {},
   "source": [
    "This example also shows how you can apply a decorator to a function that has already been defined. The approximation of e is based on the following series expansion:\n",
    "\n",
    "$e = \\sum_{n=0}^{\\infty} \\frac{1}{n} = \\frac{1}{0!} + \\frac{1}{1!} + \\frac{1}{2!} + \\frac{1}{3!} + ...$\n",
    "\n",
    "When calling the `approximate_e()` function, you can see the `@debug` decorator at work:"
   ]
  },
  {
   "cell_type": "code",
   "execution_count": null,
   "id": "optional-telescope",
   "metadata": {},
   "outputs": [],
   "source": [
    "approximate_e(5)"
   ]
  },
  {
   "cell_type": "markdown",
   "id": "thick-election",
   "metadata": {},
   "source": [
    "## Slowing Down Code\n",
    "\n",
    "This next example might not seem very useful. Why would you want to slow down your Python code? Probably the most common use case is that you want to rate-limit a function that continuously checks whether a resource—like a web page—has changed. The `@slow_down` decorator will sleep one second before it calls the decorated function:"
   ]
  },
  {
   "cell_type": "code",
   "execution_count": null,
   "id": "divided-going",
   "metadata": {},
   "outputs": [],
   "source": [
    "import functools\n",
    "import time\n",
    "\n",
    "def slow_down(func):\n",
    "    \"\"\"Sleep 1 second before calling the function\"\"\"\n",
    "    @functools.wraps(func)\n",
    "    def wrapper_slow_down(*args, **kwargs):\n",
    "        time.sleep(1)\n",
    "        return func(*args, **kwargs)\n",
    "    return wrapper_slow_down\n",
    "\n",
    "@slow_down\n",
    "def countdown(from_number):\n",
    "    if from_number < 1:\n",
    "        print(\"Liftoff!\")\n",
    "    else:\n",
    "        print(from_number)\n",
    "        countdown(from_number - 1)"
   ]
  },
  {
   "cell_type": "code",
   "execution_count": null,
   "id": "spoken-pantyhose",
   "metadata": {},
   "outputs": [],
   "source": [
    "countdown(3)"
   ]
  },
  {
   "cell_type": "code",
   "execution_count": 1,
   "id": "ongoing-deposit",
   "metadata": {},
   "outputs": [
    {
     "name": "stdout",
     "output_type": "stream",
     "text": [
      "Hello World\n",
      "function foo\n",
      "GoodBye World\n"
     ]
    },
    {
     "ename": "NameError",
     "evalue": "name 'wrapper' is not defined",
     "output_type": "error",
     "traceback": [
      "\u001b[0;31m---------------------------------------------------------------------------\u001b[0m",
      "\u001b[0;31mNameError\u001b[0m                                 Traceback (most recent call last)",
      "\u001b[0;32m<ipython-input-1-f46474bc765c>\u001b[0m in \u001b[0;36m<module>\u001b[0;34m\u001b[0m\n\u001b[1;32m     13\u001b[0m \u001b[0;34m\u001b[0m\u001b[0m\n\u001b[1;32m     14\u001b[0m \u001b[0;31m# here, wrapper is not defined\u001b[0m\u001b[0;34m\u001b[0m\u001b[0;34m\u001b[0m\u001b[0;34m\u001b[0m\u001b[0m\n\u001b[0;32m---> 15\u001b[0;31m \u001b[0mwrapper\u001b[0m\u001b[0;34m(\u001b[0m\u001b[0;34m)\u001b[0m\u001b[0;34m\u001b[0m\u001b[0;34m\u001b[0m\u001b[0m\n\u001b[0m",
      "\u001b[0;31mNameError\u001b[0m: name 'wrapper' is not defined"
     ]
    }
   ],
   "source": []
  },
  {
   "cell_type": "code",
   "execution_count": null,
   "id": "hourly-vintage",
   "metadata": {},
   "outputs": [],
   "source": []
  }
 ],
 "metadata": {
  "kernelspec": {
   "display_name": "Python 3",
   "language": "python",
   "name": "python3"
  },
  "language_info": {
   "codemirror_mode": {
    "name": "ipython",
    "version": 3
   },
   "file_extension": ".py",
   "mimetype": "text/x-python",
   "name": "python",
   "nbconvert_exporter": "python",
   "pygments_lexer": "ipython3",
   "version": "3.7.9"
  }
 },
 "nbformat": 4,
 "nbformat_minor": 5
}
