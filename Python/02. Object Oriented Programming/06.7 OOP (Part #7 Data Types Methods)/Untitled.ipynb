{
 "cells": [
  {
   "cell_type": "markdown",
   "id": "exciting-induction",
   "metadata": {},
   "source": [
    "# Data Types Methods"
   ]
  },
  {
   "cell_type": "markdown",
   "id": "magnetic-minnesota",
   "metadata": {},
   "source": [
    "### Convert `float` and `str`"
   ]
  },
  {
   "cell_type": "code",
   "execution_count": null,
   "id": "ruled-watershed",
   "metadata": {},
   "outputs": [],
   "source": []
  },
  {
   "cell_type": "code",
   "execution_count": null,
   "id": "important-greenhouse",
   "metadata": {},
   "outputs": [],
   "source": []
  },
  {
   "cell_type": "markdown",
   "id": "quality-investing",
   "metadata": {},
   "source": [
    "### String"
   ]
  },
  {
   "cell_type": "code",
   "execution_count": 3,
   "id": "outside-taxation",
   "metadata": {},
   "outputs": [
    {
     "data": {
      "text/plain": [
       "False"
      ]
     },
     "execution_count": 3,
     "metadata": {},
     "output_type": "execute_result"
    }
   ],
   "source": [
    "\"ALI\".islower()"
   ]
  },
  {
   "cell_type": "code",
   "execution_count": 4,
   "id": "abandoned-extreme",
   "metadata": {},
   "outputs": [
    {
     "data": {
      "text/plain": [
       "True"
      ]
     },
     "execution_count": 4,
     "metadata": {},
     "output_type": "execute_result"
    }
   ],
   "source": [
    "\"ALI\".isupper()"
   ]
  },
  {
   "cell_type": "code",
   "execution_count": null,
   "id": "smoking-boulder",
   "metadata": {},
   "outputs": [],
   "source": [
    ".startwith() .endwidth() .center(10)"
   ]
  },
  {
   "cell_type": "markdown",
   "id": "least-wilson",
   "metadata": {},
   "source": [
    "#### Find Character and Substring"
   ]
  },
  {
   "cell_type": "code",
   "execution_count": 9,
   "id": "cognitive-closure",
   "metadata": {},
   "outputs": [
    {
     "data": {
      "text/plain": [
       "(5, 12)"
      ]
     },
     "execution_count": 9,
     "metadata": {},
     "output_type": "execute_result"
    }
   ],
   "source": [
    "\"line number 222\".find(\"number\"), \"line number 222\".find(\"2\")"
   ]
  },
  {
   "cell_type": "code",
   "execution_count": 12,
   "id": "crude-habitat",
   "metadata": {},
   "outputs": [
    {
     "data": {
      "text/plain": [
       "(12, 13)"
      ]
     },
     "execution_count": 12,
     "metadata": {},
     "output_type": "execute_result"
    }
   ],
   "source": [
    "target = \"2\"\n",
    "mystr = \"line number 222 is here\"\n",
    "\n",
    "start = mystr.find(target)\n",
    "end = start + len(target)\n",
    "start, end"
   ]
  },
  {
   "cell_type": "code",
   "execution_count": 14,
   "id": "dominican-queen",
   "metadata": {},
   "outputs": [
    {
     "data": {
      "text/plain": [
       "14"
      ]
     },
     "execution_count": 14,
     "metadata": {},
     "output_type": "execute_result"
    }
   ],
   "source": [
    "\"line number 222\".rfind(\"2\")"
   ]
  },
  {
   "cell_type": "markdown",
   "id": "popular-worship",
   "metadata": {},
   "source": [
    "#### Remove Whitespace"
   ]
  },
  {
   "cell_type": "code",
   "execution_count": 15,
   "id": "secret-preference",
   "metadata": {},
   "outputs": [
    {
     "data": {
      "text/plain": [
       "'I    Love'"
      ]
     },
     "execution_count": 15,
     "metadata": {},
     "output_type": "execute_result"
    }
   ],
   "source": [
    "\"      I    Love   \".strip()"
   ]
  },
  {
   "cell_type": "code",
   "execution_count": 16,
   "id": "japanese-patrick",
   "metadata": {},
   "outputs": [
    {
     "data": {
      "text/plain": [
       "'      I    Love'"
      ]
     },
     "execution_count": 16,
     "metadata": {},
     "output_type": "execute_result"
    }
   ],
   "source": [
    "\"      I    Love   \".rstrip()"
   ]
  },
  {
   "cell_type": "code",
   "execution_count": 17,
   "id": "swedish-dispatch",
   "metadata": {},
   "outputs": [
    {
     "data": {
      "text/plain": [
       "'I    Love   '"
      ]
     },
     "execution_count": 17,
     "metadata": {},
     "output_type": "execute_result"
    }
   ],
   "source": [
    "\"      I    Love   \".lstrip()"
   ]
  },
  {
   "cell_type": "markdown",
   "id": "elder-conservative",
   "metadata": {},
   "source": [
    "#### String Formating"
   ]
  },
  {
   "cell_type": "code",
   "execution_count": 24,
   "id": "aware-lending",
   "metadata": {},
   "outputs": [
    {
     "data": {
      "text/plain": [
       "'My name is Mohsen'"
      ]
     },
     "execution_count": 24,
     "metadata": {},
     "output_type": "execute_result"
    }
   ],
   "source": [
    "# bad practice:\n",
    "\"My name\" + \" \" + \"is\" + \" \" + \"Mohsen\" "
   ]
  },
  {
   "cell_type": "code",
   "execution_count": 18,
   "id": "boring-increase",
   "metadata": {},
   "outputs": [],
   "source": [
    "car_name = \"Ferrari\"\n",
    "location = \"parking\"\n",
    "int_num = 5\n",
    "float_num = 2324.92374923749237"
   ]
  },
  {
   "cell_type": "code",
   "execution_count": 23,
   "id": "narrative-discussion",
   "metadata": {},
   "outputs": [
    {
     "data": {
      "text/plain": [
       "'there are 5 Ferrari car in parking'"
      ]
     },
     "execution_count": 23,
     "metadata": {},
     "output_type": "execute_result"
    }
   ],
   "source": [
    "my_str = \"there are {} {} car in {}\"\n",
    "my_str.format(int_num, car_name, location)"
   ]
  },
  {
   "cell_type": "code",
   "execution_count": 21,
   "id": "bizarre-administration",
   "metadata": {},
   "outputs": [
    {
     "data": {
      "text/plain": [
       "'there are 5 cars in parking'"
      ]
     },
     "execution_count": 21,
     "metadata": {},
     "output_type": "execute_result"
    }
   ],
   "source": [
    "my_str = \"there are {0} cars in {1}\" # index\n",
    "my_str.format(int_num, location)"
   ]
  },
  {
   "cell_type": "code",
   "execution_count": 22,
   "id": "meaning-pollution",
   "metadata": {},
   "outputs": [
    {
     "data": {
      "text/plain": [
       "'there are 5 cars in parking'"
      ]
     },
     "execution_count": 22,
     "metadata": {},
     "output_type": "execute_result"
    }
   ],
   "source": [
    "my_str = \"there are {int_num} cars in {location}\" # keyword\n",
    "my_str.format(int_num=int_num, location=location)"
   ]
  },
  {
   "cell_type": "code",
   "execution_count": 32,
   "id": "talented-examination",
   "metadata": {},
   "outputs": [
    {
     "data": {
      "text/plain": [
       "'your name is 2324.92'"
      ]
     },
     "execution_count": 32,
     "metadata": {},
     "output_type": "execute_result"
    }
   ],
   "source": [
    "\"your name is {float_num:.6}\".format(float_num=float_num)"
   ]
  },
  {
   "cell_type": "code",
   "execution_count": 28,
   "id": "wireless-pepper",
   "metadata": {},
   "outputs": [
    {
     "data": {
      "text/plain": [
       "'a float number with 8 digits: 2324.9237 '"
      ]
     },
     "execution_count": 28,
     "metadata": {},
     "output_type": "execute_result"
    }
   ],
   "source": [
    "# f-strings\n",
    "f\"a float number with 8 digits: {float_num:0.8} \""
   ]
  },
  {
   "cell_type": "markdown",
   "id": "collect-seeking",
   "metadata": {},
   "source": [
    "### String"
   ]
  },
  {
   "cell_type": "code",
   "execution_count": null,
   "id": "meaning-juvenile",
   "metadata": {},
   "outputs": [],
   "source": []
  },
  {
   "cell_type": "markdown",
   "id": "standard-recruitment",
   "metadata": {},
   "source": [
    "### List"
   ]
  },
  {
   "cell_type": "markdown",
   "id": "interim-upgrade",
   "metadata": {},
   "source": [
    "#### Add, insesrt, pop"
   ]
  },
  {
   "cell_type": "code",
   "execution_count": null,
   "id": "seeing-creek",
   "metadata": {},
   "outputs": [],
   "source": []
  },
  {
   "cell_type": "markdown",
   "id": "generic-professional",
   "metadata": {},
   "source": [
    "#### Sort"
   ]
  },
  {
   "cell_type": "code",
   "execution_count": 35,
   "id": "neither-david",
   "metadata": {},
   "outputs": [
    {
     "data": {
      "text/plain": [
       "[0, 1, 2, 4, 9]"
      ]
     },
     "execution_count": 35,
     "metadata": {},
     "output_type": "execute_result"
    }
   ],
   "source": [
    "mylist = [2,9, 4,1, 0]\n",
    "mylist.sort()\n",
    "mylist"
   ]
  },
  {
   "cell_type": "markdown",
   "id": "meaning-retail",
   "metadata": {},
   "source": [
    "#### Find"
   ]
  },
  {
   "cell_type": "code",
   "execution_count": null,
   "id": "spread-addiction",
   "metadata": {},
   "outputs": [],
   "source": [
    "mylist.index"
   ]
  },
  {
   "cell_type": "code",
   "execution_count": null,
   "id": "contemporary-coating",
   "metadata": {},
   "outputs": [],
   "source": []
  },
  {
   "cell_type": "markdown",
   "id": "amended-drain",
   "metadata": {},
   "source": [
    "### Dictionary"
   ]
  },
  {
   "cell_type": "code",
   "execution_count": 36,
   "id": "sticky-championship",
   "metadata": {},
   "outputs": [],
   "source": [
    "mydict = {\"one\":1, \"two\": 2, \"three\":3}"
   ]
  },
  {
   "cell_type": "code",
   "execution_count": 37,
   "id": "built-holmes",
   "metadata": {},
   "outputs": [
    {
     "data": {
      "text/plain": [
       "1"
      ]
     },
     "execution_count": 37,
     "metadata": {},
     "output_type": "execute_result"
    }
   ],
   "source": [
    "mydict[\"one\"]"
   ]
  },
  {
   "cell_type": "code",
   "execution_count": 38,
   "id": "biological-anatomy",
   "metadata": {},
   "outputs": [
    {
     "ename": "KeyError",
     "evalue": "'four'",
     "output_type": "error",
     "traceback": [
      "\u001b[0;31m---------------------------------------------------------------------------\u001b[0m",
      "\u001b[0;31mKeyError\u001b[0m                                  Traceback (most recent call last)",
      "\u001b[0;32m<ipython-input-38-a171b8992afd>\u001b[0m in \u001b[0;36m<module>\u001b[0;34m\u001b[0m\n\u001b[0;32m----> 1\u001b[0;31m \u001b[0mmydict\u001b[0m\u001b[0;34m[\u001b[0m\u001b[0;34m\"four\"\u001b[0m\u001b[0;34m]\u001b[0m\u001b[0;34m\u001b[0m\u001b[0;34m\u001b[0m\u001b[0m\n\u001b[0m",
      "\u001b[0;31mKeyError\u001b[0m: 'four'"
     ]
    }
   ],
   "source": [
    "mydict[\"four\"]"
   ]
  },
  {
   "cell_type": "code",
   "execution_count": 39,
   "id": "earned-nashville",
   "metadata": {},
   "outputs": [
    {
     "name": "stdout",
     "output_type": "stream",
     "text": [
      "None\n"
     ]
    }
   ],
   "source": [
    "print(mydict.get(\"four\"))"
   ]
  },
  {
   "cell_type": "code",
   "execution_count": 40,
   "id": "nutritional-breeding",
   "metadata": {},
   "outputs": [
    {
     "name": "stdout",
     "output_type": "stream",
     "text": [
      "not found!\n"
     ]
    }
   ],
   "source": [
    "print(mydict.get(\"four\", \"not found!\"))"
   ]
  },
  {
   "cell_type": "code",
   "execution_count": 41,
   "id": "accessory-thursday",
   "metadata": {},
   "outputs": [
    {
     "data": {
      "text/plain": [
       "dict_keys(['one', 'two', 'three'])"
      ]
     },
     "execution_count": 41,
     "metadata": {},
     "output_type": "execute_result"
    }
   ],
   "source": [
    "mydict.keys()"
   ]
  },
  {
   "cell_type": "code",
   "execution_count": 42,
   "id": "expected-channels",
   "metadata": {},
   "outputs": [
    {
     "data": {
      "text/plain": [
       "dict_values([1, 2, 3])"
      ]
     },
     "execution_count": 42,
     "metadata": {},
     "output_type": "execute_result"
    }
   ],
   "source": [
    "mydict.values()"
   ]
  },
  {
   "cell_type": "code",
   "execution_count": 43,
   "id": "third-criminal",
   "metadata": {},
   "outputs": [
    {
     "data": {
      "text/plain": [
       "dict_items([('one', 1), ('two', 2), ('three', 3)])"
      ]
     },
     "execution_count": 43,
     "metadata": {},
     "output_type": "execute_result"
    }
   ],
   "source": [
    "mydict.items()"
   ]
  },
  {
   "cell_type": "code",
   "execution_count": 44,
   "id": "assured-payday",
   "metadata": {},
   "outputs": [
    {
     "data": {
      "text/plain": [
       "1"
      ]
     },
     "execution_count": 44,
     "metadata": {},
     "output_type": "execute_result"
    }
   ],
   "source": [
    "# pop returns \n",
    "mydict.pop(\"one\")"
   ]
  },
  {
   "cell_type": "code",
   "execution_count": 45,
   "id": "satellite-bailey",
   "metadata": {},
   "outputs": [
    {
     "data": {
      "text/plain": [
       "{'two': 2, 'three': 3}"
      ]
     },
     "execution_count": 45,
     "metadata": {},
     "output_type": "execute_result"
    }
   ],
   "source": [
    "mydict"
   ]
  },
  {
   "cell_type": "code",
   "execution_count": 50,
   "id": "institutional-ethnic",
   "metadata": {},
   "outputs": [],
   "source": [
    "# update\n",
    "mydict.update(\n",
    "    {\n",
    "        \"four\": 4,\n",
    "        \"five\": 5,\n",
    "        \"six\":6\n",
    "    }\n",
    ")"
   ]
  },
  {
   "cell_type": "markdown",
   "id": "moderate-theme",
   "metadata": {},
   "source": [
    "Equal:\n",
    "\n",
    "list:\n",
    "- append\n",
    "- extend\n",
    "- remove\n",
    "\n",
    "dictionary:\n",
    "- mydict[key] = value\n",
    "- mydict.update()\n",
    "- mydict.pop90"
   ]
  },
  {
   "cell_type": "markdown",
   "id": "cellular-experience",
   "metadata": {},
   "source": [
    "#### Other"
   ]
  },
  {
   "cell_type": "code",
   "execution_count": 47,
   "id": "complimentary-bonus",
   "metadata": {},
   "outputs": [
    {
     "data": {
      "text/plain": [
       "{'two': 2, 'three': 3, 'four': 4, 'five': 5, 'six': 6}"
      ]
     },
     "execution_count": 47,
     "metadata": {},
     "output_type": "execute_result"
    }
   ],
   "source": [
    "mydict.copy()"
   ]
  },
  {
   "cell_type": "code",
   "execution_count": 49,
   "id": "respective-height",
   "metadata": {},
   "outputs": [
    {
     "data": {
      "text/plain": [
       "{}"
      ]
     },
     "execution_count": 49,
     "metadata": {},
     "output_type": "execute_result"
    }
   ],
   "source": [
    "mydict.clear()\n",
    "mydict"
   ]
  },
  {
   "cell_type": "markdown",
   "id": "martial-avatar",
   "metadata": {},
   "source": [
    "### Tuple"
   ]
  },
  {
   "cell_type": "code",
   "execution_count": 51,
   "id": "editorial-founder",
   "metadata": {},
   "outputs": [
    {
     "data": {
      "text/plain": [
       "3"
      ]
     },
     "execution_count": 51,
     "metadata": {},
     "output_type": "execute_result"
    }
   ],
   "source": [
    "mytuple = (1, 2, 3)\n",
    "len(mytuple)"
   ]
  },
  {
   "cell_type": "code",
   "execution_count": 53,
   "id": "quick-medicare",
   "metadata": {},
   "outputs": [
    {
     "data": {
      "text/plain": [
       "1"
      ]
     },
     "execution_count": 53,
     "metadata": {},
     "output_type": "execute_result"
    }
   ],
   "source": [
    "mytuple.count(3)"
   ]
  },
  {
   "cell_type": "code",
   "execution_count": 55,
   "id": "cross-danish",
   "metadata": {},
   "outputs": [
    {
     "data": {
      "text/plain": [
       "2"
      ]
     },
     "execution_count": 55,
     "metadata": {},
     "output_type": "execute_result"
    }
   ],
   "source": [
    "mytuple.index(3)"
   ]
  },
  {
   "cell_type": "markdown",
   "id": "japanese-taylor",
   "metadata": {},
   "source": [
    "### Set"
   ]
  },
  {
   "cell_type": "code",
   "execution_count": 75,
   "id": "disciplinary-ukraine",
   "metadata": {},
   "outputs": [],
   "source": [
    "set_1 = {1, 2, 3, 1234}\n",
    "set_2 = {1, 2, 4, 5}"
   ]
  },
  {
   "cell_type": "code",
   "execution_count": 70,
   "id": "accurate-cardiff",
   "metadata": {},
   "outputs": [
    {
     "data": {
      "text/plain": [
       "{1, 2, 3, 4, 5, 1234}"
      ]
     },
     "execution_count": 70,
     "metadata": {},
     "output_type": "execute_result"
    }
   ],
   "source": [
    "set_1.union(set_2)"
   ]
  },
  {
   "cell_type": "code",
   "execution_count": 71,
   "id": "parallel-powell",
   "metadata": {},
   "outputs": [
    {
     "data": {
      "text/plain": [
       "{1, 2}"
      ]
     },
     "execution_count": 71,
     "metadata": {},
     "output_type": "execute_result"
    }
   ],
   "source": [
    "set_1.intersection(set_2)"
   ]
  },
  {
   "cell_type": "code",
   "execution_count": 72,
   "id": "legendary-lyric",
   "metadata": {},
   "outputs": [
    {
     "data": {
      "text/plain": [
       "{3, 1234}"
      ]
     },
     "execution_count": 72,
     "metadata": {},
     "output_type": "execute_result"
    }
   ],
   "source": [
    "set_1.difference(set_2)"
   ]
  },
  {
   "cell_type": "code",
   "execution_count": 73,
   "id": "polish-elements",
   "metadata": {},
   "outputs": [],
   "source": [
    "set_1.update(set_2) # this is in place"
   ]
  },
  {
   "cell_type": "code",
   "execution_count": 74,
   "id": "duplicate-cleanup",
   "metadata": {},
   "outputs": [
    {
     "data": {
      "text/plain": [
       "{1, 2, 3, 4, 5, 1234}"
      ]
     },
     "execution_count": 74,
     "metadata": {},
     "output_type": "execute_result"
    }
   ],
   "source": [
    "set_1"
   ]
  },
  {
   "cell_type": "code",
   "execution_count": 76,
   "id": "american-performer",
   "metadata": {},
   "outputs": [
    {
     "data": {
      "text/plain": [
       "True"
      ]
     },
     "execution_count": 76,
     "metadata": {},
     "output_type": "execute_result"
    }
   ],
   "source": [
    "{1, 2, 3}.issubset({1, 2, 3})"
   ]
  },
  {
   "cell_type": "code",
   "execution_count": 78,
   "id": "rising-package",
   "metadata": {},
   "outputs": [
    {
     "data": {
      "text/plain": [
       "True"
      ]
     },
     "execution_count": 78,
     "metadata": {},
     "output_type": "execute_result"
    }
   ],
   "source": [
    "{1, 2, 3}.issuperset({1, 2, 3})"
   ]
  },
  {
   "cell_type": "code",
   "execution_count": 80,
   "id": "documentary-disney",
   "metadata": {},
   "outputs": [],
   "source": [
    "from collections import defaultdict"
   ]
  },
  {
   "cell_type": "code",
   "execution_count": 81,
   "id": "motivated-rally",
   "metadata": {},
   "outputs": [],
   "source": [
    "d = defaultdict(list)"
   ]
  },
  {
   "cell_type": "code",
   "execution_count": 83,
   "id": "controversial-literacy",
   "metadata": {},
   "outputs": [
    {
     "data": {
      "text/plain": [
       "defaultdict(list, {'Ali': [3, 3]})"
      ]
     },
     "execution_count": 83,
     "metadata": {},
     "output_type": "execute_result"
    }
   ],
   "source": [
    "d[\"Ali\"].append(3)\n",
    "d"
   ]
  },
  {
   "cell_type": "code",
   "execution_count": 84,
   "id": "excess-sharp",
   "metadata": {},
   "outputs": [],
   "source": [
    "d = defaultdict(str)"
   ]
  },
  {
   "cell_type": "code",
   "execution_count": 86,
   "id": "eleven-worst",
   "metadata": {},
   "outputs": [
    {
     "data": {
      "text/plain": [
       "defaultdict(str, {'Ali': 'Ali'})"
      ]
     },
     "execution_count": 86,
     "metadata": {},
     "output_type": "execute_result"
    }
   ],
   "source": [
    "d[\"Ali\"] = \"Ali\"\n",
    "d"
   ]
  },
  {
   "cell_type": "code",
   "execution_count": null,
   "id": "organizational-server",
   "metadata": {},
   "outputs": [],
   "source": []
  }
 ],
 "metadata": {
  "kernelspec": {
   "display_name": "Python 3",
   "language": "python",
   "name": "python3"
  },
  "language_info": {
   "codemirror_mode": {
    "name": "ipython",
    "version": 3
   },
   "file_extension": ".py",
   "mimetype": "text/x-python",
   "name": "python",
   "nbconvert_exporter": "python",
   "pygments_lexer": "ipython3",
   "version": "3.7.9"
  }
 },
 "nbformat": 4,
 "nbformat_minor": 5
}
