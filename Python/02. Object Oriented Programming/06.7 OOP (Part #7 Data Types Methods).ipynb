{
 "cells": [
  {
   "cell_type": "markdown",
   "id": "exciting-induction",
   "metadata": {},
   "source": [
    "# Data Types Methods"
   ]
  },
  {
   "cell_type": "markdown",
   "id": "magnetic-minnesota",
   "metadata": {},
   "source": [
    "### Convert `float` and `str`"
   ]
  },
  {
   "cell_type": "code",
   "execution_count": 1,
   "id": "ruled-watershed",
   "metadata": {},
   "outputs": [],
   "source": [
    "float_num = float(1)"
   ]
  },
  {
   "cell_type": "code",
   "execution_count": 2,
   "id": "important-greenhouse",
   "metadata": {},
   "outputs": [],
   "source": [
    "float_num = float(0.3)"
   ]
  },
  {
   "cell_type": "code",
   "execution_count": 3,
   "id": "looking-field",
   "metadata": {},
   "outputs": [],
   "source": [
    "int_num = int(0.3)"
   ]
  },
  {
   "cell_type": "markdown",
   "id": "quality-investing",
   "metadata": {},
   "source": [
    "### String"
   ]
  },
  {
   "cell_type": "code",
   "execution_count": 4,
   "id": "conditional-dating",
   "metadata": {},
   "outputs": [],
   "source": [
    "mysrt = \"Ali Hejazizo\""
   ]
  },
  {
   "cell_type": "code",
   "execution_count": 5,
   "id": "packed-stupid",
   "metadata": {},
   "outputs": [
    {
     "name": "stdout",
     "output_type": "stream",
     "text": [
      "THIS IS A STRING\n",
      "this is a string\n",
      "This Is A String\n",
      "This is a string\n"
     ]
    }
   ],
   "source": [
    "mystr = \"this IS a StRiNg\"\n",
    "print(mystr.upper())\n",
    "print(mystr.lower())\n",
    "print(mystr.title())\n",
    "print(mystr.capitalize())"
   ]
  },
  {
   "cell_type": "code",
   "execution_count": 6,
   "id": "outside-taxation",
   "metadata": {},
   "outputs": [
    {
     "data": {
      "text/plain": [
       "(False, False)"
      ]
     },
     "execution_count": 6,
     "metadata": {},
     "output_type": "execute_result"
    }
   ],
   "source": [
    "\"THIS is uppercase\".islower(), \"THIS is uppercase\".isupper()"
   ]
  },
  {
   "cell_type": "code",
   "execution_count": 7,
   "id": "quantitative-reconstruction",
   "metadata": {},
   "outputs": [
    {
     "name": "stdout",
     "output_type": "stream",
     "text": [
      "False\n",
      "True\n"
     ]
    }
   ],
   "source": [
    "mystr = \"58\"\n",
    "print(mystr.isalpha())\n",
    "print(mystr.isdigit())"
   ]
  },
  {
   "cell_type": "code",
   "execution_count": 8,
   "id": "rocky-litigation",
   "metadata": {},
   "outputs": [
    {
     "name": "stdout",
     "output_type": "stream",
     "text": [
      "---> so many spaces here <---\n"
     ]
    }
   ],
   "source": [
    "mystr = \"     so many spaces here                  \"\n",
    "print(\"--->\", mystr.strip(), \"<---\")"
   ]
  },
  {
   "cell_type": "code",
   "execution_count": 9,
   "id": "becoming-credit",
   "metadata": {},
   "outputs": [
    {
     "name": "stdout",
     "output_type": "stream",
     "text": [
      "True\n",
      "True\n"
     ]
    }
   ],
   "source": [
    "mystr = \"this is a string\"\n",
    "print(mystr.startswith(\"this\"))\n",
    "print(mystr.endswith(\"string\"))"
   ]
  },
  {
   "cell_type": "code",
   "execution_count": 10,
   "id": "smoking-boulder",
   "metadata": {},
   "outputs": [
    {
     "data": {
      "text/plain": [
       "'                   Ali Hejazizo                   '"
      ]
     },
     "execution_count": 10,
     "metadata": {},
     "output_type": "execute_result"
    }
   ],
   "source": [
    "\"Ali Hejazizo\".center(50)"
   ]
  },
  {
   "cell_type": "code",
   "execution_count": 11,
   "id": "bigger-honor",
   "metadata": {},
   "outputs": [
    {
     "data": {
      "text/plain": [
       "2"
      ]
     },
     "execution_count": 11,
     "metadata": {},
     "output_type": "execute_result"
    }
   ],
   "source": [
    "\"Ali Hejazizo\".count(\"i\")"
   ]
  },
  {
   "cell_type": "markdown",
   "id": "least-wilson",
   "metadata": {},
   "source": [
    "#### Find Character or Substring"
   ]
  },
  {
   "cell_type": "code",
   "execution_count": 13,
   "id": "cognitive-closure",
   "metadata": {},
   "outputs": [
    {
     "data": {
      "text/plain": [
       "(5, 12)"
      ]
     },
     "execution_count": 13,
     "metadata": {},
     "output_type": "execute_result"
    }
   ],
   "source": [
    "\"line number 222\".find(\"number\"), \"line number 222\".find(\"2\")"
   ]
  },
  {
   "cell_type": "code",
   "execution_count": 15,
   "id": "crude-habitat",
   "metadata": {},
   "outputs": [
    {
     "data": {
      "text/plain": [
       "(12, 13)"
      ]
     },
     "execution_count": 15,
     "metadata": {},
     "output_type": "execute_result"
    }
   ],
   "source": [
    "target = \"2\"\n",
    "mystr = \"line number 222 is here\"\n",
    "\n",
    "start = mystr.find(target)\n",
    "end = start + len(target)\n",
    "start, end"
   ]
  },
  {
   "cell_type": "code",
   "execution_count": 16,
   "id": "dominican-queen",
   "metadata": {},
   "outputs": [
    {
     "data": {
      "text/plain": [
       "(12, 14)"
      ]
     },
     "execution_count": 16,
     "metadata": {},
     "output_type": "execute_result"
    }
   ],
   "source": [
    "\"line number 222\".find(\"2\"), \"line number 222\".rfind(\"2\")"
   ]
  },
  {
   "cell_type": "markdown",
   "id": "popular-worship",
   "metadata": {},
   "source": [
    "#### Remove Whitespace"
   ]
  },
  {
   "cell_type": "code",
   "execution_count": 17,
   "id": "secret-preference",
   "metadata": {},
   "outputs": [
    {
     "data": {
      "text/plain": [
       "'this line has whitespace at the start and at the end'"
      ]
     },
     "execution_count": 17,
     "metadata": {},
     "output_type": "execute_result"
    }
   ],
   "source": [
    "\"     this line has whitespace at the start and at the end        \".strip()"
   ]
  },
  {
   "cell_type": "code",
   "execution_count": 18,
   "id": "japanese-patrick",
   "metadata": {},
   "outputs": [
    {
     "data": {
      "text/plain": [
       "'     this line has whitespace at the start'"
      ]
     },
     "execution_count": 18,
     "metadata": {},
     "output_type": "execute_result"
    }
   ],
   "source": [
    "\"     this line has whitespace at the start        \".rstrip()"
   ]
  },
  {
   "cell_type": "code",
   "execution_count": 19,
   "id": "swedish-dispatch",
   "metadata": {},
   "outputs": [
    {
     "data": {
      "text/plain": [
       "'this line has whitespace at the start        '"
      ]
     },
     "execution_count": 19,
     "metadata": {},
     "output_type": "execute_result"
    }
   ],
   "source": [
    "\"     this line has whitespace at the start        \".lstrip()"
   ]
  },
  {
   "cell_type": "markdown",
   "id": "elder-conservative",
   "metadata": {},
   "source": [
    "#### String Formating"
   ]
  },
  {
   "cell_type": "code",
   "execution_count": 24,
   "id": "aware-lending",
   "metadata": {},
   "outputs": [
    {
     "data": {
      "text/plain": [
       "'My name is Mohsen'"
      ]
     },
     "execution_count": 24,
     "metadata": {},
     "output_type": "execute_result"
    }
   ],
   "source": [
    "# bad practice:\n",
    "\"My name\" + \" \" + \"is\" + \" \" + \"Mohsen\" "
   ]
  },
  {
   "cell_type": "code",
   "execution_count": 20,
   "id": "boring-increase",
   "metadata": {},
   "outputs": [],
   "source": [
    "car_name = \"Ferrari\"\n",
    "location = \"parking\"\n",
    "int_num = 5\n",
    "float_num = 2324.92374923749237\n",
    "num_people = 5"
   ]
  },
  {
   "cell_type": "code",
   "execution_count": 21,
   "id": "narrative-discussion",
   "metadata": {},
   "outputs": [
    {
     "data": {
      "text/plain": [
       "'there are 5 Ferrari car in parking'"
      ]
     },
     "execution_count": 21,
     "metadata": {},
     "output_type": "execute_result"
    }
   ],
   "source": [
    "my_str = \"there are {} {} car in {}\"\n",
    "my_str.format(int_num, car_name, location)"
   ]
  },
  {
   "cell_type": "code",
   "execution_count": 23,
   "id": "bizarre-administration",
   "metadata": {},
   "outputs": [
    {
     "data": {
      "text/plain": [
       "'there are 5 cars in parking'"
      ]
     },
     "execution_count": 23,
     "metadata": {},
     "output_type": "execute_result"
    }
   ],
   "source": [
    "# index (poistional) argument\n",
    "my_str = \"there are {0} cars in {1}\"\n",
    "my_str.format(int_num, location)"
   ]
  },
  {
   "cell_type": "code",
   "execution_count": 24,
   "id": "meaning-pollution",
   "metadata": {},
   "outputs": [
    {
     "data": {
      "text/plain": [
       "'there are 5 people in parking'"
      ]
     },
     "execution_count": 24,
     "metadata": {},
     "output_type": "execute_result"
    }
   ],
   "source": [
    "# keyword argument\n",
    "my_str = \"there are {num_people} people in {location}\"\n",
    "my_str.format(num_people=num_people, location=location)"
   ]
  },
  {
   "cell_type": "code",
   "execution_count": 25,
   "id": "talented-examination",
   "metadata": {},
   "outputs": [
    {
     "data": {
      "text/plain": [
       "'your number is 2324.92'"
      ]
     },
     "execution_count": 25,
     "metadata": {},
     "output_type": "execute_result"
    }
   ],
   "source": [
    "\"your number is {float_num:.6}\".format(float_num=float_num)"
   ]
  },
  {
   "cell_type": "code",
   "execution_count": 27,
   "id": "wireless-pepper",
   "metadata": {},
   "outputs": [
    {
     "data": {
      "text/plain": [
       "'a float number with 8 digits: 2324.9237 '"
      ]
     },
     "execution_count": 27,
     "metadata": {},
     "output_type": "execute_result"
    }
   ],
   "source": [
    "# f-strings\n",
    "f\"a float number with 8 digits: {float_num:.8} \""
   ]
  },
  {
   "cell_type": "markdown",
   "id": "logical-caribbean",
   "metadata": {},
   "source": [
    "[Read More](https://realpython.com/python-f-strings/) on f-strings!"
   ]
  },
  {
   "cell_type": "markdown",
   "id": "standard-recruitment",
   "metadata": {},
   "source": [
    "### List"
   ]
  },
  {
   "cell_type": "code",
   "execution_count": 31,
   "id": "differential-attention",
   "metadata": {},
   "outputs": [
    {
     "data": {
      "text/plain": [
       "['apple', 'pear', 'banana']"
      ]
     },
     "execution_count": 31,
     "metadata": {},
     "output_type": "execute_result"
    }
   ],
   "source": [
    "mylist = [\"apple\", \"pear\", \"banana\"]\n",
    "mylist"
   ]
  },
  {
   "cell_type": "markdown",
   "id": "robust-answer",
   "metadata": {},
   "source": [
    "**Note:** Many of the list operations are *in-place*"
   ]
  },
  {
   "cell_type": "code",
   "execution_count": 29,
   "id": "simple-robert",
   "metadata": {},
   "outputs": [],
   "source": [
    "mylist.reverse()"
   ]
  },
  {
   "cell_type": "code",
   "execution_count": 30,
   "id": "roman-resort",
   "metadata": {},
   "outputs": [
    {
     "data": {
      "text/plain": [
       "['banana', 'pear', 'apple']"
      ]
     },
     "execution_count": 30,
     "metadata": {},
     "output_type": "execute_result"
    }
   ],
   "source": [
    "mylist"
   ]
  },
  {
   "cell_type": "markdown",
   "id": "interim-upgrade",
   "metadata": {},
   "source": [
    "#### Add, Insesrt, Pop"
   ]
  },
  {
   "cell_type": "code",
   "execution_count": 33,
   "id": "seeing-creek",
   "metadata": {},
   "outputs": [
    {
     "data": {
      "text/plain": [
       "['apple', 'pear', 'banana', 'watermelon', 'watermelon']"
      ]
     },
     "execution_count": 33,
     "metadata": {},
     "output_type": "execute_result"
    }
   ],
   "source": [
    "# add item\n",
    "mylist.append(\"watermelon\")\n",
    "mylist"
   ]
  },
  {
   "cell_type": "code",
   "execution_count": 36,
   "id": "convinced-release",
   "metadata": {},
   "outputs": [
    {
     "data": {
      "text/plain": [
       "['apple',\n",
       " 'pear',\n",
       " 'banana',\n",
       " 'watermelon',\n",
       " 'watermelon',\n",
       " 'mango',\n",
       " 'melon',\n",
       " 'cucumber',\n",
       " 'mango',\n",
       " 'melon',\n",
       " 'cucumber',\n",
       " 'kiwi']"
      ]
     },
     "execution_count": 36,
     "metadata": {},
     "output_type": "execute_result"
    }
   ],
   "source": [
    "# add list\n",
    "mylist.extend([\"mango\", \"melon\", \"cucumber\", \"kiwi\"])\n",
    "mylist"
   ]
  },
  {
   "cell_type": "code",
   "execution_count": 37,
   "id": "efficient-norfolk",
   "metadata": {},
   "outputs": [
    {
     "data": {
      "text/plain": [
       "['apple',\n",
       " 'pear',\n",
       " 'banana',\n",
       " 'watermelon',\n",
       " 'watermelon',\n",
       " 'mango',\n",
       " 'melon',\n",
       " 'cucumber',\n",
       " 'mango',\n",
       " 'melon',\n",
       " 'cucumber',\n",
       " 'kiwi',\n",
       " ['mango', 'melon', 'cucumber', 'kiwi']]"
      ]
     },
     "execution_count": 37,
     "metadata": {},
     "output_type": "execute_result"
    }
   ],
   "source": [
    "mylist.append([\"mango\", \"melon\", \"cucumber\", \"kiwi\"])\n",
    "mylist"
   ]
  },
  {
   "cell_type": "code",
   "execution_count": 38,
   "id": "referenced-collectible",
   "metadata": {},
   "outputs": [
    {
     "data": {
      "text/plain": [
       "['mango', 'melon', 'cucumber', 'kiwi']"
      ]
     },
     "execution_count": 38,
     "metadata": {},
     "output_type": "execute_result"
    }
   ],
   "source": [
    "mylist.pop()"
   ]
  },
  {
   "cell_type": "code",
   "execution_count": 40,
   "id": "certain-disney",
   "metadata": {},
   "outputs": [
    {
     "data": {
      "text/plain": [
       "['apple',\n",
       " 'pear',\n",
       " 'banana',\n",
       " 'watermelon',\n",
       " 'watermelon',\n",
       " 'mango',\n",
       " 'melon',\n",
       " 'cucumber',\n",
       " 'mango',\n",
       " 'melon',\n",
       " 'cucumber',\n",
       " 'kiwi']"
      ]
     },
     "execution_count": 40,
     "metadata": {},
     "output_type": "execute_result"
    }
   ],
   "source": [
    "mylist"
   ]
  },
  {
   "cell_type": "code",
   "execution_count": 41,
   "id": "functional-ratio",
   "metadata": {},
   "outputs": [
    {
     "data": {
      "text/plain": [
       "'pear'"
      ]
     },
     "execution_count": 41,
     "metadata": {},
     "output_type": "execute_result"
    }
   ],
   "source": [
    "mylist.pop(1)"
   ]
  },
  {
   "cell_type": "code",
   "execution_count": 42,
   "id": "medical-transmission",
   "metadata": {},
   "outputs": [
    {
     "data": {
      "text/plain": [
       "['apple',\n",
       " 'banana',\n",
       " 'watermelon',\n",
       " 'watermelon',\n",
       " 'mango',\n",
       " 'melon',\n",
       " 'cucumber',\n",
       " 'mango',\n",
       " 'melon',\n",
       " 'cucumber',\n",
       " 'kiwi']"
      ]
     },
     "execution_count": 42,
     "metadata": {},
     "output_type": "execute_result"
    }
   ],
   "source": [
    "mylist"
   ]
  },
  {
   "cell_type": "code",
   "execution_count": 43,
   "id": "serial-thumbnail",
   "metadata": {},
   "outputs": [],
   "source": [
    "mylist.insert(5, \"banana\")"
   ]
  },
  {
   "cell_type": "code",
   "execution_count": 44,
   "id": "failing-minimum",
   "metadata": {},
   "outputs": [
    {
     "data": {
      "text/plain": [
       "['apple',\n",
       " 'banana',\n",
       " 'watermelon',\n",
       " 'watermelon',\n",
       " 'mango',\n",
       " 'banana',\n",
       " 'melon',\n",
       " 'cucumber',\n",
       " 'mango',\n",
       " 'melon',\n",
       " 'cucumber',\n",
       " 'kiwi']"
      ]
     },
     "execution_count": 44,
     "metadata": {},
     "output_type": "execute_result"
    }
   ],
   "source": [
    "mylist"
   ]
  },
  {
   "cell_type": "code",
   "execution_count": 45,
   "id": "realistic-madagascar",
   "metadata": {},
   "outputs": [],
   "source": [
    "mylist.remove(\"banana\")"
   ]
  },
  {
   "cell_type": "code",
   "execution_count": 49,
   "id": "union-resolution",
   "metadata": {},
   "outputs": [
    {
     "data": {
      "text/plain": [
       "0"
      ]
     },
     "execution_count": 49,
     "metadata": {},
     "output_type": "execute_result"
    }
   ],
   "source": [
    "mylist.index('apple')"
   ]
  },
  {
   "cell_type": "markdown",
   "id": "explicit-desire",
   "metadata": {},
   "source": [
    "We have the `index()` method in String, too:"
   ]
  },
  {
   "cell_type": "code",
   "execution_count": 47,
   "id": "renewable-donor",
   "metadata": {},
   "outputs": [
    {
     "data": {
      "text/plain": [
       "(5, 12)"
      ]
     },
     "execution_count": 47,
     "metadata": {},
     "output_type": "execute_result"
    }
   ],
   "source": [
    "\"line number 2\".index(\"number\"), \"line number 2\".index(\"2\")"
   ]
  },
  {
   "cell_type": "code",
   "execution_count": 50,
   "id": "valid-divorce",
   "metadata": {},
   "outputs": [
    {
     "ename": "ValueError",
     "evalue": "list.remove(x): x not in list",
     "output_type": "error",
     "traceback": [
      "\u001b[0;31m---------------------------------------------------------------------------\u001b[0m",
      "\u001b[0;31mValueError\u001b[0m                                Traceback (most recent call last)",
      "\u001b[0;32m<ipython-input-50-78a7f7228cf3>\u001b[0m in \u001b[0;36m<module>\u001b[0;34m\u001b[0m\n\u001b[0;32m----> 1\u001b[0;31m \u001b[0mmylist\u001b[0m\u001b[0;34m.\u001b[0m\u001b[0mremove\u001b[0m\u001b[0;34m(\u001b[0m\u001b[0;34m\"banana\"\u001b[0m\u001b[0;34m)\u001b[0m\u001b[0;34m\u001b[0m\u001b[0;34m\u001b[0m\u001b[0m\n\u001b[0m",
      "\u001b[0;31mValueError\u001b[0m: list.remove(x): x not in list"
     ]
    }
   ],
   "source": [
    "mylist.remove(\"banana\")"
   ]
  },
  {
   "cell_type": "markdown",
   "id": "generic-professional",
   "metadata": {},
   "source": [
    "#### Sort"
   ]
  },
  {
   "cell_type": "code",
   "execution_count": 35,
   "id": "neither-david",
   "metadata": {},
   "outputs": [
    {
     "data": {
      "text/plain": [
       "[0, 1, 2, 4, 9]"
      ]
     },
     "execution_count": 35,
     "metadata": {},
     "output_type": "execute_result"
    }
   ],
   "source": [
    "mylist = [2,9, 4,1, 0]\n",
    "mylist.sort()\n",
    "mylist"
   ]
  },
  {
   "cell_type": "markdown",
   "id": "meaning-retail",
   "metadata": {},
   "source": [
    "#### Find"
   ]
  },
  {
   "cell_type": "code",
   "execution_count": 53,
   "id": "spread-addiction",
   "metadata": {},
   "outputs": [
    {
     "data": {
      "text/plain": [
       "0"
      ]
     },
     "execution_count": 53,
     "metadata": {},
     "output_type": "execute_result"
    }
   ],
   "source": [
    "mylist.index(\"apple\")"
   ]
  },
  {
   "cell_type": "markdown",
   "id": "studied-bathroom",
   "metadata": {},
   "source": [
    "#### Other"
   ]
  },
  {
   "cell_type": "code",
   "execution_count": 54,
   "id": "automated-words",
   "metadata": {},
   "outputs": [
    {
     "data": {
      "text/plain": [
       "['apple',\n",
       " 'watermelon',\n",
       " 'watermelon',\n",
       " 'mango',\n",
       " 'melon',\n",
       " 'cucumber',\n",
       " 'mango',\n",
       " 'melon',\n",
       " 'cucumber',\n",
       " 'kiwi']"
      ]
     },
     "execution_count": 54,
     "metadata": {},
     "output_type": "execute_result"
    }
   ],
   "source": [
    "# return a copy of list\n",
    "mylist.copy()\n",
    "mylist[:]"
   ]
  },
  {
   "cell_type": "code",
   "execution_count": 55,
   "id": "short-skating",
   "metadata": {},
   "outputs": [
    {
     "data": {
      "text/plain": [
       "3"
      ]
     },
     "execution_count": 55,
     "metadata": {},
     "output_type": "execute_result"
    }
   ],
   "source": [
    "mylist.extend([\"apple\", \"apple\"])\n",
    "mylist.count(\"apple\")"
   ]
  },
  {
   "cell_type": "code",
   "execution_count": 56,
   "id": "martial-malaysia",
   "metadata": {},
   "outputs": [],
   "source": [
    "# empty list\n",
    "mylist.clear()"
   ]
  },
  {
   "cell_type": "markdown",
   "id": "amended-drain",
   "metadata": {},
   "source": [
    "### Dictionary"
   ]
  },
  {
   "cell_type": "code",
   "execution_count": 57,
   "id": "sticky-championship",
   "metadata": {},
   "outputs": [],
   "source": [
    "mydict = {\"one\": 1, \"two\": 2, \"three\": 3}"
   ]
  },
  {
   "cell_type": "code",
   "execution_count": 37,
   "id": "built-holmes",
   "metadata": {},
   "outputs": [
    {
     "data": {
      "text/plain": [
       "1"
      ]
     },
     "execution_count": 37,
     "metadata": {},
     "output_type": "execute_result"
    }
   ],
   "source": [
    "mydict[\"one\"]"
   ]
  },
  {
   "cell_type": "code",
   "execution_count": 38,
   "id": "biological-anatomy",
   "metadata": {},
   "outputs": [
    {
     "ename": "KeyError",
     "evalue": "'four'",
     "output_type": "error",
     "traceback": [
      "\u001b[0;31m---------------------------------------------------------------------------\u001b[0m",
      "\u001b[0;31mKeyError\u001b[0m                                  Traceback (most recent call last)",
      "\u001b[0;32m<ipython-input-38-a171b8992afd>\u001b[0m in \u001b[0;36m<module>\u001b[0;34m\u001b[0m\n\u001b[0;32m----> 1\u001b[0;31m \u001b[0mmydict\u001b[0m\u001b[0;34m[\u001b[0m\u001b[0;34m\"four\"\u001b[0m\u001b[0;34m]\u001b[0m\u001b[0;34m\u001b[0m\u001b[0;34m\u001b[0m\u001b[0m\n\u001b[0m",
      "\u001b[0;31mKeyError\u001b[0m: 'four'"
     ]
    }
   ],
   "source": [
    "mydict[\"four\"]"
   ]
  },
  {
   "cell_type": "code",
   "execution_count": 59,
   "id": "earned-nashville",
   "metadata": {},
   "outputs": [
    {
     "name": "stdout",
     "output_type": "stream",
     "text": [
      "None\n"
     ]
    }
   ],
   "source": [
    "print(mydict.get(\"four\"))"
   ]
  },
  {
   "cell_type": "code",
   "execution_count": 60,
   "id": "nutritional-breeding",
   "metadata": {},
   "outputs": [
    {
     "name": "stdout",
     "output_type": "stream",
     "text": [
      "not found\n"
     ]
    }
   ],
   "source": [
    "print(mydict.get(\"four\", \"not found\"))"
   ]
  },
  {
   "cell_type": "code",
   "execution_count": 61,
   "id": "accessory-thursday",
   "metadata": {},
   "outputs": [
    {
     "data": {
      "text/plain": [
       "dict_keys(['one', 'two', 'three'])"
      ]
     },
     "execution_count": 61,
     "metadata": {},
     "output_type": "execute_result"
    }
   ],
   "source": [
    "mydict.keys()"
   ]
  },
  {
   "cell_type": "code",
   "execution_count": 62,
   "id": "expected-channels",
   "metadata": {},
   "outputs": [
    {
     "data": {
      "text/plain": [
       "dict_values([1, 2, 3])"
      ]
     },
     "execution_count": 62,
     "metadata": {},
     "output_type": "execute_result"
    }
   ],
   "source": [
    "mydict.values()"
   ]
  },
  {
   "cell_type": "code",
   "execution_count": 64,
   "id": "third-criminal",
   "metadata": {},
   "outputs": [
    {
     "data": {
      "text/plain": [
       "dict_items([('one', 1), ('two', 2), ('three', 3)])"
      ]
     },
     "execution_count": 64,
     "metadata": {},
     "output_type": "execute_result"
    }
   ],
   "source": [
    "mydict.items()"
   ]
  },
  {
   "cell_type": "code",
   "execution_count": 65,
   "id": "assured-payday",
   "metadata": {},
   "outputs": [
    {
     "data": {
      "text/plain": [
       "1"
      ]
     },
     "execution_count": 65,
     "metadata": {},
     "output_type": "execute_result"
    }
   ],
   "source": [
    "# pop returns \n",
    "mydict.pop(\"one\")"
   ]
  },
  {
   "cell_type": "code",
   "execution_count": 66,
   "id": "satellite-bailey",
   "metadata": {},
   "outputs": [
    {
     "data": {
      "text/plain": [
       "{'two': 2, 'three': 3}"
      ]
     },
     "execution_count": 66,
     "metadata": {},
     "output_type": "execute_result"
    }
   ],
   "source": [
    "mydict"
   ]
  },
  {
   "cell_type": "code",
   "execution_count": 68,
   "id": "institutional-ethnic",
   "metadata": {},
   "outputs": [
    {
     "data": {
      "text/plain": [
       "{'two': 2, 'three': 3, 'four': 4, 'five': 5, 'six': 6}"
      ]
     },
     "execution_count": 68,
     "metadata": {},
     "output_type": "execute_result"
    }
   ],
   "source": [
    "# update\n",
    "mydict.update(\n",
    "    {\n",
    "        \"four\": 4,\n",
    "        \"five\": 5,\n",
    "        \"six\":6\n",
    "    }\n",
    ")\n",
    "mydict"
   ]
  },
  {
   "cell_type": "markdown",
   "id": "deadly-gross",
   "metadata": {},
   "source": [
    "#### Other"
   ]
  },
  {
   "cell_type": "code",
   "execution_count": 69,
   "id": "convertible-rehabilitation",
   "metadata": {},
   "outputs": [
    {
     "data": {
      "text/plain": [
       "{'two': 2, 'three': 3, 'four': 4, 'five': 5, 'six': 6}"
      ]
     },
     "execution_count": 69,
     "metadata": {},
     "output_type": "execute_result"
    }
   ],
   "source": [
    "mydict.copy()"
   ]
  },
  {
   "cell_type": "code",
   "execution_count": 70,
   "id": "curious-survey",
   "metadata": {},
   "outputs": [
    {
     "data": {
      "text/plain": [
       "{}"
      ]
     },
     "execution_count": 70,
     "metadata": {},
     "output_type": "execute_result"
    }
   ],
   "source": [
    "mydict.clear()\n",
    "mydict"
   ]
  },
  {
   "cell_type": "markdown",
   "id": "moderate-theme",
   "metadata": {},
   "source": [
    "**Analogy:**\n",
    "\n",
    "`list`:\n",
    "- append\n",
    "- extend\n",
    "- remove\n",
    "\n",
    "`dictionary`:\n",
    "- mydict[key] = value\n",
    "- mydict.update()\n",
    "- mydict.pop90"
   ]
  },
  {
   "cell_type": "markdown",
   "id": "martial-avatar",
   "metadata": {},
   "source": [
    "### Tuple"
   ]
  },
  {
   "cell_type": "code",
   "execution_count": 71,
   "id": "editorial-founder",
   "metadata": {},
   "outputs": [
    {
     "data": {
      "text/plain": [
       "3"
      ]
     },
     "execution_count": 71,
     "metadata": {},
     "output_type": "execute_result"
    }
   ],
   "source": [
    "mytuple = (1, 2, 3)\n",
    "len(mytuple)"
   ]
  },
  {
   "cell_type": "code",
   "execution_count": 72,
   "id": "quick-medicare",
   "metadata": {},
   "outputs": [
    {
     "data": {
      "text/plain": [
       "1"
      ]
     },
     "execution_count": 72,
     "metadata": {},
     "output_type": "execute_result"
    }
   ],
   "source": [
    "mytuple.count(3)"
   ]
  },
  {
   "cell_type": "code",
   "execution_count": 73,
   "id": "cross-danish",
   "metadata": {},
   "outputs": [
    {
     "data": {
      "text/plain": [
       "2"
      ]
     },
     "execution_count": 73,
     "metadata": {},
     "output_type": "execute_result"
    }
   ],
   "source": [
    "mytuple.index(3)"
   ]
  },
  {
   "cell_type": "markdown",
   "id": "japanese-taylor",
   "metadata": {},
   "source": [
    "### Set"
   ]
  },
  {
   "cell_type": "code",
   "execution_count": 85,
   "id": "disciplinary-ukraine",
   "metadata": {},
   "outputs": [],
   "source": [
    "set_1 = {1, 2, 3, 1234}\n",
    "set_2 = {1, 2, 4, 5}"
   ]
  },
  {
   "cell_type": "code",
   "execution_count": 86,
   "id": "accurate-cardiff",
   "metadata": {},
   "outputs": [
    {
     "data": {
      "text/plain": [
       "{1, 2, 3, 4, 5, 1234}"
      ]
     },
     "execution_count": 86,
     "metadata": {},
     "output_type": "execute_result"
    }
   ],
   "source": [
    "set_1.union(set_2)"
   ]
  },
  {
   "cell_type": "code",
   "execution_count": 87,
   "id": "parallel-powell",
   "metadata": {},
   "outputs": [
    {
     "data": {
      "text/plain": [
       "{1, 2}"
      ]
     },
     "execution_count": 87,
     "metadata": {},
     "output_type": "execute_result"
    }
   ],
   "source": [
    "set_1.intersection(set_2)"
   ]
  },
  {
   "cell_type": "code",
   "execution_count": 88,
   "id": "found-adobe",
   "metadata": {},
   "outputs": [
    {
     "data": {
      "text/plain": [
       "{1, 2, 3, 4, 5, 1234}"
      ]
     },
     "execution_count": 88,
     "metadata": {},
     "output_type": "execute_result"
    }
   ],
   "source": [
    "set_1.update(set_2) # this is in place\n",
    "set_1"
   ]
  },
  {
   "cell_type": "code",
   "execution_count": 89,
   "id": "manufactured-blanket",
   "metadata": {},
   "outputs": [
    {
     "data": {
      "text/plain": [
       "{1, 2, 3, 4, 5}"
      ]
     },
     "execution_count": 89,
     "metadata": {},
     "output_type": "execute_result"
    }
   ],
   "source": [
    "set_1.remove(1234)\n",
    "set_1"
   ]
  },
  {
   "cell_type": "code",
   "execution_count": 90,
   "id": "medieval-rouge",
   "metadata": {},
   "outputs": [
    {
     "data": {
      "text/plain": [
       "({1, 2, 3, 4, 5}, {1, 2, 4, 5})"
      ]
     },
     "execution_count": 90,
     "metadata": {},
     "output_type": "execute_result"
    }
   ],
   "source": [
    "set_1, set_2"
   ]
  },
  {
   "cell_type": "code",
   "execution_count": 77,
   "id": "legendary-lyric",
   "metadata": {},
   "outputs": [
    {
     "data": {
      "text/plain": [
       "{3, 1234}"
      ]
     },
     "execution_count": 77,
     "metadata": {},
     "output_type": "execute_result"
    }
   ],
   "source": [
    "set_1.difference(set_2)"
   ]
  },
  {
   "cell_type": "code",
   "execution_count": 76,
   "id": "american-performer",
   "metadata": {},
   "outputs": [
    {
     "data": {
      "text/plain": [
       "True"
      ]
     },
     "execution_count": 76,
     "metadata": {},
     "output_type": "execute_result"
    }
   ],
   "source": [
    "{1, 2, 3}.issubset({1, 2, 3})"
   ]
  },
  {
   "cell_type": "code",
   "execution_count": 91,
   "id": "rising-package",
   "metadata": {},
   "outputs": [
    {
     "data": {
      "text/plain": [
       "True"
      ]
     },
     "execution_count": 91,
     "metadata": {},
     "output_type": "execute_result"
    }
   ],
   "source": [
    "{1, 2, 3}.issuperset({1, 2, 3})"
   ]
  },
  {
   "cell_type": "markdown",
   "id": "residential-circle",
   "metadata": {},
   "source": [
    "### Default Dictionary"
   ]
  },
  {
   "cell_type": "code",
   "execution_count": 92,
   "id": "documentary-disney",
   "metadata": {},
   "outputs": [],
   "source": [
    "from collections import defaultdict"
   ]
  },
  {
   "cell_type": "code",
   "execution_count": 93,
   "id": "motivated-rally",
   "metadata": {},
   "outputs": [],
   "source": [
    "d = defaultdict(list)"
   ]
  },
  {
   "cell_type": "code",
   "execution_count": 94,
   "id": "controversial-literacy",
   "metadata": {},
   "outputs": [
    {
     "data": {
      "text/plain": [
       "defaultdict(list, {'Ali': [3]})"
      ]
     },
     "execution_count": 94,
     "metadata": {},
     "output_type": "execute_result"
    }
   ],
   "source": [
    "d[\"Ali\"].append(3)\n",
    "d"
   ]
  },
  {
   "cell_type": "code",
   "execution_count": 95,
   "id": "excess-sharp",
   "metadata": {},
   "outputs": [],
   "source": [
    "d = defaultdict(str)"
   ]
  },
  {
   "cell_type": "code",
   "execution_count": 96,
   "id": "eleven-worst",
   "metadata": {},
   "outputs": [
    {
     "data": {
      "text/plain": [
       "defaultdict(str, {'Ali': 'Ali'})"
      ]
     },
     "execution_count": 96,
     "metadata": {},
     "output_type": "execute_result"
    }
   ],
   "source": [
    "d[\"Ali\"] += \"Ali\"\n",
    "d"
   ]
  },
  {
   "cell_type": "code",
   "execution_count": 97,
   "id": "organizational-server",
   "metadata": {},
   "outputs": [],
   "source": [
    "d = defaultdict(int)"
   ]
  },
  {
   "cell_type": "code",
   "execution_count": 99,
   "id": "amino-target",
   "metadata": {},
   "outputs": [
    {
     "data": {
      "text/plain": [
       "defaultdict(int, {'Ali': 20})"
      ]
     },
     "execution_count": 99,
     "metadata": {},
     "output_type": "execute_result"
    }
   ],
   "source": [
    "d[\"Ali\"] += 10\n",
    "d"
   ]
  },
  {
   "cell_type": "code",
   "execution_count": null,
   "id": "applicable-drawing",
   "metadata": {},
   "outputs": [],
   "source": []
  }
 ],
 "metadata": {
  "kernelspec": {
   "display_name": "Python 3",
   "language": "python",
   "name": "python3"
  },
  "language_info": {
   "codemirror_mode": {
    "name": "ipython",
    "version": 3
   },
   "file_extension": ".py",
   "mimetype": "text/x-python",
   "name": "python",
   "nbconvert_exporter": "python",
   "pygments_lexer": "ipython3",
   "version": "3.7.9"
  }
 },
 "nbformat": 4,
 "nbformat_minor": 5
}
