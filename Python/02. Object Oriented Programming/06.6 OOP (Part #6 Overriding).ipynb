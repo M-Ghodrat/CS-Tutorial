{
 "cells": [
  {
   "cell_type": "markdown",
   "id": "caroline-insert",
   "metadata": {},
   "source": [
    "# OOP: Part #5: Overriding\n",
    "\n",
    "If you’ve used the + or * operator on a `str` object in Python, you must have noticed its different behavior when compared to `int` or `float` objects:\n"
   ]
  },
  {
   "cell_type": "code",
   "execution_count": 2,
   "id": "demographic-building",
   "metadata": {},
   "outputs": [
    {
     "data": {
      "text/plain": [
       "'str_1str_2'"
      ]
     },
     "execution_count": 2,
     "metadata": {},
     "output_type": "execute_result"
    }
   ],
   "source": [
    "\"str_1\" + \"str_2\""
   ]
  },
  {
   "cell_type": "code",
   "execution_count": 3,
   "id": "automotive-carpet",
   "metadata": {},
   "outputs": [
    {
     "data": {
      "text/plain": [
       "'str_1str_1str_1'"
      ]
     },
     "execution_count": 3,
     "metadata": {},
     "output_type": "execute_result"
    }
   ],
   "source": [
    "\"str_1\" * 3"
   ]
  },
  {
   "cell_type": "code",
   "execution_count": 4,
   "id": "apparent-dallas",
   "metadata": {},
   "outputs": [
    {
     "data": {
      "text/plain": [
       "5"
      ]
     },
     "execution_count": 4,
     "metadata": {},
     "output_type": "execute_result"
    }
   ],
   "source": [
    "2 + 3"
   ]
  },
  {
   "cell_type": "code",
   "execution_count": 5,
   "id": "conditional-equality",
   "metadata": {},
   "outputs": [
    {
     "data": {
      "text/plain": [
       "6"
      ]
     },
     "execution_count": 5,
     "metadata": {},
     "output_type": "execute_result"
    }
   ],
   "source": [
    "2 * 3"
   ]
  },
  {
   "cell_type": "markdown",
   "id": "straight-office",
   "metadata": {},
   "source": [
    "You might have wondered how the same built-in operator or function shows different behavior for objects of different classes. This is called operator overriding or function overriding, respectively."
   ]
  },
  {
   "cell_type": "markdown",
   "id": "adjustable-emperor",
   "metadata": {},
   "source": [
    "## Python Data Model"
   ]
  },
  {
   "cell_type": "markdown",
   "id": "pacific-rebel",
   "metadata": {},
   "source": [
    "Say you have a class representing an online order having a cart (a list) and a customer (a str or instance of another class which represents a customer).\n",
    "\n",
    "In such a case, it is quite natural to want to obtain the length of the cart list. Someone new to Python might decide to implement a method called `get_cart_len()` in their class to do this. But you can configure the built-in `len()` in such a way that it returns the length of the cart list when given our object.\n",
    "\n",
    "In another case, we might want to append something to the cart. Again, someone new to Python would think of implementing a method called `append_to_cart()` that takes an item and appends it to the cart list. But you can configure the + operator in such a way that it appends a new item to the cart.\n",
    "\n",
    "Python does all this using special methods. These special methods have a naming convention, where the name starts with two underscores, followed by an identifier and ends with another pair of underscores.\n",
    "\n",
    "Essentially, each built-in function or operator has a special method corresponding to it. For example, there’s `__len__()`, corresponding to `len()`, and `__add__()`, corresponding to the + operator.\n",
    "\n",
    "By default, most of the built-ins and operators will not work with objects of your classes. You must add the corresponding special methods in your class definition to make your object compatible with built-ins and operators. When you do this, the behavior of the function or operator associated with it changes according to that defined in the method.\n",
    "\n",
    "This is exactly what the [Data Model (Section 3 of the Python documentation)](https://docs.python.org/3/reference/datamodel.html) helps you accomplish. It lists all the special methods available and provides you with the means of overriding built-in functions and operators so that you can use them on your own objects.\n",
    "\n",
    "**Fun fact:** Due to the naming convention used for these methods, they are also called **dunder** methods which is a shorthand for **d**ouble **under**score methods. Sometimes they’re also referred to as special methods or magic methods. We prefer dunder methods though!"
   ]
  },
  {
   "cell_type": "markdown",
   "id": "married-jersey",
   "metadata": {},
   "source": [
    "## Overriding Built-in Functions\n",
    "\n",
    "Many of the special methods defined in the Data Model can be used to change the behavior of functions such as len, abs, hash, divmod, and so on. To do this, you only need to define the corresponding special method in your class. Let’s look at a few examples:"
   ]
  },
  {
   "cell_type": "markdown",
   "id": "consecutive-survival",
   "metadata": {},
   "source": [
    "### Giving a Length to Your Objects Using `len()`\n",
    "\n",
    "To change the behavior of `len()`, you need to define the `__len__()` special method in your class. Whenever you pass an object of your class to `len()`, your custom definition of `__len__()` will be used to obtain the result. Let’s implement `len()` for the order class we talked about in the beginning:"
   ]
  },
  {
   "cell_type": "code",
   "execution_count": 9,
   "id": "fleet-target",
   "metadata": {},
   "outputs": [],
   "source": [
    "class Order:\n",
    "    def __init__(self, cart, customer):\n",
    "        self.cart = list(cart)\n",
    "        self.customer = customer\n",
    "\n",
    "    def __len__(self):\n",
    "        return len(self.cart)"
   ]
  },
  {
   "cell_type": "code",
   "execution_count": 10,
   "id": "unable-clark",
   "metadata": {},
   "outputs": [
    {
     "data": {
      "text/plain": [
       "3"
      ]
     },
     "execution_count": 10,
     "metadata": {},
     "output_type": "execute_result"
    }
   ],
   "source": [
    "order = Order(['banana', 'apple', 'mango'], 'Ali Hejazizo')\n",
    "len(order)"
   ]
  },
  {
   "cell_type": "markdown",
   "id": "saving-emission",
   "metadata": {},
   "source": [
    "As you can see, you can now use `len()` to directly obtain the length of the cart. Moreover, it makes more intuitive sense to say “length of order” rather than calling something like `order.get_cart_len()`. Your call is both Pythonic and more intuitive. When you don’t have the `__len__()` method defined but still call `len()` on your object, you get a `TypeError`:"
   ]
  },
  {
   "cell_type": "code",
   "execution_count": 11,
   "id": "empirical-horizontal",
   "metadata": {},
   "outputs": [
    {
     "ename": "TypeError",
     "evalue": "object of type 'Order' has no len()",
     "output_type": "error",
     "traceback": [
      "\u001b[0;31m---------------------------------------------------------------------------\u001b[0m",
      "\u001b[0;31mTypeError\u001b[0m                                 Traceback (most recent call last)",
      "\u001b[0;32m<ipython-input-11-30dd57ab6903>\u001b[0m in \u001b[0;36m<module>\u001b[0;34m\u001b[0m\n\u001b[1;32m      5\u001b[0m \u001b[0;34m\u001b[0m\u001b[0m\n\u001b[1;32m      6\u001b[0m \u001b[0morder\u001b[0m \u001b[0;34m=\u001b[0m \u001b[0mOrder\u001b[0m\u001b[0;34m(\u001b[0m\u001b[0;34m[\u001b[0m\u001b[0;34m'banana'\u001b[0m\u001b[0;34m,\u001b[0m \u001b[0;34m'apple'\u001b[0m\u001b[0;34m,\u001b[0m \u001b[0;34m'mango'\u001b[0m\u001b[0;34m]\u001b[0m\u001b[0;34m,\u001b[0m \u001b[0;34m'Real Python'\u001b[0m\u001b[0;34m)\u001b[0m\u001b[0;34m\u001b[0m\u001b[0;34m\u001b[0m\u001b[0m\n\u001b[0;32m----> 7\u001b[0;31m \u001b[0mlen\u001b[0m\u001b[0;34m(\u001b[0m\u001b[0morder\u001b[0m\u001b[0;34m)\u001b[0m  \u001b[0;31m# Calling len when no __len__\u001b[0m\u001b[0;34m\u001b[0m\u001b[0;34m\u001b[0m\u001b[0m\n\u001b[0m",
      "\u001b[0;31mTypeError\u001b[0m: object of type 'Order' has no len()"
     ]
    }
   ],
   "source": [
    "class Order:\n",
    "    def __init__(self, cart, customer):\n",
    "        self.cart = list(cart)\n",
    "        self.customer = customer\n",
    "\n",
    "order = Order(['banana', 'apple', 'mango'], 'Real Python')\n",
    "len(order)  # Calling len when no __len__"
   ]
  },
  {
   "cell_type": "markdown",
   "id": "lined-niger",
   "metadata": {},
   "source": [
    "But, when overriding `len()`, you should keep in mind that Python requires the function to return an integer. If your method were to return anything other than an integer, you would get a `TypeError`. This, most probably, is to keep it consistent with the fact that `len()` is generally used to obtain the length of a sequence, which can only be an integer:"
   ]
  },
  {
   "cell_type": "code",
   "execution_count": 12,
   "id": "extra-scientist",
   "metadata": {},
   "outputs": [
    {
     "ename": "TypeError",
     "evalue": "'float' object cannot be interpreted as an integer",
     "output_type": "error",
     "traceback": [
      "\u001b[0;31m---------------------------------------------------------------------------\u001b[0m",
      "\u001b[0;31mTypeError\u001b[0m                                 Traceback (most recent call last)",
      "\u001b[0;32m<ipython-input-12-ac3b6586dd18>\u001b[0m in \u001b[0;36m<module>\u001b[0;34m\u001b[0m\n\u001b[1;32m      8\u001b[0m \u001b[0;34m\u001b[0m\u001b[0m\n\u001b[1;32m      9\u001b[0m \u001b[0morder\u001b[0m \u001b[0;34m=\u001b[0m \u001b[0mOrder\u001b[0m\u001b[0;34m(\u001b[0m\u001b[0;34m[\u001b[0m\u001b[0;34m'banana'\u001b[0m\u001b[0;34m,\u001b[0m \u001b[0;34m'apple'\u001b[0m\u001b[0;34m,\u001b[0m \u001b[0;34m'mango'\u001b[0m\u001b[0;34m]\u001b[0m\u001b[0;34m,\u001b[0m \u001b[0;34m'Real Python'\u001b[0m\u001b[0;34m)\u001b[0m\u001b[0;34m\u001b[0m\u001b[0;34m\u001b[0m\u001b[0m\n\u001b[0;32m---> 10\u001b[0;31m \u001b[0mlen\u001b[0m\u001b[0;34m(\u001b[0m\u001b[0morder\u001b[0m\u001b[0;34m)\u001b[0m\u001b[0;34m\u001b[0m\u001b[0;34m\u001b[0m\u001b[0m\n\u001b[0m",
      "\u001b[0;31mTypeError\u001b[0m: 'float' object cannot be interpreted as an integer"
     ]
    }
   ],
   "source": [
    "class Order:\n",
    "    def __init__(self, cart, customer):\n",
    "        self.cart = list(cart)\n",
    "        self.customer = customer\n",
    "\n",
    "    def __len__(self):\n",
    "        return float(len(self.cart))  # Return type changed to float\n",
    "\n",
    "order = Order(['banana', 'apple', 'mango'], 'Real Python')\n",
    "len(order)"
   ]
  },
  {
   "cell_type": "code",
   "execution_count": 13,
   "id": "regulation-niagara",
   "metadata": {},
   "outputs": [],
   "source": [
    "class Order:\n",
    "    def __init__(self, cart, customer):\n",
    "        self.cart = list(cart)\n",
    "        self.customer = customer\n",
    "        \n",
    "    def __len__(self):\n",
    "        return len(self.cart)"
   ]
  },
  {
   "cell_type": "code",
   "execution_count": 14,
   "id": "cooperative-hearing",
   "metadata": {},
   "outputs": [
    {
     "data": {
      "text/plain": [
       "3"
      ]
     },
     "execution_count": 14,
     "metadata": {},
     "output_type": "execute_result"
    }
   ],
   "source": [
    "order = Order(['banana', 'apple', 'mango'], 'Real Python')\n",
    "len(order)"
   ]
  },
  {
   "cell_type": "markdown",
   "id": "adverse-lincoln",
   "metadata": {},
   "source": [
    "### Making Your Objects Work With `abs()`\n",
    "\n",
    "You can dictate the behavior of the `abs()` built-in for instances of your class by defining the `__abs__()` special method in the class."
   ]
  },
  {
   "cell_type": "code",
   "execution_count": 16,
   "id": "virgin-bermuda",
   "metadata": {},
   "outputs": [],
   "source": [
    "class Vector:\n",
    "    def __init__(self, x_comp, y_comp):\n",
    "        self.x_comp = x_comp\n",
    "        self.y_comp = y_comp\n",
    "\n",
    "    def __abs__(self):\n",
    "        return (self.x_comp ** 2 + self.y_comp ** 2) ** 0.5"
   ]
  },
  {
   "cell_type": "code",
   "execution_count": 17,
   "id": "correct-omaha",
   "metadata": {},
   "outputs": [
    {
     "data": {
      "text/plain": [
       "5.0"
      ]
     },
     "execution_count": 17,
     "metadata": {},
     "output_type": "execute_result"
    }
   ],
   "source": [
    "vector = Vector(3, 4)\n",
    "abs(vector)"
   ]
  },
  {
   "cell_type": "markdown",
   "id": "invalid-cologne",
   "metadata": {},
   "source": [
    "It makes more intuitive sense to say “absolute value of vector” rather than calling something like `vector.get_mag()`."
   ]
  },
  {
   "cell_type": "markdown",
   "id": "excess-natural",
   "metadata": {},
   "source": [
    "### Printing Your Objects Prettily Using `str()`\n",
    "\n",
    "The `str()` built-in is used to cast an instance of a class to a str object, or more appropriately, to obtain a user-friendly string representation of the object which can be read by a normal user rather than the programmer. You can define the string format your object should be displayed in when passed to `str()` by defining the `__str__()` method in your class. Moreover, `__str__()` is the method that is used by Python when you call `print()` on your object."
   ]
  },
  {
   "cell_type": "code",
   "execution_count": 18,
   "id": "changed-lightweight",
   "metadata": {},
   "outputs": [],
   "source": [
    "class Vector:\n",
    "    def __init__(self, x_comp, y_comp):\n",
    "        self.x_comp = x_comp\n",
    "        self.y_comp = y_comp\n",
    "\n",
    "    def __str__(self):\n",
    "        # By default, sign of +ve number is not displayed\n",
    "        # Using `+`, sign is always displayed\n",
    "        return f'{self.x_comp}i + {self.y_comp}j'"
   ]
  },
  {
   "cell_type": "code",
   "execution_count": 19,
   "id": "metropolitan-model",
   "metadata": {},
   "outputs": [
    {
     "data": {
      "text/plain": [
       "'3i + 4j'"
      ]
     },
     "execution_count": 19,
     "metadata": {},
     "output_type": "execute_result"
    }
   ],
   "source": [
    "vector = Vector(3, 4)\n",
    "str(vector)"
   ]
  },
  {
   "cell_type": "code",
   "execution_count": 20,
   "id": "alike-silence",
   "metadata": {},
   "outputs": [
    {
     "name": "stdout",
     "output_type": "stream",
     "text": [
      "3i + 4j\n"
     ]
    }
   ],
   "source": [
    "print(vector)"
   ]
  },
  {
   "cell_type": "markdown",
   "id": "continued-interview",
   "metadata": {},
   "source": [
    "### Representing Your Objects Using `repr()`\n",
    "\n",
    "Read [Python String Conversion 101: Why Every Class Needs a “repr”](https://dbader.org/blog/python-repr-vs-str) for a complete tutorial on `__repr__` and the difference between `__repr__` and `__str__`.\n",
    "\n",
    "[“Difference between `__str__` and `__repr__` in Python”](https://stackoverflow.com/questions/1436703/what-is-the-difference-between-str-and-repr) is a Stack Overflow question with excellent contributions from Pythonistas Alex Martelli and Martijn Pieters.\n",
    "\n",
    "Rule of thumb: `__repr__` is for developers, `__str__` is for customers."
   ]
  },
  {
   "cell_type": "markdown",
   "id": "oriental-disorder",
   "metadata": {},
   "source": [
    "### Making Your Objects Truthy or Falsey Using `bool()`\n",
    "\n",
    "The `bool()` built-in can be used to obtain the truth value of an object. To define its behavior, you can use the `__bool__()`.\n",
    "\n",
    "The behavior defined here will determine the truth value of an instance in all contexts that require obtaining a truth value such as in if statements."
   ]
  },
  {
   "cell_type": "code",
   "execution_count": 21,
   "id": "illegal-philosophy",
   "metadata": {},
   "outputs": [],
   "source": [
    "class Order:\n",
    "    def __init__(self, cart, customer):\n",
    "        self.cart = list(cart)\n",
    "        self.customer = customer\n",
    "\n",
    "    def __bool__(self):\n",
    "        return len(self.cart) > 0"
   ]
  },
  {
   "cell_type": "code",
   "execution_count": 22,
   "id": "dress-lesson",
   "metadata": {},
   "outputs": [
    {
     "data": {
      "text/plain": [
       "(True, False)"
      ]
     },
     "execution_count": 22,
     "metadata": {},
     "output_type": "execute_result"
    }
   ],
   "source": [
    "order1 = Order(['banana', 'apple', 'mango'], 'Ali Hejazizo')\n",
    "order2 = Order([], 'Mohsen')\n",
    "\n",
    "bool(order1), bool(order2)"
   ]
  },
  {
   "cell_type": "code",
   "execution_count": 23,
   "id": "collaborative-recycling",
   "metadata": {},
   "outputs": [
    {
     "name": "stdout",
     "output_type": "stream",
     "text": [
      "Ali Hejazizo's order is processing...\n",
      "Empty order for customer Mohsen\n"
     ]
    }
   ],
   "source": [
    "for order in [order1, order2]:\n",
    "    if order:\n",
    "        print(f\"{order.customer}'s order is processing...\")\n",
    "    else:\n",
    "        print(f\"Empty order for customer {order.customer}\")"
   ]
  },
  {
   "cell_type": "markdown",
   "id": "administrative-minister",
   "metadata": {},
   "source": [
    "**Note:** When the `__bool__()` special method is not implemented in a class, the value returned by `__len__()` is used as the truth value, where a non-zero value indicates True and a zero value indicates `False`. In case both the methods are not implemented, all instances of the class are considered to be `True`."
   ]
  },
  {
   "cell_type": "markdown",
   "id": "found-bangladesh",
   "metadata": {},
   "source": [
    "## Overriding Built-in Operators\n",
    "\n",
    "Changing the behavior of operators is just as simple as changing the behavior of functions. You define their corresponding special methods in your class, and the operators work according to the behavior defined in these methods.\n",
    "\n",
    "These are different from the above special methods in the sense that they need to accept another argument in the definition other than `self`, generally referred to by the name `other`. Let’s look at a few examples."
   ]
  },
  {
   "cell_type": "markdown",
   "id": "detailed-colon",
   "metadata": {},
   "source": [
    "### Making Your Objects Capable of Being Added Using\n",
    "\n",
    "The special method corresponding to the + operator is the `__add__()` method. Adding a custom definition of `__add__()` changes the behavior of the operator. It is recommended that `__add__()` returns a new instance of the class instead of modifying the calling instance itself."
   ]
  },
  {
   "cell_type": "code",
   "execution_count": 24,
   "id": "civic-reducing",
   "metadata": {},
   "outputs": [],
   "source": [
    "class Order:\n",
    "    def __init__(self, cart, customer):\n",
    "        self.cart = list(cart)\n",
    "        self.customer = customer\n",
    "\n",
    "    def __add__(self, other):\n",
    "        new_cart = self.cart.copy()\n",
    "        new_cart.append(other)\n",
    "        return Order(new_cart, self.customer)"
   ]
  },
  {
   "cell_type": "code",
   "execution_count": 25,
   "id": "typical-professional",
   "metadata": {},
   "outputs": [],
   "source": [
    "order = Order([\"Apple\"], \"Ali\")"
   ]
  },
  {
   "cell_type": "code",
   "execution_count": 26,
   "id": "tough-gothic",
   "metadata": {},
   "outputs": [
    {
     "data": {
      "text/plain": [
       "['Apple', 'orange']"
      ]
     },
     "execution_count": 26,
     "metadata": {},
     "output_type": "execute_result"
    }
   ],
   "source": [
    "(order + 'orange').cart  # New Order instance"
   ]
  },
  {
   "cell_type": "code",
   "execution_count": 27,
   "id": "statutory-obligation",
   "metadata": {},
   "outputs": [
    {
     "data": {
      "text/plain": [
       "['Apple']"
      ]
     },
     "execution_count": 27,
     "metadata": {},
     "output_type": "execute_result"
    }
   ],
   "source": [
    "order.cart  # Original instance unchanged"
   ]
  },
  {
   "cell_type": "code",
   "execution_count": 28,
   "id": "continued-journey",
   "metadata": {},
   "outputs": [
    {
     "data": {
      "text/plain": [
       "['Apple', 'mango']"
      ]
     },
     "execution_count": 28,
     "metadata": {},
     "output_type": "execute_result"
    }
   ],
   "source": [
    "order = order + 'mango'  # Changing the original instance\n",
    "order.cart"
   ]
  },
  {
   "cell_type": "markdown",
   "id": "spatial-reason",
   "metadata": {},
   "source": [
    "Similarly, you have the `__sub__()`, `__mul__()`, and other special methods which define the behavior of -, *, and so on. These methods should return a new instance of the class as well."
   ]
  },
  {
   "cell_type": "markdown",
   "id": "abroad-coordinator",
   "metadata": {},
   "source": [
    "### Indexing and Slicing Your Objects Using `[]`\n",
    "\n",
    "The `[]` operator is called the indexing operator and is used in various contexts in Python such as getting the value at an index in sequences, getting the value associated with a key in dictionaries, or obtaining a part of a sequence through slicing. You can change its behavior using the `__getitem__()` special method."
   ]
  },
  {
   "cell_type": "code",
   "execution_count": 29,
   "id": "furnished-marketing",
   "metadata": {},
   "outputs": [],
   "source": [
    "class Order:\n",
    "    def __init__(self, cart, customer):\n",
    "        self.cart = list(cart)\n",
    "        self.customer = customer\n",
    "\n",
    "    def __getitem__(self, key):\n",
    "        return self.cart[key]"
   ]
  },
  {
   "cell_type": "code",
   "execution_count": 30,
   "id": "alike-ghana",
   "metadata": {},
   "outputs": [
    {
     "data": {
      "text/plain": [
       "'banana'"
      ]
     },
     "execution_count": 30,
     "metadata": {},
     "output_type": "execute_result"
    }
   ],
   "source": [
    "order = Order(['banana', 'apple'], 'Ali Hejazizo')\n",
    "order[0]"
   ]
  },
  {
   "cell_type": "code",
   "execution_count": 31,
   "id": "turned-arena",
   "metadata": {},
   "outputs": [
    {
     "data": {
      "text/plain": [
       "'apple'"
      ]
     },
     "execution_count": 31,
     "metadata": {},
     "output_type": "execute_result"
    }
   ],
   "source": [
    "order[-1]"
   ]
  },
  {
   "cell_type": "code",
   "execution_count": 32,
   "id": "delayed-concord",
   "metadata": {},
   "outputs": [
    {
     "data": {
      "text/plain": [
       "['banana', 'apple']"
      ]
     },
     "execution_count": 32,
     "metadata": {},
     "output_type": "execute_result"
    }
   ],
   "source": [
    "order[:2]"
   ]
  },
  {
   "cell_type": "markdown",
   "id": "packed-veteran",
   "metadata": {},
   "source": [
    "You’ll notice that above, the name of the argument to `__getitem__()` is not index but key. This is because the argument can be of mainly three forms:\n",
    "\n",
    "- **an integer value:** in which case it is either an index or a dictionary key\n",
    "- **a string value:** in which case it is a dictionary key\n",
    "- **a slice object:** in which case it will slice the sequence used by the class. While there are other possibilities, these are the ones most commonly encountered."
   ]
  },
  {
   "cell_type": "code",
   "execution_count": 33,
   "id": "photographic-browse",
   "metadata": {},
   "outputs": [
    {
     "data": {
      "text/plain": [
       "['banana', 'apple']"
      ]
     },
     "execution_count": 33,
     "metadata": {},
     "output_type": "execute_result"
    }
   ],
   "source": [
    "order[:]"
   ]
  },
  {
   "cell_type": "markdown",
   "id": "terminal-nirvana",
   "metadata": {},
   "source": [
    "**Note:** There is a similar `__setitem__()` special method that is used to define the behavior of `obj[x] = y`. This method takes two arguments in addition to self, generally called key and value, and can be used to change the value at key to value.\n",
    "\n",
    "[Read More](https://realpython.com/operator-function-overloading/#the-python-data-model)"
   ]
  },
  {
   "cell_type": "code",
   "execution_count": null,
   "id": "graphic-correlation",
   "metadata": {},
   "outputs": [],
   "source": []
  }
 ],
 "metadata": {
  "kernelspec": {
   "display_name": "Python 3",
   "language": "python",
   "name": "python3"
  },
  "language_info": {
   "codemirror_mode": {
    "name": "ipython",
    "version": 3
   },
   "file_extension": ".py",
   "mimetype": "text/x-python",
   "name": "python",
   "nbconvert_exporter": "python",
   "pygments_lexer": "ipython3",
   "version": "3.7.9"
  }
 },
 "nbformat": 4,
 "nbformat_minor": 5
}
