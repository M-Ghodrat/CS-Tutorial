{
 "cells": [
  {
   "cell_type": "markdown",
   "id": "pharmaceutical-entry",
   "metadata": {},
   "source": [
    "# 06.2-OOP (Part #2 OOP in Python)\n",
    "\n",
    "- Review\n",
    "    - Classes are \"instance factories\"\n",
    "    - Classes define an \"instance blueprint\"\n",
    "    - An Object is a unit of data (having one or more attributes), of a particular class or type, with associated functionality (methods)\n",
    "- Construct an instance or object of the class:\n",
    "    - Instances know to which class they belong (\"type\")\n",
    "    - Instances can access variables defined in the class\n",
    "    \n",
    "\n",
    "Everything in Python is an object. Modules are objects, class definitions and functions are objects, and of course, objects created from classes are objects too.\n",
    "\n",
    "Inheritance is a required feature of every object oriented programming language. This means that Python supports inheritance, and as you’ll see later, it’s one of the few languages that supports multiple inheritance.\n",
    "\n",
    "A class in python is defined as below:"
   ]
  },
  {
   "cell_type": "markdown",
   "id": "hungarian-conversion",
   "metadata": {},
   "source": [
    "**Note:** Class names start with a capital letter by convention.\n",
    "\n",
    "```python\n",
    "class NameOfClass():\n",
    "    def __init__(self, param1, param2):\n",
    "        self.param1 = param1\n",
    "        self.param2 = param2\n",
    "\n",
    "        flag = True\n",
    "\n",
    "    def some_method(self):\n",
    "        local_var = 3\n",
    "        # perfome some action\n",
    "        pass\n",
    "```\n",
    "\n",
    "Primitive data structures—like numbers, strings, and lists—are designed to represent simple pieces of information, such as the cost of an apple, the name of a poem, or your \n",
    "favorite colors, respectively. With classes, you can represent something more complex. Classes are used to create user-defined data structures."
   ]
  },
  {
   "cell_type": "markdown",
   "id": "fatal-encyclopedia",
   "metadata": {},
   "source": [
    "## Instantiate an Object in Python\n",
    "\n",
    "A real example:"
   ]
  },
  {
   "cell_type": "code",
   "execution_count": 16,
   "id": "organizational-reunion",
   "metadata": {},
   "outputs": [],
   "source": [
    "class Student():\n",
    "    country = \"Canada\"\n",
    "    \n",
    "    # constructor\n",
    "    def __init__(self, name, student_id, grades={}):\n",
    "        \n",
    "        print(\"Constructor is called!\")\n",
    "        # instance attributes\n",
    "        self.name = name\n",
    "        self.student_id = student_id\n",
    "        self.grades = grades\n",
    "    \n",
    "    university = \"University of Alberta\""
   ]
  },
  {
   "cell_type": "markdown",
   "id": "related-analysis",
   "metadata": {},
   "source": [
    "The properties that all Student objects must have are defined in a method called `.__init__()`. Every time a new Student object is created, `.__init__()` sets the initial state of the object by assigning the values of the object’s properties. That is, `.__init__()` initializes each new instance of the class.\n",
    "\n",
    "You can give `.__init__()` any number of parameters, but the first parameter will always be a variable called self. When a new class instance is created, the instance is automatically passed to the **self** parameter in `.__init__()` so that new attributes can be defined on the object."
   ]
  },
  {
   "cell_type": "code",
   "execution_count": 17,
   "id": "palestinian-secretary",
   "metadata": {},
   "outputs": [
    {
     "name": "stdout",
     "output_type": "stream",
     "text": [
      "Constructor is called!\n"
     ]
    }
   ],
   "source": [
    "st_1 = Student(\"Ali\", \"123\")"
   ]
  },
  {
   "cell_type": "code",
   "execution_count": 18,
   "id": "athletic-alcohol",
   "metadata": {},
   "outputs": [
    {
     "name": "stdout",
     "output_type": "stream",
     "text": [
      "Constructor is called!\n"
     ]
    }
   ],
   "source": [
    "st_2 = Student(\"Mohsen\", \"456\", {\"Math\": 4, \"Physics\": 3.7})"
   ]
  },
  {
   "cell_type": "markdown",
   "id": "liberal-inspection",
   "metadata": {},
   "source": [
    "### Instance and Class Attributes"
   ]
  },
  {
   "cell_type": "code",
   "execution_count": 19,
   "id": "continued-dakota",
   "metadata": {},
   "outputs": [],
   "source": [
    "class Student:\n",
    "    \n",
    "    university = \"UofA\"\n",
    "    country = \"Canada\"\n",
    "    author = \"Mohsen Ghodrat\"\n",
    "    \n",
    "    def __init__(self, name, student_id):\n",
    "        self.name = name\n",
    "        self.student_id = student_id"
   ]
  },
  {
   "cell_type": "code",
   "execution_count": 20,
   "id": "reverse-great",
   "metadata": {},
   "outputs": [],
   "source": [
    "sara = Student(name=\"Sara\", student_id=9999)"
   ]
  },
  {
   "cell_type": "code",
   "execution_count": 21,
   "id": "horizontal-reviewer",
   "metadata": {},
   "outputs": [],
   "source": [
    "ali = Student(name=\"Ali\", student_id=1234)"
   ]
  },
  {
   "cell_type": "markdown",
   "id": "living-directory",
   "metadata": {},
   "source": [
    "In the body of `.__init__()`, there are three statements using the self variable:\n",
    "\n",
    "1. `self.name = name`\n",
    "2. `self.student_id = student_id`\n",
    "3. `self.grades = grades`\n",
    "Which creates three instance attribute.\n",
    "\n",
    "An instance attribute’s value is specific to a particular instance of the class. All Student objects have a name, student_id, and grade, but the values for the name, student_id, and grade attributes will vary depending on the Student instance.\n",
    "\n",
    "After you create the two instances, you can access their instance attributes using **dot notation**:"
   ]
  },
  {
   "cell_type": "code",
   "execution_count": 22,
   "id": "conventional-score",
   "metadata": {},
   "outputs": [
    {
     "data": {
      "text/plain": [
       "('Ali', 'Mohsen')"
      ]
     },
     "execution_count": 22,
     "metadata": {},
     "output_type": "execute_result"
    }
   ],
   "source": [
    "st_1.name, st_2.name"
   ]
  },
  {
   "cell_type": "code",
   "execution_count": 23,
   "id": "immediate-antique",
   "metadata": {},
   "outputs": [
    {
     "data": {
      "text/plain": [
       "({}, {'Math': 4, 'Physics': 3.7})"
      ]
     },
     "execution_count": 23,
     "metadata": {},
     "output_type": "execute_result"
    }
   ],
   "source": [
    "st_1.grades, st_2.grades"
   ]
  },
  {
   "cell_type": "markdown",
   "id": "iraqi-cassette",
   "metadata": {},
   "source": [
    "On the other hand, class attributes are attributes that have the same value for all class instances. You can define a class attribute by assigning a value to a variable name outside of class methods without using `self`.\n",
    "\n",
    "For example, the Student class has two class attribute called country and university with the values Canada and University of Alberta, respectively.\n",
    "\n",
    "You can access class attributes the same way with **dot notation**:"
   ]
  },
  {
   "cell_type": "code",
   "execution_count": 24,
   "id": "looking-surgeon",
   "metadata": {},
   "outputs": [
    {
     "data": {
      "text/plain": [
       "('Canada', 'Canada')"
      ]
     },
     "execution_count": 24,
     "metadata": {},
     "output_type": "execute_result"
    }
   ],
   "source": [
    "st_1.country, st_2.country"
   ]
  },
  {
   "cell_type": "code",
   "execution_count": 25,
   "id": "invalid-hours",
   "metadata": {},
   "outputs": [
    {
     "data": {
      "text/plain": [
       "('University of Alberta', 'University of Alberta')"
      ]
     },
     "execution_count": 25,
     "metadata": {},
     "output_type": "execute_result"
    }
   ],
   "source": [
    "st_1.university, st_2.university"
   ]
  },
  {
   "cell_type": "markdown",
   "id": "alive-proportion",
   "metadata": {},
   "source": [
    "**Note:** It is best practice to define Class attributes directly beneath the first line of the class name. They must always be assigned an initial value. When an instance of the class is created, class attributes are automatically created and assigned to their initial values."
   ]
  },
  {
   "cell_type": "markdown",
   "id": "weighted-macintosh",
   "metadata": {},
   "source": [
    "### Instance Methods\n",
    "\n",
    "Instance methods are functions that are defined inside a class and can only be called from an instance of that class. Just like `.__init__()`, an instance method’s first parameter is always self."
   ]
  },
  {
   "cell_type": "code",
   "execution_count": 26,
   "id": "spoken-dining",
   "metadata": {},
   "outputs": [],
   "source": [
    "class Student():\n",
    "    # best practice is to define class attributes directly\n",
    "    # beneath the first line of the class name.\n",
    "    country = \"Canada\"\n",
    "    university = \"University of Alberta\"\n",
    "    \n",
    "    # constructor\n",
    "    def __init__(self, name, student_id, grades={}):\n",
    "        \n",
    "        print(\"Constructor is called!\")\n",
    "        # instance attributes\n",
    "        self.name = name\n",
    "        self.student_id = student_id\n",
    "        self.grades = grades\n",
    "    \n",
    "    # instance method\n",
    "    def calculate_gpa(self):\n",
    "        num_courses = len(self.grades)\n",
    "        \n",
    "        # if there are no courses, gpa is 0.\n",
    "        if not num_courses:\n",
    "            return 0\n",
    "        \n",
    "        gpa = sum(self.grades.values()) / num_courses\n",
    "        return gpa"
   ]
  },
  {
   "cell_type": "code",
   "execution_count": 27,
   "id": "endless-admission",
   "metadata": {},
   "outputs": [
    {
     "name": "stdout",
     "output_type": "stream",
     "text": [
      "Constructor is called!\n",
      "Constructor is called!\n"
     ]
    }
   ],
   "source": [
    "st_1 = Student(\"Ali\", \"123\")\n",
    "st_2 = Student(\"Mohsen\", \"456\", {\"Math\": 4, \"Physics\": 3.7})"
   ]
  },
  {
   "cell_type": "code",
   "execution_count": 28,
   "id": "dense-wells",
   "metadata": {},
   "outputs": [
    {
     "data": {
      "text/plain": [
       "0"
      ]
     },
     "execution_count": 28,
     "metadata": {},
     "output_type": "execute_result"
    }
   ],
   "source": [
    "st_1.calculate_gpa()"
   ]
  },
  {
   "cell_type": "code",
   "execution_count": 29,
   "id": "different-tanzania",
   "metadata": {},
   "outputs": [
    {
     "data": {
      "text/plain": [
       "3.85"
      ]
     },
     "execution_count": 29,
     "metadata": {},
     "output_type": "execute_result"
    }
   ],
   "source": [
    "st_2.calculate_gpa()"
   ]
  },
  {
   "cell_type": "markdown",
   "id": "bright-classic",
   "metadata": {},
   "source": [
    "**`dunder` Methods**\n",
    "\n",
    "**Note:** Methods like `.__init__()` are called **dunder** methods because they begin and end with double underscores. There are many dunder methods that you can use to customize classes in Python. Although too advanced a topic for a beginning Python book, understanding dunder methods is an important part of mastering object-oriented programming in Python.\n",
    "\n",
    "Let's see another **dunder** method: `.__str__`\n",
    "\n",
    "When you `print(st_1)`, you get a cryptic looking message telling you that miles is a Student object at the memory address 0x00aeff70 (it will be a different address on your computer). This message isn’t very helpful. You can change what gets printed by defining a special instance method called `.__str__()`."
   ]
  },
  {
   "cell_type": "code",
   "execution_count": 30,
   "id": "lightweight-designer",
   "metadata": {},
   "outputs": [],
   "source": [
    "class Student(object):\n",
    "    # best practice is to define class attributes directly\n",
    "    # beneath the first line of the class name.\n",
    "    country = \"Canada\"\n",
    "    university = \"University of Alberta\"\n",
    "    \n",
    "    # constructor\n",
    "    def __init__(self, name, student_id, grades={}):\n",
    "        \n",
    "        print(\"Constructor is called!\")\n",
    "        # instance attributes\n",
    "        self.name = name\n",
    "        self.student_id = student_id\n",
    "        self.grades = grades\n",
    "    \n",
    "    # instance method\n",
    "    def calculate_gpa(self):\n",
    "        num_courses = len(self.grades)\n",
    "        \n",
    "        # if there are no courses, gpa is 0.\n",
    "        if not num_courses:\n",
    "            return 0\n",
    "        \n",
    "        gpa = sum(self.grades.values()) / num_courses\n",
    "        return gpa\n",
    "    \n",
    "    def __str__(self):\n",
    "        return f\"{self.name} with {len(self.grades)} courses (GPA: {self.calculate_gpa()}).\"\n",
    "\n",
    "    def __hash__(self):\n",
    "        return self.student_id\n",
    "    \n",
    "    # TODO: Add description\n",
    "    def __eq__(self, obj):\n",
    "        return self.student_id == obj.student_id"
   ]
  },
  {
   "cell_type": "code",
   "execution_count": 31,
   "id": "narrative-hanging",
   "metadata": {},
   "outputs": [
    {
     "name": "stdout",
     "output_type": "stream",
     "text": [
      "Constructor is called!\n",
      "Constructor is called!\n",
      "Constructor is called!\n"
     ]
    }
   ],
   "source": [
    "st_1 = Student(\"Ali\", 123)\n",
    "st_2 = Student(\"Ali\", 456, {\"Math\": 4, \"Physics\": 3.7})\n",
    "st_3 = Student(\"Amirabbas\", 123)"
   ]
  },
  {
   "cell_type": "code",
   "execution_count": 32,
   "id": "naked-narrative",
   "metadata": {},
   "outputs": [
    {
     "data": {
      "text/plain": [
       "True"
      ]
     },
     "execution_count": 32,
     "metadata": {},
     "output_type": "execute_result"
    }
   ],
   "source": [
    "st_1 == st_3"
   ]
  },
  {
   "cell_type": "code",
   "execution_count": 33,
   "id": "smaller-assignment",
   "metadata": {},
   "outputs": [
    {
     "data": {
      "text/plain": [
       "True"
      ]
     },
     "execution_count": 33,
     "metadata": {},
     "output_type": "execute_result"
    }
   ],
   "source": [
    "st_1.__eq__(st_3)"
   ]
  },
  {
   "cell_type": "code",
   "execution_count": 34,
   "id": "electrical-adaptation",
   "metadata": {},
   "outputs": [
    {
     "data": {
      "text/plain": [
       "True"
      ]
     },
     "execution_count": 34,
     "metadata": {},
     "output_type": "execute_result"
    }
   ],
   "source": [
    "Student.__eq__(st_1, st_3)"
   ]
  },
  {
   "cell_type": "code",
   "execution_count": 35,
   "id": "naked-cooperation",
   "metadata": {},
   "outputs": [
    {
     "ename": "TypeError",
     "evalue": "'>' not supported between instances of 'Student' and 'Student'",
     "output_type": "error",
     "traceback": [
      "\u001b[0;31m---------------------------------------------------------------------------\u001b[0m",
      "\u001b[0;31mTypeError\u001b[0m                                 Traceback (most recent call last)",
      "\u001b[0;32m<ipython-input-35-7b87ac880ccd>\u001b[0m in \u001b[0;36m<module>\u001b[0;34m\u001b[0m\n\u001b[0;32m----> 1\u001b[0;31m \u001b[0mst_1\u001b[0m \u001b[0;34m>\u001b[0m \u001b[0mst_2\u001b[0m\u001b[0;34m\u001b[0m\u001b[0;34m\u001b[0m\u001b[0m\n\u001b[0m",
      "\u001b[0;31mTypeError\u001b[0m: '>' not supported between instances of 'Student' and 'Student'"
     ]
    }
   ],
   "source": [
    "st_1 > st_2"
   ]
  },
  {
   "cell_type": "code",
   "execution_count": 37,
   "id": "numeric-india",
   "metadata": {},
   "outputs": [
    {
     "data": {
      "text/plain": [
       "['__class__',\n",
       " '__delattr__',\n",
       " '__dict__',\n",
       " '__dir__',\n",
       " '__doc__',\n",
       " '__eq__',\n",
       " '__format__',\n",
       " '__ge__',\n",
       " '__getattribute__',\n",
       " '__gt__',\n",
       " '__hash__',\n",
       " '__init__',\n",
       " '__init_subclass__',\n",
       " '__le__',\n",
       " '__lt__',\n",
       " '__module__',\n",
       " '__ne__',\n",
       " '__new__',\n",
       " '__reduce__',\n",
       " '__reduce_ex__',\n",
       " '__repr__',\n",
       " '__setattr__',\n",
       " '__sizeof__',\n",
       " '__str__',\n",
       " '__subclasshook__',\n",
       " '__weakref__',\n",
       " 'calculate_gpa',\n",
       " 'country',\n",
       " 'grades',\n",
       " 'name',\n",
       " 'student_id',\n",
       " 'university']"
      ]
     },
     "execution_count": 37,
     "metadata": {},
     "output_type": "execute_result"
    }
   ],
   "source": [
    "dir(st_1)"
   ]
  },
  {
   "cell_type": "markdown",
   "id": "federal-magnitude",
   "metadata": {},
   "source": [
    "## How the `object.method()` Syntax Works\n",
    "\n",
    "```python\n",
    ">>> obj = MyClass()\n",
    ">>> obj.method()\n",
    "('instance method called', <MyClass instance at 0x101a2f4c8>)\n",
    "```\n",
    "\n",
    "When the method is called, Python replaces the self argument with the instance object, obj. We could ignore the syntactic sugar of the dot-call syntax (`obj.method()`) and pass the instance object manually to get the same result:\n",
    "\n",
    "```python\n",
    ">>> MyClass.method(obj)\n",
    "('instance method called', <MyClass instance at 0x101a2f4c8>)\n",
    "```\n",
    "\n",
    "This example shows how instance is automatically passed to the self parameter."
   ]
  },
  {
   "cell_type": "code",
   "execution_count": 39,
   "id": "fitting-accreditation",
   "metadata": {},
   "outputs": [
    {
     "name": "stdout",
     "output_type": "stream",
     "text": [
      "Constructor is called!\n"
     ]
    }
   ],
   "source": [
    "st1 = Student(name=\"Ali\", student_id=\"123\")"
   ]
  },
  {
   "cell_type": "code",
   "execution_count": 41,
   "id": "roman-theme",
   "metadata": {},
   "outputs": [
    {
     "data": {
      "text/plain": [
       "0"
      ]
     },
     "execution_count": 41,
     "metadata": {},
     "output_type": "execute_result"
    }
   ],
   "source": [
    "Student.calculate_gpa(st1)"
   ]
  },
  {
   "cell_type": "code",
   "execution_count": 42,
   "id": "psychological-material",
   "metadata": {},
   "outputs": [
    {
     "data": {
      "text/plain": [
       "0"
      ]
     },
     "execution_count": 42,
     "metadata": {},
     "output_type": "execute_result"
    }
   ],
   "source": [
    "st1.calculate_gpa()"
   ]
  },
  {
   "cell_type": "markdown",
   "id": "affected-resident",
   "metadata": {},
   "source": [
    "The second line is simpler and often used but is just only a **syntactic sugar**."
   ]
  },
  {
   "cell_type": "markdown",
   "id": "precise-exhibition",
   "metadata": {},
   "source": [
    "Note the following:"
   ]
  },
  {
   "cell_type": "code",
   "execution_count": 11,
   "id": "private-basis",
   "metadata": {},
   "outputs": [],
   "source": [
    "class st:\n",
    "    def __init__(self, a, b):\n",
    "        self.a = a\n",
    "        self.b = b\n",
    "        \n",
    "    def area(selff):\n",
    "        return selff"
   ]
  },
  {
   "cell_type": "code",
   "execution_count": 17,
   "id": "skilled-parts",
   "metadata": {},
   "outputs": [
    {
     "data": {
      "text/plain": [
       "'st_1'"
      ]
     },
     "execution_count": 17,
     "metadata": {},
     "output_type": "execute_result"
    }
   ],
   "source": [
    "st_1=st('a1', 'b1')\n",
    "st.area('st_1')"
   ]
  },
  {
   "cell_type": "code",
   "execution_count": null,
   "id": "national-protest",
   "metadata": {},
   "outputs": [],
   "source": []
  }
 ],
 "metadata": {
  "kernelspec": {
   "display_name": "Python 3",
   "language": "python",
   "name": "python3"
  },
  "language_info": {
   "codemirror_mode": {
    "name": "ipython",
    "version": 3
   },
   "file_extension": ".py",
   "mimetype": "text/x-python",
   "name": "python",
   "nbconvert_exporter": "python",
   "pygments_lexer": "ipython3",
   "version": "3.7.9"
  }
 },
 "nbformat": 4,
 "nbformat_minor": 5
}
