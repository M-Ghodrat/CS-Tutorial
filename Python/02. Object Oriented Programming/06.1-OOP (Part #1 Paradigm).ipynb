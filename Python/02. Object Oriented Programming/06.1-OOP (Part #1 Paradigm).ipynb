{
 "cells": [
  {
   "cell_type": "markdown",
   "id": "hungry-sweden",
   "metadata": {},
   "source": [
    "# 06.1-OOP (Part #1 Paradigm)"
   ]
  },
  {
   "cell_type": "markdown",
   "id": "important-tribe",
   "metadata": {},
   "source": [
    "OOP organizes code so it is:\n",
    "\n",
    "- Easier to use\n",
    "- Easier to understand\n",
    "- Easier to maintain end extend\n",
    "- Easier to collaborate\n",
    "\n",
    "OOP is a universial paradigm (many languages). It allows programmers to create their own objects that have methods and attributes."
   ]
  },
  {
   "cell_type": "markdown",
   "id": "piano-system",
   "metadata": {},
   "source": [
    "## Programming Paradigms\n",
    "\n",
    "The term programming paradigm refers to a style of programming. It does not refer to a specific language, but rather it refers to the way you program. A programming paradigm is an approach to solve the problem using some programming language\n",
    "\n",
    "There are lots of programming languages that are well-known but all of them need to follow some strategy when they are implemented and that strategy is a paradigm.\n",
    "\n",
    "[Read on Programming Paradigms](https://www.freecodecamp.org/news/what-exactly-is-a-programming-paradigm/#:~:text=The%20term%20programming%20paradigm%20refers,that%20strategy%20is%20a%20paradigm.)\n",
    "\n",
    "![paradigms](./images/paradigms.png)"
   ]
  },
  {
   "cell_type": "markdown",
   "id": "terminal-satisfaction",
   "metadata": {},
   "source": [
    "## Object Oriented Python\n",
    "\n",
    "- Everything is an object, even numbers.\n",
    "- All entities in Python follow the same rules of objects:\n",
    "    - Every object (instance of a class) has a type (the class)\n",
    "    - The object or class has attributes, some of which are methods."
   ]
  },
  {
   "cell_type": "markdown",
   "id": "tight-guest",
   "metadata": {},
   "source": [
    "## Modules vs. Classes\n",
    "\n",
    "- Python modules are files that contain Python code.\n",
    "- Python modules can be executed or imported.\n",
    "- Modules can contain class definitions.\n",
    "- Sometimes a module consists of a single class, in this case a module may seem synonymous with a class."
   ]
  },
  {
   "cell_type": "markdown",
   "id": "organizational-browse",
   "metadata": {},
   "source": [
    "## Classes, Instances, Type, Methods, and Attributes\n",
    "\n",
    "- Class: a blueprint of an instance.\n",
    "- Instance: a constructed object of the class.\n",
    "- Type: Indicated the class the instance belongs to.\n",
    "- Attribute: any object value: `object.attribute`.\n",
    "- Method: a \"callable attribute\" defined in the class.\n",
    "\n",
    "```python\n",
    "num = 1\n",
    "\n",
    "print(type(num))\n",
    "print(num.to_bytes())\n",
    "print(num.conjugate())\n",
    "```"
   ]
  },
  {
   "cell_type": "markdown",
   "id": "worse-latvia",
   "metadata": {},
   "source": [
    "A car can be seen as a class of object.\n",
    "\n",
    "- The car class provides the blueprint for a car object.\n",
    "- Each instance of a car does the same things (methods)\n",
    "- But each car instance has its own state (attributes)\n",
    "\n",
    "![car](./images/car_instance.png)\n",
    "\n",
    "```python\n",
    "redcar = Car(\"Red\")\n",
    "bluecar = Car(\"Blue\")\n",
    "\n",
    "redcar.start()\n",
    "redcar.openleft()\n",
    "redcar.start()\n",
    "\n",
    "bluecar.start()\n",
    "redcar.stop()\n",
    "```\n",
    "\n",
    "| variable | type | \n",
    "| :- | :- | \n",
    "| Car: | class |\n",
    "| redcar: | instnace |\n",
    "| bluecar: | instnace |\n",
    "| .start(): | method |\n",
    "| .stop(): | method |\n",
    "| .openleft(): | method |\n",
    "| \"Red\" | attribute |\n",
    "| \"Blue\" | attribute |\n",
    "\n",
    "- Methods are like buttons that operate the object.\n",
    "- Methods often change an isntance's state (its data)"
   ]
  },
  {
   "cell_type": "markdown",
   "id": "quiet-native",
   "metadata": {},
   "source": [
    "## Functions vs. Methods"
   ]
  },
  {
   "cell_type": "markdown",
   "id": "leading-tutorial",
   "metadata": {},
   "source": [
    "### Functions\n",
    "\n",
    "A **function** is a block of code to carry out a specific task, will contain its own scope and is called by name. All functions may contain zero(no) arguments or more than one arguments. On exit, a function can or can not return one or more values.\n",
    "\n",
    "```python\n",
    "def functionName( arg1, arg2,….):\n",
    "   # Function Body\n",
    "```\n",
    "------------------------------------------\n",
    "\n",
    "```python\n",
    "def sum(num1, num2):\n",
    "    return (num1 + num2)\n",
    "\n",
    ">>> sum(5,6)\n",
    "11\n",
    "```"
   ]
  },
  {
   "cell_type": "markdown",
   "id": "requested-posting",
   "metadata": {},
   "source": [
    "### Methods\n",
    "\n",
    "A **method** in python is somewhat similar to a function, except it is associated with object/classes. Methods in python are very similar to functions except for two major differences.\n",
    "\n",
    "- The method is implicitly used for an object for which it is called.\n",
    "- The method is accessible to data that is contained within the class.\n",
    "\n",
    "```python\n",
    "class ClassName:\n",
    "    def method_name():\n",
    "        # Method Body\n",
    "```\n",
    "----------------------------------------\n",
    "\n",
    "```python\n",
    "class Car():\n",
    "   def start(self):\n",
    "      print(\"Starting the car...\")\n",
    "\n",
    "car = Car()\n",
    "car.start()\n",
    "```"
   ]
  },
  {
   "cell_type": "markdown",
   "id": "acceptable-madagascar",
   "metadata": {},
   "source": [
    "## Key differences between method and function in python\n",
    "\n",
    "As we get the basic understanding of the function and method both, let's highlight the key differences between them :\n",
    "\n",
    "- Unlike a function, methods are called on an object. Like in our example above we call our method .i.e. “my_method” on the object “cat” whereas the function “sum” is called without any object. Also, because the method is called on an object, it can access that data within it.\n",
    "- Unlike method which can alter the object’s state, python function doesn’t do this and normally operates on it."
   ]
  },
  {
   "cell_type": "code",
   "execution_count": 4,
   "id": "distinct-focus",
   "metadata": {},
   "outputs": [
    {
     "name": "stdout",
     "output_type": "stream",
     "text": [
      "Constructor is called!\n",
      "Mohsen Ghodrat\n",
      "111\n"
     ]
    }
   ],
   "source": [
    "class Student():\n",
    "    def __init__(self, name, student_id):\n",
    "        print(\"Constructor is called!\")\n",
    "        print(name)\n",
    "        print(student_id)\n",
    "\n",
    "mohsen = Student(name=\"Mohsen Ghodrat\", student_id=111)"
   ]
  },
  {
   "cell_type": "markdown",
   "id": "virtual-anger",
   "metadata": {},
   "source": [
    "**Remeber:** You had previously faced with a constructor/distructor function:\n",
    "\n",
    "```python\n",
    ">>> with open(...) as ...\n",
    "```"
   ]
  },
  {
   "cell_type": "code",
   "execution_count": 84,
   "id": "invalid-serve",
   "metadata": {},
   "outputs": [],
   "source": [
    "class Student(): # student is now a new data-type (like string, integer, etc)\n",
    "    def __init__(self, name, student_id, courses = None): # function init is called constructor. Init is a method\n",
    "        print(\"Constructor is called!\")\n",
    "        print(name)\n",
    "        print(student_id)\n",
    "        \n",
    "        self.name = name # attribute\n",
    "        self.student_id = student_id\n",
    "        self.courses = courses\n",
    "        # it is better to define: <self.supervisor = None> here \n",
    "        print(self.calculate_gpa())\n",
    "        print(Student.calculate_gpa(self))\n",
    "        print(self) # self is exactly the object (here: student)!\n",
    "        \n",
    "    def calculate_gpa(self):\n",
    "        self.supervisor = \"Sahar Pirooz Azad\" \n",
    "        return sum(self.courses.values())/len(self.courses)"
   ]
  },
  {
   "cell_type": "code",
   "execution_count": 85,
   "id": "bored-three",
   "metadata": {},
   "outputs": [
    {
     "name": "stdout",
     "output_type": "stream",
     "text": [
      "Constructor is called!\n",
      "Mohsen Ghodrat\n",
      "111\n",
      "19.75\n",
      "19.75\n",
      "<__main__.Student object at 0x7f75b44d6c50>\n"
     ]
    }
   ],
   "source": [
    "mohsen = Student('Mohsen Ghodrat', 111, {'math': 20, 'Art': 19.5})"
   ]
  },
  {
   "cell_type": "code",
   "execution_count": 82,
   "id": "indoor-sound",
   "metadata": {},
   "outputs": [
    {
     "data": {
      "text/plain": [
       "('Mohsen Ghodrat', 111)"
      ]
     },
     "execution_count": 82,
     "metadata": {},
     "output_type": "execute_result"
    }
   ],
   "source": [
    "mohsen.name, mohsen.student_id"
   ]
  },
  {
   "cell_type": "code",
   "execution_count": 60,
   "id": "dated-springer",
   "metadata": {},
   "outputs": [
    {
     "ename": "AttributeError",
     "evalue": "'Student' object has no attribute 'supervisor'",
     "output_type": "error",
     "traceback": [
      "\u001b[0;31m---------------------------------------------------------------------------\u001b[0m",
      "\u001b[0;31mAttributeError\u001b[0m                            Traceback (most recent call last)",
      "\u001b[0;32m<ipython-input-60-0ec1468fdd74>\u001b[0m in \u001b[0;36m<module>\u001b[0;34m\u001b[0m\n\u001b[0;32m----> 1\u001b[0;31m \u001b[0mmohsen\u001b[0m\u001b[0;34m.\u001b[0m\u001b[0msupervisor\u001b[0m\u001b[0;34m\u001b[0m\u001b[0;34m\u001b[0m\u001b[0m\n\u001b[0m",
      "\u001b[0;31mAttributeError\u001b[0m: 'Student' object has no attribute 'supervisor'"
     ]
    }
   ],
   "source": [
    "mohsen.supervisor"
   ]
  },
  {
   "cell_type": "code",
   "execution_count": 61,
   "id": "afraid-memory",
   "metadata": {},
   "outputs": [
    {
     "data": {
      "text/plain": [
       "19.75"
      ]
     },
     "execution_count": 61,
     "metadata": {},
     "output_type": "execute_result"
    }
   ],
   "source": [
    "# syntactic sugar\n",
    "mohsen.calculate_gpa()\n",
    "# in practice: Student.calculate_gpa(mohsen,)"
   ]
  },
  {
   "cell_type": "code",
   "execution_count": 62,
   "id": "polished-cooper",
   "metadata": {},
   "outputs": [
    {
     "data": {
      "text/plain": [
       "'Sahar Pirooz Azad'"
      ]
     },
     "execution_count": 62,
     "metadata": {},
     "output_type": "execute_result"
    }
   ],
   "source": [
    "mohsen.supervisor"
   ]
  },
  {
   "cell_type": "code",
   "execution_count": 89,
   "id": "peaceful-marble",
   "metadata": {},
   "outputs": [
    {
     "data": {
      "text/plain": [
       "(float, method)"
      ]
     },
     "execution_count": 89,
     "metadata": {},
     "output_type": "execute_result"
    }
   ],
   "source": [
    "type(mohsen.calculate_gpa()), type(mohsen.calculate_gpa)"
   ]
  },
  {
   "cell_type": "markdown",
   "id": "fossil-retro",
   "metadata": {},
   "source": [
    "Before this, we hade different data-types such as integer, string, list, etc. Now, we've created a new data-type which is Student:"
   ]
  },
  {
   "cell_type": "code",
   "execution_count": null,
   "id": "floppy-component",
   "metadata": {},
   "outputs": [],
   "source": [
    "y = 2\n",
    "print(y.conjugate())\n",
    "\n",
    "x = 'ali'\n",
    "print(x.upper())\n",
    "\n",
    "mohsen = Student('Mohsen Ghodrat', 111, {'math': 20, 'Art': 19.5})\n",
    "mohsen.calculate_gpa()"
   ]
  },
  {
   "cell_type": "code",
   "execution_count": 1,
   "id": "engaging-equality",
   "metadata": {},
   "outputs": [
    {
     "data": {
      "text/plain": [
       "(type, type, type, type, type, type)"
      ]
     },
     "execution_count": 1,
     "metadata": {},
     "output_type": "execute_result"
    }
   ],
   "source": [
    "type(str), type(int), type(float), type(list), type(set), type(dict)"
   ]
  },
  {
   "cell_type": "code",
   "execution_count": 104,
   "id": "electric-threat",
   "metadata": {},
   "outputs": [
    {
     "data": {
      "text/plain": [
       "type"
      ]
     },
     "execution_count": 104,
     "metadata": {},
     "output_type": "execute_result"
    }
   ],
   "source": [
    "type(Student)"
   ]
  },
  {
   "cell_type": "code",
   "execution_count": 105,
   "id": "behind-independence",
   "metadata": {},
   "outputs": [
    {
     "data": {
      "text/plain": [
       "(str, int, float, list, set, dict)"
      ]
     },
     "execution_count": 105,
     "metadata": {},
     "output_type": "execute_result"
    }
   ],
   "source": [
    "type('a'), type(11), type(1.08), type([1, 0]), type({1, 1, 2}), type({1: 3}) "
   ]
  },
  {
   "cell_type": "code",
   "execution_count": 107,
   "id": "broad-opportunity",
   "metadata": {},
   "outputs": [
    {
     "data": {
      "text/plain": [
       "__main__.Student"
      ]
     },
     "execution_count": 107,
     "metadata": {},
     "output_type": "execute_result"
    }
   ],
   "source": [
    "type(mohsen)"
   ]
  },
  {
   "cell_type": "markdown",
   "id": "biological-declaration",
   "metadata": {},
   "source": [
    "So, function is also an object (but not data-type):"
   ]
  },
  {
   "cell_type": "code",
   "execution_count": 103,
   "id": "annoying-heart",
   "metadata": {},
   "outputs": [
    {
     "data": {
      "text/plain": [
       "function"
      ]
     },
     "execution_count": 103,
     "metadata": {},
     "output_type": "execute_result"
    }
   ],
   "source": [
    "def func(a, b):\n",
    "    return a + b\n",
    "type(func)"
   ]
  },
  {
   "cell_type": "markdown",
   "id": "sealed-aspect",
   "metadata": {},
   "source": [
    "## Another Example:"
   ]
  },
  {
   "cell_type": "code",
   "execution_count": 6,
   "id": "paperback-appeal",
   "metadata": {},
   "outputs": [],
   "source": [
    "class Tweet:\n",
    "    pass"
   ]
  },
  {
   "cell_type": "code",
   "execution_count": 7,
   "id": "virgin-worth",
   "metadata": {},
   "outputs": [],
   "source": [
    "a = Tweet()\n",
    "a.message = '140 character'"
   ]
  },
  {
   "cell_type": "markdown",
   "id": "south-promise",
   "metadata": {},
   "source": [
    "**Note:** If the class object is a *factory* that provides default behaviour, when we create the instance objects, we're getting ***concrete*** items that we *can* change, and any changes that we make are not then propagated back up to the factory: they stay with the instance and die with the instance."
   ]
  },
  {
   "cell_type": "code",
   "execution_count": 8,
   "id": "informal-offense",
   "metadata": {},
   "outputs": [
    {
     "ename": "AttributeError",
     "evalue": "type object 'Tweet' has no attribute 'message'",
     "output_type": "error",
     "traceback": [
      "\u001b[0;31m---------------------------------------------------------------------------\u001b[0m",
      "\u001b[0;31mAttributeError\u001b[0m                            Traceback (most recent call last)",
      "\u001b[0;32m<ipython-input-8-f287a1de21b0>\u001b[0m in \u001b[0;36m<module>\u001b[0;34m\u001b[0m\n\u001b[0;32m----> 1\u001b[0;31m \u001b[0mTweet\u001b[0m\u001b[0;34m.\u001b[0m\u001b[0mmessage\u001b[0m\u001b[0;34m\u001b[0m\u001b[0;34m\u001b[0m\u001b[0m\n\u001b[0m",
      "\u001b[0;31mAttributeError\u001b[0m: type object 'Tweet' has no attribute 'message'"
     ]
    }
   ],
   "source": [
    "Tweet.message"
   ]
  },
  {
   "cell_type": "markdown",
   "id": "regional-sensitivity",
   "metadata": {},
   "source": [
    "dunder `init` (`__init__`) method is best known as the initializer method although most people call it the ***constructor*** method. It's called automatically whenever an instance is created! Her, we've overridden the dunder `init` method:"
   ]
  },
  {
   "cell_type": "code",
   "execution_count": 13,
   "id": "absent-walter",
   "metadata": {},
   "outputs": [],
   "source": [
    "class Tweet:\n",
    "    def __init__():\n",
    "        print('Hi')"
   ]
  },
  {
   "cell_type": "code",
   "execution_count": 14,
   "id": "unauthorized-sellers",
   "metadata": {},
   "outputs": [
    {
     "ename": "TypeError",
     "evalue": "__init__() takes 0 positional arguments but 1 was given",
     "output_type": "error",
     "traceback": [
      "\u001b[0;31m---------------------------------------------------------------------------\u001b[0m",
      "\u001b[0;31mTypeError\u001b[0m                                 Traceback (most recent call last)",
      "\u001b[0;32m<ipython-input-14-40a51418e329>\u001b[0m in \u001b[0;36m<module>\u001b[0;34m\u001b[0m\n\u001b[0;32m----> 1\u001b[0;31m \u001b[0ma\u001b[0m \u001b[0;34m=\u001b[0m \u001b[0mTweet\u001b[0m\u001b[0;34m(\u001b[0m\u001b[0;34m)\u001b[0m\u001b[0;34m\u001b[0m\u001b[0;34m\u001b[0m\u001b[0m\n\u001b[0m",
      "\u001b[0;31mTypeError\u001b[0m: __init__() takes 0 positional arguments but 1 was given"
     ]
    }
   ],
   "source": [
    "a = Tweet()"
   ]
  },
  {
   "cell_type": "markdown",
   "id": "special-harvey",
   "metadata": {},
   "source": [
    "**Reason:** Whenever the class object is called, the instance is always passed as the first argument but the `init` method we defined takes no arguments!"
   ]
  },
  {
   "cell_type": "code",
   "execution_count": 15,
   "id": "tough-preparation",
   "metadata": {},
   "outputs": [],
   "source": [
    "class Tweet:\n",
    "    def __init__(self):\n",
    "        print('Hi')"
   ]
  },
  {
   "cell_type": "code",
   "execution_count": 18,
   "id": "elect-saver",
   "metadata": {},
   "outputs": [
    {
     "name": "stdout",
     "output_type": "stream",
     "text": [
      "Hi\n"
     ]
    }
   ],
   "source": [
    "a = Tweet()"
   ]
  },
  {
   "cell_type": "markdown",
   "id": "electoral-medline",
   "metadata": {},
   "source": [
    "Whenever you see the word `self` in a class definition, `self` always refers to the particular instance!"
   ]
  },
  {
   "cell_type": "code",
   "execution_count": 7,
   "id": "under-viewer",
   "metadata": {},
   "outputs": [],
   "source": [
    "class Tweet:\n",
    "    def __init__(self, message):\n",
    "        print('Hi')\n",
    "        self.x = message"
   ]
  },
  {
   "cell_type": "code",
   "execution_count": 8,
   "id": "periodic-legislature",
   "metadata": {},
   "outputs": [
    {
     "name": "stdout",
     "output_type": "stream",
     "text": [
      "Hi\n"
     ]
    }
   ],
   "source": [
    "a = Tweet('Something here')"
   ]
  },
  {
   "cell_type": "code",
   "execution_count": 9,
   "id": "economic-therapy",
   "metadata": {},
   "outputs": [
    {
     "data": {
      "text/plain": [
       "'Something here'"
      ]
     },
     "execution_count": 9,
     "metadata": {},
     "output_type": "execute_result"
    }
   ],
   "source": [
    "a.x"
   ]
  },
  {
   "cell_type": "code",
   "execution_count": 10,
   "id": "adaptive-correspondence",
   "metadata": {},
   "outputs": [
    {
     "name": "stdout",
     "output_type": "stream",
     "text": [
      "Hi\n"
     ]
    }
   ],
   "source": [
    "b = Tweet(\"I'm another instnace of Tweet\")"
   ]
  },
  {
   "cell_type": "code",
   "execution_count": 11,
   "id": "athletic-multiple",
   "metadata": {},
   "outputs": [
    {
     "data": {
      "text/plain": [
       "\"I'm another instnace of Tweet\""
      ]
     },
     "execution_count": 11,
     "metadata": {},
     "output_type": "execute_result"
    }
   ],
   "source": [
    "b.x"
   ]
  },
  {
   "cell_type": "code",
   "execution_count": 27,
   "id": "respiratory-bahrain",
   "metadata": {},
   "outputs": [],
   "source": [
    "class Tweet:\n",
    "    def __init__(self, message):\n",
    "        self.message = message\n",
    "    def print_tweet():\n",
    "        print('Hi')"
   ]
  },
  {
   "cell_type": "code",
   "execution_count": 28,
   "id": "legislative-compiler",
   "metadata": {},
   "outputs": [],
   "source": [
    "t = Tweet('An instance of Tweet')"
   ]
  },
  {
   "cell_type": "code",
   "execution_count": 29,
   "id": "loaded-nickel",
   "metadata": {},
   "outputs": [
    {
     "ename": "TypeError",
     "evalue": "print_tweet() takes 0 positional arguments but 1 was given",
     "output_type": "error",
     "traceback": [
      "\u001b[0;31m---------------------------------------------------------------------------\u001b[0m",
      "\u001b[0;31mTypeError\u001b[0m                                 Traceback (most recent call last)",
      "\u001b[0;32m<ipython-input-29-1f4f47e8a448>\u001b[0m in \u001b[0;36m<module>\u001b[0;34m\u001b[0m\n\u001b[0;32m----> 1\u001b[0;31m \u001b[0mt\u001b[0m\u001b[0;34m.\u001b[0m\u001b[0mprint_tweet\u001b[0m\u001b[0;34m(\u001b[0m\u001b[0;34m)\u001b[0m\u001b[0;34m\u001b[0m\u001b[0;34m\u001b[0m\u001b[0m\n\u001b[0m",
      "\u001b[0;31mTypeError\u001b[0m: print_tweet() takes 0 positional arguments but 1 was given"
     ]
    }
   ],
   "source": [
    "t.print_tweet()"
   ]
  },
  {
   "cell_type": "code",
   "execution_count": 33,
   "id": "coordinated-testimony",
   "metadata": {},
   "outputs": [
    {
     "name": "stdout",
     "output_type": "stream",
     "text": [
      "Hi\n"
     ]
    }
   ],
   "source": [
    "Tweet.print_tweet()"
   ]
  },
  {
   "cell_type": "markdown",
   "id": "stuffed-township",
   "metadata": {},
   "source": [
    "If we do't include `self` as the first parameter in any method definitions in our class, then those methods will only be available through the class namespace! They won't have access to any instance attributes!"
   ]
  },
  {
   "cell_type": "code",
   "execution_count": 24,
   "id": "front-wiring",
   "metadata": {},
   "outputs": [],
   "source": [
    "class Tweet:\n",
    "    def __init__(self, message):\n",
    "        self.message = message\n",
    "        self.name = 'name'\n",
    "    def print_tweet(self):\n",
    "        print(self.message)"
   ]
  },
  {
   "cell_type": "code",
   "execution_count": 25,
   "id": "affecting-association",
   "metadata": {},
   "outputs": [],
   "source": [
    "t = Tweet('An instance of Tweet')"
   ]
  },
  {
   "cell_type": "code",
   "execution_count": 26,
   "id": "swiss-rachel",
   "metadata": {},
   "outputs": [
    {
     "name": "stdout",
     "output_type": "stream",
     "text": [
      "An instance of Tweet\n",
      "An instance of Tweet\n",
      "name\n"
     ]
    }
   ],
   "source": [
    "t.print_tweet()\n",
    "print(t.message)\n",
    "print(t.name)"
   ]
  },
  {
   "cell_type": "code",
   "execution_count": 318,
   "id": "oriental-barrel",
   "metadata": {},
   "outputs": [],
   "source": [
    "a = Tweet(1)\n",
    "b = Tweet(2)"
   ]
  },
  {
   "cell_type": "code",
   "execution_count": 296,
   "id": "eastern-sharp",
   "metadata": {
    "scrolled": true
   },
   "outputs": [
    {
     "name": "stdout",
     "output_type": "stream",
     "text": [
      "1\n"
     ]
    }
   ],
   "source": [
    "a.print_tweet()"
   ]
  },
  {
   "cell_type": "code",
   "execution_count": 298,
   "id": "proof-unemployment",
   "metadata": {},
   "outputs": [
    {
     "name": "stdout",
     "output_type": "stream",
     "text": [
      "2\n"
     ]
    }
   ],
   "source": [
    "b.print_tweet()"
   ]
  },
  {
   "cell_type": "markdown",
   "id": "compact-scientist",
   "metadata": {},
   "source": [
    "Now, let's try to call the print_tweet method but in the class objects namespace! When we call this method this way it tells:"
   ]
  },
  {
   "cell_type": "code",
   "execution_count": 88,
   "id": "loving-there",
   "metadata": {
    "scrolled": false
   },
   "outputs": [
    {
     "ename": "TypeError",
     "evalue": "print_tweet() missing 1 required positional argument: 'self'",
     "output_type": "error",
     "traceback": [
      "\u001b[0;31m---------------------------------------------------------------------------\u001b[0m",
      "\u001b[0;31mTypeError\u001b[0m                                 Traceback (most recent call last)",
      "\u001b[0;32m<ipython-input-88-f4b91c756da6>\u001b[0m in \u001b[0;36m<module>\u001b[0;34m\u001b[0m\n\u001b[0;32m----> 1\u001b[0;31m \u001b[0mTweet\u001b[0m\u001b[0;34m.\u001b[0m\u001b[0mprint_tweet\u001b[0m\u001b[0;34m(\u001b[0m\u001b[0;34m)\u001b[0m\u001b[0;34m\u001b[0m\u001b[0;34m\u001b[0m\u001b[0m\n\u001b[0m",
      "\u001b[0;31mTypeError\u001b[0m: print_tweet() missing 1 required positional argument: 'self'"
     ]
    }
   ],
   "source": [
    "Tweet.print_tweet()"
   ]
  },
  {
   "cell_type": "code",
   "execution_count": 92,
   "id": "vietnamese-tanzania",
   "metadata": {},
   "outputs": [
    {
     "name": "stdout",
     "output_type": "stream",
     "text": [
      "1\n"
     ]
    }
   ],
   "source": [
    "Tweet.print_tweet(a)"
   ]
  },
  {
   "cell_type": "code",
   "execution_count": 90,
   "id": "overall-factory",
   "metadata": {},
   "outputs": [
    {
     "name": "stdout",
     "output_type": "stream",
     "text": [
      "2\n"
     ]
    }
   ],
   "source": [
    "Tweet.print_tweet(b)"
   ]
  },
  {
   "cell_type": "code",
   "execution_count": null,
   "id": "soviet-village",
   "metadata": {},
   "outputs": [],
   "source": []
  },
  {
   "cell_type": "code",
   "execution_count": 28,
   "id": "hungry-simpson",
   "metadata": {},
   "outputs": [],
   "source": [
    "class Tweet:\n",
    "    def __init__(self):\n",
    "        self.help = 'No'\n",
    "    def print_tweet(self):\n",
    "        print('Hi')\n",
    "        print(self)\n",
    "    def print_bye(self):\n",
    "        print('bye')\n",
    "        print(self)"
   ]
  },
  {
   "cell_type": "code",
   "execution_count": 41,
   "id": "political-velvet",
   "metadata": {},
   "outputs": [
    {
     "name": "stdout",
     "output_type": "stream",
     "text": [
      "Hi\n",
      "<__main__.Tweet object at 0x7f75b454bf90>\n",
      "bye\n",
      "<__main__.Tweet object at 0x7f75b454bf90>\n",
      "Hi\n",
      "<__main__.Tweet object at 0x7f75b5633f90>\n"
     ]
    }
   ],
   "source": [
    "# create object by calling class\n",
    "a = Tweet()\n",
    "z = a.print_tweet()\n",
    "a.print_bye()\n",
    "z = Tweet().print_tweet()"
   ]
  },
  {
   "cell_type": "code",
   "execution_count": 30,
   "id": "developing-berry",
   "metadata": {},
   "outputs": [
    {
     "data": {
      "text/plain": [
       "<__main__.Tweet at 0x7f75b5633710>"
      ]
     },
     "execution_count": 30,
     "metadata": {},
     "output_type": "execute_result"
    }
   ],
   "source": [
    "a"
   ]
  },
  {
   "cell_type": "code",
   "execution_count": 44,
   "id": "public-space",
   "metadata": {},
   "outputs": [
    {
     "name": "stdout",
     "output_type": "stream",
     "text": [
      "Hi\n",
      "aaaa\n",
      "Hi\n",
      "{1: 1, 'a': [1, 2, 3]}\n",
      "Hi\n",
      "<__main__.Tweet object at 0x7f75b454bf90>\n",
      "Hi\n",
      "{'a': 1, 'b': 10}\n"
     ]
    }
   ],
   "source": [
    "# create object by calling method (like pd.FrameWork(name))\n",
    "z = Tweet.print_tweet('aaaa') \n",
    "# sytactic sugar won't work here!\n",
    "# 'aaaa'.print_tweet()\n",
    "z = Tweet.print_tweet({1:1, 'a':[1, 2, 3]})\n",
    "\n",
    "z = Tweet.print_tweet(a)\n",
    "\n",
    "z = Tweet.print_tweet({\"a\":1, \"b\":10})"
   ]
  },
  {
   "cell_type": "code",
   "execution_count": 370,
   "id": "grateful-comfort",
   "metadata": {},
   "outputs": [
    {
     "ename": "AttributeError",
     "evalue": "type object 'Tweet' has no attribute 'help'",
     "output_type": "error",
     "traceback": [
      "\u001b[0;31m---------------------------------------------------------------------------\u001b[0m",
      "\u001b[0;31mAttributeError\u001b[0m                            Traceback (most recent call last)",
      "\u001b[0;32m<ipython-input-370-b3ad0537ccd1>\u001b[0m in \u001b[0;36m<module>\u001b[0;34m\u001b[0m\n\u001b[0;32m----> 1\u001b[0;31m \u001b[0mz\u001b[0m \u001b[0;34m=\u001b[0m \u001b[0mTweet\u001b[0m\u001b[0;34m.\u001b[0m\u001b[0mhelp\u001b[0m\u001b[0;34m\u001b[0m\u001b[0;34m\u001b[0m\u001b[0m\n\u001b[0m",
      "\u001b[0;31mAttributeError\u001b[0m: type object 'Tweet' has no attribute 'help'"
     ]
    }
   ],
   "source": [
    "z = Tweet.help"
   ]
  },
  {
   "cell_type": "code",
   "execution_count": 371,
   "id": "minor-raleigh",
   "metadata": {},
   "outputs": [
    {
     "data": {
      "text/plain": [
       "'No'"
      ]
     },
     "execution_count": 371,
     "metadata": {},
     "output_type": "execute_result"
    }
   ],
   "source": [
    "a.help"
   ]
  },
  {
   "cell_type": "markdown",
   "id": "progressive-threshold",
   "metadata": {},
   "source": [
    "**Summary:**\n",
    "\n",
    "Static method `method()` vs object method `method(self)` "
   ]
  },
  {
   "cell_type": "code",
   "execution_count": null,
   "id": "apparent-textbook",
   "metadata": {},
   "outputs": [],
   "source": [
    "class Tweet:\n",
    "    def __init__(self):\n",
    "        self.help = 'No' # Attribute \"help\" is defined for instances\n",
    "    def print_tweet(self): # Method \"print_tweet\" is defined for instances\n",
    "        print('Hi')\n",
    "    def del_tweet(): # Method \"del_tweet\" is defined for class objects namespace\n",
    "        print('del')    "
   ]
  },
  {
   "cell_type": "code",
   "execution_count": null,
   "id": "hispanic-upgrade",
   "metadata": {},
   "outputs": [],
   "source": []
  },
  {
   "cell_type": "markdown",
   "id": "sticky-class",
   "metadata": {},
   "source": [
    "#### Using OOP to interprete pandas:"
   ]
  },
  {
   "cell_type": "code",
   "execution_count": 24,
   "id": "atlantic-majority",
   "metadata": {},
   "outputs": [],
   "source": [
    "class pd:\n",
    "    def __init__(self):\n",
    "        pass\n",
    "    \n",
    "    def DataFrame(self):\n",
    "        for i in range(len(self.keys())):\n",
    "            print('    ', list(self.keys())[i], end='')\n",
    "        print('\\n-----------------------')\n",
    "        for ind, item in enumerate(list(self.values())[0]):\n",
    "            print(ind, '  ',list(self.values())[0][ind],'         ', list(self.values())[1][ind])\n",
    "        print('\\n-----------------------')\n",
    "        return subpd(self) # create a new object \n",
    "\n",
    "class subpd:\n",
    "    def __init__(self, dictionary):\n",
    "        self.size = len(dictionary.keys()) * len(list(dictionary.values())[0])"
   ]
  },
  {
   "cell_type": "code",
   "execution_count": 25,
   "id": "proud-killing",
   "metadata": {},
   "outputs": [
    {
     "data": {
      "text/plain": [
       "{'cars': ['BMW', 'Volvo', 'Ford', 'Benz'], 'passings': [3, 7, 2, 5]}"
      ]
     },
     "execution_count": 25,
     "metadata": {},
     "output_type": "execute_result"
    }
   ],
   "source": [
    "mydataset = {\n",
    "  'cars': [\"BMW\", \"Volvo\", \"Ford\", \"Benz\"],\n",
    "  'passings': [3, 7, 2, 5]\n",
    "}\n",
    "mydataset"
   ]
  },
  {
   "cell_type": "code",
   "execution_count": 26,
   "id": "charged-evidence",
   "metadata": {},
   "outputs": [
    {
     "name": "stdout",
     "output_type": "stream",
     "text": [
      "     cars     passings\n",
      "-----------------------\n",
      "0    BMW           3\n",
      "1    Volvo           7\n",
      "2    Ford           2\n",
      "3    Benz           5\n",
      "\n",
      "-----------------------\n"
     ]
    }
   ],
   "source": [
    "myvar = pd.DataFrame(mydataset)"
   ]
  },
  {
   "cell_type": "code",
   "execution_count": 491,
   "id": "mechanical-traveler",
   "metadata": {},
   "outputs": [
    {
     "data": {
      "text/plain": [
       "__main__.subpd"
      ]
     },
     "execution_count": 491,
     "metadata": {},
     "output_type": "execute_result"
    }
   ],
   "source": [
    "type(myvar)"
   ]
  },
  {
   "cell_type": "code",
   "execution_count": 492,
   "id": "hearing-merchant",
   "metadata": {},
   "outputs": [
    {
     "data": {
      "text/plain": [
       "8"
      ]
     },
     "execution_count": 492,
     "metadata": {},
     "output_type": "execute_result"
    }
   ],
   "source": [
    "myvar.size"
   ]
  },
  {
   "cell_type": "markdown",
   "id": "successful-bench",
   "metadata": {},
   "source": [
    "We can simply define a function \"DataFrame\" and call it from \"pd\" module. Look at `test.py` and `my_panda.py` files."
   ]
  },
  {
   "cell_type": "code",
   "execution_count": null,
   "id": "binary-oxford",
   "metadata": {},
   "outputs": [],
   "source": []
  }
 ],
 "metadata": {
  "kernelspec": {
   "display_name": "Python 3",
   "language": "python",
   "name": "python3"
  },
  "language_info": {
   "codemirror_mode": {
    "name": "ipython",
    "version": 3
   },
   "file_extension": ".py",
   "mimetype": "text/x-python",
   "name": "python",
   "nbconvert_exporter": "python",
   "pygments_lexer": "ipython3",
   "version": "3.7.9"
  }
 },
 "nbformat": 4,
 "nbformat_minor": 5
}
