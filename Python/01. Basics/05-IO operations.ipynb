{
 "cells": [
  {
   "cell_type": "markdown",
   "id": "partial-norwegian",
   "metadata": {},
   "source": [
    "# 05-IO operations\n",
    "\n",
    "<a id='Table_of_Contents'></a>\n",
    "## Table of Contents:\n",
    "\n",
    "* [Table of Contents](#Table_of_Contents)\n",
    "* [Simple Text File](#Simple_Text_File)\n",
    "    - [Read Content](#Read_Content)\n",
    "    - [Read Lines](#Read_Lines)\n",
    "    - [Close File](#Close_File)\n",
    "    - [```with``` statement](#with_statement) \n",
    "    - [Read Line by Line](#Read_Line_by_Line)\n",
    "    - [Write File](#Write_File)\n",
    "    - [Overwrite](#Overwrite)\n",
    "    - [Write if not exists](#Write_if_not_exists)\n",
    "    - [Append](#Append)\n",
    "- [Binary File](#Binary_File)"
   ]
  },
  {
   "cell_type": "code",
   "execution_count": 2,
   "id": "respected-queen",
   "metadata": {},
   "outputs": [
    {
     "name": "stdout",
     "output_type": "stream",
     "text": [
      "Overwriting myfile.txt\n"
     ]
    }
   ],
   "source": [
    "%%writefile myfile.txt\n",
    "this is line 1\n",
    "this is line 2\n",
    "this is line 3\n",
    "this is line 4\n",
    "this is line 5\n",
    "this is line 6"
   ]
  },
  {
   "cell_type": "markdown",
   "id": "passing-yorkshire",
   "metadata": {},
   "source": [
    "To avoid overwritten use:\n",
    "\n",
    "%%writefile -a myfile.txt"
   ]
  },
  {
   "cell_type": "markdown",
   "id": "associate-action",
   "metadata": {},
   "source": [
    "<a id='Simple_Text_File'></a>\n",
    "## Simple Text File"
   ]
  },
  {
   "cell_type": "markdown",
   "id": "offensive-still",
   "metadata": {},
   "source": [
    "<a id='Read_Content'></a>\n",
    "### Read Content"
   ]
  },
  {
   "cell_type": "code",
   "execution_count": 6,
   "id": "ready-commercial",
   "metadata": {},
   "outputs": [
    {
     "data": {
      "text/plain": [
       "'/home/mgh/Python'"
      ]
     },
     "execution_count": 6,
     "metadata": {},
     "output_type": "execute_result"
    }
   ],
   "source": [
    "pwd"
   ]
  },
  {
   "cell_type": "code",
   "execution_count": 3,
   "id": "average-artist",
   "metadata": {},
   "outputs": [],
   "source": [
    "# relative path:\n",
    "f = open(\"myfile.txt\")"
   ]
  },
  {
   "cell_type": "markdown",
   "id": "billion-ultimate",
   "metadata": {},
   "source": [
    "Other alternative ways of using relative path:"
   ]
  },
  {
   "cell_type": "code",
   "execution_count": 4,
   "id": "sought-charm",
   "metadata": {},
   "outputs": [
    {
     "ename": "FileNotFoundError",
     "evalue": "[Errno 2] No such file or directory: '../../../myfile.txt'",
     "output_type": "error",
     "traceback": [
      "\u001b[0;31m---------------------------------------------------------------------------\u001b[0m",
      "\u001b[0;31mFileNotFoundError\u001b[0m                         Traceback (most recent call last)",
      "\u001b[0;32m<ipython-input-4-1348b482b0dc>\u001b[0m in \u001b[0;36m<module>\u001b[0;34m\u001b[0m\n\u001b[1;32m      1\u001b[0m \u001b[0mf\u001b[0m \u001b[0;34m=\u001b[0m \u001b[0mopen\u001b[0m\u001b[0;34m(\u001b[0m\u001b[0;34m\"./myfile.txt\"\u001b[0m\u001b[0;34m)\u001b[0m\u001b[0;34m\u001b[0m\u001b[0;34m\u001b[0m\u001b[0m\n\u001b[0;32m----> 2\u001b[0;31m \u001b[0mf\u001b[0m \u001b[0;34m=\u001b[0m \u001b[0mopen\u001b[0m\u001b[0;34m(\u001b[0m\u001b[0;34m\"../../../myfile.txt\"\u001b[0m\u001b[0;34m)\u001b[0m\u001b[0;34m\u001b[0m\u001b[0;34m\u001b[0m\u001b[0m\n\u001b[0m",
      "\u001b[0;31mFileNotFoundError\u001b[0m: [Errno 2] No such file or directory: '../../../myfile.txt'"
     ]
    }
   ],
   "source": [
    "f = open(\"./myfile.txt\")\n",
    "f = open(\"../../../myfile.txt\")"
   ]
  },
  {
   "cell_type": "code",
   "execution_count": null,
   "id": "asian-device",
   "metadata": {},
   "outputs": [],
   "source": [
    "# full path: not recommended\n",
    "f = open(\"/mnt/c/Users/ghodr/OneDrive/Desktop/myfile.txt\")"
   ]
  },
  {
   "cell_type": "markdown",
   "id": "pregnant-accent",
   "metadata": {},
   "source": [
    "Why not using full path?\n",
    "\n",
    "- using full path is not safe!!\n",
    "- we normally write code to distribute it to others! so the path should be compatible with their directories!\n",
    "\n",
    "f is called *file handler*. It is an object."
   ]
  },
  {
   "cell_type": "code",
   "execution_count": null,
   "id": "alternate-cooperative",
   "metadata": {},
   "outputs": [],
   "source": [
    "f = open(\"myfile.txt\")"
   ]
  },
  {
   "cell_type": "code",
   "execution_count": null,
   "id": "advised-estate",
   "metadata": {},
   "outputs": [],
   "source": [
    "f.read()"
   ]
  },
  {
   "cell_type": "code",
   "execution_count": null,
   "id": "attached-religious",
   "metadata": {},
   "outputs": [],
   "source": [
    "f.read()"
   ]
  },
  {
   "cell_type": "markdown",
   "id": "cathedral-yeast",
   "metadata": {},
   "source": [
    "Why the second time reading of f, i.e., f.read(), shows empty?\n",
    "\n",
    "After reading f, the cursor places at the end of the text document. Now, how can we bring the cursor back? or in general at some specific place? Here is the solution:"
   ]
  },
  {
   "cell_type": "code",
   "execution_count": null,
   "id": "elementary-typing",
   "metadata": {},
   "outputs": [],
   "source": [
    "# move the cursor with seek\n",
    "f.seek(0)"
   ]
  },
  {
   "cell_type": "code",
   "execution_count": null,
   "id": "liable-disaster",
   "metadata": {},
   "outputs": [],
   "source": [
    "print(f.read())"
   ]
  },
  {
   "cell_type": "code",
   "execution_count": null,
   "id": "sustainable-apollo",
   "metadata": {},
   "outputs": [],
   "source": [
    "# move the cursor\n",
    "f.seek(3)"
   ]
  },
  {
   "cell_type": "code",
   "execution_count": null,
   "id": "transsexual-robertson",
   "metadata": {},
   "outputs": [],
   "source": [
    "print(f.read())"
   ]
  },
  {
   "cell_type": "markdown",
   "id": "cleared-latin",
   "metadata": {},
   "source": [
    "To avoid the cursor issues mentioned above, we can first write the content of f into a variable, and then call this variable as many times as we wish:"
   ]
  },
  {
   "cell_type": "code",
   "execution_count": null,
   "id": "distant-freedom",
   "metadata": {},
   "outputs": [],
   "source": [
    "f.seek(0)\n",
    "content = f.read()"
   ]
  },
  {
   "cell_type": "code",
   "execution_count": null,
   "id": "stunning-philosophy",
   "metadata": {},
   "outputs": [],
   "source": [
    "content"
   ]
  },
  {
   "cell_type": "code",
   "execution_count": null,
   "id": "smaller-steal",
   "metadata": {},
   "outputs": [],
   "source": [
    "content"
   ]
  },
  {
   "cell_type": "markdown",
   "id": "binding-legislature",
   "metadata": {},
   "source": [
    "<a id='Read_Lines'></a>\n",
    "### Read Lines"
   ]
  },
  {
   "cell_type": "code",
   "execution_count": 7,
   "id": "future-frost",
   "metadata": {},
   "outputs": [],
   "source": [
    "f = open(\"myfile.txt\")"
   ]
  },
  {
   "cell_type": "code",
   "execution_count": 8,
   "id": "isolated-commander",
   "metadata": {},
   "outputs": [
    {
     "data": {
      "text/plain": [
       "'this is line 1\\n'"
      ]
     },
     "execution_count": 8,
     "metadata": {},
     "output_type": "execute_result"
    }
   ],
   "source": [
    "f.readline()"
   ]
  },
  {
   "cell_type": "code",
   "execution_count": 9,
   "id": "answering-genius",
   "metadata": {},
   "outputs": [
    {
     "data": {
      "text/plain": [
       "['this is line 2\\n',\n",
       " 'this is line 3\\n',\n",
       " 'this is line 4\\n',\n",
       " 'this is line 5\\n',\n",
       " 'this is line 6\\n']"
      ]
     },
     "execution_count": 9,
     "metadata": {},
     "output_type": "execute_result"
    }
   ],
   "source": [
    "f.readlines()\n",
    "# the output is a list"
   ]
  },
  {
   "cell_type": "code",
   "execution_count": null,
   "id": "diverse-learning",
   "metadata": {},
   "outputs": [],
   "source": [
    "f.seek(0)\n",
    "for line in f.readlines():\n",
    "    print(line.strip())"
   ]
  },
  {
   "cell_type": "markdown",
   "id": "emotional-denial",
   "metadata": {},
   "source": [
    "<a id='Close_File'></a>\n",
    "### Close File \n",
    "\n",
    "for safety! Maybe you want to delete it somewhere else! and being open, would not let you delete it!  "
   ]
  },
  {
   "cell_type": "code",
   "execution_count": null,
   "id": "incorrect-bridges",
   "metadata": {},
   "outputs": [],
   "source": [
    "f.close()"
   ]
  },
  {
   "cell_type": "code",
   "execution_count": null,
   "id": "outdoor-destruction",
   "metadata": {},
   "outputs": [],
   "source": [
    "f.read()"
   ]
  },
  {
   "cell_type": "markdown",
   "id": "turkish-assessment",
   "metadata": {},
   "source": [
    "<a id='with_statement'></a>\n",
    "### ```with``` statement "
   ]
  },
  {
   "cell_type": "markdown",
   "id": "sharing-independence",
   "metadata": {},
   "source": [
    "When you’re manipulating a file, there are two ways that you can use to ensure that a file is closed properly, even when encountering an error. The first way is to close the file manualy.\n",
    "\n",
    "The second way is by ```with``` statement that closes the file automatically."
   ]
  },
  {
   "cell_type": "code",
   "execution_count": 19,
   "id": "sharing-fishing",
   "metadata": {},
   "outputs": [
    {
     "name": "stdout",
     "output_type": "stream",
     "text": [
      "This is new line 1\n",
      "this is new line 2\n",
      "this is new line 3\n",
      "\n"
     ]
    }
   ],
   "source": [
    "with open('myfile.txt') as f:\n",
    "    print(f.read())\n",
    "    \n",
    "# here f is closed! so automatically flushes!"
   ]
  },
  {
   "cell_type": "markdown",
   "id": "continued-insider",
   "metadata": {},
   "source": [
    "equal to:"
   ]
  },
  {
   "cell_type": "code",
   "execution_count": null,
   "id": "alpha-rabbit",
   "metadata": {},
   "outputs": [],
   "source": [
    "f = open(\"myfile.txt\")\n",
    "print(f.read())\n",
    "f.close()"
   ]
  },
  {
   "cell_type": "code",
   "execution_count": null,
   "id": "healthy-gauge",
   "metadata": {},
   "outputs": [],
   "source": [
    "with open(\"myfile.txt\") as f:\n",
    "    content = f.read()"
   ]
  },
  {
   "cell_type": "code",
   "execution_count": null,
   "id": "compound-lloyd",
   "metadata": {},
   "outputs": [],
   "source": [
    "content"
   ]
  },
  {
   "cell_type": "markdown",
   "id": "controlling-crowd",
   "metadata": {},
   "source": [
    "The above is *not* a good method for large files!\n",
    "\n",
    "So what's the solution? see below:"
   ]
  },
  {
   "cell_type": "code",
   "execution_count": 11,
   "id": "annoying-heritage",
   "metadata": {},
   "outputs": [
    {
     "name": "stdout",
     "output_type": "stream",
     "text": [
      "this is line 1\n",
      "\n",
      "this is line 2\n",
      "\n",
      "this is line 3\n",
      "\n",
      "this is line 4\n",
      "\n",
      "this is line 5\n",
      "\n",
      "this is line 6\n",
      "\n"
     ]
    }
   ],
   "source": [
    "myfile = open('myfile.txt')\n",
    "\n",
    "for line in myfile:\n",
    "    print(line)"
   ]
  },
  {
   "cell_type": "markdown",
   "id": "injured-voluntary",
   "metadata": {},
   "source": [
    "The above is also not best way if we have a big file which is written in 1 line!\n",
    "\n",
    "safest way: read chunk chunk!"
   ]
  },
  {
   "cell_type": "code",
   "execution_count": 12,
   "id": "fourth-trauma",
   "metadata": {},
   "outputs": [],
   "source": [
    "f.read?"
   ]
  },
  {
   "cell_type": "markdown",
   "id": "welcome-consultancy",
   "metadata": {},
   "source": [
    "<a id='Read_Line_by_Line'></a>\n",
    "### Read Line by Line"
   ]
  },
  {
   "cell_type": "markdown",
   "id": "judicial-binding",
   "metadata": {},
   "source": [
    "An **iterable** object is returned by ```open()``` function while opening a file. This final way of reading in a file **line-by-line** includes iterating over a file object in a for loop. Doing this we are taking advantage of a built-in Python function that allows us to iterate over the file object implicitly using a for loop in a combination with using the iterable object. This approach takes fewer lines of code, which is always the best practice worthy of following."
   ]
  },
  {
   "cell_type": "code",
   "execution_count": null,
   "id": "lasting-tourist",
   "metadata": {},
   "outputs": [],
   "source": [
    "line = True\n",
    "with open(\"myfile.txt\") as f:\n",
    "    while line: \n",
    "        line = f.readline()\n",
    "        print(line)"
   ]
  },
  {
   "cell_type": "markdown",
   "id": "engaging-huntington",
   "metadata": {},
   "source": [
    "**Note**: whatever is not (0, None, False, ' ') is True in computer!\n",
    "like *line* in above code!"
   ]
  },
  {
   "cell_type": "code",
   "execution_count": null,
   "id": "behavioral-spending",
   "metadata": {},
   "outputs": [],
   "source": [
    "if 0:\n",
    "    print(\"Hello World 1\")\n",
    "if None:\n",
    "    print(\"Hello World 2\")\n",
    "if False:\n",
    "    print(\"Hello World 3\")\n",
    "if '':\n",
    "    print(\"Hello World 4\")\n",
    "if 1:\n",
    "    print(\"Hello World 5\")\n",
    "if 'a':\n",
    "    print(\"Hello World 6\")\n",
    "if True:\n",
    "    print(\"Hello World 7\")"
   ]
  },
  {
   "cell_type": "markdown",
   "id": "accompanied-envelope",
   "metadata": {},
   "source": [
    "<a id='Write_File'></a>\n",
    "### Write File"
   ]
  },
  {
   "cell_type": "markdown",
   "id": "brilliant-cloud",
   "metadata": {},
   "source": [
    "<a id='Overwrite'></a>\n",
    "### Overwrite"
   ]
  },
  {
   "cell_type": "markdown",
   "id": "found-aggregate",
   "metadata": {},
   "source": [
    "**Hint**: After writing function name, press ```shift```+```tab``` to see the options."
   ]
  },
  {
   "cell_type": "code",
   "execution_count": 14,
   "id": "optimum-yugoslavia",
   "metadata": {},
   "outputs": [],
   "source": [
    "# whenever you opoen in \"w\" mode, it will clear old data and overwrite it!\n",
    "myfile_w = open(\"myfile.txt\", mode=\"w\") #keyword(named) arguement \n",
    "myfile_w = open(\"myfile.txt\", \"w\") # positional arguement"
   ]
  },
  {
   "cell_type": "code",
   "execution_count": 15,
   "id": "little-scott",
   "metadata": {},
   "outputs": [
    {
     "data": {
      "text/plain": [
       "19"
      ]
     },
     "execution_count": 15,
     "metadata": {},
     "output_type": "execute_result"
    }
   ],
   "source": [
    "myfile_w.write(\"This is new line 1\\n\")\n",
    "# del myfile_w"
   ]
  },
  {
   "cell_type": "code",
   "execution_count": 16,
   "id": "objective-tumor",
   "metadata": {},
   "outputs": [],
   "source": [
    "myfile_w.writelines([\"this is new line 2\\n\", \"this is new line 3\\n\"])"
   ]
  },
  {
   "cell_type": "code",
   "execution_count": 17,
   "id": "supposed-internship",
   "metadata": {},
   "outputs": [
    {
     "data": {
      "text/plain": [
       "''"
      ]
     },
     "execution_count": 17,
     "metadata": {},
     "output_type": "execute_result"
    }
   ],
   "source": [
    "# contents are not flushed to disk yet\n",
    "myfile_r = open(\"myfile.txt\")\n",
    "myfile_r.read()"
   ]
  },
  {
   "cell_type": "code",
   "execution_count": 18,
   "id": "patient-clinic",
   "metadata": {},
   "outputs": [],
   "source": [
    "# flush the content\n",
    "myfile_w.flush()"
   ]
  },
  {
   "cell_type": "markdown",
   "id": "bacterial-princess",
   "metadata": {},
   "source": [
    "Why it is not done automatically? since frequent flushing may cause disk blow-up and hence manual flushing is used to limit the number of read and write on hard disk! So we have to do it manually whenever it is necessary. Also, it is not a good idea to flush just once at the end of our programming, since the information on RAM may lose due to an accidental shut down, etc. "
   ]
  },
  {
   "cell_type": "code",
   "execution_count": null,
   "id": "separate-algorithm",
   "metadata": {},
   "outputs": [],
   "source": [
    "myfile_r = open(\"myfile.txt\")\n",
    "myfile_r.read()"
   ]
  },
  {
   "cell_type": "code",
   "execution_count": null,
   "id": "mobile-embassy",
   "metadata": {},
   "outputs": [],
   "source": [
    "myfile_w.seek(0)\n",
    "myfile_w.write(\"this will replace line 1\")\n",
    "myfile_w.flush()"
   ]
  },
  {
   "cell_type": "code",
   "execution_count": null,
   "id": "geographic-variance",
   "metadata": {},
   "outputs": [],
   "source": [
    "myfile_r.seek(0)\n",
    "myfile_r.read()"
   ]
  },
  {
   "cell_type": "code",
   "execution_count": null,
   "id": "advised-rouge",
   "metadata": {},
   "outputs": [],
   "source": [
    "# if you close, it automatically flush!\n",
    "myfile.close()"
   ]
  },
  {
   "cell_type": "markdown",
   "id": "written-teddy",
   "metadata": {},
   "source": [
    "<a id='Write_if_not_exists'></a>\n",
    "### Write if not exists"
   ]
  },
  {
   "cell_type": "code",
   "execution_count": null,
   "id": "minimal-present",
   "metadata": {},
   "outputs": [],
   "source": [
    "myfile_w = open(\"myfile.txt\", \"x\")"
   ]
  },
  {
   "cell_type": "markdown",
   "id": "backed-baker",
   "metadata": {},
   "source": [
    "<a id='Append'></a>\n",
    "### Append"
   ]
  },
  {
   "cell_type": "code",
   "execution_count": null,
   "id": "cordless-conference",
   "metadata": {},
   "outputs": [],
   "source": [
    "myfile_a = open(\"myfile.txt\", \"a\")"
   ]
  },
  {
   "cell_type": "code",
   "execution_count": null,
   "id": "backed-overview",
   "metadata": {},
   "outputs": [],
   "source": [
    "myfile_a.write(\"This is going to be appended!\")"
   ]
  },
  {
   "cell_type": "code",
   "execution_count": null,
   "id": "boxed-things",
   "metadata": {},
   "outputs": [],
   "source": [
    "# content not flushed yet\n",
    "myfile_r = open(\"myfile.txt\")\n",
    "myfile_r.read()"
   ]
  },
  {
   "cell_type": "code",
   "execution_count": null,
   "id": "verified-kuwait",
   "metadata": {},
   "outputs": [],
   "source": [
    "myfile_a.flush()"
   ]
  },
  {
   "cell_type": "code",
   "execution_count": null,
   "id": "forced-viewer",
   "metadata": {},
   "outputs": [],
   "source": [
    "myfile_r.seek(0)\n",
    "myfile_r.read()"
   ]
  },
  {
   "cell_type": "markdown",
   "id": "conscious-apartment",
   "metadata": {},
   "source": [
    "### Summary\n",
    "\n",
    "| **Character** | **Meaning** |\n",
    "| :- | :- | \n",
    "| `r` | open for reading (default) |\n",
    "| `w` | open for writing, truncating the file first |\n",
    "| `x` | create a new file and open it for writing |\n",
    "| `a` | open for writing, appending to the end of the file if it exists |\n",
    "| `b` | binary mode |\n",
    "| `t` | text mode (default) |\n",
    "| `+` | open a disk file for updating (reading and writing) |\n",
    "| `U` | universal newline mode (deprecated) |    "
   ]
  },
  {
   "cell_type": "markdown",
   "id": "canadian-grounds",
   "metadata": {},
   "source": [
    "<a id='Binary_File'></a>\n",
    "## Binary File"
   ]
  },
  {
   "cell_type": "markdown",
   "id": "exotic-border",
   "metadata": {},
   "source": [
    "Sometimes, you may need to work with files using byte strings. This is done by adding the 'b' character to the mode argument. All of the same methods for the file object apply. However, each of the methods expect and return a bytes object instead:"
   ]
  },
  {
   "cell_type": "code",
   "execution_count": 1,
   "id": "intelligent-observation",
   "metadata": {},
   "outputs": [
    {
     "name": "stdout",
     "output_type": "stream",
     "text": [
      "b'\\x89PNG\\r\\n'\n",
      "b'\\x1a\\n'\n",
      "b'\\x00\\x00\\x00\\rIHDR\\x00\\x00\\x02\\x00\\x00\\x00\\x02\\x00\\x08\\x06\\x00\\x00\\x00\\xf4x\\xd4\\xfa\\x00\\x00\\x00\\x04gAMA\\x00\\x00\\xb1\\x8f\\x0b\\xfca\\x05\\x00\\x00\\x00 cHRM\\x00\\x00z&\\x00\\x00\\x80\\x84\\x00\\x00\\xfa\\x00\\x00\\x00\\x80\\xe8\\x00\\x00u0\\x00\\x00\\xea`\\x00\\x00:\\x98\\x00\\x00\\x17p\\x9c\\xbaQ<\\x00\\x00\\x00\\x06bKGD\\x00\\x00\\x00\\x00\\x00\\x00\\xf9C\\xbb\\x7f\\x00\\x00\\x00\\tpHYs\\x00\\x00\\x0e\\xc4\\x00\\x00\\x0e\\xc4\\x01\\x95+\\x0e\\x1b\\x00\\x00\\x00\\x07tIME\\x07\\xe5\\x01\\x01\\x0f$0\\xd3\\xec\\xf8s\\x00\\x00\\x80\\x00IDATx\\xda\\xec\\x9duxT\\xc7\\xd7\\x80\\xdf\\x8d\\x12C\\x13\\x82\\x07\\x82\\xbb\\xbb\\xbb\\xbb\\xb7@\\x81\\x16)Z\\xbc\\xf2kK\\xbdX\\x85\\n'\n"
     ]
    }
   ],
   "source": [
    "with open('image.png', 'rb') as f:\n",
    "    print(f.readline())\n",
    "    print(f.readline())\n",
    "    print(f.readline())"
   ]
  },
  {
   "cell_type": "markdown",
   "id": "martial-badge",
   "metadata": {},
   "source": [
    "Since the .png file format is well defined, the header of the file is 8 bytes broken up like this:"
   ]
  },
  {
   "cell_type": "code",
   "execution_count": 2,
   "id": "innocent-portuguese",
   "metadata": {},
   "outputs": [
    {
     "name": "stdout",
     "output_type": "stream",
     "text": [
      "b'\\x89'\n",
      "b'P'\n",
      "b'N'\n",
      "b'G'\n",
      "b'\\r'\n",
      "b'\\n'\n",
      "b'\\x1a'\n",
      "b'\\n'\n"
     ]
    }
   ],
   "source": [
    "myfile = open(\"image.png\", 'rb')\n",
    "for i in range(8):\n",
    "    print(myfile.read(1))"
   ]
  },
  {
   "cell_type": "markdown",
   "id": "mobile-preference",
   "metadata": {},
   "source": [
    "See a png converter code [here](https://gist.github.com/FlorianRhiem/dd3ae199da5ab5ff46d0)"
   ]
  },
  {
   "cell_type": "code",
   "execution_count": null,
   "id": "serial-lambda",
   "metadata": {},
   "outputs": [],
   "source": []
  }
 ],
 "metadata": {
  "kernelspec": {
   "display_name": "Python 3",
   "language": "python",
   "name": "python3"
  },
  "language_info": {
   "codemirror_mode": {
    "name": "ipython",
    "version": 3
   },
   "file_extension": ".py",
   "mimetype": "text/x-python",
   "name": "python",
   "nbconvert_exporter": "python",
   "pygments_lexer": "ipython3",
   "version": "3.7.9"
  }
 },
 "nbformat": 4,
 "nbformat_minor": 5
}
