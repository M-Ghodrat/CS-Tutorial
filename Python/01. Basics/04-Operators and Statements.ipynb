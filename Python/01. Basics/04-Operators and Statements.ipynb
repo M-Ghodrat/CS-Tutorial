{
 "cells": [
  {
   "cell_type": "markdown",
   "id": "recent-certification",
   "metadata": {},
   "source": [
    "# 04-Opertors and Statements\n",
    "\n",
    "<a id='Table_of_Contents'></a>\n",
    "## Table of Contents:\n",
    "\n",
    "* [Table of Contents](#Table_of_Contents)\n",
    "* [Operators](#Operators)\n",
    "* [Statements](#Statements)\n",
    "    - [`if`](#if)\n",
    "    - [`for` Loop](#for_Loop)\n",
    "    - [unpacking of tuples](#unpacking_of_tuples)\n",
    "    - [`while` Loop](#while_Loop)\n",
    "    - [`break`,`continue` and_`pass`](#break_continue_pass)\n",
    "    - [`enumerate`](#enumerate)\n",
    "    - [`zip`](#zip)\n",
    "    - [`input`](#input)\n",
    "    - [List Comprehensions](#List_Comprehensions)\n",
    "    - [Set & Dictionary Comprehensions](#Set_Dic_Comprehensions)"
   ]
  },
  {
   "cell_type": "markdown",
   "id": "adaptive-printing",
   "metadata": {},
   "source": [
    "<a id='Operators'></a>\n",
    "## Operators: "
   ]
  },
  {
   "cell_type": "code",
   "execution_count": 19,
   "id": "vietnamese-clear",
   "metadata": {},
   "outputs": [
    {
     "data": {
      "text/plain": [
       "False"
      ]
     },
     "execution_count": 19,
     "metadata": {},
     "output_type": "execute_result"
    }
   ],
   "source": [
    "x = 5\n",
    "x < 2"
   ]
  },
  {
   "cell_type": "code",
   "execution_count": 57,
   "id": "desirable-indicator",
   "metadata": {},
   "outputs": [
    {
     "data": {
      "text/plain": [
       "0"
      ]
     },
     "execution_count": 57,
     "metadata": {},
     "output_type": "execute_result"
    }
   ],
   "source": [
    "x // 2 "
   ]
  },
  {
   "cell_type": "code",
   "execution_count": 58,
   "id": "undefined-oklahoma",
   "metadata": {},
   "outputs": [
    {
     "data": {
      "text/plain": [
       "0"
      ]
     },
     "execution_count": 58,
     "metadata": {},
     "output_type": "execute_result"
    }
   ],
   "source": [
    "x % 2"
   ]
  },
  {
   "cell_type": "code",
   "execution_count": 8,
   "id": "freelance-vessel",
   "metadata": {},
   "outputs": [
    {
     "data": {
      "text/plain": [
       "False"
      ]
     },
     "execution_count": 8,
     "metadata": {},
     "output_type": "execute_result"
    }
   ],
   "source": [
    "x != 5"
   ]
  },
  {
   "cell_type": "code",
   "execution_count": 9,
   "id": "agreed-constant",
   "metadata": {},
   "outputs": [
    {
     "data": {
      "text/plain": [
       "False"
      ]
     },
     "execution_count": 9,
     "metadata": {},
     "output_type": "execute_result"
    }
   ],
   "source": [
    "x == 2"
   ]
  },
  {
   "cell_type": "code",
   "execution_count": 10,
   "id": "seventh-chosen",
   "metadata": {},
   "outputs": [
    {
     "data": {
      "text/plain": [
       "False"
      ]
     },
     "execution_count": 10,
     "metadata": {},
     "output_type": "execute_result"
    }
   ],
   "source": [
    "x == 2 or x == 3"
   ]
  },
  {
   "cell_type": "code",
   "execution_count": 11,
   "id": "stupid-amino",
   "metadata": {},
   "outputs": [
    {
     "data": {
      "text/plain": [
       "False"
      ]
     },
     "execution_count": 11,
     "metadata": {},
     "output_type": "execute_result"
    }
   ],
   "source": [
    "x == 2 and x == 3"
   ]
  },
  {
   "cell_type": "code",
   "execution_count": 17,
   "id": "internal-newman",
   "metadata": {},
   "outputs": [
    {
     "data": {
      "text/plain": [
       "True"
      ]
     },
     "execution_count": 17,
     "metadata": {},
     "output_type": "execute_result"
    }
   ],
   "source": [
    "True | False # bit-wise operator"
   ]
  },
  {
   "cell_type": "code",
   "execution_count": 13,
   "id": "enormous-final",
   "metadata": {},
   "outputs": [
    {
     "data": {
      "text/plain": [
       "True"
      ]
     },
     "execution_count": 13,
     "metadata": {},
     "output_type": "execute_result"
    }
   ],
   "source": [
    "True or False"
   ]
  },
  {
   "cell_type": "code",
   "execution_count": 16,
   "id": "romantic-seventh",
   "metadata": {},
   "outputs": [
    {
     "data": {
      "text/plain": [
       "False"
      ]
     },
     "execution_count": 16,
     "metadata": {},
     "output_type": "execute_result"
    }
   ],
   "source": [
    "True & False # bit-wise operator"
   ]
  },
  {
   "cell_type": "code",
   "execution_count": 15,
   "id": "common-fever",
   "metadata": {},
   "outputs": [
    {
     "data": {
      "text/plain": [
       "False"
      ]
     },
     "execution_count": 15,
     "metadata": {},
     "output_type": "execute_result"
    }
   ],
   "source": [
    "True and False"
   ]
  },
  {
   "cell_type": "code",
   "execution_count": 25,
   "id": "accessory-botswana",
   "metadata": {},
   "outputs": [
    {
     "data": {
      "text/plain": [
       "True"
      ]
     },
     "execution_count": 25,
     "metadata": {},
     "output_type": "execute_result"
    }
   ],
   "source": [
    "not(x == 2)"
   ]
  },
  {
   "cell_type": "code",
   "execution_count": 26,
   "id": "unexpected-fleece",
   "metadata": {},
   "outputs": [
    {
     "data": {
      "text/plain": [
       "True"
      ]
     },
     "execution_count": 26,
     "metadata": {},
     "output_type": "execute_result"
    }
   ],
   "source": [
    "not x == 2"
   ]
  },
  {
   "cell_type": "markdown",
   "id": "quiet-income",
   "metadata": {},
   "source": [
    "Priority of operations in python?\n",
    "\n",
    "x and y or x and z"
   ]
  },
  {
   "cell_type": "markdown",
   "id": "orange-walker",
   "metadata": {},
   "source": [
    "<a id='Statements'></a>\n",
    "## Statements: "
   ]
  },
  {
   "cell_type": "markdown",
   "id": "nearby-smart",
   "metadata": {},
   "source": [
    "<a id='if'></a>\n",
    "### `if`\n",
    "\n",
    "Syntax of an `if` statement:"
   ]
  },
  {
   "cell_type": "code",
   "execution_count": 1,
   "id": "overhead-citation",
   "metadata": {},
   "outputs": [],
   "source": [
    "name = \"Mohsen\""
   ]
  },
  {
   "cell_type": "code",
   "execution_count": 28,
   "id": "unusual-black",
   "metadata": {},
   "outputs": [
    {
     "name": "stdout",
     "output_type": "stream",
     "text": [
      "nemidoonam\n"
     ]
    }
   ],
   "source": [
    "if name == \"Ghodrat\":\n",
    "    print(\"yes\")\n",
    "elif name == \"Ali\":\n",
    "    print(\"name is Ali\")\n",
    "else:\n",
    "    print(\"nemidoonam\")\n"
   ]
  },
  {
   "cell_type": "code",
   "execution_count": 2,
   "id": "adjustable-course",
   "metadata": {},
   "outputs": [
    {
     "name": "stdout",
     "output_type": "stream",
     "text": [
      "x not 5\n"
     ]
    }
   ],
   "source": [
    "x = 15\n",
    "if x == 5:\n",
    "    pass\n",
    "else:\n",
    "    print(\"x not 5\")"
   ]
  },
  {
   "cell_type": "code",
   "execution_count": 3,
   "id": "tender-divorce",
   "metadata": {},
   "outputs": [
    {
     "name": "stdout",
     "output_type": "stream",
     "text": [
      "x is equal to 5\n"
     ]
    }
   ],
   "source": [
    "x = 5\n",
    "if x != 5:\n",
    "    print(\"x is not equal to 5\")\n",
    "else:\n",
    "    print(\"x is equal to 5\")"
   ]
  },
  {
   "cell_type": "markdown",
   "id": "corresponding-level",
   "metadata": {},
   "source": [
    "<a id='for_Loop'></a>\n",
    "### `for` Loop\n",
    "\n",
    "Syntax of a `for` loop:"
   ]
  },
  {
   "cell_type": "code",
   "execution_count": 5,
   "id": "cooperative-startup",
   "metadata": {},
   "outputs": [
    {
     "name": "stdout",
     "output_type": "stream",
     "text": [
      "1\n",
      "2\n",
      "3\n",
      "4\n",
      "5\n"
     ]
    }
   ],
   "source": [
    "mylist = [1 ,2 ,3 ,4 ,5]\n",
    "for num in mylist: # num in (),[],{},int\n",
    "    print(num)"
   ]
  },
  {
   "cell_type": "markdown",
   "id": "flush-novelty",
   "metadata": {},
   "source": [
    "__Note:__ `print` has a built-in \"\\n\""
   ]
  },
  {
   "cell_type": "code",
   "execution_count": 14,
   "id": "polish-throw",
   "metadata": {},
   "outputs": [
    {
     "name": "stdout",
     "output_type": "stream",
     "text": [
      "apple--orange--banana--"
     ]
    }
   ],
   "source": [
    "mylist = [\"apple\", \"orange\", \"banana\"]\n",
    "for fruit in mylist: \n",
    "    print(fruit, end=\"--\")"
   ]
  },
  {
   "cell_type": "code",
   "execution_count": 27,
   "id": "developmental-documentation",
   "metadata": {},
   "outputs": [
    {
     "name": "stdout",
     "output_type": "stream",
     "text": [
      "1\n",
      "2\n",
      "3\n",
      "4\n",
      "5\n"
     ]
    }
   ],
   "source": [
    "mytuple = (1 ,2 ,3 ,4 ,5)\n",
    "for num in mytuple:\n",
    "    print(num)"
   ]
  },
  {
   "cell_type": "code",
   "execution_count": 26,
   "id": "statistical-classics",
   "metadata": {},
   "outputs": [
    {
     "name": "stdout",
     "output_type": "stream",
     "text": [
      "dict_keys([1, 2, 3, 4, 5])\n",
      "dict_values(['one', 'two', 'three', 'four', 'five'])\n",
      "dict_items([(1, 'one'), (2, 'two'), (3, 'three'), (4, 'four'), (5, 'five')])\n"
     ]
    }
   ],
   "source": [
    "mydic = {1:\"one\" ,2:\"two\" ,3:\"three\" ,4:\"four\" ,5:\"five\"}\n",
    "\n",
    "print(mydic.keys())\n",
    "print(mydic.values())\n",
    "print(mydic.items())"
   ]
  },
  {
   "cell_type": "markdown",
   "id": "internal-planet",
   "metadata": {},
   "source": [
    "##### when iteration on dictionary, the defualt iteration is on \"keys\""
   ]
  },
  {
   "cell_type": "code",
   "execution_count": 34,
   "id": "rubber-texas",
   "metadata": {},
   "outputs": [
    {
     "name": "stdout",
     "output_type": "stream",
     "text": [
      "1\n",
      "2\n",
      "3\n",
      "4\n",
      "5\n"
     ]
    }
   ],
   "source": [
    "for num in mydic:\n",
    "    print(num)"
   ]
  },
  {
   "cell_type": "code",
   "execution_count": 35,
   "id": "strong-imagination",
   "metadata": {},
   "outputs": [
    {
     "name": "stdout",
     "output_type": "stream",
     "text": [
      "one\n",
      "two\n",
      "three\n",
      "four\n",
      "five\n"
     ]
    }
   ],
   "source": [
    "for num in mydic.values():\n",
    "    print(num)"
   ]
  },
  {
   "cell_type": "code",
   "execution_count": 43,
   "id": "mobile-singapore",
   "metadata": {},
   "outputs": [
    {
     "name": "stdout",
     "output_type": "stream",
     "text": [
      "p\n",
      "y\n",
      "t\n",
      "h\n",
      "o\n",
      "n\n"
     ]
    }
   ],
   "source": [
    "for char in \"python\":\n",
    "    print(char)"
   ]
  },
  {
   "cell_type": "code",
   "execution_count": 44,
   "id": "announced-spectrum",
   "metadata": {},
   "outputs": [
    {
     "name": "stdout",
     "output_type": "stream",
     "text": [
      "python\n",
      "is\n",
      "god\n"
     ]
    }
   ],
   "source": [
    "for char in \"python is god\".split():\n",
    "    print(char)"
   ]
  },
  {
   "cell_type": "code",
   "execution_count": 20,
   "id": "sufficient-netherlands",
   "metadata": {},
   "outputs": [
    {
     "name": "stdout",
     "output_type": "stream",
     "text": [
      "p\n",
      "y\n",
      "t\n",
      "h\n",
      "o\n",
      "n\n"
     ]
    }
   ],
   "source": [
    "for char in list(\"python\"):\n",
    "    print(char)"
   ]
  },
  {
   "cell_type": "markdown",
   "id": "medium-solomon",
   "metadata": {},
   "source": [
    "Look tat this example:"
   ]
  },
  {
   "cell_type": "code",
   "execution_count": 14,
   "id": "eligible-friendship",
   "metadata": {},
   "outputs": [
    {
     "name": "stdout",
     "output_type": "stream",
     "text": [
      "-1\n",
      "0\n",
      "1\n",
      "2\n",
      "3\n",
      "4\n",
      "5\n",
      "6\n",
      "7\n",
      "8\n"
     ]
    }
   ],
   "source": [
    "for i in range(10):\n",
    "    i = i-1\n",
    "    print(i)"
   ]
  },
  {
   "cell_type": "markdown",
   "id": "younger-occupation",
   "metadata": {},
   "source": [
    "also, example of an infinite loop with for:"
   ]
  },
  {
   "cell_type": "code",
   "execution_count": null,
   "id": "informed-estate",
   "metadata": {},
   "outputs": [],
   "source": [
    "mylist = [1, 2, 3, 4]\n",
    "for i in mylist:\n",
    "    mylist.append(4)\n",
    "    print(i)"
   ]
  },
  {
   "cell_type": "markdown",
   "id": "vietnamese-string",
   "metadata": {},
   "source": [
    "<a id='unpacking_of_tuples'></a>\n",
    "### unpacking of tuples:"
   ]
  },
  {
   "cell_type": "code",
   "execution_count": 6,
   "id": "cubic-trick",
   "metadata": {},
   "outputs": [
    {
     "name": "stdout",
     "output_type": "stream",
     "text": [
      "1 1\n",
      "2 8\n",
      "3 27\n",
      "4 64\n"
     ]
    }
   ],
   "source": [
    "mylist = [(1, 1), (2, 8), (3, 27), (4, 64)]\n",
    "for num, power_3 in mylist:\n",
    "    print(num, power_3)"
   ]
  },
  {
   "cell_type": "code",
   "execution_count": 7,
   "id": "expected-light",
   "metadata": {},
   "outputs": [
    {
     "name": "stdout",
     "output_type": "stream",
     "text": [
      "1\n",
      "2\n",
      "3\n",
      "4\n"
     ]
    }
   ],
   "source": [
    "for num1, _ in mylist:\n",
    "    print(num1)"
   ]
  },
  {
   "cell_type": "markdown",
   "id": "massive-wheel",
   "metadata": {},
   "source": [
    "without unpacking:"
   ]
  },
  {
   "cell_type": "code",
   "execution_count": 1,
   "id": "thick-blade",
   "metadata": {},
   "outputs": [
    {
     "name": "stdout",
     "output_type": "stream",
     "text": [
      "(1, 1) 1 1\n",
      "(2, 8) 2 8\n",
      "(3, 27) 3 27\n",
      "(4, 64) 4 64\n"
     ]
    }
   ],
   "source": [
    "mylist = [(1, 1), (2, 8), (3, 27), (4, 64)]\n",
    "for item in mylist:\n",
    "    print(item, item[0], item[1])   "
   ]
  },
  {
   "cell_type": "markdown",
   "id": "armed-hampton",
   "metadata": {},
   "source": [
    "**Note**: Using item[0], item[1] instead of unpacking is possible but this is not readable for users! so try use unpackig. "
   ]
  },
  {
   "cell_type": "markdown",
   "id": "bibliographic-difference",
   "metadata": {},
   "source": [
    "<a id='while_Loop'></a>\n",
    "### `while` Loop"
   ]
  },
  {
   "cell_type": "markdown",
   "id": "controlling-coalition",
   "metadata": {},
   "source": [
    "Syntax of a `while` loop:"
   ]
  },
  {
   "cell_type": "code",
   "execution_count": 41,
   "id": "accredited-jerusalem",
   "metadata": {},
   "outputs": [
    {
     "name": "stdout",
     "output_type": "stream",
     "text": [
      "5\n",
      "4\n",
      "3\n",
      "2\n",
      "1\n",
      "loop finished\n"
     ]
    }
   ],
   "source": [
    "x = 5\n",
    "while x > 0:\n",
    "    print(x)\n",
    "    x = x - 1\n",
    "else: # when it comes out of loop\n",
    "    print(\"loop finished\")\n",
    "    "
   ]
  },
  {
   "cell_type": "markdown",
   "id": "varied-tyler",
   "metadata": {},
   "source": [
    "### Note: \n",
    "\n",
    "if there is a `break`, `else` is not executed.\n",
    "\n",
    "`else` is only executed when the loop finishes successfully. \n",
    "\n",
    "**Better to say**: `else` is only executed when the loop condition is violated! (no matter we have ```break``` or not!) So when we use ```break```, normally if break happens, we come out of the loop without the loop condition being violated! so like the following example, the code continues to the ```else:``` section but since the condition of loop is not violated, the statement of ```else``` won't run!"
   ]
  },
  {
   "cell_type": "code",
   "execution_count": 2,
   "id": "solved-vocabulary",
   "metadata": {},
   "outputs": [
    {
     "name": "stdout",
     "output_type": "stream",
     "text": [
      "5\n",
      "4\n",
      "3\n",
      "2\n"
     ]
    }
   ],
   "source": [
    "x = 5\n",
    "while x > 0:\n",
    "    print(x)\n",
    "    x = x - 1\n",
    "    \n",
    "    if x == 1:\n",
    "        break\n",
    "else:\n",
    "    print('loop finished')"
   ]
  },
  {
   "cell_type": "code",
   "execution_count": 3,
   "id": "reported-department",
   "metadata": {},
   "outputs": [
    {
     "name": "stdout",
     "output_type": "stream",
     "text": [
      "5\n",
      "4\n",
      "3\n",
      "2\n",
      "loop finished\n"
     ]
    }
   ],
   "source": [
    "x = 5\n",
    "while x > 0:\n",
    "    print(x)\n",
    "    x = x - 1\n",
    "    \n",
    "    if x == 1:\n",
    "        break\n",
    "\n",
    "print('loop finished')"
   ]
  },
  {
   "cell_type": "markdown",
   "id": "central-worthy",
   "metadata": {},
   "source": [
    "<a id='break_continue_pass'></a>\n",
    "### `break`, `continue` and `pass`"
   ]
  },
  {
   "cell_type": "code",
   "execution_count": 60,
   "id": "resistant-familiar",
   "metadata": {},
   "outputs": [
    {
     "name": "stdout",
     "output_type": "stream",
     "text": [
      "Ali\n",
      "found it\n"
     ]
    }
   ],
   "source": [
    "# break a loop\n",
    "customers = [\"Ali\", \"Mohsen\", \"Sara\", \"Amir\", \"Ghazaleh\"]\n",
    "for name in customers:\n",
    "    \n",
    "    if name == \"Ali\":\n",
    "        print(name)\n",
    "        print(\"found it\")\n",
    "        break\n",
    "    else:\n",
    "        print(\"name not found yet! -->\", name)"
   ]
  },
  {
   "cell_type": "code",
   "execution_count": 59,
   "id": "german-bullet",
   "metadata": {},
   "outputs": [
    {
     "name": "stdout",
     "output_type": "stream",
     "text": [
      "4\n"
     ]
    }
   ],
   "source": [
    "num =5\n",
    "while num > 0:\n",
    "    num = num - 1\n",
    "    print(num)\n",
    "    if num % 2 == 0:\n",
    "        break\n",
    "else:\n",
    "    print(\"finished\")"
   ]
  },
  {
   "cell_type": "markdown",
   "id": "judicial-atlantic",
   "metadata": {},
   "source": [
    "In nested loopd, ```break``` works for the *current* loop:"
   ]
  },
  {
   "cell_type": "code",
   "execution_count": 22,
   "id": "raising-input",
   "metadata": {},
   "outputs": [
    {
     "name": "stdout",
     "output_type": "stream",
     "text": [
      "j --> 0\n",
      "i ==> 0\n",
      "j --> 0\n",
      "i ==> 1\n",
      "j --> 0\n",
      "i ==> 2\n",
      "j --> 0\n",
      "i ==> 3\n",
      "j --> 0\n",
      "i ==> 4\n"
     ]
    }
   ],
   "source": [
    "for i in range(5):\n",
    "    for j in range(10):\n",
    "        print(\"j -->\", j)\n",
    "        if j % 2 ==0:\n",
    "            break\n",
    "            \n",
    "    print(\"i ==>\", i)"
   ]
  },
  {
   "cell_type": "code",
   "execution_count": 70,
   "id": "printable-tucson",
   "metadata": {},
   "outputs": [],
   "source": [
    "# pass for later: To avoid error (felan hal nadaram benvisam!)\n",
    "condition = True\n",
    "if condition:\n",
    "    pass \n",
    "else:\n",
    "    # code here"
   ]
  },
  {
   "cell_type": "markdown",
   "id": "round-exemption",
   "metadata": {},
   "source": [
    "error without `pass`:"
   ]
  },
  {
   "cell_type": "code",
   "execution_count": 67,
   "id": "liked-directory",
   "metadata": {},
   "outputs": [
    {
     "ename": "IndentationError",
     "evalue": "expected an indented block (<ipython-input-67-3511bf3d6aea>, line 3)",
     "output_type": "error",
     "traceback": [
      "\u001b[0;36m  File \u001b[0;32m\"<ipython-input-67-3511bf3d6aea>\"\u001b[0;36m, line \u001b[0;32m3\u001b[0m\n\u001b[0;31m    else:\u001b[0m\n\u001b[0m       ^\u001b[0m\n\u001b[0;31mIndentationError\u001b[0m\u001b[0;31m:\u001b[0m expected an indented block\n"
     ]
    }
   ],
   "source": [
    "condition = True\n",
    "if condition:\n",
    "    \n",
    "else:\n",
    "    # code here"
   ]
  },
  {
   "cell_type": "code",
   "execution_count": 71,
   "id": "sensitive-canadian",
   "metadata": {
    "scrolled": true
   },
   "outputs": [
    {
     "name": "stdout",
     "output_type": "stream",
     "text": [
      "1\n",
      "3\n",
      "5\n",
      "7\n",
      "9\n"
     ]
    }
   ],
   "source": [
    "# continue\n",
    "for item in range(10):\n",
    "    if item % 2 == 0:\n",
    "        continue # means: go to the next iteration\n",
    "        \n",
    "    print(item)"
   ]
  },
  {
   "cell_type": "markdown",
   "id": "spread-electric",
   "metadata": {},
   "source": [
    "```continue```, ```break``` are just used in loops, but ```pass``` can be used everywhere (```if```, ```loop```, ...)"
   ]
  },
  {
   "cell_type": "markdown",
   "id": "studied-demonstration",
   "metadata": {},
   "source": [
    "<a id='enumerate'></a>\n",
    "###  `enumerate`"
   ]
  },
  {
   "cell_type": "code",
   "execution_count": 72,
   "id": "european-paraguay",
   "metadata": {},
   "outputs": [
    {
     "name": "stdout",
     "output_type": "stream",
     "text": [
      "0 a\n",
      "1 b\n",
      "2 c\n",
      "3 d\n",
      "4 e\n",
      "5 f\n",
      "6 g\n",
      "7 h\n",
      "8 i\n",
      "9 j\n"
     ]
    }
   ],
   "source": [
    "word = 'abcdefghij'\n",
    "\n",
    "for index, char in enumerate(word):\n",
    "    print(index, char)\n",
    "    "
   ]
  },
  {
   "cell_type": "markdown",
   "id": "measured-setting",
   "metadata": {},
   "source": [
    "##### This is similar to:"
   ]
  },
  {
   "cell_type": "code",
   "execution_count": 74,
   "id": "specified-bermuda",
   "metadata": {},
   "outputs": [
    {
     "name": "stdout",
     "output_type": "stream",
     "text": [
      "0 a\n",
      "1 b\n",
      "2 c\n",
      "3 d\n",
      "4 e\n",
      "5 f\n",
      "6 g\n",
      "7 h\n",
      "8 i\n",
      "9 j\n"
     ]
    }
   ],
   "source": [
    "counter = 0\n",
    "for char in list(word):\n",
    "    print(counter, char)\n",
    "    counter = counter + 1"
   ]
  },
  {
   "cell_type": "code",
   "execution_count": 75,
   "id": "incident-allen",
   "metadata": {},
   "outputs": [
    {
     "name": "stdout",
     "output_type": "stream",
     "text": [
      "0 a\n",
      "1 b\n",
      "2 c\n",
      "3 d\n",
      "4 e\n",
      "5 f\n",
      "6 g\n",
      "7 h\n",
      "8 i\n",
      "9 j\n"
     ]
    }
   ],
   "source": [
    "for index, char in enumerate(list('abcdefghij')):\n",
    "    print(index, char)"
   ]
  },
  {
   "cell_type": "code",
   "execution_count": 26,
   "id": "earlier-candle",
   "metadata": {},
   "outputs": [
    {
     "name": "stdout",
     "output_type": "stream",
     "text": [
      "0 a\n",
      "1 b\n",
      "2 c\n",
      "3 d\n",
      "4 e\n",
      "5 f\n",
      "6 g\n",
      "7 h\n",
      "8 i\n",
      "9 j\n"
     ]
    }
   ],
   "source": [
    "def enumerate_mohsen(mystr):\n",
    "    newlist = []\n",
    "    counter = 0\n",
    "    for char in mystr:\n",
    "        newlist.append([counter, char]) \n",
    "        print(counter, char)\n",
    "        counter += 1\n",
    "        \n",
    "    #print(newlist)\n",
    "\n",
    "enumerate_mohsen('abcdefghij')"
   ]
  },
  {
   "cell_type": "code",
   "execution_count": 31,
   "id": "efficient-double",
   "metadata": {},
   "outputs": [
    {
     "name": "stdout",
     "output_type": "stream",
     "text": [
      "0 zero 0\n",
      "1 one 1\n"
     ]
    }
   ],
   "source": [
    "for ind, item in enumerate({\"zero\": 0, \"one\":1}.items()):\n",
    "    key, value = item # item is a tuple\n",
    "    print(ind, key, value)"
   ]
  },
  {
   "cell_type": "markdown",
   "id": "direct-spectrum",
   "metadata": {},
   "source": [
    "<a id='zip'></a>\n",
    "### `zip`"
   ]
  },
  {
   "cell_type": "code",
   "execution_count": 24,
   "id": "compressed-congress",
   "metadata": {},
   "outputs": [],
   "source": [
    "people = [\"Mohsen\", \"Ali\", \"Sara\", \"Hassan\"]\n",
    "roles = [\"Mafia\", \"Mafia\", \"Citizen\"]"
   ]
  },
  {
   "cell_type": "code",
   "execution_count": 25,
   "id": "danish-double",
   "metadata": {},
   "outputs": [
    {
     "name": "stdout",
     "output_type": "stream",
     "text": [
      "Mohsen --> Mafia\n",
      "Ali --> Mafia\n",
      "Sara --> Citizen\n"
     ]
    },
    {
     "ename": "IndexError",
     "evalue": "list index out of range",
     "output_type": "error",
     "traceback": [
      "\u001b[0;31m---------------------------------------------------------------------------\u001b[0m",
      "\u001b[0;31mIndexError\u001b[0m                                Traceback (most recent call last)",
      "\u001b[0;32m<ipython-input-25-1489c5ee3f87>\u001b[0m in \u001b[0;36m<module>\u001b[0;34m\u001b[0m\n\u001b[1;32m      1\u001b[0m \u001b[0;32mfor\u001b[0m \u001b[0mind\u001b[0m\u001b[0;34m,\u001b[0m \u001b[0mname\u001b[0m \u001b[0;32min\u001b[0m \u001b[0menumerate\u001b[0m\u001b[0;34m(\u001b[0m\u001b[0mpeople\u001b[0m\u001b[0;34m)\u001b[0m\u001b[0;34m:\u001b[0m\u001b[0;34m\u001b[0m\u001b[0;34m\u001b[0m\u001b[0m\n\u001b[0;32m----> 2\u001b[0;31m     \u001b[0mprint\u001b[0m\u001b[0;34m(\u001b[0m\u001b[0mname\u001b[0m\u001b[0;34m,\u001b[0m \u001b[0;34m'-->'\u001b[0m\u001b[0;34m,\u001b[0m \u001b[0mroles\u001b[0m\u001b[0;34m[\u001b[0m\u001b[0mind\u001b[0m\u001b[0;34m]\u001b[0m\u001b[0;34m)\u001b[0m\u001b[0;34m\u001b[0m\u001b[0;34m\u001b[0m\u001b[0m\n\u001b[0m",
      "\u001b[0;31mIndexError\u001b[0m: list index out of range"
     ]
    }
   ],
   "source": [
    "for ind, name in enumerate(people):\n",
    "    print(name, '-->', roles[ind])"
   ]
  },
  {
   "cell_type": "code",
   "execution_count": 51,
   "id": "unusual-yield",
   "metadata": {},
   "outputs": [
    {
     "name": "stdout",
     "output_type": "stream",
     "text": [
      "Mohsen role is Mafia\n",
      "Ali role is Mafia\n",
      "Sara role is Citizen\n"
     ]
    }
   ],
   "source": [
    "for name, role in zip(people, roles):\n",
    "    print(name, \"role is\", role)"
   ]
  },
  {
   "cell_type": "markdown",
   "id": "young-occasion",
   "metadata": {},
   "source": [
    "<a id='input'></a>\n",
    "### `input`"
   ]
  },
  {
   "cell_type": "code",
   "execution_count": 52,
   "id": "colonial-trainer",
   "metadata": {},
   "outputs": [
    {
     "name": "stdout",
     "output_type": "stream",
     "text": [
      "Please enter tour name: Ali\n"
     ]
    }
   ],
   "source": [
    "name = input(\"Please enter tour name: \")"
   ]
  },
  {
   "cell_type": "code",
   "execution_count": 54,
   "id": "apart-pioneer",
   "metadata": {},
   "outputs": [
    {
     "name": "stdout",
     "output_type": "stream",
     "text": [
      "please enter a number:10\n"
     ]
    }
   ],
   "source": [
    "num = input(\"please enter a number:\")"
   ]
  },
  {
   "cell_type": "code",
   "execution_count": 55,
   "id": "joint-decline",
   "metadata": {},
   "outputs": [
    {
     "data": {
      "text/plain": [
       "False"
      ]
     },
     "execution_count": 55,
     "metadata": {},
     "output_type": "execute_result"
    }
   ],
   "source": [
    "num == 10"
   ]
  },
  {
   "cell_type": "code",
   "execution_count": 57,
   "id": "nasty-lighter",
   "metadata": {},
   "outputs": [
    {
     "data": {
      "text/plain": [
       "('10', str)"
      ]
     },
     "execution_count": 57,
     "metadata": {},
     "output_type": "execute_result"
    }
   ],
   "source": [
    "num, type(num)"
   ]
  },
  {
   "cell_type": "markdown",
   "id": "greater-measure",
   "metadata": {},
   "source": [
    "#### Note:\n",
    "The output of `input` function is always string!"
   ]
  },
  {
   "cell_type": "code",
   "execution_count": 58,
   "id": "plain-rogers",
   "metadata": {},
   "outputs": [
    {
     "data": {
      "text/plain": [
       "True"
      ]
     },
     "execution_count": 58,
     "metadata": {},
     "output_type": "execute_result"
    }
   ],
   "source": [
    "int(num) == 10"
   ]
  },
  {
   "cell_type": "markdown",
   "id": "helpful-boards",
   "metadata": {},
   "source": [
    "<a id='List_Comprehensions'></a>\n",
    "### List Comprehensions "
   ]
  },
  {
   "cell_type": "markdown",
   "id": "developing-confirmation",
   "metadata": {},
   "source": [
    "List comprehensions are a unique way of quickly creating a list with python.\n",
    "\n",
    "If you find yourself using a for loop along with .append() to create a list, **List Comprehensions** are a good alternative.\n"
   ]
  },
  {
   "cell_type": "code",
   "execution_count": 59,
   "id": "mineral-metro",
   "metadata": {},
   "outputs": [],
   "source": [
    "mystring = \"hello\""
   ]
  },
  {
   "cell_type": "code",
   "execution_count": 60,
   "id": "tropical-fiction",
   "metadata": {},
   "outputs": [],
   "source": [
    "# without list comprehensions\n",
    "mylist = []\n",
    "\n",
    "for letter in mystring:\n",
    "    mylist.append(letter)"
   ]
  },
  {
   "cell_type": "code",
   "execution_count": 61,
   "id": "nervous-senior",
   "metadata": {},
   "outputs": [
    {
     "data": {
      "text/plain": [
       "['h', 'e', 'l', 'l', 'o']"
      ]
     },
     "execution_count": 61,
     "metadata": {},
     "output_type": "execute_result"
    }
   ],
   "source": [
    "mylist"
   ]
  },
  {
   "cell_type": "code",
   "execution_count": 62,
   "id": "personal-aging",
   "metadata": {},
   "outputs": [],
   "source": [
    "# with list comprehensions\n",
    "mylist = [letter for letter in mystring]"
   ]
  },
  {
   "cell_type": "code",
   "execution_count": 63,
   "id": "normal-woman",
   "metadata": {},
   "outputs": [
    {
     "data": {
      "text/plain": [
       "['h', 'e', 'l', 'l', 'o']"
      ]
     },
     "execution_count": 63,
     "metadata": {},
     "output_type": "execute_result"
    }
   ],
   "source": [
    "mylist"
   ]
  },
  {
   "cell_type": "markdown",
   "id": "identified-omaha",
   "metadata": {},
   "source": [
    "##### Examples:"
   ]
  },
  {
   "cell_type": "code",
   "execution_count": 51,
   "id": "bored-syracuse",
   "metadata": {},
   "outputs": [
    {
     "data": {
      "text/plain": [
       "[0, 1, 4, 9, 16, 25, 36, 49, 64, 81]"
      ]
     },
     "execution_count": 51,
     "metadata": {},
     "output_type": "execute_result"
    }
   ],
   "source": [
    "mylist = [num**2 for num in range(10)]\n",
    "mylist"
   ]
  },
  {
   "cell_type": "code",
   "execution_count": 47,
   "id": "incorporated-treasury",
   "metadata": {},
   "outputs": [
    {
     "data": {
      "text/plain": [
       "[0, 4, 16, 36, 64]"
      ]
     },
     "execution_count": 47,
     "metadata": {},
     "output_type": "execute_result"
    }
   ],
   "source": [
    "mylist = [num**2 for num in range(10) if num % 2 == 0]\n",
    "mylist"
   ]
  },
  {
   "cell_type": "markdown",
   "id": "chubby-ballet",
   "metadata": {},
   "source": [
    "we can **not** use ```while``` instead of ```if``` in above list comprehension "
   ]
  },
  {
   "cell_type": "code",
   "execution_count": 68,
   "id": "british-filling",
   "metadata": {},
   "outputs": [
    {
     "data": {
      "text/plain": [
       "[-76.0, -40.0, 32.0, 86.0, 94.1]"
      ]
     },
     "execution_count": 68,
     "metadata": {},
     "output_type": "execute_result"
    }
   ],
   "source": [
    "celcius = [-60, -40, 0, 30, 34.5]\n",
    "\n",
    "fahrenheit = [(9 / 5) * temp + 32 for temp in celcius]\n",
    "fahrenheit"
   ]
  },
  {
   "cell_type": "code",
   "execution_count": 43,
   "id": "afraid-factory",
   "metadata": {},
   "outputs": [
    {
     "name": "stdout",
     "output_type": "stream",
     "text": [
      "['Hassan', 'Mahmood', 'Donald']\n",
      "['H', 'M', 'D']\n"
     ]
    }
   ],
   "source": [
    "names = [\"Hassan Rohani\", \"Mahmood Ahmadi\", \"Donald Trump\"]\n",
    "print([name.split()[0] for name in names])\n",
    "print([name[0] for name in names])"
   ]
  },
  {
   "cell_type": "markdown",
   "id": "great-harrison",
   "metadata": {},
   "source": [
    "```if else``` in List Comprehension"
   ]
  },
  {
   "cell_type": "code",
   "execution_count": 54,
   "id": "natural-finance",
   "metadata": {},
   "outputs": [
    {
     "data": {
      "text/plain": [
       "[0, 1, 2, 3, 4, 5, 6, 7, 8, 9]"
      ]
     },
     "execution_count": 54,
     "metadata": {},
     "output_type": "execute_result"
    }
   ],
   "source": [
    "newlist = [item if item % 2 == 0 else item for item in range(10)]\n",
    "newlist"
   ]
  },
  {
   "cell_type": "markdown",
   "id": "innocent-survey",
   "metadata": {},
   "source": [
    "we will encounter error without the use of ```else```:"
   ]
  },
  {
   "cell_type": "code",
   "execution_count": 7,
   "id": "analyzed-march",
   "metadata": {},
   "outputs": [
    {
     "ename": "SyntaxError",
     "evalue": "invalid syntax (<ipython-input-7-2b2ac4cce9d8>, line 1)",
     "output_type": "error",
     "traceback": [
      "\u001b[0;36m  File \u001b[0;32m\"<ipython-input-7-2b2ac4cce9d8>\"\u001b[0;36m, line \u001b[0;32m1\u001b[0m\n\u001b[0;31m    newlist = [item if item % 2 == 0 for item in range(10)]\u001b[0m\n\u001b[0m                                       ^\u001b[0m\n\u001b[0;31mSyntaxError\u001b[0m\u001b[0;31m:\u001b[0m invalid syntax\n"
     ]
    }
   ],
   "source": [
    "newlist = [item if item % 2 == 0 for item in range(10)]\n",
    "newlist"
   ]
  },
  {
   "cell_type": "markdown",
   "id": "sacred-tamil",
   "metadata": {},
   "source": [
    "also ```pass``` won't work"
   ]
  },
  {
   "cell_type": "code",
   "execution_count": 8,
   "id": "deadly-cancellation",
   "metadata": {},
   "outputs": [
    {
     "ename": "SyntaxError",
     "evalue": "invalid syntax (<ipython-input-8-605da4225613>, line 1)",
     "output_type": "error",
     "traceback": [
      "\u001b[0;36m  File \u001b[0;32m\"<ipython-input-8-605da4225613>\"\u001b[0;36m, line \u001b[0;32m1\u001b[0m\n\u001b[0;31m    newlist = [item if item % 2 == 0 else pass for item in range(10)]\u001b[0m\n\u001b[0m                                             ^\u001b[0m\n\u001b[0;31mSyntaxError\u001b[0m\u001b[0;31m:\u001b[0m invalid syntax\n"
     ]
    }
   ],
   "source": [
    "newlist = [item if item % 2 == 0 else pass for item in range(10)]\n",
    "newlist"
   ]
  },
  {
   "cell_type": "markdown",
   "id": "premier-cargo",
   "metadata": {},
   "source": [
    "<a id='Set_Dic_Comprehensions'></a>\n",
    "### Set & Dictionary Comprehensions"
   ]
  },
  {
   "cell_type": "code",
   "execution_count": 58,
   "id": "limiting-sussex",
   "metadata": {},
   "outputs": [
    {
     "data": {
      "text/plain": [
       "{0, 1, 2, 3, 4, 5, 6, 7, 8, 9}"
      ]
     },
     "execution_count": 58,
     "metadata": {},
     "output_type": "execute_result"
    }
   ],
   "source": [
    "{item for item in range(10)}"
   ]
  },
  {
   "cell_type": "code",
   "execution_count": 60,
   "id": "sublime-incidence",
   "metadata": {},
   "outputs": [
    {
     "data": {
      "text/plain": [
       "{0: 0, 1: 1, 2: 8, 3: 27, 4: 64, 5: 125, 6: 216, 7: 343, 8: 512, 9: 729}"
      ]
     },
     "execution_count": 60,
     "metadata": {},
     "output_type": "execute_result"
    }
   ],
   "source": [
    "{key: key**3 for key in range(10)}"
   ]
  },
  {
   "cell_type": "code",
   "execution_count": null,
   "id": "above-cowboy",
   "metadata": {},
   "outputs": [],
   "source": []
  }
 ],
 "metadata": {
  "kernelspec": {
   "display_name": "Python 3",
   "language": "python",
   "name": "python3"
  },
  "language_info": {
   "codemirror_mode": {
    "name": "ipython",
    "version": 3
   },
   "file_extension": ".py",
   "mimetype": "text/x-python",
   "name": "python",
   "nbconvert_exporter": "python",
   "pygments_lexer": "ipython3",
   "version": "3.7.9"
  }
 },
 "nbformat": 4,
 "nbformat_minor": 5
}
