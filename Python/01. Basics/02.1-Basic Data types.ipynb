{
 "cells": [
  {
   "cell_type": "markdown",
   "id": "broadband-assumption",
   "metadata": {},
   "source": [
    "# 02.1-Basic Data Types:\n",
    "\n",
    "<a id='Table_of_Contents'></a>\n",
    "## Table of Contents:\n",
    "\n",
    "* [Table of Contents](#Table_of_Contents)\n",
    "* [Variable Names](#Variable_Names)\n",
    "* [Data Types](#Data_Types)\n",
    "    - [Float](#Float)\n",
    "    - [Integer](#Integer)\n",
    "    - [Boolean](#Boolean)\n",
    "    - [String](#String)\n",
    "    - [List](#List)\n",
    "    - [Dictionary](#Dictionary)\n",
    "    - [Tuple](#Tuple)\n",
    "    - [Set](#Set)\n",
    "        - [Frozen Set](#Frozen_Set)   "
   ]
  },
  {
   "cell_type": "markdown",
   "id": "lesbian-diamond",
   "metadata": {},
   "source": [
    "<a id='Table_of_Contents'></a>\n",
    "## Variable Names\n",
    "\n",
    "**Rules:**\n",
    "\n",
    "- names cannot start with a number\n",
    "- there can be no space in name, use _ instead.\n",
    "- can't use any of these symbols: :'\",<>/?|\\()!@#$%^&*~-+\n",
    "- it is considered best practice (pep8) that names are lowercase\n",
    "- avoid using words that have special meaning in python like \"list\" and \"str\"\n",
    "    - str = \"string\"; x = \"123\"; str(x) raises TypeError: 'str' object is not callable error. del str to remove the variable.\n",
    "- python uses **Dynamic Typing** which means you can reassign variables to different data types. This is different than other languages that are **\"Statically-Typed\"**"
   ]
  },
  {
   "cell_type": "markdown",
   "id": "executive-makeup",
   "metadata": {},
   "source": [
    "<a id='Data_Types'></a>\n",
    "## Data Types\n",
    "\n",
    "| Data Type | Example |\n",
    "| :- | :- | \n",
    "| integer | int = 4 |\n",
    "| float | flaot = 1.33 |\n",
    "| string | str = \"Mohsen\" |\n",
    "| list | list = [1, 4.5, \"Ali\"]|\n",
    "| dictionaries | dic = {\"obj_1\" : \"value_1\", \"obj_2\" : \"value_2\"}|\n",
    "| tuples | tuple = (1,3,5) | \n",
    "| sets | set = {\"a\",\"b\"} # unique objects |\n",
    "| booleans | bool = True, False |"
   ]
  },
  {
   "cell_type": "markdown",
   "id": "former-newcastle",
   "metadata": {},
   "source": [
    "<a id='Float'></a>\n",
    "### Float"
   ]
  },
  {
   "cell_type": "code",
   "execution_count": 112,
   "id": "august-gravity",
   "metadata": {},
   "outputs": [],
   "source": [
    "float_num = 3.6"
   ]
  },
  {
   "cell_type": "code",
   "execution_count": 114,
   "id": "appreciated-yahoo",
   "metadata": {},
   "outputs": [
    {
     "data": {
      "text/plain": [
       "float"
      ]
     },
     "execution_count": 114,
     "metadata": {},
     "output_type": "execute_result"
    }
   ],
   "source": [
    "type(float_num)"
   ]
  },
  {
   "cell_type": "markdown",
   "id": "bright-partnership",
   "metadata": {},
   "source": [
    "<a id='Integer'></a>\n",
    "### Integer"
   ]
  },
  {
   "cell_type": "code",
   "execution_count": 2,
   "id": "impressed-treasure",
   "metadata": {},
   "outputs": [],
   "source": [
    "int_num = 1"
   ]
  },
  {
   "cell_type": "markdown",
   "id": "logical-relaxation",
   "metadata": {},
   "source": [
    "<a id='Boolean'></a>\n",
    "### Boolean"
   ]
  },
  {
   "cell_type": "code",
   "execution_count": 3,
   "id": "south-moderator",
   "metadata": {},
   "outputs": [],
   "source": [
    "flag = True"
   ]
  },
  {
   "cell_type": "markdown",
   "id": "popular-leeds",
   "metadata": {},
   "source": [
    "<a id='String'></a>\n",
    "### String"
   ]
  },
  {
   "cell_type": "code",
   "execution_count": 99,
   "id": "reduced-blood",
   "metadata": {},
   "outputs": [],
   "source": [
    "my_str = \"asasakasdmlada\""
   ]
  },
  {
   "cell_type": "code",
   "execution_count": 14,
   "id": "challenging-biotechnology",
   "metadata": {},
   "outputs": [
    {
     "data": {
      "text/plain": [
       "'a'"
      ]
     },
     "execution_count": 14,
     "metadata": {},
     "output_type": "execute_result"
    }
   ],
   "source": [
    "my_str[0]"
   ]
  },
  {
   "cell_type": "code",
   "execution_count": 16,
   "id": "given-county",
   "metadata": {},
   "outputs": [
    {
     "data": {
      "text/plain": [
       "'asa'"
      ]
     },
     "execution_count": 16,
     "metadata": {},
     "output_type": "execute_result"
    }
   ],
   "source": [
    "my_str[1:3]"
   ]
  },
  {
   "cell_type": "code",
   "execution_count": 17,
   "id": "nervous-finance",
   "metadata": {},
   "outputs": [
    {
     "data": {
      "text/plain": [
       "'asasakasdmlad'"
      ]
     },
     "execution_count": 17,
     "metadata": {},
     "output_type": "execute_result"
    }
   ],
   "source": [
    "my_str[:-1]"
   ]
  },
  {
   "cell_type": "code",
   "execution_count": 19,
   "id": "scientific-skiing",
   "metadata": {},
   "outputs": [
    {
     "data": {
      "text/plain": [
       "'asasakasdm'"
      ]
     },
     "execution_count": 19,
     "metadata": {},
     "output_type": "execute_result"
    }
   ],
   "source": [
    "my_str[:-4]"
   ]
  },
  {
   "cell_type": "code",
   "execution_count": 21,
   "id": "selected-continuity",
   "metadata": {},
   "outputs": [
    {
     "data": {
      "text/plain": [
       "'asasakasdmlada'"
      ]
     },
     "execution_count": 21,
     "metadata": {},
     "output_type": "execute_result"
    }
   ],
   "source": [
    "my_str[:]"
   ]
  },
  {
   "cell_type": "code",
   "execution_count": 22,
   "id": "iraqi-aside",
   "metadata": {},
   "outputs": [
    {
     "data": {
      "text/plain": [
       "'aaaadld'"
      ]
     },
     "execution_count": 22,
     "metadata": {},
     "output_type": "execute_result"
    }
   ],
   "source": [
    "my_str[::2]"
   ]
  },
  {
   "cell_type": "code",
   "execution_count": 23,
   "id": "inclusive-dodge",
   "metadata": {},
   "outputs": [
    {
     "data": {
      "text/plain": [
       "'a'"
      ]
     },
     "execution_count": 23,
     "metadata": {},
     "output_type": "execute_result"
    }
   ],
   "source": [
    "my_str[-1]"
   ]
  },
  {
   "cell_type": "code",
   "execution_count": 39,
   "id": "lyric-median",
   "metadata": {},
   "outputs": [
    {
     "data": {
      "text/plain": [
       "'asasakasdmlada'"
      ]
     },
     "execution_count": 39,
     "metadata": {},
     "output_type": "execute_result"
    }
   ],
   "source": [
    "my_str[::1]"
   ]
  },
  {
   "cell_type": "code",
   "execution_count": 41,
   "id": "aboriginal-season",
   "metadata": {},
   "outputs": [
    {
     "ename": "TypeError",
     "evalue": "'str' object does not support item assignment",
     "output_type": "error",
     "traceback": [
      "\u001b[0;31m---------------------------------------------------------------------------\u001b[0m",
      "\u001b[0;31mTypeError\u001b[0m                                 Traceback (most recent call last)",
      "\u001b[0;32m<ipython-input-41-364b77c559e0>\u001b[0m in \u001b[0;36m<module>\u001b[0;34m\u001b[0m\n\u001b[0;32m----> 1\u001b[0;31m \u001b[0mmy_str\u001b[0m\u001b[0;34m[\u001b[0m\u001b[0;36m0\u001b[0m\u001b[0;34m]\u001b[0m \u001b[0;34m=\u001b[0m \u001b[0;34m\"a\"\u001b[0m\u001b[0;34m\u001b[0m\u001b[0;34m\u001b[0m\u001b[0m\n\u001b[0m",
      "\u001b[0;31mTypeError\u001b[0m: 'str' object does not support item assignment"
     ]
    }
   ],
   "source": [
    "my_str[0] = \"a\""
   ]
  },
  {
   "cell_type": "markdown",
   "id": "matched-zambia",
   "metadata": {},
   "source": [
    "So far, float, boolean, string and integer are immutable!"
   ]
  },
  {
   "cell_type": "code",
   "execution_count": 43,
   "id": "negative-disability",
   "metadata": {},
   "outputs": [],
   "source": [
    "my_str = \"\\tmomosmdoamsdoamdgtrmgrogtm\""
   ]
  },
  {
   "cell_type": "code",
   "execution_count": 97,
   "id": "expected-living",
   "metadata": {},
   "outputs": [
    {
     "data": {
      "text/plain": [
       "'\\t'"
      ]
     },
     "execution_count": 97,
     "metadata": {},
     "output_type": "execute_result"
    }
   ],
   "source": [
    "my_str[0]"
   ]
  },
  {
   "cell_type": "code",
   "execution_count": 101,
   "id": "decimal-raising",
   "metadata": {},
   "outputs": [
    {
     "data": {
      "text/plain": [
       "'ASASAKASDMLADA'"
      ]
     },
     "execution_count": 101,
     "metadata": {},
     "output_type": "execute_result"
    }
   ],
   "source": [
    "my_str.upper()"
   ]
  },
  {
   "cell_type": "code",
   "execution_count": 103,
   "id": "pending-declaration",
   "metadata": {},
   "outputs": [
    {
     "data": {
      "text/plain": [
       "'asasakasdmlada'"
      ]
     },
     "execution_count": 103,
     "metadata": {},
     "output_type": "execute_result"
    }
   ],
   "source": [
    "my_str.lower()"
   ]
  },
  {
   "cell_type": "code",
   "execution_count": 106,
   "id": "chemical-firewall",
   "metadata": {},
   "outputs": [
    {
     "data": {
      "text/plain": [
       "'Asasakasdmlada'"
      ]
     },
     "execution_count": 106,
     "metadata": {},
     "output_type": "execute_result"
    }
   ],
   "source": [
    "my_str.title()"
   ]
  },
  {
   "cell_type": "code",
   "execution_count": 110,
   "id": "recovered-outdoors",
   "metadata": {},
   "outputs": [
    {
     "data": {
      "text/plain": [
       "-1"
      ]
     },
     "execution_count": 110,
     "metadata": {},
     "output_type": "execute_result"
    }
   ],
   "source": [
    "my_str.find(\"c\")"
   ]
  },
  {
   "cell_type": "markdown",
   "id": "exempt-prior",
   "metadata": {},
   "source": [
    "<a id='List'></a>\n",
    "### List"
   ]
  },
  {
   "cell_type": "code",
   "execution_count": 95,
   "id": "intermediate-aquarium",
   "metadata": {},
   "outputs": [],
   "source": [
    "my_list = [1, 2, 3, 4, 5, 6, 7, 8, 9, 10]"
   ]
  },
  {
   "cell_type": "code",
   "execution_count": 28,
   "id": "exclusive-debut",
   "metadata": {},
   "outputs": [],
   "source": [
    "my_list_2 = [1, \"mohsen ghodrat\", True]"
   ]
  },
  {
   "cell_type": "code",
   "execution_count": 31,
   "id": "selected-campaign",
   "metadata": {},
   "outputs": [
    {
     "data": {
      "text/plain": [
       "10"
      ]
     },
     "execution_count": 31,
     "metadata": {},
     "output_type": "execute_result"
    }
   ],
   "source": [
    "my_list[9]"
   ]
  },
  {
   "cell_type": "code",
   "execution_count": 32,
   "id": "absent-stationery",
   "metadata": {},
   "outputs": [
    {
     "data": {
      "text/plain": [
       "[1, 2, 3]"
      ]
     },
     "execution_count": 32,
     "metadata": {},
     "output_type": "execute_result"
    }
   ],
   "source": [
    "my_list[:3]"
   ]
  },
  {
   "cell_type": "code",
   "execution_count": 33,
   "id": "active-control",
   "metadata": {},
   "outputs": [
    {
     "data": {
      "text/plain": [
       "[10, 9, 8, 7, 6, 5, 4, 3, 2, 1]"
      ]
     },
     "execution_count": 33,
     "metadata": {},
     "output_type": "execute_result"
    }
   ],
   "source": [
    "my_list[::-1]"
   ]
  },
  {
   "cell_type": "code",
   "execution_count": 92,
   "id": "tamil-galaxy",
   "metadata": {},
   "outputs": [
    {
     "data": {
      "text/plain": [
       "[10002, 2, 3, 4, 5, 6, 7, 8, 9, 10]"
      ]
     },
     "execution_count": 92,
     "metadata": {},
     "output_type": "execute_result"
    }
   ],
   "source": [
    "my_list[0] = 10002\n",
    "my_list"
   ]
  },
  {
   "cell_type": "markdown",
   "id": "perceived-apache",
   "metadata": {},
   "source": [
    "List is mutable!"
   ]
  },
  {
   "cell_type": "code",
   "execution_count": 96,
   "id": "silver-check",
   "metadata": {},
   "outputs": [
    {
     "data": {
      "text/plain": [
       "[1, 2, 3, 4, 5, 6, 7, 8, 9, 10, 10]"
      ]
     },
     "execution_count": 96,
     "metadata": {},
     "output_type": "execute_result"
    }
   ],
   "source": [
    "my_list.append(10)\n",
    "my_list"
   ]
  },
  {
   "cell_type": "markdown",
   "id": "earlier-twist",
   "metadata": {},
   "source": [
    "<a id='Dictionary'></a>\n",
    "### Dictionary"
   ]
  },
  {
   "cell_type": "markdown",
   "id": "needed-thinking",
   "metadata": {},
   "source": [
    "It waorks like a mapping!"
   ]
  },
  {
   "cell_type": "code",
   "execution_count": 50,
   "id": "square-freeware",
   "metadata": {},
   "outputs": [],
   "source": [
    "mydict = {\"one\": 1, \"two\": 2, \"three\": 3}"
   ]
  },
  {
   "cell_type": "code",
   "execution_count": 52,
   "id": "charged-reservoir",
   "metadata": {},
   "outputs": [
    {
     "data": {
      "text/plain": [
       "1"
      ]
     },
     "execution_count": 52,
     "metadata": {},
     "output_type": "execute_result"
    }
   ],
   "source": [
    "mydict[\"one\"]"
   ]
  },
  {
   "cell_type": "code",
   "execution_count": 56,
   "id": "detailed-treasurer",
   "metadata": {},
   "outputs": [],
   "source": [
    "mydict = {\"one\": [1, 2, 3], \"two\": 2, \"three\": 3}"
   ]
  },
  {
   "cell_type": "markdown",
   "id": "opposite-limitation",
   "metadata": {},
   "source": [
    "But the following is not working! "
   ]
  },
  {
   "cell_type": "code",
   "execution_count": 58,
   "id": "aquatic-width",
   "metadata": {},
   "outputs": [
    {
     "ename": "TypeError",
     "evalue": "unhashable type: 'list'",
     "output_type": "error",
     "traceback": [
      "\u001b[0;31m---------------------------------------------------------------------------\u001b[0m",
      "\u001b[0;31mTypeError\u001b[0m                                 Traceback (most recent call last)",
      "\u001b[0;32m<ipython-input-58-0b238071aa4a>\u001b[0m in \u001b[0;36m<module>\u001b[0;34m\u001b[0m\n\u001b[0;32m----> 1\u001b[0;31m \u001b[0mmydict\u001b[0m \u001b[0;34m=\u001b[0m \u001b[0;34m{\u001b[0m\u001b[0;34m[\u001b[0m\u001b[0;36m1\u001b[0m\u001b[0;34m,\u001b[0m \u001b[0;36m2\u001b[0m\u001b[0;34m,\u001b[0m \u001b[0;36m3\u001b[0m\u001b[0;34m]\u001b[0m\u001b[0;34m:\u001b[0m \u001b[0;36m1\u001b[0m\u001b[0;34m,\u001b[0m \u001b[0;34m\"two\"\u001b[0m\u001b[0;34m:\u001b[0m \u001b[0;36m2\u001b[0m\u001b[0;34m,\u001b[0m \u001b[0;34m\"three\"\u001b[0m\u001b[0;34m:\u001b[0m \u001b[0;36m3\u001b[0m\u001b[0;34m}\u001b[0m\u001b[0;34m\u001b[0m\u001b[0;34m\u001b[0m\u001b[0m\n\u001b[0m",
      "\u001b[0;31mTypeError\u001b[0m: unhashable type: 'list'"
     ]
    }
   ],
   "source": [
    "mydict = {[1, 2, 3]: 1, \"two\": 2, \"three\": 3}"
   ]
  },
  {
   "cell_type": "markdown",
   "id": "unlimited-candidate",
   "metadata": {},
   "source": [
    "This is because list is not hash type! The mapped item should be of hash type, however, its map can be anything (list, dict, ...)!"
   ]
  },
  {
   "cell_type": "code",
   "execution_count": 75,
   "id": "graphic-slovak",
   "metadata": {},
   "outputs": [
    {
     "data": {
      "text/plain": [
       "{4: 1}"
      ]
     },
     "execution_count": 75,
     "metadata": {},
     "output_type": "execute_result"
    }
   ],
   "source": [
    "mydict = {4:1}\n",
    "mydict"
   ]
  },
  {
   "cell_type": "code",
   "execution_count": 76,
   "id": "coral-subscriber",
   "metadata": {},
   "outputs": [
    {
     "ename": "NameError",
     "evalue": "name 'my_int' is not defined",
     "output_type": "error",
     "traceback": [
      "\u001b[0;31m---------------------------------------------------------------------------\u001b[0m",
      "\u001b[0;31mNameError\u001b[0m                                 Traceback (most recent call last)",
      "\u001b[0;32m<ipython-input-76-c1f793af37f1>\u001b[0m in \u001b[0;36m<module>\u001b[0;34m\u001b[0m\n\u001b[0;32m----> 1\u001b[0;31m \u001b[0mmydict\u001b[0m \u001b[0;34m=\u001b[0m \u001b[0;34m{\u001b[0m\u001b[0mmy_int\u001b[0m\u001b[0;34m:\u001b[0m \u001b[0;36m1\u001b[0m\u001b[0;34m}\u001b[0m\u001b[0;34m\u001b[0m\u001b[0;34m\u001b[0m\u001b[0m\n\u001b[0m",
      "\u001b[0;31mNameError\u001b[0m: name 'my_int' is not defined"
     ]
    }
   ],
   "source": [
    "mydict = {my_int: 1}"
   ]
  },
  {
   "cell_type": "markdown",
   "id": "exterior-river",
   "metadata": {},
   "source": [
    "my_int should be defined! like: my_int = 4 "
   ]
  },
  {
   "cell_type": "markdown",
   "id": "neural-produce",
   "metadata": {},
   "source": [
    "<a id='Tuple'></a>\n",
    "### Tuple"
   ]
  },
  {
   "cell_type": "code",
   "execution_count": 79,
   "id": "unknown-reason",
   "metadata": {},
   "outputs": [],
   "source": [
    "mytuple = (1, 2, 3) "
   ]
  },
  {
   "cell_type": "code",
   "execution_count": 80,
   "id": "australian-netherlands",
   "metadata": {},
   "outputs": [
    {
     "data": {
      "text/plain": [
       "1"
      ]
     },
     "execution_count": 80,
     "metadata": {},
     "output_type": "execute_result"
    }
   ],
   "source": [
    "mytuple[0]"
   ]
  },
  {
   "cell_type": "code",
   "execution_count": 81,
   "id": "lined-barbados",
   "metadata": {},
   "outputs": [
    {
     "data": {
      "text/plain": [
       "(2, 3)"
      ]
     },
     "execution_count": 81,
     "metadata": {},
     "output_type": "execute_result"
    }
   ],
   "source": [
    "mytuple[1:]"
   ]
  },
  {
   "cell_type": "code",
   "execution_count": 83,
   "id": "ranking-freedom",
   "metadata": {},
   "outputs": [
    {
     "ename": "TypeError",
     "evalue": "'tuple' object does not support item assignment",
     "output_type": "error",
     "traceback": [
      "\u001b[0;31m---------------------------------------------------------------------------\u001b[0m",
      "\u001b[0;31mTypeError\u001b[0m                                 Traceback (most recent call last)",
      "\u001b[0;32m<ipython-input-83-4e527888818c>\u001b[0m in \u001b[0;36m<module>\u001b[0;34m\u001b[0m\n\u001b[0;32m----> 1\u001b[0;31m \u001b[0mmytuple\u001b[0m\u001b[0;34m[\u001b[0m\u001b[0;36m0\u001b[0m\u001b[0;34m]\u001b[0m \u001b[0;34m=\u001b[0m \u001b[0;36m100\u001b[0m\u001b[0;34m\u001b[0m\u001b[0;34m\u001b[0m\u001b[0m\n\u001b[0m",
      "\u001b[0;31mTypeError\u001b[0m: 'tuple' object does not support item assignment"
     ]
    }
   ],
   "source": [
    "mytuple[0] = 100"
   ]
  },
  {
   "cell_type": "markdown",
   "id": "developmental-holmes",
   "metadata": {},
   "source": [
    "tuple is the read-only version of list!"
   ]
  },
  {
   "cell_type": "markdown",
   "id": "conditional-russell",
   "metadata": {},
   "source": [
    "<a id='Set'></a>\n",
    "### Set"
   ]
  },
  {
   "cell_type": "markdown",
   "id": "active-shopper",
   "metadata": {},
   "source": [
    "It has unique items. The power of set comes from hash concept, same as dictionary! Hash makes every thing take place so fast!\n",
    "\n",
    "List is not hashable!"
   ]
  },
  {
   "cell_type": "code",
   "execution_count": 84,
   "id": "christian-surrey",
   "metadata": {},
   "outputs": [
    {
     "data": {
      "text/plain": [
       "{1, 2, 3, 4}"
      ]
     },
     "execution_count": 84,
     "metadata": {},
     "output_type": "execute_result"
    }
   ],
   "source": [
    "myset = {1, 1, 2, 2, 2, 2, 3, 3, 4}\n",
    "myset"
   ]
  },
  {
   "cell_type": "code",
   "execution_count": 85,
   "id": "limited-morgan",
   "metadata": {},
   "outputs": [
    {
     "ename": "TypeError",
     "evalue": "'set' object is not subscriptable",
     "output_type": "error",
     "traceback": [
      "\u001b[0;31m---------------------------------------------------------------------------\u001b[0m",
      "\u001b[0;31mTypeError\u001b[0m                                 Traceback (most recent call last)",
      "\u001b[0;32m<ipython-input-85-7bf1ad60f89f>\u001b[0m in \u001b[0;36m<module>\u001b[0;34m\u001b[0m\n\u001b[0;32m----> 1\u001b[0;31m \u001b[0mmyset\u001b[0m\u001b[0;34m[\u001b[0m\u001b[0;36m1\u001b[0m\u001b[0;34m]\u001b[0m\u001b[0;34m\u001b[0m\u001b[0;34m\u001b[0m\u001b[0m\n\u001b[0m",
      "\u001b[0;31mTypeError\u001b[0m: 'set' object is not subscriptable"
     ]
    }
   ],
   "source": [
    "myset[1]"
   ]
  },
  {
   "cell_type": "code",
   "execution_count": 88,
   "id": "wound-hamilton",
   "metadata": {},
   "outputs": [
    {
     "data": {
      "text/plain": [
       "{1, 2, 3, 4}"
      ]
     },
     "execution_count": 88,
     "metadata": {},
     "output_type": "execute_result"
    }
   ],
   "source": [
    "myset.add(1)\n",
    "myset"
   ]
  },
  {
   "cell_type": "markdown",
   "id": "saved-eleven",
   "metadata": {},
   "source": [
    "Since we are using hash function in set, the following is not acceptable:"
   ]
  },
  {
   "cell_type": "code",
   "execution_count": 89,
   "id": "vocal-inventory",
   "metadata": {},
   "outputs": [
    {
     "ename": "TypeError",
     "evalue": "unhashable type: 'list'",
     "output_type": "error",
     "traceback": [
      "\u001b[0;31m---------------------------------------------------------------------------\u001b[0m",
      "\u001b[0;31mTypeError\u001b[0m                                 Traceback (most recent call last)",
      "\u001b[0;32m<ipython-input-89-282fde444b59>\u001b[0m in \u001b[0;36m<module>\u001b[0;34m\u001b[0m\n\u001b[0;32m----> 1\u001b[0;31m \u001b[0mmyset\u001b[0m \u001b[0;34m=\u001b[0m \u001b[0;34m{\u001b[0m\u001b[0;34m[\u001b[0m\u001b[0;36m1\u001b[0m\u001b[0;34m,\u001b[0m \u001b[0;36m2\u001b[0m\u001b[0;34m]\u001b[0m\u001b[0;34m,\u001b[0m \u001b[0;36m3\u001b[0m\u001b[0;34m}\u001b[0m\u001b[0;34m\u001b[0m\u001b[0;34m\u001b[0m\u001b[0m\n\u001b[0m",
      "\u001b[0;31mTypeError\u001b[0m: unhashable type: 'list'"
     ]
    }
   ],
   "source": [
    "myset = {[1, 2], 3}"
   ]
  },
  {
   "cell_type": "code",
   "execution_count": 91,
   "id": "attempted-mineral",
   "metadata": {},
   "outputs": [
    {
     "data": {
      "text/plain": [
       "{1, 2, 3, 'one'}"
      ]
     },
     "execution_count": 91,
     "metadata": {},
     "output_type": "execute_result"
    }
   ],
   "source": [
    "myset = {1, 2, 3, \"one\", True}\n",
    "myset"
   ]
  },
  {
   "cell_type": "code",
   "execution_count": 111,
   "id": "young-oregon",
   "metadata": {},
   "outputs": [
    {
     "data": {
      "text/plain": [
       "True"
      ]
     },
     "execution_count": 111,
     "metadata": {},
     "output_type": "execute_result"
    }
   ],
   "source": [
    "set([1, 2, 3]) == set ([3, 2, 1])"
   ]
  },
  {
   "cell_type": "markdown",
   "id": "balanced-merit",
   "metadata": {},
   "source": [
    "<a id='Frozen_Set'></a>\n",
    "#### Frozen Set \n",
    "\n",
    "for future"
   ]
  },
  {
   "cell_type": "code",
   "execution_count": null,
   "id": "resident-baker",
   "metadata": {},
   "outputs": [],
   "source": []
  }
 ],
 "metadata": {
  "kernelspec": {
   "display_name": "Python 3",
   "language": "python",
   "name": "python3"
  },
  "language_info": {
   "codemirror_mode": {
    "name": "ipython",
    "version": 3
   },
   "file_extension": ".py",
   "mimetype": "text/x-python",
   "name": "python",
   "nbconvert_exporter": "python",
   "pygments_lexer": "ipython3",
   "version": "3.7.9"
  }
 },
 "nbformat": 4,
 "nbformat_minor": 5
}
