{
 "cells": [
  {
   "cell_type": "markdown",
   "id": "bulgarian-response",
   "metadata": {},
   "source": [
    "# 02.2-Advanced Data Types\n",
    "\n",
    "<a id='Table_of_Contents'></a>\n",
    "## Table of Contents:\n",
    "\n",
    "* [Table of Contents](#Table_of_Contents)"
   ]
  },
  {
   "cell_type": "code",
   "execution_count": 2,
   "id": "prompt-textbook",
   "metadata": {},
   "outputs": [
    {
     "data": {
      "text/plain": [
       "([1, 2, 3], 4, 'Mohsen')"
      ]
     },
     "execution_count": 2,
     "metadata": {},
     "output_type": "execute_result"
    }
   ],
   "source": [
    "x, y, z = [1, 2, 3], 4, \"Mohsen\"\n",
    "x, y, z"
   ]
  },
  {
   "cell_type": "code",
   "execution_count": 10,
   "id": "judicial-chest",
   "metadata": {},
   "outputs": [
    {
     "data": {
      "text/plain": [
       "([1, 2, 3, 1, 2, 3, 1, 2, 3], ['1', '2', '3', '1', '2', '3', '1', '2', '3'])"
      ]
     },
     "execution_count": 10,
     "metadata": {},
     "output_type": "execute_result"
    }
   ],
   "source": [
    "x, y = [1, 2, 3], [\"1\", \"2\", \"3\"]\n",
    "x*3, y*3"
   ]
  },
  {
   "cell_type": "markdown",
   "id": "executed-preserve",
   "metadata": {},
   "source": [
    "List is not for mathematical or numerical operations!"
   ]
  },
  {
   "cell_type": "code",
   "execution_count": 9,
   "id": "different-atlanta",
   "metadata": {},
   "outputs": [
    {
     "data": {
      "text/plain": [
       "array([2, 4, 6])"
      ]
     },
     "execution_count": 9,
     "metadata": {},
     "output_type": "execute_result"
    }
   ],
   "source": [
    "import numpy as np\n",
    "array = np.array([1, 2, 3])\n",
    "array*3"
   ]
  },
  {
   "cell_type": "code",
   "execution_count": 11,
   "id": "adolescent-spine",
   "metadata": {},
   "outputs": [],
   "source": [
    "mytuple = (1, 2, 3)"
   ]
  },
  {
   "cell_type": "markdown",
   "id": "conscious-comparative",
   "metadata": {},
   "source": [
    "now define a tuple with the length of 1!"
   ]
  },
  {
   "cell_type": "code",
   "execution_count": 13,
   "id": "local-photography",
   "metadata": {},
   "outputs": [
    {
     "data": {
      "text/plain": [
       "int"
      ]
     },
     "execution_count": 13,
     "metadata": {},
     "output_type": "execute_result"
    }
   ],
   "source": [
    "mytuple = (1)\n",
    "type(mytuple)"
   ]
  },
  {
   "cell_type": "code",
   "execution_count": 18,
   "id": "frozen-cache",
   "metadata": {},
   "outputs": [
    {
     "data": {
      "text/plain": [
       "tuple"
      ]
     },
     "execution_count": 18,
     "metadata": {},
     "output_type": "execute_result"
    }
   ],
   "source": [
    "mytuple = (1, )\n",
    "type(mytuple)"
   ]
  },
  {
   "cell_type": "code",
   "execution_count": 16,
   "id": "proud-richmond",
   "metadata": {},
   "outputs": [
    {
     "data": {
      "text/plain": [
       "tuple"
      ]
     },
     "execution_count": 16,
     "metadata": {},
     "output_type": "execute_result"
    }
   ],
   "source": [
    "mytuple = tuple([1])\n",
    "mytuple\n",
    "type(mytuple)"
   ]
  },
  {
   "cell_type": "markdown",
   "id": "coral-inventory",
   "metadata": {},
   "source": [
    "but the following is not working! since int object is not iterable! Inside the function should be iterable!"
   ]
  },
  {
   "cell_type": "code",
   "execution_count": 54,
   "id": "unlike-briefs",
   "metadata": {},
   "outputs": [
    {
     "ename": "TypeError",
     "evalue": "'int' object is not iterable",
     "output_type": "error",
     "traceback": [
      "\u001b[0;31m---------------------------------------------------------------------------\u001b[0m",
      "\u001b[0;31mTypeError\u001b[0m                                 Traceback (most recent call last)",
      "\u001b[0;32m<ipython-input-54-05ebd16dd5a7>\u001b[0m in \u001b[0;36m<module>\u001b[0;34m\u001b[0m\n\u001b[0;32m----> 1\u001b[0;31m \u001b[0mmytuple\u001b[0m \u001b[0;34m=\u001b[0m \u001b[0mtuple\u001b[0m\u001b[0;34m(\u001b[0m\u001b[0;36m1\u001b[0m\u001b[0;34m)\u001b[0m\u001b[0;34m\u001b[0m\u001b[0;34m\u001b[0m\u001b[0m\n\u001b[0m",
      "\u001b[0;31mTypeError\u001b[0m: 'int' object is not iterable"
     ]
    }
   ],
   "source": [
    "mytuple = tuple(1)"
   ]
  },
  {
   "cell_type": "markdown",
   "id": "modern-grass",
   "metadata": {},
   "source": [
    "string is iterable! So:"
   ]
  },
  {
   "cell_type": "code",
   "execution_count": 49,
   "id": "rolled-miracle",
   "metadata": {},
   "outputs": [
    {
     "data": {
      "text/plain": [
       "('a', 'l', 'i')"
      ]
     },
     "execution_count": 49,
     "metadata": {},
     "output_type": "execute_result"
    }
   ],
   "source": [
    "mytuple = tuple(\"ali\")\n",
    "mytuple"
   ]
  },
  {
   "cell_type": "code",
   "execution_count": 55,
   "id": "offshore-participation",
   "metadata": {},
   "outputs": [
    {
     "data": {
      "text/plain": [
       "(1, 2, 3)"
      ]
     },
     "execution_count": 55,
     "metadata": {},
     "output_type": "execute_result"
    }
   ],
   "source": [
    "mytuple = tuple([1,2,3])\n",
    "mytuple"
   ]
  },
  {
   "cell_type": "code",
   "execution_count": 58,
   "id": "controlled-entry",
   "metadata": {},
   "outputs": [
    {
     "data": {
      "text/plain": [
       "['A', 'l', 'i', ' ', 'h', 'e', 'j', 'a', 'z', 'i']"
      ]
     },
     "execution_count": 58,
     "metadata": {},
     "output_type": "execute_result"
    }
   ],
   "source": [
    "mylist = list(\"Ali hejazi\")\n",
    "mylist"
   ]
  },
  {
   "cell_type": "code",
   "execution_count": 8,
   "id": "amazing-verse",
   "metadata": {},
   "outputs": [
    {
     "data": {
      "text/plain": [
       "{1, 2, 3}"
      ]
     },
     "execution_count": 8,
     "metadata": {},
     "output_type": "execute_result"
    }
   ],
   "source": [
    "myset = set([1,2,3])\n",
    "myset"
   ]
  },
  {
   "cell_type": "markdown",
   "id": "major-sacrifice",
   "metadata": {},
   "source": [
    "**Note:** set does not have order, but it is iterable! So we can write:"
   ]
  },
  {
   "cell_type": "code",
   "execution_count": 9,
   "id": "insured-startup",
   "metadata": {},
   "outputs": [
    {
     "data": {
      "text/plain": [
       "(1, 2, 3)"
      ]
     },
     "execution_count": 9,
     "metadata": {},
     "output_type": "execute_result"
    }
   ],
   "source": [
    "mytuple = tuple(myset)\n",
    "mytuple"
   ]
  },
  {
   "cell_type": "code",
   "execution_count": 10,
   "id": "stuck-commander",
   "metadata": {},
   "outputs": [
    {
     "data": {
      "text/plain": [
       "(int, list)"
      ]
     },
     "execution_count": 10,
     "metadata": {},
     "output_type": "execute_result"
    }
   ],
   "source": [
    "type((10)), type([10])"
   ]
  },
  {
   "cell_type": "markdown",
   "id": "muslim-football",
   "metadata": {},
   "source": [
    "**Join function:**"
   ]
  },
  {
   "cell_type": "code",
   "execution_count": 23,
   "id": "public-rehabilitation",
   "metadata": {},
   "outputs": [],
   "source": [
    "my_list = [\"My\", \"name\", \"is\", \"Mohsen\"]"
   ]
  },
  {
   "cell_type": "code",
   "execution_count": 24,
   "id": "polar-regular",
   "metadata": {},
   "outputs": [
    {
     "data": {
      "text/plain": [
       "'MynameisMohsen'"
      ]
     },
     "execution_count": 24,
     "metadata": {},
     "output_type": "execute_result"
    }
   ],
   "source": [
    "\"\".join(my_list)"
   ]
  },
  {
   "cell_type": "code",
   "execution_count": 25,
   "id": "emerging-tribe",
   "metadata": {},
   "outputs": [
    {
     "data": {
      "text/plain": [
       "'My name is Mohsen'"
      ]
     },
     "execution_count": 25,
     "metadata": {},
     "output_type": "execute_result"
    }
   ],
   "source": [
    "\" \".join(my_list)"
   ]
  },
  {
   "cell_type": "code",
   "execution_count": 26,
   "id": "general-exclusion",
   "metadata": {},
   "outputs": [
    {
     "data": {
      "text/plain": [
       "'My--name--is--Mohsen'"
      ]
     },
     "execution_count": 26,
     "metadata": {},
     "output_type": "execute_result"
    }
   ],
   "source": [
    "\"--\".join(my_list)"
   ]
  },
  {
   "cell_type": "code",
   "execution_count": 29,
   "id": "genuine-douglas",
   "metadata": {},
   "outputs": [
    {
     "name": "stdout",
     "output_type": "stream",
     "text": [
      "My\n",
      "name\n",
      "is\n",
      "Mohsen\n"
     ]
    }
   ],
   "source": [
    "print(\"\\n\".join(my_list))"
   ]
  },
  {
   "cell_type": "markdown",
   "id": "optional-vancouver",
   "metadata": {},
   "source": [
    "**raw print:**"
   ]
  },
  {
   "cell_type": "code",
   "execution_count": 37,
   "id": "industrial-crowd",
   "metadata": {},
   "outputs": [
    {
     "name": "stdout",
     "output_type": "stream",
     "text": [
      "\\nali\n"
     ]
    }
   ],
   "source": [
    "mystr = r\"\\nali\"\n",
    "print(mystr)"
   ]
  },
  {
   "cell_type": "code",
   "execution_count": 40,
   "id": "accredited-cliff",
   "metadata": {},
   "outputs": [],
   "source": [
    "myitems = [\"apple\", \"banana\", \"pear\"]"
   ]
  },
  {
   "cell_type": "code",
   "execution_count": 43,
   "id": "dental-video",
   "metadata": {},
   "outputs": [
    {
     "name": "stdout",
     "output_type": "stream",
     "text": [
      "found it!\n"
     ]
    }
   ],
   "source": [
    "if \"apple\" in myitems:\n",
    "    print(\"found it!\")"
   ]
  },
  {
   "cell_type": "markdown",
   "id": "solar-optimization",
   "metadata": {},
   "source": [
    "**Built-in python search:**"
   ]
  },
  {
   "cell_type": "code",
   "execution_count": 46,
   "id": "popular-cattle",
   "metadata": {},
   "outputs": [
    {
     "name": "stdout",
     "output_type": "stream",
     "text": [
      "True\n"
     ]
    }
   ],
   "source": [
    "print(\"apple\" in myitems)"
   ]
  },
  {
   "cell_type": "markdown",
   "id": "stable-helena",
   "metadata": {},
   "source": [
    "index function gives the first found item in the list"
   ]
  },
  {
   "cell_type": "code",
   "execution_count": 45,
   "id": "sensitive-humanity",
   "metadata": {},
   "outputs": [
    {
     "data": {
      "text/plain": [
       "1"
      ]
     },
     "execution_count": 45,
     "metadata": {},
     "output_type": "execute_result"
    }
   ],
   "source": [
    "myitems.index(\"banana\")"
   ]
  },
  {
   "cell_type": "markdown",
   "id": "changing-spray",
   "metadata": {},
   "source": [
    "**Range:**\n",
    "\n",
    "it is similar to list"
   ]
  },
  {
   "cell_type": "code",
   "execution_count": 72,
   "id": "forty-willow",
   "metadata": {},
   "outputs": [
    {
     "data": {
      "text/plain": [
       "range(0, 10, 2)"
      ]
     },
     "execution_count": 72,
     "metadata": {},
     "output_type": "execute_result"
    }
   ],
   "source": [
    "start = 0\n",
    "end = 10\n",
    "step = 2\n",
    "range(start,end,step) #end is exclusive!"
   ]
  },
  {
   "cell_type": "code",
   "execution_count": 69,
   "id": "consecutive-interaction",
   "metadata": {},
   "outputs": [
    {
     "name": "stdout",
     "output_type": "stream",
     "text": [
      "0\n",
      "1\n",
      "2\n",
      "3\n",
      "4\n",
      "5\n",
      "6\n",
      "7\n",
      "8\n",
      "9\n"
     ]
    }
   ],
   "source": [
    "for item in range(10):\n",
    "    print(item)"
   ]
  },
  {
   "cell_type": "code",
   "execution_count": 70,
   "id": "exterior-raising",
   "metadata": {},
   "outputs": [
    {
     "name": "stdout",
     "output_type": "stream",
     "text": [
      "0\n",
      "1\n",
      "2\n",
      "3\n",
      "4\n",
      "5\n",
      "6\n",
      "7\n",
      "8\n",
      "9\n"
     ]
    }
   ],
   "source": [
    "for item in [0,1,2,3,4,5,6,7,8,9]:\n",
    "    print(item)"
   ]
  },
  {
   "cell_type": "markdown",
   "id": "durable-edwards",
   "metadata": {},
   "source": [
    "range is iterable! so we can define it in list function to generate a list:"
   ]
  },
  {
   "cell_type": "code",
   "execution_count": 74,
   "id": "proud-moderator",
   "metadata": {},
   "outputs": [
    {
     "data": {
      "text/plain": [
       "[0, 1, 2, 3, 4, 5, 6, 7, 8, 9]"
      ]
     },
     "execution_count": 74,
     "metadata": {},
     "output_type": "execute_result"
    }
   ],
   "source": [
    "list(range(10))"
   ]
  },
  {
   "cell_type": "markdown",
   "id": "confident-russian",
   "metadata": {},
   "source": [
    "If we go with list(range(10000000)), it takes a very longer time than range(10000000):"
   ]
  },
  {
   "cell_type": "code",
   "execution_count": null,
   "id": "everyday-saturn",
   "metadata": {},
   "outputs": [],
   "source": [
    "n = 100000\n",
    "list(range(n))\n",
    "range(n)"
   ]
  },
  {
   "cell_type": "markdown",
   "id": "sonic-davis",
   "metadata": {},
   "source": [
    "you can try:"
   ]
  },
  {
   "cell_type": "code",
   "execution_count": null,
   "id": "formed-burns",
   "metadata": {},
   "outputs": [],
   "source": [
    "n = 100000\n",
    "for item in range(n):\n",
    "    pass"
   ]
  },
  {
   "cell_type": "code",
   "execution_count": null,
   "id": "suspended-signal",
   "metadata": {},
   "outputs": [],
   "source": [
    "n = 100000000000000\n",
    "for item in list(range(n)):\n",
    "    pass"
   ]
  },
  {
   "cell_type": "markdown",
   "id": "standing-comedy",
   "metadata": {},
   "source": [
    "Reason: contrary to list which will take as many memory cell as it has item, the range take only one memory cell!\n",
    "\n",
    "In range, contrary to list, we do not save the whole list!"
   ]
  },
  {
   "cell_type": "code",
   "execution_count": 23,
   "id": "peripheral-sheet",
   "metadata": {},
   "outputs": [],
   "source": [
    "list_1 = [1, 2, 3, 4]"
   ]
  },
  {
   "cell_type": "markdown",
   "id": "decreased-pathology",
   "metadata": {},
   "source": [
    "Pass by reference (pointer assingment):"
   ]
  },
  {
   "cell_type": "code",
   "execution_count": 24,
   "id": "convenient-tunisia",
   "metadata": {},
   "outputs": [],
   "source": [
    "list_2 = list_1"
   ]
  },
  {
   "cell_type": "markdown",
   "id": "furnished-dakota",
   "metadata": {},
   "source": [
    "Pass by value (value/content assignment): it takes more memory cells"
   ]
  },
  {
   "cell_type": "code",
   "execution_count": 3,
   "id": "interstate-philadelphia",
   "metadata": {},
   "outputs": [],
   "source": [
    "list_3 = list_1[:]"
   ]
  },
  {
   "cell_type": "code",
   "execution_count": 13,
   "id": "perceived-spray",
   "metadata": {},
   "outputs": [
    {
     "data": {
      "text/plain": [
       "([10, 2, 8, 4], [10, 2, 8, 4], [1, 2, 16, 4])"
      ]
     },
     "execution_count": 13,
     "metadata": {},
     "output_type": "execute_result"
    }
   ],
   "source": [
    "list_1[0] = 10\n",
    "list_1, list_2, list_3"
   ]
  },
  {
   "cell_type": "code",
   "execution_count": 14,
   "id": "arabic-power",
   "metadata": {},
   "outputs": [
    {
     "data": {
      "text/plain": [
       "([10, 2, 8, 4], [10, 2, 8, 4], [1, 2, 16, 4])"
      ]
     },
     "execution_count": 14,
     "metadata": {},
     "output_type": "execute_result"
    }
   ],
   "source": [
    "list_2[2], list_3[2] = 8, 16 \n",
    "list_1, list_2, list_3"
   ]
  },
  {
   "cell_type": "markdown",
   "id": "committed-outline",
   "metadata": {},
   "source": [
    "However, for string:"
   ]
  },
  {
   "cell_type": "code",
   "execution_count": 17,
   "id": "prostate-waterproof",
   "metadata": {},
   "outputs": [],
   "source": [
    "str_1 = \"ali\""
   ]
  },
  {
   "cell_type": "code",
   "execution_count": 19,
   "id": "dependent-papua",
   "metadata": {},
   "outputs": [],
   "source": [
    "str_2 = str_1"
   ]
  },
  {
   "cell_type": "code",
   "execution_count": 20,
   "id": "median-spanking",
   "metadata": {},
   "outputs": [],
   "source": [
    "str_3 = str_1[:]"
   ]
  },
  {
   "cell_type": "code",
   "execution_count": 21,
   "id": "funky-injury",
   "metadata": {},
   "outputs": [
    {
     "data": {
      "text/plain": [
       "('mohsen', 'ali', 'ali')"
      ]
     },
     "execution_count": 21,
     "metadata": {},
     "output_type": "execute_result"
    }
   ],
   "source": [
    "str_1 = \"mohsen\"\n",
    "str_1, str_2, str_3"
   ]
  },
  {
   "cell_type": "code",
   "execution_count": 22,
   "id": "supreme-exposure",
   "metadata": {},
   "outputs": [
    {
     "data": {
      "text/plain": [
       "('mohsen', 'reza', 'hamid')"
      ]
     },
     "execution_count": 22,
     "metadata": {},
     "output_type": "execute_result"
    }
   ],
   "source": [
    "str_2, str_3 = \"reza\", \"hamid\"\n",
    "str_1, str_2, str_3"
   ]
  },
  {
   "cell_type": "markdown",
   "id": "refined-brother",
   "metadata": {},
   "source": [
    "Integers, strings are always pass by value!"
   ]
  },
  {
   "cell_type": "markdown",
   "id": "coastal-deficit",
   "metadata": {},
   "source": [
    "List, dictionary, set, tuple are pass by reference!"
   ]
  },
  {
   "cell_type": "code",
   "execution_count": null,
   "id": "catholic-insight",
   "metadata": {},
   "outputs": [],
   "source": []
  }
 ],
 "metadata": {
  "kernelspec": {
   "display_name": "Python 3",
   "language": "python",
   "name": "python3"
  },
  "language_info": {
   "codemirror_mode": {
    "name": "ipython",
    "version": 3
   },
   "file_extension": ".py",
   "mimetype": "text/x-python",
   "name": "python",
   "nbconvert_exporter": "python",
   "pygments_lexer": "ipython3",
   "version": "3.7.10"
  }
 },
 "nbformat": 4,
 "nbformat_minor": 5
}
