{
 "cells": [
  {
   "cell_type": "markdown",
   "id": "disabled-niagara",
   "metadata": {},
   "source": [
    "# 03-Functions\n",
    "\n",
    "<a id='Table_of_Contents'></a>\n",
    "## Table of Contents:\n",
    "\n",
    "* [Table of Contents](#Table_of_Contents)\n",
    "* [Part I](#PartI)\n",
    "    - [Positional variables/arguments](#Positional_variables)\n",
    "    - [Partial variables/arguments](#Named_variables)\n",
    "    - [Partial variables/arguments](#Partial_variables)\n",
    "    - [Default value](#Default_value)\n",
    "    - [Infinite positional](#Infinite_positional)\n",
    "    - [Infinite named (keyword)](#Infinite_named)\n",
    "* [Part II](#PartII)\n",
    "    - [Integer](#Integer)\n",
    "    - [List](#List)\n",
    "    - [Pass-by-value VS pass-by-reference](#Pass)\n",
    "        - [Pass by value](#Pass_by_value)\n",
    "        - [Pass by reference](#Pass_by_reference)\n",
    "* [Some useful functions](#Some_useful_functions)\n",
    "    - [Convert float and int](#float_int)\n",
    "    - [String](#String)\n",
    "    - [Multiple Outputs](#Multiple_Outputs)"
   ]
  },
  {
   "cell_type": "markdown",
   "id": "nearby-brick",
   "metadata": {},
   "source": [
    "<a id='PartI'></a>\n",
    "## Part I:"
   ]
  },
  {
   "cell_type": "code",
   "execution_count": 27,
   "id": "printable-myrtle",
   "metadata": {},
   "outputs": [],
   "source": [
    "def func(input): # input to function can be ANYTHING even another function!\n",
    "    # code\n",
    "    return output"
   ]
  },
  {
   "cell_type": "markdown",
   "id": "standard-relaxation",
   "metadata": {},
   "source": [
    "###### Watch the space in funtion environment!"
   ]
  },
  {
   "cell_type": "code",
   "execution_count": 28,
   "id": "scenic-french",
   "metadata": {},
   "outputs": [
    {
     "data": {
      "text/plain": [
       "11"
      ]
     },
     "execution_count": 28,
     "metadata": {},
     "output_type": "execute_result"
    }
   ],
   "source": [
    "def sum1(a, b):\n",
    "    c= a + b + 8\n",
    "    return c\n",
    "\n",
    "sum1(2, 1)\n",
    "    \n",
    "x = 2\n",
    "y = 1\n",
    "sum1(x, y)"
   ]
  },
  {
   "cell_type": "markdown",
   "id": "surface-holiday",
   "metadata": {},
   "source": [
    "Note: a,b,care defined locally (within function environment)"
   ]
  },
  {
   "cell_type": "code",
   "execution_count": 29,
   "id": "running-stuart",
   "metadata": {},
   "outputs": [
    {
     "ename": "NameError",
     "evalue": "name 'a' is not defined",
     "output_type": "error",
     "traceback": [
      "\u001b[0;31m---------------------------------------------------------------------------\u001b[0m",
      "\u001b[0;31mNameError\u001b[0m                                 Traceback (most recent call last)",
      "\u001b[0;32m<ipython-input-29-7adbf16321d1>\u001b[0m in \u001b[0;36m<module>\u001b[0;34m\u001b[0m\n\u001b[0;32m----> 1\u001b[0;31m \u001b[0mprint\u001b[0m\u001b[0;34m(\u001b[0m\u001b[0ma\u001b[0m\u001b[0;34m,\u001b[0m\u001b[0mb\u001b[0m\u001b[0;34m,\u001b[0m\u001b[0mc\u001b[0m\u001b[0;34m)\u001b[0m\u001b[0;34m\u001b[0m\u001b[0;34m\u001b[0m\u001b[0m\n\u001b[0m",
      "\u001b[0;31mNameError\u001b[0m: name 'a' is not defined"
     ]
    }
   ],
   "source": [
    "print(a,b,c)"
   ]
  },
  {
   "cell_type": "code",
   "execution_count": 30,
   "id": "prepared-nightlife",
   "metadata": {},
   "outputs": [],
   "source": [
    "def diff(a, b, power):\n",
    "    \n",
    "    return (a - b) ** power"
   ]
  },
  {
   "cell_type": "markdown",
   "id": "connected-illinois",
   "metadata": {},
   "source": [
    "<a id='Positional_variables'></a>\n",
    "### Positional variables/arguments\n",
    "\n",
    "Pass the arguments through their positions. Thus: Order DOES matter"
   ]
  },
  {
   "cell_type": "code",
   "execution_count": 31,
   "id": "fiscal-grill",
   "metadata": {},
   "outputs": [
    {
     "name": "stdout",
     "output_type": "stream",
     "text": [
      "6561\n",
      "7776\n"
     ]
    }
   ],
   "source": [
    "print(diff(5, 2, 8))\n",
    "print(diff(8, 2, 5))"
   ]
  },
  {
   "cell_type": "markdown",
   "id": "hourly-virgin",
   "metadata": {},
   "source": [
    "<a id='Named_variables'></a>\n",
    "### Named variables/arguments \n",
    "\n",
    "Pass the arguments through their names. Thus: Order does NOT matter"
   ]
  },
  {
   "cell_type": "code",
   "execution_count": 32,
   "id": "still-infrastructure",
   "metadata": {},
   "outputs": [
    {
     "name": "stdout",
     "output_type": "stream",
     "text": [
      "6561\n",
      "6561\n"
     ]
    }
   ],
   "source": [
    "x = 5\n",
    "y = 2\n",
    "power = 8\n",
    "print(diff(a=x, b=y, power=power)) \n",
    "print(diff(power=power, b=y, a=x))"
   ]
  },
  {
   "cell_type": "markdown",
   "id": "previous-diagnosis",
   "metadata": {},
   "source": [
    "<a id='Partial_variables'></a>\n",
    "### Partial variables/arguments\n",
    "\n",
    "The positional variables should come first!"
   ]
  },
  {
   "cell_type": "code",
   "execution_count": 33,
   "id": "naval-wrong",
   "metadata": {},
   "outputs": [
    {
     "data": {
      "text/plain": [
       "6561"
      ]
     },
     "execution_count": 33,
     "metadata": {},
     "output_type": "execute_result"
    }
   ],
   "source": [
    "y = 2\n",
    "power = 8\n",
    "diff(5, b=y, power=power)"
   ]
  },
  {
   "cell_type": "code",
   "execution_count": 34,
   "id": "removed-palmer",
   "metadata": {},
   "outputs": [
    {
     "ename": "SyntaxError",
     "evalue": "positional argument follows keyword argument (<ipython-input-34-cf0542ca7ef2>, line 3)",
     "output_type": "error",
     "traceback": [
      "\u001b[0;36m  File \u001b[0;32m\"<ipython-input-34-cf0542ca7ef2>\"\u001b[0;36m, line \u001b[0;32m3\u001b[0m\n\u001b[0;31m    diff(a=x, b=y, 8)\u001b[0m\n\u001b[0m                  ^\u001b[0m\n\u001b[0;31mSyntaxError\u001b[0m\u001b[0;31m:\u001b[0m positional argument follows keyword argument\n"
     ]
    }
   ],
   "source": [
    "x = 5\n",
    "y = 2\n",
    "diff(a=x, b=y, 8)"
   ]
  },
  {
   "cell_type": "code",
   "execution_count": 35,
   "id": "small-twenty",
   "metadata": {},
   "outputs": [
    {
     "data": {
      "text/plain": [
       "'Ali Hejazi'"
      ]
     },
     "execution_count": 35,
     "metadata": {},
     "output_type": "execute_result"
    }
   ],
   "source": [
    "def concatenate(str_1, str_2):\n",
    "    str_3 = str_1 + \" \" + str_2\n",
    "    return str_3\n",
    "\n",
    "concatenate(\"Ali\", \"Hejazi\")"
   ]
  },
  {
   "cell_type": "code",
   "execution_count": 36,
   "id": "lucky-banks",
   "metadata": {},
   "outputs": [
    {
     "data": {
      "text/plain": [
       "[4, 1, 2, 3, 4]"
      ]
     },
     "execution_count": 36,
     "metadata": {},
     "output_type": "execute_result"
    }
   ],
   "source": [
    "def change_list(mylist):\n",
    "    mylist[0] = mylist[-1]\n",
    "    return mylist\n",
    "\n",
    "change_list([0,1,2,3,4])"
   ]
  },
  {
   "cell_type": "code",
   "execution_count": 37,
   "id": "seven-damage",
   "metadata": {},
   "outputs": [
    {
     "data": {
      "text/plain": [
       "[0, 1, 2, 3, 9999]"
      ]
     },
     "execution_count": 37,
     "metadata": {},
     "output_type": "execute_result"
    }
   ],
   "source": [
    "def change_list(mylist, index, value):\n",
    "    mylist[index] = value\n",
    "    return mylist\n",
    "\n",
    "change_list(mylist=[0,1,2,3,4], index=-1, value=9999)"
   ]
  },
  {
   "cell_type": "code",
   "execution_count": 38,
   "id": "small-communist",
   "metadata": {},
   "outputs": [
    {
     "name": "stdout",
     "output_type": "stream",
     "text": [
      "Mohsen\n",
      "is\n",
      "playing\n",
      "mafia\n",
      "every\n",
      "week\n"
     ]
    }
   ],
   "source": [
    "def tokenize(sentence):\n",
    "    words = sentence.split()\n",
    "    return \"\\n\".join(words)\n",
    "\n",
    "sentence = \"Mohsen is playing mafia every week\"\n",
    "print(tokenize(sentence=sentence))  "
   ]
  },
  {
   "cell_type": "markdown",
   "id": "least-alberta",
   "metadata": {},
   "source": [
    "<a id='Default_value'></a>\n",
    "### Default value"
   ]
  },
  {
   "cell_type": "code",
   "execution_count": 39,
   "id": "received-profile",
   "metadata": {},
   "outputs": [
    {
     "name": "stdout",
     "output_type": "stream",
     "text": [
      "4\n",
      "5\n",
      "9\n"
     ]
    }
   ],
   "source": [
    "def sum1(a=1, b=3):\n",
    "    return a + b\n",
    "\n",
    "print(sum1())\n",
    "print(sum1(2))\n",
    "print(sum1(2, 7))"
   ]
  },
  {
   "cell_type": "markdown",
   "id": "neural-february",
   "metadata": {},
   "source": [
    "`None` value is used to make a variable optional!"
   ]
  },
  {
   "cell_type": "code",
   "execution_count": 40,
   "id": "apparent-parker",
   "metadata": {},
   "outputs": [
    {
     "data": {
      "text/plain": [
       "8"
      ]
     },
     "execution_count": 40,
     "metadata": {},
     "output_type": "execute_result"
    }
   ],
   "source": [
    "def sum1(a=1, b=3, c=None):\n",
    "    \n",
    "    output = a + b\n",
    "    if c:\n",
    "        output = output + c\n",
    "        \n",
    "    return output\n",
    "\n",
    "sum1(1, 2, 5)"
   ]
  },
  {
   "cell_type": "code",
   "execution_count": 41,
   "id": "liberal-atlantic",
   "metadata": {},
   "outputs": [],
   "source": [
    "if None: \n",
    "    print(\"never comes here\")"
   ]
  },
  {
   "cell_type": "markdown",
   "id": "hollywood-savannah",
   "metadata": {},
   "source": [
    "<a id='Infinite_positional'></a>\n",
    "### Infinite positional"
   ]
  },
  {
   "cell_type": "code",
   "execution_count": 2,
   "id": "encouraging-clarity",
   "metadata": {},
   "outputs": [
    {
     "data": {
      "text/plain": [
       "(1, 3, 10)"
      ]
     },
     "execution_count": 2,
     "metadata": {},
     "output_type": "execute_result"
    }
   ],
   "source": [
    "def sum1(*args):\n",
    "    summation = 0\n",
    "    for num in args:\n",
    "        summation += num\n",
    "    return summation\n",
    "\n",
    "sum1(1), sum1(1,2), sum1(1,2,3,4)"
   ]
  },
  {
   "cell_type": "code",
   "execution_count": 34,
   "id": "steady-fiber",
   "metadata": {},
   "outputs": [
    {
     "data": {
      "text/plain": [
       "(144, 144)"
      ]
     },
     "execution_count": 34,
     "metadata": {},
     "output_type": "execute_result"
    }
   ],
   "source": [
    "def sum1(*args): \n",
    "    return sum([num for num in args])\n",
    "\n",
    "sum1(1,2,30,111), sum1(*(1,2,30,111)) # * here is exactly unpacking"
   ]
  },
  {
   "cell_type": "markdown",
   "id": "sensitive-singing",
   "metadata": {},
   "source": [
    "**Note**: sum will be overwritten on the the python built-in ```sum``` function!"
   ]
  },
  {
   "cell_type": "markdown",
   "id": "floral-chick",
   "metadata": {},
   "source": [
    "<a id='Infinite_named'></a>\n",
    "### Infinite named (keyword)"
   ]
  },
  {
   "cell_type": "code",
   "execution_count": 8,
   "id": "sitting-johnson",
   "metadata": {},
   "outputs": [
    {
     "name": "stdout",
     "output_type": "stream",
     "text": [
      "Mohsen\n",
      "Mohsen\n",
      "Mohsen\n"
     ]
    }
   ],
   "source": [
    "def func(**kwargs):\n",
    "    print(kwargs['fname'])\n",
    "    print(list(kwargs.values())[0])\n",
    "    print(list(kwargs.items())[0][1])\n",
    "    \n",
    "func(fname = 'Mohsen', lname = 'Ghodrat')"
   ]
  },
  {
   "cell_type": "code",
   "execution_count": 27,
   "id": "congressional-croatia",
   "metadata": {},
   "outputs": [
    {
     "data": {
      "text/plain": [
       "{'fname': 'Mohsen', 'lname': 'Ghodrat'}"
      ]
     },
     "execution_count": 27,
     "metadata": {},
     "output_type": "execute_result"
    }
   ],
   "source": [
    "dict(fname = 'Mohsen', lname = 'Ghodrat')"
   ]
  },
  {
   "cell_type": "markdown",
   "id": "freelance-disney",
   "metadata": {},
   "source": [
    "func({'fname': 'Mohsen', 'lname': 'Ghodrat'})"
   ]
  },
  {
   "cell_type": "code",
   "execution_count": 21,
   "id": "multiple-basement",
   "metadata": {},
   "outputs": [
    {
     "name": "stdout",
     "output_type": "stream",
     "text": [
      "Mohsen\n",
      "Mohsen\n",
      "Mohsen\n"
     ]
    }
   ],
   "source": [
    "func(**{'fname': 'Mohsen', 'lname': 'Ghodrat'}) # ** here is exactly unpacking"
   ]
  },
  {
   "cell_type": "markdown",
   "id": "awful-detective",
   "metadata": {},
   "source": [
    "**Argument unpacking:**"
   ]
  },
  {
   "cell_type": "code",
   "execution_count": 52,
   "id": "fleet-cocktail",
   "metadata": {},
   "outputs": [],
   "source": [
    "def myfunc(*args, **kwargs):\n",
    "    print(args, kwargs)\n",
    "    \n",
    "l = (1, 2, 3)\n",
    "d = {'a':1, 'b':2, 'c':3}"
   ]
  },
  {
   "cell_type": "code",
   "execution_count": 53,
   "id": "powered-south",
   "metadata": {},
   "outputs": [
    {
     "name": "stdout",
     "output_type": "stream",
     "text": [
      "(1, 2, 3) {}\n"
     ]
    }
   ],
   "source": [
    "myfunc(*l)"
   ]
  },
  {
   "cell_type": "code",
   "execution_count": 54,
   "id": "sharing-moral",
   "metadata": {},
   "outputs": [
    {
     "name": "stdout",
     "output_type": "stream",
     "text": [
      "() {'a': 1, 'b': 2, 'c': 3}\n"
     ]
    }
   ],
   "source": [
    "myfunc(**d)"
   ]
  },
  {
   "cell_type": "code",
   "execution_count": 55,
   "id": "downtown-future",
   "metadata": {},
   "outputs": [
    {
     "name": "stdout",
     "output_type": "stream",
     "text": [
      "('a', 'b', 'c') {}\n"
     ]
    }
   ],
   "source": [
    "myfunc(*d) # since by default dictionary will be iterated on items"
   ]
  },
  {
   "cell_type": "code",
   "execution_count": 56,
   "id": "blank-group",
   "metadata": {},
   "outputs": [
    {
     "name": "stdout",
     "output_type": "stream",
     "text": [
      "((1, 2, 3),) {}\n"
     ]
    }
   ],
   "source": [
    "myfunc(l)"
   ]
  },
  {
   "cell_type": "code",
   "execution_count": 57,
   "id": "immediate-afternoon",
   "metadata": {},
   "outputs": [
    {
     "name": "stdout",
     "output_type": "stream",
     "text": [
      "({'a': 1, 'b': 2, 'c': 3},) {}\n"
     ]
    }
   ],
   "source": [
    "myfunc(d)"
   ]
  },
  {
   "cell_type": "code",
   "execution_count": 59,
   "id": "obvious-general",
   "metadata": {},
   "outputs": [
    {
     "name": "stdout",
     "output_type": "stream",
     "text": [
      "(1, 2, 1, 2, 3, 3, 4, 1, 2, 3) {'e': 10, 'f': 12, 'a': 1, 'b': 2, 'c': 3, 'g': 15}\n"
     ]
    }
   ],
   "source": [
    "myfunc(1,2,*l,3,4,*l,e=10,f=12,**d,g=15)"
   ]
  },
  {
   "cell_type": "markdown",
   "id": "completed-lecture",
   "metadata": {},
   "source": [
    "<a id='PartII'></a>\n",
    "## Part II:"
   ]
  },
  {
   "cell_type": "markdown",
   "id": "complimentary-therapist",
   "metadata": {},
   "source": [
    "<a id='Integer'></a>\n",
    "### Integer"
   ]
  },
  {
   "cell_type": "code",
   "execution_count": 1,
   "id": "weekly-concord",
   "metadata": {},
   "outputs": [],
   "source": [
    "a = 3"
   ]
  },
  {
   "cell_type": "code",
   "execution_count": 94,
   "id": "handed-collective",
   "metadata": {},
   "outputs": [],
   "source": [
    "b = 4"
   ]
  },
  {
   "cell_type": "code",
   "execution_count": 88,
   "id": "eligible-details",
   "metadata": {},
   "outputs": [
    {
     "data": {
      "text/plain": [
       "140519649723200"
      ]
     },
     "execution_count": 88,
     "metadata": {},
     "output_type": "execute_result"
    }
   ],
   "source": [
    "id(a) # id is a mapping of variable pointer"
   ]
  },
  {
   "cell_type": "code",
   "execution_count": 74,
   "id": "weekly-discussion",
   "metadata": {
    "scrolled": true
   },
   "outputs": [
    {
     "data": {
      "text/plain": [
       "140519649723232"
      ]
     },
     "execution_count": 74,
     "metadata": {},
     "output_type": "execute_result"
    }
   ],
   "source": [
    "id(b)"
   ]
  },
  {
   "cell_type": "markdown",
   "id": "welsh-evaluation",
   "metadata": {},
   "source": [
    "For small integers:"
   ]
  },
  {
   "cell_type": "code",
   "execution_count": 98,
   "id": "mature-banana",
   "metadata": {},
   "outputs": [
    {
     "data": {
      "text/plain": [
       "(140519649723200, 140519649723200)"
      ]
     },
     "execution_count": 98,
     "metadata": {},
     "output_type": "execute_result"
    }
   ],
   "source": [
    "a = 3\n",
    "b = 3\n",
    "id(a), id(b)"
   ]
  },
  {
   "cell_type": "code",
   "execution_count": 99,
   "id": "dependent-alpha",
   "metadata": {},
   "outputs": [
    {
     "data": {
      "text/plain": [
       "(True, True)"
      ]
     },
     "execution_count": 99,
     "metadata": {},
     "output_type": "execute_result"
    }
   ],
   "source": [
    "a == b, a is b"
   ]
  },
  {
   "cell_type": "markdown",
   "id": "chemical-shock",
   "metadata": {},
   "source": [
    "For big integers:"
   ]
  },
  {
   "cell_type": "code",
   "execution_count": 96,
   "id": "visible-danger",
   "metadata": {},
   "outputs": [
    {
     "data": {
      "text/plain": [
       "(140519300481232, 140519300481456)"
      ]
     },
     "execution_count": 96,
     "metadata": {},
     "output_type": "execute_result"
    }
   ],
   "source": [
    "a = 1000000\n",
    "b = 1000000\n",
    "id(a), id(b)"
   ]
  },
  {
   "cell_type": "code",
   "execution_count": 97,
   "id": "polished-oxide",
   "metadata": {},
   "outputs": [
    {
     "data": {
      "text/plain": [
       "(True, False)"
      ]
     },
     "execution_count": 97,
     "metadata": {},
     "output_type": "execute_result"
    }
   ],
   "source": [
    "a == b, a is b"
   ]
  },
  {
   "cell_type": "markdown",
   "id": "finnish-grave",
   "metadata": {},
   "source": [
    "<a id='List'></a>\n",
    "### List"
   ]
  },
  {
   "cell_type": "code",
   "execution_count": 83,
   "id": "apparent-chamber",
   "metadata": {},
   "outputs": [
    {
     "data": {
      "text/plain": [
       "(140519300119360, 140519300076160)"
      ]
     },
     "execution_count": 83,
     "metadata": {},
     "output_type": "execute_result"
    }
   ],
   "source": [
    "a = [1, 2, 3]\n",
    "b = [1, 2, 3]\n",
    "id(a), id(b)"
   ]
  },
  {
   "cell_type": "code",
   "execution_count": 84,
   "id": "local-bench",
   "metadata": {},
   "outputs": [
    {
     "data": {
      "text/plain": [
       "True"
      ]
     },
     "execution_count": 84,
     "metadata": {},
     "output_type": "execute_result"
    }
   ],
   "source": [
    "a == b # a,b have same values/contents"
   ]
  },
  {
   "cell_type": "code",
   "execution_count": 85,
   "id": "primary-rebate",
   "metadata": {},
   "outputs": [
    {
     "data": {
      "text/plain": [
       "False"
      ]
     },
     "execution_count": 85,
     "metadata": {},
     "output_type": "execute_result"
    }
   ],
   "source": [
    "a is b # a,b are not the same objects"
   ]
  },
  {
   "cell_type": "markdown",
   "id": "fifty-hamilton",
   "metadata": {},
   "source": [
    "### "
   ]
  },
  {
   "cell_type": "markdown",
   "id": "breathing-jesus",
   "metadata": {},
   "source": [
    "<a id='Pass'></a>\n",
    "### Pass-by-value VS pass-by-reference"
   ]
  },
  {
   "cell_type": "markdown",
   "id": "familiar-buffalo",
   "metadata": {},
   "source": [
    "<a id='Pass_by_value'></a>\n",
    "#### Pass by value:"
   ]
  },
  {
   "cell_type": "code",
   "execution_count": 178,
   "id": "american-beatles",
   "metadata": {},
   "outputs": [
    {
     "data": {
      "text/plain": [
       "'Amir Sajedian'"
      ]
     },
     "execution_count": 178,
     "metadata": {},
     "output_type": "execute_result"
    }
   ],
   "source": [
    "def change(mystr):\n",
    "    \n",
    "    mystr = \"Amir Sajedian\"\n",
    "    \n",
    "    return mystr\n",
    "\n",
    "mgh = \"Mohsen Ghodrat\"\n",
    "change(mgh)"
   ]
  },
  {
   "cell_type": "code",
   "execution_count": 122,
   "id": "stuck-kitchen",
   "metadata": {},
   "outputs": [
    {
     "data": {
      "text/plain": [
       "'Mohsen Ghodrat'"
      ]
     },
     "execution_count": 122,
     "metadata": {},
     "output_type": "execute_result"
    }
   ],
   "source": [
    "mgh"
   ]
  },
  {
   "cell_type": "markdown",
   "id": "tamil-honor",
   "metadata": {},
   "source": [
    "<a id='Pass_by_reference'></a>\n",
    "#### Pass by reference:"
   ]
  },
  {
   "cell_type": "code",
   "execution_count": 115,
   "id": "transsexual-antenna",
   "metadata": {},
   "outputs": [],
   "source": [
    "def change_list(mylist):\n",
    "    \n",
    "    mylist[0] = 999\n",
    "    \n",
    "    return mylist"
   ]
  },
  {
   "cell_type": "code",
   "execution_count": 124,
   "id": "mature-interface",
   "metadata": {},
   "outputs": [
    {
     "data": {
      "text/plain": [
       "[999, 2, 3, 4, 5]"
      ]
     },
     "execution_count": 124,
     "metadata": {},
     "output_type": "execute_result"
    }
   ],
   "source": [
    "old_list = [1, 2, 3, 4, 5]\n",
    "change_list(old_list)"
   ]
  },
  {
   "cell_type": "code",
   "execution_count": 113,
   "id": "earlier-coordination",
   "metadata": {},
   "outputs": [
    {
     "data": {
      "text/plain": [
       "[999, 2, 3, 4, 5]"
      ]
     },
     "execution_count": 113,
     "metadata": {},
     "output_type": "execute_result"
    }
   ],
   "source": [
    "old_list"
   ]
  },
  {
   "cell_type": "markdown",
   "id": "interested-papua",
   "metadata": {},
   "source": [
    "BUT: WHY? "
   ]
  },
  {
   "cell_type": "code",
   "execution_count": 179,
   "id": "automatic-anniversary",
   "metadata": {},
   "outputs": [
    {
     "data": {
      "text/plain": [
       "'Amir Sajedian'"
      ]
     },
     "execution_count": 179,
     "metadata": {},
     "output_type": "execute_result"
    }
   ],
   "source": [
    "mylist = [1,2,3]\n",
    "change(mystr=mylist)"
   ]
  },
  {
   "cell_type": "code",
   "execution_count": null,
   "id": "earlier-kennedy",
   "metadata": {},
   "outputs": [],
   "source": [
    "mylist"
   ]
  },
  {
   "cell_type": "markdown",
   "id": "comparative-ordering",
   "metadata": {},
   "source": [
    "##### Answer: \n",
    "\n",
    "We pass the list \"mylist = [1,2,3]\" to the funtion \"change\" by reference, but in the function we do not chenge it! note that mystr in the function is another variable! "
   ]
  },
  {
   "cell_type": "markdown",
   "id": "representative-medicine",
   "metadata": {},
   "source": [
    "##### General rule: \n",
    "\n",
    "it is a convention in python (does not relate to mutability or unmutability. IT IS BASED ON DATA TYPE. In fact, it relates to efficieny)\n",
    "\n",
    "Pass by value: string, integer\n",
    "\n",
    "Pass by reference: list, tuple, dictionary, set (they have the potential to become bigger)"
   ]
  },
  {
   "cell_type": "markdown",
   "id": "signal-importance",
   "metadata": {},
   "source": [
    "###### Solution to keep the input to functioin unchanged:"
   ]
  },
  {
   "cell_type": "code",
   "execution_count": 1,
   "id": "according-appointment",
   "metadata": {},
   "outputs": [
    {
     "name": "stdout",
     "output_type": "stream",
     "text": [
      "[1, 2, 3] [999999, 2, 3]\n"
     ]
    }
   ],
   "source": [
    "def change(mylist):\n",
    "    new_list = mylist.copy()\n",
    "    new_list[0] = 999999\n",
    "    return new_list\n",
    "\n",
    "list_1 = [1,2,3]\n",
    "list_2 = change(list_1)\n",
    "\n",
    "print(list_1, list_2)           "
   ]
  },
  {
   "cell_type": "markdown",
   "id": "interstate-majority",
   "metadata": {},
   "source": [
    "<a id='Some_usefule_functions'></a>\n",
    "## Some useful functions"
   ]
  },
  {
   "cell_type": "markdown",
   "id": "sitting-tracy",
   "metadata": {},
   "source": [
    "<a id='float_int'></a>\n",
    "### Convert float and int"
   ]
  },
  {
   "cell_type": "code",
   "execution_count": 143,
   "id": "challenging-original",
   "metadata": {},
   "outputs": [],
   "source": [
    "float_num = float(1)\n",
    "float_num = float(0.3)"
   ]
  },
  {
   "cell_type": "code",
   "execution_count": 146,
   "id": "compressed-packaging",
   "metadata": {},
   "outputs": [
    {
     "data": {
      "text/plain": [
       "1"
      ]
     },
     "execution_count": 146,
     "metadata": {},
     "output_type": "execute_result"
    }
   ],
   "source": [
    "int_num = int(1.0)\n",
    "int_num = int(1.3)\n",
    "int_num"
   ]
  },
  {
   "cell_type": "markdown",
   "id": "biological-dynamics",
   "metadata": {},
   "source": [
    "<a id='string'></a>\n",
    "### String"
   ]
  },
  {
   "cell_type": "code",
   "execution_count": 147,
   "id": "compliant-nicholas",
   "metadata": {},
   "outputs": [],
   "source": [
    "mystr= \"Mohsen Ghodrat\""
   ]
  },
  {
   "cell_type": "code",
   "execution_count": 152,
   "id": "rising-bonus",
   "metadata": {},
   "outputs": [
    {
     "data": {
      "text/plain": [
       "('Mohsen Ghodrat', 'MOHSEN GHODRAT', 'mohsen ghodrat', 'Mohsen ghodrat')"
      ]
     },
     "execution_count": 152,
     "metadata": {},
     "output_type": "execute_result"
    }
   ],
   "source": [
    "mystr.title(), mystr.upper(), mystr.lower(), mystr.capitalize()"
   ]
  },
  {
   "cell_type": "code",
   "execution_count": 155,
   "id": "parliamentary-billion",
   "metadata": {},
   "outputs": [
    {
     "data": {
      "text/plain": [
       "(False, False)"
      ]
     },
     "execution_count": 155,
     "metadata": {},
     "output_type": "execute_result"
    }
   ],
   "source": [
    "\"Amir Sajedian\".islower(), \"Amir Sajedian\".isupper()"
   ]
  },
  {
   "cell_type": "code",
   "execution_count": 160,
   "id": "varying-split",
   "metadata": {},
   "outputs": [
    {
     "data": {
      "text/plain": [
       "(False, True)"
      ]
     },
     "execution_count": 160,
     "metadata": {},
     "output_type": "execute_result"
    }
   ],
   "source": [
    "mystr = \"4\"\n",
    "mystr.isalpha(), mystr.isdigit()"
   ]
  },
  {
   "cell_type": "code",
   "execution_count": 165,
   "id": "asian-tennessee",
   "metadata": {},
   "outputs": [
    {
     "name": "stdout",
     "output_type": "stream",
     "text": [
      "--> Amir Sajedian <---\n",
      "-->            Amir Sajedian <---\n",
      "--> Amir Sajedian       \n",
      " <---\n"
     ]
    }
   ],
   "source": [
    "myname = \"           Amir Sajedian       \\n\"\n",
    "print(\"-->\", myname.strip(), \"<---\")\n",
    "print(\"-->\", myname.rstrip(), \"<---\")\n",
    "print(\"-->\", myname.lstrip(), \"<---\")"
   ]
  },
  {
   "cell_type": "markdown",
   "id": "recent-tracker",
   "metadata": {},
   "source": [
    "<a id='Multiple_Outputs'></a>\n",
    "## Multiple Outputs:\n",
    "\n",
    "outputs are tuple!"
   ]
  },
  {
   "cell_type": "code",
   "execution_count": 2,
   "id": "contrary-spain",
   "metadata": {},
   "outputs": [],
   "source": [
    "def operations(a, b):\n",
    "    \n",
    "    return a+b, a*b, a-b, a/b"
   ]
  },
  {
   "cell_type": "code",
   "execution_count": 4,
   "id": "entitled-throat",
   "metadata": {},
   "outputs": [
    {
     "data": {
      "text/plain": [
       "(5, 6, -1, 0.6666666666666666)"
      ]
     },
     "execution_count": 4,
     "metadata": {},
     "output_type": "execute_result"
    }
   ],
   "source": [
    "x = operations(2, 3)\n",
    "x"
   ]
  },
  {
   "cell_type": "code",
   "execution_count": 5,
   "id": "aggressive-travel",
   "metadata": {},
   "outputs": [
    {
     "data": {
      "text/plain": [
       "tuple"
      ]
     },
     "execution_count": 5,
     "metadata": {},
     "output_type": "execute_result"
    }
   ],
   "source": [
    "type(x)"
   ]
  },
  {
   "cell_type": "markdown",
   "id": "consecutive-olympus",
   "metadata": {},
   "source": [
    "len(iterable_item) gives the number of that item"
   ]
  },
  {
   "cell_type": "code",
   "execution_count": 6,
   "id": "amazing-membrane",
   "metadata": {},
   "outputs": [
    {
     "data": {
      "text/plain": [
       "4"
      ]
     },
     "execution_count": 6,
     "metadata": {},
     "output_type": "execute_result"
    }
   ],
   "source": [
    "len(x)"
   ]
  },
  {
   "cell_type": "code",
   "execution_count": 15,
   "id": "outstanding-oxford",
   "metadata": {},
   "outputs": [
    {
     "name": "stdout",
     "output_type": "stream",
     "text": [
      "[5, 6, -1, 0.6666666666666666]\n"
     ]
    }
   ],
   "source": [
    "def operations(a, b):\n",
    "    \n",
    "    return [a+b, a*b, a-b, a/b]\n",
    "\n",
    "output = operations(2, 3)\n",
    "print(output)"
   ]
  },
  {
   "cell_type": "code",
   "execution_count": 16,
   "id": "magnetic-invalid",
   "metadata": {},
   "outputs": [
    {
     "data": {
      "text/plain": [
       "4"
      ]
     },
     "execution_count": 16,
     "metadata": {},
     "output_type": "execute_result"
    }
   ],
   "source": [
    "len(output)\n"
   ]
  },
  {
   "cell_type": "code",
   "execution_count": 17,
   "id": "aerial-mounting",
   "metadata": {},
   "outputs": [
    {
     "data": {
      "text/plain": [
       "list"
      ]
     },
     "execution_count": 17,
     "metadata": {},
     "output_type": "execute_result"
    }
   ],
   "source": [
    "type(output)"
   ]
  },
  {
   "cell_type": "code",
   "execution_count": null,
   "id": "destroyed-tooth",
   "metadata": {},
   "outputs": [],
   "source": []
  }
 ],
 "metadata": {
  "kernelspec": {
   "display_name": "Python 3",
   "language": "python",
   "name": "python3"
  },
  "language_info": {
   "codemirror_mode": {
    "name": "ipython",
    "version": 3
   },
   "file_extension": ".py",
   "mimetype": "text/x-python",
   "name": "python",
   "nbconvert_exporter": "python",
   "pygments_lexer": "ipython3",
   "version": "3.7.9"
  }
 },
 "nbformat": 4,
 "nbformat_minor": 5
}
