{
 "cells": [
  {
   "cell_type": "markdown",
   "id": "recorded-embassy",
   "metadata": {},
   "source": [
    "# 07.2 Modular Programming (Part #2 Packages)\n",
    "\n",
    "## 1. Packages\n",
    "Suppose you have developed a very large application that includes many modules. As the number of modules grows, it becomes difficult to keep track of them all if they are dumped into one location. This is particularly so if they have similar names or functionality. You might wish for a means of grouping and organizing them.\n",
    "\n",
    "**Packages** allow for a hierarchical structuring of the module namespace using **dot notation**.\n",
    "\n",
    "- **Modules** help avoid collisions between global variable names.\n",
    "- **Packages** help avoid collisions between module names.\n",
    "\n",
    "Creating a package is quite straightforward, since it makes use of the operating system’s inherent hierarchical file structure. Consider the following arrangement:\n",
    "\n",
    "![package](../images/package.png)\n",
    "\n",
    "Here, there is a directory named pkg that contains two modules, `mod1.py` and `mod2.py`. The contents of the modules are:"
   ]
  },
  {
   "cell_type": "code",
   "execution_count": 6,
   "id": "incorrect-karen",
   "metadata": {},
   "outputs": [
    {
     "name": "stdout",
     "output_type": "stream",
     "text": [
      "Writing ../files/pkg/mod1.py\n"
     ]
    }
   ],
   "source": [
    "%%writefile ../files/pkg/mod1.py\n",
    "def add(a, b):\n",
    "    return a + b\n",
    "\n",
    "class Foo:\n",
    "    pass"
   ]
  },
  {
   "cell_type": "code",
   "execution_count": 8,
   "id": "incoming-margin",
   "metadata": {},
   "outputs": [
    {
     "name": "stdout",
     "output_type": "stream",
     "text": [
      "Writing ../files/pkg/mod2.py\n"
     ]
    }
   ],
   "source": [
    "%%writefile ../files/pkg/mod2.py\n",
    "def multiply(a, b):\n",
    "    return a * b\n",
    "\n",
    "class Bar:\n",
    "    pass"
   ]
  },
  {
   "cell_type": "markdown",
   "id": "initial-suspect",
   "metadata": {},
   "source": [
    "Given this structure, if the pkg directory resides in a location where it can be found (in one of the directories contained in sys.path), you can refer to the two modules with **dot notation** (`pkg.mod1`, `pkg.mod2`) and import them with the syntax you are already familiar with:"
   ]
  },
  {
   "cell_type": "code",
   "execution_count": 9,
   "id": "victorian-agent",
   "metadata": {},
   "outputs": [
    {
     "data": {
      "text/plain": [
       "['/home/mgh/CS-Tutorial/Python/03. Modular Programming',\n",
       " '/home/mgh/anaconda3/envs/py37/lib/python37.zip',\n",
       " '/home/mgh/anaconda3/envs/py37/lib/python3.7',\n",
       " '/home/mgh/anaconda3/envs/py37/lib/python3.7/lib-dynload',\n",
       " '',\n",
       " '/home/mgh/anaconda3/envs/py37/lib/python3.7/site-packages',\n",
       " '/home/mgh/anaconda3/envs/py37/lib/python3.7/site-packages/IPython/extensions',\n",
       " '/home/mgh/.ipython']"
      ]
     },
     "execution_count": 9,
     "metadata": {},
     "output_type": "execute_result"
    }
   ],
   "source": [
    "import sys\n",
    "sys.path"
   ]
  },
  {
   "cell_type": "code",
   "execution_count": 11,
   "id": "stupid-saturday",
   "metadata": {},
   "outputs": [],
   "source": [
    "# pkg_1 directory is in files directory\n",
    "sys.path.append(\"../files\")"
   ]
  },
  {
   "cell_type": "markdown",
   "id": "talented-upgrade",
   "metadata": {},
   "source": [
    "You can technically import the package:"
   ]
  },
  {
   "cell_type": "code",
   "execution_count": 12,
   "id": "regulated-container",
   "metadata": {},
   "outputs": [],
   "source": [
    "import pkg"
   ]
  },
  {
   "cell_type": "code",
   "execution_count": 13,
   "id": "intense-resistance",
   "metadata": {},
   "outputs": [
    {
     "data": {
      "text/plain": [
       "<module 'pkg' (namespace)>"
      ]
     },
     "execution_count": 13,
     "metadata": {},
     "output_type": "execute_result"
    }
   ],
   "source": [
    "pkg"
   ]
  },
  {
   "cell_type": "markdown",
   "id": "current-lesbian",
   "metadata": {},
   "source": [
    "Though this is, strictly speaking, a syntactically correct Python statement, it doesn’t do much of anything useful. In particular, it does not place any of the modules in `pkg` into the local namespace:"
   ]
  },
  {
   "cell_type": "code",
   "execution_count": 14,
   "id": "statewide-sierra",
   "metadata": {},
   "outputs": [
    {
     "ename": "AttributeError",
     "evalue": "module 'pkg' has no attribute 'mod1'",
     "output_type": "error",
     "traceback": [
      "\u001b[0;31m---------------------------------------------------------------------------\u001b[0m",
      "\u001b[0;31mAttributeError\u001b[0m                            Traceback (most recent call last)",
      "\u001b[0;32m<ipython-input-14-ae2cb026844a>\u001b[0m in \u001b[0;36m<module>\u001b[0;34m\u001b[0m\n\u001b[0;32m----> 1\u001b[0;31m \u001b[0mpkg\u001b[0m\u001b[0;34m.\u001b[0m\u001b[0mmod1\u001b[0m\u001b[0;34m\u001b[0m\u001b[0;34m\u001b[0m\u001b[0m\n\u001b[0m",
      "\u001b[0;31mAttributeError\u001b[0m: module 'pkg' has no attribute 'mod1'"
     ]
    }
   ],
   "source": [
    "pkg.mod1"
   ]
  },
  {
   "cell_type": "code",
   "execution_count": 15,
   "id": "incorrect-world",
   "metadata": {},
   "outputs": [
    {
     "ename": "AttributeError",
     "evalue": "module 'pkg' has no attribute 'mod'",
     "output_type": "error",
     "traceback": [
      "\u001b[0;31m---------------------------------------------------------------------------\u001b[0m",
      "\u001b[0;31mAttributeError\u001b[0m                            Traceback (most recent call last)",
      "\u001b[0;32m<ipython-input-15-e8074c7a09ed>\u001b[0m in \u001b[0;36m<module>\u001b[0;34m\u001b[0m\n\u001b[0;32m----> 1\u001b[0;31m \u001b[0mpkg\u001b[0m\u001b[0;34m.\u001b[0m\u001b[0mmod\u001b[0m\u001b[0;34m.\u001b[0m\u001b[0madd\u001b[0m\u001b[0;34m(\u001b[0m\u001b[0;34m)\u001b[0m\u001b[0;34m\u001b[0m\u001b[0;34m\u001b[0m\u001b[0m\n\u001b[0m",
      "\u001b[0;31mAttributeError\u001b[0m: module 'pkg' has no attribute 'mod'"
     ]
    }
   ],
   "source": [
    "pkg.mod.add()"
   ]
  },
  {
   "cell_type": "markdown",
   "id": "collective-england",
   "metadata": {},
   "source": [
    "To actually import the modules or their contents, you need to use one of the forms shown below:"
   ]
  },
  {
   "cell_type": "code",
   "execution_count": 16,
   "id": "geological-mentor",
   "metadata": {},
   "outputs": [
    {
     "data": {
      "text/plain": [
       "12"
      ]
     },
     "execution_count": 16,
     "metadata": {},
     "output_type": "execute_result"
    }
   ],
   "source": [
    "import pkg.mod1, pkg.mod2\n",
    "\n",
    "pkg.mod1.add(6, 5)\n",
    "pkg.mod2.multiply(3, 4)"
   ]
  },
  {
   "cell_type": "code",
   "execution_count": 17,
   "id": "smooth-edinburgh",
   "metadata": {},
   "outputs": [
    {
     "data": {
      "text/plain": [
       "11"
      ]
     },
     "execution_count": 17,
     "metadata": {},
     "output_type": "execute_result"
    }
   ],
   "source": [
    "from pkg.mod1 import add\n",
    "\n",
    "add(6, 5)"
   ]
  },
  {
   "cell_type": "code",
   "execution_count": 18,
   "id": "tender-champion",
   "metadata": {},
   "outputs": [
    {
     "data": {
      "text/plain": [
       "11"
      ]
     },
     "execution_count": 18,
     "metadata": {},
     "output_type": "execute_result"
    }
   ],
   "source": [
    "from pkg.mod1 import add as add_numbers\n",
    "\n",
    "add_numbers(6, 5)"
   ]
  },
  {
   "cell_type": "markdown",
   "id": "molecular-reason",
   "metadata": {},
   "source": [
    "## 2. Package Initialization"
   ]
  },
  {
   "cell_type": "code",
   "execution_count": 19,
   "id": "split-trigger",
   "metadata": {},
   "outputs": [],
   "source": [
    "# removing previously imported modules and packages\n",
    "del pkg, add, add_numbers"
   ]
  },
  {
   "cell_type": "markdown",
   "id": "southeast-ticket",
   "metadata": {},
   "source": [
    "If a file named `__init__.py` is present in a package directory, it is invoked when the package or a module in the package is imported. This can be used for execution of package initialization code, such as initialization of package-level data.\n",
    "\n",
    "For example, consider the following `__init__.py` file:"
   ]
  },
  {
   "cell_type": "code",
   "execution_count": 24,
   "id": "incoming-stretch",
   "metadata": {},
   "outputs": [
    {
     "name": "stdout",
     "output_type": "stream",
     "text": [
      "Writing ../files/pkg/__init__.py\n"
     ]
    }
   ],
   "source": [
    "%%writefile ../files/pkg/__init__.py\n",
    "print(f'Invoking __init__.py for {__name__}')\n",
    "A = ['item_1', 'item_2', 'item_3']"
   ]
  },
  {
   "cell_type": "markdown",
   "id": "concrete-defensive",
   "metadata": {},
   "source": [
    "Let’s add this file to the pkg directory from the above example:\n",
    "\n",
    "![init](../images/init.png)"
   ]
  },
  {
   "cell_type": "code",
   "execution_count": 25,
   "id": "compressed-wholesale",
   "metadata": {},
   "outputs": [],
   "source": [
    "import pkg"
   ]
  },
  {
   "cell_type": "code",
   "execution_count": 26,
   "id": "senior-williams",
   "metadata": {},
   "outputs": [
    {
     "name": "stdout",
     "output_type": "stream",
     "text": [
      "Invoking __init__.py for pkg\n"
     ]
    },
    {
     "data": {
      "text/plain": [
       "<module 'pkg' from '../files/pkg/__init__.py'>"
      ]
     },
     "execution_count": 26,
     "metadata": {},
     "output_type": "execute_result"
    }
   ],
   "source": [
    "# pkg is loaded already, so we have to reload it to make __init__.py be executed again.\n",
    "from importlib import reload\n",
    "\n",
    "reload(pkg)"
   ]
  },
  {
   "cell_type": "markdown",
   "id": "simple-pitch",
   "metadata": {},
   "source": [
    "Now when the package is imported, the global list `A` is initialized:"
   ]
  },
  {
   "cell_type": "code",
   "execution_count": 27,
   "id": "increasing-living",
   "metadata": {},
   "outputs": [
    {
     "data": {
      "text/plain": [
       "['item_1', 'item_2', 'item_3']"
      ]
     },
     "execution_count": 27,
     "metadata": {},
     "output_type": "execute_result"
    }
   ],
   "source": [
    "pkg.A"
   ]
  },
  {
   "cell_type": "markdown",
   "id": "expected-wilson",
   "metadata": {},
   "source": [
    "A module in the package can access the global variable by importing it in turn:"
   ]
  },
  {
   "cell_type": "code",
   "execution_count": 29,
   "id": "creative-hollywood",
   "metadata": {},
   "outputs": [
    {
     "name": "stdout",
     "output_type": "stream",
     "text": [
      "Overwriting ../files/pkg/mod1.py\n"
     ]
    }
   ],
   "source": [
    "%%writefile ../files/pkg/mod1.py\n",
    "from pkg import A\n",
    "print(A)\n",
    "\n",
    "def add(a, b):\n",
    "    return a + b\n",
    "\n",
    "class Foo:\n",
    "    pass"
   ]
  },
  {
   "cell_type": "code",
   "execution_count": 30,
   "id": "serious-monitor",
   "metadata": {},
   "outputs": [],
   "source": [
    "from pkg import mod1"
   ]
  },
  {
   "cell_type": "code",
   "execution_count": 31,
   "id": "competent-cement",
   "metadata": {},
   "outputs": [
    {
     "name": "stdout",
     "output_type": "stream",
     "text": [
      "['item_1', 'item_2', 'item_3']\n"
     ]
    },
    {
     "data": {
      "text/plain": [
       "<module 'pkg.mod1' from '../files/pkg/mod1.py'>"
      ]
     },
     "execution_count": 31,
     "metadata": {},
     "output_type": "execute_result"
    }
   ],
   "source": [
    "# mod1 is already imported, reloading it to show how print(A) works.\n",
    "reload(mod1)"
   ]
  },
  {
   "cell_type": "code",
   "execution_count": 32,
   "id": "normal-donna",
   "metadata": {},
   "outputs": [
    {
     "data": {
      "text/plain": [
       "5"
      ]
     },
     "execution_count": 32,
     "metadata": {},
     "output_type": "execute_result"
    }
   ],
   "source": [
    "mod1.add(2, 3)"
   ]
  },
  {
   "cell_type": "markdown",
   "id": "faced-colors",
   "metadata": {},
   "source": [
    "`__init__.py` can also be used to effect automatic importing of modules from a package. For example, earlier you saw that the statement `import pkg` only places the name pkg in the caller’s local symbol table and doesn’t import any modules. But if `__init__.py` in the pkg directory contains the following:"
   ]
  },
  {
   "cell_type": "code",
   "execution_count": 33,
   "id": "ready-geneva",
   "metadata": {},
   "outputs": [
    {
     "name": "stdout",
     "output_type": "stream",
     "text": [
      "Overwriting ../files/pkg/__init__.py\n"
     ]
    }
   ],
   "source": [
    "%%writefile ../files/pkg/__init__.py\n",
    "print(f'Invoking __init__.py for {__name__}')\n",
    "A = ['item_1', 'item_2', 'item_3']\n",
    "import pkg.mod1, pkg.mod2"
   ]
  },
  {
   "cell_type": "markdown",
   "id": "accredited-class",
   "metadata": {},
   "source": [
    "Then when you execute `import pkg`, modules `mod1` and `mod2` are imported automatically."
   ]
  },
  {
   "cell_type": "code",
   "execution_count": 34,
   "id": "american-category",
   "metadata": {},
   "outputs": [],
   "source": [
    "import pkg"
   ]
  },
  {
   "cell_type": "code",
   "execution_count": 35,
   "id": "sound-analyst",
   "metadata": {},
   "outputs": [
    {
     "data": {
      "text/plain": [
       "(<module 'pkg.mod1' from '../files/pkg/mod1.py'>,\n",
       " <module 'pkg.mod2' from '../files/pkg/mod2.py'>)"
      ]
     },
     "execution_count": 35,
     "metadata": {},
     "output_type": "execute_result"
    }
   ],
   "source": [
    "pkg.mod1, pkg.mod2"
   ]
  },
  {
   "cell_type": "markdown",
   "id": "broke-dublin",
   "metadata": {},
   "source": [
    "**Note:** Much of the Python documentation states that an `__init__.py` file must be present in the package directory when creating a package. This was once true. It used to be that the very presence of `__init__.py` signified to Python that a package was being defined. The file could contain initialization code or even be empty, but **it had to be present**.\n",
    "\n",
    "Starting with **Python 3.3**, Implicit Namespace Packages were introduced. These allow for the creation of a package without any `init.py` file. Of course, **it can still be present if package initialization is needed**. But it is no longer required."
   ]
  },
  {
   "cell_type": "markdown",
   "id": "funded-monday",
   "metadata": {},
   "source": [
    "## 3. Importing * From a Package\n",
    "\n",
    "You have already seen that when import * is used for a module, all objects from the module are imported into the local symbol table, except those whose names begin with an underscore, as always\n",
    "\n",
    "The analogous statement for a **package** is this:\n",
    "\n",
    "> `from <package_name> import *`"
   ]
  },
  {
   "cell_type": "code",
   "execution_count": 36,
   "id": "artistic-school",
   "metadata": {},
   "outputs": [
    {
     "ename": "NameError",
     "evalue": "name 'mod2' is not defined",
     "output_type": "error",
     "traceback": [
      "\u001b[0;31m---------------------------------------------------------------------------\u001b[0m",
      "\u001b[0;31mNameError\u001b[0m                                 Traceback (most recent call last)",
      "\u001b[0;32m<ipython-input-36-ed08db10d81e>\u001b[0m in \u001b[0;36m<module>\u001b[0;34m\u001b[0m\n\u001b[0;32m----> 1\u001b[0;31m \u001b[0;32mdel\u001b[0m \u001b[0mmod1\u001b[0m\u001b[0;34m,\u001b[0m \u001b[0mmod2\u001b[0m\u001b[0;34m\u001b[0m\u001b[0;34m\u001b[0m\u001b[0m\n\u001b[0m",
      "\u001b[0;31mNameError\u001b[0m: name 'mod2' is not defined"
     ]
    }
   ],
   "source": [
    "del mod1, mod2"
   ]
  },
  {
   "cell_type": "code",
   "execution_count": 37,
   "id": "muslim-oxide",
   "metadata": {},
   "outputs": [
    {
     "name": "stdout",
     "output_type": "stream",
     "text": [
      "Overwriting ../files/pkg/__init__.py\n"
     ]
    }
   ],
   "source": [
    "%%writefile ../files/pkg/__init__.py\n",
    "print(f'Invoking __init__.py for {__name__}')\n",
    "A = ['item_1', 'item_2', 'item_3']"
   ]
  },
  {
   "cell_type": "code",
   "execution_count": 38,
   "id": "vertical-missile",
   "metadata": {},
   "outputs": [],
   "source": [
    "from pkg import *"
   ]
  },
  {
   "cell_type": "code",
   "execution_count": 39,
   "id": "modular-remark",
   "metadata": {},
   "outputs": [
    {
     "data": {
      "text/plain": [
       "['A',\n",
       " 'In',\n",
       " 'Out',\n",
       " '_',\n",
       " '_13',\n",
       " '_16',\n",
       " '_17',\n",
       " '_18',\n",
       " '_22',\n",
       " '_26',\n",
       " '_27',\n",
       " '_31',\n",
       " '_32',\n",
       " '_35',\n",
       " '_9',\n",
       " '__',\n",
       " '___',\n",
       " '__builtin__',\n",
       " '__builtins__',\n",
       " '__doc__',\n",
       " '__loader__',\n",
       " '__name__',\n",
       " '__package__',\n",
       " '__spec__',\n",
       " '_dh',\n",
       " '_i',\n",
       " '_i1',\n",
       " '_i10',\n",
       " '_i11',\n",
       " '_i12',\n",
       " '_i13',\n",
       " '_i14',\n",
       " '_i15',\n",
       " '_i16',\n",
       " '_i17',\n",
       " '_i18',\n",
       " '_i19',\n",
       " '_i2',\n",
       " '_i20',\n",
       " '_i21',\n",
       " '_i22',\n",
       " '_i23',\n",
       " '_i24',\n",
       " '_i25',\n",
       " '_i26',\n",
       " '_i27',\n",
       " '_i28',\n",
       " '_i29',\n",
       " '_i3',\n",
       " '_i30',\n",
       " '_i31',\n",
       " '_i32',\n",
       " '_i33',\n",
       " '_i34',\n",
       " '_i35',\n",
       " '_i36',\n",
       " '_i37',\n",
       " '_i38',\n",
       " '_i39',\n",
       " '_i4',\n",
       " '_i5',\n",
       " '_i6',\n",
       " '_i7',\n",
       " '_i8',\n",
       " '_i9',\n",
       " '_ih',\n",
       " '_ii',\n",
       " '_iii',\n",
       " '_oh',\n",
       " 'exit',\n",
       " 'get_ipython',\n",
       " 'mod1',\n",
       " 'mod2',\n",
       " 'pkg',\n",
       " 'quit',\n",
       " 'reload',\n",
       " 'sys']"
      ]
     },
     "execution_count": 39,
     "metadata": {},
     "output_type": "execute_result"
    }
   ],
   "source": [
    "dir()"
   ]
  },
  {
   "cell_type": "markdown",
   "id": "actual-niger",
   "metadata": {},
   "source": [
    "You might have expected (assuming you had any expectations at all) that Python would dive down into the package directory, find all the modules it could, and import them all. But as you can see, by default that is not what happens.\n",
    "\n",
    "Instead, Python follows this convention: if the `__init__.py` file in the package directory contains a list named `__all__`, it is taken to be a list of modules that should be imported when the statement from `<package_name>` import * is encountered."
   ]
  },
  {
   "cell_type": "code",
   "execution_count": 40,
   "id": "together-spider",
   "metadata": {},
   "outputs": [
    {
     "name": "stdout",
     "output_type": "stream",
     "text": [
      "Overwriting ../files/pkg/__init__.py\n"
     ]
    }
   ],
   "source": [
    "%%writefile ../files/pkg/__init__.py\n",
    "print(f'Invoking __init__.py for {__name__}')\n",
    "A = ['item_1', 'item_2', 'item_3']\n",
    "\n",
    "__all__ = ['mod1', 'mod2']"
   ]
  },
  {
   "cell_type": "code",
   "execution_count": 41,
   "id": "dried-wichita",
   "metadata": {},
   "outputs": [],
   "source": [
    "from pkg import *"
   ]
  },
  {
   "cell_type": "code",
   "execution_count": 42,
   "id": "loose-purpose",
   "metadata": {},
   "outputs": [
    {
     "data": {
      "text/plain": [
       "['A',\n",
       " 'In',\n",
       " 'Out',\n",
       " '_',\n",
       " '_13',\n",
       " '_16',\n",
       " '_17',\n",
       " '_18',\n",
       " '_22',\n",
       " '_26',\n",
       " '_27',\n",
       " '_31',\n",
       " '_32',\n",
       " '_35',\n",
       " '_39',\n",
       " '_9',\n",
       " '__',\n",
       " '___',\n",
       " '__builtin__',\n",
       " '__builtins__',\n",
       " '__doc__',\n",
       " '__loader__',\n",
       " '__name__',\n",
       " '__package__',\n",
       " '__spec__',\n",
       " '_dh',\n",
       " '_i',\n",
       " '_i1',\n",
       " '_i10',\n",
       " '_i11',\n",
       " '_i12',\n",
       " '_i13',\n",
       " '_i14',\n",
       " '_i15',\n",
       " '_i16',\n",
       " '_i17',\n",
       " '_i18',\n",
       " '_i19',\n",
       " '_i2',\n",
       " '_i20',\n",
       " '_i21',\n",
       " '_i22',\n",
       " '_i23',\n",
       " '_i24',\n",
       " '_i25',\n",
       " '_i26',\n",
       " '_i27',\n",
       " '_i28',\n",
       " '_i29',\n",
       " '_i3',\n",
       " '_i30',\n",
       " '_i31',\n",
       " '_i32',\n",
       " '_i33',\n",
       " '_i34',\n",
       " '_i35',\n",
       " '_i36',\n",
       " '_i37',\n",
       " '_i38',\n",
       " '_i39',\n",
       " '_i4',\n",
       " '_i40',\n",
       " '_i41',\n",
       " '_i42',\n",
       " '_i5',\n",
       " '_i6',\n",
       " '_i7',\n",
       " '_i8',\n",
       " '_i9',\n",
       " '_ih',\n",
       " '_ii',\n",
       " '_iii',\n",
       " '_oh',\n",
       " 'exit',\n",
       " 'get_ipython',\n",
       " 'mod1',\n",
       " 'mod2',\n",
       " 'pkg',\n",
       " 'quit',\n",
       " 'reload',\n",
       " 'sys']"
      ]
     },
     "execution_count": 42,
     "metadata": {},
     "output_type": "execute_result"
    }
   ],
   "source": [
    "dir()"
   ]
  },
  {
   "cell_type": "markdown",
   "id": "medium-latitude",
   "metadata": {},
   "source": [
    "Using import * still isn’t considered terrific form, any more for packages than for modules. But this facility at least gives the creator of the package some control over what happens when import * is specified. (In fact, it provides the capability to disallow it entirely, simply by declining to define `__all__` at all. As you have seen, the default behavior for packages is to import nothing.)\n",
    "\n",
    "By the way, `__all__` can be defined in a module as well and serves the same purpose: to control what is imported with import *. For example, modify `mod1.py` as follows:"
   ]
  },
  {
   "cell_type": "code",
   "execution_count": 43,
   "id": "further-chosen",
   "metadata": {},
   "outputs": [
    {
     "name": "stdout",
     "output_type": "stream",
     "text": [
      "Overwriting ../files/pkg/mod1.py\n"
     ]
    }
   ],
   "source": [
    "%%writefile ../files/pkg/mod1.py\n",
    "__all__ = ['foo']\n",
    "\n",
    "def foo():\n",
    "    print('[mod1] foo()')\n",
    "\n",
    "class Foo:\n",
    "    pass"
   ]
  },
  {
   "cell_type": "markdown",
   "id": "alone-absolute",
   "metadata": {},
   "source": [
    "Now from `pkg.mod1` import * statement from pkg.mod1 will only `import` what is contained in `__all__`.\n",
    "\n",
    "**Summary:**\n",
    "\n",
    "`__all__` is used by both packages and modules to control what is imported when `import` * is specified. But the default behavior differs:\n",
    "\n",
    "For a package, when `__all__` is not defined, import * does not import anything.\n",
    "For a module, when `__all__` is not defined, import * imports everything (except—you guessed it—names starting with an underscore)."
   ]
  },
  {
   "cell_type": "markdown",
   "id": "given-flashing",
   "metadata": {},
   "source": [
    "## 4. Subpackages\n",
    "\n",
    "Packages can contain nested subpackages to arbitrary depth. For example, let’s make one more modification to the example package directory as follows:\n",
    "\n",
    "![sub_pkg](../images/sub_pkg.png)\n",
    "\n",
    "Importing still works the same as shown previously. Syntax is similar, but additional dot notation is used to separate package name from subpackage name:"
   ]
  },
  {
   "cell_type": "code",
   "execution_count": 44,
   "id": "julian-importance",
   "metadata": {},
   "outputs": [],
   "source": [
    "!mkdir ../files/pkg/sub_pkg_1"
   ]
  },
  {
   "cell_type": "code",
   "execution_count": 47,
   "id": "representative-edwards",
   "metadata": {},
   "outputs": [
    {
     "name": "stdout",
     "output_type": "stream",
     "text": [
      "Overwriting ../files/pkg/sub_pkg_1/mod3.py\n"
     ]
    }
   ],
   "source": [
    "%%writefile ../files/pkg/sub_pkg_1/mod3.py\n",
    "def sub_foo():\n",
    "    print('[mod1.py] foo()')\n",
    "\n",
    "class SubFoo:\n",
    "    pass"
   ]
  },
  {
   "cell_type": "code",
   "execution_count": 52,
   "id": "unexpected-leather",
   "metadata": {},
   "outputs": [],
   "source": [
    "import pkg.sub_pkg_1.mod3 # old:import pkg.sub_pkg_1.mod1 "
   ]
  },
  {
   "cell_type": "markdown",
   "id": "indirect-bloom",
   "metadata": {},
   "source": [
    "In addition, a module in one subpackage can reference objects in a **sibling subpackage** (in the event that the sibling contains some functionality that you need). For example, suppose you want to import and execute function `foo()` (defined in module mod1) from within module mod3. You can either use an **absolute import**:"
   ]
  },
  {
   "cell_type": "code",
   "execution_count": 53,
   "id": "moving-combining",
   "metadata": {},
   "outputs": [
    {
     "name": "stdout",
     "output_type": "stream",
     "text": [
      "Overwriting ../files/pkg/sub_pkg_1/mod4.py\n"
     ]
    }
   ],
   "source": [
    "%%writefile ../files/pkg/sub_pkg_1/mod4.py\n",
    "def sub_bar():\n",
    "    print('[mod2.py] baz()')\n",
    "\n",
    "class SubBar:\n",
    "    pass\n",
    "\n",
    "from pkg.sub_pkg_1.mod3 import sub_foo #from pkg.sub_pkg_1.mod1 import sub_foo\n",
    "sub_foo()"
   ]
  },
  {
   "cell_type": "code",
   "execution_count": 54,
   "id": "turned-sunrise",
   "metadata": {},
   "outputs": [
    {
     "name": "stdout",
     "output_type": "stream",
     "text": [
      "[mod1.py] foo()\n"
     ]
    }
   ],
   "source": [
    "from pkg.sub_pkg_1 import mod4"
   ]
  },
  {
   "cell_type": "markdown",
   "id": "particular-offering",
   "metadata": {},
   "source": [
    "Or you can use a **relative import**, where .. refers to the package one level up. From within `mod1.py`, which is in subpackage `sub_pkg`,\n",
    "\n",
    "- .. evaluates to the parent package (`pkg`), and\n",
    "- .. `sub_pkg` evaluates to subpackage `sub_pkg` of the parent package."
   ]
  },
  {
   "cell_type": "code",
   "execution_count": 55,
   "id": "communist-michigan",
   "metadata": {},
   "outputs": [],
   "source": [
    "!mkdir ../files/pkg/sub_pkg_2"
   ]
  },
  {
   "cell_type": "code",
   "execution_count": 56,
   "id": "sticky-subcommittee",
   "metadata": {},
   "outputs": [
    {
     "name": "stdout",
     "output_type": "stream",
     "text": [
      "Writing ../files/pkg/sub_pkg_2/mod5.py\n"
     ]
    }
   ],
   "source": [
    "%%writefile ../files/pkg/sub_pkg_2/mod5.py\n",
    "from .. import sub_pkg_1\n",
    "print(sub_pkg_1)\n",
    "\n",
    "from ..sub_pkg_1.mod3 import sub_foo\n",
    "sub_foo()"
   ]
  },
  {
   "cell_type": "code",
   "execution_count": 57,
   "id": "capable-seeker",
   "metadata": {},
   "outputs": [
    {
     "name": "stdout",
     "output_type": "stream",
     "text": [
      "<module 'pkg.sub_pkg_1' (namespace)>\n",
      "[mod1.py] foo()\n"
     ]
    }
   ],
   "source": [
    "from pkg.sub_pkg_2 import mod5"
   ]
  },
  {
   "cell_type": "markdown",
   "id": "assigned-amount",
   "metadata": {},
   "source": [
    "**Summary**\n",
    "In modularization section, the following topics are covered:\n",
    "\n",
    "- How to create a Python module\n",
    "- Locations where the Python interpreter searches for a module\n",
    "- How to obtain access to the objects defined in a module with the import statement\n",
    "- How to create a module that is executable as a standalone script\n",
    "- How to organize modules into packages and subpackages\n",
    "- How to control package initialization"
   ]
  },
  {
   "cell_type": "code",
   "execution_count": null,
   "id": "distant-iraqi",
   "metadata": {},
   "outputs": [],
   "source": []
  }
 ],
 "metadata": {
  "kernelspec": {
   "display_name": "Python 3",
   "language": "python",
   "name": "python3"
  },
  "language_info": {
   "codemirror_mode": {
    "name": "ipython",
    "version": 3
   },
   "file_extension": ".py",
   "mimetype": "text/x-python",
   "name": "python",
   "nbconvert_exporter": "python",
   "pygments_lexer": "ipython3",
   "version": "3.7.9"
  }
 },
 "nbformat": 4,
 "nbformat_minor": 5
}
